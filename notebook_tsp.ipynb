{
 "cells": [
  {
   "cell_type": "code",
   "execution_count": 1,
   "metadata": {},
   "outputs": [],
   "source": [
    "import numpy as np\n",
    "import matplotlib.pyplot as plt\n",
    "%matplotlib inline\n",
    "%config InlineBackend.figure_format = 'svg'\n",
    "plt.style.use(\"seaborn\")\n",
    "np.random.seed(42)"
   ]
  },
  {
   "cell_type": "code",
   "execution_count": 3,
   "metadata": {},
   "outputs": [],
   "source": [
    "class Population():\n",
    "    def __init__(self, bag, adjacency_mat):\n",
    "        self.bag = bag # lista com todos os indivíduos\n",
    "        self.parents = []\n",
    "        self.score = 0\n",
    "        self.best = None\n",
    "        self.adjacency_mat = adjacency_mat\n",
    "\n",
    "def init_population(cities, adjacency_mat, n_population):\n",
    "    return Population(\n",
    "    np.asarray([np.random.permutation(cities) for _ in range(n_population)]), \n",
    "    adjacency_mat)"
   ]
  },
  {
   "cell_type": "code",
   "execution_count": 4,
   "metadata": {},
   "outputs": [],
   "source": [
    "cities = [0, 1, 2, 3, 4]\n",
    "\n",
    "adjacency_mat = np.asarray(\n",
    "    [\n",
    "        [0.00, 28.02, 17.12, 27.46, 46.07],\n",
    "        [28.02, 0.00, 34.00, 25.55, 25.55],\n",
    "        [17.12, 34.00, 0.00, 18.03, 57.38],\n",
    "        [27.46, 25.55, 18.03, 0.00, 51.11],\n",
    "        [46.07, 25.55, 57.38, 51.11, 0.00],\n",
    "    ]\n",
    ")\n"
   ]
  },
  {
   "cell_type": "code",
   "execution_count": 5,
   "metadata": {},
   "outputs": [
    {
     "data": {
      "text/plain": [
       "array([[1, 4, 2, 0, 3],\n",
       "       [3, 1, 2, 0, 4],\n",
       "       [1, 0, 3, 4, 2],\n",
       "       [0, 1, 2, 3, 4],\n",
       "       [0, 2, 3, 1, 4]])"
      ]
     },
     "execution_count": 5,
     "metadata": {},
     "output_type": "execute_result"
    }
   ],
   "source": [
    "pop = init_population(cities, adjacency_mat, 5)\n",
    "pop.bag"
   ]
  }
 ],
 "metadata": {
  "interpreter": {
   "hash": "a5bbe5e4d45ec9928765c5567e6688dd9bdb9420263c905f4d8bae3415b1ca6d"
  },
  "kernelspec": {
   "display_name": "Python 3.9.5 64-bit ('pedro': conda)",
   "language": "python",
   "name": "python3"
  },
  "language_info": {
   "codemirror_mode": {
    "name": "ipython",
    "version": 3
   },
   "file_extension": ".py",
   "mimetype": "text/x-python",
   "name": "python",
   "nbconvert_exporter": "python",
   "pygments_lexer": "ipython3",
   "version": "3.9.5"
  },
  "orig_nbformat": 4
 },
 "nbformat": 4,
 "nbformat_minor": 2
}
