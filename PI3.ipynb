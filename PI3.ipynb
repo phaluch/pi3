{
 "cells": [
  {
   "cell_type": "code",
   "execution_count": 9,
   "id": "c106ed07",
   "metadata": {},
   "outputs": [],
   "source": [
    "from collections import defaultdict\n",
    "from random import randint, choice, random\n",
    "from tqdm import tqdm\n",
    "from itertools import permutations\n",
    "\n",
    "class Grafo():\n",
    "    \"\"\"\n",
    "    Classe genérica para grafos, com métodos como menor caminho entre pontos A e B\n",
    "    \"\"\"\n",
    "\n",
    "    def __init__(self) -> None:\n",
    "        self.adj = defaultdict(dict)\n",
    "        self.densidade = None\n",
    "\n",
    "\n",
    "    def contarArestas(self, adj):\n",
    "        return sum([len(adj[v]) for v in adj]) / 2 # Divisão por dois porque cada aresta é contada duas vezes (ida e volta)\n",
    "\n",
    "    def vertices(self):\n",
    "        return set(self.adj.keys())\n",
    "\n",
    "    def popularAutomaticamente(self, vertices, arestas, intervalo=(1,10)):\n",
    "        \"\"\"\n",
    "        Cria um grafo não-direcional com os vertices e arestas.\n",
    "        @param vertices: int, str ou list;\n",
    "            Traz os vértices que serão usados no grafo\n",
    "                        int -> Os vértices serão gerados por range(vertices)\n",
    "                        str -> serão usados os caracteres da string.\n",
    "                                -> Aceita apenas a-zA-Z, e descarta valores duplicados.\n",
    "                        list -> serão usados os elementos da lista. Descarta valores duplicados.\n",
    "                                -> Devem ser hasable items, para serem transformados em set.\n",
    "                        set -> Os elementos do set serão a lista\n",
    "        @param arestas: float, 0 < x <= 1; \n",
    "            Representa a densidade de arestas a serem geradas automaticamente. \n",
    "            O número real será o primeiro valor possível >= ao valor informado.\n",
    "            O grafo será completamente ligado, então o número mínimo de arestas é vertices-1, e o máximo é vertices!\n",
    "        @param intervalo: tupla no formato (min, max) (inclusivos) para gerar aleatoriamente as distâncias entre os vértices.\n",
    "        \"\"\"\n",
    "\n",
    "        if len(self.adj) != 0:\n",
    "            raise Exception('O grafo já está populado. Use .limparGrafo() para apagar todo o conteúdo deste objeto.')\n",
    "        \n",
    "        # Transformando os vértices em set, para poder iterar sobre;\n",
    "        # apesar de virarem as chaves de um dict depois, garantir que sejam hashable e remover duplicidades é bom.\n",
    "        if type(vertices) == int:\n",
    "            vertices = set([x for x in range(vertices)])\n",
    "        elif type(vertices) == str:\n",
    "            vertices = set([x for x in vertices])\n",
    "        elif type(vertices) == list:\n",
    "            vertices = set(vertices)\n",
    "        elif type(vertices) == set:\n",
    "            pass\n",
    "        else:\n",
    "            raise TypeError(f'Variável do tipo {type(vertices)} não é aceita. Esperava int, str ou list')\n",
    "\n",
    "        # Dict com as listas vazias\n",
    "        adj = {v:{} for v in vertices}\n",
    "\n",
    "        # Populando até a densidade\n",
    "        maxArestas = sum(range(len(vertices)))/2 # Porque como é não-direcional, serão contadas duas vezes\n",
    "        minArestas = len(vertices)-1\n",
    "        minPct = minArestas/maxArestas\n",
    "        if minPct > arestas:\n",
    "            arestas = minPct # Garantindo que o grafo será completo, quando usado com o sorted abaixo.\n",
    "        #print(f'maxArestas: {maxArestas}')\n",
    "        curPct = self.contarArestas(adj)/maxArestas\n",
    "        #print(f'{curPct} < {arestas}')\n",
    "\n",
    "        # Fazendo a população inicial A->B->....->N, para garantir que o grafo é conectado\n",
    "        verticesSequenciais = list(vertices)\n",
    "        for i in range(len(vertices)-1):\n",
    "            distancia = randint(*intervalo)\n",
    "            adj[verticesSequenciais[i]][verticesSequenciais[i+1]] = distancia\n",
    "            adj[verticesSequenciais[i+1]][verticesSequenciais[i]] = distancia\n",
    "\n",
    "        while curPct < arestas:\n",
    "            # Escolhendo o primeiro dos valores\n",
    "\n",
    "            A = sorted(vertices, key = lambda x: len(adj[x]))[0] # Pego um dos que tem menos, para distribuir melhor\n",
    "            if len(adj[A].keys()) == len(vertices):\n",
    "                A = sorted(vertices, key = lambda x: len(adj[x]), reverse=True)[0] # Pego um dos que tem menos, para distribuir melhor\n",
    "            possiveisB = vertices - set(adj[A].keys())\n",
    "            possiveisB.remove(A)\n",
    "            B = choice(list(possiveisB))\n",
    "            distancia = randint(*intervalo)\n",
    "            adj[A][B] = distancia\n",
    "            adj[B][A] = distancia\n",
    "            \n",
    "            curPct = self.contarArestas(adj)/maxArestas\n",
    "            #print(f'{curPct} = {self.contarArestas(adj)}/{maxArestas}')\n",
    "            #pprint(adj)\n",
    "            #print(f'{curPct} < {arestas} = {curPct < arestas}')\n",
    "            #input()\n",
    "        self.adj = adj\n",
    "            \n",
    "\n",
    "        #Implementing Dijkstra's Algorithm\n",
    "    def dijkstra(self, inicial):\n",
    "        visited = {inicial : 0}\n",
    "        path = defaultdict(list)\n",
    "\n",
    "        nodes = set(self.adj.keys()) # set(graph.nodes)\n",
    "\n",
    "        while nodes:\n",
    "            minNode = None\n",
    "            for node in nodes:\n",
    "                if node in visited:\n",
    "                    if minNode is None:\n",
    "                        minNode = node\n",
    "                    elif visited[node] < visited[minNode]:\n",
    "                        minNode = node\n",
    "            if minNode is None:\n",
    "                break\n",
    "\n",
    "            nodes.remove(minNode)\n",
    "            currentWeight = visited[minNode]\n",
    "\n",
    "            for edge in self.adj[minNode]:\n",
    "                weight = currentWeight + self.adj[minNode][edge]\n",
    "                if edge not in visited or weight < visited[edge]:\n",
    "                    visited[edge] = weight\n",
    "                    path[edge].append(minNode)\n",
    "        \n",
    "        return visited, path\n",
    "\n",
    "    def preencherMenoresCaminhos(self):\n",
    "        self.menoresDistancias={}\n",
    "        self.melhorCaminho={}\n",
    "        for v in self.vertices():\n",
    "            self.menoresDistancias[v], self.melhorCaminho[v] = self.dijkstra(v)\n",
    "\n",
    "    def caminho(self,x,y):\n",
    "        try:\n",
    "            cam = []\n",
    "            while True:\n",
    "                cam.append(x)\n",
    "                if x == y:\n",
    "                    return cam[::-1]\n",
    "                x = self.melhorCaminho[y][x][0]\n",
    "                \n",
    "        except:\n",
    "            print(self.melhorCaminho[x])\n",
    "            raise Exception(f'x = {x},y = {y}')\n",
    "\n",
    "    def MMC(self, paradas, chance = 1.):\n",
    "        \"\"\"\n",
    "        Mínimo Melhor Caminho para passar por todas as paradas\n",
    "        \"\"\"\n",
    "        primeiro = paradas[0]\n",
    "        outras = paradas[1:]\n",
    "\n",
    "        perms = permutations(outras)\n",
    "        distanciaFinal = False\n",
    "        finalPerm = None\n",
    "        for perm in perms:\n",
    "            perm = [primeiro] + list(perm)\n",
    "            #print(perm)\n",
    "            distancia = 0\n",
    "            for i in range(len(perm)-1):\n",
    "                distancia += self.menoresDistancias[perm[i]][perm[i+1]]\n",
    "                #print(self.menoresDistancias[perm[i]][perm[i+1]],end='+')\n",
    "            if not distanciaFinal:\n",
    "                finalPerm = perm\n",
    "                distanciaFinal = distancia\n",
    "            else:\n",
    "                if random() > chance:\n",
    "                    return distanciaFinal, finalPerm\n",
    "\n",
    "                if distancia < distanciaFinal:\n",
    "                    distanciaFinal = distancia\n",
    "                    finalPerm = perm\n",
    "            #print(f'={distancia}')\n",
    "        return distanciaFinal, finalPerm\n",
    "\n",
    "    def itinerario(self, rota):\n",
    "        itinerario = [rota[0]]\n",
    "        for i in range(len(rota)-1):\n",
    "            itinerario = itinerario + self.caminho(rota[i],rota[i+1])[1:]\n",
    "        return itinerario"
   ]
  },
  {
   "cell_type": "code",
   "execution_count": 139,
   "id": "9e6b7cc9",
   "metadata": {},
   "outputs": [],
   "source": [
    "from random import choice, shuffle, choices\n",
    "import copy\n",
    "from tqdm import tqdm\n",
    "from math import ceil\n",
    "import pandas as pd\n",
    "from datetime import datetime as time\n",
    "\n",
    "class Pacote():\n",
    "    \"\"\"\n",
    "    Item com nome, descrição, origem e destino\n",
    "    \"\"\"\n",
    "\n",
    "    def __init__(self, origem, destino, grafo, nome='Nome Generico', desc='Pacote Generico') -> None:\n",
    "        \"\"\"\n",
    "        @param origem: Nó de origem do \n",
    "        @param nome: String para identificar pacote. Puramente estético\n",
    "        @param desc: Descrição do pacote. Puramente estético\n",
    "        \"\"\"\n",
    "        self.nome = nome\n",
    "        self.desc = desc\n",
    "        self.origem = origem\n",
    "        self.destino = destino\n",
    "        self.grafo = grafo\n",
    "        self.caminho = grafo.caminho(origem,destino)\n",
    "        self.hash = str(self.origem) + '$' + str(self.destino)\n",
    "        self.distancia = grafo.menoresDistancias[origem][destino]\n",
    "\n",
    "    def __repr__(self) -> str:\n",
    "        return f'{str(self.origem)} -> {str(self.destino)}'\n",
    "\n",
    "    def copy(self):\n",
    "        newone = type(self)(self.origem, self.destino, self.grafo)\n",
    "        newone.__dict__.update(self.__dict__)\n",
    "        return newone \n",
    "        \n",
    "\n",
    "\n",
    "class Caminhao():\n",
    "    \"\"\"\n",
    "    Cromossomo do nosso algoritmo genético\n",
    "    \"\"\"\n",
    "\n",
    "    def __init__(self, pacotes, grafo, capacidade = 50, curMMC = None) -> None:\n",
    "        self.pacotes = pacotes\n",
    "        self.capacidade = capacidade\n",
    "        self.grafo = grafo\n",
    "        if curMMC is None:\n",
    "            curMMC = self.grafo.MMC(list(self.getParadas()),.4)\n",
    "            self.melhorCaminho = curMMC[1]\n",
    "        else:\n",
    "            self.melhorCaminho = curMMC\n",
    "\n",
    "    def __str__(self):\n",
    "        resposta = {'pacotes':self.pacotes,\n",
    "                    'capacidade':self.capacidade,\n",
    "                    'melhorCaminho':self.melhorCaminho,\n",
    "                    'getParadas':self.getParadas(),\n",
    "                    'getItinerario':self.getItinerario(),\n",
    "                    'getDistancia':self.getDistancia()}\n",
    "        return str(resposta)\n",
    "\n",
    "    def copy(self):\n",
    "        copiaPacotes = [pacote.copy() for pacote in self.pacotes]\n",
    "        newone = type(self)(copiaPacotes,self.grafo, self.capacidade, self.melhorCaminho)\n",
    "        return newone \n",
    "\n",
    "    def atualizarMelhorCaminho(self):\n",
    "        # Essa função é chamada aqui, em vez de um método, porque tem um componente aleatório\n",
    "        paradas = list(self.getParadas())\n",
    "        if len(paradas) == 0:\n",
    "            self.melhorCaminho = None\n",
    "        else:\n",
    "            curMMC = self.grafo.MMC(paradas,.4)\n",
    "            self.melhorCaminho = curMMC[1]\n",
    "\n",
    "    def npacotes(self):\n",
    "        return len(self.pacotes)\n",
    "\n",
    "    def espacoLivre(self):\n",
    "        return self.capacidade - self.npacotes()\n",
    "        \n",
    "    def getNumPacotesUnicos(self):\n",
    "        hashes = [pacote.hash for pacote in self.pacotes]\n",
    "        hashesUnicos = set(hashes)\n",
    "        return len(hashesUnicos)\n",
    "\n",
    "    def getPctPacotesUnicos(self):\n",
    "        if self.npacotes() == 0:\n",
    "            return 0\n",
    "        return self.getNumPacotesUnicos()/self.npacotes() # Este número tem que diminuir\n",
    "\n",
    "\n",
    "    def getParadas(self):\n",
    "        \"\"\"\n",
    "        Todos os pontos únicos pelos quais o caminhão precisa passar para entregas\n",
    "        \"\"\"\n",
    "        paradas = set()\n",
    "        for pacote in self.pacotes:\n",
    "            paradas.add(pacote.origem)\n",
    "            paradas.add(pacote.destino)\n",
    "        return paradas\n",
    "\n",
    "    def getItinerario(self):\n",
    "        if self.melhorCaminho is None:\n",
    "            return None\n",
    "        return self.grafo.itinerario(self.melhorCaminho)\n",
    "\n",
    "    def getDistancia(self):\n",
    "\n",
    "        if self.getItinerario() is None:\n",
    "            return 0\n",
    "        total = 0\n",
    "        for i in range(len(self.getItinerario())-1):\n",
    "            x, y = self.getItinerario()[i], self.getItinerario()[i+1]\n",
    "            total += self.grafo.menoresDistancias[x][y]\n",
    "        return total # Este número tem que diminuir\n",
    "\n",
    "\n",
    "class ConjuntoDeCaminhoes():\n",
    "    def __init__(self, frota, pacotes) -> None:\n",
    "        self.pacotes = pacotes\n",
    "        if len(frota) < 1:\n",
    "            raise ValueError('A lista não pode estar vazia.')\n",
    "        self.frota = frota\n",
    "\n",
    "    def copy(self):\n",
    "        copiaPacotes = []\n",
    "        copiaCaminhoes = {i:self.frota[i].copy() for i in self.frota}\n",
    "        for i in copiaCaminhoes:\n",
    "            copiaPacotes.append(copiaCaminhoes[i].pacotes)\n",
    "\n",
    "        newone = type(self)(copiaCaminhoes, copiaPacotes)\n",
    "        return newone \n",
    "        \n",
    "    def getDistanciaTotal(self):\n",
    "        return sum([caminhao.getDistancia() for caminhao in self.frota.values()])\n",
    "        #self.distanciaTotal = sum([caminhao.getDistancia() for caminhao in self.frota.values()])\n",
    "\n",
    "    def adicionarPacoteAleatoriamente(self, pacote):\n",
    "        caminhaoAleatorio = choice(self.frota.keys())\n",
    "        caminhaoAleatorio.append(pacote)\n",
    "        caminhaoAleatorio.atualizarMelhorCaminho()\n",
    "\n",
    "class AGPI3():\n",
    "    def __init__(self) -> None:\n",
    "        self.fitnessGeracoes = {}        \n",
    "        self.curGeracao = 0\n",
    "\n",
    "    def gerarGrafo(self, vertices, arestas, intervalo=(1,10)):\n",
    "        self.grafo = Grafo()\n",
    "        self.grafo.popularAutomaticamente(vertices, arestas, intervalo)\n",
    "        self.grafo.preencherMenoresCaminhos()\n",
    "\n",
    "    def gerarPacotes(self, nPacotes=40, origem = None):\n",
    "        pacotes = []\n",
    "        for _ in range(nPacotes):\n",
    "            \n",
    "            if origem is None:\n",
    "                origem = choice(list(self.grafo.vertices()))\n",
    "            destino = choice(list(self.grafo.vertices()))\n",
    "            curPacote = Pacote(origem, destino, self.grafo)\n",
    "            pacotes.append(curPacote)\n",
    "        return pacotes\n",
    "\n",
    "    def gerarCaminhao(self, pacotes, capacidade = 50):\n",
    "        caminhao = Caminhao(pacotes,self.grafo, capacidade = 50)\n",
    "        return caminhao\n",
    "\n",
    "    def gerarIndividuo(self, n_caminhoes, pacotes = None, origem = None, capacidade = 50):\n",
    "        \n",
    "        if type(pacotes) == int:\n",
    "            pacotes = self.gerarPacotes(nPacotes=pacotes, origem=origem)\n",
    "        elif type(pacotes) != list:\n",
    "            raise(f'O tipo {type(pacotes)} não é aceito para a variável pacotes. Esperado: int, list')\n",
    "        individuo = {i:self.gerarCaminhao(pacotes[i::n_caminhoes], capacidade) for i in range(n_caminhoes)}\n",
    "        return ConjuntoDeCaminhoes(individuo, pacotes)\n",
    "\n",
    "    def gerarPopulacao(self, n_individuos, n_caminhoes, pacotes = None, origem=None, capacidade = 50):\n",
    "        pop = []\n",
    "        for _ in tqdm(range(n_individuos)):\n",
    "            pop.append(self.gerarIndividuo(n_caminhoes,pacotes=pacotes,origem=origem, capacidade = capacidade))\n",
    "        self.pop = pop\n",
    "        # Reset desses valores ao gerar nova população, pra poder usar o mesmo conjunto de pacotes.\n",
    "        self.fitnessGeracoes = {}        \n",
    "        self.curGeracao = 0\n",
    "\n",
    "\n",
    "    # CLASSES DE TREINAMENTO\n",
    "    def fitness(self, ind):\n",
    "        # Para o caminhao -> diminuir o percentual único\n",
    "        # Para o individuo -> diminuir a distanciaTotal\n",
    "        \n",
    "        somaPctUnico = sum([caminhao.getPctPacotesUnicos() for caminhao in ind.frota.values()])\n",
    "        nCaminhoes = len(ind.frota)\n",
    "        somaPonderada = somaPctUnico/nCaminhoes\n",
    "\n",
    "        listaParadas = [caminhao.getParadas() for caminhao in ind.frota.values() if caminhao.getParadas()]\n",
    "        intersection = set.intersection(*listaParadas)\n",
    "        union = set.union(*listaParadas)\n",
    "        pctIntersection = len(intersection)/len(union)\n",
    "        result = ind.getDistanciaTotal() * (1 + somaPonderada/5 + pctIntersection/5)\n",
    "        #print(f'{ind.getDistanciaTotal():.2f} * (1 + {somaPonderada:.2f} + {pctIntersection:.2f}) = {result:.2f}')\n",
    "        #return ind.getDistanciaTotal()\n",
    "        return result\n",
    "\n",
    "    def crossover(self, caminhao1, caminhao2, origem = None):\n",
    "        for p1 in caminhao1.getParadas():\n",
    "            if p1 == origem:\n",
    "                continue\n",
    "            if p1 in caminhao2.getParadas():\n",
    "                for i,pacote in enumerate(caminhao2.pacotes):\n",
    "                    if caminhao1.espacoLivre() < 1:\n",
    "                        break\n",
    "                    if (pacote.origem == p1) or (pacote.destino == p1):\n",
    "                        troca = caminhao2.pacotes.pop(i)\n",
    "                        caminhao1.pacotes.append(troca)\n",
    "        #print(f'Caminhao 1:')\n",
    "        #print(caminhao1)\n",
    "        caminhao1.atualizarMelhorCaminho()\n",
    "        #print(f'Caminhao 2:')\n",
    "        #print(caminhao2)\n",
    "        caminhao2.atualizarMelhorCaminho()\n",
    "\n",
    "    def mutacao(self, caminhao):\n",
    "        if caminhao.melhorCaminho is not None:\n",
    "            if len(caminhao.melhorCaminho) > 3:    \n",
    "                comeco = caminhao.melhorCaminho[0]\n",
    "                fim = caminhao.melhorCaminho[-1]\n",
    "                to_shuffle = caminhao.melhorCaminho[1:-1]\n",
    "                shuffle(to_shuffle)\n",
    "                caminhao.melhorCaminho = [comeco] + to_shuffle + [fim]\n",
    "\n",
    "\n",
    "    def individuoMutacao(self, cjDeRotas):\n",
    "        #print([cam.melhorCaminho for cam in cjDeRotas.frota.values()])\n",
    "        start = time.now()\n",
    "        #cur = copy.deepcopy(cjDeRotas)\n",
    "        cur = cjDeRotas.copy()\n",
    "        end = time.now()\n",
    "        #print('>>[MUTACAO]cur = copy.deepcopy(cjDeRotas) ',end-start)\n",
    "        start = end\n",
    "        #print([cam.melhorCaminho for cam in cur.frota.values()])\n",
    "        chosenIndex = choice([x for x in cur.frota])\n",
    "        self.mutacao(cur.frota[chosenIndex])\n",
    "        end = time.now()\n",
    "        #print('>>[MUTACAO]self.mutacao(cur.frota[chosenIndex]) ',end-start)\n",
    "        start = end\n",
    "        #print([cam.melhorCaminho for cam in cur.frota.values()])\n",
    "        return cur\n",
    "\n",
    "    def individuoCrossover(self, cjDeRotas, origem = None):\n",
    "        #print([cam.getParadas() for cam in cjDeRotas.frota.values()])\n",
    "        start = time.now()\n",
    "        #cur = copy.deepcopy(cjDeRotas)\n",
    "        cur = cjDeRotas.copy()\n",
    "        end = time.now()\n",
    "        #print('>>[CROSSOVER]cur = copy.deepcopy(cjDeRotas) ',end-start)\n",
    "        start = end\n",
    "        #print([cam.getParadas() for cam in cur.frota.values()])\n",
    "        chosenIndex1 = choice([x for x in cur.frota])\n",
    "        chosenIndex2 = choice([x for x in cur.frota])\n",
    "        while chosenIndex1 == chosenIndex2:\n",
    "            chosenIndex2 = choice([x for x in cur.frota])\n",
    "        end = time.now()\n",
    "        #print('>>[CROSSOVER]while chosenIndex1 == chosenIndex2: ',end-start)\n",
    "        start = end\n",
    "        self.crossover(cur.frota[chosenIndex1],cur.frota[chosenIndex2],origem)\n",
    "        end = time.now()\n",
    "        #print('>>[CROSSOVER]self.crossover(cur.frota[chose...: ',end-start)\n",
    "        start = end\n",
    "        #print([cam.getParadas() for cam in cur.frota.values()])\n",
    "        return cur\n",
    "\n",
    "    def proxGeracao(self, origem = None):\n",
    "        start = time.now()\n",
    "        curPop = self.pop        \n",
    "        n_individuos = len(self.pop)\n",
    "        \n",
    "        if len(self.fitnessGeracoes) == 0:\n",
    "            # Esse if é pra preencher o fitness da geração 0 antes de começar\n",
    "            fitnessInicial = [self.fitness(ind) for ind in curPop]\n",
    "            self.fitnessGeracoes[self.curGeracao] = fitnessInicial\n",
    "            self.curGeracao += 1\n",
    "        end = time.now()\n",
    "        #print('if len(self.fitnessGeracoes) == 0:',end-start)\n",
    "        start = end\n",
    "        \n",
    "        # Parte das mutações\n",
    "        mutacoesPop = [self.individuoMutacao(ind) for ind in curPop]\n",
    "        end = time.now()\n",
    "        #print('mutacoesPop = [self.individuoMutacao(ind) for ind in curPop] ',end-start)\n",
    "        start = end\n",
    "        # Parte dos crossover\n",
    "        crossoverPop = [self.individuoCrossover(ind, origem) for ind in curPop]\n",
    "        end = time.now()\n",
    "        #print('crossoverPop = [self.individuoCrossover(ind, origem) for ind in curPop] ',end-start)\n",
    "        start = end\n",
    "        conjuntoAtual = curPop + mutacoesPop + crossoverPop\n",
    "\n",
    "        # Pegando os valores de fitness\n",
    "        fitnessConjuntoAtual = [ceil(self.fitness(ind)) for ind in conjuntoAtual]\n",
    "        #print(len(fitnessConjuntoAtual))\n",
    "        weights = [(1+abs(max(fitnessConjuntoAtual)-fitness))**3 for fitness in fitnessConjuntoAtual] # O 1+ é para evitar que fique tudo 0 quando ficarem iguais.\n",
    "        end = time.now()\n",
    "        #print('weights = [(1+abs(max(fit... ',end-start)\n",
    "        start = end\n",
    "        \n",
    "        #print('weights: ',weights)\n",
    "        #print('fit: ',fitnessConjuntoAtual)\n",
    "        #print('#',self.curGeracao)\n",
    "        \n",
    "        newPop = [choices(conjuntoAtual,weights=weights,k=1)[0] for _ in range(n_individuos)]\n",
    "        fitnessAtual = [self.fitness(ind) for ind in newPop]\n",
    "        #print('fitNewPop: ',fitnessAtual)\n",
    "        self.fitnessGeracoes[self.curGeracao] = fitnessAtual\n",
    "        self.curGeracao += 1\n",
    "        end = time.now()\n",
    "        #print('self.curGeracao += 1 ',end-start)\n",
    "        start = end\n",
    "        \n",
    "        self.pop = newPop\n",
    "        \n",
    "    def Evoluir(self, n_geracoes=None, max_geracoes=None, min_variacao=None, strikes = 3, testNum = 10, origem = None):\n",
    "        \"\"\"\n",
    "        Dois modos:\n",
    "            Passando n_geracoes -> roda n_geracoes vezes, sem distinção.\n",
    "            Passando max_geracoes + min_variacao -> Para assim que  OU houver variação no valor mínimo do fitness entre gerações MENOR que min_variação,\n",
    "                                                                    OU houver max_geracoes iteracoes\n",
    "\n",
    "            A preferência é dada para o primeiro método; Se n_geracoes é passado, os outros atributos são ignorados.\n",
    "        \"\"\"\n",
    "        start = time.now()\n",
    "        if n_geracoes is not None:\n",
    "            for _ in tqdm(range(n_geracoes)):\n",
    "                self.proxGeracao(origem)\n",
    "                #print(min(self.fitnessGeracoes[self.curGeracao-1]))\n",
    "            end = time.now()\n",
    "            #print('if n_geracoes is not None:',end-start)\n",
    "            start = end\n",
    "        else:\n",
    "            if (max_geracoes is None) or (min_variacao is None):\n",
    "                raise Exception(f'Como você não passou n_geracoes, max_geracoes e min_variacao não podem ser nulos.')\n",
    "            strike = 0\n",
    "            #for _ in tqdm(range(max_geracoes)):\n",
    "            \n",
    "            for _ in range(max_geracoes):\n",
    "                self.proxGeracao(origem)\n",
    "                end = time.now()\n",
    "                #print('self.proxGeracao(origem):',end-start)\n",
    "                start = end\n",
    "                #print(self.curGeracao)\n",
    "                #print(self.fitnessGeracoes.keys())\n",
    "                # Essas atribuições podem ser feitas porque a primeira chamada de proxGeracao preenche os valores pras gerações 0 e 1\n",
    "                for ind in self.pop:\n",
    "                    #print([x.getParadas() for x in ind.frota.values()])\n",
    "                    pass\n",
    "                \n",
    "                if self.curGeracao > testNum:\n",
    "                    valorAnterior = sum(self.fitnessGeracoes[self.curGeracao-testNum])/len(self.fitnessGeracoes[self.curGeracao-testNum])\n",
    "                    valorAtual = sum(self.fitnessGeracoes[self.curGeracao-1])/len(self.fitnessGeracoes[self.curGeracao-1])\n",
    "                    #print(f'valorAnterior: {valorAnterior}; valorAtual: {valorAtual}')\n",
    "                    variacao = abs(1- abs(valorAtual/valorAnterior))\n",
    "                    end = time.now()\n",
    "                    #print('if self.curGeracao > testNum:',end-start)\n",
    "                    start = end\n",
    "                else:\n",
    "                    variacao = 1\n",
    "                #print('Var: ',variacao)\n",
    "                #print(f'Strike: {strike}')\n",
    "                if variacao < min_variacao:\n",
    "                    strike += 1\n",
    "                    if strike > strikes:\n",
    "                        break\n",
    "                else:\n",
    "                    strike = 0\n"
   ]
  },
  {
   "cell_type": "code",
   "execution_count": 94,
   "id": "ccb2adca",
   "metadata": {},
   "outputs": [],
   "source": [
    "g = Grafo()\n",
    "g.popularAutomaticamente(20,0.5)\n",
    "g.preencherMenoresCaminhos()"
   ]
  },
  {
   "cell_type": "code",
   "execution_count": 30,
   "id": "1b1b4773",
   "metadata": {},
   "outputs": [],
   "source": [
    "p1 = Pacote(0,1,g)"
   ]
  },
  {
   "cell_type": "code",
   "execution_count": 120,
   "id": "62725414",
   "metadata": {
    "collapsed": true
   },
   "outputs": [],
   "source": [
    "\n"
   ]
  },
  {
   "cell_type": "code",
   "execution_count": 140,
   "id": "dd99998f",
   "metadata": {},
   "outputs": [
    {
     "name": "stderr",
     "output_type": "stream",
     "text": [
      "100%|██████████| 5/5 [00:00<?, ?it/s]\n",
      "100%|██████████| 5/5 [00:00<?, ?it/s]\n"
     ]
    },
    {
     "name": "stdout",
     "output_type": "stream",
     "text": [
      "{'max_geracoes': 500, 'capacidade': 5, 'vertices': 40, 'npacotes': 50, 'n_individuos': 5, 'n_caminhoes': 12, 'min_variacao': 0.001, 'strikes': 3}\n"
     ]
    },
    {
     "name": "stderr",
     "output_type": "stream",
     "text": [
      "100%|██████████| 5/5 [00:00<?, ?it/s]\n",
      "100%|██████████| 5/5 [00:00<?, ?it/s]\n",
      "100%|██████████| 5/5 [00:00<?, ?it/s]\n",
      "100%|██████████| 5/5 [00:00<?, ?it/s]\n",
      "100%|██████████| 5/5 [00:00<00:00, 5017.11it/s]\n",
      "100%|██████████| 5/5 [00:00<00:00, 5133.79it/s]\n",
      "100%|██████████| 5/5 [00:00<?, ?it/s]\n",
      "100%|██████████| 5/5 [00:00<?, ?it/s]\n",
      "100%|██████████| 5/5 [00:00<00:00, 5015.91it/s]\n",
      "100%|██████████| 5/5 [00:00<00:00, 4976.63it/s]\n"
     ]
    },
    {
     "name": "stdout",
     "output_type": "stream",
     "text": [
      "{'max_geracoes': 500, 'capacidade': 5, 'vertices': 40, 'npacotes': 50, 'n_individuos': 5, 'n_caminhoes': 12, 'min_variacao': 0.001, 'strikes': 9}\n"
     ]
    },
    {
     "name": "stderr",
     "output_type": "stream",
     "text": [
      "100%|██████████| 5/5 [00:00<00:00, 5058.25it/s]\n"
     ]
    },
    {
     "name": "stdout",
     "output_type": "stream",
     "text": [
      "{'max_geracoes': 500, 'capacidade': 5, 'vertices': 40, 'npacotes': 50, 'n_individuos': 5, 'n_caminhoes': 12, 'min_variacao': 0.001, 'strikes': 12}\n"
     ]
    },
    {
     "name": "stderr",
     "output_type": "stream",
     "text": [
      "100%|██████████| 5/5 [00:00<?, ?it/s]\n",
      "100%|██████████| 5/5 [00:00<00:00, 4821.04it/s]\n",
      "100%|██████████| 5/5 [00:00<?, ?it/s]\n",
      "100%|██████████| 5/5 [00:00<00:00, 5015.91it/s]\n",
      "100%|██████████| 5/5 [00:00<?, ?it/s]"
     ]
    },
    {
     "name": "stdout",
     "output_type": "stream",
     "text": [
      "{'max_geracoes': 500, 'capacidade': 5, 'vertices': 40, 'npacotes': 50, 'n_individuos': 5, 'n_caminhoes': 12, 'min_variacao': 0.005, 'strikes': 3}\n"
     ]
    },
    {
     "name": "stderr",
     "output_type": "stream",
     "text": [
      "\n",
      "100%|██████████| 5/5 [00:00<?, ?it/s]\n",
      "100%|██████████| 5/5 [00:00<?, ?it/s]\n",
      "100%|██████████| 5/5 [00:00<00:00, 5011.12it/s]\n",
      "100%|██████████| 5/5 [00:00<00:00, 5098.84it/s]\n",
      "100%|██████████| 5/5 [00:00<?, ?it/s]\n",
      "100%|██████████| 5/5 [00:00<?, ?it/s]\n",
      "100%|██████████| 5/5 [00:00<?, ?it/s]\n",
      "100%|██████████| 5/5 [00:00<00:00, 5017.11it/s]\n",
      "100%|██████████| 5/5 [00:00<?, ?it/s]\n",
      "100%|██████████| 5/5 [00:00<?, ?it/s]\n",
      "100%|██████████| 5/5 [00:00<00:00, 4983.73it/s]\n",
      "100%|██████████| 5/5 [00:00<00:00, 5014.71it/s]\n",
      "100%|██████████| 5/5 [00:00<00:00, 5151.44it/s]\n",
      "100%|██████████| 5/5 [00:00<?, ?it/s]\n",
      "100%|██████████| 5/5 [00:00<?, ?it/s]\n",
      "100%|██████████| 5/5 [00:00<?, ?it/s]"
     ]
    },
    {
     "name": "stdout",
     "output_type": "stream",
     "text": [
      "{'max_geracoes': 500, 'capacidade': 5, 'vertices': 40, 'npacotes': 50, 'n_individuos': 5, 'n_caminhoes': 12, 'min_variacao': 0.01, 'strikes': 3}\n"
     ]
    },
    {
     "name": "stderr",
     "output_type": "stream",
     "text": [
      "\n",
      "100%|██████████| 5/5 [00:00<00:00, 5007.53it/s]\n",
      "100%|██████████| 5/5 [00:00<00:00, 5013.51it/s]\n",
      "100%|██████████| 5/5 [00:00<00:00, 5162.86it/s]"
     ]
    },
    {
     "name": "stdout",
     "output_type": "stream",
     "text": [
      "{'max_geracoes': 500, 'capacidade': 5, 'vertices': 40, 'npacotes': 50, 'n_individuos': 5, 'n_caminhoes': 12, 'min_variacao': 0.01, 'strikes': 12}\n"
     ]
    },
    {
     "name": "stderr",
     "output_type": "stream",
     "text": [
      "\n",
      "100%|██████████| 5/5 [00:00<00:00, 5012.31it/s]"
     ]
    },
    {
     "name": "stdout",
     "output_type": "stream",
     "text": [
      "{'max_geracoes': 500, 'capacidade': 5, 'vertices': 40, 'npacotes': 50, 'n_individuos': 5, 'n_caminhoes': 12, 'min_variacao': 0.05, 'strikes': 3}\n"
     ]
    },
    {
     "name": "stderr",
     "output_type": "stream",
     "text": [
      "\n",
      "100%|██████████| 5/5 [00:00<00:00, 5023.12it/s]\n",
      "100%|██████████| 5/5 [00:00<?, ?it/s]\n",
      "100%|██████████| 5/5 [00:00<?, ?it/s]\n",
      "100%|██████████| 5/5 [00:00<?, ?it/s]\n",
      "100%|██████████| 5/5 [00:00<?, ?it/s]\n",
      "100%|██████████| 5/5 [00:00<?, ?it/s]\n",
      "100%|██████████| 5/5 [00:00<00:00, 5013.51it/s]\n",
      "100%|██████████| 5/5 [00:00<00:00, 5011.12it/s]\n",
      "100%|██████████| 5/5 [00:00<?, ?it/s]\n",
      "100%|██████████| 5/5 [00:00<00:00, 5031.55it/s]\n",
      "100%|██████████| 10/10 [00:00<?, ?it/s]\n",
      "100%|██████████| 10/10 [00:00<00:00, 9948.54it/s]\n",
      "100%|██████████| 10/10 [00:00<00:00, 10318.09it/s]"
     ]
    },
    {
     "name": "stdout",
     "output_type": "stream",
     "text": [
      "{'max_geracoes': 500, 'capacidade': 5, 'vertices': 40, 'npacotes': 50, 'n_individuos': 10, 'n_caminhoes': 12, 'min_variacao': 0.001, 'strikes': 6}\n"
     ]
    },
    {
     "name": "stderr",
     "output_type": "stream",
     "text": [
      "\n",
      "100%|██████████| 10/10 [00:00<?, ?it/s]\n",
      "100%|██████████| 10/10 [00:00<00:00, 10182.82it/s]\n",
      "100%|██████████| 10/10 [00:00<?, ?it/s]"
     ]
    },
    {
     "name": "stdout",
     "output_type": "stream",
     "text": [
      "{'max_geracoes': 500, 'capacidade': 5, 'vertices': 40, 'npacotes': 50, 'n_individuos': 10, 'n_caminhoes': 12, 'min_variacao': 0.001, 'strikes': 3}\n"
     ]
    },
    {
     "name": "stderr",
     "output_type": "stream",
     "text": [
      "\n",
      "100%|██████████| 10/10 [00:00<00:00, 10027.02it/s]\n",
      "100%|██████████| 10/10 [00:00<00:00, 10029.42it/s]"
     ]
    },
    {
     "name": "stdout",
     "output_type": "stream",
     "text": [
      "{'max_geracoes': 500, 'capacidade': 5, 'vertices': 40, 'npacotes': 50, 'n_individuos': 10, 'n_caminhoes': 12, 'min_variacao': 0.001, 'strikes': 9}\n"
     ]
    },
    {
     "name": "stderr",
     "output_type": "stream",
     "text": [
      "\n",
      "100%|██████████| 10/10 [00:00<00:00, 10335.89it/s]\n",
      "100%|██████████| 10/10 [00:00<00:00, 10027.02it/s]"
     ]
    },
    {
     "name": "stdout",
     "output_type": "stream",
     "text": [
      "{'max_geracoes': 500, 'capacidade': 5, 'vertices': 40, 'npacotes': 50, 'n_individuos': 10, 'n_caminhoes': 12, 'min_variacao': 0.001, 'strikes': 3}\n"
     ]
    },
    {
     "name": "stderr",
     "output_type": "stream",
     "text": [
      "\n",
      "100%|██████████| 10/10 [00:00<00:00, 10027.02it/s]"
     ]
    },
    {
     "name": "stdout",
     "output_type": "stream",
     "text": [
      "{'max_geracoes': 500, 'capacidade': 5, 'vertices': 40, 'npacotes': 50, 'n_individuos': 10, 'n_caminhoes': 12, 'min_variacao': 0.001, 'strikes': 6}\n"
     ]
    },
    {
     "name": "stderr",
     "output_type": "stream",
     "text": [
      "\n",
      "100%|██████████| 10/10 [00:00<00:00, 10017.44it/s]\n",
      "100%|██████████| 10/10 [00:00<00:00, 10019.84it/s]\n",
      "100%|██████████| 10/10 [00:00<00:00, 9913.27it/s]\n",
      "100%|██████████| 10/10 [00:00<00:00, 10041.43it/s]\n",
      "100%|██████████| 10/10 [00:00<00:00, 10039.02it/s]\n",
      "100%|██████████| 10/10 [00:00<00:00, 10019.84it/s]"
     ]
    },
    {
     "name": "stdout",
     "output_type": "stream",
     "text": [
      "{'max_geracoes': 500, 'capacidade': 5, 'vertices': 40, 'npacotes': 50, 'n_individuos': 10, 'n_caminhoes': 12, 'min_variacao': 0.005, 'strikes': 12}\n"
     ]
    },
    {
     "name": "stderr",
     "output_type": "stream",
     "text": [
      "\n",
      "100%|██████████| 10/10 [00:00<?, ?it/s]\n",
      "100%|██████████| 10/10 [00:00<00:00, 14873.42it/s]\n",
      "100%|██████████| 10/10 [00:00<00:00, 10019.84it/s]\n",
      "100%|██████████| 10/10 [00:00<?, ?it/s]"
     ]
    },
    {
     "name": "stdout",
     "output_type": "stream",
     "text": [
      "{'max_geracoes': 500, 'capacidade': 5, 'vertices': 40, 'npacotes': 50, 'n_individuos': 10, 'n_caminhoes': 12, 'min_variacao': 0.005, 'strikes': 12}\n"
     ]
    },
    {
     "name": "stderr",
     "output_type": "stream",
     "text": [
      "\n",
      "100%|██████████| 10/10 [00:00<00:00, 9864.31it/s]"
     ]
    },
    {
     "name": "stdout",
     "output_type": "stream",
     "text": [
      "{'max_geracoes': 500, 'capacidade': 5, 'vertices': 40, 'npacotes': 50, 'n_individuos': 10, 'n_caminhoes': 12, 'min_variacao': 0.005, 'strikes': 3}\n"
     ]
    },
    {
     "name": "stderr",
     "output_type": "stream",
     "text": [
      "\n",
      "100%|██████████| 10/10 [00:00<00:00, 10318.09it/s]\n",
      "100%|██████████| 10/10 [00:00<00:00, 10340.99it/s]\n",
      "100%|██████████| 10/10 [00:00<00:00, 10031.82it/s]\n",
      "100%|██████████| 10/10 [00:00<00:00, 10034.22it/s]\n",
      "100%|██████████| 10/10 [00:00<00:00, 10405.12it/s]\n",
      "100%|██████████| 10/10 [00:00<00:00, 10055.87it/s]\n",
      "100%|██████████| 10/10 [00:00<?, ?it/s]\n",
      "100%|██████████| 10/10 [00:00<00:00, 10039.02it/s]\n",
      "100%|██████████| 10/10 [00:00<00:00, 10024.63it/s]\n",
      "100%|██████████| 10/10 [00:00<00:00, 10046.24it/s]\n",
      "100%|██████████| 10/10 [00:00<?, ?it/s]"
     ]
    },
    {
     "name": "stdout",
     "output_type": "stream",
     "text": [
      "{'max_geracoes': 500, 'capacidade': 5, 'vertices': 40, 'npacotes': 50, 'n_individuos': 10, 'n_caminhoes': 12, 'min_variacao': 0.01, 'strikes': 12}\n"
     ]
    },
    {
     "name": "stderr",
     "output_type": "stream",
     "text": [
      "\n",
      "100%|██████████| 10/10 [00:00<00:00, 10019.84it/s]\n",
      "100%|██████████| 10/10 [00:00<?, ?it/s]\n",
      "100%|██████████| 10/10 [00:00<00:00, 10072.78it/s]"
     ]
    },
    {
     "name": "stdout",
     "output_type": "stream",
     "text": [
      "{'max_geracoes': 500, 'capacidade': 5, 'vertices': 40, 'npacotes': 50, 'n_individuos': 10, 'n_caminhoes': 12, 'min_variacao': 0.01, 'strikes': 9}\n"
     ]
    },
    {
     "name": "stderr",
     "output_type": "stream",
     "text": [
      "\n",
      "100%|██████████| 10/10 [00:00<00:00, 10325.71it/s]\n",
      "100%|██████████| 10/10 [00:00<00:00, 10029.42it/s]\n",
      "100%|██████████| 10/10 [00:00<00:00, 9908.58it/s]\n",
      "100%|██████████| 10/10 [00:00<00:00, 10017.44it/s]\n",
      "100%|██████████| 10/10 [00:00<00:00, 10015.05it/s]\n"
     ]
    },
    {
     "name": "stdout",
     "output_type": "stream",
     "text": [
      "{'max_geracoes': 500, 'capacidade': 5, 'vertices': 40, 'npacotes': 50, 'n_individuos': 10, 'n_caminhoes': 12, 'min_variacao': 0.05, 'strikes': 12}\n"
     ]
    },
    {
     "name": "stderr",
     "output_type": "stream",
     "text": [
      "100%|██████████| 10/10 [00:00<00:00, 10022.23it/s]\n",
      "100%|██████████| 10/10 [00:00<00:00, 10027.02it/s]\n",
      "100%|██████████| 10/10 [00:00<00:00, 10220.04it/s]"
     ]
    },
    {
     "name": "stdout",
     "output_type": "stream",
     "text": [
      "{'max_geracoes': 500, 'capacidade': 5, 'vertices': 40, 'npacotes': 50, 'n_individuos': 10, 'n_caminhoes': 12, 'min_variacao': 0.05, 'strikes': 9}\n"
     ]
    },
    {
     "name": "stderr",
     "output_type": "stream",
     "text": [
      "\n",
      "100%|██████████| 10/10 [00:00<00:00, 10366.54it/s]\n",
      "100%|██████████| 10/10 [00:00<00:00, 5088.94it/s]\n",
      "100%|██████████| 10/10 [00:00<00:00, 10003.11it/s]"
     ]
    },
    {
     "name": "stdout",
     "output_type": "stream",
     "text": [
      "{'max_geracoes': 500, 'capacidade': 5, 'vertices': 40, 'npacotes': 50, 'n_individuos': 10, 'n_caminhoes': 12, 'min_variacao': 0.05, 'strikes': 6}\n"
     ]
    },
    {
     "name": "stderr",
     "output_type": "stream",
     "text": [
      "\n",
      "100%|██████████| 10/10 [00:00<00:00, 10029.42it/s]\n",
      "100%|██████████| 15/15 [00:00<00:00, 15051.33it/s]\n",
      "100%|██████████| 15/15 [00:00<00:00, 14873.42it/s]\n",
      "100%|██████████| 15/15 [00:00<00:00, 15511.48it/s]"
     ]
    },
    {
     "name": "stdout",
     "output_type": "stream",
     "text": [
      "{'max_geracoes': 500, 'capacidade': 5, 'vertices': 40, 'npacotes': 50, 'n_individuos': 15, 'n_caminhoes': 12, 'min_variacao': 0.001, 'strikes': 6}\n"
     ]
    },
    {
     "name": "stderr",
     "output_type": "stream",
     "text": [
      "\n",
      "100%|██████████| 15/15 [00:00<00:00, 15065.75it/s]\n",
      "100%|██████████| 15/15 [00:00<00:00, 15222.49it/s]\n",
      "100%|██████████| 15/15 [00:00<00:00, 15051.33it/s]"
     ]
    },
    {
     "name": "stdout",
     "output_type": "stream",
     "text": [
      "{'max_geracoes': 500, 'capacidade': 5, 'vertices': 40, 'npacotes': 50, 'n_individuos': 15, 'n_caminhoes': 12, 'min_variacao': 0.001, 'strikes': 3}\n"
     ]
    },
    {
     "name": "stderr",
     "output_type": "stream",
     "text": [
      "\n",
      "100%|██████████| 15/15 [00:00<00:00, 7598.38it/s]"
     ]
    },
    {
     "name": "stdout",
     "output_type": "stream",
     "text": [
      "{'max_geracoes': 500, 'capacidade': 5, 'vertices': 40, 'npacotes': 50, 'n_individuos': 15, 'n_caminhoes': 12, 'min_variacao': 0.001, 'strikes': 6}\n"
     ]
    },
    {
     "name": "stderr",
     "output_type": "stream",
     "text": [
      "\n",
      "100%|██████████| 15/15 [00:00<00:00, 7635.26it/s]\n",
      "100%|██████████| 15/15 [00:00<00:00, 14682.51it/s]\n",
      "100%|██████████| 15/15 [00:00<00:00, 7523.87it/s]"
     ]
    },
    {
     "name": "stdout",
     "output_type": "stream",
     "text": [
      "{'max_geracoes': 500, 'capacidade': 5, 'vertices': 40, 'npacotes': 50, 'n_individuos': 15, 'n_caminhoes': 12, 'min_variacao': 0.001, 'strikes': 3}\n"
     ]
    },
    {
     "name": "stderr",
     "output_type": "stream",
     "text": [
      "\n",
      "100%|██████████| 15/15 [00:00<00:00, 15029.76it/s]\n",
      "100%|██████████| 15/15 [00:00<00:00, 14416.72it/s]"
     ]
    },
    {
     "name": "stdout",
     "output_type": "stream",
     "text": [
      "{'max_geracoes': 500, 'capacidade': 5, 'vertices': 40, 'npacotes': 50, 'n_individuos': 15, 'n_caminhoes': 12, 'min_variacao': 0.001, 'strikes': 9}\n"
     ]
    },
    {
     "name": "stderr",
     "output_type": "stream",
     "text": [
      "\n",
      "100%|██████████| 15/15 [00:00<00:00, 15252.01it/s]\n",
      "100%|██████████| 15/15 [00:00<00:00, 15022.58it/s]\n",
      "100%|██████████| 15/15 [00:00<00:00, 15677.69it/s]\n",
      "100%|██████████| 15/15 [00:00<00:00, 15127.33it/s]\n",
      "100%|██████████| 15/15 [00:00<00:00, 15040.54it/s]"
     ]
    },
    {
     "name": "stdout",
     "output_type": "stream",
     "text": [
      "{'max_geracoes': 500, 'capacidade': 5, 'vertices': 40, 'npacotes': 50, 'n_individuos': 15, 'n_caminhoes': 12, 'min_variacao': 0.005, 'strikes': 12}\n"
     ]
    },
    {
     "name": "stderr",
     "output_type": "stream",
     "text": [
      "\n",
      "100%|██████████| 15/15 [00:00<00:00, 14754.82it/s]\n",
      "100%|██████████| 15/15 [00:00<00:00, 15051.33it/s]\n",
      "100%|██████████| 15/15 [00:00<00:00, 15040.54it/s]"
     ]
    },
    {
     "name": "stdout",
     "output_type": "stream",
     "text": [
      "{'max_geracoes': 500, 'capacidade': 5, 'vertices': 40, 'npacotes': 50, 'n_individuos': 15, 'n_caminhoes': 12, 'min_variacao': 0.005, 'strikes': 9}\n"
     ]
    },
    {
     "name": "stderr",
     "output_type": "stream",
     "text": [
      "\n",
      "100%|██████████| 15/15 [00:00<00:00, 14817.37it/s]\n",
      "100%|██████████| 15/15 [00:00<00:00, 7602.97it/s]\n",
      "100%|██████████| 15/15 [00:00<00:00, 15062.14it/s]\n"
     ]
    },
    {
     "name": "stdout",
     "output_type": "stream",
     "text": [
      "{'max_geracoes': 500, 'capacidade': 5, 'vertices': 40, 'npacotes': 50, 'n_individuos': 15, 'n_caminhoes': 12, 'min_variacao': 0.005, 'strikes': 6}\n"
     ]
    },
    {
     "name": "stderr",
     "output_type": "stream",
     "text": [
      "100%|██████████| 15/15 [00:00<00:00, 15029.76it/s]\n",
      "100%|██████████| 15/15 [00:00<00:00, 14947.63it/s]\n",
      "100%|██████████| 15/15 [00:00<00:00, 15047.73it/s]\n",
      "100%|██████████| 15/15 [00:00<00:00, 15033.35it/s]\n",
      "100%|██████████| 15/15 [00:00<00:00, 7522.07it/s]\n",
      "100%|██████████| 15/15 [00:00<00:00, 15036.94it/s]\n"
     ]
    },
    {
     "name": "stdout",
     "output_type": "stream",
     "text": [
      "{'max_geracoes': 500, 'capacidade': 5, 'vertices': 40, 'npacotes': 50, 'n_individuos': 15, 'n_caminhoes': 12, 'min_variacao': 0.01, 'strikes': 12}\n"
     ]
    },
    {
     "name": "stderr",
     "output_type": "stream",
     "text": [
      "100%|██████████| 15/15 [00:00<00:00, 5315.53it/s]"
     ]
    },
    {
     "name": "stdout",
     "output_type": "stream",
     "text": [
      "{'max_geracoes': 500, 'capacidade': 5, 'vertices': 40, 'npacotes': 50, 'n_individuos': 15, 'n_caminhoes': 12, 'min_variacao': 0.01, 'strikes': 3}\n"
     ]
    },
    {
     "name": "stderr",
     "output_type": "stream",
     "text": [
      "\n",
      "100%|██████████| 15/15 [00:00<00:00, 14600.73it/s]\n",
      "100%|██████████| 15/15 [00:00<00:00, 14621.09it/s]\n",
      "100%|██████████| 15/15 [00:00<00:00, 15488.57it/s]\n",
      "100%|██████████| 15/15 [00:00<00:00, 15044.13it/s]\n",
      "100%|██████████| 15/15 [00:00<00:00, 7413.05it/s]\n",
      "100%|██████████| 15/15 [00:00<00:00, 15484.76it/s]"
     ]
    },
    {
     "name": "stdout",
     "output_type": "stream",
     "text": [
      "{'max_geracoes': 500, 'capacidade': 5, 'vertices': 40, 'npacotes': 50, 'n_individuos': 15, 'n_caminhoes': 12, 'min_variacao': 0.01, 'strikes': 9}\n"
     ]
    },
    {
     "name": "stderr",
     "output_type": "stream",
     "text": [
      "\n",
      "100%|██████████| 15/15 [00:00<00:00, 15036.94it/s]\n",
      "100%|██████████| 15/15 [00:00<00:00, 7635.26it/s]\n",
      "100%|██████████| 15/15 [00:00<00:00, 15033.35it/s]\n",
      "100%|██████████| 15/15 [00:00<00:00, 15040.54it/s]\n",
      "100%|██████████| 15/15 [00:00<00:00, 14891.02it/s]\n",
      "100%|██████████| 15/15 [00:00<00:00, 15047.73it/s]"
     ]
    },
    {
     "name": "stdout",
     "output_type": "stream",
     "text": [
      "{'max_geracoes': 500, 'capacidade': 5, 'vertices': 40, 'npacotes': 50, 'n_individuos': 15, 'n_caminhoes': 12, 'min_variacao': 0.05, 'strikes': 3}\n"
     ]
    },
    {
     "name": "stderr",
     "output_type": "stream",
     "text": [
      "\n",
      "100%|██████████| 15/15 [00:00<00:00, 15152.83it/s]\n",
      "100%|██████████| 15/15 [00:00<00:00, 7520.27it/s]"
     ]
    },
    {
     "name": "stdout",
     "output_type": "stream",
     "text": [
      "{'max_geracoes': 500, 'capacidade': 5, 'vertices': 40, 'npacotes': 50, 'n_individuos': 15, 'n_caminhoes': 12, 'min_variacao': 0.05, 'strikes': 9}\n"
     ]
    },
    {
     "name": "stderr",
     "output_type": "stream",
     "text": [
      "\n",
      "100%|██████████| 15/15 [00:00<00:00, 7518.47it/s]"
     ]
    },
    {
     "name": "stdout",
     "output_type": "stream",
     "text": [
      "{'max_geracoes': 500, 'capacidade': 5, 'vertices': 40, 'npacotes': 50, 'n_individuos': 15, 'n_caminhoes': 12, 'min_variacao': 0.05, 'strikes': 12}\n"
     ]
    },
    {
     "name": "stderr",
     "output_type": "stream",
     "text": [
      "\n",
      "100%|██████████| 15/15 [00:00<00:00, 14936.98it/s]\n",
      "100%|██████████| 15/15 [00:00<00:00, 15507.66it/s]\n",
      "100%|██████████| 15/15 [00:00<00:00, 8235.97it/s]"
     ]
    },
    {
     "name": "stdout",
     "output_type": "stream",
     "text": [
      "{'max_geracoes': 500, 'capacidade': 5, 'vertices': 40, 'npacotes': 50, 'n_individuos': 15, 'n_caminhoes': 12, 'min_variacao': 0.05, 'strikes': 9}\n"
     ]
    },
    {
     "name": "stderr",
     "output_type": "stream",
     "text": [
      "\n",
      "100%|██████████| 5/5 [00:00<00:00, 2506.16it/s]\n",
      "100%|██████████| 5/5 [00:00<00:00, 5012.31it/s]"
     ]
    },
    {
     "name": "stdout",
     "output_type": "stream",
     "text": [
      "{'max_geracoes': 500, 'capacidade': 5, 'vertices': 40, 'npacotes': 200, 'n_individuos': 5, 'n_caminhoes': 48, 'min_variacao': 0.001, 'strikes': 3}\n"
     ]
    },
    {
     "name": "stderr",
     "output_type": "stream",
     "text": [
      "\n",
      "100%|██████████| 5/5 [00:00<00:00, 2506.76it/s]"
     ]
    },
    {
     "name": "stdout",
     "output_type": "stream",
     "text": [
      "{'max_geracoes': 500, 'capacidade': 5, 'vertices': 40, 'npacotes': 200, 'n_individuos': 5, 'n_caminhoes': 48, 'min_variacao': 0.001, 'strikes': 6}\n"
     ]
    },
    {
     "name": "stderr",
     "output_type": "stream",
     "text": [
      "\n",
      "100%|██████████| 5/5 [00:00<00:00, 5017.11it/s]"
     ]
    },
    {
     "name": "stdout",
     "output_type": "stream",
     "text": [
      "{'max_geracoes': 500, 'capacidade': 5, 'vertices': 40, 'npacotes': 200, 'n_individuos': 5, 'n_caminhoes': 48, 'min_variacao': 0.001, 'strikes': 9}\n"
     ]
    },
    {
     "name": "stderr",
     "output_type": "stream",
     "text": [
      "\n",
      "100%|██████████| 5/5 [00:00<00:00, 5161.59it/s]"
     ]
    },
    {
     "name": "stdout",
     "output_type": "stream",
     "text": [
      "{'max_geracoes': 500, 'capacidade': 5, 'vertices': 40, 'npacotes': 200, 'n_individuos': 5, 'n_caminhoes': 48, 'min_variacao': 0.001, 'strikes': 12}\n"
     ]
    },
    {
     "name": "stderr",
     "output_type": "stream",
     "text": [
      "\n",
      "100%|██████████| 5/5 [00:00<00:00, 5008.72it/s]"
     ]
    },
    {
     "name": "stdout",
     "output_type": "stream",
     "text": [
      "{'max_geracoes': 500, 'capacidade': 5, 'vertices': 40, 'npacotes': 200, 'n_individuos': 5, 'n_caminhoes': 48, 'min_variacao': 0.001, 'strikes': 3}\n"
     ]
    },
    {
     "name": "stderr",
     "output_type": "stream",
     "text": [
      "\n",
      "100%|██████████| 5/5 [00:00<00:00, 5166.67it/s]"
     ]
    },
    {
     "name": "stdout",
     "output_type": "stream",
     "text": [
      "{'max_geracoes': 500, 'capacidade': 5, 'vertices': 40, 'npacotes': 200, 'n_individuos': 5, 'n_caminhoes': 48, 'min_variacao': 0.001, 'strikes': 6}\n"
     ]
    },
    {
     "name": "stderr",
     "output_type": "stream",
     "text": [
      "\n",
      "100%|██████████| 5/5 [00:00<00:00, 5012.31it/s]"
     ]
    },
    {
     "name": "stdout",
     "output_type": "stream",
     "text": [
      "{'max_geracoes': 500, 'capacidade': 5, 'vertices': 40, 'npacotes': 200, 'n_individuos': 5, 'n_caminhoes': 48, 'min_variacao': 0.001, 'strikes': 9}\n"
     ]
    },
    {
     "name": "stderr",
     "output_type": "stream",
     "text": [
      "\n",
      "100%|██████████| 5/5 [00:00<00:00, 5027.94it/s]"
     ]
    },
    {
     "name": "stdout",
     "output_type": "stream",
     "text": [
      "{'max_geracoes': 500, 'capacidade': 5, 'vertices': 40, 'npacotes': 200, 'n_individuos': 5, 'n_caminhoes': 48, 'min_variacao': 0.001, 'strikes': 12}\n"
     ]
    },
    {
     "name": "stderr",
     "output_type": "stream",
     "text": [
      "\n",
      "100%|██████████| 5/5 [00:00<00:00, 2542.62it/s]"
     ]
    },
    {
     "name": "stdout",
     "output_type": "stream",
     "text": [
      "{'max_geracoes': 500, 'capacidade': 5, 'vertices': 40, 'npacotes': 200, 'n_individuos': 5, 'n_caminhoes': 48, 'min_variacao': 0.001, 'strikes': 3}\n"
     ]
    },
    {
     "name": "stderr",
     "output_type": "stream",
     "text": [
      "\n",
      "100%|██████████| 5/5 [00:00<00:00, 2541.39it/s]"
     ]
    },
    {
     "name": "stdout",
     "output_type": "stream",
     "text": [
      "{'max_geracoes': 500, 'capacidade': 5, 'vertices': 40, 'npacotes': 200, 'n_individuos': 5, 'n_caminhoes': 48, 'min_variacao': 0.001, 'strikes': 6}\n"
     ]
    },
    {
     "name": "stderr",
     "output_type": "stream",
     "text": [
      "\n",
      "100%|██████████| 5/5 [00:00<00:00, 5125.00it/s]"
     ]
    },
    {
     "name": "stdout",
     "output_type": "stream",
     "text": [
      "{'max_geracoes': 500, 'capacidade': 5, 'vertices': 40, 'npacotes': 200, 'n_individuos': 5, 'n_caminhoes': 48, 'min_variacao': 0.001, 'strikes': 9}\n"
     ]
    },
    {
     "name": "stderr",
     "output_type": "stream",
     "text": [
      "\n",
      "100%|██████████| 5/5 [00:00<00:00, 2507.36it/s]"
     ]
    },
    {
     "name": "stdout",
     "output_type": "stream",
     "text": [
      "{'max_geracoes': 500, 'capacidade': 5, 'vertices': 40, 'npacotes': 200, 'n_individuos': 5, 'n_caminhoes': 48, 'min_variacao': 0.001, 'strikes': 12}\n"
     ]
    },
    {
     "name": "stderr",
     "output_type": "stream",
     "text": [
      "\n",
      "100%|██████████| 5/5 [00:00<00:00, 5024.32it/s]\n",
      "100%|██████████| 5/5 [00:00<00:00, 5025.53it/s]"
     ]
    },
    {
     "name": "stdout",
     "output_type": "stream",
     "text": [
      "{'max_geracoes': 500, 'capacidade': 5, 'vertices': 40, 'npacotes': 200, 'n_individuos': 5, 'n_caminhoes': 48, 'min_variacao': 0.005, 'strikes': 6}\n"
     ]
    },
    {
     "name": "stderr",
     "output_type": "stream",
     "text": [
      "\n",
      "100%|██████████| 5/5 [00:00<00:00, 2516.38it/s]"
     ]
    },
    {
     "name": "stdout",
     "output_type": "stream",
     "text": [
      "{'max_geracoes': 500, 'capacidade': 5, 'vertices': 40, 'npacotes': 200, 'n_individuos': 5, 'n_caminhoes': 48, 'min_variacao': 0.005, 'strikes': 9}\n"
     ]
    },
    {
     "name": "stderr",
     "output_type": "stream",
     "text": [
      "\n",
      "100%|██████████| 5/5 [00:00<00:00, 2513.37it/s]"
     ]
    },
    {
     "name": "stdout",
     "output_type": "stream",
     "text": [
      "{'max_geracoes': 500, 'capacidade': 5, 'vertices': 40, 'npacotes': 200, 'n_individuos': 5, 'n_caminhoes': 48, 'min_variacao': 0.005, 'strikes': 12}\n"
     ]
    },
    {
     "name": "stderr",
     "output_type": "stream",
     "text": [
      "\n",
      "100%|██████████| 5/5 [00:00<00:00, 4964.85it/s]\n",
      "100%|██████████| 5/5 [00:00<00:00, 2507.36it/s]"
     ]
    },
    {
     "name": "stdout",
     "output_type": "stream",
     "text": [
      "{'max_geracoes': 500, 'capacidade': 5, 'vertices': 40, 'npacotes': 200, 'n_individuos': 5, 'n_caminhoes': 48, 'min_variacao': 0.005, 'strikes': 6}\n"
     ]
    },
    {
     "name": "stderr",
     "output_type": "stream",
     "text": [
      "\n",
      "100%|██████████| 5/5 [00:00<00:00, 2494.53it/s]"
     ]
    },
    {
     "name": "stdout",
     "output_type": "stream",
     "text": [
      "{'max_geracoes': 500, 'capacidade': 5, 'vertices': 40, 'npacotes': 200, 'n_individuos': 5, 'n_caminhoes': 48, 'min_variacao': 0.005, 'strikes': 9}\n"
     ]
    },
    {
     "name": "stderr",
     "output_type": "stream",
     "text": [
      "\n",
      "100%|██████████| 5/5 [00:00<00:00, 5098.84it/s]"
     ]
    },
    {
     "name": "stdout",
     "output_type": "stream",
     "text": [
      "{'max_geracoes': 500, 'capacidade': 5, 'vertices': 40, 'npacotes': 200, 'n_individuos': 5, 'n_caminhoes': 48, 'min_variacao': 0.005, 'strikes': 12}\n"
     ]
    },
    {
     "name": "stderr",
     "output_type": "stream",
     "text": [
      "\n",
      "100%|██████████| 5/5 [00:00<00:00, 2542.62it/s]"
     ]
    },
    {
     "name": "stdout",
     "output_type": "stream",
     "text": [
      "{'max_geracoes': 500, 'capacidade': 5, 'vertices': 40, 'npacotes': 200, 'n_individuos': 5, 'n_caminhoes': 48, 'min_variacao': 0.005, 'strikes': 3}\n"
     ]
    },
    {
     "name": "stderr",
     "output_type": "stream",
     "text": [
      "\n",
      "100%|██████████| 5/5 [00:00<00:00, 2507.66it/s]\n",
      "100%|██████████| 5/5 [00:00<00:00, 2538.31it/s]"
     ]
    },
    {
     "name": "stdout",
     "output_type": "stream",
     "text": [
      "{'max_geracoes': 500, 'capacidade': 5, 'vertices': 40, 'npacotes': 200, 'n_individuos': 5, 'n_caminhoes': 48, 'min_variacao': 0.005, 'strikes': 9}\n"
     ]
    },
    {
     "name": "stderr",
     "output_type": "stream",
     "text": [
      "\n",
      "100%|██████████| 5/5 [00:00<00:00, 5164.13it/s]"
     ]
    },
    {
     "name": "stdout",
     "output_type": "stream",
     "text": [
      "{'max_geracoes': 500, 'capacidade': 5, 'vertices': 40, 'npacotes': 200, 'n_individuos': 5, 'n_caminhoes': 48, 'min_variacao': 0.005, 'strikes': 12}\n"
     ]
    },
    {
     "name": "stderr",
     "output_type": "stream",
     "text": [
      "\n",
      "100%|██████████| 5/5 [00:00<00:00, 2517.89it/s]\n",
      "100%|██████████| 5/5 [00:00<00:00, 2553.77it/s]\n",
      "100%|██████████| 5/5 [00:00<00:00, 5108.77it/s]"
     ]
    },
    {
     "name": "stdout",
     "output_type": "stream",
     "text": [
      "{'max_geracoes': 500, 'capacidade': 5, 'vertices': 40, 'npacotes': 200, 'n_individuos': 5, 'n_caminhoes': 48, 'min_variacao': 0.01, 'strikes': 9}\n"
     ]
    },
    {
     "name": "stderr",
     "output_type": "stream",
     "text": [
      "\n",
      "100%|██████████| 5/5 [00:00<00:00, 5006.33it/s]\n",
      "100%|██████████| 5/5 [00:00<00:00, 2561.56it/s]\n",
      "100%|██████████| 5/5 [00:00<00:00, 2545.09it/s]"
     ]
    },
    {
     "name": "stdout",
     "output_type": "stream",
     "text": [
      "{'max_geracoes': 500, 'capacidade': 5, 'vertices': 40, 'npacotes': 200, 'n_individuos': 5, 'n_caminhoes': 48, 'min_variacao': 0.01, 'strikes': 6}\n"
     ]
    },
    {
     "name": "stderr",
     "output_type": "stream",
     "text": [
      "\n",
      "100%|██████████| 5/5 [00:00<00:00, 2542.31it/s]"
     ]
    },
    {
     "name": "stdout",
     "output_type": "stream",
     "text": [
      "{'max_geracoes': 500, 'capacidade': 5, 'vertices': 40, 'npacotes': 200, 'n_individuos': 5, 'n_caminhoes': 48, 'min_variacao': 0.01, 'strikes': 9}\n"
     ]
    },
    {
     "name": "stderr",
     "output_type": "stream",
     "text": [
      "\n",
      "100%|██████████| 5/5 [00:00<00:00, 4984.91it/s]"
     ]
    },
    {
     "name": "stdout",
     "output_type": "stream",
     "text": [
      "{'max_geracoes': 500, 'capacidade': 5, 'vertices': 40, 'npacotes': 200, 'n_individuos': 5, 'n_caminhoes': 48, 'min_variacao': 0.01, 'strikes': 12}\n"
     ]
    },
    {
     "name": "stderr",
     "output_type": "stream",
     "text": [
      "\n",
      "100%|██████████| 5/5 [00:00<00:00, 2518.19it/s]\n",
      "100%|██████████| 5/5 [00:00<00:00, 2516.99it/s]"
     ]
    },
    {
     "name": "stdout",
     "output_type": "stream",
     "text": [
      "{'max_geracoes': 500, 'capacidade': 5, 'vertices': 40, 'npacotes': 200, 'n_individuos': 5, 'n_caminhoes': 48, 'min_variacao': 0.01, 'strikes': 6}\n"
     ]
    },
    {
     "name": "stderr",
     "output_type": "stream",
     "text": [
      "\n",
      "100%|██████████| 5/5 [00:00<00:00, 2520.92it/s]\n",
      "100%|██████████| 5/5 [00:00<00:00, 5166.67it/s]"
     ]
    },
    {
     "name": "stdout",
     "output_type": "stream",
     "text": [
      "{'max_geracoes': 500, 'capacidade': 5, 'vertices': 40, 'npacotes': 200, 'n_individuos': 5, 'n_caminhoes': 48, 'min_variacao': 0.01, 'strikes': 12}\n"
     ]
    },
    {
     "name": "stderr",
     "output_type": "stream",
     "text": [
      "\n",
      "100%|██████████| 5/5 [00:00<00:00, 2076.39it/s]\n",
      "100%|██████████| 5/5 [00:00<00:00, 2642.25it/s]\n",
      "100%|██████████| 5/5 [00:00<00:00, 5185.84it/s]\n",
      "100%|██████████| 5/5 [00:00<00:00, 2547.56it/s]\n",
      "100%|██████████| 5/5 [00:00<00:00, 2505.26it/s]\n",
      "100%|██████████| 5/5 [00:00<00:00, 5201.27it/s]\n",
      "100%|██████████| 5/5 [00:00<00:00, 2553.45it/s]"
     ]
    },
    {
     "name": "stdout",
     "output_type": "stream",
     "text": [
      "{'max_geracoes': 500, 'capacidade': 5, 'vertices': 40, 'npacotes': 200, 'n_individuos': 5, 'n_caminhoes': 48, 'min_variacao': 0.05, 'strikes': 9}\n"
     ]
    },
    {
     "name": "stderr",
     "output_type": "stream",
     "text": [
      "\n",
      "100%|██████████| 5/5 [00:00<00:00, 5194.83it/s]\n",
      "100%|██████████| 5/5 [00:00<00:00, 5778.87it/s]\n",
      "100%|██████████| 5/5 [00:00<00:00, 5018.31it/s]\n",
      "100%|██████████| 5/5 [00:00<00:00, 5021.92it/s]\n",
      "100%|██████████| 10/10 [00:00<00:00, 3358.40it/s]\n",
      "100%|██████████| 10/10 [00:00<00:00, 2507.06it/s]"
     ]
    },
    {
     "name": "stdout",
     "output_type": "stream",
     "text": [
      "{'max_geracoes': 500, 'capacidade': 5, 'vertices': 40, 'npacotes': 200, 'n_individuos': 10, 'n_caminhoes': 48, 'min_variacao': 0.001, 'strikes': 3}\n"
     ]
    },
    {
     "name": "stderr",
     "output_type": "stream",
     "text": [
      "\n",
      "100%|██████████| 10/10 [00:00<00:00, 2507.21it/s]"
     ]
    },
    {
     "name": "stdout",
     "output_type": "stream",
     "text": [
      "{'max_geracoes': 500, 'capacidade': 5, 'vertices': 40, 'npacotes': 200, 'n_individuos': 10, 'n_caminhoes': 48, 'min_variacao': 0.001, 'strikes': 6}\n"
     ]
    },
    {
     "name": "stderr",
     "output_type": "stream",
     "text": [
      "\n",
      "100%|██████████| 10/10 [00:00<00:00, 3351.96it/s]"
     ]
    },
    {
     "name": "stdout",
     "output_type": "stream",
     "text": [
      "{'max_geracoes': 500, 'capacidade': 5, 'vertices': 40, 'npacotes': 200, 'n_individuos': 10, 'n_caminhoes': 48, 'min_variacao': 0.001, 'strikes': 9}\n"
     ]
    },
    {
     "name": "stderr",
     "output_type": "stream",
     "text": [
      "\n",
      "100%|██████████| 10/10 [00:00<00:00, 3351.42it/s]"
     ]
    },
    {
     "name": "stdout",
     "output_type": "stream",
     "text": [
      "{'max_geracoes': 500, 'capacidade': 5, 'vertices': 40, 'npacotes': 200, 'n_individuos': 10, 'n_caminhoes': 48, 'min_variacao': 0.001, 'strikes': 12}\n"
     ]
    },
    {
     "name": "stderr",
     "output_type": "stream",
     "text": [
      "\n",
      "100%|██████████| 10/10 [00:00<00:00, 5096.98it/s]"
     ]
    },
    {
     "name": "stdout",
     "output_type": "stream",
     "text": [
      "{'max_geracoes': 500, 'capacidade': 5, 'vertices': 40, 'npacotes': 200, 'n_individuos': 10, 'n_caminhoes': 48, 'min_variacao': 0.001, 'strikes': 3}\n"
     ]
    },
    {
     "name": "stderr",
     "output_type": "stream",
     "text": [
      "\n",
      "100%|██████████| 10/10 [00:00<00:00, 2531.72it/s]"
     ]
    },
    {
     "name": "stdout",
     "output_type": "stream",
     "text": [
      "{'max_geracoes': 500, 'capacidade': 5, 'vertices': 40, 'npacotes': 200, 'n_individuos': 10, 'n_caminhoes': 48, 'min_variacao': 0.001, 'strikes': 6}\n"
     ]
    },
    {
     "name": "stderr",
     "output_type": "stream",
     "text": [
      "\n",
      "100%|██████████| 10/10 [00:00<00:00, 5014.71it/s]"
     ]
    },
    {
     "name": "stdout",
     "output_type": "stream",
     "text": [
      "{'max_geracoes': 500, 'capacidade': 5, 'vertices': 40, 'npacotes': 200, 'n_individuos': 10, 'n_caminhoes': 48, 'min_variacao': 0.001, 'strikes': 9}\n"
     ]
    },
    {
     "name": "stderr",
     "output_type": "stream",
     "text": [
      "\n",
      "100%|██████████| 10/10 [00:00<00:00, 3376.24it/s]"
     ]
    },
    {
     "name": "stdout",
     "output_type": "stream",
     "text": [
      "{'max_geracoes': 500, 'capacidade': 5, 'vertices': 40, 'npacotes': 200, 'n_individuos': 10, 'n_caminhoes': 48, 'min_variacao': 0.001, 'strikes': 12}\n"
     ]
    },
    {
     "name": "stderr",
     "output_type": "stream",
     "text": [
      "\n",
      "100%|██████████| 10/10 [00:00<00:00, 4944.36it/s]"
     ]
    },
    {
     "name": "stdout",
     "output_type": "stream",
     "text": [
      "{'max_geracoes': 500, 'capacidade': 5, 'vertices': 40, 'npacotes': 200, 'n_individuos': 10, 'n_caminhoes': 48, 'min_variacao': 0.001, 'strikes': 3}\n"
     ]
    },
    {
     "name": "stderr",
     "output_type": "stream",
     "text": [
      "\n",
      "100%|██████████| 10/10 [00:00<00:00, 3374.34it/s]"
     ]
    },
    {
     "name": "stdout",
     "output_type": "stream",
     "text": [
      "{'max_geracoes': 500, 'capacidade': 5, 'vertices': 40, 'npacotes': 200, 'n_individuos': 10, 'n_caminhoes': 48, 'min_variacao': 0.001, 'strikes': 6}\n"
     ]
    },
    {
     "name": "stderr",
     "output_type": "stream",
     "text": [
      "\n",
      "100%|██████████| 10/10 [00:00<00:00, 3350.89it/s]"
     ]
    },
    {
     "name": "stdout",
     "output_type": "stream",
     "text": [
      "{'max_geracoes': 500, 'capacidade': 5, 'vertices': 40, 'npacotes': 200, 'n_individuos': 10, 'n_caminhoes': 48, 'min_variacao': 0.001, 'strikes': 9}\n"
     ]
    },
    {
     "name": "stderr",
     "output_type": "stream",
     "text": [
      "\n",
      "100%|██████████| 10/10 [00:00<00:00, 3382.78it/s]"
     ]
    },
    {
     "name": "stdout",
     "output_type": "stream",
     "text": [
      "{'max_geracoes': 500, 'capacidade': 5, 'vertices': 40, 'npacotes': 200, 'n_individuos': 10, 'n_caminhoes': 48, 'min_variacao': 0.001, 'strikes': 12}\n"
     ]
    },
    {
     "name": "stderr",
     "output_type": "stream",
     "text": [
      "\n",
      "100%|██████████| 10/10 [00:00<00:00, 5096.36it/s]"
     ]
    },
    {
     "name": "stdout",
     "output_type": "stream",
     "text": [
      "{'max_geracoes': 500, 'capacidade': 5, 'vertices': 40, 'npacotes': 200, 'n_individuos': 10, 'n_caminhoes': 48, 'min_variacao': 0.005, 'strikes': 3}\n"
     ]
    },
    {
     "name": "stderr",
     "output_type": "stream",
     "text": [
      "\n",
      "100%|██████████| 10/10 [00:00<00:00, 3376.51it/s]"
     ]
    },
    {
     "name": "stdout",
     "output_type": "stream",
     "text": [
      "{'max_geracoes': 500, 'capacidade': 5, 'vertices': 40, 'npacotes': 200, 'n_individuos': 10, 'n_caminhoes': 48, 'min_variacao': 0.005, 'strikes': 6}\n"
     ]
    },
    {
     "name": "stderr",
     "output_type": "stream",
     "text": [
      "\n",
      "100%|██████████| 10/10 [00:00<00:00, 3342.87it/s]"
     ]
    },
    {
     "name": "stdout",
     "output_type": "stream",
     "text": [
      "{'max_geracoes': 500, 'capacidade': 5, 'vertices': 40, 'npacotes': 200, 'n_individuos': 10, 'n_caminhoes': 48, 'min_variacao': 0.005, 'strikes': 9}\n"
     ]
    },
    {
     "name": "stderr",
     "output_type": "stream",
     "text": [
      "\n",
      "100%|██████████| 10/10 [00:00<00:00, 4992.62it/s]"
     ]
    },
    {
     "name": "stdout",
     "output_type": "stream",
     "text": [
      "{'max_geracoes': 500, 'capacidade': 5, 'vertices': 40, 'npacotes': 200, 'n_individuos': 10, 'n_caminhoes': 48, 'min_variacao': 0.005, 'strikes': 12}\n"
     ]
    },
    {
     "name": "stderr",
     "output_type": "stream",
     "text": [
      "\n",
      "100%|██████████| 10/10 [00:00<00:00, 5040.02it/s]"
     ]
    },
    {
     "name": "stdout",
     "output_type": "stream",
     "text": [
      "{'max_geracoes': 500, 'capacidade': 5, 'vertices': 40, 'npacotes': 200, 'n_individuos': 10, 'n_caminhoes': 48, 'min_variacao': 0.005, 'strikes': 3}\n"
     ]
    },
    {
     "name": "stderr",
     "output_type": "stream",
     "text": [
      "\n",
      "100%|██████████| 10/10 [00:00<00:00, 2963.75it/s]"
     ]
    },
    {
     "name": "stdout",
     "output_type": "stream",
     "text": [
      "{'max_geracoes': 500, 'capacidade': 5, 'vertices': 40, 'npacotes': 200, 'n_individuos': 10, 'n_caminhoes': 48, 'min_variacao': 0.005, 'strikes': 6}\n"
     ]
    },
    {
     "name": "stderr",
     "output_type": "stream",
     "text": [
      "\n",
      "100%|██████████| 10/10 [00:00<00:00, 2512.31it/s]"
     ]
    },
    {
     "name": "stdout",
     "output_type": "stream",
     "text": [
      "{'max_geracoes': 500, 'capacidade': 5, 'vertices': 40, 'npacotes': 200, 'n_individuos': 10, 'n_caminhoes': 48, 'min_variacao': 0.005, 'strikes': 9}\n"
     ]
    },
    {
     "name": "stderr",
     "output_type": "stream",
     "text": [
      "\n",
      "100%|██████████| 10/10 [00:00<00:00, 3351.15it/s]"
     ]
    },
    {
     "name": "stdout",
     "output_type": "stream",
     "text": [
      "{'max_geracoes': 500, 'capacidade': 5, 'vertices': 40, 'npacotes': 200, 'n_individuos': 10, 'n_caminhoes': 48, 'min_variacao': 0.005, 'strikes': 12}\n"
     ]
    },
    {
     "name": "stderr",
     "output_type": "stream",
     "text": [
      "\n",
      "100%|██████████| 10/10 [00:00<00:00, 3375.15it/s]"
     ]
    },
    {
     "name": "stdout",
     "output_type": "stream",
     "text": [
      "{'max_geracoes': 500, 'capacidade': 5, 'vertices': 40, 'npacotes': 200, 'n_individuos': 10, 'n_caminhoes': 48, 'min_variacao': 0.005, 'strikes': 3}\n"
     ]
    },
    {
     "name": "stderr",
     "output_type": "stream",
     "text": [
      "\n",
      "100%|██████████| 10/10 [00:00<00:00, 3387.15it/s]"
     ]
    },
    {
     "name": "stdout",
     "output_type": "stream",
     "text": [
      "{'max_geracoes': 500, 'capacidade': 5, 'vertices': 40, 'npacotes': 200, 'n_individuos': 10, 'n_caminhoes': 48, 'min_variacao': 0.005, 'strikes': 6}\n"
     ]
    },
    {
     "name": "stderr",
     "output_type": "stream",
     "text": [
      "\n",
      "100%|██████████| 10/10 [00:00<00:00, 3337.55it/s]"
     ]
    },
    {
     "name": "stdout",
     "output_type": "stream",
     "text": [
      "{'max_geracoes': 500, 'capacidade': 5, 'vertices': 40, 'npacotes': 200, 'n_individuos': 10, 'n_caminhoes': 48, 'min_variacao': 0.005, 'strikes': 9}\n"
     ]
    },
    {
     "name": "stderr",
     "output_type": "stream",
     "text": [
      "\n",
      "100%|██████████| 10/10 [00:00<00:00, 5090.79it/s]"
     ]
    },
    {
     "name": "stdout",
     "output_type": "stream",
     "text": [
      "{'max_geracoes': 500, 'capacidade': 5, 'vertices': 40, 'npacotes': 200, 'n_individuos': 10, 'n_caminhoes': 48, 'min_variacao': 0.005, 'strikes': 12}\n"
     ]
    },
    {
     "name": "stderr",
     "output_type": "stream",
     "text": [
      "\n",
      "100%|██████████| 10/10 [00:00<00:00, 3343.14it/s]\n",
      "100%|██████████| 10/10 [00:00<00:00, 5014.71it/s]"
     ]
    },
    {
     "name": "stdout",
     "output_type": "stream",
     "text": [
      "{'max_geracoes': 500, 'capacidade': 5, 'vertices': 40, 'npacotes': 200, 'n_individuos': 10, 'n_caminhoes': 48, 'min_variacao': 0.01, 'strikes': 6}\n"
     ]
    },
    {
     "name": "stderr",
     "output_type": "stream",
     "text": [
      "\n",
      "100%|██████████| 10/10 [00:00<00:00, 3331.99it/s]"
     ]
    },
    {
     "name": "stdout",
     "output_type": "stream",
     "text": [
      "{'max_geracoes': 500, 'capacidade': 5, 'vertices': 40, 'npacotes': 200, 'n_individuos': 10, 'n_caminhoes': 48, 'min_variacao': 0.01, 'strikes': 9}\n"
     ]
    },
    {
     "name": "stderr",
     "output_type": "stream",
     "text": [
      "\n",
      "100%|██████████| 10/10 [00:00<00:00, 3349.28it/s]"
     ]
    },
    {
     "name": "stdout",
     "output_type": "stream",
     "text": [
      "{'max_geracoes': 500, 'capacidade': 5, 'vertices': 40, 'npacotes': 200, 'n_individuos': 10, 'n_caminhoes': 48, 'min_variacao': 0.01, 'strikes': 12}\n"
     ]
    },
    {
     "name": "stderr",
     "output_type": "stream",
     "text": [
      "\n",
      "100%|██████████| 10/10 [00:00<00:00, 3394.00it/s]"
     ]
    },
    {
     "name": "stdout",
     "output_type": "stream",
     "text": [
      "{'max_geracoes': 500, 'capacidade': 5, 'vertices': 40, 'npacotes': 200, 'n_individuos': 10, 'n_caminhoes': 48, 'min_variacao': 0.01, 'strikes': 3}\n"
     ]
    },
    {
     "name": "stderr",
     "output_type": "stream",
     "text": [
      "\n",
      "100%|██████████| 10/10 [00:00<00:00, 3381.41it/s]"
     ]
    },
    {
     "name": "stdout",
     "output_type": "stream",
     "text": [
      "{'max_geracoes': 500, 'capacidade': 5, 'vertices': 40, 'npacotes': 200, 'n_individuos': 10, 'n_caminhoes': 48, 'min_variacao': 0.01, 'strikes': 6}\n"
     ]
    },
    {
     "name": "stderr",
     "output_type": "stream",
     "text": [
      "\n",
      "100%|██████████| 10/10 [00:00<00:00, 3341.81it/s]"
     ]
    },
    {
     "name": "stdout",
     "output_type": "stream",
     "text": [
      "{'max_geracoes': 500, 'capacidade': 5, 'vertices': 40, 'npacotes': 200, 'n_individuos': 10, 'n_caminhoes': 48, 'min_variacao': 0.01, 'strikes': 9}\n"
     ]
    },
    {
     "name": "stderr",
     "output_type": "stream",
     "text": [
      "\n",
      "100%|██████████| 10/10 [00:00<00:00, 2512.91it/s]"
     ]
    },
    {
     "name": "stdout",
     "output_type": "stream",
     "text": [
      "{'max_geracoes': 500, 'capacidade': 5, 'vertices': 40, 'npacotes': 200, 'n_individuos': 10, 'n_caminhoes': 48, 'min_variacao': 0.01, 'strikes': 12}\n"
     ]
    },
    {
     "name": "stderr",
     "output_type": "stream",
     "text": [
      "\n",
      "100%|██████████| 10/10 [00:00<00:00, 3343.41it/s]\n",
      "100%|██████████| 10/10 [00:00<00:00, 5004.54it/s]"
     ]
    },
    {
     "name": "stdout",
     "output_type": "stream",
     "text": [
      "{'max_geracoes': 500, 'capacidade': 5, 'vertices': 40, 'npacotes': 200, 'n_individuos': 10, 'n_caminhoes': 48, 'min_variacao': 0.01, 'strikes': 6}\n"
     ]
    },
    {
     "name": "stderr",
     "output_type": "stream",
     "text": [
      "\n",
      "100%|██████████| 10/10 [00:00<00:00, 3342.61it/s]\n",
      "100%|██████████| 10/10 [00:00<00:00, 3345.27it/s]"
     ]
    },
    {
     "name": "stdout",
     "output_type": "stream",
     "text": [
      "{'max_geracoes': 500, 'capacidade': 5, 'vertices': 40, 'npacotes': 200, 'n_individuos': 10, 'n_caminhoes': 48, 'min_variacao': 0.01, 'strikes': 12}\n"
     ]
    },
    {
     "name": "stderr",
     "output_type": "stream",
     "text": [
      "\n",
      "100%|██████████| 10/10 [00:00<00:00, 4929.84it/s]\n",
      "100%|██████████| 10/10 [00:00<00:00, 5087.09it/s]\n",
      "100%|██████████| 10/10 [00:00<00:00, 3068.93it/s]\n",
      "100%|██████████| 10/10 [00:00<00:00, 3341.28it/s]\n",
      "100%|██████████| 10/10 [00:00<00:00, 3342.07it/s]\n",
      "100%|██████████| 10/10 [00:00<00:00, 5014.71it/s]\n",
      "100%|██████████| 10/10 [00:00<00:00, 3342.61it/s]\n",
      "100%|██████████| 10/10 [00:00<00:00, 5083.39it/s]\n",
      "100%|██████████| 10/10 [00:00<00:00, 3350.62it/s]\n",
      "100%|██████████| 10/10 [00:00<00:00, 5107.53it/s]\n",
      "100%|██████████| 10/10 [00:00<00:00, 3354.37it/s]"
     ]
    },
    {
     "name": "stdout",
     "output_type": "stream",
     "text": [
      "{'max_geracoes': 500, 'capacidade': 5, 'vertices': 40, 'npacotes': 200, 'n_individuos': 10, 'n_caminhoes': 48, 'min_variacao': 0.05, 'strikes': 9}\n"
     ]
    },
    {
     "name": "stderr",
     "output_type": "stream",
     "text": [
      "\n",
      "100%|██████████| 15/15 [00:00<00:00, 5017.51it/s]"
     ]
    },
    {
     "name": "stdout",
     "output_type": "stream",
     "text": [
      "{'max_geracoes': 500, 'capacidade': 5, 'vertices': 40, 'npacotes': 200, 'n_individuos': 10, 'n_caminhoes': 48, 'min_variacao': 0.05, 'strikes': 12}\n"
     ]
    },
    {
     "name": "stderr",
     "output_type": "stream",
     "text": [
      "\n",
      "100%|██████████| 15/15 [00:00<00:00, 3769.14it/s]"
     ]
    },
    {
     "name": "stdout",
     "output_type": "stream",
     "text": [
      "{'max_geracoes': 500, 'capacidade': 5, 'vertices': 40, 'npacotes': 200, 'n_individuos': 15, 'n_caminhoes': 48, 'min_variacao': 0.001, 'strikes': 3}\n"
     ]
    },
    {
     "name": "stderr",
     "output_type": "stream",
     "text": [
      "\n",
      "100%|██████████| 15/15 [00:00<00:00, 3760.58it/s]"
     ]
    },
    {
     "name": "stdout",
     "output_type": "stream",
     "text": [
      "{'max_geracoes': 500, 'capacidade': 5, 'vertices': 40, 'npacotes': 200, 'n_individuos': 15, 'n_caminhoes': 48, 'min_variacao': 0.001, 'strikes': 6}\n"
     ]
    },
    {
     "name": "stderr",
     "output_type": "stream",
     "text": [
      "\n",
      "100%|██████████| 15/15 [00:00<00:00, 3771.18it/s]"
     ]
    },
    {
     "name": "stdout",
     "output_type": "stream",
     "text": [
      "{'max_geracoes': 500, 'capacidade': 5, 'vertices': 40, 'npacotes': 200, 'n_individuos': 15, 'n_caminhoes': 48, 'min_variacao': 0.001, 'strikes': 9}\n"
     ]
    },
    {
     "name": "stderr",
     "output_type": "stream",
     "text": [
      "\n",
      "100%|██████████| 15/15 [00:00<00:00, 3456.84it/s]"
     ]
    },
    {
     "name": "stdout",
     "output_type": "stream",
     "text": [
      "{'max_geracoes': 500, 'capacidade': 5, 'vertices': 40, 'npacotes': 200, 'n_individuos': 15, 'n_caminhoes': 48, 'min_variacao': 0.001, 'strikes': 12}\n"
     ]
    },
    {
     "name": "stderr",
     "output_type": "stream",
     "text": [
      "\n",
      "100%|██████████| 15/15 [00:00<00:00, 3742.24it/s]"
     ]
    },
    {
     "name": "stdout",
     "output_type": "stream",
     "text": [
      "{'max_geracoes': 500, 'capacidade': 5, 'vertices': 40, 'npacotes': 200, 'n_individuos': 15, 'n_caminhoes': 48, 'min_variacao': 0.001, 'strikes': 3}\n"
     ]
    },
    {
     "name": "stderr",
     "output_type": "stream",
     "text": [
      "\n",
      "100%|██████████| 15/15 [00:00<00:00, 3740.46it/s]"
     ]
    },
    {
     "name": "stdout",
     "output_type": "stream",
     "text": [
      "{'max_geracoes': 500, 'capacidade': 5, 'vertices': 40, 'npacotes': 200, 'n_individuos': 15, 'n_caminhoes': 48, 'min_variacao': 0.001, 'strikes': 6}\n"
     ]
    },
    {
     "name": "stderr",
     "output_type": "stream",
     "text": [
      "\n",
      "100%|██████████| 15/15 [00:00<00:00, 2970.33it/s]"
     ]
    },
    {
     "name": "stdout",
     "output_type": "stream",
     "text": [
      "{'max_geracoes': 500, 'capacidade': 5, 'vertices': 40, 'npacotes': 200, 'n_individuos': 15, 'n_caminhoes': 48, 'min_variacao': 0.001, 'strikes': 9}\n"
     ]
    },
    {
     "name": "stderr",
     "output_type": "stream",
     "text": [
      "\n",
      "100%|██████████| 15/15 [00:00<00:00, 3638.36it/s]"
     ]
    },
    {
     "name": "stdout",
     "output_type": "stream",
     "text": [
      "{'max_geracoes': 500, 'capacidade': 5, 'vertices': 40, 'npacotes': 200, 'n_individuos': 15, 'n_caminhoes': 48, 'min_variacao': 0.001, 'strikes': 12}\n"
     ]
    },
    {
     "name": "stderr",
     "output_type": "stream",
     "text": [
      "\n",
      "100%|██████████| 15/15 [00:00<00:00, 3773.67it/s]"
     ]
    },
    {
     "name": "stdout",
     "output_type": "stream",
     "text": [
      "{'max_geracoes': 500, 'capacidade': 5, 'vertices': 40, 'npacotes': 200, 'n_individuos': 15, 'n_caminhoes': 48, 'min_variacao': 0.001, 'strikes': 3}\n"
     ]
    },
    {
     "name": "stderr",
     "output_type": "stream",
     "text": [
      "\n",
      "100%|██████████| 15/15 [00:00<00:00, 3759.91it/s]"
     ]
    },
    {
     "name": "stdout",
     "output_type": "stream",
     "text": [
      "{'max_geracoes': 500, 'capacidade': 5, 'vertices': 40, 'npacotes': 200, 'n_individuos': 15, 'n_caminhoes': 48, 'min_variacao': 0.001, 'strikes': 6}\n"
     ]
    },
    {
     "name": "stderr",
     "output_type": "stream",
     "text": [
      "\n",
      "100%|██████████| 15/15 [00:00<00:00, 3764.18it/s]"
     ]
    },
    {
     "name": "stdout",
     "output_type": "stream",
     "text": [
      "{'max_geracoes': 500, 'capacidade': 5, 'vertices': 40, 'npacotes': 200, 'n_individuos': 15, 'n_caminhoes': 48, 'min_variacao': 0.001, 'strikes': 9}\n"
     ]
    },
    {
     "name": "stderr",
     "output_type": "stream",
     "text": [
      "\n",
      "100%|██████████| 15/15 [00:00<00:00, 3761.71it/s]"
     ]
    },
    {
     "name": "stdout",
     "output_type": "stream",
     "text": [
      "{'max_geracoes': 500, 'capacidade': 5, 'vertices': 40, 'npacotes': 200, 'n_individuos': 15, 'n_caminhoes': 48, 'min_variacao': 0.001, 'strikes': 12}\n"
     ]
    },
    {
     "name": "stderr",
     "output_type": "stream",
     "text": [
      "\n",
      "100%|██████████| 15/15 [00:00<00:00, 3743.35it/s]"
     ]
    },
    {
     "name": "stdout",
     "output_type": "stream",
     "text": [
      "{'max_geracoes': 500, 'capacidade': 5, 'vertices': 40, 'npacotes': 200, 'n_individuos': 15, 'n_caminhoes': 48, 'min_variacao': 0.005, 'strikes': 3}\n"
     ]
    },
    {
     "name": "stderr",
     "output_type": "stream",
     "text": [
      "\n",
      "100%|██████████| 15/15 [00:00<00:00, 3732.47it/s]"
     ]
    },
    {
     "name": "stdout",
     "output_type": "stream",
     "text": [
      "{'max_geracoes': 500, 'capacidade': 5, 'vertices': 40, 'npacotes': 200, 'n_individuos': 15, 'n_caminhoes': 48, 'min_variacao': 0.005, 'strikes': 6}\n"
     ]
    },
    {
     "name": "stderr",
     "output_type": "stream",
     "text": [
      "\n",
      "100%|██████████| 15/15 [00:00<00:00, 3009.11it/s]"
     ]
    },
    {
     "name": "stdout",
     "output_type": "stream",
     "text": [
      "{'max_geracoes': 500, 'capacidade': 5, 'vertices': 40, 'npacotes': 200, 'n_individuos': 15, 'n_caminhoes': 48, 'min_variacao': 0.005, 'strikes': 9}\n"
     ]
    },
    {
     "name": "stderr",
     "output_type": "stream",
     "text": [
      "\n",
      "100%|██████████| 15/15 [00:00<00:00, 3755.20it/s]"
     ]
    },
    {
     "name": "stdout",
     "output_type": "stream",
     "text": [
      "{'max_geracoes': 500, 'capacidade': 5, 'vertices': 40, 'npacotes': 200, 'n_individuos': 15, 'n_caminhoes': 48, 'min_variacao': 0.005, 'strikes': 12}\n"
     ]
    },
    {
     "name": "stderr",
     "output_type": "stream",
     "text": [
      "\n",
      "100%|██████████| 15/15 [00:00<00:00, 3010.70it/s]"
     ]
    },
    {
     "name": "stdout",
     "output_type": "stream",
     "text": [
      "{'max_geracoes': 500, 'capacidade': 5, 'vertices': 40, 'npacotes': 200, 'n_individuos': 15, 'n_caminhoes': 48, 'min_variacao': 0.005, 'strikes': 3}\n"
     ]
    },
    {
     "name": "stderr",
     "output_type": "stream",
     "text": [
      "\n",
      "100%|██████████| 15/15 [00:00<00:00, 4998.77it/s]"
     ]
    },
    {
     "name": "stdout",
     "output_type": "stream",
     "text": [
      "{'max_geracoes': 500, 'capacidade': 5, 'vertices': 40, 'npacotes': 200, 'n_individuos': 15, 'n_caminhoes': 48, 'min_variacao': 0.005, 'strikes': 6}\n"
     ]
    },
    {
     "name": "stderr",
     "output_type": "stream",
     "text": [
      "\n",
      "100%|██████████| 15/15 [00:00<00:00, 3786.61it/s]"
     ]
    },
    {
     "name": "stdout",
     "output_type": "stream",
     "text": [
      "{'max_geracoes': 500, 'capacidade': 5, 'vertices': 40, 'npacotes': 200, 'n_individuos': 15, 'n_caminhoes': 48, 'min_variacao': 0.005, 'strikes': 9}\n"
     ]
    },
    {
     "name": "stderr",
     "output_type": "stream",
     "text": [
      "\n",
      "100%|██████████| 15/15 [00:00<00:00, 3759.24it/s]"
     ]
    },
    {
     "name": "stdout",
     "output_type": "stream",
     "text": [
      "{'max_geracoes': 500, 'capacidade': 5, 'vertices': 40, 'npacotes': 200, 'n_individuos': 15, 'n_caminhoes': 48, 'min_variacao': 0.005, 'strikes': 12}\n"
     ]
    },
    {
     "name": "stderr",
     "output_type": "stream",
     "text": [
      "\n",
      "100%|██████████| 15/15 [00:00<00:00, 3732.47it/s]\n",
      "100%|██████████| 15/15 [00:00<00:00, 3786.84it/s]"
     ]
    },
    {
     "name": "stdout",
     "output_type": "stream",
     "text": [
      "{'max_geracoes': 500, 'capacidade': 5, 'vertices': 40, 'npacotes': 200, 'n_individuos': 15, 'n_caminhoes': 48, 'min_variacao': 0.005, 'strikes': 6}\n"
     ]
    },
    {
     "name": "stderr",
     "output_type": "stream",
     "text": [
      "\n",
      "100%|██████████| 15/15 [00:00<00:00, 5015.11it/s]\n",
      "100%|██████████| 15/15 [00:00<00:00, 3758.34it/s]"
     ]
    },
    {
     "name": "stdout",
     "output_type": "stream",
     "text": [
      "{'max_geracoes': 500, 'capacidade': 5, 'vertices': 40, 'npacotes': 200, 'n_individuos': 15, 'n_caminhoes': 48, 'min_variacao': 0.005, 'strikes': 12}\n"
     ]
    },
    {
     "name": "stderr",
     "output_type": "stream",
     "text": [
      "\n",
      "100%|██████████| 15/15 [00:00<00:00, 3793.00it/s]"
     ]
    },
    {
     "name": "stdout",
     "output_type": "stream",
     "text": [
      "{'max_geracoes': 500, 'capacidade': 5, 'vertices': 40, 'npacotes': 200, 'n_individuos': 15, 'n_caminhoes': 48, 'min_variacao': 0.01, 'strikes': 3}\n"
     ]
    },
    {
     "name": "stderr",
     "output_type": "stream",
     "text": [
      "\n",
      "100%|██████████| 15/15 [00:00<00:00, 3019.95it/s]"
     ]
    },
    {
     "name": "stdout",
     "output_type": "stream",
     "text": [
      "{'max_geracoes': 500, 'capacidade': 5, 'vertices': 40, 'npacotes': 200, 'n_individuos': 15, 'n_caminhoes': 48, 'min_variacao': 0.01, 'strikes': 6}\n"
     ]
    },
    {
     "name": "stderr",
     "output_type": "stream",
     "text": [
      "\n",
      "100%|██████████| 15/15 [00:00<00:00, 3759.68it/s]"
     ]
    },
    {
     "name": "stdout",
     "output_type": "stream",
     "text": [
      "{'max_geracoes': 500, 'capacidade': 5, 'vertices': 40, 'npacotes': 200, 'n_individuos': 15, 'n_caminhoes': 48, 'min_variacao': 0.01, 'strikes': 9}\n"
     ]
    },
    {
     "name": "stderr",
     "output_type": "stream",
     "text": [
      "\n",
      "100%|██████████| 15/15 [00:00<00:00, 3727.17it/s]"
     ]
    },
    {
     "name": "stdout",
     "output_type": "stream",
     "text": [
      "{'max_geracoes': 500, 'capacidade': 5, 'vertices': 40, 'npacotes': 200, 'n_individuos': 15, 'n_caminhoes': 48, 'min_variacao': 0.01, 'strikes': 12}\n"
     ]
    },
    {
     "name": "stderr",
     "output_type": "stream",
     "text": [
      "\n",
      "100%|██████████| 15/15 [00:00<00:00, 3733.58it/s]"
     ]
    },
    {
     "name": "stdout",
     "output_type": "stream",
     "text": [
      "{'max_geracoes': 500, 'capacidade': 5, 'vertices': 40, 'npacotes': 200, 'n_individuos': 15, 'n_caminhoes': 48, 'min_variacao': 0.01, 'strikes': 3}\n"
     ]
    },
    {
     "name": "stderr",
     "output_type": "stream",
     "text": [
      "\n",
      "100%|██████████| 15/15 [00:00<00:00, 3761.71it/s]"
     ]
    },
    {
     "name": "stdout",
     "output_type": "stream",
     "text": [
      "{'max_geracoes': 500, 'capacidade': 5, 'vertices': 40, 'npacotes': 200, 'n_individuos': 15, 'n_caminhoes': 48, 'min_variacao': 0.01, 'strikes': 6}\n"
     ]
    },
    {
     "name": "stderr",
     "output_type": "stream",
     "text": [
      "\n",
      "100%|██████████| 15/15 [00:00<00:00, 3752.73it/s]"
     ]
    },
    {
     "name": "stdout",
     "output_type": "stream",
     "text": [
      "{'max_geracoes': 500, 'capacidade': 5, 'vertices': 40, 'npacotes': 200, 'n_individuos': 15, 'n_caminhoes': 48, 'min_variacao': 0.01, 'strikes': 9}\n"
     ]
    },
    {
     "name": "stderr",
     "output_type": "stream",
     "text": [
      "\n",
      "100%|██████████| 15/15 [00:00<00:00, 3739.13it/s]"
     ]
    },
    {
     "name": "stdout",
     "output_type": "stream",
     "text": [
      "{'max_geracoes': 500, 'capacidade': 5, 'vertices': 40, 'npacotes': 200, 'n_individuos': 15, 'n_caminhoes': 48, 'min_variacao': 0.01, 'strikes': 12}\n"
     ]
    },
    {
     "name": "stderr",
     "output_type": "stream",
     "text": [
      "\n",
      "100%|██████████| 15/15 [00:00<00:00, 3747.59it/s]"
     ]
    },
    {
     "name": "stdout",
     "output_type": "stream",
     "text": [
      "{'max_geracoes': 500, 'capacidade': 5, 'vertices': 40, 'npacotes': 200, 'n_individuos': 15, 'n_caminhoes': 48, 'min_variacao': 0.01, 'strikes': 3}\n"
     ]
    },
    {
     "name": "stderr",
     "output_type": "stream",
     "text": [
      "\n",
      "100%|██████████| 15/15 [00:00<00:00, 3753.40it/s]"
     ]
    },
    {
     "name": "stdout",
     "output_type": "stream",
     "text": [
      "{'max_geracoes': 500, 'capacidade': 5, 'vertices': 40, 'npacotes': 200, 'n_individuos': 15, 'n_caminhoes': 48, 'min_variacao': 0.01, 'strikes': 6}\n"
     ]
    },
    {
     "name": "stderr",
     "output_type": "stream",
     "text": [
      "\n",
      "100%|██████████| 15/15 [00:00<00:00, 3008.25it/s]"
     ]
    },
    {
     "name": "stdout",
     "output_type": "stream",
     "text": [
      "{'max_geracoes': 500, 'capacidade': 5, 'vertices': 40, 'npacotes': 200, 'n_individuos': 15, 'n_caminhoes': 48, 'min_variacao': 0.01, 'strikes': 9}\n"
     ]
    },
    {
     "name": "stderr",
     "output_type": "stream",
     "text": [
      "\n",
      "100%|██████████| 15/15 [00:00<00:00, 3015.17it/s]"
     ]
    },
    {
     "name": "stdout",
     "output_type": "stream",
     "text": [
      "{'max_geracoes': 500, 'capacidade': 5, 'vertices': 40, 'npacotes': 200, 'n_individuos': 15, 'n_caminhoes': 48, 'min_variacao': 0.01, 'strikes': 12}\n"
     ]
    },
    {
     "name": "stderr",
     "output_type": "stream",
     "text": [
      "\n",
      "100%|██████████| 15/15 [00:00<00:00, 3759.46it/s]\n",
      "100%|██████████| 15/15 [00:00<00:00, 4954.68it/s]"
     ]
    },
    {
     "name": "stdout",
     "output_type": "stream",
     "text": [
      "{'max_geracoes': 500, 'capacidade': 5, 'vertices': 40, 'npacotes': 200, 'n_individuos': 15, 'n_caminhoes': 48, 'min_variacao': 0.05, 'strikes': 6}\n"
     ]
    },
    {
     "name": "stderr",
     "output_type": "stream",
     "text": [
      "\n",
      "100%|██████████| 15/15 [00:00<00:00, 3754.30it/s]"
     ]
    },
    {
     "name": "stdout",
     "output_type": "stream",
     "text": [
      "{'max_geracoes': 500, 'capacidade': 5, 'vertices': 40, 'npacotes': 200, 'n_individuos': 15, 'n_caminhoes': 48, 'min_variacao': 0.05, 'strikes': 9}\n"
     ]
    },
    {
     "name": "stderr",
     "output_type": "stream",
     "text": [
      "\n",
      "100%|██████████| 15/15 [00:00<00:00, 5008.72it/s]\n",
      "100%|██████████| 15/15 [00:00<00:00, 3751.61it/s]\n",
      "100%|██████████| 15/15 [00:00<00:00, 3013.01it/s]"
     ]
    },
    {
     "name": "stdout",
     "output_type": "stream",
     "text": [
      "{'max_geracoes': 500, 'capacidade': 5, 'vertices': 40, 'npacotes': 200, 'n_individuos': 15, 'n_caminhoes': 48, 'min_variacao': 0.05, 'strikes': 6}\n"
     ]
    },
    {
     "name": "stderr",
     "output_type": "stream",
     "text": [
      "\n",
      "100%|██████████| 15/15 [00:00<00:00, 3780.70it/s]"
     ]
    },
    {
     "name": "stdout",
     "output_type": "stream",
     "text": [
      "{'max_geracoes': 500, 'capacidade': 5, 'vertices': 40, 'npacotes': 200, 'n_individuos': 15, 'n_caminhoes': 48, 'min_variacao': 0.05, 'strikes': 9}\n"
     ]
    },
    {
     "name": "stderr",
     "output_type": "stream",
     "text": [
      "\n",
      "100%|██████████| 15/15 [00:00<00:00, 3007.96it/s]\n",
      "100%|██████████| 15/15 [00:00<00:00, 3736.68it/s]\n",
      "100%|██████████| 15/15 [00:00<00:00, 3217.15it/s]\n",
      "100%|██████████| 15/15 [00:00<00:00, 3732.47it/s]\n",
      "100%|██████████| 5/5 [00:00<00:00, 1687.31it/s]"
     ]
    },
    {
     "name": "stdout",
     "output_type": "stream",
     "text": [
      "{'max_geracoes': 500, 'capacidade': 5, 'vertices': 40, 'npacotes': 200, 'n_individuos': 15, 'n_caminhoes': 48, 'min_variacao': 0.05, 'strikes': 12}\n"
     ]
    },
    {
     "name": "stderr",
     "output_type": "stream",
     "text": [
      "\n",
      "100%|██████████| 5/5 [00:00<00:00, 2546.63it/s]"
     ]
    },
    {
     "name": "stdout",
     "output_type": "stream",
     "text": [
      "{'max_geracoes': 500, 'capacidade': 5, 'vertices': 40, 'npacotes': 350, 'n_individuos': 5, 'n_caminhoes': 84, 'min_variacao': 0.001, 'strikes': 3}\n"
     ]
    },
    {
     "name": "stderr",
     "output_type": "stream",
     "text": [
      "\n",
      "100%|██████████| 5/5 [00:00<00:00, 2471.89it/s]"
     ]
    },
    {
     "name": "stdout",
     "output_type": "stream",
     "text": [
      "{'max_geracoes': 500, 'capacidade': 5, 'vertices': 40, 'npacotes': 350, 'n_individuos': 5, 'n_caminhoes': 84, 'min_variacao': 0.001, 'strikes': 6}\n"
     ]
    },
    {
     "name": "stderr",
     "output_type": "stream",
     "text": [
      "\n",
      "100%|██████████| 5/5 [00:00<00:00, 1688.39it/s]"
     ]
    },
    {
     "name": "stdout",
     "output_type": "stream",
     "text": [
      "{'max_geracoes': 500, 'capacidade': 5, 'vertices': 40, 'npacotes': 350, 'n_individuos': 5, 'n_caminhoes': 84, 'min_variacao': 0.001, 'strikes': 9}\n"
     ]
    },
    {
     "name": "stderr",
     "output_type": "stream",
     "text": [
      "\n",
      "100%|██████████| 5/5 [00:00<00:00, 2462.60it/s]"
     ]
    },
    {
     "name": "stdout",
     "output_type": "stream",
     "text": [
      "{'max_geracoes': 500, 'capacidade': 5, 'vertices': 40, 'npacotes': 350, 'n_individuos': 5, 'n_caminhoes': 84, 'min_variacao': 0.001, 'strikes': 12}\n"
     ]
    },
    {
     "name": "stderr",
     "output_type": "stream",
     "text": [
      "\n",
      "100%|██████████| 5/5 [00:00<00:00, 1671.57it/s]"
     ]
    },
    {
     "name": "stdout",
     "output_type": "stream",
     "text": [
      "{'max_geracoes': 500, 'capacidade': 5, 'vertices': 40, 'npacotes': 350, 'n_individuos': 5, 'n_caminhoes': 84, 'min_variacao': 0.001, 'strikes': 3}\n"
     ]
    },
    {
     "name": "stderr",
     "output_type": "stream",
     "text": [
      "\n",
      "100%|██████████| 5/5 [00:00<00:00, 2506.76it/s]"
     ]
    },
    {
     "name": "stdout",
     "output_type": "stream",
     "text": [
      "{'max_geracoes': 500, 'capacidade': 5, 'vertices': 40, 'npacotes': 350, 'n_individuos': 5, 'n_caminhoes': 84, 'min_variacao': 0.001, 'strikes': 6}\n"
     ]
    },
    {
     "name": "stderr",
     "output_type": "stream",
     "text": [
      "\n",
      "100%|██████████| 5/5 [00:00<00:00, 2537.08it/s]"
     ]
    },
    {
     "name": "stdout",
     "output_type": "stream",
     "text": [
      "{'max_geracoes': 500, 'capacidade': 5, 'vertices': 40, 'npacotes': 350, 'n_individuos': 5, 'n_caminhoes': 84, 'min_variacao': 0.001, 'strikes': 9}\n"
     ]
    },
    {
     "name": "stderr",
     "output_type": "stream",
     "text": [
      "\n",
      "100%|██████████| 5/5 [00:00<00:00, 2497.20it/s]"
     ]
    },
    {
     "name": "stdout",
     "output_type": "stream",
     "text": [
      "{'max_geracoes': 500, 'capacidade': 5, 'vertices': 40, 'npacotes': 350, 'n_individuos': 5, 'n_caminhoes': 84, 'min_variacao': 0.001, 'strikes': 12}\n"
     ]
    },
    {
     "name": "stderr",
     "output_type": "stream",
     "text": [
      "\n",
      "100%|██████████| 5/5 [00:00<00:00, 1671.04it/s]"
     ]
    },
    {
     "name": "stdout",
     "output_type": "stream",
     "text": [
      "{'max_geracoes': 500, 'capacidade': 5, 'vertices': 40, 'npacotes': 350, 'n_individuos': 5, 'n_caminhoes': 84, 'min_variacao': 0.001, 'strikes': 3}\n"
     ]
    },
    {
     "name": "stderr",
     "output_type": "stream",
     "text": [
      "\n",
      "100%|██████████| 5/5 [00:00<00:00, 1671.04it/s]"
     ]
    },
    {
     "name": "stdout",
     "output_type": "stream",
     "text": [
      "{'max_geracoes': 500, 'capacidade': 5, 'vertices': 40, 'npacotes': 350, 'n_individuos': 5, 'n_caminhoes': 84, 'min_variacao': 0.001, 'strikes': 6}\n"
     ]
    },
    {
     "name": "stderr",
     "output_type": "stream",
     "text": [
      "\n",
      "100%|██████████| 5/5 [00:00<00:00, 1687.71it/s]"
     ]
    },
    {
     "name": "stdout",
     "output_type": "stream",
     "text": [
      "{'max_geracoes': 500, 'capacidade': 5, 'vertices': 40, 'npacotes': 350, 'n_individuos': 5, 'n_caminhoes': 84, 'min_variacao': 0.001, 'strikes': 9}\n"
     ]
    },
    {
     "name": "stderr",
     "output_type": "stream",
     "text": [
      "\n",
      "100%|██████████| 5/5 [00:00<00:00, 1956.48it/s]"
     ]
    },
    {
     "name": "stdout",
     "output_type": "stream",
     "text": [
      "{'max_geracoes': 500, 'capacidade': 5, 'vertices': 40, 'npacotes': 350, 'n_individuos': 5, 'n_caminhoes': 84, 'min_variacao': 0.001, 'strikes': 12}\n"
     ]
    },
    {
     "name": "stderr",
     "output_type": "stream",
     "text": [
      "\n",
      "100%|██████████| 5/5 [00:00<00:00, 1655.21it/s]"
     ]
    },
    {
     "name": "stdout",
     "output_type": "stream",
     "text": [
      "{'max_geracoes': 500, 'capacidade': 5, 'vertices': 40, 'npacotes': 350, 'n_individuos': 5, 'n_caminhoes': 84, 'min_variacao': 0.005, 'strikes': 3}\n"
     ]
    },
    {
     "name": "stderr",
     "output_type": "stream",
     "text": [
      "\n",
      "100%|██████████| 5/5 [00:00<00:00, 1891.20it/s]"
     ]
    },
    {
     "name": "stdout",
     "output_type": "stream",
     "text": [
      "{'max_geracoes': 500, 'capacidade': 5, 'vertices': 40, 'npacotes': 350, 'n_individuos': 5, 'n_caminhoes': 84, 'min_variacao': 0.005, 'strikes': 6}\n"
     ]
    },
    {
     "name": "stderr",
     "output_type": "stream",
     "text": [
      "\n",
      "100%|██████████| 5/5 [00:00<00:00, 2506.76it/s]"
     ]
    },
    {
     "name": "stdout",
     "output_type": "stream",
     "text": [
      "{'max_geracoes': 500, 'capacidade': 5, 'vertices': 40, 'npacotes': 350, 'n_individuos': 5, 'n_caminhoes': 84, 'min_variacao': 0.005, 'strikes': 9}\n"
     ]
    },
    {
     "name": "stderr",
     "output_type": "stream",
     "text": [
      "\n",
      "100%|██████████| 5/5 [00:00<00:00, 2563.13it/s]"
     ]
    },
    {
     "name": "stdout",
     "output_type": "stream",
     "text": [
      "{'max_geracoes': 500, 'capacidade': 5, 'vertices': 40, 'npacotes': 350, 'n_individuos': 5, 'n_caminhoes': 84, 'min_variacao': 0.005, 'strikes': 12}\n"
     ]
    },
    {
     "name": "stderr",
     "output_type": "stream",
     "text": [
      "\n",
      "100%|██████████| 5/5 [00:00<00:00, 2473.06it/s]"
     ]
    },
    {
     "name": "stdout",
     "output_type": "stream",
     "text": [
      "{'max_geracoes': 500, 'capacidade': 5, 'vertices': 40, 'npacotes': 350, 'n_individuos': 5, 'n_caminhoes': 84, 'min_variacao': 0.005, 'strikes': 3}\n"
     ]
    },
    {
     "name": "stderr",
     "output_type": "stream",
     "text": [
      "\n",
      "100%|██████████| 5/5 [00:00<00:00, 2506.16it/s]\n",
      "100%|██████████| 5/5 [00:00<00:00, 2546.32it/s]"
     ]
    },
    {
     "name": "stdout",
     "output_type": "stream",
     "text": [
      "{'max_geracoes': 500, 'capacidade': 5, 'vertices': 40, 'npacotes': 350, 'n_individuos': 5, 'n_caminhoes': 84, 'min_variacao': 0.005, 'strikes': 9}\n"
     ]
    },
    {
     "name": "stderr",
     "output_type": "stream",
     "text": [
      "\n",
      "100%|██████████| 5/5 [00:00<00:00, 1670.77it/s]"
     ]
    },
    {
     "name": "stdout",
     "output_type": "stream",
     "text": [
      "{'max_geracoes': 500, 'capacidade': 5, 'vertices': 40, 'npacotes': 350, 'n_individuos': 5, 'n_caminhoes': 84, 'min_variacao': 0.005, 'strikes': 12}\n"
     ]
    },
    {
     "name": "stderr",
     "output_type": "stream",
     "text": [
      "\n",
      "100%|██████████| 5/5 [00:00<00:00, 1668.38it/s]"
     ]
    },
    {
     "name": "stdout",
     "output_type": "stream",
     "text": [
      "{'max_geracoes': 500, 'capacidade': 5, 'vertices': 40, 'npacotes': 350, 'n_individuos': 5, 'n_caminhoes': 84, 'min_variacao': 0.005, 'strikes': 3}\n"
     ]
    },
    {
     "name": "stderr",
     "output_type": "stream",
     "text": [
      "\n",
      "100%|██████████| 5/5 [00:00<00:00, 1691.80it/s]\n",
      "100%|██████████| 5/5 [00:00<00:00, 1540.21it/s]"
     ]
    },
    {
     "name": "stdout",
     "output_type": "stream",
     "text": [
      "{'max_geracoes': 500, 'capacidade': 5, 'vertices': 40, 'npacotes': 350, 'n_individuos': 5, 'n_caminhoes': 84, 'min_variacao': 0.005, 'strikes': 9}\n"
     ]
    },
    {
     "name": "stderr",
     "output_type": "stream",
     "text": [
      "\n",
      "100%|██████████| 5/5 [00:00<00:00, 1671.70it/s]"
     ]
    },
    {
     "name": "stdout",
     "output_type": "stream",
     "text": [
      "{'max_geracoes': 500, 'capacidade': 5, 'vertices': 40, 'npacotes': 350, 'n_individuos': 5, 'n_caminhoes': 84, 'min_variacao': 0.005, 'strikes': 12}\n"
     ]
    },
    {
     "name": "stderr",
     "output_type": "stream",
     "text": [
      "\n",
      "100%|██████████| 5/5 [00:00<00:00, 1669.04it/s]"
     ]
    },
    {
     "name": "stdout",
     "output_type": "stream",
     "text": [
      "{'max_geracoes': 500, 'capacidade': 5, 'vertices': 40, 'npacotes': 350, 'n_individuos': 5, 'n_caminhoes': 84, 'min_variacao': 0.01, 'strikes': 3}\n"
     ]
    },
    {
     "name": "stderr",
     "output_type": "stream",
     "text": [
      "\n",
      "100%|██████████| 5/5 [00:00<00:00, 1675.44it/s]\n",
      "100%|██████████| 5/5 [00:00<00:00, 2542.62it/s]\n",
      "100%|██████████| 5/5 [00:00<00:00, 1655.34it/s]"
     ]
    },
    {
     "name": "stdout",
     "output_type": "stream",
     "text": [
      "{'max_geracoes': 500, 'capacidade': 5, 'vertices': 40, 'npacotes': 350, 'n_individuos': 5, 'n_caminhoes': 84, 'min_variacao': 0.01, 'strikes': 12}\n"
     ]
    },
    {
     "name": "stderr",
     "output_type": "stream",
     "text": [
      "\n",
      "100%|██████████| 5/5 [00:00<00:00, 2506.46it/s]\n",
      "100%|██████████| 5/5 [00:00<00:00, 2477.73it/s]\n",
      "100%|██████████| 5/5 [00:00<00:00, 1675.18it/s]\n",
      "100%|██████████| 5/5 [00:00<00:00, 1687.85it/s]\n",
      "100%|██████████| 5/5 [00:00<00:00, 2544.47it/s]\n",
      "100%|██████████| 5/5 [00:00<00:00, 2528.82it/s]"
     ]
    },
    {
     "name": "stdout",
     "output_type": "stream",
     "text": [
      "{'max_geracoes': 500, 'capacidade': 5, 'vertices': 40, 'npacotes': 350, 'n_individuos': 5, 'n_caminhoes': 84, 'min_variacao': 0.01, 'strikes': 6}\n"
     ]
    },
    {
     "name": "stderr",
     "output_type": "stream",
     "text": [
      "\n",
      "100%|██████████| 5/5 [00:00<00:00, 2538.62it/s]"
     ]
    },
    {
     "name": "stdout",
     "output_type": "stream",
     "text": [
      "{'max_geracoes': 500, 'capacidade': 5, 'vertices': 40, 'npacotes': 350, 'n_individuos': 5, 'n_caminhoes': 84, 'min_variacao': 0.01, 'strikes': 9}\n"
     ]
    },
    {
     "name": "stderr",
     "output_type": "stream",
     "text": [
      "\n",
      "100%|██████████| 5/5 [00:00<00:00, 1671.04it/s]\n",
      "100%|██████████| 5/5 [00:00<00:00, 2516.99it/s]\n",
      "100%|██████████| 5/5 [00:00<00:00, 1658.75it/s]\n",
      "100%|██████████| 5/5 [00:00<00:00, 1691.12it/s]\n",
      "100%|██████████| 5/5 [00:00<00:00, 2570.67it/s]\n",
      "100%|██████████| 5/5 [00:00<00:00, 2516.68it/s]\n",
      "100%|██████████| 5/5 [00:00<00:00, 2505.56it/s]\n",
      "100%|██████████| 5/5 [00:00<00:00, 1678.93it/s]\n",
      "100%|██████████| 5/5 [00:00<00:00, 2485.66it/s]\n",
      "100%|██████████| 5/5 [00:00<00:00, 1670.77it/s]\n",
      "100%|██████████| 5/5 [00:00<00:00, 2507.36it/s]\n",
      "100%|██████████| 5/5 [00:00<00:00, 2507.36it/s]\n",
      "100%|██████████| 10/10 [00:00<00:00, 2511.26it/s]\n",
      "100%|██████████| 10/10 [00:00<00:00, 1994.25it/s]"
     ]
    },
    {
     "name": "stdout",
     "output_type": "stream",
     "text": [
      "{'max_geracoes': 500, 'capacidade': 5, 'vertices': 40, 'npacotes': 350, 'n_individuos': 10, 'n_caminhoes': 84, 'min_variacao': 0.001, 'strikes': 3}\n"
     ]
    },
    {
     "name": "stderr",
     "output_type": "stream",
     "text": [
      "\n",
      "100%|██████████| 10/10 [00:00<00:00, 2005.69it/s]"
     ]
    },
    {
     "name": "stdout",
     "output_type": "stream",
     "text": [
      "{'max_geracoes': 500, 'capacidade': 5, 'vertices': 40, 'npacotes': 350, 'n_individuos': 10, 'n_caminhoes': 84, 'min_variacao': 0.001, 'strikes': 6}\n"
     ]
    },
    {
     "name": "stderr",
     "output_type": "stream",
     "text": [
      "\n",
      "100%|██████████| 10/10 [00:00<00:00, 2534.48it/s]"
     ]
    },
    {
     "name": "stdout",
     "output_type": "stream",
     "text": [
      "{'max_geracoes': 500, 'capacidade': 5, 'vertices': 40, 'npacotes': 350, 'n_individuos': 10, 'n_caminhoes': 84, 'min_variacao': 0.001, 'strikes': 9}\n"
     ]
    },
    {
     "name": "stderr",
     "output_type": "stream",
     "text": [
      "\n",
      "100%|██████████| 10/10 [00:00<00:00, 2016.30it/s]"
     ]
    },
    {
     "name": "stdout",
     "output_type": "stream",
     "text": [
      "{'max_geracoes': 500, 'capacidade': 5, 'vertices': 40, 'npacotes': 350, 'n_individuos': 10, 'n_caminhoes': 84, 'min_variacao': 0.001, 'strikes': 12}\n"
     ]
    },
    {
     "name": "stderr",
     "output_type": "stream",
     "text": [
      "\n",
      "100%|██████████| 10/10 [00:00<00:00, 2006.75it/s]"
     ]
    },
    {
     "name": "stdout",
     "output_type": "stream",
     "text": [
      "{'max_geracoes': 500, 'capacidade': 5, 'vertices': 40, 'npacotes': 350, 'n_individuos': 10, 'n_caminhoes': 84, 'min_variacao': 0.001, 'strikes': 3}\n"
     ]
    },
    {
     "name": "stderr",
     "output_type": "stream",
     "text": [
      "\n",
      "100%|██████████| 10/10 [00:00<00:00, 2017.17it/s]"
     ]
    },
    {
     "name": "stdout",
     "output_type": "stream",
     "text": [
      "{'max_geracoes': 500, 'capacidade': 5, 'vertices': 40, 'npacotes': 350, 'n_individuos': 10, 'n_caminhoes': 84, 'min_variacao': 0.001, 'strikes': 6}\n"
     ]
    },
    {
     "name": "stderr",
     "output_type": "stream",
     "text": [
      "\n",
      "100%|██████████| 10/10 [00:00<00:00, 2004.06it/s]"
     ]
    },
    {
     "name": "stdout",
     "output_type": "stream",
     "text": [
      "{'max_geracoes': 500, 'capacidade': 5, 'vertices': 40, 'npacotes': 350, 'n_individuos': 10, 'n_caminhoes': 84, 'min_variacao': 0.001, 'strikes': 9}\n"
     ]
    },
    {
     "name": "stderr",
     "output_type": "stream",
     "text": [
      "\n",
      "100%|██████████| 10/10 [00:00<00:00, 2489.64it/s]"
     ]
    },
    {
     "name": "stdout",
     "output_type": "stream",
     "text": [
      "{'max_geracoes': 500, 'capacidade': 5, 'vertices': 40, 'npacotes': 350, 'n_individuos': 10, 'n_caminhoes': 84, 'min_variacao': 0.001, 'strikes': 12}\n"
     ]
    },
    {
     "name": "stderr",
     "output_type": "stream",
     "text": [
      "\n",
      "100%|██████████| 10/10 [00:00<00:00, 2002.91it/s]"
     ]
    },
    {
     "name": "stdout",
     "output_type": "stream",
     "text": [
      "{'max_geracoes': 500, 'capacidade': 5, 'vertices': 40, 'npacotes': 350, 'n_individuos': 10, 'n_caminhoes': 84, 'min_variacao': 0.001, 'strikes': 3}\n"
     ]
    },
    {
     "name": "stderr",
     "output_type": "stream",
     "text": [
      "\n",
      "100%|██████████| 10/10 [00:00<00:00, 2020.09it/s]"
     ]
    },
    {
     "name": "stdout",
     "output_type": "stream",
     "text": [
      "{'max_geracoes': 500, 'capacidade': 5, 'vertices': 40, 'npacotes': 350, 'n_individuos': 10, 'n_caminhoes': 84, 'min_variacao': 0.001, 'strikes': 6}\n"
     ]
    },
    {
     "name": "stderr",
     "output_type": "stream",
     "text": [
      "\n",
      "100%|██████████| 10/10 [00:00<00:00, 2002.34it/s]"
     ]
    },
    {
     "name": "stdout",
     "output_type": "stream",
     "text": [
      "{'max_geracoes': 500, 'capacidade': 5, 'vertices': 40, 'npacotes': 350, 'n_individuos': 10, 'n_caminhoes': 84, 'min_variacao': 0.001, 'strikes': 9}\n"
     ]
    },
    {
     "name": "stderr",
     "output_type": "stream",
     "text": [
      "\n",
      "100%|██████████| 10/10 [00:00<00:00, 2508.25it/s]"
     ]
    },
    {
     "name": "stdout",
     "output_type": "stream",
     "text": [
      "{'max_geracoes': 500, 'capacidade': 5, 'vertices': 40, 'npacotes': 350, 'n_individuos': 10, 'n_caminhoes': 84, 'min_variacao': 0.001, 'strikes': 12}\n"
     ]
    },
    {
     "name": "stderr",
     "output_type": "stream",
     "text": [
      "\n",
      "100%|██████████| 10/10 [00:00<00:00, 2010.89it/s]"
     ]
    },
    {
     "name": "stdout",
     "output_type": "stream",
     "text": [
      "{'max_geracoes': 500, 'capacidade': 5, 'vertices': 40, 'npacotes': 350, 'n_individuos': 10, 'n_caminhoes': 84, 'min_variacao': 0.005, 'strikes': 3}\n"
     ]
    },
    {
     "name": "stderr",
     "output_type": "stream",
     "text": [
      "\n",
      "100%|██████████| 10/10 [00:00<00:00, 2011.37it/s]"
     ]
    },
    {
     "name": "stdout",
     "output_type": "stream",
     "text": [
      "{'max_geracoes': 500, 'capacidade': 5, 'vertices': 40, 'npacotes': 350, 'n_individuos': 10, 'n_caminhoes': 84, 'min_variacao': 0.005, 'strikes': 6}\n"
     ]
    },
    {
     "name": "stderr",
     "output_type": "stream",
     "text": [
      "\n",
      "100%|██████████| 10/10 [00:00<00:00, 2511.41it/s]"
     ]
    },
    {
     "name": "stdout",
     "output_type": "stream",
     "text": [
      "{'max_geracoes': 500, 'capacidade': 5, 'vertices': 40, 'npacotes': 350, 'n_individuos': 10, 'n_caminhoes': 84, 'min_variacao': 0.005, 'strikes': 9}\n"
     ]
    },
    {
     "name": "stderr",
     "output_type": "stream",
     "text": [
      "\n",
      "100%|██████████| 10/10 [00:00<00:00, 2000.53it/s]"
     ]
    },
    {
     "name": "stdout",
     "output_type": "stream",
     "text": [
      "{'max_geracoes': 500, 'capacidade': 5, 'vertices': 40, 'npacotes': 350, 'n_individuos': 10, 'n_caminhoes': 84, 'min_variacao': 0.005, 'strikes': 12}\n"
     ]
    },
    {
     "name": "stderr",
     "output_type": "stream",
     "text": [
      "\n",
      "100%|██████████| 10/10 [00:00<00:00, 2004.93it/s]"
     ]
    },
    {
     "name": "stdout",
     "output_type": "stream",
     "text": [
      "{'max_geracoes': 500, 'capacidade': 5, 'vertices': 40, 'npacotes': 350, 'n_individuos': 10, 'n_caminhoes': 84, 'min_variacao': 0.005, 'strikes': 3}\n"
     ]
    },
    {
     "name": "stderr",
     "output_type": "stream",
     "text": [
      "\n",
      "100%|██████████| 10/10 [00:00<00:00, 2005.69it/s]"
     ]
    },
    {
     "name": "stdout",
     "output_type": "stream",
     "text": [
      "{'max_geracoes': 500, 'capacidade': 5, 'vertices': 40, 'npacotes': 350, 'n_individuos': 10, 'n_caminhoes': 84, 'min_variacao': 0.005, 'strikes': 6}\n"
     ]
    },
    {
     "name": "stderr",
     "output_type": "stream",
     "text": [
      "\n",
      "100%|██████████| 10/10 [00:00<00:00, 1645.02it/s]"
     ]
    },
    {
     "name": "stdout",
     "output_type": "stream",
     "text": [
      "{'max_geracoes': 500, 'capacidade': 5, 'vertices': 40, 'npacotes': 350, 'n_individuos': 10, 'n_caminhoes': 84, 'min_variacao': 0.005, 'strikes': 9}\n"
     ]
    },
    {
     "name": "stderr",
     "output_type": "stream",
     "text": [
      "\n",
      "100%|██████████| 10/10 [00:00<00:00, 2524.41it/s]"
     ]
    },
    {
     "name": "stdout",
     "output_type": "stream",
     "text": [
      "{'max_geracoes': 500, 'capacidade': 5, 'vertices': 40, 'npacotes': 350, 'n_individuos': 10, 'n_caminhoes': 84, 'min_variacao': 0.005, 'strikes': 12}\n"
     ]
    },
    {
     "name": "stderr",
     "output_type": "stream",
     "text": [
      "\n",
      "100%|██████████| 10/10 [00:00<00:00, 1990.56it/s]"
     ]
    },
    {
     "name": "stdout",
     "output_type": "stream",
     "text": [
      "{'max_geracoes': 500, 'capacidade': 5, 'vertices': 40, 'npacotes': 350, 'n_individuos': 10, 'n_caminhoes': 84, 'min_variacao': 0.005, 'strikes': 3}\n"
     ]
    },
    {
     "name": "stderr",
     "output_type": "stream",
     "text": [
      "\n",
      "100%|██████████| 10/10 [00:00<00:00, 2506.46it/s]"
     ]
    },
    {
     "name": "stdout",
     "output_type": "stream",
     "text": [
      "{'max_geracoes': 500, 'capacidade': 5, 'vertices': 40, 'npacotes': 350, 'n_individuos': 10, 'n_caminhoes': 84, 'min_variacao': 0.005, 'strikes': 6}\n"
     ]
    },
    {
     "name": "stderr",
     "output_type": "stream",
     "text": [
      "\n",
      "100%|██████████| 10/10 [00:00<00:00, 2506.91it/s]"
     ]
    },
    {
     "name": "stdout",
     "output_type": "stream",
     "text": [
      "{'max_geracoes': 500, 'capacidade': 5, 'vertices': 40, 'npacotes': 350, 'n_individuos': 10, 'n_caminhoes': 84, 'min_variacao': 0.005, 'strikes': 9}\n"
     ]
    },
    {
     "name": "stderr",
     "output_type": "stream",
     "text": [
      "\n",
      "100%|██████████| 10/10 [00:00<00:00, 2270.75it/s]"
     ]
    },
    {
     "name": "stdout",
     "output_type": "stream",
     "text": [
      "{'max_geracoes': 500, 'capacidade': 5, 'vertices': 40, 'npacotes': 350, 'n_individuos': 10, 'n_caminhoes': 84, 'min_variacao': 0.005, 'strikes': 12}\n"
     ]
    },
    {
     "name": "stderr",
     "output_type": "stream",
     "text": [
      "\n",
      "100%|██████████| 10/10 [00:00<00:00, 2502.12it/s]"
     ]
    },
    {
     "name": "stdout",
     "output_type": "stream",
     "text": [
      "{'max_geracoes': 500, 'capacidade': 5, 'vertices': 40, 'npacotes': 350, 'n_individuos': 10, 'n_caminhoes': 84, 'min_variacao': 0.01, 'strikes': 3}\n"
     ]
    },
    {
     "name": "stderr",
     "output_type": "stream",
     "text": [
      "\n",
      "100%|██████████| 10/10 [00:00<00:00, 2507.06it/s]"
     ]
    },
    {
     "name": "stdout",
     "output_type": "stream",
     "text": [
      "{'max_geracoes': 500, 'capacidade': 5, 'vertices': 40, 'npacotes': 350, 'n_individuos': 10, 'n_caminhoes': 84, 'min_variacao': 0.01, 'strikes': 6}\n"
     ]
    },
    {
     "name": "stderr",
     "output_type": "stream",
     "text": [
      "\n",
      "100%|██████████| 10/10 [00:00<00:00, 2004.45it/s]"
     ]
    },
    {
     "name": "stdout",
     "output_type": "stream",
     "text": [
      "{'max_geracoes': 500, 'capacidade': 5, 'vertices': 40, 'npacotes': 350, 'n_individuos': 10, 'n_caminhoes': 84, 'min_variacao': 0.01, 'strikes': 9}\n"
     ]
    },
    {
     "name": "stderr",
     "output_type": "stream",
     "text": [
      "\n",
      "100%|██████████| 10/10 [00:00<00:00, 2003.11it/s]"
     ]
    },
    {
     "name": "stdout",
     "output_type": "stream",
     "text": [
      "{'max_geracoes': 500, 'capacidade': 5, 'vertices': 40, 'npacotes': 350, 'n_individuos': 10, 'n_caminhoes': 84, 'min_variacao': 0.01, 'strikes': 12}\n"
     ]
    },
    {
     "name": "stderr",
     "output_type": "stream",
     "text": [
      "\n",
      "100%|██████████| 10/10 [00:00<00:00, 2024.96it/s]"
     ]
    },
    {
     "name": "stdout",
     "output_type": "stream",
     "text": [
      "{'max_geracoes': 500, 'capacidade': 5, 'vertices': 40, 'npacotes': 350, 'n_individuos': 10, 'n_caminhoes': 84, 'min_variacao': 0.01, 'strikes': 3}\n"
     ]
    },
    {
     "name": "stderr",
     "output_type": "stream",
     "text": [
      "\n",
      "100%|██████████| 10/10 [00:00<00:00, 1998.72it/s]"
     ]
    },
    {
     "name": "stdout",
     "output_type": "stream",
     "text": [
      "{'max_geracoes': 500, 'capacidade': 5, 'vertices': 40, 'npacotes': 350, 'n_individuos': 10, 'n_caminhoes': 84, 'min_variacao': 0.01, 'strikes': 6}\n"
     ]
    },
    {
     "name": "stderr",
     "output_type": "stream",
     "text": [
      "\n",
      "100%|██████████| 10/10 [00:00<00:00, 1662.16it/s]"
     ]
    },
    {
     "name": "stdout",
     "output_type": "stream",
     "text": [
      "{'max_geracoes': 500, 'capacidade': 5, 'vertices': 40, 'npacotes': 350, 'n_individuos': 10, 'n_caminhoes': 84, 'min_variacao': 0.01, 'strikes': 9}\n"
     ]
    },
    {
     "name": "stderr",
     "output_type": "stream",
     "text": [
      "\n",
      "100%|██████████| 10/10 [00:00<00:00, 2008.19it/s]"
     ]
    },
    {
     "name": "stdout",
     "output_type": "stream",
     "text": [
      "{'max_geracoes': 500, 'capacidade': 5, 'vertices': 40, 'npacotes': 350, 'n_individuos': 10, 'n_caminhoes': 84, 'min_variacao': 0.01, 'strikes': 12}\n"
     ]
    },
    {
     "name": "stderr",
     "output_type": "stream",
     "text": [
      "\n",
      "100%|██████████| 10/10 [00:00<00:00, 2511.56it/s]"
     ]
    },
    {
     "name": "stdout",
     "output_type": "stream",
     "text": [
      "{'max_geracoes': 500, 'capacidade': 5, 'vertices': 40, 'npacotes': 350, 'n_individuos': 10, 'n_caminhoes': 84, 'min_variacao': 0.01, 'strikes': 3}\n"
     ]
    },
    {
     "name": "stderr",
     "output_type": "stream",
     "text": [
      "\n",
      "100%|██████████| 10/10 [00:00<00:00, 1998.62it/s]"
     ]
    },
    {
     "name": "stdout",
     "output_type": "stream",
     "text": [
      "{'max_geracoes': 500, 'capacidade': 5, 'vertices': 40, 'npacotes': 350, 'n_individuos': 10, 'n_caminhoes': 84, 'min_variacao': 0.01, 'strikes': 6}\n"
     ]
    },
    {
     "name": "stderr",
     "output_type": "stream",
     "text": [
      "\n",
      "100%|██████████| 10/10 [00:00<00:00, 2006.08it/s]"
     ]
    },
    {
     "name": "stdout",
     "output_type": "stream",
     "text": [
      "{'max_geracoes': 500, 'capacidade': 5, 'vertices': 40, 'npacotes': 350, 'n_individuos': 10, 'n_caminhoes': 84, 'min_variacao': 0.01, 'strikes': 9}\n"
     ]
    },
    {
     "name": "stderr",
     "output_type": "stream",
     "text": [
      "\n",
      "100%|██████████| 10/10 [00:00<00:00, 2288.47it/s]"
     ]
    },
    {
     "name": "stdout",
     "output_type": "stream",
     "text": [
      "{'max_geracoes': 500, 'capacidade': 5, 'vertices': 40, 'npacotes': 350, 'n_individuos': 10, 'n_caminhoes': 84, 'min_variacao': 0.01, 'strikes': 12}\n"
     ]
    },
    {
     "name": "stderr",
     "output_type": "stream",
     "text": [
      "\n",
      "100%|██████████| 10/10 [00:00<00:00, 1995.20it/s]\n",
      "100%|██████████| 10/10 [00:00<00:00, 1843.57it/s]\n",
      "100%|██████████| 10/10 [00:00<00:00, 2505.56it/s]\n",
      "100%|██████████| 10/10 [00:00<00:00, 2002.72it/s]\n",
      "100%|██████████| 10/10 [00:00<00:00, 2005.31it/s]\n",
      "100%|██████████| 10/10 [00:00<00:00, 2483.31it/s]\n",
      "100%|██████████| 10/10 [00:00<00:00, 2005.40it/s]\n",
      "100%|██████████| 10/10 [00:00<00:00, 2488.76it/s]\n",
      "100%|██████████| 10/10 [00:00<00:00, 2005.60it/s]\n",
      "100%|██████████| 10/10 [00:00<00:00, 2508.71it/s]\n",
      "100%|██████████| 10/10 [00:00<00:00, 2502.57it/s]\n",
      "100%|██████████| 15/15 [00:00<00:00, 2494.93it/s]\n",
      "100%|██████████| 15/15 [00:00<00:00, 2492.65it/s]"
     ]
    },
    {
     "name": "stdout",
     "output_type": "stream",
     "text": [
      "{'max_geracoes': 500, 'capacidade': 5, 'vertices': 40, 'npacotes': 350, 'n_individuos': 15, 'n_caminhoes': 84, 'min_variacao': 0.001, 'strikes': 3}\n"
     ]
    },
    {
     "name": "stderr",
     "output_type": "stream",
     "text": [
      "\n",
      "100%|██████████| 15/15 [00:00<00:00, 1880.24it/s]"
     ]
    },
    {
     "name": "stdout",
     "output_type": "stream",
     "text": [
      "{'max_geracoes': 500, 'capacidade': 5, 'vertices': 40, 'npacotes': 350, 'n_individuos': 15, 'n_caminhoes': 84, 'min_variacao': 0.001, 'strikes': 6}\n"
     ]
    },
    {
     "name": "stderr",
     "output_type": "stream",
     "text": [
      "\n",
      "100%|██████████| 15/15 [00:00<00:00, 2151.37it/s]"
     ]
    },
    {
     "name": "stdout",
     "output_type": "stream",
     "text": [
      "{'max_geracoes': 500, 'capacidade': 5, 'vertices': 40, 'npacotes': 350, 'n_individuos': 15, 'n_caminhoes': 84, 'min_variacao': 0.001, 'strikes': 9}\n"
     ]
    },
    {
     "name": "stderr",
     "output_type": "stream",
     "text": [
      "\n",
      "100%|██████████| 15/15 [00:00<00:00, 2148.94it/s]"
     ]
    },
    {
     "name": "stdout",
     "output_type": "stream",
     "text": [
      "{'max_geracoes': 500, 'capacidade': 5, 'vertices': 40, 'npacotes': 350, 'n_individuos': 15, 'n_caminhoes': 84, 'min_variacao': 0.001, 'strikes': 12}\n"
     ]
    },
    {
     "name": "stderr",
     "output_type": "stream",
     "text": [
      "\n",
      "100%|██████████| 15/15 [00:00<00:00, 2505.66it/s]"
     ]
    },
    {
     "name": "stdout",
     "output_type": "stream",
     "text": [
      "{'max_geracoes': 500, 'capacidade': 5, 'vertices': 40, 'npacotes': 350, 'n_individuos': 15, 'n_caminhoes': 84, 'min_variacao': 0.001, 'strikes': 3}\n"
     ]
    },
    {
     "name": "stderr",
     "output_type": "stream",
     "text": [
      "\n",
      "100%|██████████| 15/15 [00:00<00:00, 2149.38it/s]"
     ]
    },
    {
     "name": "stdout",
     "output_type": "stream",
     "text": [
      "{'max_geracoes': 500, 'capacidade': 5, 'vertices': 40, 'npacotes': 350, 'n_individuos': 15, 'n_caminhoes': 84, 'min_variacao': 0.001, 'strikes': 6}\n"
     ]
    },
    {
     "name": "stderr",
     "output_type": "stream",
     "text": [
      "\n",
      "100%|██████████| 15/15 [00:00<00:00, 2156.45it/s]"
     ]
    },
    {
     "name": "stdout",
     "output_type": "stream",
     "text": [
      "{'max_geracoes': 500, 'capacidade': 5, 'vertices': 40, 'npacotes': 350, 'n_individuos': 15, 'n_caminhoes': 84, 'min_variacao': 0.001, 'strikes': 9}\n"
     ]
    },
    {
     "name": "stderr",
     "output_type": "stream",
     "text": [
      "\n",
      "100%|██████████| 15/15 [00:00<00:00, 1872.23it/s]"
     ]
    },
    {
     "name": "stdout",
     "output_type": "stream",
     "text": [
      "{'max_geracoes': 500, 'capacidade': 5, 'vertices': 40, 'npacotes': 350, 'n_individuos': 15, 'n_caminhoes': 84, 'min_variacao': 0.001, 'strikes': 12}\n"
     ]
    },
    {
     "name": "stderr",
     "output_type": "stream",
     "text": [
      "\n",
      "100%|██████████| 15/15 [00:00<00:00, 2217.64it/s]"
     ]
    },
    {
     "name": "stdout",
     "output_type": "stream",
     "text": [
      "{'max_geracoes': 500, 'capacidade': 5, 'vertices': 40, 'npacotes': 350, 'n_individuos': 15, 'n_caminhoes': 84, 'min_variacao': 0.001, 'strikes': 3}\n"
     ]
    },
    {
     "name": "stderr",
     "output_type": "stream",
     "text": [
      "\n",
      "100%|██████████| 15/15 [00:00<00:00, 2149.46it/s]"
     ]
    },
    {
     "name": "stdout",
     "output_type": "stream",
     "text": [
      "{'max_geracoes': 500, 'capacidade': 5, 'vertices': 40, 'npacotes': 350, 'n_individuos': 15, 'n_caminhoes': 84, 'min_variacao': 0.001, 'strikes': 6}\n"
     ]
    },
    {
     "name": "stderr",
     "output_type": "stream",
     "text": [
      "\n",
      "100%|██████████| 15/15 [00:00<00:00, 2148.35it/s]"
     ]
    },
    {
     "name": "stdout",
     "output_type": "stream",
     "text": [
      "{'max_geracoes': 500, 'capacidade': 5, 'vertices': 40, 'npacotes': 350, 'n_individuos': 15, 'n_caminhoes': 84, 'min_variacao': 0.001, 'strikes': 9}\n"
     ]
    },
    {
     "name": "stderr",
     "output_type": "stream",
     "text": [
      "\n",
      "100%|██████████| 15/15 [00:00<00:00, 2294.64it/s]"
     ]
    },
    {
     "name": "stdout",
     "output_type": "stream",
     "text": [
      "{'max_geracoes': 500, 'capacidade': 5, 'vertices': 40, 'npacotes': 350, 'n_individuos': 15, 'n_caminhoes': 84, 'min_variacao': 0.001, 'strikes': 12}\n"
     ]
    },
    {
     "name": "stderr",
     "output_type": "stream",
     "text": [
      "\n",
      "100%|██████████| 15/15 [00:00<00:00, 2146.52it/s]"
     ]
    },
    {
     "name": "stdout",
     "output_type": "stream",
     "text": [
      "{'max_geracoes': 500, 'capacidade': 5, 'vertices': 40, 'npacotes': 350, 'n_individuos': 15, 'n_caminhoes': 84, 'min_variacao': 0.005, 'strikes': 3}\n"
     ]
    },
    {
     "name": "stderr",
     "output_type": "stream",
     "text": [
      "\n",
      "100%|██████████| 15/15 [00:00<00:00, 1877.04it/s]"
     ]
    },
    {
     "name": "stdout",
     "output_type": "stream",
     "text": [
      "{'max_geracoes': 500, 'capacidade': 5, 'vertices': 40, 'npacotes': 350, 'n_individuos': 15, 'n_caminhoes': 84, 'min_variacao': 0.005, 'strikes': 6}\n"
     ]
    },
    {
     "name": "stderr",
     "output_type": "stream",
     "text": [
      "\n",
      "100%|██████████| 15/15 [00:00<00:00, 2500.18it/s]"
     ]
    },
    {
     "name": "stdout",
     "output_type": "stream",
     "text": [
      "{'max_geracoes': 500, 'capacidade': 5, 'vertices': 40, 'npacotes': 350, 'n_individuos': 15, 'n_caminhoes': 84, 'min_variacao': 0.005, 'strikes': 9}\n"
     ]
    },
    {
     "name": "stderr",
     "output_type": "stream",
     "text": [
      "\n",
      "100%|██████████| 15/15 [00:00<00:00, 2157.12it/s]"
     ]
    },
    {
     "name": "stdout",
     "output_type": "stream",
     "text": [
      "{'max_geracoes': 500, 'capacidade': 5, 'vertices': 40, 'npacotes': 350, 'n_individuos': 15, 'n_caminhoes': 84, 'min_variacao': 0.005, 'strikes': 12}\n"
     ]
    },
    {
     "name": "stderr",
     "output_type": "stream",
     "text": [
      "\n",
      "100%|██████████| 15/15 [00:00<00:00, 2148.43it/s]"
     ]
    },
    {
     "name": "stdout",
     "output_type": "stream",
     "text": [
      "{'max_geracoes': 500, 'capacidade': 5, 'vertices': 40, 'npacotes': 350, 'n_individuos': 15, 'n_caminhoes': 84, 'min_variacao': 0.005, 'strikes': 3}\n"
     ]
    },
    {
     "name": "stderr",
     "output_type": "stream",
     "text": [
      "\n",
      "100%|██████████| 15/15 [00:00<00:00, 1630.59it/s]"
     ]
    },
    {
     "name": "stdout",
     "output_type": "stream",
     "text": [
      "{'max_geracoes': 500, 'capacidade': 5, 'vertices': 40, 'npacotes': 350, 'n_individuos': 15, 'n_caminhoes': 84, 'min_variacao': 0.005, 'strikes': 6}\n"
     ]
    },
    {
     "name": "stderr",
     "output_type": "stream",
     "text": [
      "\n",
      "100%|██████████| 15/15 [00:00<00:00, 1871.90it/s]"
     ]
    },
    {
     "name": "stdout",
     "output_type": "stream",
     "text": [
      "{'max_geracoes': 500, 'capacidade': 5, 'vertices': 40, 'npacotes': 350, 'n_individuos': 15, 'n_caminhoes': 84, 'min_variacao': 0.005, 'strikes': 9}\n"
     ]
    },
    {
     "name": "stderr",
     "output_type": "stream",
     "text": [
      "\n",
      "100%|██████████| 15/15 [00:00<00:00, 1886.55it/s]"
     ]
    },
    {
     "name": "stdout",
     "output_type": "stream",
     "text": [
      "{'max_geracoes': 500, 'capacidade': 5, 'vertices': 40, 'npacotes': 350, 'n_individuos': 15, 'n_caminhoes': 84, 'min_variacao': 0.005, 'strikes': 12}\n"
     ]
    },
    {
     "name": "stderr",
     "output_type": "stream",
     "text": [
      "\n",
      "100%|██████████| 15/15 [00:00<00:00, 2499.49it/s]"
     ]
    },
    {
     "name": "stdout",
     "output_type": "stream",
     "text": [
      "{'max_geracoes': 500, 'capacidade': 5, 'vertices': 40, 'npacotes': 350, 'n_individuos': 15, 'n_caminhoes': 84, 'min_variacao': 0.005, 'strikes': 3}\n"
     ]
    },
    {
     "name": "stderr",
     "output_type": "stream",
     "text": [
      "\n",
      "100%|██████████| 15/15 [00:00<00:00, 1886.49it/s]"
     ]
    },
    {
     "name": "stdout",
     "output_type": "stream",
     "text": [
      "{'max_geracoes': 500, 'capacidade': 5, 'vertices': 40, 'npacotes': 350, 'n_individuos': 15, 'n_caminhoes': 84, 'min_variacao': 0.005, 'strikes': 6}\n"
     ]
    },
    {
     "name": "stderr",
     "output_type": "stream",
     "text": [
      "\n",
      "100%|██████████| 15/15 [00:00<00:00, 2682.01it/s]"
     ]
    },
    {
     "name": "stdout",
     "output_type": "stream",
     "text": [
      "{'max_geracoes': 500, 'capacidade': 5, 'vertices': 40, 'npacotes': 350, 'n_individuos': 15, 'n_caminhoes': 84, 'min_variacao': 0.005, 'strikes': 9}\n"
     ]
    },
    {
     "name": "stderr",
     "output_type": "stream",
     "text": [
      "\n",
      "100%|██████████| 15/15 [00:00<00:00, 2145.28it/s]"
     ]
    },
    {
     "name": "stdout",
     "output_type": "stream",
     "text": [
      "{'max_geracoes': 500, 'capacidade': 5, 'vertices': 40, 'npacotes': 350, 'n_individuos': 15, 'n_caminhoes': 84, 'min_variacao': 0.005, 'strikes': 12}\n"
     ]
    },
    {
     "name": "stderr",
     "output_type": "stream",
     "text": [
      "\n",
      "100%|██████████| 15/15 [00:00<00:00, 2156.53it/s]"
     ]
    },
    {
     "name": "stdout",
     "output_type": "stream",
     "text": [
      "{'max_geracoes': 500, 'capacidade': 5, 'vertices': 40, 'npacotes': 350, 'n_individuos': 15, 'n_caminhoes': 84, 'min_variacao': 0.01, 'strikes': 3}\n"
     ]
    },
    {
     "name": "stderr",
     "output_type": "stream",
     "text": [
      "\n",
      "100%|██████████| 15/15 [00:00<00:00, 2148.65it/s]"
     ]
    },
    {
     "name": "stdout",
     "output_type": "stream",
     "text": [
      "{'max_geracoes': 500, 'capacidade': 5, 'vertices': 40, 'npacotes': 350, 'n_individuos': 15, 'n_caminhoes': 84, 'min_variacao': 0.01, 'strikes': 6}\n"
     ]
    },
    {
     "name": "stderr",
     "output_type": "stream",
     "text": [
      "\n",
      "100%|██████████| 15/15 [00:00<00:00, 1670.99it/s]"
     ]
    },
    {
     "name": "stdout",
     "output_type": "stream",
     "text": [
      "{'max_geracoes': 500, 'capacidade': 5, 'vertices': 40, 'npacotes': 350, 'n_individuos': 15, 'n_caminhoes': 84, 'min_variacao': 0.01, 'strikes': 9}\n"
     ]
    },
    {
     "name": "stderr",
     "output_type": "stream",
     "text": [
      "\n",
      "100%|██████████| 15/15 [00:00<00:00, 2149.60it/s]"
     ]
    },
    {
     "name": "stdout",
     "output_type": "stream",
     "text": [
      "{'max_geracoes': 500, 'capacidade': 5, 'vertices': 40, 'npacotes': 350, 'n_individuos': 15, 'n_caminhoes': 84, 'min_variacao': 0.01, 'strikes': 12}\n"
     ]
    },
    {
     "name": "stderr",
     "output_type": "stream",
     "text": [
      "\n",
      "100%|██████████| 15/15 [00:00<00:00, 2504.96it/s]"
     ]
    },
    {
     "name": "stdout",
     "output_type": "stream",
     "text": [
      "{'max_geracoes': 500, 'capacidade': 5, 'vertices': 40, 'npacotes': 350, 'n_individuos': 15, 'n_caminhoes': 84, 'min_variacao': 0.01, 'strikes': 3}\n"
     ]
    },
    {
     "name": "stderr",
     "output_type": "stream",
     "text": [
      "\n",
      "100%|██████████| 15/15 [00:00<00:00, 2155.35it/s]"
     ]
    },
    {
     "name": "stdout",
     "output_type": "stream",
     "text": [
      "{'max_geracoes': 500, 'capacidade': 5, 'vertices': 40, 'npacotes': 350, 'n_individuos': 15, 'n_caminhoes': 84, 'min_variacao': 0.01, 'strikes': 6}\n"
     ]
    },
    {
     "name": "stderr",
     "output_type": "stream",
     "text": [
      "\n",
      "100%|██████████| 15/15 [00:00<00:00, 2160.75it/s]"
     ]
    },
    {
     "name": "stdout",
     "output_type": "stream",
     "text": [
      "{'max_geracoes': 500, 'capacidade': 5, 'vertices': 40, 'npacotes': 350, 'n_individuos': 15, 'n_caminhoes': 84, 'min_variacao': 0.01, 'strikes': 9}\n"
     ]
    },
    {
     "name": "stderr",
     "output_type": "stream",
     "text": [
      "\n",
      "100%|██████████| 15/15 [00:00<00:00, 1963.56it/s]"
     ]
    },
    {
     "name": "stdout",
     "output_type": "stream",
     "text": [
      "{'max_geracoes': 500, 'capacidade': 5, 'vertices': 40, 'npacotes': 350, 'n_individuos': 15, 'n_caminhoes': 84, 'min_variacao': 0.01, 'strikes': 12}\n"
     ]
    },
    {
     "name": "stderr",
     "output_type": "stream",
     "text": [
      "\n",
      "100%|██████████| 15/15 [00:00<00:00, 2148.57it/s]\n",
      "100%|██████████| 15/15 [00:00<00:00, 2080.44it/s]"
     ]
    },
    {
     "name": "stdout",
     "output_type": "stream",
     "text": [
      "{'max_geracoes': 500, 'capacidade': 5, 'vertices': 40, 'npacotes': 350, 'n_individuos': 15, 'n_caminhoes': 84, 'min_variacao': 0.01, 'strikes': 6}\n"
     ]
    },
    {
     "name": "stderr",
     "output_type": "stream",
     "text": [
      "\n",
      "100%|██████████| 15/15 [00:00<00:00, 2154.02it/s]"
     ]
    },
    {
     "name": "stdout",
     "output_type": "stream",
     "text": [
      "{'max_geracoes': 500, 'capacidade': 5, 'vertices': 40, 'npacotes': 350, 'n_individuos': 15, 'n_caminhoes': 84, 'min_variacao': 0.01, 'strikes': 9}\n"
     ]
    },
    {
     "name": "stderr",
     "output_type": "stream",
     "text": [
      "\n",
      "100%|██████████| 15/15 [00:00<00:00, 2148.87it/s]"
     ]
    },
    {
     "name": "stdout",
     "output_type": "stream",
     "text": [
      "{'max_geracoes': 500, 'capacidade': 5, 'vertices': 40, 'npacotes': 350, 'n_individuos': 15, 'n_caminhoes': 84, 'min_variacao': 0.01, 'strikes': 12}\n"
     ]
    },
    {
     "name": "stderr",
     "output_type": "stream",
     "text": [
      "\n",
      "100%|██████████| 15/15 [00:00<00:00, 2181.81it/s]\n",
      "100%|██████████| 15/15 [00:00<00:00, 2506.26it/s]\n",
      "100%|██████████| 15/15 [00:00<00:00, 2409.23it/s]\n",
      "100%|██████████| 15/15 [00:00<00:00, 2137.12it/s]\n",
      "100%|██████████| 15/15 [00:00<00:00, 2509.66it/s]\n",
      "100%|██████████| 15/15 [00:00<00:00, 2494.73it/s]\n",
      "100%|██████████| 15/15 [00:00<00:00, 2506.76it/s]\n",
      "100%|██████████| 15/15 [00:00<00:00, 2149.97it/s]\n",
      "100%|██████████| 15/15 [00:00<00:00, 2160.82it/s]\n",
      "100%|██████████| 15/15 [00:00<00:00, 1871.45it/s]\n",
      "100%|██████████| 15/15 [00:00<00:00, 2506.46it/s]"
     ]
    },
    {
     "name": "stdout",
     "output_type": "stream",
     "text": [
      "{'max_geracoes': 500, 'capacidade': 5, 'vertices': 40, 'npacotes': 350, 'n_individuos': 15, 'n_caminhoes': 84, 'min_variacao': 0.05, 'strikes': 9}\n"
     ]
    },
    {
     "name": "stderr",
     "output_type": "stream",
     "text": [
      "\n",
      "100%|██████████| 5/5 [00:00<00:00, 1671.57it/s]\n",
      "100%|██████████| 5/5 [00:00<00:00, 1255.40it/s]"
     ]
    },
    {
     "name": "stdout",
     "output_type": "stream",
     "text": [
      "{'max_geracoes': 500, 'capacidade': 5, 'vertices': 40, 'npacotes': 500, 'n_individuos': 5, 'n_caminhoes': 120, 'min_variacao': 0.001, 'strikes': 3}\n"
     ]
    },
    {
     "name": "stderr",
     "output_type": "stream",
     "text": [
      "\n",
      "100%|██████████| 5/5 [00:00<00:00, 1656.91it/s]"
     ]
    },
    {
     "name": "stdout",
     "output_type": "stream",
     "text": [
      "{'max_geracoes': 500, 'capacidade': 5, 'vertices': 40, 'npacotes': 500, 'n_individuos': 5, 'n_caminhoes': 120, 'min_variacao': 0.001, 'strikes': 6}\n"
     ]
    },
    {
     "name": "stderr",
     "output_type": "stream",
     "text": [
      "\n",
      "100%|██████████| 5/5 [00:00<00:00, 1671.97it/s]"
     ]
    },
    {
     "name": "stdout",
     "output_type": "stream",
     "text": [
      "{'max_geracoes': 500, 'capacidade': 5, 'vertices': 40, 'npacotes': 500, 'n_individuos': 5, 'n_caminhoes': 120, 'min_variacao': 0.001, 'strikes': 9}\n"
     ]
    },
    {
     "name": "stderr",
     "output_type": "stream",
     "text": [
      "\n",
      "100%|██████████| 5/5 [00:00<00:00, 1670.90it/s]"
     ]
    },
    {
     "name": "stdout",
     "output_type": "stream",
     "text": [
      "{'max_geracoes': 500, 'capacidade': 5, 'vertices': 40, 'npacotes': 500, 'n_individuos': 5, 'n_caminhoes': 120, 'min_variacao': 0.001, 'strikes': 12}\n"
     ]
    },
    {
     "name": "stderr",
     "output_type": "stream",
     "text": [
      "\n",
      "100%|██████████| 5/5 [00:00<00:00, 1008.59it/s]"
     ]
    },
    {
     "name": "stdout",
     "output_type": "stream",
     "text": [
      "{'max_geracoes': 500, 'capacidade': 5, 'vertices': 40, 'npacotes': 500, 'n_individuos': 5, 'n_caminhoes': 120, 'min_variacao': 0.001, 'strikes': 3}\n"
     ]
    },
    {
     "name": "stderr",
     "output_type": "stream",
     "text": [
      "\n",
      "100%|██████████| 5/5 [00:00<00:00, 1250.09it/s]\n",
      "100%|██████████| 5/5 [00:00<00:00, 1671.04it/s]"
     ]
    },
    {
     "name": "stdout",
     "output_type": "stream",
     "text": [
      "{'max_geracoes': 500, 'capacidade': 5, 'vertices': 40, 'npacotes': 500, 'n_individuos': 5, 'n_caminhoes': 120, 'min_variacao': 0.001, 'strikes': 9}\n"
     ]
    },
    {
     "name": "stderr",
     "output_type": "stream",
     "text": [
      "\n",
      "100%|██████████| 5/5 [00:00<00:00, 1694.26it/s]"
     ]
    },
    {
     "name": "stdout",
     "output_type": "stream",
     "text": [
      "{'max_geracoes': 500, 'capacidade': 5, 'vertices': 40, 'npacotes': 500, 'n_individuos': 5, 'n_caminhoes': 120, 'min_variacao': 0.001, 'strikes': 12}\n"
     ]
    },
    {
     "name": "stderr",
     "output_type": "stream",
     "text": [
      "\n",
      "100%|██████████| 5/5 [00:00<00:00, 1699.34it/s]\n",
      "100%|██████████| 5/5 [00:00<00:00, 1253.08it/s]"
     ]
    },
    {
     "name": "stdout",
     "output_type": "stream",
     "text": [
      "{'max_geracoes': 500, 'capacidade': 5, 'vertices': 40, 'npacotes': 500, 'n_individuos': 5, 'n_caminhoes': 120, 'min_variacao': 0.001, 'strikes': 6}\n"
     ]
    },
    {
     "name": "stderr",
     "output_type": "stream",
     "text": [
      "\n",
      "100%|██████████| 5/5 [00:00<00:00, 1252.55it/s]"
     ]
    },
    {
     "name": "stdout",
     "output_type": "stream",
     "text": [
      "{'max_geracoes': 500, 'capacidade': 5, 'vertices': 40, 'npacotes': 500, 'n_individuos': 5, 'n_caminhoes': 120, 'min_variacao': 0.001, 'strikes': 9}\n"
     ]
    },
    {
     "name": "stderr",
     "output_type": "stream",
     "text": [
      "\n",
      "100%|██████████| 5/5 [00:00<00:00, 1249.12it/s]"
     ]
    },
    {
     "name": "stdout",
     "output_type": "stream",
     "text": [
      "{'max_geracoes': 500, 'capacidade': 5, 'vertices': 40, 'npacotes': 500, 'n_individuos': 5, 'n_caminhoes': 120, 'min_variacao': 0.001, 'strikes': 12}\n"
     ]
    },
    {
     "name": "stderr",
     "output_type": "stream",
     "text": [
      "\n",
      "100%|██████████| 5/5 [00:00<00:00, 1667.32it/s]\n",
      "100%|██████████| 5/5 [00:00<00:00, 1668.78it/s]\n",
      "100%|██████████| 5/5 [00:00<00:00, 1704.59it/s]"
     ]
    },
    {
     "name": "stdout",
     "output_type": "stream",
     "text": [
      "{'max_geracoes': 500, 'capacidade': 5, 'vertices': 40, 'npacotes': 500, 'n_individuos': 5, 'n_caminhoes': 120, 'min_variacao': 0.005, 'strikes': 9}\n"
     ]
    },
    {
     "name": "stderr",
     "output_type": "stream",
     "text": [
      "\n",
      "100%|██████████| 5/5 [00:00<00:00, 1250.76it/s]"
     ]
    },
    {
     "name": "stdout",
     "output_type": "stream",
     "text": [
      "{'max_geracoes': 500, 'capacidade': 5, 'vertices': 40, 'npacotes': 500, 'n_individuos': 5, 'n_caminhoes': 120, 'min_variacao': 0.005, 'strikes': 12}\n"
     ]
    },
    {
     "name": "stderr",
     "output_type": "stream",
     "text": [
      "\n",
      "100%|██████████| 5/5 [00:00<00:00, 1105.80it/s]\n",
      "100%|██████████| 5/5 [00:00<00:00, 1250.69it/s]"
     ]
    },
    {
     "name": "stdout",
     "output_type": "stream",
     "text": [
      "{'max_geracoes': 500, 'capacidade': 5, 'vertices': 40, 'npacotes': 500, 'n_individuos': 5, 'n_caminhoes': 120, 'min_variacao': 0.005, 'strikes': 6}\n"
     ]
    },
    {
     "name": "stderr",
     "output_type": "stream",
     "text": [
      "\n",
      "100%|██████████| 5/5 [00:00<00:00, 1257.66it/s]"
     ]
    },
    {
     "name": "stdout",
     "output_type": "stream",
     "text": [
      "{'max_geracoes': 500, 'capacidade': 5, 'vertices': 40, 'npacotes': 500, 'n_individuos': 5, 'n_caminhoes': 120, 'min_variacao': 0.005, 'strikes': 9}\n"
     ]
    },
    {
     "name": "stderr",
     "output_type": "stream",
     "text": [
      "\n",
      "100%|██████████| 5/5 [00:00<00:00, 1253.45it/s]"
     ]
    },
    {
     "name": "stdout",
     "output_type": "stream",
     "text": [
      "{'max_geracoes': 500, 'capacidade': 5, 'vertices': 40, 'npacotes': 500, 'n_individuos': 5, 'n_caminhoes': 120, 'min_variacao': 0.005, 'strikes': 12}\n"
     ]
    },
    {
     "name": "stderr",
     "output_type": "stream",
     "text": [
      "\n",
      "100%|██████████| 5/5 [00:00<00:00, 1666.26it/s]\n",
      "100%|██████████| 5/5 [00:00<00:00, 1608.49it/s]"
     ]
    },
    {
     "name": "stdout",
     "output_type": "stream",
     "text": [
      "{'max_geracoes': 500, 'capacidade': 5, 'vertices': 40, 'npacotes': 500, 'n_individuos': 5, 'n_caminhoes': 120, 'min_variacao': 0.005, 'strikes': 6}\n"
     ]
    },
    {
     "name": "stderr",
     "output_type": "stream",
     "text": [
      "\n",
      "100%|██████████| 5/5 [00:00<00:00, 1251.73it/s]"
     ]
    },
    {
     "name": "stdout",
     "output_type": "stream",
     "text": [
      "{'max_geracoes': 500, 'capacidade': 5, 'vertices': 40, 'npacotes': 500, 'n_individuos': 5, 'n_caminhoes': 120, 'min_variacao': 0.005, 'strikes': 9}\n"
     ]
    },
    {
     "name": "stderr",
     "output_type": "stream",
     "text": [
      "\n",
      "100%|██████████| 5/5 [00:00<00:00, 1651.69it/s]"
     ]
    },
    {
     "name": "stdout",
     "output_type": "stream",
     "text": [
      "{'max_geracoes': 500, 'capacidade': 5, 'vertices': 40, 'npacotes': 500, 'n_individuos': 5, 'n_caminhoes': 120, 'min_variacao': 0.005, 'strikes': 12}\n"
     ]
    },
    {
     "name": "stderr",
     "output_type": "stream",
     "text": [
      "\n",
      "100%|██████████| 5/5 [00:00<00:00, 1690.84it/s]\n",
      "100%|██████████| 5/5 [00:00<00:00, 1251.06it/s]"
     ]
    },
    {
     "name": "stdout",
     "output_type": "stream",
     "text": [
      "{'max_geracoes': 500, 'capacidade': 5, 'vertices': 40, 'npacotes': 500, 'n_individuos': 5, 'n_caminhoes': 120, 'min_variacao': 0.01, 'strikes': 6}\n"
     ]
    },
    {
     "name": "stderr",
     "output_type": "stream",
     "text": [
      "\n",
      "100%|██████████| 5/5 [00:00<00:00, 1265.02it/s]"
     ]
    },
    {
     "name": "stdout",
     "output_type": "stream",
     "text": [
      "{'max_geracoes': 500, 'capacidade': 5, 'vertices': 40, 'npacotes': 500, 'n_individuos': 5, 'n_caminhoes': 120, 'min_variacao': 0.01, 'strikes': 9}\n"
     ]
    },
    {
     "name": "stderr",
     "output_type": "stream",
     "text": [
      "\n",
      "100%|██████████| 5/5 [00:00<00:00, 1667.18it/s]"
     ]
    },
    {
     "name": "stdout",
     "output_type": "stream",
     "text": [
      "{'max_geracoes': 500, 'capacidade': 5, 'vertices': 40, 'npacotes': 500, 'n_individuos': 5, 'n_caminhoes': 120, 'min_variacao': 0.01, 'strikes': 12}\n"
     ]
    },
    {
     "name": "stderr",
     "output_type": "stream",
     "text": [
      "\n",
      "100%|██████████| 5/5 [00:00<00:00, 1655.47it/s]\n",
      "100%|██████████| 5/5 [00:00<00:00, 1245.64it/s]"
     ]
    },
    {
     "name": "stdout",
     "output_type": "stream",
     "text": [
      "{'max_geracoes': 500, 'capacidade': 5, 'vertices': 40, 'npacotes': 500, 'n_individuos': 5, 'n_caminhoes': 120, 'min_variacao': 0.01, 'strikes': 6}\n"
     ]
    },
    {
     "name": "stderr",
     "output_type": "stream",
     "text": [
      "\n",
      "100%|██████████| 5/5 [00:00<00:00, 1671.30it/s]\n",
      "100%|██████████| 5/5 [00:00<00:00, 1253.08it/s]"
     ]
    },
    {
     "name": "stdout",
     "output_type": "stream",
     "text": [
      "{'max_geracoes': 500, 'capacidade': 5, 'vertices': 40, 'npacotes': 500, 'n_individuos': 5, 'n_caminhoes': 120, 'min_variacao': 0.01, 'strikes': 12}\n"
     ]
    },
    {
     "name": "stderr",
     "output_type": "stream",
     "text": [
      "\n",
      "100%|██████████| 5/5 [00:00<00:00, 1677.32it/s]\n",
      "100%|██████████| 5/5 [00:00<00:00, 1700.72it/s]\n",
      "100%|██████████| 5/5 [00:00<00:00, 1250.99it/s]\n",
      "100%|██████████| 5/5 [00:00<00:00, 1250.46it/s]"
     ]
    },
    {
     "name": "stdout",
     "output_type": "stream",
     "text": [
      "{'max_geracoes': 500, 'capacidade': 5, 'vertices': 40, 'npacotes': 500, 'n_individuos': 5, 'n_caminhoes': 120, 'min_variacao': 0.01, 'strikes': 12}\n"
     ]
    },
    {
     "name": "stderr",
     "output_type": "stream",
     "text": [
      "\n",
      "100%|██████████| 5/5 [00:00<00:00, 1659.14it/s]\n",
      "100%|██████████| 5/5 [00:00<00:00, 1664.14it/s]\n",
      "100%|██████████| 5/5 [00:00<00:00, 1676.38it/s]\n",
      "100%|██████████| 5/5 [00:00<00:00, 1244.31it/s]"
     ]
    },
    {
     "name": "stdout",
     "output_type": "stream",
     "text": [
      "{'max_geracoes': 500, 'capacidade': 5, 'vertices': 40, 'npacotes': 500, 'n_individuos': 5, 'n_caminhoes': 120, 'min_variacao': 0.05, 'strikes': 12}\n"
     ]
    },
    {
     "name": "stderr",
     "output_type": "stream",
     "text": [
      "\n",
      "100%|██████████| 5/5 [00:00<00:00, 1257.66it/s]\n",
      "100%|██████████| 5/5 [00:00<00:00, 1670.77it/s]\n",
      "100%|██████████| 5/5 [00:00<00:00, 1256.08it/s]\n",
      "100%|██████████| 5/5 [00:00<00:00, 1253.75it/s]\n",
      "100%|██████████| 5/5 [00:00<00:00, 1694.12it/s]\n",
      "100%|██████████| 5/5 [00:00<00:00, 1250.17it/s]\n",
      "100%|██████████| 5/5 [00:00<00:00, 1656.26it/s]\n",
      "100%|██████████| 10/10 [00:00<00:00, 1666.13it/s]\n",
      "100%|██████████| 10/10 [00:00<00:00, 2002.44it/s]"
     ]
    },
    {
     "name": "stdout",
     "output_type": "stream",
     "text": [
      "{'max_geracoes': 500, 'capacidade': 5, 'vertices': 40, 'npacotes': 500, 'n_individuos': 10, 'n_caminhoes': 120, 'min_variacao': 0.001, 'strikes': 3}\n"
     ]
    },
    {
     "name": "stderr",
     "output_type": "stream",
     "text": [
      "\n",
      "100%|██████████| 10/10 [00:00<00:00, 1419.97it/s]"
     ]
    },
    {
     "name": "stdout",
     "output_type": "stream",
     "text": [
      "{'max_geracoes': 500, 'capacidade': 5, 'vertices': 40, 'npacotes': 500, 'n_individuos': 10, 'n_caminhoes': 120, 'min_variacao': 0.001, 'strikes': 6}\n"
     ]
    },
    {
     "name": "stderr",
     "output_type": "stream",
     "text": [
      "\n",
      "100%|██████████| 10/10 [00:00<00:00, 1433.85it/s]"
     ]
    },
    {
     "name": "stdout",
     "output_type": "stream",
     "text": [
      "{'max_geracoes': 500, 'capacidade': 5, 'vertices': 40, 'npacotes': 500, 'n_individuos': 10, 'n_caminhoes': 120, 'min_variacao': 0.001, 'strikes': 9}\n"
     ]
    },
    {
     "name": "stderr",
     "output_type": "stream",
     "text": [
      "\n",
      "100%|██████████| 10/10 [00:00<00:00, 1669.04it/s]"
     ]
    },
    {
     "name": "stdout",
     "output_type": "stream",
     "text": [
      "{'max_geracoes': 500, 'capacidade': 5, 'vertices': 40, 'npacotes': 500, 'n_individuos': 10, 'n_caminhoes': 120, 'min_variacao': 0.001, 'strikes': 12}\n"
     ]
    },
    {
     "name": "stderr",
     "output_type": "stream",
     "text": [
      "\n",
      "100%|██████████| 10/10 [00:00<00:00, 1682.16it/s]"
     ]
    },
    {
     "name": "stdout",
     "output_type": "stream",
     "text": [
      "{'max_geracoes': 500, 'capacidade': 5, 'vertices': 40, 'npacotes': 500, 'n_individuos': 10, 'n_caminhoes': 120, 'min_variacao': 0.001, 'strikes': 3}\n"
     ]
    },
    {
     "name": "stderr",
     "output_type": "stream",
     "text": [
      "\n",
      "100%|██████████| 10/10 [00:00<00:00, 1435.18it/s]"
     ]
    },
    {
     "name": "stdout",
     "output_type": "stream",
     "text": [
      "{'max_geracoes': 500, 'capacidade': 5, 'vertices': 40, 'npacotes': 500, 'n_individuos': 10, 'n_caminhoes': 120, 'min_variacao': 0.001, 'strikes': 6}\n"
     ]
    },
    {
     "name": "stderr",
     "output_type": "stream",
     "text": [
      "\n",
      "100%|██████████| 10/10 [00:00<00:00, 1646.31it/s]"
     ]
    },
    {
     "name": "stdout",
     "output_type": "stream",
     "text": [
      "{'max_geracoes': 500, 'capacidade': 5, 'vertices': 40, 'npacotes': 500, 'n_individuos': 10, 'n_caminhoes': 120, 'min_variacao': 0.001, 'strikes': 9}\n"
     ]
    },
    {
     "name": "stderr",
     "output_type": "stream",
     "text": [
      "\n",
      "100%|██████████| 10/10 [00:00<00:00, 1434.54it/s]"
     ]
    },
    {
     "name": "stdout",
     "output_type": "stream",
     "text": [
      "{'max_geracoes': 500, 'capacidade': 5, 'vertices': 40, 'npacotes': 500, 'n_individuos': 10, 'n_caminhoes': 120, 'min_variacao': 0.001, 'strikes': 12}\n"
     ]
    },
    {
     "name": "stderr",
     "output_type": "stream",
     "text": [
      "\n",
      "100%|██████████| 10/10 [00:00<00:00, 1299.47it/s]"
     ]
    },
    {
     "name": "stdout",
     "output_type": "stream",
     "text": [
      "{'max_geracoes': 500, 'capacidade': 5, 'vertices': 40, 'npacotes': 500, 'n_individuos': 10, 'n_caminhoes': 120, 'min_variacao': 0.001, 'strikes': 3}\n"
     ]
    },
    {
     "name": "stderr",
     "output_type": "stream",
     "text": [
      "\n",
      "100%|██████████| 10/10 [00:00<00:00, 1668.38it/s]"
     ]
    },
    {
     "name": "stdout",
     "output_type": "stream",
     "text": [
      "{'max_geracoes': 500, 'capacidade': 5, 'vertices': 40, 'npacotes': 500, 'n_individuos': 10, 'n_caminhoes': 120, 'min_variacao': 0.001, 'strikes': 6}\n"
     ]
    },
    {
     "name": "stderr",
     "output_type": "stream",
     "text": [
      "\n",
      "100%|██████████| 10/10 [00:00<00:00, 1666.46it/s]"
     ]
    },
    {
     "name": "stdout",
     "output_type": "stream",
     "text": [
      "{'max_geracoes': 500, 'capacidade': 5, 'vertices': 40, 'npacotes': 500, 'n_individuos': 10, 'n_caminhoes': 120, 'min_variacao': 0.001, 'strikes': 9}\n"
     ]
    },
    {
     "name": "stderr",
     "output_type": "stream",
     "text": [
      "\n",
      "100%|██████████| 10/10 [00:00<00:00, 1431.99it/s]"
     ]
    },
    {
     "name": "stdout",
     "output_type": "stream",
     "text": [
      "{'max_geracoes': 500, 'capacidade': 5, 'vertices': 40, 'npacotes': 500, 'n_individuos': 10, 'n_caminhoes': 120, 'min_variacao': 0.001, 'strikes': 12}\n"
     ]
    },
    {
     "name": "stderr",
     "output_type": "stream",
     "text": [
      "\n",
      "100%|██████████| 10/10 [00:00<00:00, 1671.10it/s]"
     ]
    },
    {
     "name": "stdout",
     "output_type": "stream",
     "text": [
      "{'max_geracoes': 500, 'capacidade': 5, 'vertices': 40, 'npacotes': 500, 'n_individuos': 10, 'n_caminhoes': 120, 'min_variacao': 0.005, 'strikes': 3}\n"
     ]
    },
    {
     "name": "stderr",
     "output_type": "stream",
     "text": [
      "\n",
      "100%|██████████| 10/10 [00:00<00:00, 1679.27it/s]"
     ]
    },
    {
     "name": "stdout",
     "output_type": "stream",
     "text": [
      "{'max_geracoes': 500, 'capacidade': 5, 'vertices': 40, 'npacotes': 500, 'n_individuos': 10, 'n_caminhoes': 120, 'min_variacao': 0.005, 'strikes': 6}\n"
     ]
    },
    {
     "name": "stderr",
     "output_type": "stream",
     "text": [
      "\n",
      "100%|██████████| 10/10 [00:00<00:00, 1259.17it/s]"
     ]
    },
    {
     "name": "stdout",
     "output_type": "stream",
     "text": [
      "{'max_geracoes': 500, 'capacidade': 5, 'vertices': 40, 'npacotes': 500, 'n_individuos': 10, 'n_caminhoes': 120, 'min_variacao': 0.005, 'strikes': 9}\n"
     ]
    },
    {
     "name": "stderr",
     "output_type": "stream",
     "text": [
      "\n",
      "100%|██████████| 10/10 [00:00<00:00, 1663.35it/s]"
     ]
    },
    {
     "name": "stdout",
     "output_type": "stream",
     "text": [
      "{'max_geracoes': 500, 'capacidade': 5, 'vertices': 40, 'npacotes': 500, 'n_individuos': 10, 'n_caminhoes': 120, 'min_variacao': 0.005, 'strikes': 12}\n"
     ]
    },
    {
     "name": "stderr",
     "output_type": "stream",
     "text": [
      "\n",
      "100%|██████████| 10/10 [00:00<00:00, 1430.92it/s]"
     ]
    },
    {
     "name": "stdout",
     "output_type": "stream",
     "text": [
      "{'max_geracoes': 500, 'capacidade': 5, 'vertices': 40, 'npacotes': 500, 'n_individuos': 10, 'n_caminhoes': 120, 'min_variacao': 0.005, 'strikes': 3}\n"
     ]
    },
    {
     "name": "stderr",
     "output_type": "stream",
     "text": [
      "\n",
      "100%|██████████| 10/10 [00:00<00:00, 1424.79it/s]"
     ]
    },
    {
     "name": "stdout",
     "output_type": "stream",
     "text": [
      "{'max_geracoes': 500, 'capacidade': 5, 'vertices': 40, 'npacotes': 500, 'n_individuos': 10, 'n_caminhoes': 120, 'min_variacao': 0.005, 'strikes': 6}\n"
     ]
    },
    {
     "name": "stderr",
     "output_type": "stream",
     "text": [
      "\n",
      "100%|██████████| 10/10 [00:00<00:00, 1440.80it/s]\n",
      "100%|██████████| 10/10 [00:00<00:00, 1256.64it/s]"
     ]
    },
    {
     "name": "stdout",
     "output_type": "stream",
     "text": [
      "{'max_geracoes': 500, 'capacidade': 5, 'vertices': 40, 'npacotes': 500, 'n_individuos': 10, 'n_caminhoes': 120, 'min_variacao': 0.005, 'strikes': 12}\n"
     ]
    },
    {
     "name": "stderr",
     "output_type": "stream",
     "text": [
      "\n",
      "100%|██████████| 10/10 [00:00<00:00, 1671.37it/s]"
     ]
    },
    {
     "name": "stdout",
     "output_type": "stream",
     "text": [
      "{'max_geracoes': 500, 'capacidade': 5, 'vertices': 40, 'npacotes': 500, 'n_individuos': 10, 'n_caminhoes': 120, 'min_variacao': 0.005, 'strikes': 3}\n"
     ]
    },
    {
     "name": "stderr",
     "output_type": "stream",
     "text": [
      "\n",
      "100%|██████████| 10/10 [00:00<00:00, 1661.77it/s]"
     ]
    },
    {
     "name": "stdout",
     "output_type": "stream",
     "text": [
      "{'max_geracoes': 500, 'capacidade': 5, 'vertices': 40, 'npacotes': 500, 'n_individuos': 10, 'n_caminhoes': 120, 'min_variacao': 0.005, 'strikes': 6}\n"
     ]
    },
    {
     "name": "stderr",
     "output_type": "stream",
     "text": [
      "\n",
      "100%|██████████| 10/10 [00:00<00:00, 1660.65it/s]"
     ]
    },
    {
     "name": "stdout",
     "output_type": "stream",
     "text": [
      "{'max_geracoes': 500, 'capacidade': 5, 'vertices': 40, 'npacotes': 500, 'n_individuos': 10, 'n_caminhoes': 120, 'min_variacao': 0.005, 'strikes': 9}\n"
     ]
    },
    {
     "name": "stderr",
     "output_type": "stream",
     "text": [
      "\n",
      "100%|██████████| 10/10 [00:00<00:00, 1424.79it/s]"
     ]
    },
    {
     "name": "stdout",
     "output_type": "stream",
     "text": [
      "{'max_geracoes': 500, 'capacidade': 5, 'vertices': 40, 'npacotes': 500, 'n_individuos': 10, 'n_caminhoes': 120, 'min_variacao': 0.005, 'strikes': 12}\n"
     ]
    },
    {
     "name": "stderr",
     "output_type": "stream",
     "text": [
      "\n",
      "100%|██████████| 10/10 [00:00<00:00, 1681.49it/s]"
     ]
    },
    {
     "name": "stdout",
     "output_type": "stream",
     "text": [
      "{'max_geracoes': 500, 'capacidade': 5, 'vertices': 40, 'npacotes': 500, 'n_individuos': 10, 'n_caminhoes': 120, 'min_variacao': 0.01, 'strikes': 3}\n"
     ]
    },
    {
     "name": "stderr",
     "output_type": "stream",
     "text": [
      "\n",
      "100%|██████████| 10/10 [00:00<00:00, 1248.04it/s]"
     ]
    },
    {
     "name": "stdout",
     "output_type": "stream",
     "text": [
      "{'max_geracoes': 500, 'capacidade': 5, 'vertices': 40, 'npacotes': 500, 'n_individuos': 10, 'n_caminhoes': 120, 'min_variacao': 0.01, 'strikes': 6}\n"
     ]
    },
    {
     "name": "stderr",
     "output_type": "stream",
     "text": [
      "\n",
      "100%|██████████| 10/10 [00:00<00:00, 1662.23it/s]"
     ]
    },
    {
     "name": "stdout",
     "output_type": "stream",
     "text": [
      "{'max_geracoes': 500, 'capacidade': 5, 'vertices': 40, 'npacotes': 500, 'n_individuos': 10, 'n_caminhoes': 120, 'min_variacao': 0.01, 'strikes': 9}\n"
     ]
    },
    {
     "name": "stderr",
     "output_type": "stream",
     "text": [
      "\n",
      "100%|██████████| 10/10 [00:00<00:00, 1661.77it/s]"
     ]
    },
    {
     "name": "stdout",
     "output_type": "stream",
     "text": [
      "{'max_geracoes': 500, 'capacidade': 5, 'vertices': 40, 'npacotes': 500, 'n_individuos': 10, 'n_caminhoes': 120, 'min_variacao': 0.01, 'strikes': 12}\n"
     ]
    },
    {
     "name": "stderr",
     "output_type": "stream",
     "text": [
      "\n",
      "100%|██████████| 10/10 [00:00<00:00, 1667.65it/s]\n",
      "100%|██████████| 10/10 [00:00<00:00, 1671.24it/s]"
     ]
    },
    {
     "name": "stdout",
     "output_type": "stream",
     "text": [
      "{'max_geracoes': 500, 'capacidade': 5, 'vertices': 40, 'npacotes': 500, 'n_individuos': 10, 'n_caminhoes': 120, 'min_variacao': 0.01, 'strikes': 6}\n"
     ]
    },
    {
     "name": "stderr",
     "output_type": "stream",
     "text": [
      "\n",
      "100%|██████████| 10/10 [00:00<00:00, 1417.52it/s]"
     ]
    },
    {
     "name": "stdout",
     "output_type": "stream",
     "text": [
      "{'max_geracoes': 500, 'capacidade': 5, 'vertices': 40, 'npacotes': 500, 'n_individuos': 10, 'n_caminhoes': 120, 'min_variacao': 0.01, 'strikes': 9}\n"
     ]
    },
    {
     "name": "stderr",
     "output_type": "stream",
     "text": [
      "\n",
      "100%|██████████| 10/10 [00:00<00:00, 1432.14it/s]"
     ]
    },
    {
     "name": "stdout",
     "output_type": "stream",
     "text": [
      "{'max_geracoes': 500, 'capacidade': 5, 'vertices': 40, 'npacotes': 500, 'n_individuos': 10, 'n_caminhoes': 120, 'min_variacao': 0.01, 'strikes': 12}\n"
     ]
    },
    {
     "name": "stderr",
     "output_type": "stream",
     "text": [
      "\n",
      "100%|██████████| 10/10 [00:00<00:00, 1673.04it/s]"
     ]
    },
    {
     "name": "stdout",
     "output_type": "stream",
     "text": [
      "{'max_geracoes': 500, 'capacidade': 5, 'vertices': 40, 'npacotes': 500, 'n_individuos': 10, 'n_caminhoes': 120, 'min_variacao': 0.01, 'strikes': 3}\n"
     ]
    },
    {
     "name": "stderr",
     "output_type": "stream",
     "text": [
      "\n",
      "100%|██████████| 10/10 [00:00<00:00, 1668.71it/s]"
     ]
    },
    {
     "name": "stdout",
     "output_type": "stream",
     "text": [
      "{'max_geracoes': 500, 'capacidade': 5, 'vertices': 40, 'npacotes': 500, 'n_individuos': 10, 'n_caminhoes': 120, 'min_variacao': 0.01, 'strikes': 6}\n"
     ]
    },
    {
     "name": "stderr",
     "output_type": "stream",
     "text": [
      "\n",
      "100%|██████████| 10/10 [00:00<00:00, 1674.24it/s]"
     ]
    },
    {
     "name": "stdout",
     "output_type": "stream",
     "text": [
      "{'max_geracoes': 500, 'capacidade': 5, 'vertices': 40, 'npacotes': 500, 'n_individuos': 10, 'n_caminhoes': 120, 'min_variacao': 0.01, 'strikes': 9}\n"
     ]
    },
    {
     "name": "stderr",
     "output_type": "stream",
     "text": [
      "\n",
      "100%|██████████| 10/10 [00:00<00:00, 1672.24it/s]"
     ]
    },
    {
     "name": "stdout",
     "output_type": "stream",
     "text": [
      "{'max_geracoes': 500, 'capacidade': 5, 'vertices': 40, 'npacotes': 500, 'n_individuos': 10, 'n_caminhoes': 120, 'min_variacao': 0.01, 'strikes': 12}\n"
     ]
    },
    {
     "name": "stderr",
     "output_type": "stream",
     "text": [
      "\n",
      "100%|██████████| 10/10 [00:00<00:00, 2002.82it/s]\n",
      "100%|██████████| 10/10 [00:00<00:00, 2005.31it/s]\n",
      "100%|██████████| 10/10 [00:00<00:00, 1671.10it/s]\n",
      "100%|██████████| 10/10 [00:00<00:00, 1659.14it/s]\n",
      "100%|██████████| 10/10 [00:00<00:00, 1671.04it/s]\n",
      "100%|██████████| 10/10 [00:00<00:00, 1670.84it/s]\n",
      "100%|██████████| 10/10 [00:00<00:00, 1670.90it/s]\n",
      "100%|██████████| 10/10 [00:00<00:00, 1671.44it/s]\n",
      "100%|██████████| 10/10 [00:00<00:00, 1673.37it/s]\n",
      "100%|██████████| 10/10 [00:00<00:00, 1679.47it/s]\n",
      "100%|██████████| 10/10 [00:00<00:00, 1435.57it/s]\n",
      "100%|██████████| 15/15 [00:00<00:00, 1510.77it/s]\n",
      "100%|██████████| 15/15 [00:00<00:00, 1504.05it/s]"
     ]
    },
    {
     "name": "stdout",
     "output_type": "stream",
     "text": [
      "{'max_geracoes': 500, 'capacidade': 5, 'vertices': 40, 'npacotes': 500, 'n_individuos': 15, 'n_caminhoes': 120, 'min_variacao': 0.001, 'strikes': 3}\n"
     ]
    },
    {
     "name": "stderr",
     "output_type": "stream",
     "text": [
      "\n",
      "100%|██████████| 15/15 [00:00<00:00, 1672.95it/s]"
     ]
    },
    {
     "name": "stdout",
     "output_type": "stream",
     "text": [
      "{'max_geracoes': 500, 'capacidade': 5, 'vertices': 40, 'npacotes': 500, 'n_individuos': 15, 'n_caminhoes': 120, 'min_variacao': 0.001, 'strikes': 6}\n"
     ]
    },
    {
     "name": "stderr",
     "output_type": "stream",
     "text": [
      "\n",
      "100%|██████████| 15/15 [00:00<00:00, 1508.27it/s]"
     ]
    },
    {
     "name": "stdout",
     "output_type": "stream",
     "text": [
      "{'max_geracoes': 500, 'capacidade': 5, 'vertices': 40, 'npacotes': 500, 'n_individuos': 15, 'n_caminhoes': 120, 'min_variacao': 0.001, 'strikes': 9}\n"
     ]
    },
    {
     "name": "stderr",
     "output_type": "stream",
     "text": [
      "\n",
      "100%|██████████| 15/15 [00:00<00:00, 1671.66it/s]"
     ]
    },
    {
     "name": "stdout",
     "output_type": "stream",
     "text": [
      "{'max_geracoes': 500, 'capacidade': 5, 'vertices': 40, 'npacotes': 500, 'n_individuos': 15, 'n_caminhoes': 120, 'min_variacao': 0.001, 'strikes': 12}\n"
     ]
    },
    {
     "name": "stderr",
     "output_type": "stream",
     "text": [
      "\n",
      "100%|██████████| 15/15 [00:00<00:00, 1505.17it/s]"
     ]
    },
    {
     "name": "stdout",
     "output_type": "stream",
     "text": [
      "{'max_geracoes': 500, 'capacidade': 5, 'vertices': 40, 'npacotes': 500, 'n_individuos': 15, 'n_caminhoes': 120, 'min_variacao': 0.001, 'strikes': 3}\n"
     ]
    },
    {
     "name": "stderr",
     "output_type": "stream",
     "text": [
      "\n",
      "100%|██████████| 15/15 [00:00<00:00, 1503.69it/s]"
     ]
    },
    {
     "name": "stdout",
     "output_type": "stream",
     "text": [
      "{'max_geracoes': 500, 'capacidade': 5, 'vertices': 40, 'npacotes': 500, 'n_individuos': 15, 'n_caminhoes': 120, 'min_variacao': 0.001, 'strikes': 6}\n"
     ]
    },
    {
     "name": "stderr",
     "output_type": "stream",
     "text": [
      "\n",
      "100%|██████████| 15/15 [00:00<00:00, 1364.65it/s]"
     ]
    },
    {
     "name": "stdout",
     "output_type": "stream",
     "text": [
      "{'max_geracoes': 500, 'capacidade': 5, 'vertices': 40, 'npacotes': 500, 'n_individuos': 15, 'n_caminhoes': 120, 'min_variacao': 0.001, 'strikes': 9}\n"
     ]
    },
    {
     "name": "stderr",
     "output_type": "stream",
     "text": [
      "\n",
      "100%|██████████| 15/15 [00:00<00:00, 1669.88it/s]"
     ]
    },
    {
     "name": "stdout",
     "output_type": "stream",
     "text": [
      "{'max_geracoes': 500, 'capacidade': 5, 'vertices': 40, 'npacotes': 500, 'n_individuos': 15, 'n_caminhoes': 120, 'min_variacao': 0.001, 'strikes': 12}\n"
     ]
    },
    {
     "name": "stderr",
     "output_type": "stream",
     "text": [
      "\n",
      "100%|██████████| 15/15 [00:00<00:00, 1669.13it/s]"
     ]
    },
    {
     "name": "stdout",
     "output_type": "stream",
     "text": [
      "{'max_geracoes': 500, 'capacidade': 5, 'vertices': 40, 'npacotes': 500, 'n_individuos': 15, 'n_caminhoes': 120, 'min_variacao': 0.001, 'strikes': 3}\n"
     ]
    },
    {
     "name": "stderr",
     "output_type": "stream",
     "text": [
      "\n",
      "100%|██████████| 15/15 [00:00<00:00, 1671.17it/s]"
     ]
    },
    {
     "name": "stdout",
     "output_type": "stream",
     "text": [
      "{'max_geracoes': 500, 'capacidade': 5, 'vertices': 40, 'npacotes': 500, 'n_individuos': 15, 'n_caminhoes': 120, 'min_variacao': 0.001, 'strikes': 6}\n"
     ]
    },
    {
     "name": "stderr",
     "output_type": "stream",
     "text": [
      "\n",
      "100%|██████████| 15/15 [00:00<00:00, 1498.89it/s]"
     ]
    },
    {
     "name": "stdout",
     "output_type": "stream",
     "text": [
      "{'max_geracoes': 500, 'capacidade': 5, 'vertices': 40, 'npacotes': 500, 'n_individuos': 15, 'n_caminhoes': 120, 'min_variacao': 0.001, 'strikes': 9}\n"
     ]
    },
    {
     "name": "stderr",
     "output_type": "stream",
     "text": [
      "\n",
      "100%|██████████| 15/15 [00:00<00:00, 1504.31it/s]"
     ]
    },
    {
     "name": "stdout",
     "output_type": "stream",
     "text": [
      "{'max_geracoes': 500, 'capacidade': 5, 'vertices': 40, 'npacotes': 500, 'n_individuos': 15, 'n_caminhoes': 120, 'min_variacao': 0.001, 'strikes': 12}\n"
     ]
    },
    {
     "name": "stderr",
     "output_type": "stream",
     "text": [
      "\n",
      "100%|██████████| 15/15 [00:00<00:00, 1086.51it/s]"
     ]
    },
    {
     "name": "stdout",
     "output_type": "stream",
     "text": [
      "{'max_geracoes': 500, 'capacidade': 5, 'vertices': 40, 'npacotes': 500, 'n_individuos': 15, 'n_caminhoes': 120, 'min_variacao': 0.005, 'strikes': 3}\n"
     ]
    },
    {
     "name": "stderr",
     "output_type": "stream",
     "text": [
      "\n",
      "100%|██████████| 15/15 [00:00<00:00, 1671.35it/s]"
     ]
    },
    {
     "name": "stdout",
     "output_type": "stream",
     "text": [
      "{'max_geracoes': 500, 'capacidade': 5, 'vertices': 40, 'npacotes': 500, 'n_individuos': 15, 'n_caminhoes': 120, 'min_variacao': 0.005, 'strikes': 6}\n"
     ]
    },
    {
     "name": "stderr",
     "output_type": "stream",
     "text": [
      "\n",
      "100%|██████████| 15/15 [00:00<00:00, 1650.30it/s]"
     ]
    },
    {
     "name": "stdout",
     "output_type": "stream",
     "text": [
      "{'max_geracoes': 500, 'capacidade': 5, 'vertices': 40, 'npacotes': 500, 'n_individuos': 15, 'n_caminhoes': 120, 'min_variacao': 0.005, 'strikes': 9}\n"
     ]
    },
    {
     "name": "stderr",
     "output_type": "stream",
     "text": [
      "\n",
      "100%|██████████| 15/15 [00:00<00:00, 1878.72it/s]"
     ]
    },
    {
     "name": "stdout",
     "output_type": "stream",
     "text": [
      "{'max_geracoes': 500, 'capacidade': 5, 'vertices': 40, 'npacotes': 500, 'n_individuos': 15, 'n_caminhoes': 120, 'min_variacao': 0.005, 'strikes': 12}\n"
     ]
    },
    {
     "name": "stderr",
     "output_type": "stream",
     "text": [
      "\n",
      "100%|██████████| 15/15 [00:00<00:00, 1672.55it/s]\n",
      "100%|██████████| 15/15 [00:00<00:00, 1671.17it/s]"
     ]
    },
    {
     "name": "stdout",
     "output_type": "stream",
     "text": [
      "{'max_geracoes': 500, 'capacidade': 5, 'vertices': 40, 'npacotes': 500, 'n_individuos': 15, 'n_caminhoes': 120, 'min_variacao': 0.005, 'strikes': 6}\n"
     ]
    },
    {
     "name": "stderr",
     "output_type": "stream",
     "text": [
      "\n",
      "100%|██████████| 15/15 [00:00<00:00, 1502.83it/s]"
     ]
    },
    {
     "name": "stdout",
     "output_type": "stream",
     "text": [
      "{'max_geracoes': 500, 'capacidade': 5, 'vertices': 40, 'npacotes': 500, 'n_individuos': 15, 'n_caminhoes': 120, 'min_variacao': 0.005, 'strikes': 9}\n"
     ]
    },
    {
     "name": "stderr",
     "output_type": "stream",
     "text": [
      "\n",
      "100%|██████████| 15/15 [00:00<00:00, 1504.74it/s]"
     ]
    },
    {
     "name": "stdout",
     "output_type": "stream",
     "text": [
      "{'max_geracoes': 500, 'capacidade': 5, 'vertices': 40, 'npacotes': 500, 'n_individuos': 15, 'n_caminhoes': 120, 'min_variacao': 0.005, 'strikes': 12}\n"
     ]
    },
    {
     "name": "stderr",
     "output_type": "stream",
     "text": [
      "\n",
      "100%|██████████| 15/15 [00:00<00:00, 1501.72it/s]"
     ]
    },
    {
     "name": "stdout",
     "output_type": "stream",
     "text": [
      "{'max_geracoes': 500, 'capacidade': 5, 'vertices': 40, 'npacotes': 500, 'n_individuos': 15, 'n_caminhoes': 120, 'min_variacao': 0.005, 'strikes': 3}\n"
     ]
    },
    {
     "name": "stderr",
     "output_type": "stream",
     "text": [
      "\n",
      "100%|██████████| 15/15 [00:00<00:00, 1669.71it/s]"
     ]
    },
    {
     "name": "stdout",
     "output_type": "stream",
     "text": [
      "{'max_geracoes': 500, 'capacidade': 5, 'vertices': 40, 'npacotes': 500, 'n_individuos': 15, 'n_caminhoes': 120, 'min_variacao': 0.005, 'strikes': 6}\n"
     ]
    },
    {
     "name": "stderr",
     "output_type": "stream",
     "text": [
      "\n",
      "100%|██████████| 15/15 [00:00<00:00, 1505.64it/s]"
     ]
    },
    {
     "name": "stdout",
     "output_type": "stream",
     "text": [
      "{'max_geracoes': 500, 'capacidade': 5, 'vertices': 40, 'npacotes': 500, 'n_individuos': 15, 'n_caminhoes': 120, 'min_variacao': 0.005, 'strikes': 9}\n"
     ]
    },
    {
     "name": "stderr",
     "output_type": "stream",
     "text": [
      "\n",
      "100%|██████████| 15/15 [00:00<00:00, 1669.66it/s]\n",
      "100%|██████████| 15/15 [00:00<00:00, 1503.69it/s]\n",
      "  0%|          | 0/15 [00:00<?, ?it/s]"
     ]
    },
    {
     "name": "stdout",
     "output_type": "stream",
     "text": [
      "{'max_geracoes': 500, 'capacidade': 5, 'vertices': 40, 'npacotes': 500, 'n_individuos': 15, 'n_caminhoes': 120, 'min_variacao': 0.01, 'strikes': 6}\n"
     ]
    },
    {
     "name": "stderr",
     "output_type": "stream",
     "text": [
      "100%|██████████| 15/15 [00:00<00:00, 55.64it/s]\n",
      "100%|██████████| 15/15 [00:00<00:00, 1669.75it/s]"
     ]
    },
    {
     "name": "stdout",
     "output_type": "stream",
     "text": [
      "{'max_geracoes': 500, 'capacidade': 5, 'vertices': 40, 'npacotes': 500, 'n_individuos': 15, 'n_caminhoes': 120, 'min_variacao': 0.01, 'strikes': 9}\n"
     ]
    },
    {
     "name": "stderr",
     "output_type": "stream",
     "text": [
      "\n",
      "100%|██████████| 15/15 [00:00<00:00, 1669.71it/s]"
     ]
    },
    {
     "name": "stdout",
     "output_type": "stream",
     "text": [
      "{'max_geracoes': 500, 'capacidade': 5, 'vertices': 40, 'npacotes': 500, 'n_individuos': 15, 'n_caminhoes': 120, 'min_variacao': 0.01, 'strikes': 12}\n"
     ]
    },
    {
     "name": "stderr",
     "output_type": "stream",
     "text": [
      "\n",
      "100%|██████████| 15/15 [00:00<00:00, 1663.66it/s]"
     ]
    },
    {
     "name": "stdout",
     "output_type": "stream",
     "text": [
      "{'max_geracoes': 500, 'capacidade': 5, 'vertices': 40, 'npacotes': 500, 'n_individuos': 15, 'n_caminhoes': 120, 'min_variacao': 0.01, 'strikes': 3}\n"
     ]
    },
    {
     "name": "stderr",
     "output_type": "stream",
     "text": [
      "\n",
      "100%|██████████| 15/15 [00:00<00:00, 1664.80it/s]"
     ]
    },
    {
     "name": "stdout",
     "output_type": "stream",
     "text": [
      "{'max_geracoes': 500, 'capacidade': 5, 'vertices': 40, 'npacotes': 500, 'n_individuos': 15, 'n_caminhoes': 120, 'min_variacao': 0.01, 'strikes': 6}\n"
     ]
    },
    {
     "name": "stderr",
     "output_type": "stream",
     "text": [
      "\n",
      "100%|██████████| 15/15 [00:00<00:00, 1511.72it/s]"
     ]
    },
    {
     "name": "stdout",
     "output_type": "stream",
     "text": [
      "{'max_geracoes': 500, 'capacidade': 5, 'vertices': 40, 'npacotes': 500, 'n_individuos': 15, 'n_caminhoes': 120, 'min_variacao': 0.01, 'strikes': 9}\n"
     ]
    },
    {
     "name": "stderr",
     "output_type": "stream",
     "text": [
      "\n",
      "100%|██████████| 15/15 [00:00<00:00, 1577.36it/s]"
     ]
    },
    {
     "name": "stdout",
     "output_type": "stream",
     "text": [
      "{'max_geracoes': 500, 'capacidade': 5, 'vertices': 40, 'npacotes': 500, 'n_individuos': 15, 'n_caminhoes': 120, 'min_variacao': 0.01, 'strikes': 12}\n"
     ]
    },
    {
     "name": "stderr",
     "output_type": "stream",
     "text": [
      "\n",
      "100%|██████████| 15/15 [00:00<00:00, 1670.99it/s]"
     ]
    },
    {
     "name": "stdout",
     "output_type": "stream",
     "text": [
      "{'max_geracoes': 500, 'capacidade': 5, 'vertices': 40, 'npacotes': 500, 'n_individuos': 15, 'n_caminhoes': 120, 'min_variacao': 0.01, 'strikes': 3}\n"
     ]
    },
    {
     "name": "stderr",
     "output_type": "stream",
     "text": [
      "\n",
      "100%|██████████| 15/15 [00:00<00:00, 1873.24it/s]"
     ]
    },
    {
     "name": "stdout",
     "output_type": "stream",
     "text": [
      "{'max_geracoes': 500, 'capacidade': 5, 'vertices': 40, 'npacotes': 500, 'n_individuos': 15, 'n_caminhoes': 120, 'min_variacao': 0.01, 'strikes': 6}\n"
     ]
    },
    {
     "name": "stderr",
     "output_type": "stream",
     "text": [
      "\n",
      "100%|██████████| 15/15 [00:00<00:00, 1667.45it/s]"
     ]
    },
    {
     "name": "stdout",
     "output_type": "stream",
     "text": [
      "{'max_geracoes': 500, 'capacidade': 5, 'vertices': 40, 'npacotes': 500, 'n_individuos': 15, 'n_caminhoes': 120, 'min_variacao': 0.01, 'strikes': 9}\n"
     ]
    },
    {
     "name": "stderr",
     "output_type": "stream",
     "text": [
      "\n",
      "100%|██████████| 15/15 [00:00<00:00, 1663.53it/s]"
     ]
    },
    {
     "name": "stdout",
     "output_type": "stream",
     "text": [
      "{'max_geracoes': 500, 'capacidade': 5, 'vertices': 40, 'npacotes': 500, 'n_individuos': 15, 'n_caminhoes': 120, 'min_variacao': 0.01, 'strikes': 12}\n"
     ]
    },
    {
     "name": "stderr",
     "output_type": "stream",
     "text": [
      "\n",
      "100%|██████████| 15/15 [00:00<00:00, 1672.59it/s]\n",
      "100%|██████████| 15/15 [00:00<00:00, 1595.08it/s]\n",
      "100%|██████████| 15/15 [00:00<00:00, 1499.54it/s]\n",
      "100%|██████████| 15/15 [00:00<00:00, 1506.68it/s]\n",
      "100%|██████████| 15/15 [00:00<00:00, 1499.64it/s]\n",
      "100%|██████████| 15/15 [00:00<00:00, 1665.77it/s]\n",
      "100%|██████████| 15/15 [00:00<00:00, 1664.45it/s]\n",
      "100%|██████████| 15/15 [00:00<00:00, 1505.21it/s]\n",
      "100%|██████████| 15/15 [00:00<00:00, 1665.33it/s]\n",
      "100%|██████████| 15/15 [00:00<00:00, 1505.06it/s]\n",
      "100%|██████████| 15/15 [00:00<00:00, 1677.90it/s]\n",
      "100%|██████████| 5/5 [00:00<00:00, 1002.27it/s]\n",
      "100%|██████████| 5/5 [00:00<00:00, 1245.64it/s]"
     ]
    },
    {
     "name": "stdout",
     "output_type": "stream",
     "text": [
      "{'max_geracoes': 500, 'capacidade': 5, 'vertices': 40, 'npacotes': 650, 'n_individuos': 5, 'n_caminhoes': 156, 'min_variacao': 0.001, 'strikes': 3}\n"
     ]
    },
    {
     "name": "stderr",
     "output_type": "stream",
     "text": [
      "\n",
      "100%|██████████| 5/5 [00:00<00:00, 1262.43it/s]"
     ]
    },
    {
     "name": "stdout",
     "output_type": "stream",
     "text": [
      "{'max_geracoes': 500, 'capacidade': 5, 'vertices': 40, 'npacotes': 650, 'n_individuos': 5, 'n_caminhoes': 156, 'min_variacao': 0.001, 'strikes': 6}\n"
     ]
    },
    {
     "name": "stderr",
     "output_type": "stream",
     "text": [
      "\n",
      "100%|██████████| 5/5 [00:00<00:00, 1008.49it/s]"
     ]
    },
    {
     "name": "stdout",
     "output_type": "stream",
     "text": [
      "{'max_geracoes': 500, 'capacidade': 5, 'vertices': 40, 'npacotes': 650, 'n_individuos': 5, 'n_caminhoes': 156, 'min_variacao': 0.001, 'strikes': 9}\n"
     ]
    },
    {
     "name": "stderr",
     "output_type": "stream",
     "text": [
      "\n",
      "100%|██████████| 5/5 [00:00<00:00, 998.41it/s]"
     ]
    },
    {
     "name": "stdout",
     "output_type": "stream",
     "text": [
      "{'max_geracoes': 500, 'capacidade': 5, 'vertices': 40, 'npacotes': 650, 'n_individuos': 5, 'n_caminhoes': 156, 'min_variacao': 0.001, 'strikes': 12}\n"
     ]
    },
    {
     "name": "stderr",
     "output_type": "stream",
     "text": [
      "\n",
      "100%|██████████| 5/5 [00:00<00:00, 1248.90it/s]"
     ]
    },
    {
     "name": "stdout",
     "output_type": "stream",
     "text": [
      "{'max_geracoes': 500, 'capacidade': 5, 'vertices': 40, 'npacotes': 650, 'n_individuos': 5, 'n_caminhoes': 156, 'min_variacao': 0.001, 'strikes': 3}\n"
     ]
    },
    {
     "name": "stderr",
     "output_type": "stream",
     "text": [
      "\n",
      "100%|██████████| 5/5 [00:00<00:00, 1255.78it/s]"
     ]
    },
    {
     "name": "stdout",
     "output_type": "stream",
     "text": [
      "{'max_geracoes': 500, 'capacidade': 5, 'vertices': 40, 'npacotes': 650, 'n_individuos': 5, 'n_caminhoes': 156, 'min_variacao': 0.001, 'strikes': 6}\n"
     ]
    },
    {
     "name": "stderr",
     "output_type": "stream",
     "text": [
      "\n",
      "100%|██████████| 5/5 [00:00<00:00, 1253.38it/s]"
     ]
    },
    {
     "name": "stdout",
     "output_type": "stream",
     "text": [
      "{'max_geracoes': 500, 'capacidade': 5, 'vertices': 40, 'npacotes': 650, 'n_individuos': 5, 'n_caminhoes': 156, 'min_variacao': 0.001, 'strikes': 9}\n"
     ]
    },
    {
     "name": "stderr",
     "output_type": "stream",
     "text": [
      "\n",
      "100%|██████████| 5/5 [00:00<00:00, 1001.22it/s]"
     ]
    },
    {
     "name": "stdout",
     "output_type": "stream",
     "text": [
      "{'max_geracoes': 500, 'capacidade': 5, 'vertices': 40, 'npacotes': 650, 'n_individuos': 5, 'n_caminhoes': 156, 'min_variacao': 0.001, 'strikes': 12}\n"
     ]
    },
    {
     "name": "stderr",
     "output_type": "stream",
     "text": [
      "\n",
      "100%|██████████| 5/5 [00:00<00:00, 1249.79it/s]"
     ]
    },
    {
     "name": "stdout",
     "output_type": "stream",
     "text": [
      "{'max_geracoes': 500, 'capacidade': 5, 'vertices': 40, 'npacotes': 650, 'n_individuos': 5, 'n_caminhoes': 156, 'min_variacao': 0.001, 'strikes': 3}\n"
     ]
    },
    {
     "name": "stderr",
     "output_type": "stream",
     "text": [
      "\n",
      "100%|██████████| 5/5 [00:00<00:00, 1265.40it/s]\n",
      "100%|██████████| 5/5 [00:00<00:00, 1089.37it/s]"
     ]
    },
    {
     "name": "stdout",
     "output_type": "stream",
     "text": [
      "{'max_geracoes': 500, 'capacidade': 5, 'vertices': 40, 'npacotes': 650, 'n_individuos': 5, 'n_caminhoes': 156, 'min_variacao': 0.001, 'strikes': 9}\n"
     ]
    },
    {
     "name": "stderr",
     "output_type": "stream",
     "text": [
      "\n",
      "100%|██████████| 5/5 [00:00<00:00, 1001.98it/s]"
     ]
    },
    {
     "name": "stdout",
     "output_type": "stream",
     "text": [
      "{'max_geracoes': 500, 'capacidade': 5, 'vertices': 40, 'npacotes': 650, 'n_individuos': 5, 'n_caminhoes': 156, 'min_variacao': 0.001, 'strikes': 12}\n"
     ]
    },
    {
     "name": "stderr",
     "output_type": "stream",
     "text": [
      "\n",
      "100%|██████████| 5/5 [00:00<00:00, 1253.08it/s]"
     ]
    },
    {
     "name": "stdout",
     "output_type": "stream",
     "text": [
      "{'max_geracoes': 500, 'capacidade': 5, 'vertices': 40, 'npacotes': 650, 'n_individuos': 5, 'n_caminhoes': 156, 'min_variacao': 0.005, 'strikes': 3}\n"
     ]
    },
    {
     "name": "stderr",
     "output_type": "stream",
     "text": [
      "\n",
      "100%|██████████| 5/5 [00:00<00:00, 966.61it/s]\n",
      "100%|██████████| 5/5 [00:00<00:00, 1229.50it/s]"
     ]
    },
    {
     "name": "stdout",
     "output_type": "stream",
     "text": [
      "{'max_geracoes': 500, 'capacidade': 5, 'vertices': 40, 'npacotes': 650, 'n_individuos': 5, 'n_caminhoes': 156, 'min_variacao': 0.005, 'strikes': 9}\n"
     ]
    },
    {
     "name": "stderr",
     "output_type": "stream",
     "text": [
      "\n",
      "100%|██████████| 5/5 [00:00<00:00, 1253.75it/s]"
     ]
    },
    {
     "name": "stdout",
     "output_type": "stream",
     "text": [
      "{'max_geracoes': 500, 'capacidade': 5, 'vertices': 40, 'npacotes': 650, 'n_individuos': 5, 'n_caminhoes': 156, 'min_variacao': 0.005, 'strikes': 12}\n"
     ]
    },
    {
     "name": "stderr",
     "output_type": "stream",
     "text": [
      "\n",
      "100%|██████████| 5/5 [00:00<00:00, 1255.48it/s]\n",
      "100%|██████████| 5/5 [00:00<00:00, 1252.70it/s]"
     ]
    },
    {
     "name": "stdout",
     "output_type": "stream",
     "text": [
      "{'max_geracoes': 500, 'capacidade': 5, 'vertices': 40, 'npacotes': 650, 'n_individuos': 5, 'n_caminhoes': 156, 'min_variacao': 0.005, 'strikes': 6}\n"
     ]
    },
    {
     "name": "stderr",
     "output_type": "stream",
     "text": [
      "\n",
      "100%|██████████| 5/5 [00:00<00:00, 1264.56it/s]"
     ]
    },
    {
     "name": "stdout",
     "output_type": "stream",
     "text": [
      "{'max_geracoes': 500, 'capacidade': 5, 'vertices': 40, 'npacotes': 650, 'n_individuos': 5, 'n_caminhoes': 156, 'min_variacao': 0.005, 'strikes': 9}\n"
     ]
    },
    {
     "name": "stderr",
     "output_type": "stream",
     "text": [
      "\n",
      "100%|██████████| 5/5 [00:00<00:00, 1242.17it/s]"
     ]
    },
    {
     "name": "stdout",
     "output_type": "stream",
     "text": [
      "{'max_geracoes': 500, 'capacidade': 5, 'vertices': 40, 'npacotes': 650, 'n_individuos': 5, 'n_caminhoes': 156, 'min_variacao': 0.005, 'strikes': 12}\n"
     ]
    },
    {
     "name": "stderr",
     "output_type": "stream",
     "text": [
      "\n",
      "100%|██████████| 5/5 [00:00<00:00, 996.51it/s]\n",
      "100%|██████████| 5/5 [00:00<00:00, 1253.45it/s]\n",
      "100%|██████████| 5/5 [00:00<00:00, 1255.10it/s]\n",
      "100%|██████████| 5/5 [00:00<00:00, 1254.88it/s]\n",
      "100%|██████████| 5/5 [00:00<00:00, 1240.55it/s]"
     ]
    },
    {
     "name": "stdout",
     "output_type": "stream",
     "text": [
      "{'max_geracoes': 500, 'capacidade': 5, 'vertices': 40, 'npacotes': 650, 'n_individuos': 5, 'n_caminhoes': 156, 'min_variacao': 0.01, 'strikes': 3}\n"
     ]
    },
    {
     "name": "stderr",
     "output_type": "stream",
     "text": [
      "\n",
      "100%|██████████| 5/5 [00:00<00:00, 1256.08it/s]\n",
      "100%|██████████| 5/5 [00:00<00:00, 1253.45it/s]\n",
      "100%|██████████| 5/5 [00:00<00:00, 1253.45it/s]\n",
      "100%|██████████| 5/5 [00:00<00:00, 996.75it/s]"
     ]
    },
    {
     "name": "stdout",
     "output_type": "stream",
     "text": [
      "{'max_geracoes': 500, 'capacidade': 5, 'vertices': 40, 'npacotes': 650, 'n_individuos': 5, 'n_caminhoes': 156, 'min_variacao': 0.01, 'strikes': 3}\n"
     ]
    },
    {
     "name": "stderr",
     "output_type": "stream",
     "text": [
      "\n",
      "100%|██████████| 5/5 [00:00<00:00, 996.70it/s]\n",
      "100%|██████████| 5/5 [00:00<00:00, 1003.90it/s]\n",
      "100%|██████████| 5/5 [00:00<00:00, 1262.43it/s]\n",
      "100%|██████████| 5/5 [00:00<00:00, 1247.71it/s]\n",
      "100%|██████████| 5/5 [00:00<00:00, 1002.65it/s]\n",
      "100%|██████████| 5/5 [00:00<00:00, 1251.66it/s]\n",
      "100%|██████████| 5/5 [00:00<00:00, 1253.23it/s]\n",
      "100%|██████████| 5/5 [00:00<00:00, 1000.93it/s]\n",
      "100%|██████████| 5/5 [00:00<00:00, 1256.83it/s]\n",
      "100%|██████████| 5/5 [00:00<00:00, 1253.38it/s]\n",
      "100%|██████████| 5/5 [00:00<00:00, 1244.16it/s]\n",
      "100%|██████████| 5/5 [00:00<00:00, 1080.12it/s]\n",
      "100%|██████████| 5/5 [00:00<00:00, 1005.49it/s]\n",
      "100%|██████████| 5/5 [00:00<00:00, 1240.92it/s]\n",
      "100%|██████████| 5/5 [00:00<00:00, 1670.77it/s]\n",
      "100%|██████████| 5/5 [00:00<00:00, 1251.58it/s]\n",
      "100%|██████████| 5/5 [00:00<00:00, 1253.68it/s]\n",
      "100%|██████████| 5/5 [00:00<00:00, 1252.48it/s]\n",
      "100%|██████████| 10/10 [00:00<00:00, 1117.50it/s]\n",
      "100%|██████████| 10/10 [00:00<00:00, 1244.31it/s]"
     ]
    },
    {
     "name": "stdout",
     "output_type": "stream",
     "text": [
      "{'max_geracoes': 500, 'capacidade': 5, 'vertices': 40, 'npacotes': 650, 'n_individuos': 10, 'n_caminhoes': 156, 'min_variacao': 0.001, 'strikes': 3}\n"
     ]
    },
    {
     "name": "stderr",
     "output_type": "stream",
     "text": [
      "\n",
      "100%|██████████| 10/10 [00:00<00:00, 1433.61it/s]"
     ]
    },
    {
     "name": "stdout",
     "output_type": "stream",
     "text": [
      "{'max_geracoes': 500, 'capacidade': 5, 'vertices': 40, 'npacotes': 650, 'n_individuos': 10, 'n_caminhoes': 156, 'min_variacao': 0.001, 'strikes': 6}\n"
     ]
    },
    {
     "name": "stderr",
     "output_type": "stream",
     "text": [
      "\n",
      "100%|██████████| 10/10 [00:00<00:00, 1247.49it/s]"
     ]
    },
    {
     "name": "stdout",
     "output_type": "stream",
     "text": [
      "{'max_geracoes': 500, 'capacidade': 5, 'vertices': 40, 'npacotes': 650, 'n_individuos': 10, 'n_caminhoes': 156, 'min_variacao': 0.001, 'strikes': 9}\n"
     ]
    },
    {
     "name": "stderr",
     "output_type": "stream",
     "text": [
      "\n",
      "100%|██████████| 10/10 [00:00<00:00, 1253.38it/s]"
     ]
    },
    {
     "name": "stdout",
     "output_type": "stream",
     "text": [
      "{'max_geracoes': 500, 'capacidade': 5, 'vertices': 40, 'npacotes': 650, 'n_individuos': 10, 'n_caminhoes': 156, 'min_variacao': 0.001, 'strikes': 12}\n"
     ]
    },
    {
     "name": "stderr",
     "output_type": "stream",
     "text": [
      "\n",
      "100%|██████████| 10/10 [00:00<00:00, 1114.08it/s]"
     ]
    },
    {
     "name": "stdout",
     "output_type": "stream",
     "text": [
      "{'max_geracoes': 500, 'capacidade': 5, 'vertices': 40, 'npacotes': 650, 'n_individuos': 10, 'n_caminhoes': 156, 'min_variacao': 0.001, 'strikes': 3}\n"
     ]
    },
    {
     "name": "stderr",
     "output_type": "stream",
     "text": [
      "\n",
      "100%|██████████| 10/10 [00:00<00:00, 1249.38it/s]"
     ]
    },
    {
     "name": "stdout",
     "output_type": "stream",
     "text": [
      "{'max_geracoes': 500, 'capacidade': 5, 'vertices': 40, 'npacotes': 650, 'n_individuos': 10, 'n_caminhoes': 156, 'min_variacao': 0.001, 'strikes': 6}\n"
     ]
    },
    {
     "name": "stderr",
     "output_type": "stream",
     "text": [
      "\n",
      "100%|██████████| 10/10 [00:00<00:00, 1433.61it/s]"
     ]
    },
    {
     "name": "stdout",
     "output_type": "stream",
     "text": [
      "{'max_geracoes': 500, 'capacidade': 5, 'vertices': 40, 'npacotes': 650, 'n_individuos': 10, 'n_caminhoes': 156, 'min_variacao': 0.001, 'strikes': 9}\n"
     ]
    },
    {
     "name": "stderr",
     "output_type": "stream",
     "text": [
      "\n",
      "100%|██████████| 10/10 [00:00<00:00, 1253.34it/s]"
     ]
    },
    {
     "name": "stdout",
     "output_type": "stream",
     "text": [
      "{'max_geracoes': 500, 'capacidade': 5, 'vertices': 40, 'npacotes': 650, 'n_individuos': 10, 'n_caminhoes': 156, 'min_variacao': 0.001, 'strikes': 12}\n"
     ]
    },
    {
     "name": "stderr",
     "output_type": "stream",
     "text": [
      "\n",
      "100%|██████████| 10/10 [00:00<00:00, 1114.20it/s]"
     ]
    },
    {
     "name": "stdout",
     "output_type": "stream",
     "text": [
      "{'max_geracoes': 500, 'capacidade': 5, 'vertices': 40, 'npacotes': 650, 'n_individuos': 10, 'n_caminhoes': 156, 'min_variacao': 0.001, 'strikes': 3}\n"
     ]
    },
    {
     "name": "stderr",
     "output_type": "stream",
     "text": [
      "\n",
      "100%|██████████| 10/10 [00:00<00:00, 1107.23it/s]"
     ]
    },
    {
     "name": "stdout",
     "output_type": "stream",
     "text": [
      "{'max_geracoes': 500, 'capacidade': 5, 'vertices': 40, 'npacotes': 650, 'n_individuos': 10, 'n_caminhoes': 156, 'min_variacao': 0.001, 'strikes': 6}\n"
     ]
    },
    {
     "name": "stderr",
     "output_type": "stream",
     "text": [
      "\n",
      "100%|██████████| 10/10 [00:00<00:00, 1252.22it/s]"
     ]
    },
    {
     "name": "stdout",
     "output_type": "stream",
     "text": [
      "{'max_geracoes': 500, 'capacidade': 5, 'vertices': 40, 'npacotes': 650, 'n_individuos': 10, 'n_caminhoes': 156, 'min_variacao': 0.001, 'strikes': 9}\n"
     ]
    },
    {
     "name": "stderr",
     "output_type": "stream",
     "text": [
      "\n",
      "100%|██████████| 10/10 [00:00<00:00, 1247.56it/s]"
     ]
    },
    {
     "name": "stdout",
     "output_type": "stream",
     "text": [
      "{'max_geracoes': 500, 'capacidade': 5, 'vertices': 40, 'npacotes': 650, 'n_individuos': 10, 'n_caminhoes': 156, 'min_variacao': 0.001, 'strikes': 12}\n"
     ]
    },
    {
     "name": "stderr",
     "output_type": "stream",
     "text": [
      "\n",
      "100%|██████████| 10/10 [00:00<00:00, 1254.35it/s]"
     ]
    },
    {
     "name": "stdout",
     "output_type": "stream",
     "text": [
      "{'max_geracoes': 500, 'capacidade': 5, 'vertices': 40, 'npacotes': 650, 'n_individuos': 10, 'n_caminhoes': 156, 'min_variacao': 0.005, 'strikes': 3}\n"
     ]
    },
    {
     "name": "stderr",
     "output_type": "stream",
     "text": [
      "\n",
      "100%|██████████| 10/10 [00:00<00:00, 1255.82it/s]"
     ]
    },
    {
     "name": "stdout",
     "output_type": "stream",
     "text": [
      "{'max_geracoes': 500, 'capacidade': 5, 'vertices': 40, 'npacotes': 650, 'n_individuos': 10, 'n_caminhoes': 156, 'min_variacao': 0.005, 'strikes': 6}\n"
     ]
    },
    {
     "name": "stderr",
     "output_type": "stream",
     "text": [
      "\n",
      "100%|██████████| 10/10 [00:00<00:00, 1114.08it/s]"
     ]
    },
    {
     "name": "stdout",
     "output_type": "stream",
     "text": [
      "{'max_geracoes': 500, 'capacidade': 5, 'vertices': 40, 'npacotes': 650, 'n_individuos': 10, 'n_caminhoes': 156, 'min_variacao': 0.005, 'strikes': 9}\n"
     ]
    },
    {
     "name": "stderr",
     "output_type": "stream",
     "text": [
      "\n",
      "100%|██████████| 10/10 [00:00<00:00, 1253.34it/s]"
     ]
    },
    {
     "name": "stdout",
     "output_type": "stream",
     "text": [
      "{'max_geracoes': 500, 'capacidade': 5, 'vertices': 40, 'npacotes': 650, 'n_individuos': 10, 'n_caminhoes': 156, 'min_variacao': 0.005, 'strikes': 12}\n"
     ]
    },
    {
     "name": "stderr",
     "output_type": "stream",
     "text": [
      "\n",
      "100%|██████████| 10/10 [00:00<00:00, 1114.05it/s]"
     ]
    },
    {
     "name": "stdout",
     "output_type": "stream",
     "text": [
      "{'max_geracoes': 500, 'capacidade': 5, 'vertices': 40, 'npacotes': 650, 'n_individuos': 10, 'n_caminhoes': 156, 'min_variacao': 0.005, 'strikes': 3}\n"
     ]
    },
    {
     "name": "stderr",
     "output_type": "stream",
     "text": [
      "\n",
      "100%|██████████| 10/10 [00:00<00:00, 1253.08it/s]\n",
      "100%|██████████| 10/10 [00:00<00:00, 1002.65it/s]"
     ]
    },
    {
     "name": "stdout",
     "output_type": "stream",
     "text": [
      "{'max_geracoes': 500, 'capacidade': 5, 'vertices': 40, 'npacotes': 650, 'n_individuos': 10, 'n_caminhoes': 156, 'min_variacao': 0.005, 'strikes': 9}\n"
     ]
    },
    {
     "name": "stderr",
     "output_type": "stream",
     "text": [
      "\n",
      "100%|██████████| 10/10 [00:00<00:00, 1110.72it/s]"
     ]
    },
    {
     "name": "stdout",
     "output_type": "stream",
     "text": [
      "{'max_geracoes': 500, 'capacidade': 5, 'vertices': 40, 'npacotes': 650, 'n_individuos': 10, 'n_caminhoes': 156, 'min_variacao': 0.005, 'strikes': 12}\n"
     ]
    },
    {
     "name": "stderr",
     "output_type": "stream",
     "text": [
      "\n",
      "100%|██████████| 10/10 [00:00<00:00, 911.29it/s]\n",
      "100%|██████████| 10/10 [00:00<00:00, 1432.58it/s]"
     ]
    },
    {
     "name": "stdout",
     "output_type": "stream",
     "text": [
      "{'max_geracoes': 500, 'capacidade': 5, 'vertices': 40, 'npacotes': 650, 'n_individuos': 10, 'n_caminhoes': 156, 'min_variacao': 0.005, 'strikes': 6}\n"
     ]
    },
    {
     "name": "stderr",
     "output_type": "stream",
     "text": [
      "\n",
      "  0%|          | 0/10 [00:00<?, ?it/s]"
     ]
    },
    {
     "name": "stdout",
     "output_type": "stream",
     "text": [
      "{'max_geracoes': 500, 'capacidade': 5, 'vertices': 40, 'npacotes': 650, 'n_individuos': 10, 'n_caminhoes': 156, 'min_variacao': 0.005, 'strikes': 9}\n"
     ]
    },
    {
     "name": "stderr",
     "output_type": "stream",
     "text": [
      "100%|██████████| 10/10 [00:00<00:00, 36.81it/s]\n",
      "100%|██████████| 10/10 [00:00<00:00, 1253.45it/s]"
     ]
    },
    {
     "name": "stdout",
     "output_type": "stream",
     "text": [
      "{'max_geracoes': 500, 'capacidade': 5, 'vertices': 40, 'npacotes': 650, 'n_individuos': 10, 'n_caminhoes': 156, 'min_variacao': 0.005, 'strikes': 12}\n"
     ]
    },
    {
     "name": "stderr",
     "output_type": "stream",
     "text": [
      "\n",
      "100%|██████████| 10/10 [00:00<00:00, 1253.42it/s]"
     ]
    },
    {
     "name": "stdout",
     "output_type": "stream",
     "text": [
      "{'max_geracoes': 500, 'capacidade': 5, 'vertices': 40, 'npacotes': 650, 'n_individuos': 10, 'n_caminhoes': 156, 'min_variacao': 0.01, 'strikes': 3}\n"
     ]
    },
    {
     "name": "stderr",
     "output_type": "stream",
     "text": [
      "\n",
      "100%|██████████| 10/10 [00:00<00:00, 1253.30it/s]"
     ]
    },
    {
     "name": "stdout",
     "output_type": "stream",
     "text": [
      "{'max_geracoes': 500, 'capacidade': 5, 'vertices': 40, 'npacotes': 650, 'n_individuos': 10, 'n_caminhoes': 156, 'min_variacao': 0.01, 'strikes': 6}\n"
     ]
    },
    {
     "name": "stderr",
     "output_type": "stream",
     "text": [
      "\n",
      "100%|██████████| 10/10 [00:00<00:00, 1118.78it/s]"
     ]
    },
    {
     "name": "stdout",
     "output_type": "stream",
     "text": [
      "{'max_geracoes': 500, 'capacidade': 5, 'vertices': 40, 'npacotes': 650, 'n_individuos': 10, 'n_caminhoes': 156, 'min_variacao': 0.01, 'strikes': 9}\n"
     ]
    },
    {
     "name": "stderr",
     "output_type": "stream",
     "text": [
      "\n",
      "100%|██████████| 10/10 [00:00<00:00, 1432.87it/s]"
     ]
    },
    {
     "name": "stdout",
     "output_type": "stream",
     "text": [
      "{'max_geracoes': 500, 'capacidade': 5, 'vertices': 40, 'npacotes': 650, 'n_individuos': 10, 'n_caminhoes': 156, 'min_variacao': 0.01, 'strikes': 12}\n"
     ]
    },
    {
     "name": "stderr",
     "output_type": "stream",
     "text": [
      "\n",
      "100%|██████████| 10/10 [00:00<00:00, 1114.17it/s]\n",
      "100%|██████████| 10/10 [00:00<00:00, 1253.38it/s]\n",
      "100%|██████████| 10/10 [00:00<00:00, 1114.17it/s]"
     ]
    },
    {
     "name": "stdout",
     "output_type": "stream",
     "text": [
      "{'max_geracoes': 500, 'capacidade': 5, 'vertices': 40, 'npacotes': 650, 'n_individuos': 10, 'n_caminhoes': 156, 'min_variacao': 0.01, 'strikes': 9}\n"
     ]
    },
    {
     "name": "stderr",
     "output_type": "stream",
     "text": [
      "\n",
      "100%|██████████| 10/10 [00:00<00:00, 1223.19it/s]\n",
      "100%|██████████| 10/10 [00:00<00:00, 1253.49it/s]\n",
      "100%|██████████| 10/10 [00:00<00:00, 1117.62it/s]"
     ]
    },
    {
     "name": "stdout",
     "output_type": "stream",
     "text": [
      "{'max_geracoes': 500, 'capacidade': 5, 'vertices': 40, 'npacotes': 650, 'n_individuos': 10, 'n_caminhoes': 156, 'min_variacao': 0.01, 'strikes': 6}\n"
     ]
    },
    {
     "name": "stderr",
     "output_type": "stream",
     "text": [
      "\n",
      "100%|██████████| 10/10 [00:00<00:00, 1114.02it/s]"
     ]
    },
    {
     "name": "stdout",
     "output_type": "stream",
     "text": [
      "{'max_geracoes': 500, 'capacidade': 5, 'vertices': 40, 'npacotes': 650, 'n_individuos': 10, 'n_caminhoes': 156, 'min_variacao': 0.01, 'strikes': 9}\n"
     ]
    },
    {
     "name": "stderr",
     "output_type": "stream",
     "text": [
      "\n",
      "100%|██████████| 10/10 [00:00<00:00, 1248.53it/s]"
     ]
    },
    {
     "name": "stdout",
     "output_type": "stream",
     "text": [
      "{'max_geracoes': 500, 'capacidade': 5, 'vertices': 40, 'npacotes': 650, 'n_individuos': 10, 'n_caminhoes': 156, 'min_variacao': 0.01, 'strikes': 12}\n"
     ]
    },
    {
     "name": "stderr",
     "output_type": "stream",
     "text": [
      "\n",
      "100%|██████████| 10/10 [00:00<00:00, 1252.59it/s]"
     ]
    },
    {
     "name": "stdout",
     "output_type": "stream",
     "text": [
      "{'max_geracoes': 500, 'capacidade': 5, 'vertices': 40, 'npacotes': 650, 'n_individuos': 10, 'n_caminhoes': 156, 'min_variacao': 0.05, 'strikes': 3}\n"
     ]
    },
    {
     "name": "stderr",
     "output_type": "stream",
     "text": [
      "\n",
      "100%|██████████| 10/10 [00:00<00:00, 1253.38it/s]\n",
      "100%|██████████| 10/10 [00:00<00:00, 1110.02it/s]\n",
      "100%|██████████| 10/10 [00:00<00:00, 1253.42it/s]\n",
      "100%|██████████| 10/10 [00:00<00:00, 1253.45it/s]\n",
      "100%|██████████| 10/10 [00:00<00:00, 1114.08it/s]\n",
      "100%|██████████| 10/10 [00:00<00:00, 1249.35it/s]\n",
      "100%|██████████| 10/10 [00:00<00:00, 1247.67it/s]"
     ]
    },
    {
     "name": "stdout",
     "output_type": "stream",
     "text": [
      "{'max_geracoes': 500, 'capacidade': 5, 'vertices': 40, 'npacotes': 650, 'n_individuos': 10, 'n_caminhoes': 156, 'min_variacao': 0.05, 'strikes': 12}\n"
     ]
    },
    {
     "name": "stderr",
     "output_type": "stream",
     "text": [
      "\n",
      "100%|██████████| 10/10 [00:00<00:00, 1115.27it/s]\n",
      "100%|██████████| 10/10 [00:00<00:00, 1114.11it/s]\n",
      "100%|██████████| 10/10 [00:00<00:00, 1247.71it/s]\n",
      "100%|██████████| 15/15 [00:00<00:00, 1253.28it/s]\n",
      "100%|██████████| 15/15 [00:00<00:00, 1157.01it/s]"
     ]
    },
    {
     "name": "stdout",
     "output_type": "stream",
     "text": [
      "{'max_geracoes': 500, 'capacidade': 5, 'vertices': 40, 'npacotes': 650, 'n_individuos': 15, 'n_caminhoes': 156, 'min_variacao': 0.001, 'strikes': 3}\n"
     ]
    },
    {
     "name": "stderr",
     "output_type": "stream",
     "text": [
      "\n",
      "100%|██████████| 15/15 [00:00<00:00, 1253.63it/s]"
     ]
    },
    {
     "name": "stdout",
     "output_type": "stream",
     "text": [
      "{'max_geracoes': 500, 'capacidade': 5, 'vertices': 40, 'npacotes': 650, 'n_individuos': 15, 'n_caminhoes': 156, 'min_variacao': 0.001, 'strikes': 6}\n"
     ]
    },
    {
     "name": "stderr",
     "output_type": "stream",
     "text": [
      "\n",
      "100%|██████████| 15/15 [00:00<00:00, 1364.62it/s]"
     ]
    },
    {
     "name": "stdout",
     "output_type": "stream",
     "text": [
      "{'max_geracoes': 500, 'capacidade': 5, 'vertices': 40, 'npacotes': 650, 'n_individuos': 15, 'n_caminhoes': 156, 'min_variacao': 0.001, 'strikes': 9}\n"
     ]
    },
    {
     "name": "stderr",
     "output_type": "stream",
     "text": [
      "\n",
      "100%|██████████| 15/15 [00:00<00:00, 1143.40it/s]"
     ]
    },
    {
     "name": "stdout",
     "output_type": "stream",
     "text": [
      "{'max_geracoes': 500, 'capacidade': 5, 'vertices': 40, 'npacotes': 650, 'n_individuos': 15, 'n_caminhoes': 156, 'min_variacao': 0.001, 'strikes': 12}\n"
     ]
    },
    {
     "name": "stderr",
     "output_type": "stream",
     "text": [
      "\n",
      "100%|██████████| 15/15 [00:00<00:00, 1156.18it/s]"
     ]
    },
    {
     "name": "stdout",
     "output_type": "stream",
     "text": [
      "{'max_geracoes': 500, 'capacidade': 5, 'vertices': 40, 'npacotes': 650, 'n_individuos': 15, 'n_caminhoes': 156, 'min_variacao': 0.001, 'strikes': 3}\n"
     ]
    },
    {
     "name": "stderr",
     "output_type": "stream",
     "text": [
      "\n",
      "100%|██████████| 15/15 [00:00<00:00, 1253.83it/s]"
     ]
    },
    {
     "name": "stdout",
     "output_type": "stream",
     "text": [
      "{'max_geracoes': 500, 'capacidade': 5, 'vertices': 40, 'npacotes': 650, 'n_individuos': 15, 'n_caminhoes': 156, 'min_variacao': 0.001, 'strikes': 6}\n"
     ]
    },
    {
     "name": "stderr",
     "output_type": "stream",
     "text": [
      "\n",
      "100%|██████████| 15/15 [00:00<00:00, 1249.54it/s]"
     ]
    },
    {
     "name": "stdout",
     "output_type": "stream",
     "text": [
      "{'max_geracoes': 500, 'capacidade': 5, 'vertices': 40, 'npacotes': 650, 'n_individuos': 15, 'n_caminhoes': 156, 'min_variacao': 0.001, 'strikes': 9}\n"
     ]
    },
    {
     "name": "stderr",
     "output_type": "stream",
     "text": [
      "\n",
      "100%|██████████| 15/15 [00:00<00:00, 1210.15it/s]"
     ]
    },
    {
     "name": "stdout",
     "output_type": "stream",
     "text": [
      "{'max_geracoes': 500, 'capacidade': 5, 'vertices': 40, 'npacotes': 650, 'n_individuos': 15, 'n_caminhoes': 156, 'min_variacao': 0.001, 'strikes': 12}\n"
     ]
    },
    {
     "name": "stderr",
     "output_type": "stream",
     "text": [
      "\n",
      "100%|██████████| 15/15 [00:00<00:00, 1253.33it/s]"
     ]
    },
    {
     "name": "stdout",
     "output_type": "stream",
     "text": [
      "{'max_geracoes': 500, 'capacidade': 5, 'vertices': 40, 'npacotes': 650, 'n_individuos': 15, 'n_caminhoes': 156, 'min_variacao': 0.001, 'strikes': 3}\n"
     ]
    },
    {
     "name": "stderr",
     "output_type": "stream",
     "text": [
      "\n",
      "100%|██████████| 15/15 [00:00<00:00, 1253.30it/s]"
     ]
    },
    {
     "name": "stdout",
     "output_type": "stream",
     "text": [
      "{'max_geracoes': 500, 'capacidade': 5, 'vertices': 40, 'npacotes': 650, 'n_individuos': 15, 'n_caminhoes': 156, 'min_variacao': 0.001, 'strikes': 6}\n"
     ]
    },
    {
     "name": "stderr",
     "output_type": "stream",
     "text": [
      "\n",
      "100%|██████████| 15/15 [00:00<00:00, 1156.69it/s]"
     ]
    },
    {
     "name": "stdout",
     "output_type": "stream",
     "text": [
      "{'max_geracoes': 500, 'capacidade': 5, 'vertices': 40, 'npacotes': 650, 'n_individuos': 15, 'n_caminhoes': 156, 'min_variacao': 0.001, 'strikes': 9}\n"
     ]
    },
    {
     "name": "stderr",
     "output_type": "stream",
     "text": [
      "\n",
      "100%|██████████| 15/15 [00:00<00:00, 1250.31it/s]"
     ]
    },
    {
     "name": "stdout",
     "output_type": "stream",
     "text": [
      "{'max_geracoes': 500, 'capacidade': 5, 'vertices': 40, 'npacotes': 650, 'n_individuos': 15, 'n_caminhoes': 156, 'min_variacao': 0.001, 'strikes': 12}\n"
     ]
    },
    {
     "name": "stderr",
     "output_type": "stream",
     "text": [
      "\n",
      "100%|██████████| 15/15 [00:00<00:00, 1151.75it/s]"
     ]
    },
    {
     "name": "stdout",
     "output_type": "stream",
     "text": [
      "{'max_geracoes': 500, 'capacidade': 5, 'vertices': 40, 'npacotes': 650, 'n_individuos': 15, 'n_caminhoes': 156, 'min_variacao': 0.005, 'strikes': 3}\n"
     ]
    },
    {
     "name": "stderr",
     "output_type": "stream",
     "text": [
      "\n",
      "100%|██████████| 15/15 [00:00<00:00, 1249.40it/s]"
     ]
    },
    {
     "name": "stdout",
     "output_type": "stream",
     "text": [
      "{'max_geracoes': 500, 'capacidade': 5, 'vertices': 40, 'npacotes': 650, 'n_individuos': 15, 'n_caminhoes': 156, 'min_variacao': 0.005, 'strikes': 6}\n"
     ]
    },
    {
     "name": "stderr",
     "output_type": "stream",
     "text": [
      "\n",
      "100%|██████████| 15/15 [00:00<00:00, 1256.66it/s]"
     ]
    },
    {
     "name": "stdout",
     "output_type": "stream",
     "text": [
      "{'max_geracoes': 500, 'capacidade': 5, 'vertices': 40, 'npacotes': 650, 'n_individuos': 15, 'n_caminhoes': 156, 'min_variacao': 0.005, 'strikes': 9}\n"
     ]
    },
    {
     "name": "stderr",
     "output_type": "stream",
     "text": [
      "\n",
      "100%|██████████| 15/15 [00:00<00:00, 1250.34it/s]"
     ]
    },
    {
     "name": "stdout",
     "output_type": "stream",
     "text": [
      "{'max_geracoes': 500, 'capacidade': 5, 'vertices': 40, 'npacotes': 650, 'n_individuos': 15, 'n_caminhoes': 156, 'min_variacao': 0.005, 'strikes': 12}\n"
     ]
    },
    {
     "name": "stderr",
     "output_type": "stream",
     "text": [
      "\n",
      "100%|██████████| 15/15 [00:00<00:00, 1159.59it/s]"
     ]
    },
    {
     "name": "stdout",
     "output_type": "stream",
     "text": [
      "{'max_geracoes': 500, 'capacidade': 5, 'vertices': 40, 'npacotes': 650, 'n_individuos': 15, 'n_caminhoes': 156, 'min_variacao': 0.005, 'strikes': 3}\n"
     ]
    },
    {
     "name": "stderr",
     "output_type": "stream",
     "text": [
      "\n",
      "100%|██████████| 15/15 [00:00<00:00, 1250.36it/s]"
     ]
    },
    {
     "name": "stdout",
     "output_type": "stream",
     "text": [
      "{'max_geracoes': 500, 'capacidade': 5, 'vertices': 40, 'npacotes': 650, 'n_individuos': 15, 'n_caminhoes': 156, 'min_variacao': 0.005, 'strikes': 6}\n"
     ]
    },
    {
     "name": "stderr",
     "output_type": "stream",
     "text": [
      "\n",
      "100%|██████████| 15/15 [00:00<00:00, 1203.51it/s]"
     ]
    },
    {
     "name": "stdout",
     "output_type": "stream",
     "text": [
      "{'max_geracoes': 500, 'capacidade': 5, 'vertices': 40, 'npacotes': 650, 'n_individuos': 15, 'n_caminhoes': 156, 'min_variacao': 0.005, 'strikes': 9}\n"
     ]
    },
    {
     "name": "stderr",
     "output_type": "stream",
     "text": [
      "\n",
      "100%|██████████| 15/15 [00:00<00:00, 1250.49it/s]"
     ]
    },
    {
     "name": "stdout",
     "output_type": "stream",
     "text": [
      "{'max_geracoes': 500, 'capacidade': 5, 'vertices': 40, 'npacotes': 650, 'n_individuos': 15, 'n_caminhoes': 156, 'min_variacao': 0.005, 'strikes': 12}\n"
     ]
    },
    {
     "name": "stderr",
     "output_type": "stream",
     "text": [
      "\n",
      "100%|██████████| 15/15 [00:00<00:00, 1252.98it/s]"
     ]
    },
    {
     "name": "stdout",
     "output_type": "stream",
     "text": [
      "{'max_geracoes': 500, 'capacidade': 5, 'vertices': 40, 'npacotes': 650, 'n_individuos': 15, 'n_caminhoes': 156, 'min_variacao': 0.005, 'strikes': 3}\n"
     ]
    },
    {
     "name": "stderr",
     "output_type": "stream",
     "text": [
      "\n",
      "100%|██████████| 15/15 [00:00<00:00, 1156.99it/s]"
     ]
    },
    {
     "name": "stdout",
     "output_type": "stream",
     "text": [
      "{'max_geracoes': 500, 'capacidade': 5, 'vertices': 40, 'npacotes': 650, 'n_individuos': 15, 'n_caminhoes': 156, 'min_variacao': 0.005, 'strikes': 6}\n"
     ]
    },
    {
     "name": "stderr",
     "output_type": "stream",
     "text": [
      "\n",
      "100%|██████████| 15/15 [00:00<00:00, 1153.85it/s]"
     ]
    },
    {
     "name": "stdout",
     "output_type": "stream",
     "text": [
      "{'max_geracoes': 500, 'capacidade': 5, 'vertices': 40, 'npacotes': 650, 'n_individuos': 15, 'n_caminhoes': 156, 'min_variacao': 0.005, 'strikes': 9}\n"
     ]
    },
    {
     "name": "stderr",
     "output_type": "stream",
     "text": [
      "\n",
      "100%|██████████| 15/15 [00:00<00:00, 1253.63it/s]"
     ]
    },
    {
     "name": "stdout",
     "output_type": "stream",
     "text": [
      "{'max_geracoes': 500, 'capacidade': 5, 'vertices': 40, 'npacotes': 650, 'n_individuos': 15, 'n_caminhoes': 156, 'min_variacao': 0.005, 'strikes': 12}\n"
     ]
    },
    {
     "name": "stderr",
     "output_type": "stream",
     "text": [
      "\n",
      "100%|██████████| 15/15 [00:00<00:00, 1156.73it/s]"
     ]
    },
    {
     "name": "stdout",
     "output_type": "stream",
     "text": [
      "{'max_geracoes': 500, 'capacidade': 5, 'vertices': 40, 'npacotes': 650, 'n_individuos': 15, 'n_caminhoes': 156, 'min_variacao': 0.01, 'strikes': 3}\n"
     ]
    },
    {
     "name": "stderr",
     "output_type": "stream",
     "text": [
      "\n",
      "100%|██████████| 15/15 [00:00<00:00, 1307.15it/s]"
     ]
    },
    {
     "name": "stdout",
     "output_type": "stream",
     "text": [
      "{'max_geracoes': 500, 'capacidade': 5, 'vertices': 40, 'npacotes': 650, 'n_individuos': 15, 'n_caminhoes': 156, 'min_variacao': 0.01, 'strikes': 6}\n"
     ]
    },
    {
     "name": "stderr",
     "output_type": "stream",
     "text": [
      "\n",
      "100%|██████████| 15/15 [00:00<00:00, 54.68it/s]\n",
      "100%|██████████| 15/15 [00:00<00:00, 1157.30it/s]"
     ]
    },
    {
     "name": "stdout",
     "output_type": "stream",
     "text": [
      "{'max_geracoes': 500, 'capacidade': 5, 'vertices': 40, 'npacotes': 650, 'n_individuos': 15, 'n_caminhoes': 156, 'min_variacao': 0.01, 'strikes': 12}\n"
     ]
    },
    {
     "name": "stderr",
     "output_type": "stream",
     "text": [
      "\n",
      "100%|██████████| 15/15 [00:00<00:00, 1155.77it/s]"
     ]
    },
    {
     "name": "stdout",
     "output_type": "stream",
     "text": [
      "{'max_geracoes': 500, 'capacidade': 5, 'vertices': 40, 'npacotes': 650, 'n_individuos': 15, 'n_caminhoes': 156, 'min_variacao': 0.01, 'strikes': 3}\n"
     ]
    },
    {
     "name": "stderr",
     "output_type": "stream",
     "text": [
      "\n",
      "100%|██████████| 15/15 [00:00<00:00, 791.58it/s]"
     ]
    },
    {
     "name": "stdout",
     "output_type": "stream",
     "text": [
      "{'max_geracoes': 500, 'capacidade': 5, 'vertices': 40, 'npacotes': 650, 'n_individuos': 15, 'n_caminhoes': 156, 'min_variacao': 0.01, 'strikes': 6}\n"
     ]
    },
    {
     "name": "stderr",
     "output_type": "stream",
     "text": [
      "\n",
      "100%|██████████| 15/15 [00:00<00:00, 1367.17it/s]"
     ]
    },
    {
     "name": "stdout",
     "output_type": "stream",
     "text": [
      "{'max_geracoes': 500, 'capacidade': 5, 'vertices': 40, 'npacotes': 650, 'n_individuos': 15, 'n_caminhoes': 156, 'min_variacao': 0.01, 'strikes': 9}\n"
     ]
    },
    {
     "name": "stderr",
     "output_type": "stream",
     "text": [
      "\n",
      "100%|██████████| 15/15 [00:00<00:00, 1156.92it/s]"
     ]
    },
    {
     "name": "stdout",
     "output_type": "stream",
     "text": [
      "{'max_geracoes': 500, 'capacidade': 5, 'vertices': 40, 'npacotes': 650, 'n_individuos': 15, 'n_caminhoes': 156, 'min_variacao': 0.01, 'strikes': 12}\n"
     ]
    },
    {
     "name": "stderr",
     "output_type": "stream",
     "text": [
      "\n",
      "100%|██████████| 15/15 [00:00<00:00, 1154.18it/s]"
     ]
    },
    {
     "name": "stdout",
     "output_type": "stream",
     "text": [
      "{'max_geracoes': 500, 'capacidade': 5, 'vertices': 40, 'npacotes': 650, 'n_individuos': 15, 'n_caminhoes': 156, 'min_variacao': 0.01, 'strikes': 3}\n"
     ]
    },
    {
     "name": "stderr",
     "output_type": "stream",
     "text": [
      "\n",
      "100%|██████████| 15/15 [00:00<00:00, 1141.64it/s]"
     ]
    },
    {
     "name": "stdout",
     "output_type": "stream",
     "text": [
      "{'max_geracoes': 500, 'capacidade': 5, 'vertices': 40, 'npacotes': 650, 'n_individuos': 15, 'n_caminhoes': 156, 'min_variacao': 0.01, 'strikes': 6}\n"
     ]
    },
    {
     "name": "stderr",
     "output_type": "stream",
     "text": [
      "\n",
      "100%|██████████| 15/15 [00:00<00:00, 1036.42it/s]"
     ]
    },
    {
     "name": "stdout",
     "output_type": "stream",
     "text": [
      "{'max_geracoes': 500, 'capacidade': 5, 'vertices': 40, 'npacotes': 650, 'n_individuos': 15, 'n_caminhoes': 156, 'min_variacao': 0.01, 'strikes': 9}\n"
     ]
    },
    {
     "name": "stderr",
     "output_type": "stream",
     "text": [
      "\n",
      "100%|██████████| 15/15 [00:00<00:00, 1249.52it/s]"
     ]
    },
    {
     "name": "stdout",
     "output_type": "stream",
     "text": [
      "{'max_geracoes': 500, 'capacidade': 5, 'vertices': 40, 'npacotes': 650, 'n_individuos': 15, 'n_caminhoes': 156, 'min_variacao': 0.01, 'strikes': 12}\n"
     ]
    },
    {
     "name": "stderr",
     "output_type": "stream",
     "text": [
      "\n",
      "100%|██████████| 15/15 [00:00<00:00, 1250.34it/s]\n",
      "100%|██████████| 15/15 [00:00<00:00, 1249.59it/s]\n",
      "100%|██████████| 15/15 [00:00<00:00, 1249.47it/s]\n",
      "100%|██████████| 15/15 [00:00<00:00, 1002.62it/s]\n",
      "100%|██████████| 15/15 [00:00<00:00, 1156.16it/s]\n",
      "100%|██████████| 15/15 [00:00<00:00, 1159.67it/s]\n",
      "100%|██████████| 15/15 [00:00<00:00, 1156.82it/s]\n",
      "100%|██████████| 15/15 [00:00<00:00, 1234.37it/s]\n",
      "100%|██████████| 15/15 [00:00<00:00, 835.53it/s]\n",
      "100%|██████████| 15/15 [00:00<00:00, 1250.26it/s]\n",
      "100%|██████████| 15/15 [00:00<00:00, 911.00it/s]\n",
      "100%|██████████| 5/5 [00:00<00:00, 1002.61it/s]\n",
      "100%|██████████| 5/5 [00:00<00:00, 1253.00it/s]"
     ]
    },
    {
     "name": "stdout",
     "output_type": "stream",
     "text": [
      "{'max_geracoes': 500, 'capacidade': 5, 'vertices': 40, 'npacotes': 800, 'n_individuos': 5, 'n_caminhoes': 192, 'min_variacao': 0.001, 'strikes': 3}\n"
     ]
    },
    {
     "name": "stderr",
     "output_type": "stream",
     "text": [
      "\n",
      "100%|██████████| 5/5 [00:00<00:00, 1002.80it/s]\n",
      "100%|██████████| 5/5 [00:00<00:00, 670.23it/s]"
     ]
    },
    {
     "name": "stdout",
     "output_type": "stream",
     "text": [
      "{'max_geracoes': 500, 'capacidade': 5, 'vertices': 40, 'npacotes': 800, 'n_individuos': 5, 'n_caminhoes': 192, 'min_variacao': 0.001, 'strikes': 9}\n"
     ]
    },
    {
     "name": "stderr",
     "output_type": "stream",
     "text": [
      "\n",
      "100%|██████████| 5/5 [00:00<00:00, 995.14it/s]"
     ]
    },
    {
     "name": "stdout",
     "output_type": "stream",
     "text": [
      "{'max_geracoes': 500, 'capacidade': 5, 'vertices': 40, 'npacotes': 800, 'n_individuos': 5, 'n_caminhoes': 192, 'min_variacao': 0.001, 'strikes': 12}\n"
     ]
    },
    {
     "name": "stderr",
     "output_type": "stream",
     "text": [
      "\n",
      "100%|██████████| 5/5 [00:00<00:00, 995.14it/s]"
     ]
    },
    {
     "name": "stdout",
     "output_type": "stream",
     "text": [
      "{'max_geracoes': 500, 'capacidade': 5, 'vertices': 40, 'npacotes': 800, 'n_individuos': 5, 'n_caminhoes': 192, 'min_variacao': 0.001, 'strikes': 3}\n"
     ]
    },
    {
     "name": "stderr",
     "output_type": "stream",
     "text": [
      "\n",
      "100%|██████████| 5/5 [00:00<00:00, 1008.25it/s]"
     ]
    },
    {
     "name": "stdout",
     "output_type": "stream",
     "text": [
      "{'max_geracoes': 500, 'capacidade': 5, 'vertices': 40, 'npacotes': 800, 'n_individuos': 5, 'n_caminhoes': 192, 'min_variacao': 0.001, 'strikes': 6}\n"
     ]
    },
    {
     "name": "stderr",
     "output_type": "stream",
     "text": [
      "\n",
      "100%|██████████| 5/5 [00:00<00:00, 996.79it/s]"
     ]
    },
    {
     "name": "stdout",
     "output_type": "stream",
     "text": [
      "{'max_geracoes': 500, 'capacidade': 5, 'vertices': 40, 'npacotes': 800, 'n_individuos': 5, 'n_caminhoes': 192, 'min_variacao': 0.001, 'strikes': 9}\n"
     ]
    },
    {
     "name": "stderr",
     "output_type": "stream",
     "text": [
      "\n",
      "100%|██████████| 5/5 [00:00<00:00, 1002.75it/s]"
     ]
    },
    {
     "name": "stdout",
     "output_type": "stream",
     "text": [
      "{'max_geracoes': 500, 'capacidade': 5, 'vertices': 40, 'npacotes': 800, 'n_individuos': 5, 'n_caminhoes': 192, 'min_variacao': 0.001, 'strikes': 12}\n"
     ]
    },
    {
     "name": "stderr",
     "output_type": "stream",
     "text": [
      "\n",
      "100%|██████████| 5/5 [00:00<00:00, 996.84it/s]"
     ]
    },
    {
     "name": "stdout",
     "output_type": "stream",
     "text": [
      "{'max_geracoes': 500, 'capacidade': 5, 'vertices': 40, 'npacotes': 800, 'n_individuos': 5, 'n_caminhoes': 192, 'min_variacao': 0.001, 'strikes': 3}\n"
     ]
    },
    {
     "name": "stderr",
     "output_type": "stream",
     "text": [
      "\n",
      "100%|██████████| 5/5 [00:00<00:00, 1007.18it/s]"
     ]
    },
    {
     "name": "stdout",
     "output_type": "stream",
     "text": [
      "{'max_geracoes': 500, 'capacidade': 5, 'vertices': 40, 'npacotes': 800, 'n_individuos': 5, 'n_caminhoes': 192, 'min_variacao': 0.001, 'strikes': 6}\n"
     ]
    },
    {
     "name": "stderr",
     "output_type": "stream",
     "text": [
      "\n",
      "100%|██████████| 5/5 [00:00<00:00, 997.03it/s]\n",
      "100%|██████████| 5/5 [00:00<00:00, 997.84it/s]"
     ]
    },
    {
     "name": "stdout",
     "output_type": "stream",
     "text": [
      "{'max_geracoes': 500, 'capacidade': 5, 'vertices': 40, 'npacotes': 800, 'n_individuos': 5, 'n_caminhoes': 192, 'min_variacao': 0.001, 'strikes': 12}\n"
     ]
    },
    {
     "name": "stderr",
     "output_type": "stream",
     "text": [
      "\n",
      "100%|██████████| 5/5 [00:00<00:00, 995.85it/s]\n",
      "100%|██████████| 5/5 [00:00<00:00, 710.20it/s]\n",
      "100%|██████████| 5/5 [00:00<00:00, 716.19it/s]"
     ]
    },
    {
     "name": "stdout",
     "output_type": "stream",
     "text": [
      "{'max_geracoes': 500, 'capacidade': 5, 'vertices': 40, 'npacotes': 800, 'n_individuos': 5, 'n_caminhoes': 192, 'min_variacao': 0.005, 'strikes': 9}\n"
     ]
    },
    {
     "name": "stderr",
     "output_type": "stream",
     "text": [
      "\n",
      "100%|██████████| 5/5 [00:00<00:00, 939.75it/s]"
     ]
    },
    {
     "name": "stdout",
     "output_type": "stream",
     "text": [
      "{'max_geracoes': 500, 'capacidade': 5, 'vertices': 40, 'npacotes': 800, 'n_individuos': 5, 'n_caminhoes': 192, 'min_variacao': 0.005, 'strikes': 12}\n"
     ]
    },
    {
     "name": "stderr",
     "output_type": "stream",
     "text": [
      "\n",
      "100%|██████████| 5/5 [00:00<00:00, 995.61it/s]\n",
      "100%|██████████| 5/5 [00:00<00:00, 1004.00it/s]\n",
      "100%|██████████| 5/5 [00:00<00:00, 1002.89it/s]\n",
      "100%|██████████| 5/5 [00:00<00:00, 835.59it/s]\n",
      "100%|██████████| 5/5 [00:00<00:00, 1002.85it/s]\n",
      "100%|██████████| 5/5 [00:00<00:00, 1001.07it/s]"
     ]
    },
    {
     "name": "stdout",
     "output_type": "stream",
     "text": [
      "{'max_geracoes': 500, 'capacidade': 5, 'vertices': 40, 'npacotes': 800, 'n_individuos': 5, 'n_caminhoes': 192, 'min_variacao': 0.005, 'strikes': 6}\n"
     ]
    },
    {
     "name": "stderr",
     "output_type": "stream",
     "text": [
      "\n",
      "100%|██████████| 5/5 [00:00<00:00, 838.66it/s]"
     ]
    },
    {
     "name": "stdout",
     "output_type": "stream",
     "text": [
      "{'max_geracoes': 500, 'capacidade': 5, 'vertices': 40, 'npacotes': 800, 'n_individuos': 5, 'n_caminhoes': 192, 'min_variacao': 0.005, 'strikes': 9}\n"
     ]
    },
    {
     "name": "stderr",
     "output_type": "stream",
     "text": [
      "\n",
      "100%|██████████| 5/5 [00:00<00:00, 835.59it/s]"
     ]
    },
    {
     "name": "stdout",
     "output_type": "stream",
     "text": [
      "{'max_geracoes': 500, 'capacidade': 5, 'vertices': 40, 'npacotes': 800, 'n_individuos': 5, 'n_caminhoes': 192, 'min_variacao': 0.005, 'strikes': 12}\n"
     ]
    },
    {
     "name": "stderr",
     "output_type": "stream",
     "text": [
      "\n",
      "100%|██████████| 5/5 [00:00<00:00, 996.89it/s]\n",
      "100%|██████████| 5/5 [00:00<00:00, 1244.23it/s]\n",
      "100%|██████████| 5/5 [00:00<00:00, 835.65it/s]\n",
      "100%|██████████| 5/5 [00:00<00:00, 997.08it/s]\n",
      "100%|██████████| 5/5 [00:00<00:00, 1002.65it/s]\n",
      "100%|██████████| 5/5 [00:00<00:00, 1002.51it/s]"
     ]
    },
    {
     "name": "stdout",
     "output_type": "stream",
     "text": [
      "{'max_geracoes': 500, 'capacidade': 5, 'vertices': 40, 'npacotes': 800, 'n_individuos': 5, 'n_caminhoes': 192, 'min_variacao': 0.01, 'strikes': 6}\n"
     ]
    },
    {
     "name": "stderr",
     "output_type": "stream",
     "text": [
      "\n",
      "100%|██████████| 5/5 [00:00<00:00, 835.65it/s]"
     ]
    },
    {
     "name": "stdout",
     "output_type": "stream",
     "text": [
      "{'max_geracoes': 500, 'capacidade': 5, 'vertices': 40, 'npacotes': 800, 'n_individuos': 5, 'n_caminhoes': 192, 'min_variacao': 0.01, 'strikes': 9}\n"
     ]
    },
    {
     "name": "stderr",
     "output_type": "stream",
     "text": [
      "\n",
      "100%|██████████| 5/5 [00:00<00:00, 1090.22it/s]"
     ]
    },
    {
     "name": "stdout",
     "output_type": "stream",
     "text": [
      "{'max_geracoes': 500, 'capacidade': 5, 'vertices': 40, 'npacotes': 800, 'n_individuos': 5, 'n_caminhoes': 192, 'min_variacao': 0.01, 'strikes': 12}\n"
     ]
    },
    {
     "name": "stderr",
     "output_type": "stream",
     "text": [
      "\n",
      "100%|██████████| 5/5 [00:00<00:00, 996.75it/s]\n",
      "100%|██████████| 5/5 [00:00<00:00, 1247.34it/s]\n",
      "100%|██████████| 5/5 [00:00<00:00, 1005.64it/s]"
     ]
    },
    {
     "name": "stdout",
     "output_type": "stream",
     "text": [
      "{'max_geracoes': 500, 'capacidade': 5, 'vertices': 40, 'npacotes': 800, 'n_individuos': 5, 'n_caminhoes': 192, 'min_variacao': 0.01, 'strikes': 9}\n"
     ]
    },
    {
     "name": "stderr",
     "output_type": "stream",
     "text": [
      "\n",
      "100%|██████████| 5/5 [00:00<00:00, 834.12it/s]\n",
      "100%|██████████| 5/5 [00:00<00:00, 995.37it/s]\n",
      "100%|██████████| 5/5 [00:00<00:00, 900.41it/s]\n",
      "100%|██████████| 5/5 [00:00<00:00, 835.59it/s]\n",
      "100%|██████████| 5/5 [00:00<00:00, 923.77it/s]\n",
      "100%|██████████| 5/5 [00:00<00:00, 834.42it/s]\n",
      "100%|██████████| 5/5 [00:00<00:00, 1002.61it/s]\n",
      "100%|██████████| 5/5 [00:00<00:00, 998.74it/s]\n",
      "100%|██████████| 5/5 [00:00<00:00, 842.94it/s]\n",
      "100%|██████████| 5/5 [00:00<00:00, 1002.46it/s]\n",
      "100%|██████████| 5/5 [00:00<00:00, 1002.80it/s]\n",
      "100%|██████████| 5/5 [00:00<00:00, 1231.95it/s]\n",
      "100%|██████████| 10/10 [00:00<00:00, 1011.82it/s]\n",
      "100%|██████████| 10/10 [00:00<00:00, 999.83it/s]"
     ]
    },
    {
     "name": "stdout",
     "output_type": "stream",
     "text": [
      "{'max_geracoes': 500, 'capacidade': 5, 'vertices': 40, 'npacotes': 800, 'n_individuos': 10, 'n_caminhoes': 192, 'min_variacao': 0.001, 'strikes': 3}\n"
     ]
    },
    {
     "name": "stderr",
     "output_type": "stream",
     "text": [
      "\n",
      "100%|██████████| 10/10 [00:00<00:00, 1002.20it/s]"
     ]
    },
    {
     "name": "stdout",
     "output_type": "stream",
     "text": [
      "{'max_geracoes': 500, 'capacidade': 5, 'vertices': 40, 'npacotes': 800, 'n_individuos': 10, 'n_caminhoes': 192, 'min_variacao': 0.001, 'strikes': 6}\n"
     ]
    },
    {
     "name": "stderr",
     "output_type": "stream",
     "text": [
      "\n",
      "100%|██████████| 10/10 [00:00<00:00, 999.05it/s]"
     ]
    },
    {
     "name": "stdout",
     "output_type": "stream",
     "text": [
      "{'max_geracoes': 500, 'capacidade': 5, 'vertices': 40, 'npacotes': 800, 'n_individuos': 10, 'n_caminhoes': 192, 'min_variacao': 0.001, 'strikes': 9}\n"
     ]
    },
    {
     "name": "stderr",
     "output_type": "stream",
     "text": [
      "\n",
      "100%|██████████| 10/10 [00:00<00:00, 911.09it/s]"
     ]
    },
    {
     "name": "stdout",
     "output_type": "stream",
     "text": [
      "{'max_geracoes': 500, 'capacidade': 5, 'vertices': 40, 'npacotes': 800, 'n_individuos': 10, 'n_caminhoes': 192, 'min_variacao': 0.001, 'strikes': 12}\n"
     ]
    },
    {
     "name": "stderr",
     "output_type": "stream",
     "text": [
      "\n",
      "100%|██████████| 10/10 [00:00<00:00, 999.81it/s]"
     ]
    },
    {
     "name": "stdout",
     "output_type": "stream",
     "text": [
      "{'max_geracoes': 500, 'capacidade': 5, 'vertices': 40, 'npacotes': 800, 'n_individuos': 10, 'n_caminhoes': 192, 'min_variacao': 0.001, 'strikes': 3}\n"
     ]
    },
    {
     "name": "stderr",
     "output_type": "stream",
     "text": [
      "\n",
      "100%|██████████| 10/10 [00:00<00:00, 1002.58it/s]"
     ]
    },
    {
     "name": "stdout",
     "output_type": "stream",
     "text": [
      "{'max_geracoes': 500, 'capacidade': 5, 'vertices': 40, 'npacotes': 800, 'n_individuos': 10, 'n_caminhoes': 192, 'min_variacao': 0.001, 'strikes': 6}\n"
     ]
    },
    {
     "name": "stderr",
     "output_type": "stream",
     "text": [
      "\n",
      "100%|██████████| 10/10 [00:00<00:00, 911.45it/s]"
     ]
    },
    {
     "name": "stdout",
     "output_type": "stream",
     "text": [
      "{'max_geracoes': 500, 'capacidade': 5, 'vertices': 40, 'npacotes': 800, 'n_individuos': 10, 'n_caminhoes': 192, 'min_variacao': 0.001, 'strikes': 9}\n"
     ]
    },
    {
     "name": "stderr",
     "output_type": "stream",
     "text": [
      "\n",
      "100%|██████████| 10/10 [00:00<00:00, 1110.54it/s]"
     ]
    },
    {
     "name": "stdout",
     "output_type": "stream",
     "text": [
      "{'max_geracoes': 500, 'capacidade': 5, 'vertices': 40, 'npacotes': 800, 'n_individuos': 10, 'n_caminhoes': 192, 'min_variacao': 0.001, 'strikes': 12}\n"
     ]
    },
    {
     "name": "stderr",
     "output_type": "stream",
     "text": [
      "\n",
      "100%|██████████| 10/10 [00:00<00:00, 1113.82it/s]"
     ]
    },
    {
     "name": "stdout",
     "output_type": "stream",
     "text": [
      "{'max_geracoes': 500, 'capacidade': 5, 'vertices': 40, 'npacotes': 800, 'n_individuos': 10, 'n_caminhoes': 192, 'min_variacao': 0.001, 'strikes': 3}\n"
     ]
    },
    {
     "name": "stderr",
     "output_type": "stream",
     "text": [
      "\n",
      "100%|██████████| 10/10 [00:00<00:00, 911.43it/s]\n",
      "100%|██████████| 10/10 [00:00<00:00, 911.27it/s]"
     ]
    },
    {
     "name": "stdout",
     "output_type": "stream",
     "text": [
      "{'max_geracoes': 500, 'capacidade': 5, 'vertices': 40, 'npacotes': 800, 'n_individuos': 10, 'n_caminhoes': 192, 'min_variacao': 0.001, 'strikes': 9}\n"
     ]
    },
    {
     "name": "stderr",
     "output_type": "stream",
     "text": [
      "\n",
      "100%|██████████| 10/10 [00:00<00:00, 1002.68it/s]"
     ]
    },
    {
     "name": "stdout",
     "output_type": "stream",
     "text": [
      "{'max_geracoes': 500, 'capacidade': 5, 'vertices': 40, 'npacotes': 800, 'n_individuos': 10, 'n_caminhoes': 192, 'min_variacao': 0.001, 'strikes': 12}\n"
     ]
    },
    {
     "name": "stderr",
     "output_type": "stream",
     "text": [
      "\n",
      "100%|██████████| 10/10 [00:00<00:00, 1000.33it/s]"
     ]
    },
    {
     "name": "stdout",
     "output_type": "stream",
     "text": [
      "{'max_geracoes': 500, 'capacidade': 5, 'vertices': 40, 'npacotes': 800, 'n_individuos': 10, 'n_caminhoes': 192, 'min_variacao': 0.005, 'strikes': 3}\n"
     ]
    },
    {
     "name": "stderr",
     "output_type": "stream",
     "text": [
      "\n",
      "100%|██████████| 10/10 [00:00<00:00, 999.79it/s]"
     ]
    },
    {
     "name": "stdout",
     "output_type": "stream",
     "text": [
      "{'max_geracoes': 500, 'capacidade': 5, 'vertices': 40, 'npacotes': 800, 'n_individuos': 10, 'n_caminhoes': 192, 'min_variacao': 0.005, 'strikes': 6}\n"
     ]
    },
    {
     "name": "stderr",
     "output_type": "stream",
     "text": [
      "\n",
      "100%|██████████| 10/10 [00:00<00:00, 998.07it/s]"
     ]
    },
    {
     "name": "stdout",
     "output_type": "stream",
     "text": [
      "{'max_geracoes': 500, 'capacidade': 5, 'vertices': 40, 'npacotes': 800, 'n_individuos': 10, 'n_caminhoes': 192, 'min_variacao': 0.005, 'strikes': 9}\n"
     ]
    },
    {
     "name": "stderr",
     "output_type": "stream",
     "text": [
      "\n",
      "100%|██████████| 10/10 [00:00<00:00, 1002.80it/s]"
     ]
    },
    {
     "name": "stdout",
     "output_type": "stream",
     "text": [
      "{'max_geracoes': 500, 'capacidade': 5, 'vertices': 40, 'npacotes': 800, 'n_individuos': 10, 'n_caminhoes': 192, 'min_variacao': 0.005, 'strikes': 12}\n"
     ]
    },
    {
     "name": "stderr",
     "output_type": "stream",
     "text": [
      "\n",
      "100%|██████████| 10/10 [00:00<00:00, 1042.09it/s]"
     ]
    },
    {
     "name": "stdout",
     "output_type": "stream",
     "text": [
      "{'max_geracoes': 500, 'capacidade': 5, 'vertices': 40, 'npacotes': 800, 'n_individuos': 10, 'n_caminhoes': 192, 'min_variacao': 0.005, 'strikes': 3}\n"
     ]
    },
    {
     "name": "stderr",
     "output_type": "stream",
     "text": [
      "\n",
      "100%|██████████| 10/10 [00:00<00:00, 1002.70it/s]"
     ]
    },
    {
     "name": "stdout",
     "output_type": "stream",
     "text": [
      "{'max_geracoes': 500, 'capacidade': 5, 'vertices': 40, 'npacotes': 800, 'n_individuos': 10, 'n_caminhoes': 192, 'min_variacao': 0.005, 'strikes': 6}\n"
     ]
    },
    {
     "name": "stderr",
     "output_type": "stream",
     "text": [
      "\n",
      "100%|██████████| 10/10 [00:00<00:00, 999.76it/s]"
     ]
    },
    {
     "name": "stdout",
     "output_type": "stream",
     "text": [
      "{'max_geracoes': 500, 'capacidade': 5, 'vertices': 40, 'npacotes': 800, 'n_individuos': 10, 'n_caminhoes': 192, 'min_variacao': 0.005, 'strikes': 9}\n"
     ]
    },
    {
     "name": "stderr",
     "output_type": "stream",
     "text": [
      "\n",
      "100%|██████████| 10/10 [00:00<00:00, 998.93it/s]"
     ]
    },
    {
     "name": "stdout",
     "output_type": "stream",
     "text": [
      "{'max_geracoes': 500, 'capacidade': 5, 'vertices': 40, 'npacotes': 800, 'n_individuos': 10, 'n_caminhoes': 192, 'min_variacao': 0.005, 'strikes': 12}\n"
     ]
    },
    {
     "name": "stderr",
     "output_type": "stream",
     "text": [
      "\n",
      "100%|██████████| 10/10 [00:00<00:00, 916.31it/s]"
     ]
    },
    {
     "name": "stdout",
     "output_type": "stream",
     "text": [
      "{'max_geracoes': 500, 'capacidade': 5, 'vertices': 40, 'npacotes': 800, 'n_individuos': 10, 'n_caminhoes': 192, 'min_variacao': 0.005, 'strikes': 3}\n"
     ]
    },
    {
     "name": "stderr",
     "output_type": "stream",
     "text": [
      "\n",
      "100%|██████████| 10/10 [00:00<00:00, 911.33it/s]"
     ]
    },
    {
     "name": "stdout",
     "output_type": "stream",
     "text": [
      "{'max_geracoes': 500, 'capacidade': 5, 'vertices': 40, 'npacotes': 800, 'n_individuos': 10, 'n_caminhoes': 192, 'min_variacao': 0.005, 'strikes': 6}\n"
     ]
    },
    {
     "name": "stderr",
     "output_type": "stream",
     "text": [
      "\n",
      "100%|██████████| 10/10 [00:00<00:00, 911.21it/s]\n",
      "100%|██████████| 10/10 [00:00<00:00, 1110.75it/s]"
     ]
    },
    {
     "name": "stdout",
     "output_type": "stream",
     "text": [
      "{'max_geracoes': 500, 'capacidade': 5, 'vertices': 40, 'npacotes': 800, 'n_individuos': 10, 'n_caminhoes': 192, 'min_variacao': 0.005, 'strikes': 12}\n"
     ]
    },
    {
     "name": "stderr",
     "output_type": "stream",
     "text": [
      "\n",
      "100%|██████████| 10/10 [00:00<00:00, 832.86it/s]\n",
      "100%|██████████| 10/10 [00:00<00:00, 999.07it/s]"
     ]
    },
    {
     "name": "stdout",
     "output_type": "stream",
     "text": [
      "{'max_geracoes': 500, 'capacidade': 5, 'vertices': 40, 'npacotes': 800, 'n_individuos': 10, 'n_caminhoes': 192, 'min_variacao': 0.01, 'strikes': 6}\n"
     ]
    },
    {
     "name": "stderr",
     "output_type": "stream",
     "text": [
      "\n",
      "100%|██████████| 10/10 [00:00<00:00, 1109.16it/s]\n",
      "100%|██████████| 10/10 [00:00<00:00, 908.02it/s]\n",
      "100%|██████████| 10/10 [00:00<00:00, 1003.78it/s]\n",
      "100%|██████████| 10/10 [00:00<00:00, 911.41it/s]\n",
      "100%|██████████| 10/10 [00:00<00:00, 1110.28it/s]\n",
      "100%|██████████| 10/10 [00:00<00:00, 908.41it/s]"
     ]
    },
    {
     "name": "stdout",
     "output_type": "stream",
     "text": [
      "{'max_geracoes': 500, 'capacidade': 5, 'vertices': 40, 'npacotes': 800, 'n_individuos': 10, 'n_caminhoes': 192, 'min_variacao': 0.01, 'strikes': 12}\n"
     ]
    },
    {
     "name": "stderr",
     "output_type": "stream",
     "text": [
      "\n",
      "100%|██████████| 10/10 [00:00<00:00, 999.62it/s]\n",
      "100%|██████████| 10/10 [00:00<00:00, 911.61it/s]"
     ]
    },
    {
     "name": "stdout",
     "output_type": "stream",
     "text": [
      "{'max_geracoes': 500, 'capacidade': 5, 'vertices': 40, 'npacotes': 800, 'n_individuos': 10, 'n_caminhoes': 192, 'min_variacao': 0.01, 'strikes': 6}\n"
     ]
    },
    {
     "name": "stderr",
     "output_type": "stream",
     "text": [
      "\n",
      "100%|██████████| 10/10 [00:00<00:00, 999.26it/s]"
     ]
    },
    {
     "name": "stdout",
     "output_type": "stream",
     "text": [
      "{'max_geracoes': 500, 'capacidade': 5, 'vertices': 40, 'npacotes': 800, 'n_individuos': 10, 'n_caminhoes': 192, 'min_variacao': 0.01, 'strikes': 9}\n"
     ]
    },
    {
     "name": "stderr",
     "output_type": "stream",
     "text": [
      "\n",
      "100%|██████████| 10/10 [00:00<00:00, 911.47it/s]"
     ]
    },
    {
     "name": "stdout",
     "output_type": "stream",
     "text": [
      "{'max_geracoes': 500, 'capacidade': 5, 'vertices': 40, 'npacotes': 800, 'n_individuos': 10, 'n_caminhoes': 192, 'min_variacao': 0.01, 'strikes': 12}\n"
     ]
    },
    {
     "name": "stderr",
     "output_type": "stream",
     "text": [
      "\n",
      "100%|██████████| 10/10 [00:00<00:00, 1004.12it/s]\n",
      "100%|██████████| 10/10 [00:00<00:00, 835.57it/s]\n",
      "100%|██████████| 10/10 [00:00<00:00, 1039.35it/s]\n",
      "100%|██████████| 10/10 [00:00<00:00, 36.01it/s]\n",
      "100%|██████████| 10/10 [00:00<00:00, 909.08it/s]\n",
      "100%|██████████| 10/10 [00:00<00:00, 1110.69it/s]\n",
      "100%|██████████| 10/10 [00:00<00:00, 1110.57it/s]\n",
      "100%|██████████| 10/10 [00:00<00:00, 999.17it/s]\n",
      "100%|██████████| 10/10 [00:00<00:00, 996.72it/s]\n",
      "100%|██████████| 10/10 [00:00<00:00, 911.51it/s]\n",
      "100%|██████████| 10/10 [00:00<00:00, 999.69it/s]\n",
      "100%|██████████| 15/15 [00:00<00:00, 940.19it/s]\n",
      "100%|██████████| 15/15 [00:00<00:00, 1002.48it/s]"
     ]
    },
    {
     "name": "stdout",
     "output_type": "stream",
     "text": [
      "{'max_geracoes': 500, 'capacidade': 5, 'vertices': 40, 'npacotes': 800, 'n_individuos': 15, 'n_caminhoes': 192, 'min_variacao': 0.001, 'strikes': 3}\n"
     ]
    },
    {
     "name": "stderr",
     "output_type": "stream",
     "text": [
      "\n",
      "100%|██████████| 15/15 [00:00<00:00, 1000.77it/s]"
     ]
    },
    {
     "name": "stdout",
     "output_type": "stream",
     "text": [
      "{'max_geracoes': 500, 'capacidade': 5, 'vertices': 40, 'npacotes': 800, 'n_individuos': 15, 'n_caminhoes': 192, 'min_variacao': 0.001, 'strikes': 6}\n"
     ]
    },
    {
     "name": "stderr",
     "output_type": "stream",
     "text": [
      "\n",
      "100%|██████████| 15/15 [00:00<00:00, 938.31it/s]"
     ]
    },
    {
     "name": "stdout",
     "output_type": "stream",
     "text": [
      "{'max_geracoes': 500, 'capacidade': 5, 'vertices': 40, 'npacotes': 800, 'n_individuos': 15, 'n_caminhoes': 192, 'min_variacao': 0.001, 'strikes': 9}\n"
     ]
    },
    {
     "name": "stderr",
     "output_type": "stream",
     "text": [
      "\n",
      "100%|██████████| 15/15 [00:00<00:00, 1002.22it/s]"
     ]
    },
    {
     "name": "stdout",
     "output_type": "stream",
     "text": [
      "{'max_geracoes': 500, 'capacidade': 5, 'vertices': 40, 'npacotes': 800, 'n_individuos': 15, 'n_caminhoes': 192, 'min_variacao': 0.001, 'strikes': 12}\n"
     ]
    },
    {
     "name": "stderr",
     "output_type": "stream",
     "text": [
      "\n",
      "100%|██████████| 15/15 [00:00<00:00, 733.21it/s]"
     ]
    },
    {
     "name": "stdout",
     "output_type": "stream",
     "text": [
      "{'max_geracoes': 500, 'capacidade': 5, 'vertices': 40, 'npacotes': 800, 'n_individuos': 15, 'n_caminhoes': 192, 'min_variacao': 0.001, 'strikes': 3}\n"
     ]
    },
    {
     "name": "stderr",
     "output_type": "stream",
     "text": [
      "\n",
      "100%|██████████| 15/15 [00:00<00:00, 941.76it/s]"
     ]
    },
    {
     "name": "stdout",
     "output_type": "stream",
     "text": [
      "{'max_geracoes': 500, 'capacidade': 5, 'vertices': 40, 'npacotes': 800, 'n_individuos': 15, 'n_caminhoes': 192, 'min_variacao': 0.001, 'strikes': 6}\n"
     ]
    },
    {
     "name": "stderr",
     "output_type": "stream",
     "text": [
      "\n",
      "100%|██████████| 15/15 [00:00<00:00, 720.85it/s]"
     ]
    },
    {
     "name": "stdout",
     "output_type": "stream",
     "text": [
      "{'max_geracoes': 500, 'capacidade': 5, 'vertices': 40, 'npacotes': 800, 'n_individuos': 15, 'n_caminhoes': 192, 'min_variacao': 0.001, 'strikes': 9}\n"
     ]
    },
    {
     "name": "stderr",
     "output_type": "stream",
     "text": [
      "\n",
      "100%|██████████| 15/15 [00:00<00:00, 1002.00it/s]"
     ]
    },
    {
     "name": "stdout",
     "output_type": "stream",
     "text": [
      "{'max_geracoes': 500, 'capacidade': 5, 'vertices': 40, 'npacotes': 800, 'n_individuos': 15, 'n_caminhoes': 192, 'min_variacao': 0.001, 'strikes': 12}\n"
     ]
    },
    {
     "name": "stderr",
     "output_type": "stream",
     "text": [
      "\n",
      "100%|██████████| 15/15 [00:00<00:00, 938.18it/s]"
     ]
    },
    {
     "name": "stdout",
     "output_type": "stream",
     "text": [
      "{'max_geracoes': 500, 'capacidade': 5, 'vertices': 40, 'npacotes': 800, 'n_individuos': 15, 'n_caminhoes': 192, 'min_variacao': 0.001, 'strikes': 3}\n"
     ]
    },
    {
     "name": "stderr",
     "output_type": "stream",
     "text": [
      "\n",
      "100%|██████████| 15/15 [00:00<00:00, 1003.09it/s]"
     ]
    },
    {
     "name": "stdout",
     "output_type": "stream",
     "text": [
      "{'max_geracoes': 500, 'capacidade': 5, 'vertices': 40, 'npacotes': 800, 'n_individuos': 15, 'n_caminhoes': 192, 'min_variacao': 0.001, 'strikes': 6}\n"
     ]
    },
    {
     "name": "stderr",
     "output_type": "stream",
     "text": [
      "\n",
      "100%|██████████| 15/15 [00:00<00:00, 1002.75it/s]"
     ]
    },
    {
     "name": "stdout",
     "output_type": "stream",
     "text": [
      "{'max_geracoes': 500, 'capacidade': 5, 'vertices': 40, 'npacotes': 800, 'n_individuos': 15, 'n_caminhoes': 192, 'min_variacao': 0.001, 'strikes': 9}\n"
     ]
    },
    {
     "name": "stderr",
     "output_type": "stream",
     "text": [
      "\n",
      "100%|██████████| 15/15 [00:00<00:00, 884.46it/s]"
     ]
    },
    {
     "name": "stdout",
     "output_type": "stream",
     "text": [
      "{'max_geracoes': 500, 'capacidade': 5, 'vertices': 40, 'npacotes': 800, 'n_individuos': 15, 'n_caminhoes': 192, 'min_variacao': 0.001, 'strikes': 12}\n"
     ]
    },
    {
     "name": "stderr",
     "output_type": "stream",
     "text": [
      "\n",
      "100%|██████████| 15/15 [00:00<00:00, 1002.61it/s]"
     ]
    },
    {
     "name": "stdout",
     "output_type": "stream",
     "text": [
      "{'max_geracoes': 500, 'capacidade': 5, 'vertices': 40, 'npacotes': 800, 'n_individuos': 15, 'n_caminhoes': 192, 'min_variacao': 0.005, 'strikes': 3}\n"
     ]
    },
    {
     "name": "stderr",
     "output_type": "stream",
     "text": [
      "\n",
      "100%|██████████| 15/15 [00:00<00:00, 1001.38it/s]"
     ]
    },
    {
     "name": "stdout",
     "output_type": "stream",
     "text": [
      "{'max_geracoes': 500, 'capacidade': 5, 'vertices': 40, 'npacotes': 800, 'n_individuos': 15, 'n_caminhoes': 192, 'min_variacao': 0.005, 'strikes': 6}\n"
     ]
    },
    {
     "name": "stderr",
     "output_type": "stream",
     "text": [
      "\n",
      "100%|██████████| 15/15 [00:00<00:00, 1001.19it/s]"
     ]
    },
    {
     "name": "stdout",
     "output_type": "stream",
     "text": [
      "{'max_geracoes': 500, 'capacidade': 5, 'vertices': 40, 'npacotes': 800, 'n_individuos': 15, 'n_caminhoes': 192, 'min_variacao': 0.005, 'strikes': 9}\n"
     ]
    },
    {
     "name": "stderr",
     "output_type": "stream",
     "text": [
      "\n",
      "100%|██████████| 15/15 [00:00<00:00, 1071.51it/s]"
     ]
    },
    {
     "name": "stdout",
     "output_type": "stream",
     "text": [
      "{'max_geracoes': 500, 'capacidade': 5, 'vertices': 40, 'npacotes': 800, 'n_individuos': 15, 'n_caminhoes': 192, 'min_variacao': 0.005, 'strikes': 12}\n"
     ]
    },
    {
     "name": "stderr",
     "output_type": "stream",
     "text": [
      "\n",
      "100%|██████████| 15/15 [00:00<00:00, 940.01it/s]"
     ]
    },
    {
     "name": "stdout",
     "output_type": "stream",
     "text": [
      "{'max_geracoes': 500, 'capacidade': 5, 'vertices': 40, 'npacotes': 800, 'n_individuos': 15, 'n_caminhoes': 192, 'min_variacao': 0.005, 'strikes': 3}\n"
     ]
    },
    {
     "name": "stderr",
     "output_type": "stream",
     "text": [
      "\n",
      "100%|██████████| 15/15 [00:00<00:00, 935.13it/s]"
     ]
    },
    {
     "name": "stdout",
     "output_type": "stream",
     "text": [
      "{'max_geracoes': 500, 'capacidade': 5, 'vertices': 40, 'npacotes': 800, 'n_individuos': 15, 'n_caminhoes': 192, 'min_variacao': 0.005, 'strikes': 6}\n"
     ]
    },
    {
     "name": "stderr",
     "output_type": "stream",
     "text": [
      "\n",
      "100%|██████████| 15/15 [00:00<00:00, 940.08it/s]"
     ]
    },
    {
     "name": "stdout",
     "output_type": "stream",
     "text": [
      "{'max_geracoes': 500, 'capacidade': 5, 'vertices': 40, 'npacotes': 800, 'n_individuos': 15, 'n_caminhoes': 192, 'min_variacao': 0.005, 'strikes': 9}\n"
     ]
    },
    {
     "name": "stderr",
     "output_type": "stream",
     "text": [
      "\n",
      "100%|██████████| 15/15 [00:00<00:00, 1002.40it/s]\n",
      "100%|██████████| 15/15 [00:00<00:00, 1004.53it/s]"
     ]
    },
    {
     "name": "stdout",
     "output_type": "stream",
     "text": [
      "{'max_geracoes': 500, 'capacidade': 5, 'vertices': 40, 'npacotes': 800, 'n_individuos': 15, 'n_caminhoes': 192, 'min_variacao': 0.005, 'strikes': 3}\n"
     ]
    },
    {
     "name": "stderr",
     "output_type": "stream",
     "text": [
      "\n",
      "100%|██████████| 15/15 [00:00<00:00, 1000.65it/s]"
     ]
    },
    {
     "name": "stdout",
     "output_type": "stream",
     "text": [
      "{'max_geracoes': 500, 'capacidade': 5, 'vertices': 40, 'npacotes': 800, 'n_individuos': 15, 'n_caminhoes': 192, 'min_variacao': 0.005, 'strikes': 6}\n"
     ]
    },
    {
     "name": "stderr",
     "output_type": "stream",
     "text": [
      "\n",
      "100%|██████████| 15/15 [00:00<00:00, 1004.27it/s]"
     ]
    },
    {
     "name": "stdout",
     "output_type": "stream",
     "text": [
      "{'max_geracoes': 500, 'capacidade': 5, 'vertices': 40, 'npacotes': 800, 'n_individuos': 15, 'n_caminhoes': 192, 'min_variacao': 0.005, 'strikes': 9}\n"
     ]
    },
    {
     "name": "stderr",
     "output_type": "stream",
     "text": [
      "\n",
      "100%|██████████| 15/15 [00:00<00:00, 939.98it/s]"
     ]
    },
    {
     "name": "stdout",
     "output_type": "stream",
     "text": [
      "{'max_geracoes': 500, 'capacidade': 5, 'vertices': 40, 'npacotes': 800, 'n_individuos': 15, 'n_caminhoes': 192, 'min_variacao': 0.005, 'strikes': 12}\n"
     ]
    },
    {
     "name": "stderr",
     "output_type": "stream",
     "text": [
      "\n",
      "100%|██████████| 15/15 [00:00<00:00, 1072.24it/s]"
     ]
    },
    {
     "name": "stdout",
     "output_type": "stream",
     "text": [
      "{'max_geracoes': 500, 'capacidade': 5, 'vertices': 40, 'npacotes': 800, 'n_individuos': 15, 'n_caminhoes': 192, 'min_variacao': 0.01, 'strikes': 3}\n"
     ]
    },
    {
     "name": "stderr",
     "output_type": "stream",
     "text": [
      "\n",
      "100%|██████████| 15/15 [00:00<00:00, 1073.83it/s]\n",
      "100%|██████████| 15/15 [00:00<00:00, 940.01it/s]"
     ]
    },
    {
     "name": "stdout",
     "output_type": "stream",
     "text": [
      "{'max_geracoes': 500, 'capacidade': 5, 'vertices': 40, 'npacotes': 800, 'n_individuos': 15, 'n_caminhoes': 192, 'min_variacao': 0.01, 'strikes': 9}\n"
     ]
    },
    {
     "name": "stderr",
     "output_type": "stream",
     "text": [
      "\n",
      "100%|██████████| 15/15 [00:00<00:00, 1001.79it/s]"
     ]
    },
    {
     "name": "stdout",
     "output_type": "stream",
     "text": [
      "{'max_geracoes': 500, 'capacidade': 5, 'vertices': 40, 'npacotes': 800, 'n_individuos': 15, 'n_caminhoes': 192, 'min_variacao': 0.01, 'strikes': 12}\n"
     ]
    },
    {
     "name": "stderr",
     "output_type": "stream",
     "text": [
      "\n",
      "100%|██████████| 15/15 [00:00<00:00, 1074.75it/s]\n",
      "100%|██████████| 15/15 [00:00<00:00, 940.44it/s]\n",
      "100%|██████████| 15/15 [00:00<00:00, 1000.76it/s]"
     ]
    },
    {
     "name": "stdout",
     "output_type": "stream",
     "text": [
      "{'max_geracoes': 500, 'capacidade': 5, 'vertices': 40, 'npacotes': 800, 'n_individuos': 15, 'n_caminhoes': 192, 'min_variacao': 0.01, 'strikes': 9}\n"
     ]
    },
    {
     "name": "stderr",
     "output_type": "stream",
     "text": [
      "\n",
      "100%|██████████| 15/15 [00:00<00:00, 1002.80it/s]\n",
      "100%|██████████| 15/15 [00:00<00:00, 1075.00it/s]\n",
      "100%|██████████| 15/15 [00:00<00:00, 1000.79it/s]"
     ]
    },
    {
     "name": "stdout",
     "output_type": "stream",
     "text": [
      "{'max_geracoes': 500, 'capacidade': 5, 'vertices': 40, 'npacotes': 800, 'n_individuos': 15, 'n_caminhoes': 192, 'min_variacao': 0.01, 'strikes': 6}\n"
     ]
    },
    {
     "name": "stderr",
     "output_type": "stream",
     "text": [
      "\n",
      "100%|██████████| 15/15 [00:00<00:00, 939.94it/s]"
     ]
    },
    {
     "name": "stdout",
     "output_type": "stream",
     "text": [
      "{'max_geracoes': 500, 'capacidade': 5, 'vertices': 40, 'npacotes': 800, 'n_individuos': 15, 'n_caminhoes': 192, 'min_variacao': 0.01, 'strikes': 9}\n"
     ]
    },
    {
     "name": "stderr",
     "output_type": "stream",
     "text": [
      "\n",
      "100%|██████████| 15/15 [00:00<00:00, 964.49it/s]"
     ]
    },
    {
     "name": "stdout",
     "output_type": "stream",
     "text": [
      "{'max_geracoes': 500, 'capacidade': 5, 'vertices': 40, 'npacotes': 800, 'n_individuos': 15, 'n_caminhoes': 192, 'min_variacao': 0.01, 'strikes': 12}\n"
     ]
    },
    {
     "name": "stderr",
     "output_type": "stream",
     "text": [
      "\n",
      "100%|██████████| 15/15 [00:00<00:00, 1002.72it/s]\n",
      "100%|██████████| 15/15 [00:00<00:00, 939.92it/s]\n",
      "100%|██████████| 15/15 [00:00<00:00, 1072.09it/s]\n",
      "100%|██████████| 15/15 [00:00<00:00, 1002.59it/s]\n",
      "100%|██████████| 15/15 [00:00<00:00, 941.67it/s]\n",
      "100%|██████████| 15/15 [00:00<00:00, 750.93it/s]\n",
      "100%|██████████| 15/15 [00:00<00:00, 940.03it/s]\n",
      "100%|██████████| 15/15 [00:00<00:00, 1001.78it/s]\n",
      "100%|██████████| 15/15 [00:00<00:00, 938.44it/s]\n",
      "100%|██████████| 15/15 [00:00<00:00, 884.75it/s]\n",
      "100%|██████████| 15/15 [00:00<00:00, 886.65it/s]\n",
      "100%|██████████| 5/5 [00:00<00:00, 497.46it/s]\n",
      "100%|██████████| 5/5 [00:00<00:00, 714.53it/s]\n",
      "100%|██████████| 5/5 [00:00<00:00, 625.49it/s]"
     ]
    },
    {
     "name": "stdout",
     "output_type": "stream",
     "text": [
      "{'max_geracoes': 500, 'capacidade': 5, 'vertices': 40, 'npacotes': 950, 'n_individuos': 5, 'n_caminhoes': 228, 'min_variacao': 0.001, 'strikes': 6}\n"
     ]
    },
    {
     "name": "stderr",
     "output_type": "stream",
     "text": [
      "\n",
      "100%|██████████| 5/5 [00:00<00:00, 835.59it/s]"
     ]
    },
    {
     "name": "stdout",
     "output_type": "stream",
     "text": [
      "{'max_geracoes': 500, 'capacidade': 5, 'vertices': 40, 'npacotes': 950, 'n_individuos': 5, 'n_caminhoes': 228, 'min_variacao': 0.001, 'strikes': 9}\n"
     ]
    },
    {
     "name": "stderr",
     "output_type": "stream",
     "text": [
      "\n",
      "100%|██████████| 5/5 [00:00<00:00, 716.36it/s]"
     ]
    },
    {
     "name": "stdout",
     "output_type": "stream",
     "text": [
      "{'max_geracoes': 500, 'capacidade': 5, 'vertices': 40, 'npacotes': 950, 'n_individuos': 5, 'n_caminhoes': 228, 'min_variacao': 0.001, 'strikes': 12}\n"
     ]
    },
    {
     "name": "stderr",
     "output_type": "stream",
     "text": [
      "\n",
      "100%|██████████| 5/5 [00:00<00:00, 835.49it/s]"
     ]
    },
    {
     "name": "stdout",
     "output_type": "stream",
     "text": [
      "{'max_geracoes': 500, 'capacidade': 5, 'vertices': 40, 'npacotes': 950, 'n_individuos': 5, 'n_caminhoes': 228, 'min_variacao': 0.001, 'strikes': 3}\n"
     ]
    },
    {
     "name": "stderr",
     "output_type": "stream",
     "text": [
      "\n",
      "100%|██████████| 5/5 [00:00<00:00, 716.14it/s]"
     ]
    },
    {
     "name": "stdout",
     "output_type": "stream",
     "text": [
      "{'max_geracoes': 500, 'capacidade': 5, 'vertices': 40, 'npacotes': 950, 'n_individuos': 5, 'n_caminhoes': 228, 'min_variacao': 0.001, 'strikes': 6}\n"
     ]
    },
    {
     "name": "stderr",
     "output_type": "stream",
     "text": [
      "\n",
      "100%|██████████| 5/5 [00:00<00:00, 716.22it/s]"
     ]
    },
    {
     "name": "stdout",
     "output_type": "stream",
     "text": [
      "{'max_geracoes': 500, 'capacidade': 5, 'vertices': 40, 'npacotes': 950, 'n_individuos': 5, 'n_caminhoes': 228, 'min_variacao': 0.001, 'strikes': 9}\n"
     ]
    },
    {
     "name": "stderr",
     "output_type": "stream",
     "text": [
      "\n",
      "100%|██████████| 5/5 [00:00<00:00, 835.55it/s]"
     ]
    },
    {
     "name": "stdout",
     "output_type": "stream",
     "text": [
      "{'max_geracoes': 500, 'capacidade': 5, 'vertices': 40, 'npacotes': 950, 'n_individuos': 5, 'n_caminhoes': 228, 'min_variacao': 0.001, 'strikes': 12}\n"
     ]
    },
    {
     "name": "stderr",
     "output_type": "stream",
     "text": [
      "\n",
      "100%|██████████| 5/5 [00:00<00:00, 835.75it/s]"
     ]
    },
    {
     "name": "stdout",
     "output_type": "stream",
     "text": [
      "{'max_geracoes': 500, 'capacidade': 5, 'vertices': 40, 'npacotes': 950, 'n_individuos': 5, 'n_caminhoes': 228, 'min_variacao': 0.001, 'strikes': 3}\n"
     ]
    },
    {
     "name": "stderr",
     "output_type": "stream",
     "text": [
      "\n",
      "100%|██████████| 5/5 [00:00<00:00, 715.14it/s]"
     ]
    },
    {
     "name": "stdout",
     "output_type": "stream",
     "text": [
      "{'max_geracoes': 500, 'capacidade': 5, 'vertices': 40, 'npacotes': 950, 'n_individuos': 5, 'n_caminhoes': 228, 'min_variacao': 0.001, 'strikes': 6}\n"
     ]
    },
    {
     "name": "stderr",
     "output_type": "stream",
     "text": [
      "\n",
      "100%|██████████| 5/5 [00:00<00:00, 835.69it/s]"
     ]
    },
    {
     "name": "stdout",
     "output_type": "stream",
     "text": [
      "{'max_geracoes': 500, 'capacidade': 5, 'vertices': 40, 'npacotes': 950, 'n_individuos': 5, 'n_caminhoes': 228, 'min_variacao': 0.001, 'strikes': 9}\n"
     ]
    },
    {
     "name": "stderr",
     "output_type": "stream",
     "text": [
      "\n",
      "100%|██████████| 5/5 [00:00<00:00, 625.25it/s]"
     ]
    },
    {
     "name": "stdout",
     "output_type": "stream",
     "text": [
      "{'max_geracoes': 500, 'capacidade': 5, 'vertices': 40, 'npacotes': 950, 'n_individuos': 5, 'n_caminhoes': 228, 'min_variacao': 0.001, 'strikes': 12}\n"
     ]
    },
    {
     "name": "stderr",
     "output_type": "stream",
     "text": [
      "\n",
      "100%|██████████| 5/5 [00:00<00:00, 835.69it/s]\n",
      "100%|██████████| 5/5 [00:00<00:00, 559.06it/s]\n",
      "100%|██████████| 5/5 [00:00<00:00, 835.72it/s]\n",
      "100%|██████████| 5/5 [00:00<00:00, 835.59it/s]"
     ]
    },
    {
     "name": "stdout",
     "output_type": "stream",
     "text": [
      "{'max_geracoes': 500, 'capacidade': 5, 'vertices': 40, 'npacotes': 950, 'n_individuos': 5, 'n_caminhoes': 228, 'min_variacao': 0.005, 'strikes': 12}\n"
     ]
    },
    {
     "name": "stderr",
     "output_type": "stream",
     "text": [
      "\n",
      "100%|██████████| 5/5 [00:00<00:00, 850.08it/s]\n",
      "100%|██████████| 5/5 [00:00<00:00, 835.75it/s]"
     ]
    },
    {
     "name": "stdout",
     "output_type": "stream",
     "text": [
      "{'max_geracoes': 500, 'capacidade': 5, 'vertices': 40, 'npacotes': 950, 'n_individuos': 5, 'n_caminhoes': 228, 'min_variacao': 0.005, 'strikes': 6}\n"
     ]
    },
    {
     "name": "stderr",
     "output_type": "stream",
     "text": [
      "\n",
      "100%|██████████| 5/5 [00:00<00:00, 713.12it/s]"
     ]
    },
    {
     "name": "stdout",
     "output_type": "stream",
     "text": [
      "{'max_geracoes': 500, 'capacidade': 5, 'vertices': 40, 'npacotes': 950, 'n_individuos': 5, 'n_caminhoes': 228, 'min_variacao': 0.005, 'strikes': 9}\n"
     ]
    },
    {
     "name": "stderr",
     "output_type": "stream",
     "text": [
      "\n",
      "100%|██████████| 5/5 [00:00<00:00, 670.87it/s]\n",
      "100%|██████████| 5/5 [00:00<00:00, 835.55it/s]\n",
      "100%|██████████| 5/5 [00:00<00:00, 716.22it/s]"
     ]
    },
    {
     "name": "stdout",
     "output_type": "stream",
     "text": [
      "{'max_geracoes': 500, 'capacidade': 5, 'vertices': 40, 'npacotes': 950, 'n_individuos': 5, 'n_caminhoes': 228, 'min_variacao': 0.005, 'strikes': 6}\n"
     ]
    },
    {
     "name": "stderr",
     "output_type": "stream",
     "text": [
      "\n",
      "100%|██████████| 5/5 [00:00<00:00, 626.69it/s]"
     ]
    },
    {
     "name": "stdout",
     "output_type": "stream",
     "text": [
      "{'max_geracoes': 500, 'capacidade': 5, 'vertices': 40, 'npacotes': 950, 'n_individuos': 5, 'n_caminhoes': 228, 'min_variacao': 0.005, 'strikes': 9}\n"
     ]
    },
    {
     "name": "stderr",
     "output_type": "stream",
     "text": [
      "\n",
      "100%|██████████| 5/5 [00:00<00:00, 832.27it/s]"
     ]
    },
    {
     "name": "stdout",
     "output_type": "stream",
     "text": [
      "{'max_geracoes': 500, 'capacidade': 5, 'vertices': 40, 'npacotes': 950, 'n_individuos': 5, 'n_caminhoes': 228, 'min_variacao': 0.005, 'strikes': 12}\n"
     ]
    },
    {
     "name": "stderr",
     "output_type": "stream",
     "text": [
      "\n",
      "100%|██████████| 5/5 [00:00<00:00, 716.22it/s]\n",
      "100%|██████████| 5/5 [00:00<00:00, 835.45it/s]\n",
      "100%|██████████| 5/5 [00:00<00:00, 716.22it/s]\n",
      "100%|██████████| 5/5 [00:00<00:00, 831.54it/s]\n",
      "100%|██████████| 5/5 [00:00<00:00, 835.69it/s]\n",
      "100%|██████████| 5/5 [00:00<00:00, 832.17it/s]\n",
      "100%|██████████| 5/5 [00:00<00:00, 501.11it/s]\n",
      "100%|██████████| 5/5 [00:00<00:00, 1002.65it/s]\n",
      "100%|██████████| 5/5 [00:00<00:00, 716.24it/s]\n",
      "100%|██████████| 5/5 [00:00<00:00, 17.00it/s]\n",
      "100%|██████████| 5/5 [00:00<00:00, 719.24it/s]\n",
      "100%|██████████| 5/5 [00:00<00:00, 831.54it/s]\n",
      "100%|██████████| 5/5 [00:00<00:00, 835.49it/s]\n",
      "100%|██████████| 5/5 [00:00<00:00, 715.82it/s]\n",
      "100%|██████████| 5/5 [00:00<00:00, 526.58it/s]\n",
      "100%|██████████| 5/5 [00:00<00:00, 716.09it/s]\n",
      "100%|██████████| 5/5 [00:00<00:00, 713.73it/s]\n",
      "100%|██████████| 5/5 [00:00<00:00, 830.59it/s]\n",
      "100%|██████████| 5/5 [00:00<00:00, 831.54it/s]\n",
      "100%|██████████| 5/5 [00:00<00:00, 626.65it/s]\n",
      "100%|██████████| 5/5 [00:00<00:00, 716.17it/s]\n",
      "100%|██████████| 5/5 [00:00<00:00, 716.14it/s]\n",
      "100%|██████████| 5/5 [00:00<00:00, 501.57it/s]\n",
      "100%|██████████| 10/10 [00:00<00:00, 835.60it/s]\n",
      "100%|██████████| 10/10 [00:00<00:00, 773.27it/s]"
     ]
    },
    {
     "name": "stdout",
     "output_type": "stream",
     "text": [
      "{'max_geracoes': 500, 'capacidade': 5, 'vertices': 40, 'npacotes': 950, 'n_individuos': 10, 'n_caminhoes': 228, 'min_variacao': 0.001, 'strikes': 3}\n"
     ]
    },
    {
     "name": "stderr",
     "output_type": "stream",
     "text": [
      "\n",
      "100%|██████████| 10/10 [00:00<00:00, 771.31it/s]"
     ]
    },
    {
     "name": "stdout",
     "output_type": "stream",
     "text": [
      "{'max_geracoes': 500, 'capacidade': 5, 'vertices': 40, 'npacotes': 950, 'n_individuos': 10, 'n_caminhoes': 228, 'min_variacao': 0.001, 'strikes': 6}\n"
     ]
    },
    {
     "name": "stderr",
     "output_type": "stream",
     "text": [
      "\n",
      "100%|██████████| 10/10 [00:00<00:00, 626.77it/s]"
     ]
    },
    {
     "name": "stdout",
     "output_type": "stream",
     "text": [
      "{'max_geracoes': 500, 'capacidade': 5, 'vertices': 40, 'npacotes': 950, 'n_individuos': 10, 'n_caminhoes': 228, 'min_variacao': 0.001, 'strikes': 9}\n"
     ]
    },
    {
     "name": "stderr",
     "output_type": "stream",
     "text": [
      "\n",
      "100%|██████████| 10/10 [00:00<00:00, 833.46it/s]"
     ]
    },
    {
     "name": "stdout",
     "output_type": "stream",
     "text": [
      "{'max_geracoes': 500, 'capacidade': 5, 'vertices': 40, 'npacotes': 950, 'n_individuos': 10, 'n_caminhoes': 228, 'min_variacao': 0.001, 'strikes': 12}\n"
     ]
    },
    {
     "name": "stderr",
     "output_type": "stream",
     "text": [
      "\n",
      "  0%|          | 0/10 [00:00<?, ?it/s]"
     ]
    },
    {
     "name": "stdout",
     "output_type": "stream",
     "text": [
      "{'max_geracoes': 500, 'capacidade': 5, 'vertices': 40, 'npacotes': 950, 'n_individuos': 10, 'n_caminhoes': 228, 'min_variacao': 0.001, 'strikes': 3}\n"
     ]
    },
    {
     "name": "stderr",
     "output_type": "stream",
     "text": [
      "100%|██████████| 10/10 [00:00<00:00, 35.86it/s]\n",
      "100%|██████████| 10/10 [00:00<00:00, 835.44it/s]"
     ]
    },
    {
     "name": "stdout",
     "output_type": "stream",
     "text": [
      "{'max_geracoes': 500, 'capacidade': 5, 'vertices': 40, 'npacotes': 950, 'n_individuos': 10, 'n_caminhoes': 228, 'min_variacao': 0.001, 'strikes': 6}\n"
     ]
    },
    {
     "name": "stderr",
     "output_type": "stream",
     "text": [
      "\n",
      "100%|██████████| 10/10 [00:00<00:00, 715.82it/s]"
     ]
    },
    {
     "name": "stdout",
     "output_type": "stream",
     "text": [
      "{'max_geracoes': 500, 'capacidade': 5, 'vertices': 40, 'npacotes': 950, 'n_individuos': 10, 'n_caminhoes': 228, 'min_variacao': 0.001, 'strikes': 9}\n"
     ]
    },
    {
     "name": "stderr",
     "output_type": "stream",
     "text": [
      "\n",
      "100%|██████████| 10/10 [00:00<00:00, 528.68it/s]"
     ]
    },
    {
     "name": "stdout",
     "output_type": "stream",
     "text": [
      "{'max_geracoes': 500, 'capacidade': 5, 'vertices': 40, 'npacotes': 950, 'n_individuos': 10, 'n_caminhoes': 228, 'min_variacao': 0.001, 'strikes': 12}\n"
     ]
    },
    {
     "name": "stderr",
     "output_type": "stream",
     "text": [
      "\n",
      "100%|██████████| 10/10 [00:00<00:00, 717.51it/s]"
     ]
    },
    {
     "name": "stdout",
     "output_type": "stream",
     "text": [
      "{'max_geracoes': 500, 'capacidade': 5, 'vertices': 40, 'npacotes': 950, 'n_individuos': 10, 'n_caminhoes': 228, 'min_variacao': 0.001, 'strikes': 3}\n"
     ]
    },
    {
     "name": "stderr",
     "output_type": "stream",
     "text": [
      "\n",
      "100%|██████████| 10/10 [00:00<00:00, 773.04it/s]"
     ]
    },
    {
     "name": "stdout",
     "output_type": "stream",
     "text": [
      "{'max_geracoes': 500, 'capacidade': 5, 'vertices': 40, 'npacotes': 950, 'n_individuos': 10, 'n_caminhoes': 228, 'min_variacao': 0.001, 'strikes': 6}\n"
     ]
    },
    {
     "name": "stderr",
     "output_type": "stream",
     "text": [
      "\n",
      "100%|██████████| 10/10 [00:00<00:00, 771.32it/s]"
     ]
    },
    {
     "name": "stdout",
     "output_type": "stream",
     "text": [
      "{'max_geracoes': 500, 'capacidade': 5, 'vertices': 40, 'npacotes': 950, 'n_individuos': 10, 'n_caminhoes': 228, 'min_variacao': 0.001, 'strikes': 9}\n"
     ]
    },
    {
     "name": "stderr",
     "output_type": "stream",
     "text": [
      "\n",
      "100%|██████████| 10/10 [00:00<00:00, 715.87it/s]"
     ]
    },
    {
     "name": "stdout",
     "output_type": "stream",
     "text": [
      "{'max_geracoes': 500, 'capacidade': 5, 'vertices': 40, 'npacotes': 950, 'n_individuos': 10, 'n_caminhoes': 228, 'min_variacao': 0.001, 'strikes': 12}\n"
     ]
    },
    {
     "name": "stderr",
     "output_type": "stream",
     "text": [
      "\n",
      "100%|██████████| 10/10 [00:00<00:00, 771.32it/s]\n",
      "100%|██████████| 10/10 [00:00<00:00, 771.15it/s]"
     ]
    },
    {
     "name": "stdout",
     "output_type": "stream",
     "text": [
      "{'max_geracoes': 500, 'capacidade': 5, 'vertices': 40, 'npacotes': 950, 'n_individuos': 10, 'n_caminhoes': 228, 'min_variacao': 0.005, 'strikes': 6}\n"
     ]
    },
    {
     "name": "stderr",
     "output_type": "stream",
     "text": [
      "\n",
      "100%|██████████| 10/10 [00:00<00:00, 716.23it/s]\n",
      "100%|██████████| 10/10 [00:00<00:00, 769.39it/s]"
     ]
    },
    {
     "name": "stdout",
     "output_type": "stream",
     "text": [
      "{'max_geracoes': 500, 'capacidade': 5, 'vertices': 40, 'npacotes': 950, 'n_individuos': 10, 'n_caminhoes': 228, 'min_variacao': 0.005, 'strikes': 12}\n"
     ]
    },
    {
     "name": "stderr",
     "output_type": "stream",
     "text": [
      "\n",
      "100%|██████████| 10/10 [00:00<00:00, 838.04it/s]"
     ]
    },
    {
     "name": "stdout",
     "output_type": "stream",
     "text": [
      "{'max_geracoes': 500, 'capacidade': 5, 'vertices': 40, 'npacotes': 950, 'n_individuos': 10, 'n_caminhoes': 228, 'min_variacao': 0.005, 'strikes': 3}\n"
     ]
    },
    {
     "name": "stderr",
     "output_type": "stream",
     "text": [
      "\n",
      "100%|██████████| 10/10 [00:00<00:00, 716.19it/s]"
     ]
    },
    {
     "name": "stdout",
     "output_type": "stream",
     "text": [
      "{'max_geracoes': 500, 'capacidade': 5, 'vertices': 40, 'npacotes': 950, 'n_individuos': 10, 'n_caminhoes': 228, 'min_variacao': 0.005, 'strikes': 6}\n"
     ]
    },
    {
     "name": "stderr",
     "output_type": "stream",
     "text": [
      "\n",
      "100%|██████████| 10/10 [00:00<00:00, 769.95it/s]\n",
      "100%|██████████| 10/10 [00:00<00:00, 783.79it/s]"
     ]
    },
    {
     "name": "stdout",
     "output_type": "stream",
     "text": [
      "{'max_geracoes': 500, 'capacidade': 5, 'vertices': 40, 'npacotes': 950, 'n_individuos': 10, 'n_caminhoes': 228, 'min_variacao': 0.005, 'strikes': 12}\n"
     ]
    },
    {
     "name": "stderr",
     "output_type": "stream",
     "text": [
      "\n",
      "100%|██████████| 10/10 [00:00<00:00, 909.22it/s]"
     ]
    },
    {
     "name": "stdout",
     "output_type": "stream",
     "text": [
      "{'max_geracoes': 500, 'capacidade': 5, 'vertices': 40, 'npacotes': 950, 'n_individuos': 10, 'n_caminhoes': 228, 'min_variacao': 0.005, 'strikes': 3}\n"
     ]
    },
    {
     "name": "stderr",
     "output_type": "stream",
     "text": [
      "\n",
      "100%|██████████| 10/10 [00:00<00:00, 909.49it/s]"
     ]
    },
    {
     "name": "stdout",
     "output_type": "stream",
     "text": [
      "{'max_geracoes': 500, 'capacidade': 5, 'vertices': 40, 'npacotes': 950, 'n_individuos': 10, 'n_caminhoes': 228, 'min_variacao': 0.005, 'strikes': 6}\n"
     ]
    },
    {
     "name": "stderr",
     "output_type": "stream",
     "text": [
      "\n",
      "100%|██████████| 10/10 [00:00<00:00, 716.46it/s]"
     ]
    },
    {
     "name": "stdout",
     "output_type": "stream",
     "text": [
      "{'max_geracoes': 500, 'capacidade': 5, 'vertices': 40, 'npacotes': 950, 'n_individuos': 10, 'n_caminhoes': 228, 'min_variacao': 0.005, 'strikes': 9}\n"
     ]
    },
    {
     "name": "stderr",
     "output_type": "stream",
     "text": [
      "\n",
      "100%|██████████| 10/10 [00:00<00:00, 834.31it/s]"
     ]
    },
    {
     "name": "stdout",
     "output_type": "stream",
     "text": [
      "{'max_geracoes': 500, 'capacidade': 5, 'vertices': 40, 'npacotes': 950, 'n_individuos': 10, 'n_caminhoes': 228, 'min_variacao': 0.005, 'strikes': 12}\n"
     ]
    },
    {
     "name": "stderr",
     "output_type": "stream",
     "text": [
      "\n",
      "100%|██████████| 10/10 [00:00<00:00, 558.11it/s]\n",
      "100%|██████████| 10/10 [00:00<00:00, 835.55it/s]\n",
      "100%|██████████| 10/10 [00:00<00:00, 833.41it/s]\n",
      "100%|██████████| 10/10 [00:00<00:00, 691.26it/s]\n",
      "100%|██████████| 10/10 [00:00<00:00, 716.22it/s]\n",
      "100%|██████████| 10/10 [00:00<00:00, 772.28it/s]\n",
      "100%|██████████| 10/10 [00:00<00:00, 718.18it/s]\n",
      "100%|██████████| 10/10 [00:00<00:00, 835.57it/s]"
     ]
    },
    {
     "name": "stdout",
     "output_type": "stream",
     "text": [
      "{'max_geracoes': 500, 'capacidade': 5, 'vertices': 40, 'npacotes': 950, 'n_individuos': 10, 'n_caminhoes': 228, 'min_variacao': 0.01, 'strikes': 12}\n"
     ]
    },
    {
     "name": "stderr",
     "output_type": "stream",
     "text": [
      "\n",
      "100%|██████████| 10/10 [00:00<00:00, 716.19it/s]\n",
      "100%|██████████| 10/10 [00:00<00:00, 771.05it/s]\n",
      "100%|██████████| 10/10 [00:00<00:00, 717.28it/s]\n",
      "100%|██████████| 10/10 [00:00<00:00, 770.90it/s]"
     ]
    },
    {
     "name": "stdout",
     "output_type": "stream",
     "text": [
      "{'max_geracoes': 500, 'capacidade': 5, 'vertices': 40, 'npacotes': 950, 'n_individuos': 10, 'n_caminhoes': 228, 'min_variacao': 0.01, 'strikes': 12}\n"
     ]
    },
    {
     "name": "stderr",
     "output_type": "stream",
     "text": [
      "\n",
      "100%|██████████| 10/10 [00:00<00:00, 716.56it/s]\n",
      "100%|██████████| 10/10 [00:00<00:00, 527.71it/s]\n",
      "100%|██████████| 10/10 [00:00<00:00, 835.49it/s]\n",
      "100%|██████████| 10/10 [00:00<00:00, 715.78it/s]\n",
      "100%|██████████| 10/10 [00:00<00:00, 715.13it/s]\n",
      "100%|██████████| 10/10 [00:00<00:00, 835.54it/s]\n",
      "100%|██████████| 10/10 [00:00<00:00, 716.14it/s]\n",
      "100%|██████████| 10/10 [00:00<00:00, 771.21it/s]\n",
      "100%|██████████| 10/10 [00:00<00:00, 771.25it/s]\n",
      "100%|██████████| 10/10 [00:00<00:00, 771.27it/s]\n",
      "100%|██████████| 10/10 [00:00<00:00, 835.57it/s]\n",
      "100%|██████████| 15/15 [00:00<00:00, 790.53it/s]\n",
      "100%|██████████| 15/15 [00:00<00:00, 835.54it/s]"
     ]
    },
    {
     "name": "stdout",
     "output_type": "stream",
     "text": [
      "{'max_geracoes': 500, 'capacidade': 5, 'vertices': 40, 'npacotes': 950, 'n_individuos': 15, 'n_caminhoes': 228, 'min_variacao': 0.001, 'strikes': 3}\n"
     ]
    },
    {
     "name": "stderr",
     "output_type": "stream",
     "text": [
      "\n",
      "100%|██████████| 15/15 [00:00<00:00, 751.98it/s]"
     ]
    },
    {
     "name": "stdout",
     "output_type": "stream",
     "text": [
      "{'max_geracoes': 500, 'capacidade': 5, 'vertices': 40, 'npacotes': 950, 'n_individuos': 15, 'n_caminhoes': 228, 'min_variacao': 0.001, 'strikes': 6}\n"
     ]
    },
    {
     "name": "stderr",
     "output_type": "stream",
     "text": [
      "\n",
      "100%|██████████| 15/15 [00:00<00:00, 791.56it/s]"
     ]
    },
    {
     "name": "stdout",
     "output_type": "stream",
     "text": [
      "{'max_geracoes': 500, 'capacidade': 5, 'vertices': 40, 'npacotes': 950, 'n_individuos': 15, 'n_caminhoes': 228, 'min_variacao': 0.001, 'strikes': 9}\n"
     ]
    },
    {
     "name": "stderr",
     "output_type": "stream",
     "text": [
      "\n",
      "100%|██████████| 15/15 [00:00<00:00, 833.90it/s]"
     ]
    },
    {
     "name": "stdout",
     "output_type": "stream",
     "text": [
      "{'max_geracoes': 500, 'capacidade': 5, 'vertices': 40, 'npacotes': 950, 'n_individuos': 15, 'n_caminhoes': 228, 'min_variacao': 0.001, 'strikes': 12}\n"
     ]
    },
    {
     "name": "stderr",
     "output_type": "stream",
     "text": [
      "\n",
      "100%|██████████| 15/15 [00:00<00:00, 854.35it/s]"
     ]
    },
    {
     "name": "stdout",
     "output_type": "stream",
     "text": [
      "{'max_geracoes': 500, 'capacidade': 5, 'vertices': 40, 'npacotes': 950, 'n_individuos': 15, 'n_caminhoes': 228, 'min_variacao': 0.001, 'strikes': 3}\n"
     ]
    },
    {
     "name": "stderr",
     "output_type": "stream",
     "text": [
      "\n",
      "100%|██████████| 15/15 [00:00<00:00, 835.57it/s]"
     ]
    },
    {
     "name": "stdout",
     "output_type": "stream",
     "text": [
      "{'max_geracoes': 500, 'capacidade': 5, 'vertices': 40, 'npacotes': 950, 'n_individuos': 15, 'n_caminhoes': 228, 'min_variacao': 0.001, 'strikes': 6}\n"
     ]
    },
    {
     "name": "stderr",
     "output_type": "stream",
     "text": [
      "\n",
      "100%|██████████| 15/15 [00:00<00:00, 791.18it/s]"
     ]
    },
    {
     "name": "stdout",
     "output_type": "stream",
     "text": [
      "{'max_geracoes': 500, 'capacidade': 5, 'vertices': 40, 'npacotes': 950, 'n_individuos': 15, 'n_caminhoes': 228, 'min_variacao': 0.001, 'strikes': 9}\n"
     ]
    },
    {
     "name": "stderr",
     "output_type": "stream",
     "text": [
      "\n",
      "100%|██████████| 15/15 [00:00<00:00, 834.23it/s]"
     ]
    },
    {
     "name": "stdout",
     "output_type": "stream",
     "text": [
      "{'max_geracoes': 500, 'capacidade': 5, 'vertices': 40, 'npacotes': 950, 'n_individuos': 15, 'n_caminhoes': 228, 'min_variacao': 0.001, 'strikes': 12}\n"
     ]
    },
    {
     "name": "stderr",
     "output_type": "stream",
     "text": [
      "\n",
      "100%|██████████| 15/15 [00:00<00:00, 883.05it/s]"
     ]
    },
    {
     "name": "stdout",
     "output_type": "stream",
     "text": [
      "{'max_geracoes': 500, 'capacidade': 5, 'vertices': 40, 'npacotes': 950, 'n_individuos': 15, 'n_caminhoes': 228, 'min_variacao': 0.001, 'strikes': 3}\n"
     ]
    },
    {
     "name": "stderr",
     "output_type": "stream",
     "text": [
      "\n",
      "100%|██████████| 15/15 [00:00<00:00, 835.59it/s]"
     ]
    },
    {
     "name": "stdout",
     "output_type": "stream",
     "text": [
      "{'max_geracoes': 500, 'capacidade': 5, 'vertices': 40, 'npacotes': 950, 'n_individuos': 15, 'n_caminhoes': 228, 'min_variacao': 0.001, 'strikes': 6}\n"
     ]
    },
    {
     "name": "stderr",
     "output_type": "stream",
     "text": [
      "\n",
      "100%|██████████| 15/15 [00:00<00:00, 835.53it/s]"
     ]
    },
    {
     "name": "stdout",
     "output_type": "stream",
     "text": [
      "{'max_geracoes': 500, 'capacidade': 5, 'vertices': 40, 'npacotes': 950, 'n_individuos': 15, 'n_caminhoes': 228, 'min_variacao': 0.001, 'strikes': 9}\n"
     ]
    },
    {
     "name": "stderr",
     "output_type": "stream",
     "text": [
      "\n",
      "  0%|          | 0/15 [00:00<?, ?it/s]"
     ]
    },
    {
     "name": "stdout",
     "output_type": "stream",
     "text": [
      "{'max_geracoes': 500, 'capacidade': 5, 'vertices': 40, 'npacotes': 950, 'n_individuos': 15, 'n_caminhoes': 228, 'min_variacao': 0.001, 'strikes': 12}\n"
     ]
    },
    {
     "name": "stderr",
     "output_type": "stream",
     "text": [
      "100%|██████████| 15/15 [00:00<00:00, 52.17it/s]\n",
      "100%|██████████| 15/15 [00:00<00:00, 683.60it/s]"
     ]
    },
    {
     "name": "stdout",
     "output_type": "stream",
     "text": [
      "{'max_geracoes': 500, 'capacidade': 5, 'vertices': 40, 'npacotes': 950, 'n_individuos': 15, 'n_caminhoes': 228, 'min_variacao': 0.005, 'strikes': 3}\n"
     ]
    },
    {
     "name": "stderr",
     "output_type": "stream",
     "text": [
      "\n",
      "100%|██████████| 15/15 [00:00<00:00, 791.35it/s]"
     ]
    },
    {
     "name": "stdout",
     "output_type": "stream",
     "text": [
      "{'max_geracoes': 500, 'capacidade': 5, 'vertices': 40, 'npacotes': 950, 'n_individuos': 15, 'n_caminhoes': 228, 'min_variacao': 0.005, 'strikes': 6}\n"
     ]
    },
    {
     "name": "stderr",
     "output_type": "stream",
     "text": [
      "\n",
      "100%|██████████| 15/15 [00:00<00:00, 834.09it/s]"
     ]
    },
    {
     "name": "stdout",
     "output_type": "stream",
     "text": [
      "{'max_geracoes': 500, 'capacidade': 5, 'vertices': 40, 'npacotes': 950, 'n_individuos': 15, 'n_caminhoes': 228, 'min_variacao': 0.005, 'strikes': 9}\n"
     ]
    },
    {
     "name": "stderr",
     "output_type": "stream",
     "text": [
      "\n",
      "100%|██████████| 15/15 [00:00<00:00, 714.97it/s]"
     ]
    },
    {
     "name": "stdout",
     "output_type": "stream",
     "text": [
      "{'max_geracoes': 500, 'capacidade': 5, 'vertices': 40, 'npacotes': 950, 'n_individuos': 15, 'n_caminhoes': 228, 'min_variacao': 0.005, 'strikes': 12}\n"
     ]
    },
    {
     "name": "stderr",
     "output_type": "stream",
     "text": [
      "\n",
      "100%|██████████| 15/15 [00:00<00:00, 730.40it/s]"
     ]
    },
    {
     "name": "stdout",
     "output_type": "stream",
     "text": [
      "{'max_geracoes': 500, 'capacidade': 5, 'vertices': 40, 'npacotes': 950, 'n_individuos': 15, 'n_caminhoes': 228, 'min_variacao': 0.005, 'strikes': 3}\n"
     ]
    },
    {
     "name": "stderr",
     "output_type": "stream",
     "text": [
      "\n",
      "100%|██████████| 15/15 [00:00<00:00, 834.15it/s]"
     ]
    },
    {
     "name": "stdout",
     "output_type": "stream",
     "text": [
      "{'max_geracoes': 500, 'capacidade': 5, 'vertices': 40, 'npacotes': 950, 'n_individuos': 15, 'n_caminhoes': 228, 'min_variacao': 0.005, 'strikes': 6}\n"
     ]
    },
    {
     "name": "stderr",
     "output_type": "stream",
     "text": [
      "\n",
      "100%|██████████| 15/15 [00:00<00:00, 791.65it/s]\n",
      "100%|██████████| 15/15 [00:00<00:00, 812.73it/s]"
     ]
    },
    {
     "name": "stdout",
     "output_type": "stream",
     "text": [
      "{'max_geracoes': 500, 'capacidade': 5, 'vertices': 40, 'npacotes': 950, 'n_individuos': 15, 'n_caminhoes': 228, 'min_variacao': 0.005, 'strikes': 12}\n"
     ]
    },
    {
     "name": "stderr",
     "output_type": "stream",
     "text": [
      "\n",
      "100%|██████████| 15/15 [00:00<00:00, 683.08it/s]"
     ]
    },
    {
     "name": "stdout",
     "output_type": "stream",
     "text": [
      "{'max_geracoes': 500, 'capacidade': 5, 'vertices': 40, 'npacotes': 950, 'n_individuos': 15, 'n_caminhoes': 228, 'min_variacao': 0.005, 'strikes': 3}\n"
     ]
    },
    {
     "name": "stderr",
     "output_type": "stream",
     "text": [
      "\n",
      "100%|██████████| 15/15 [00:00<00:00, 716.19it/s]"
     ]
    },
    {
     "name": "stdout",
     "output_type": "stream",
     "text": [
      "{'max_geracoes': 500, 'capacidade': 5, 'vertices': 40, 'npacotes': 950, 'n_individuos': 15, 'n_caminhoes': 228, 'min_variacao': 0.005, 'strikes': 6}\n"
     ]
    },
    {
     "name": "stderr",
     "output_type": "stream",
     "text": [
      "\n",
      "100%|██████████| 15/15 [00:00<00:00, 882.70it/s]"
     ]
    },
    {
     "name": "stdout",
     "output_type": "stream",
     "text": [
      "{'max_geracoes': 500, 'capacidade': 5, 'vertices': 40, 'npacotes': 950, 'n_individuos': 15, 'n_caminhoes': 228, 'min_variacao': 0.005, 'strikes': 9}\n"
     ]
    },
    {
     "name": "stderr",
     "output_type": "stream",
     "text": [
      "\n",
      "100%|██████████| 15/15 [00:00<00:00, 835.56it/s]"
     ]
    },
    {
     "name": "stdout",
     "output_type": "stream",
     "text": [
      "{'max_geracoes': 500, 'capacidade': 5, 'vertices': 40, 'npacotes': 950, 'n_individuos': 15, 'n_caminhoes': 228, 'min_variacao': 0.005, 'strikes': 12}\n"
     ]
    },
    {
     "name": "stderr",
     "output_type": "stream",
     "text": [
      "\n",
      "100%|██████████| 15/15 [00:00<00:00, 834.27it/s]\n",
      "100%|██████████| 15/15 [00:00<00:00, 750.76it/s]\n",
      "100%|██████████| 15/15 [00:00<00:00, 790.60it/s]"
     ]
    },
    {
     "name": "stdout",
     "output_type": "stream",
     "text": [
      "{'max_geracoes': 500, 'capacidade': 5, 'vertices': 40, 'npacotes': 950, 'n_individuos': 15, 'n_caminhoes': 228, 'min_variacao': 0.01, 'strikes': 9}\n"
     ]
    },
    {
     "name": "stderr",
     "output_type": "stream",
     "text": [
      "\n",
      "100%|██████████| 15/15 [00:00<00:00, 682.81it/s]\n",
      "100%|██████████| 15/15 [00:00<00:00, 884.71it/s]\n",
      "100%|██████████| 15/15 [00:00<00:00, 825.33it/s]"
     ]
    },
    {
     "name": "stdout",
     "output_type": "stream",
     "text": [
      "{'max_geracoes': 500, 'capacidade': 5, 'vertices': 40, 'npacotes': 950, 'n_individuos': 15, 'n_caminhoes': 228, 'min_variacao': 0.01, 'strikes': 6}\n"
     ]
    },
    {
     "name": "stderr",
     "output_type": "stream",
     "text": [
      "\n",
      "100%|██████████| 15/15 [00:00<00:00, 791.53it/s]"
     ]
    },
    {
     "name": "stdout",
     "output_type": "stream",
     "text": [
      "{'max_geracoes': 500, 'capacidade': 5, 'vertices': 40, 'npacotes': 950, 'n_individuos': 15, 'n_caminhoes': 228, 'min_variacao': 0.01, 'strikes': 9}\n"
     ]
    },
    {
     "name": "stderr",
     "output_type": "stream",
     "text": [
      "\n",
      "100%|██████████| 15/15 [00:00<00:00, 789.89it/s]"
     ]
    },
    {
     "name": "stdout",
     "output_type": "stream",
     "text": [
      "{'max_geracoes': 500, 'capacidade': 5, 'vertices': 40, 'npacotes': 950, 'n_individuos': 15, 'n_caminhoes': 228, 'min_variacao': 0.01, 'strikes': 12}\n"
     ]
    },
    {
     "name": "stderr",
     "output_type": "stream",
     "text": [
      "\n",
      "100%|██████████| 15/15 [00:00<00:00, 834.24it/s]"
     ]
    },
    {
     "name": "stdout",
     "output_type": "stream",
     "text": [
      "{'max_geracoes': 500, 'capacidade': 5, 'vertices': 40, 'npacotes': 950, 'n_individuos': 15, 'n_caminhoes': 228, 'min_variacao': 0.01, 'strikes': 3}\n"
     ]
    },
    {
     "name": "stderr",
     "output_type": "stream",
     "text": [
      "\n",
      "100%|██████████| 15/15 [00:00<00:00, 835.46it/s]"
     ]
    },
    {
     "name": "stdout",
     "output_type": "stream",
     "text": [
      "{'max_geracoes': 500, 'capacidade': 5, 'vertices': 40, 'npacotes': 950, 'n_individuos': 15, 'n_caminhoes': 228, 'min_variacao': 0.01, 'strikes': 6}\n"
     ]
    },
    {
     "name": "stderr",
     "output_type": "stream",
     "text": [
      "\n",
      "100%|██████████| 15/15 [00:00<00:00, 835.54it/s]"
     ]
    },
    {
     "name": "stdout",
     "output_type": "stream",
     "text": [
      "{'max_geracoes': 500, 'capacidade': 5, 'vertices': 40, 'npacotes': 950, 'n_individuos': 15, 'n_caminhoes': 228, 'min_variacao': 0.01, 'strikes': 9}\n"
     ]
    },
    {
     "name": "stderr",
     "output_type": "stream",
     "text": [
      "\n",
      "100%|██████████| 15/15 [00:00<00:00, 830.83it/s]"
     ]
    },
    {
     "name": "stdout",
     "output_type": "stream",
     "text": [
      "{'max_geracoes': 500, 'capacidade': 5, 'vertices': 40, 'npacotes': 950, 'n_individuos': 15, 'n_caminhoes': 228, 'min_variacao': 0.01, 'strikes': 12}\n"
     ]
    },
    {
     "name": "stderr",
     "output_type": "stream",
     "text": [
      "\n",
      "100%|██████████| 15/15 [00:00<00:00, 793.13it/s]\n",
      "100%|██████████| 15/15 [00:00<00:00, 653.91it/s]\n",
      "100%|██████████| 15/15 [00:00<00:00, 791.57it/s]\n",
      "100%|██████████| 15/15 [00:00<00:00, 848.42it/s]\n",
      "100%|██████████| 15/15 [00:00<00:00, 652.79it/s]\n",
      "100%|██████████| 15/15 [00:00<00:00, 790.38it/s]\n",
      "100%|██████████| 15/15 [00:00<00:00, 625.97it/s]\n",
      "100%|██████████| 15/15 [00:00<00:00, 791.58it/s]\n",
      "100%|██████████| 15/15 [00:00<00:00, 753.03it/s]\n",
      "100%|██████████| 15/15 [00:00<00:00, 648.93it/s]\n",
      "100%|██████████| 15/15 [00:00<00:00, 833.89it/s]\n",
      "100%|██████████| 5/5 [00:00<?, ?it/s]\n",
      "100%|██████████| 5/5 [00:00<?, ?it/s]\n",
      "100%|██████████| 5/5 [00:00<00:00, 5008.72it/s]\n",
      "100%|██████████| 5/5 [00:00<?, ?it/s]\n",
      "100%|██████████| 5/5 [00:00<?, ?it/s]\n",
      "100%|██████████| 5/5 [00:00<?, ?it/s]"
     ]
    },
    {
     "name": "stdout",
     "output_type": "stream",
     "text": [
      "{'max_geracoes': 500, 'capacidade': 5, 'vertices': 90, 'npacotes': 50, 'n_individuos': 5, 'n_caminhoes': 12, 'min_variacao': 0.001, 'strikes': 3}\n"
     ]
    },
    {
     "name": "stderr",
     "output_type": "stream",
     "text": [
      "\n",
      "100%|██████████| 5/5 [00:00<?, ?it/s]\n",
      "100%|██████████| 5/5 [00:00<?, ?it/s]\n",
      "100%|██████████| 5/5 [00:00<?, ?it/s]\n",
      "100%|██████████| 5/5 [00:00<?, ?it/s]\n",
      "100%|██████████| 5/5 [00:00<00:00, 5011.12it/s]\n",
      "100%|██████████| 5/5 [00:00<?, ?it/s]\n",
      "100%|██████████| 5/5 [00:00<00:00, 5160.31it/s]"
     ]
    },
    {
     "name": "stdout",
     "output_type": "stream",
     "text": [
      "{'max_geracoes': 500, 'capacidade': 5, 'vertices': 90, 'npacotes': 50, 'n_individuos': 5, 'n_caminhoes': 12, 'min_variacao': 0.001, 'strikes': 12}\n"
     ]
    },
    {
     "name": "stderr",
     "output_type": "stream",
     "text": [
      "\n",
      "100%|██████████| 5/5 [00:00<00:00, 4872.57it/s]\n",
      "100%|██████████| 5/5 [00:00<?, ?it/s]\n",
      "100%|██████████| 5/5 [00:00<00:00, 4551.11it/s]\n",
      "100%|██████████| 5/5 [00:00<?, ?it/s]\n",
      "100%|██████████| 5/5 [00:00<?, ?it/s]\n",
      "100%|██████████| 5/5 [00:00<00:00, 5015.91it/s]\n",
      "100%|██████████| 5/5 [00:00<00:00, 5015.91it/s]\n",
      "100%|██████████| 5/5 [00:00<00:00, 5072.94it/s]\n",
      "100%|██████████| 5/5 [00:00<?, ?it/s]\n",
      "100%|██████████| 5/5 [00:00<?, ?it/s]\n",
      "100%|██████████| 5/5 [00:00<00:00, 5006.33it/s]\n",
      "100%|██████████| 5/5 [00:00<00:00, 5003.94it/s]\n",
      "100%|██████████| 5/5 [00:00<00:00, 5136.30it/s]\n",
      "100%|██████████| 5/5 [00:00<00:00, 5013.51it/s]\n",
      "100%|██████████| 5/5 [00:00<?, ?it/s]\n",
      "100%|██████████| 5/5 [00:00<00:00, 4832.15it/s]\n",
      "100%|██████████| 5/5 [00:00<?, ?it/s]\n",
      "100%|██████████| 5/5 [00:00<00:00, 5012.31it/s]\n",
      "100%|██████████| 5/5 [00:00<00:00, 5009.92it/s]"
     ]
    },
    {
     "name": "stdout",
     "output_type": "stream",
     "text": [
      "{'max_geracoes': 500, 'capacidade': 5, 'vertices': 90, 'npacotes': 50, 'n_individuos': 5, 'n_caminhoes': 12, 'min_variacao': 0.01, 'strikes': 9}\n"
     ]
    },
    {
     "name": "stderr",
     "output_type": "stream",
     "text": [
      "\n",
      "100%|██████████| 5/5 [00:00<?, ?it/s]\n",
      "100%|██████████| 5/5 [00:00<00:00, 5018.31it/s]\n",
      "100%|██████████| 5/5 [00:00<00:00, 5025.53it/s]\n",
      "100%|██████████| 5/5 [00:00<00:00, 5161.59it/s]\n",
      "100%|██████████| 5/5 [00:00<?, ?it/s]\n",
      "100%|██████████| 5/5 [00:00<00:00, 4936.80it/s]\n",
      "100%|██████████| 5/5 [00:00<00:00, 5057.03it/s]\n",
      "100%|██████████| 5/5 [00:00<00:00, 4877.10it/s]\n",
      "100%|██████████| 5/5 [00:00<?, ?it/s]\n",
      "100%|██████████| 5/5 [00:00<00:00, 5197.40it/s]\n",
      "100%|██████████| 5/5 [00:00<00:00, 5085.24it/s]\n",
      "100%|██████████| 5/5 [00:00<00:00, 4878.23it/s]\n",
      "100%|██████████| 5/5 [00:00<?, ?it/s]\n",
      "100%|██████████| 5/5 [00:00<?, ?it/s]\n",
      "100%|██████████| 5/5 [00:00<00:00, 5207.73it/s]\n",
      "100%|██████████| 5/5 [00:00<00:00, 5012.31it/s]\n",
      "100%|██████████| 10/10 [00:00<00:00, 10024.63it/s]\n",
      "100%|██████████| 10/10 [00:00<00:00, 9979.31it/s]\n",
      "100%|██████████| 10/10 [00:00<00:00, 10027.02it/s]\n",
      "100%|██████████| 10/10 [00:00<00:00, 10031.82it/s]\n",
      "100%|██████████| 10/10 [00:00<00:00, 10325.71it/s]\n",
      "100%|██████████| 10/10 [00:00<00:00, 10310.48it/s]\n",
      "100%|██████████| 10/10 [00:00<00:00, 10022.23it/s]\n",
      "100%|██████████| 10/10 [00:00<00:00, 10017.44it/s]\n",
      "100%|██████████| 10/10 [00:00<00:00, 10027.02it/s]\n",
      "100%|██████████| 10/10 [00:00<00:00, 10017.44it/s]\n",
      "100%|██████████| 10/10 [00:00<00:00, 9995.96it/s]\n",
      "100%|██████████| 10/10 [00:00<?, ?it/s]\n",
      "100%|██████████| 10/10 [00:00<00:00, 10027.02it/s]\n",
      "100%|██████████| 10/10 [00:00<00:00, 9670.98it/s]\n",
      "100%|██████████| 10/10 [00:00<?, ?it/s]\n",
      "100%|██████████| 10/10 [00:00<00:00, 10024.63it/s]\n",
      "100%|██████████| 10/10 [00:00<00:00, 10017.44it/s]\n",
      "100%|██████████| 10/10 [00:00<00:00, 10160.62it/s]\n",
      "100%|██████████| 10/10 [00:00<00:00, 9758.73it/s]\n",
      "100%|██████████| 10/10 [00:00<00:00, 10019.84it/s]\n",
      "100%|██████████| 10/10 [00:00<00:00, 10436.19it/s]\n",
      "100%|██████████| 10/10 [00:00<00:00, 10272.60it/s]\n",
      "100%|██████████| 10/10 [00:00<00:00, 9943.82it/s]"
     ]
    },
    {
     "name": "stdout",
     "output_type": "stream",
     "text": [
      "{'max_geracoes': 500, 'capacidade': 5, 'vertices': 90, 'npacotes': 50, 'n_individuos': 10, 'n_caminhoes': 12, 'min_variacao': 0.005, 'strikes': 6}\n"
     ]
    },
    {
     "name": "stderr",
     "output_type": "stream",
     "text": [
      "\n",
      "100%|██████████| 10/10 [00:00<?, ?it/s]\n",
      "100%|██████████| 10/10 [00:00<00:00, 10024.63it/s]\n",
      "100%|██████████| 10/10 [00:00<00:00, 10010.27it/s]\n",
      "100%|██████████| 10/10 [00:00<00:00, 10328.25it/s]\n",
      "100%|██████████| 10/10 [00:00<00:00, 10029.42it/s]\n",
      "100%|██████████| 10/10 [00:00<?, ?it/s]\n",
      "100%|██████████| 10/10 [00:00<00:00, 10058.28it/s]\n",
      "100%|██████████| 10/10 [00:00<00:00, 10017.44it/s]\n",
      "100%|██████████| 10/10 [00:00<00:00, 10031.82it/s]\n",
      "100%|██████████| 10/10 [00:00<00:00, 10029.42it/s]\n",
      "100%|██████████| 10/10 [00:00<00:00, 5012.31it/s]\n",
      "100%|██████████| 10/10 [00:00<00:00, 10010.27it/s]\n",
      "100%|██████████| 10/10 [00:00<00:00, 5009.32it/s]\n",
      "100%|██████████| 10/10 [00:00<?, ?it/s]\n",
      "100%|██████████| 10/10 [00:00<00:00, 10012.66it/s]\n",
      "100%|██████████| 10/10 [00:00<?, ?it/s]\n",
      "100%|██████████| 10/10 [00:00<00:00, 10039.02it/s]\n",
      "100%|██████████| 10/10 [00:00<00:00, 5032.76it/s]\n",
      "100%|██████████| 10/10 [00:00<00:00, 10027.02it/s]\n",
      "100%|██████████| 10/10 [00:00<?, ?it/s]\n",
      "100%|██████████| 10/10 [00:00<00:00, 10168.01it/s]\n",
      "100%|██████████| 10/10 [00:00<00:00, 10104.32it/s]\n",
      "100%|██████████| 10/10 [00:00<?, ?it/s]\n",
      "100%|██████████| 10/10 [00:00<00:00, 10031.82it/s]\n",
      "100%|██████████| 10/10 [00:00<00:00, 10027.02it/s]\n",
      "100%|██████████| 15/15 [00:00<00:00, 15033.35it/s]\n",
      "100%|██████████| 15/15 [00:00<00:00, 15029.76it/s]\n",
      "100%|██████████| 15/15 [00:00<00:00, 15465.72it/s]\n",
      "100%|██████████| 15/15 [00:00<00:00, 7517.57it/s]\n",
      "100%|██████████| 15/15 [00:00<00:00, 7579.15it/s]\n",
      "100%|██████████| 15/15 [00:00<00:00, 7414.80it/s]\n",
      "100%|██████████| 15/15 [00:00<00:00, 7532.87it/s]\n",
      "100%|██████████| 15/15 [00:00<00:00, 7513.98it/s]\n",
      "100%|██████████| 15/15 [00:00<00:00, 7515.78it/s]\n",
      "100%|██████████| 15/15 [00:00<00:00, 7655.70it/s]\n",
      "100%|██████████| 15/15 [00:00<00:00, 15044.13it/s]\n",
      "100%|██████████| 15/15 [00:00<00:00, 15036.94it/s]\n",
      "100%|██████████| 15/15 [00:00<00:00, 15348.76it/s]\n",
      "100%|██████████| 15/15 [00:00<00:00, 15029.76it/s]\n",
      "100%|██████████| 15/15 [00:00<00:00, 7520.27it/s]\n",
      "100%|██████████| 15/15 [00:00<00:00, 7561.85it/s]\n",
      "100%|██████████| 15/15 [00:00<00:00, 7635.26it/s]\n",
      "100%|██████████| 15/15 [00:00<00:00, 14947.63it/s]\n",
      "100%|██████████| 15/15 [00:00<00:00, 8052.55it/s]\n",
      "100%|██████████| 15/15 [00:00<00:00, 14866.39it/s]\n",
      "100%|██████████| 15/15 [00:00<00:00, 7520.27it/s]\n",
      "100%|██████████| 15/15 [00:00<00:00, 15454.33it/s]\n",
      "100%|██████████| 15/15 [00:00<00:00, 14473.10it/s]\n",
      "100%|██████████| 15/15 [00:00<00:00, 15572.91it/s]\n",
      "100%|██████████| 15/15 [00:00<00:00, 7524.76it/s]\n",
      "100%|██████████| 15/15 [00:00<00:00, 15538.30it/s]\n",
      "100%|██████████| 15/15 [00:00<00:00, 7498.76it/s]\n",
      "100%|██████████| 15/15 [00:00<00:00, 7632.48it/s]\n",
      "100%|██████████| 15/15 [00:00<00:00, 7521.17it/s]\n",
      "100%|██████████| 15/15 [00:00<00:00, 15047.73it/s]\n",
      "100%|██████████| 15/15 [00:00<00:00, 14503.13it/s]\n",
      "100%|██████████| 15/15 [00:00<00:00, 15033.35it/s]\n",
      "100%|██████████| 15/15 [00:00<00:00, 7520.27it/s]\n",
      "100%|██████████| 15/15 [00:00<00:00, 7520.27it/s]\n",
      "100%|██████████| 15/15 [00:00<00:00, 7612.17it/s]\n",
      "100%|██████████| 15/15 [00:00<00:00, 14617.70it/s]\n"
     ]
    },
    {
     "name": "stdout",
     "output_type": "stream",
     "text": [
      "{'max_geracoes': 500, 'capacidade': 5, 'vertices': 90, 'npacotes': 50, 'n_individuos': 15, 'n_caminhoes': 12, 'min_variacao': 0.01, 'strikes': 12}\n"
     ]
    },
    {
     "name": "stderr",
     "output_type": "stream",
     "text": [
      "100%|██████████| 15/15 [00:00<00:00, 5013.91it/s]\n",
      "100%|██████████| 15/15 [00:00<00:00, 7603.89it/s]\n",
      "100%|██████████| 15/15 [00:00<00:00, 15036.94it/s]\n",
      "100%|██████████| 15/15 [00:00<00:00, 14634.70it/s]\n",
      "100%|██████████| 15/15 [00:00<00:00, 15044.13it/s]\n",
      "100%|██████████| 15/15 [00:00<00:00, 7518.47it/s]\n",
      "100%|██████████| 15/15 [00:00<00:00, 15036.94it/s]\n",
      "100%|██████████| 15/15 [00:00<00:00, 14577.05it/s]\n",
      "100%|██████████| 15/15 [00:00<00:00, 15469.53it/s]\n",
      "100%|██████████| 15/15 [00:00<00:00, 14631.29it/s]\n",
      "100%|██████████| 15/15 [00:00<00:00, 7522.07it/s]\n",
      "100%|██████████| 15/15 [00:00<00:00, 14634.70it/s]\n",
      "100%|██████████| 5/5 [00:00<00:00, 4993.22it/s]\n",
      "100%|██████████| 5/5 [00:00<00:00, 1393.27it/s]"
     ]
    },
    {
     "name": "stdout",
     "output_type": "stream",
     "text": [
      "{'max_geracoes': 500, 'capacidade': 5, 'vertices': 90, 'npacotes': 200, 'n_individuos': 5, 'n_caminhoes': 48, 'min_variacao': 0.001, 'strikes': 3}\n"
     ]
    },
    {
     "name": "stderr",
     "output_type": "stream",
     "text": [
      "\n",
      "100%|██████████| 5/5 [00:00<00:00, 2553.77it/s]"
     ]
    },
    {
     "name": "stdout",
     "output_type": "stream",
     "text": [
      "{'max_geracoes': 500, 'capacidade': 5, 'vertices': 90, 'npacotes': 200, 'n_individuos': 5, 'n_caminhoes': 48, 'min_variacao': 0.001, 'strikes': 6}\n"
     ]
    },
    {
     "name": "stderr",
     "output_type": "stream",
     "text": [
      "\n",
      "100%|██████████| 5/5 [00:00<00:00, 2512.76it/s]"
     ]
    },
    {
     "name": "stdout",
     "output_type": "stream",
     "text": [
      "{'max_geracoes': 500, 'capacidade': 5, 'vertices': 90, 'npacotes': 200, 'n_individuos': 5, 'n_caminhoes': 48, 'min_variacao': 0.001, 'strikes': 9}\n"
     ]
    },
    {
     "name": "stderr",
     "output_type": "stream",
     "text": [
      "\n",
      "100%|██████████| 5/5 [00:00<00:00, 5127.51it/s]\n",
      "100%|██████████| 5/5 [00:00<00:00, 5013.51it/s]\n",
      "100%|██████████| 5/5 [00:00<00:00, 2509.46it/s]\n",
      "100%|██████████| 5/5 [00:00<00:00, 2506.76it/s]"
     ]
    },
    {
     "name": "stdout",
     "output_type": "stream",
     "text": [
      "{'max_geracoes': 500, 'capacidade': 5, 'vertices': 90, 'npacotes': 200, 'n_individuos': 5, 'n_caminhoes': 48, 'min_variacao': 0.001, 'strikes': 9}\n"
     ]
    },
    {
     "name": "stderr",
     "output_type": "stream",
     "text": [
      "\n",
      "100%|██████████| 5/5 [00:00<00:00, 2510.66it/s]\n",
      "100%|██████████| 5/5 [00:00<00:00, 1671.84it/s]\n",
      "100%|██████████| 5/5 [00:00<00:00, 4889.61it/s]\n",
      "100%|██████████| 5/5 [00:00<00:00, 2493.64it/s]"
     ]
    },
    {
     "name": "stdout",
     "output_type": "stream",
     "text": [
      "{'max_geracoes': 500, 'capacidade': 5, 'vertices': 90, 'npacotes': 200, 'n_individuos': 5, 'n_caminhoes': 48, 'min_variacao': 0.001, 'strikes': 9}\n"
     ]
    },
    {
     "name": "stderr",
     "output_type": "stream",
     "text": [
      "\n",
      "100%|██████████| 5/5 [00:00<00:00, 2498.10it/s]\n",
      "100%|██████████| 5/5 [00:00<00:00, 2540.77it/s]\n",
      "100%|██████████| 5/5 [00:00<00:00, 2498.99it/s]\n",
      "100%|██████████| 5/5 [00:00<00:00, 2506.76it/s]\n",
      "100%|██████████| 5/5 [00:00<00:00, 4863.53it/s]\n",
      "100%|██████████| 5/5 [00:00<00:00, 2496.61it/s]\n",
      "100%|██████████| 5/5 [00:00<00:00, 2504.96it/s]\n",
      "100%|██████████| 5/5 [00:00<00:00, 2525.17it/s]\n",
      "100%|██████████| 5/5 [00:00<00:00, 2516.68it/s]"
     ]
    },
    {
     "name": "stdout",
     "output_type": "stream",
     "text": [
      "{'max_geracoes': 500, 'capacidade': 5, 'vertices': 90, 'npacotes': 200, 'n_individuos': 5, 'n_caminhoes': 48, 'min_variacao': 0.005, 'strikes': 12}\n"
     ]
    },
    {
     "name": "stderr",
     "output_type": "stream",
     "text": [
      "\n",
      "100%|██████████| 5/5 [00:00<00:00, 2505.56it/s]\n",
      "100%|██████████| 5/5 [00:00<00:00, 2523.65it/s]\n",
      "100%|██████████| 5/5 [00:00<00:00, 2508.25it/s]"
     ]
    },
    {
     "name": "stdout",
     "output_type": "stream",
     "text": [
      "{'max_geracoes': 500, 'capacidade': 5, 'vertices': 90, 'npacotes': 200, 'n_individuos': 5, 'n_caminhoes': 48, 'min_variacao': 0.005, 'strikes': 9}\n"
     ]
    },
    {
     "name": "stderr",
     "output_type": "stream",
     "text": [
      "\n",
      "100%|██████████| 5/5 [00:00<00:00, 2499.59it/s]\n",
      "100%|██████████| 5/5 [00:00<00:00, 2506.46it/s]\n",
      "100%|██████████| 5/5 [00:00<00:00, 2509.46it/s]\n",
      "100%|██████████| 5/5 [00:00<00:00, 5012.31it/s]\n",
      "100%|██████████| 5/5 [00:00<00:00, 5021.92it/s]\n",
      "100%|██████████| 5/5 [00:00<00:00, 2460.87it/s]\n",
      "100%|██████████| 5/5 [00:00<00:00, 2499.29it/s]\n",
      "100%|██████████| 5/5 [00:00<00:00, 5219.39it/s]\n",
      "100%|██████████| 5/5 [00:00<00:00, 2509.16it/s]\n",
      "100%|██████████| 5/5 [00:00<00:00, 4824.37it/s]\n",
      "100%|██████████| 5/5 [00:00<00:00, 2491.57it/s]\n",
      "100%|██████████| 5/5 [00:00<00:00, 2497.50it/s]"
     ]
    },
    {
     "name": "stdout",
     "output_type": "stream",
     "text": [
      "{'max_geracoes': 500, 'capacidade': 5, 'vertices': 90, 'npacotes': 200, 'n_individuos': 5, 'n_caminhoes': 48, 'min_variacao': 0.01, 'strikes': 9}\n"
     ]
    },
    {
     "name": "stderr",
     "output_type": "stream",
     "text": [
      "\n",
      "100%|██████████| 5/5 [00:00<00:00, 4937.96it/s]\n",
      "100%|██████████| 5/5 [00:00<00:00, 2506.16it/s]\n",
      "100%|██████████| 5/5 [00:00<00:00, 2477.15it/s]\n",
      "100%|██████████| 5/5 [00:00<00:00, 5166.67it/s]\n",
      "100%|██████████| 5/5 [00:00<00:00, 2378.26it/s]\n",
      "100%|██████████| 5/5 [00:00<00:00, 5147.65it/s]\n",
      "100%|██████████| 5/5 [00:00<00:00, 2470.73it/s]\n",
      "100%|██████████| 5/5 [00:00<00:00, 5494.24it/s]\n",
      "100%|██████████| 5/5 [00:00<00:00, 5008.72it/s]\n",
      "100%|██████████| 5/5 [00:00<00:00, 2505.56it/s]\n",
      "100%|██████████| 5/5 [00:00<00:00, 5018.31it/s]\n",
      "100%|██████████| 5/5 [00:00<00:00, 5019.51it/s]\n",
      "100%|██████████| 10/10 [00:00<00:00, 5009.92it/s]\n",
      "100%|██████████| 10/10 [00:00<00:00, 3301.56it/s]"
     ]
    },
    {
     "name": "stdout",
     "output_type": "stream",
     "text": [
      "{'max_geracoes': 500, 'capacidade': 5, 'vertices': 90, 'npacotes': 200, 'n_individuos': 10, 'n_caminhoes': 48, 'min_variacao': 0.001, 'strikes': 3}\n"
     ]
    },
    {
     "name": "stderr",
     "output_type": "stream",
     "text": [
      "\n",
      "100%|██████████| 10/10 [00:00<00:00, 3315.13it/s]"
     ]
    },
    {
     "name": "stdout",
     "output_type": "stream",
     "text": [
      "{'max_geracoes': 500, 'capacidade': 5, 'vertices': 90, 'npacotes': 200, 'n_individuos': 10, 'n_caminhoes': 48, 'min_variacao': 0.001, 'strikes': 6}\n"
     ]
    },
    {
     "name": "stderr",
     "output_type": "stream",
     "text": [
      "\n",
      "100%|██████████| 10/10 [00:00<00:00, 3313.56it/s]"
     ]
    },
    {
     "name": "stdout",
     "output_type": "stream",
     "text": [
      "{'max_geracoes': 500, 'capacidade': 5, 'vertices': 90, 'npacotes': 200, 'n_individuos': 10, 'n_caminhoes': 48, 'min_variacao': 0.001, 'strikes': 9}\n"
     ]
    },
    {
     "name": "stderr",
     "output_type": "stream",
     "text": [
      "\n",
      "100%|██████████| 10/10 [00:00<00:00, 2501.67it/s]\n",
      "100%|██████████| 10/10 [00:00<00:00, 3354.64it/s]\n",
      "100%|██████████| 10/10 [00:00<00:00, 3375.43it/s]\n",
      "100%|██████████| 10/10 [00:00<00:00, 1670.90it/s]\n",
      "100%|██████████| 10/10 [00:00<00:00, 4965.44it/s]"
     ]
    },
    {
     "name": "stdout",
     "output_type": "stream",
     "text": [
      "{'max_geracoes': 500, 'capacidade': 5, 'vertices': 90, 'npacotes': 200, 'n_individuos': 10, 'n_caminhoes': 48, 'min_variacao': 0.001, 'strikes': 12}\n"
     ]
    },
    {
     "name": "stderr",
     "output_type": "stream",
     "text": [
      "\n",
      "100%|██████████| 10/10 [00:00<00:00, 2506.91it/s]"
     ]
    },
    {
     "name": "stdout",
     "output_type": "stream",
     "text": [
      "{'max_geracoes': 500, 'capacidade': 5, 'vertices': 90, 'npacotes': 200, 'n_individuos': 10, 'n_caminhoes': 48, 'min_variacao': 0.001, 'strikes': 3}\n"
     ]
    },
    {
     "name": "stderr",
     "output_type": "stream",
     "text": [
      "\n",
      "100%|██████████| 10/10 [00:00<00:00, 2508.11it/s]"
     ]
    },
    {
     "name": "stdout",
     "output_type": "stream",
     "text": [
      "{'max_geracoes': 500, 'capacidade': 5, 'vertices': 90, 'npacotes': 200, 'n_individuos': 10, 'n_caminhoes': 48, 'min_variacao': 0.001, 'strikes': 6}\n"
     ]
    },
    {
     "name": "stderr",
     "output_type": "stream",
     "text": [
      "\n",
      "100%|██████████| 10/10 [00:00<00:00, 4925.78it/s]"
     ]
    },
    {
     "name": "stdout",
     "output_type": "stream",
     "text": [
      "{'max_geracoes': 500, 'capacidade': 5, 'vertices': 90, 'npacotes': 200, 'n_individuos': 10, 'n_caminhoes': 48, 'min_variacao': 0.001, 'strikes': 9}\n"
     ]
    },
    {
     "name": "stderr",
     "output_type": "stream",
     "text": [
      "\n",
      "100%|██████████| 10/10 [00:00<00:00, 3340.21it/s]\n",
      "100%|██████████| 10/10 [00:00<00:00, 3343.41it/s]\n",
      "100%|██████████| 10/10 [00:00<00:00, 4938.54it/s]\n",
      "100%|██████████| 10/10 [00:00<00:00, 3342.34it/s]\n",
      "100%|██████████| 10/10 [00:00<00:00, 3314.35it/s]"
     ]
    },
    {
     "name": "stdout",
     "output_type": "stream",
     "text": [
      "{'max_geracoes': 500, 'capacidade': 5, 'vertices': 90, 'npacotes': 200, 'n_individuos': 10, 'n_caminhoes': 48, 'min_variacao': 0.005, 'strikes': 12}\n"
     ]
    },
    {
     "name": "stderr",
     "output_type": "stream",
     "text": [
      "\n",
      "100%|██████████| 10/10 [00:00<00:00, 3341.81it/s]\n",
      "100%|██████████| 10/10 [00:00<00:00, 3341.28it/s]\n",
      "100%|██████████| 10/10 [00:00<00:00, 2506.76it/s]\n",
      "100%|██████████| 10/10 [00:00<00:00, 3999.91it/s]\n",
      "100%|██████████| 10/10 [00:00<00:00, 3342.07it/s]\n",
      "100%|██████████| 10/10 [00:00<00:00, 2489.94it/s]"
     ]
    },
    {
     "name": "stdout",
     "output_type": "stream",
     "text": [
      "{'max_geracoes': 500, 'capacidade': 5, 'vertices': 90, 'npacotes': 200, 'n_individuos': 10, 'n_caminhoes': 48, 'min_variacao': 0.005, 'strikes': 6}\n"
     ]
    },
    {
     "name": "stderr",
     "output_type": "stream",
     "text": [
      "\n",
      "100%|██████████| 10/10 [00:00<00:00, 2530.04it/s]\n",
      "100%|██████████| 10/10 [00:00<00:00, 3374.34it/s]"
     ]
    },
    {
     "name": "stdout",
     "output_type": "stream",
     "text": [
      "{'max_geracoes': 500, 'capacidade': 5, 'vertices': 90, 'npacotes': 200, 'n_individuos': 10, 'n_caminhoes': 48, 'min_variacao': 0.005, 'strikes': 12}\n"
     ]
    },
    {
     "name": "stderr",
     "output_type": "stream",
     "text": [
      "\n",
      "100%|██████████| 10/10 [00:00<00:00, 3304.16it/s]\n",
      "100%|██████████| 10/10 [00:00<00:00, 2529.43it/s]"
     ]
    },
    {
     "name": "stdout",
     "output_type": "stream",
     "text": [
      "{'max_geracoes': 500, 'capacidade': 5, 'vertices': 90, 'npacotes': 200, 'n_individuos': 10, 'n_caminhoes': 48, 'min_variacao': 0.01, 'strikes': 6}\n"
     ]
    },
    {
     "name": "stderr",
     "output_type": "stream",
     "text": [
      "\n",
      "100%|██████████| 10/10 [00:00<00:00, 3308.07it/s]\n",
      "100%|██████████| 10/10 [00:00<00:00, 3334.10it/s]\n",
      "100%|██████████| 10/10 [00:00<00:00, 4993.22it/s]\n",
      "100%|██████████| 10/10 [00:00<00:00, 4956.05it/s]\n",
      "100%|██████████| 10/10 [00:00<00:00, 3341.81it/s]\n",
      "100%|██████████| 10/10 [00:00<00:00, 3392.90it/s]\n",
      "100%|██████████| 10/10 [00:00<00:00, 2513.97it/s]\n",
      "100%|██████████| 10/10 [00:00<00:00, 3380.05it/s]\n",
      "100%|██████████| 10/10 [00:00<00:00, 3320.38it/s]\n",
      "100%|██████████| 10/10 [00:00<00:00, 3345.27it/s]\n",
      "100%|██████████| 10/10 [00:00<00:00, 3341.81it/s]\n",
      "100%|██████████| 10/10 [00:00<00:00, 5012.31it/s]\n",
      "100%|██████████| 10/10 [00:00<00:00, 2005.31it/s]\n",
      "100%|██████████| 10/10 [00:00<00:00, 5025.53it/s]\n",
      "100%|██████████| 10/10 [00:00<00:00, 3342.34it/s]\n",
      "100%|██████████| 10/10 [00:00<00:00, 3325.91it/s]\n",
      "100%|██████████| 10/10 [00:00<00:00, 3351.15it/s]\n",
      "100%|██████████| 10/10 [00:00<00:00, 3373.25it/s]\n",
      "100%|██████████| 10/10 [00:00<00:00, 2519.86it/s]\n",
      "100%|██████████| 10/10 [00:00<00:00, 2507.06it/s]\n",
      "100%|██████████| 10/10 [00:00<00:00, 3333.05it/s]\n",
      "100%|██████████| 15/15 [00:00<00:00, 3757.21it/s]\n",
      "100%|██████████| 15/15 [00:00<00:00, 3760.36it/s]"
     ]
    },
    {
     "name": "stdout",
     "output_type": "stream",
     "text": [
      "{'max_geracoes': 500, 'capacidade': 5, 'vertices': 90, 'npacotes': 200, 'n_individuos': 15, 'n_caminhoes': 48, 'min_variacao': 0.001, 'strikes': 3}\n"
     ]
    },
    {
     "name": "stderr",
     "output_type": "stream",
     "text": [
      "\n",
      "100%|██████████| 15/15 [00:00<00:00, 3728.05it/s]"
     ]
    },
    {
     "name": "stdout",
     "output_type": "stream",
     "text": [
      "{'max_geracoes': 500, 'capacidade': 5, 'vertices': 90, 'npacotes': 200, 'n_individuos': 15, 'n_caminhoes': 48, 'min_variacao': 0.001, 'strikes': 6}\n"
     ]
    },
    {
     "name": "stderr",
     "output_type": "stream",
     "text": [
      "\n",
      "100%|██████████| 15/15 [00:00<00:00, 3760.36it/s]\n",
      "100%|██████████| 15/15 [00:00<00:00, 3760.13it/s]"
     ]
    },
    {
     "name": "stdout",
     "output_type": "stream",
     "text": [
      "{'max_geracoes': 500, 'capacidade': 5, 'vertices': 90, 'npacotes': 200, 'n_individuos': 15, 'n_caminhoes': 48, 'min_variacao': 0.001, 'strikes': 12}\n"
     ]
    },
    {
     "name": "stderr",
     "output_type": "stream",
     "text": [
      "\n",
      "100%|██████████| 15/15 [00:00<00:00, 3007.96it/s]"
     ]
    },
    {
     "name": "stdout",
     "output_type": "stream",
     "text": [
      "{'max_geracoes': 500, 'capacidade': 5, 'vertices': 90, 'npacotes': 200, 'n_individuos': 15, 'n_caminhoes': 48, 'min_variacao': 0.001, 'strikes': 3}\n"
     ]
    },
    {
     "name": "stderr",
     "output_type": "stream",
     "text": [
      "\n",
      "100%|██████████| 15/15 [00:00<00:00, 4951.17it/s]\n",
      "100%|██████████| 15/15 [00:00<00:00, 3727.39it/s]\n",
      "100%|██████████| 15/15 [00:00<00:00, 3008.68it/s]"
     ]
    },
    {
     "name": "stdout",
     "output_type": "stream",
     "text": [
      "{'max_geracoes': 500, 'capacidade': 5, 'vertices': 90, 'npacotes': 200, 'n_individuos': 15, 'n_caminhoes': 48, 'min_variacao': 0.001, 'strikes': 12}\n"
     ]
    },
    {
     "name": "stderr",
     "output_type": "stream",
     "text": [
      "\n",
      "  0%|          | 0/15 [00:00<?, ?it/s]"
     ]
    },
    {
     "name": "stdout",
     "output_type": "stream",
     "text": [
      "{'max_geracoes': 500, 'capacidade': 5, 'vertices': 90, 'npacotes': 200, 'n_individuos': 15, 'n_caminhoes': 48, 'min_variacao': 0.001, 'strikes': 3}\n"
     ]
    },
    {
     "name": "stderr",
     "output_type": "stream",
     "text": [
      "100%|██████████| 15/15 [00:00<00:00, 53.23it/s]\n",
      "100%|██████████| 15/15 [00:00<00:00, 3766.21it/s]"
     ]
    },
    {
     "name": "stdout",
     "output_type": "stream",
     "text": [
      "{'max_geracoes': 500, 'capacidade': 5, 'vertices': 90, 'npacotes': 200, 'n_individuos': 15, 'n_caminhoes': 48, 'min_variacao': 0.001, 'strikes': 6}\n"
     ]
    },
    {
     "name": "stderr",
     "output_type": "stream",
     "text": [
      "\n",
      "100%|██████████| 15/15 [00:00<00:00, 3761.26it/s]\n",
      "100%|██████████| 15/15 [00:00<00:00, 3770.05it/s]\n",
      "100%|██████████| 15/15 [00:00<00:00, 3732.69it/s]\n",
      "100%|██████████| 15/15 [00:00<00:00, 3732.92it/s]\n",
      "100%|██████████| 15/15 [00:00<00:00, 3761.03it/s]\n",
      "100%|██████████| 15/15 [00:00<00:00, 2517.59it/s]"
     ]
    },
    {
     "name": "stdout",
     "output_type": "stream",
     "text": [
      "{'max_geracoes': 500, 'capacidade': 5, 'vertices': 90, 'npacotes': 200, 'n_individuos': 15, 'n_caminhoes': 48, 'min_variacao': 0.005, 'strikes': 12}\n"
     ]
    },
    {
     "name": "stderr",
     "output_type": "stream",
     "text": [
      "\n",
      "100%|██████████| 15/15 [00:00<00:00, 3759.91it/s]\n",
      "100%|██████████| 15/15 [00:00<00:00, 3726.28it/s]\n",
      "100%|██████████| 15/15 [00:00<00:00, 3815.78it/s]\n",
      "100%|██████████| 15/15 [00:00<00:00, 3733.80it/s]"
     ]
    },
    {
     "name": "stdout",
     "output_type": "stream",
     "text": [
      "{'max_geracoes': 500, 'capacidade': 5, 'vertices': 90, 'npacotes': 200, 'n_individuos': 15, 'n_caminhoes': 48, 'min_variacao': 0.005, 'strikes': 12}\n"
     ]
    },
    {
     "name": "stderr",
     "output_type": "stream",
     "text": [
      "\n",
      "100%|██████████| 15/15 [00:00<00:00, 3008.25it/s]\n",
      "100%|██████████| 15/15 [00:00<00:00, 3754.08it/s]\n",
      "100%|██████████| 15/15 [00:00<00:00, 2993.08it/s]\n",
      "100%|██████████| 15/15 [00:00<00:00, 2685.79it/s]"
     ]
    },
    {
     "name": "stdout",
     "output_type": "stream",
     "text": [
      "{'max_geracoes': 500, 'capacidade': 5, 'vertices': 90, 'npacotes': 200, 'n_individuos': 15, 'n_caminhoes': 48, 'min_variacao': 0.005, 'strikes': 12}\n"
     ]
    },
    {
     "name": "stderr",
     "output_type": "stream",
     "text": [
      "\n",
      "100%|██████████| 15/15 [00:00<00:00, 3758.34it/s]\n",
      "100%|██████████| 15/15 [00:00<00:00, 3759.46it/s]\n",
      "100%|██████████| 15/15 [00:00<00:00, 3759.68it/s]\n",
      "100%|██████████| 15/15 [00:00<00:00, 5012.31it/s]\n",
      "100%|██████████| 15/15 [00:00<00:00, 3781.60it/s]\n",
      "100%|██████████| 15/15 [00:00<00:00, 3007.96it/s]"
     ]
    },
    {
     "name": "stdout",
     "output_type": "stream",
     "text": [
      "{'max_geracoes': 500, 'capacidade': 5, 'vertices': 90, 'npacotes': 200, 'n_individuos': 15, 'n_caminhoes': 48, 'min_variacao': 0.01, 'strikes': 6}\n"
     ]
    },
    {
     "name": "stderr",
     "output_type": "stream",
     "text": [
      "\n",
      "100%|██████████| 15/15 [00:00<00:00, 3008.68it/s]\n",
      "100%|██████████| 15/15 [00:00<00:00, 3730.26it/s]"
     ]
    },
    {
     "name": "stdout",
     "output_type": "stream",
     "text": [
      "{'max_geracoes': 500, 'capacidade': 5, 'vertices': 90, 'npacotes': 200, 'n_individuos': 15, 'n_caminhoes': 48, 'min_variacao': 0.01, 'strikes': 12}\n"
     ]
    },
    {
     "name": "stderr",
     "output_type": "stream",
     "text": [
      "\n",
      "100%|██████████| 15/15 [00:00<00:00, 2507.26it/s]\n",
      "100%|██████████| 15/15 [00:00<00:00, 3787.75it/s]\n",
      "100%|██████████| 15/15 [00:00<00:00, 3729.15it/s]\n",
      "100%|██████████| 15/15 [00:00<00:00, 3027.65it/s]"
     ]
    },
    {
     "name": "stdout",
     "output_type": "stream",
     "text": [
      "{'max_geracoes': 500, 'capacidade': 5, 'vertices': 90, 'npacotes': 200, 'n_individuos': 15, 'n_caminhoes': 48, 'min_variacao': 0.01, 'strikes': 12}\n"
     ]
    },
    {
     "name": "stderr",
     "output_type": "stream",
     "text": [
      "\n",
      "100%|██████████| 15/15 [00:00<00:00, 3730.92it/s]\n",
      "100%|██████████| 15/15 [00:00<00:00, 3008.25it/s]\n",
      "100%|██████████| 15/15 [00:00<00:00, 3007.68it/s]\n",
      "100%|██████████| 15/15 [00:00<00:00, 3726.95it/s]\n",
      "100%|██████████| 15/15 [00:00<00:00, 3661.02it/s]\n",
      "100%|██████████| 15/15 [00:00<00:00, 3028.82it/s]\n",
      "100%|██████████| 15/15 [00:00<00:00, 3759.91it/s]\n",
      "100%|██████████| 15/15 [00:00<00:00, 2986.83it/s]\n",
      "100%|██████████| 15/15 [00:00<00:00, 4816.24it/s]\n",
      "100%|██████████| 15/15 [00:00<00:00, 3007.68it/s]\n",
      "100%|██████████| 15/15 [00:00<00:00, 3763.28it/s]\n",
      "100%|██████████| 5/5 [00:00<00:00, 1252.11it/s]\n",
      "100%|██████████| 5/5 [00:00<00:00, 1671.04it/s]\n",
      "100%|██████████| 5/5 [00:00<00:00, 1002.70it/s]\n",
      "100%|██████████| 5/5 [00:00<00:00, 1682.84it/s]\n",
      "100%|██████████| 5/5 [00:00<00:00, 2507.06it/s]"
     ]
    },
    {
     "name": "stdout",
     "output_type": "stream",
     "text": [
      "{'max_geracoes': 500, 'capacidade': 5, 'vertices': 90, 'npacotes': 350, 'n_individuos': 5, 'n_caminhoes': 84, 'min_variacao': 0.001, 'strikes': 12}\n"
     ]
    },
    {
     "name": "stderr",
     "output_type": "stream",
     "text": [
      "\n",
      "100%|██████████| 5/5 [00:00<00:00, 1687.17it/s]\n",
      "100%|██████████| 5/5 [00:00<00:00, 2469.56it/s]\n",
      "100%|██████████| 5/5 [00:00<00:00, 2510.06it/s]"
     ]
    },
    {
     "name": "stdout",
     "output_type": "stream",
     "text": [
      "{'max_geracoes': 500, 'capacidade': 5, 'vertices': 90, 'npacotes': 350, 'n_individuos': 5, 'n_caminhoes': 84, 'min_variacao': 0.001, 'strikes': 9}\n"
     ]
    },
    {
     "name": "stderr",
     "output_type": "stream",
     "text": [
      "\n",
      "100%|██████████| 5/5 [00:00<00:00, 1671.30it/s]\n",
      "100%|██████████| 5/5 [00:00<00:00, 1671.04it/s]\n",
      "100%|██████████| 5/5 [00:00<00:00, 835.49it/s]\n",
      "100%|██████████| 5/5 [00:00<00:00, 1670.90it/s]"
     ]
    },
    {
     "name": "stdout",
     "output_type": "stream",
     "text": [
      "{'max_geracoes': 500, 'capacidade': 5, 'vertices': 90, 'npacotes': 350, 'n_individuos': 5, 'n_caminhoes': 84, 'min_variacao': 0.001, 'strikes': 9}\n"
     ]
    },
    {
     "name": "stderr",
     "output_type": "stream",
     "text": [
      "\n",
      "100%|██████████| 5/5 [00:00<00:00, 1254.95it/s]\n",
      "100%|██████████| 5/5 [00:00<00:00, 2472.18it/s]\n",
      "100%|██████████| 5/5 [00:00<00:00, 1655.99it/s]\n",
      "100%|██████████| 5/5 [00:00<00:00, 2348.17it/s]\n",
      "100%|██████████| 5/5 [00:00<00:00, 2461.45it/s]\n",
      "100%|██████████| 5/5 [00:00<00:00, 1691.39it/s]\n",
      "100%|██████████| 5/5 [00:00<00:00, 2506.16it/s]\n",
      "100%|██████████| 5/5 [00:00<00:00, 1651.56it/s]"
     ]
    },
    {
     "name": "stdout",
     "output_type": "stream",
     "text": [
      "{'max_geracoes': 500, 'capacidade': 5, 'vertices': 90, 'npacotes': 350, 'n_individuos': 5, 'n_caminhoes': 84, 'min_variacao': 0.005, 'strikes': 9}\n"
     ]
    },
    {
     "name": "stderr",
     "output_type": "stream",
     "text": [
      "\n",
      "100%|██████████| 5/5 [00:00<00:00, 2506.16it/s]\n",
      "100%|██████████| 5/5 [00:00<00:00, 1665.33it/s]\n",
      "100%|██████████| 5/5 [00:00<00:00, 2508.25it/s]\n",
      "100%|██████████| 5/5 [00:00<00:00, 2506.76it/s]\n",
      "100%|██████████| 5/5 [00:00<00:00, 1671.04it/s]\n",
      "100%|██████████| 5/5 [00:00<00:00, 2516.38it/s]\n",
      "100%|██████████| 5/5 [00:00<00:00, 1670.37it/s]\n",
      "100%|██████████| 5/5 [00:00<00:00, 1686.49it/s]\n",
      "100%|██████████| 5/5 [00:00<00:00, 1672.64it/s]\n",
      "100%|██████████| 5/5 [00:00<00:00, 2471.60it/s]\n",
      "100%|██████████| 5/5 [00:00<00:00, 1671.04it/s]\n",
      "100%|██████████| 5/5 [00:00<00:00, 1671.17it/s]\n",
      "100%|██████████| 5/5 [00:00<00:00, 1687.17it/s]\n",
      "100%|██████████| 5/5 [00:00<00:00, 1672.37it/s]\n",
      "100%|██████████| 5/5 [00:00<00:00, 1655.86it/s]\n",
      "100%|██████████| 5/5 [00:00<00:00, 2482.42it/s]\n",
      "100%|██████████| 5/5 [00:00<00:00, 2497.80it/s]\n",
      "100%|██████████| 5/5 [00:00<00:00, 1653.64it/s]\n",
      "100%|██████████| 5/5 [00:00<00:00, 2505.86it/s]\n",
      "100%|██████████| 5/5 [00:00<00:00, 2467.53it/s]\n",
      "100%|██████████| 5/5 [00:00<00:00, 2505.56it/s]\n",
      "100%|██████████| 5/5 [00:00<00:00, 2504.36it/s]\n",
      "100%|██████████| 5/5 [00:00<00:00, 2506.76it/s]\n",
      "100%|██████████| 5/5 [00:00<00:00, 1670.51it/s]\n",
      "100%|██████████| 5/5 [00:00<00:00, 1253.45it/s]\n",
      "100%|██████████| 5/5 [00:00<00:00, 1670.51it/s]\n",
      "100%|██████████| 5/5 [00:00<00:00, 1262.05it/s]\n",
      "100%|██████████| 5/5 [00:00<00:00, 2507.66it/s]\n",
      "100%|██████████| 10/10 [00:00<00:00, 2506.31it/s]\n",
      "100%|██████████| 10/10 [00:00<00:00, 2481.98it/s]"
     ]
    },
    {
     "name": "stdout",
     "output_type": "stream",
     "text": [
      "{'max_geracoes': 500, 'capacidade': 5, 'vertices': 90, 'npacotes': 350, 'n_individuos': 10, 'n_caminhoes': 84, 'min_variacao': 0.001, 'strikes': 3}\n"
     ]
    },
    {
     "name": "stderr",
     "output_type": "stream",
     "text": [
      "\n",
      "100%|██████████| 10/10 [00:00<00:00, 2203.01it/s]"
     ]
    },
    {
     "name": "stdout",
     "output_type": "stream",
     "text": [
      "{'max_geracoes': 500, 'capacidade': 5, 'vertices': 90, 'npacotes': 350, 'n_individuos': 10, 'n_caminhoes': 84, 'min_variacao': 0.001, 'strikes': 6}\n"
     ]
    },
    {
     "name": "stderr",
     "output_type": "stream",
     "text": [
      "\n",
      "100%|██████████| 10/10 [00:00<00:00, 2485.37it/s]"
     ]
    },
    {
     "name": "stdout",
     "output_type": "stream",
     "text": [
      "{'max_geracoes': 500, 'capacidade': 5, 'vertices': 90, 'npacotes': 350, 'n_individuos': 10, 'n_caminhoes': 84, 'min_variacao': 0.001, 'strikes': 9}\n"
     ]
    },
    {
     "name": "stderr",
     "output_type": "stream",
     "text": [
      "\n",
      "100%|██████████| 10/10 [00:00<00:00, 2506.91it/s]"
     ]
    },
    {
     "name": "stdout",
     "output_type": "stream",
     "text": [
      "{'max_geracoes': 500, 'capacidade': 5, 'vertices': 90, 'npacotes': 350, 'n_individuos': 10, 'n_caminhoes': 84, 'min_variacao': 0.001, 'strikes': 12}\n"
     ]
    },
    {
     "name": "stderr",
     "output_type": "stream",
     "text": [
      "\n",
      "100%|██████████| 10/10 [00:00<00:00, 1946.76it/s]"
     ]
    },
    {
     "name": "stdout",
     "output_type": "stream",
     "text": [
      "{'max_geracoes': 500, 'capacidade': 5, 'vertices': 90, 'npacotes': 350, 'n_individuos': 10, 'n_caminhoes': 84, 'min_variacao': 0.001, 'strikes': 3}\n"
     ]
    },
    {
     "name": "stderr",
     "output_type": "stream",
     "text": [
      "\n",
      "100%|██████████| 10/10 [00:00<00:00, 1671.37it/s]"
     ]
    },
    {
     "name": "stdout",
     "output_type": "stream",
     "text": [
      "{'max_geracoes': 500, 'capacidade': 5, 'vertices': 90, 'npacotes': 350, 'n_individuos': 10, 'n_caminhoes': 84, 'min_variacao': 0.001, 'strikes': 6}\n"
     ]
    },
    {
     "name": "stderr",
     "output_type": "stream",
     "text": [
      "\n",
      "100%|██████████| 10/10 [00:00<00:00, 2009.15it/s]\n",
      "100%|██████████| 10/10 [00:00<00:00, 1680.28it/s]"
     ]
    },
    {
     "name": "stdout",
     "output_type": "stream",
     "text": [
      "{'max_geracoes': 500, 'capacidade': 5, 'vertices': 90, 'npacotes': 350, 'n_individuos': 10, 'n_caminhoes': 84, 'min_variacao': 0.001, 'strikes': 12}\n"
     ]
    },
    {
     "name": "stderr",
     "output_type": "stream",
     "text": [
      "\n",
      "100%|██████████| 10/10 [00:00<00:00, 2014.65it/s]\n",
      "100%|██████████| 10/10 [00:00<00:00, 2505.71it/s]"
     ]
    },
    {
     "name": "stdout",
     "output_type": "stream",
     "text": [
      "{'max_geracoes': 500, 'capacidade': 5, 'vertices': 90, 'npacotes': 350, 'n_individuos': 10, 'n_caminhoes': 84, 'min_variacao': 0.001, 'strikes': 6}\n"
     ]
    },
    {
     "name": "stderr",
     "output_type": "stream",
     "text": [
      "\n",
      "100%|██████████| 10/10 [00:00<00:00, 1994.91it/s]\n",
      "100%|██████████| 10/10 [00:00<00:00, 2469.85it/s]"
     ]
    },
    {
     "name": "stdout",
     "output_type": "stream",
     "text": [
      "{'max_geracoes': 500, 'capacidade': 5, 'vertices': 90, 'npacotes': 350, 'n_individuos': 10, 'n_caminhoes': 84, 'min_variacao': 0.001, 'strikes': 12}\n"
     ]
    },
    {
     "name": "stderr",
     "output_type": "stream",
     "text": [
      "\n",
      "100%|██████████| 10/10 [00:00<00:00, 2005.40it/s]"
     ]
    },
    {
     "name": "stdout",
     "output_type": "stream",
     "text": [
      "{'max_geracoes': 500, 'capacidade': 5, 'vertices': 90, 'npacotes': 350, 'n_individuos': 10, 'n_caminhoes': 84, 'min_variacao': 0.005, 'strikes': 3}\n"
     ]
    },
    {
     "name": "stderr",
     "output_type": "stream",
     "text": [
      "\n",
      "100%|██████████| 10/10 [00:00<00:00, 2529.43it/s]\n",
      "100%|██████████| 10/10 [00:00<00:00, 2483.60it/s]\n",
      "100%|██████████| 10/10 [00:00<00:00, 2016.69it/s]"
     ]
    },
    {
     "name": "stdout",
     "output_type": "stream",
     "text": [
      "{'max_geracoes': 500, 'capacidade': 5, 'vertices': 90, 'npacotes': 350, 'n_individuos': 10, 'n_caminhoes': 84, 'min_variacao': 0.005, 'strikes': 12}\n"
     ]
    },
    {
     "name": "stderr",
     "output_type": "stream",
     "text": [
      "\n",
      "100%|██████████| 10/10 [00:00<00:00, 1673.57it/s]\n",
      "100%|██████████| 10/10 [00:00<00:00, 1673.97it/s]\n"
     ]
    },
    {
     "name": "stdout",
     "output_type": "stream",
     "text": [
      "{'max_geracoes': 500, 'capacidade': 5, 'vertices': 90, 'npacotes': 350, 'n_individuos': 10, 'n_caminhoes': 84, 'min_variacao': 0.005, 'strikes': 9}\n"
     ]
    },
    {
     "name": "stderr",
     "output_type": "stream",
     "text": [
      "100%|██████████| 10/10 [00:00<00:00, 2491.72it/s]\n",
      "100%|██████████| 10/10 [00:00<00:00, 2005.12it/s]\n",
      "100%|██████████| 10/10 [00:00<00:00, 2489.94it/s]"
     ]
    },
    {
     "name": "stdout",
     "output_type": "stream",
     "text": [
      "{'max_geracoes': 500, 'capacidade': 5, 'vertices': 90, 'npacotes': 350, 'n_individuos': 10, 'n_caminhoes': 84, 'min_variacao': 0.005, 'strikes': 3}\n"
     ]
    },
    {
     "name": "stderr",
     "output_type": "stream",
     "text": [
      "\n",
      "100%|██████████| 10/10 [00:00<00:00, 2526.84it/s]\n",
      "100%|██████████| 10/10 [00:00<00:00, 2003.39it/s]\n",
      "100%|██████████| 10/10 [00:00<00:00, 2003.97it/s]\n",
      "100%|██████████| 10/10 [00:00<00:00, 2490.09it/s]\n",
      "100%|██████████| 10/10 [00:00<00:00, 2209.74it/s]\n",
      "100%|██████████| 10/10 [00:00<00:00, 2005.50it/s]\n",
      "100%|██████████| 10/10 [00:00<00:00, 2002.05it/s]"
     ]
    },
    {
     "name": "stdout",
     "output_type": "stream",
     "text": [
      "{'max_geracoes': 500, 'capacidade': 5, 'vertices': 90, 'npacotes': 350, 'n_individuos': 10, 'n_caminhoes': 84, 'min_variacao': 0.01, 'strikes': 12}\n"
     ]
    },
    {
     "name": "stderr",
     "output_type": "stream",
     "text": [
      "\n",
      "100%|██████████| 10/10 [00:00<00:00, 2005.69it/s]"
     ]
    },
    {
     "name": "stdout",
     "output_type": "stream",
     "text": [
      "{'max_geracoes': 500, 'capacidade': 5, 'vertices': 90, 'npacotes': 350, 'n_individuos': 10, 'n_caminhoes': 84, 'min_variacao': 0.01, 'strikes': 3}\n"
     ]
    },
    {
     "name": "stderr",
     "output_type": "stream",
     "text": [
      "\n",
      "100%|██████████| 10/10 [00:00<00:00, 1432.53it/s]\n",
      "100%|██████████| 10/10 [00:00<00:00, 2030.84it/s]\n",
      "100%|██████████| 10/10 [00:00<00:00, 1993.59it/s]"
     ]
    },
    {
     "name": "stdout",
     "output_type": "stream",
     "text": [
      "{'max_geracoes': 500, 'capacidade': 5, 'vertices': 90, 'npacotes': 350, 'n_individuos': 10, 'n_caminhoes': 84, 'min_variacao': 0.01, 'strikes': 12}\n"
     ]
    },
    {
     "name": "stderr",
     "output_type": "stream",
     "text": [
      "\n",
      "100%|██████████| 10/10 [00:00<00:00, 1432.87it/s]\n",
      "100%|██████████| 10/10 [00:00<00:00, 1432.24it/s]\n",
      "100%|██████████| 10/10 [00:00<00:00, 2002.72it/s]\n",
      "100%|██████████| 10/10 [00:00<00:00, 2005.31it/s]\n",
      "100%|██████████| 10/10 [00:00<00:00, 1859.59it/s]\n",
      "100%|██████████| 10/10 [00:00<00:00, 1994.15it/s]\n",
      "100%|██████████| 10/10 [00:00<00:00, 2501.22it/s]\n",
      "100%|██████████| 10/10 [00:00<00:00, 1990.65it/s]\n",
      "100%|██████████| 10/10 [00:00<00:00, 36.19it/s]\n",
      "100%|██████████| 10/10 [00:00<00:00, 2483.60it/s]\n",
      "100%|██████████| 10/10 [00:00<00:00, 2005.40it/s]\n",
      "100%|██████████| 10/10 [00:00<00:00, 2015.91it/s]\n",
      "100%|██████████| 10/10 [00:00<00:00, 1990.84it/s]\n",
      "100%|██████████| 10/10 [00:00<00:00, 1992.16it/s]\n",
      "100%|██████████| 10/10 [00:00<00:00, 1994.34it/s]\n",
      "100%|██████████| 15/15 [00:00<00:00, 1887.68it/s]\n",
      "100%|██████████| 15/15 [00:00<00:00, 2148.28it/s]"
     ]
    },
    {
     "name": "stdout",
     "output_type": "stream",
     "text": [
      "{'max_geracoes': 500, 'capacidade': 5, 'vertices': 90, 'npacotes': 350, 'n_individuos': 15, 'n_caminhoes': 84, 'min_variacao': 0.001, 'strikes': 3}\n"
     ]
    },
    {
     "name": "stderr",
     "output_type": "stream",
     "text": [
      "\n",
      "100%|██████████| 15/15 [00:00<00:00, 2141.55it/s]\n",
      "100%|██████████| 15/15 [00:00<00:00, 2151.07it/s]"
     ]
    },
    {
     "name": "stdout",
     "output_type": "stream",
     "text": [
      "{'max_geracoes': 500, 'capacidade': 5, 'vertices': 90, 'npacotes': 350, 'n_individuos': 15, 'n_caminhoes': 84, 'min_variacao': 0.001, 'strikes': 9}\n"
     ]
    },
    {
     "name": "stderr",
     "output_type": "stream",
     "text": [
      "\n",
      "100%|██████████| 15/15 [00:00<00:00, 1882.65it/s]"
     ]
    },
    {
     "name": "stdout",
     "output_type": "stream",
     "text": [
      "{'max_geracoes': 500, 'capacidade': 5, 'vertices': 90, 'npacotes': 350, 'n_individuos': 15, 'n_caminhoes': 84, 'min_variacao': 0.001, 'strikes': 12}\n"
     ]
    },
    {
     "name": "stderr",
     "output_type": "stream",
     "text": [
      "\n",
      "100%|██████████| 15/15 [00:00<00:00, 2143.09it/s]"
     ]
    },
    {
     "name": "stdout",
     "output_type": "stream",
     "text": [
      "{'max_geracoes': 500, 'capacidade': 5, 'vertices': 90, 'npacotes': 350, 'n_individuos': 15, 'n_caminhoes': 84, 'min_variacao': 0.001, 'strikes': 3}\n"
     ]
    },
    {
     "name": "stderr",
     "output_type": "stream",
     "text": [
      "\n",
      "100%|██████████| 15/15 [00:00<00:00, 2151.07it/s]"
     ]
    },
    {
     "name": "stdout",
     "output_type": "stream",
     "text": [
      "{'max_geracoes': 500, 'capacidade': 5, 'vertices': 90, 'npacotes': 350, 'n_individuos': 15, 'n_caminhoes': 84, 'min_variacao': 0.001, 'strikes': 6}\n"
     ]
    },
    {
     "name": "stderr",
     "output_type": "stream",
     "text": [
      "\n",
      "100%|██████████| 15/15 [00:00<00:00, 2148.72it/s]"
     ]
    },
    {
     "name": "stdout",
     "output_type": "stream",
     "text": [
      "{'max_geracoes': 500, 'capacidade': 5, 'vertices': 90, 'npacotes': 350, 'n_individuos': 15, 'n_caminhoes': 84, 'min_variacao': 0.001, 'strikes': 9}\n"
     ]
    },
    {
     "name": "stderr",
     "output_type": "stream",
     "text": [
      "\n",
      "100%|██████████| 15/15 [00:00<00:00, 2149.82it/s]"
     ]
    },
    {
     "name": "stdout",
     "output_type": "stream",
     "text": [
      "{'max_geracoes': 500, 'capacidade': 5, 'vertices': 90, 'npacotes': 350, 'n_individuos': 15, 'n_caminhoes': 84, 'min_variacao': 0.001, 'strikes': 12}\n"
     ]
    },
    {
     "name": "stderr",
     "output_type": "stream",
     "text": [
      "\n",
      "100%|██████████| 15/15 [00:00<00:00, 2137.70it/s]"
     ]
    },
    {
     "name": "stdout",
     "output_type": "stream",
     "text": [
      "{'max_geracoes': 500, 'capacidade': 5, 'vertices': 90, 'npacotes': 350, 'n_individuos': 15, 'n_caminhoes': 84, 'min_variacao': 0.001, 'strikes': 3}\n"
     ]
    },
    {
     "name": "stderr",
     "output_type": "stream",
     "text": [
      "\n",
      "100%|██████████| 15/15 [00:00<00:00, 2138.79it/s]"
     ]
    },
    {
     "name": "stdout",
     "output_type": "stream",
     "text": [
      "{'max_geracoes': 500, 'capacidade': 5, 'vertices': 90, 'npacotes': 350, 'n_individuos': 15, 'n_caminhoes': 84, 'min_variacao': 0.001, 'strikes': 6}\n"
     ]
    },
    {
     "name": "stderr",
     "output_type": "stream",
     "text": [
      "\n",
      "100%|██████████| 15/15 [00:00<00:00, 1254.80it/s]"
     ]
    },
    {
     "name": "stdout",
     "output_type": "stream",
     "text": [
      "{'max_geracoes': 500, 'capacidade': 5, 'vertices': 90, 'npacotes': 350, 'n_individuos': 15, 'n_caminhoes': 84, 'min_variacao': 0.001, 'strikes': 9}\n"
     ]
    },
    {
     "name": "stderr",
     "output_type": "stream",
     "text": [
      "\n",
      "100%|██████████| 15/15 [00:00<00:00, 1766.97it/s]"
     ]
    },
    {
     "name": "stdout",
     "output_type": "stream",
     "text": [
      "{'max_geracoes': 500, 'capacidade': 5, 'vertices': 90, 'npacotes': 350, 'n_individuos': 15, 'n_caminhoes': 84, 'min_variacao': 0.001, 'strikes': 12}\n"
     ]
    },
    {
     "name": "stderr",
     "output_type": "stream",
     "text": [
      "\n",
      "100%|██████████| 15/15 [00:00<00:00, 2148.50it/s]\n",
      "100%|██████████| 15/15 [00:00<00:00, 1880.07it/s]"
     ]
    },
    {
     "name": "stdout",
     "output_type": "stream",
     "text": [
      "{'max_geracoes': 500, 'capacidade': 5, 'vertices': 90, 'npacotes': 350, 'n_individuos': 15, 'n_caminhoes': 84, 'min_variacao': 0.005, 'strikes': 6}\n"
     ]
    },
    {
     "name": "stderr",
     "output_type": "stream",
     "text": [
      "\n",
      "100%|██████████| 15/15 [00:00<00:00, 1879.67it/s]"
     ]
    },
    {
     "name": "stdout",
     "output_type": "stream",
     "text": [
      "{'max_geracoes': 500, 'capacidade': 5, 'vertices': 90, 'npacotes': 350, 'n_individuos': 15, 'n_caminhoes': 84, 'min_variacao': 0.005, 'strikes': 9}\n"
     ]
    },
    {
     "name": "stderr",
     "output_type": "stream",
     "text": [
      "\n",
      "100%|██████████| 15/15 [00:00<00:00, 1880.18it/s]"
     ]
    },
    {
     "name": "stdout",
     "output_type": "stream",
     "text": [
      "{'max_geracoes': 500, 'capacidade': 5, 'vertices': 90, 'npacotes': 350, 'n_individuos': 15, 'n_caminhoes': 84, 'min_variacao': 0.005, 'strikes': 12}\n"
     ]
    },
    {
     "name": "stderr",
     "output_type": "stream",
     "text": [
      "\n",
      "100%|██████████| 15/15 [00:00<00:00, 2148.57it/s]"
     ]
    },
    {
     "name": "stdout",
     "output_type": "stream",
     "text": [
      "{'max_geracoes': 500, 'capacidade': 5, 'vertices': 90, 'npacotes': 350, 'n_individuos': 15, 'n_caminhoes': 84, 'min_variacao': 0.005, 'strikes': 3}\n"
     ]
    },
    {
     "name": "stderr",
     "output_type": "stream",
     "text": [
      "\n",
      "100%|██████████| 15/15 [00:00<00:00, 54.27it/s]\n",
      "100%|██████████| 15/15 [00:00<00:00, 1885.93it/s]"
     ]
    },
    {
     "name": "stdout",
     "output_type": "stream",
     "text": [
      "{'max_geracoes': 500, 'capacidade': 5, 'vertices': 90, 'npacotes': 350, 'n_individuos': 15, 'n_caminhoes': 84, 'min_variacao': 0.005, 'strikes': 9}\n"
     ]
    },
    {
     "name": "stderr",
     "output_type": "stream",
     "text": [
      "\n",
      "100%|██████████| 15/15 [00:00<00:00, 2148.21it/s]"
     ]
    },
    {
     "name": "stdout",
     "output_type": "stream",
     "text": [
      "{'max_geracoes': 500, 'capacidade': 5, 'vertices': 90, 'npacotes': 350, 'n_individuos': 15, 'n_caminhoes': 84, 'min_variacao': 0.005, 'strikes': 12}\n"
     ]
    },
    {
     "name": "stderr",
     "output_type": "stream",
     "text": [
      "\n",
      "100%|██████████| 15/15 [00:00<00:00, 1253.25it/s]"
     ]
    },
    {
     "name": "stdout",
     "output_type": "stream",
     "text": [
      "{'max_geracoes': 500, 'capacidade': 5, 'vertices': 90, 'npacotes': 350, 'n_individuos': 15, 'n_caminhoes': 84, 'min_variacao': 0.005, 'strikes': 3}\n"
     ]
    },
    {
     "name": "stderr",
     "output_type": "stream",
     "text": [
      "\n",
      "100%|██████████| 15/15 [00:00<00:00, 2148.87it/s]"
     ]
    },
    {
     "name": "stdout",
     "output_type": "stream",
     "text": [
      "{'max_geracoes': 500, 'capacidade': 5, 'vertices': 90, 'npacotes': 350, 'n_individuos': 15, 'n_caminhoes': 84, 'min_variacao': 0.005, 'strikes': 6}\n"
     ]
    },
    {
     "name": "stderr",
     "output_type": "stream",
     "text": [
      "\n",
      "100%|██████████| 15/15 [00:00<00:00, 1888.65it/s]\n",
      "100%|██████████| 15/15 [00:00<00:00, 2138.57it/s]\n",
      "100%|██████████| 15/15 [00:00<00:00, 1877.21it/s]\n",
      "100%|██████████| 15/15 [00:00<00:00, 1676.92it/s]\n",
      "100%|██████████| 15/15 [00:00<00:00, 1788.67it/s]\n",
      "100%|██████████| 15/15 [00:00<00:00, 2139.95it/s]\n",
      "100%|██████████| 15/15 [00:00<00:00, 2139.81it/s]\n",
      "100%|██████████| 15/15 [00:00<00:00, 1880.35it/s]\n",
      "100%|██████████| 15/15 [00:00<00:00, 2140.32it/s]\n",
      "100%|██████████| 15/15 [00:00<00:00, 2161.27it/s]\n",
      "100%|██████████| 15/15 [00:00<00:00, 2141.63it/s]\n",
      "100%|██████████| 15/15 [00:00<00:00, 2148.65it/s]\n",
      "100%|██████████| 15/15 [00:00<00:00, 2123.12it/s]\n",
      "100%|██████████| 15/15 [00:00<00:00, 2151.66it/s]\n",
      "100%|██████████| 15/15 [00:00<00:00, 2213.20it/s]\n",
      "100%|██████████| 15/15 [00:00<00:00, 2148.87it/s]\n",
      "100%|██████████| 15/15 [00:00<00:00, 2148.79it/s]\n",
      "100%|██████████| 15/15 [00:00<00:00, 2505.96it/s]\n",
      "100%|██████████| 15/15 [00:00<00:00, 2137.55it/s]\n",
      "100%|██████████| 15/15 [00:00<00:00, 2014.88it/s]\n",
      "100%|██████████| 15/15 [00:00<00:00, 2494.53it/s]\n",
      "100%|██████████| 15/15 [00:00<00:00, 2093.52it/s]\n",
      "100%|██████████| 15/15 [00:00<00:00, 1670.73it/s]\n",
      "100%|██████████| 15/15 [00:00<00:00, 2148.06it/s]\n",
      "100%|██████████| 15/15 [00:00<00:00, 2143.45it/s]\n",
      "100%|██████████| 5/5 [00:00<00:00, 1253.30it/s]\n",
      "100%|██████████| 5/5 [00:00<00:00, 1253.83it/s]\n",
      "100%|██████████| 5/5 [00:00<00:00, 1670.77it/s]"
     ]
    },
    {
     "name": "stdout",
     "output_type": "stream",
     "text": [
      "{'max_geracoes': 500, 'capacidade': 5, 'vertices': 90, 'npacotes': 500, 'n_individuos': 5, 'n_caminhoes': 120, 'min_variacao': 0.001, 'strikes': 6}\n"
     ]
    },
    {
     "name": "stderr",
     "output_type": "stream",
     "text": [
      "\n",
      "100%|██████████| 5/5 [00:00<00:00, 1614.56it/s]"
     ]
    },
    {
     "name": "stdout",
     "output_type": "stream",
     "text": [
      "{'max_geracoes': 500, 'capacidade': 5, 'vertices': 90, 'npacotes': 500, 'n_individuos': 5, 'n_caminhoes': 120, 'min_variacao': 0.001, 'strikes': 9}\n"
     ]
    },
    {
     "name": "stderr",
     "output_type": "stream",
     "text": [
      "\n",
      "100%|██████████| 5/5 [00:00<00:00, 1242.24it/s]"
     ]
    },
    {
     "name": "stdout",
     "output_type": "stream",
     "text": [
      "{'max_geracoes': 500, 'capacidade': 5, 'vertices': 90, 'npacotes': 500, 'n_individuos': 5, 'n_caminhoes': 120, 'min_variacao': 0.001, 'strikes': 12}\n"
     ]
    },
    {
     "name": "stderr",
     "output_type": "stream",
     "text": [
      "\n",
      "100%|██████████| 5/5 [00:00<00:00, 1253.38it/s]"
     ]
    },
    {
     "name": "stdout",
     "output_type": "stream",
     "text": [
      "{'max_geracoes': 500, 'capacidade': 5, 'vertices': 90, 'npacotes': 500, 'n_individuos': 5, 'n_caminhoes': 120, 'min_variacao': 0.001, 'strikes': 3}\n"
     ]
    },
    {
     "name": "stderr",
     "output_type": "stream",
     "text": [
      "\n",
      "100%|██████████| 5/5 [00:00<00:00, 1253.45it/s]\n",
      "100%|██████████| 5/5 [00:00<00:00, 1241.95it/s]\n",
      "100%|██████████| 5/5 [00:00<00:00, 1675.58it/s]\n",
      "100%|██████████| 5/5 [00:00<00:00, 1253.45it/s]\n",
      "100%|██████████| 5/5 [00:00<00:00, 1670.24it/s]\n",
      "100%|██████████| 5/5 [00:00<00:00, 1692.48it/s]"
     ]
    },
    {
     "name": "stdout",
     "output_type": "stream",
     "text": [
      "{'max_geracoes': 500, 'capacidade': 5, 'vertices': 90, 'npacotes': 500, 'n_individuos': 5, 'n_caminhoes': 120, 'min_variacao': 0.001, 'strikes': 9}\n"
     ]
    },
    {
     "name": "stderr",
     "output_type": "stream",
     "text": [
      "\n",
      "100%|██████████| 5/5 [00:00<00:00, 1651.82it/s]\n",
      "100%|██████████| 5/5 [00:00<00:00, 1000.84it/s]\n",
      "100%|██████████| 5/5 [00:00<00:00, 1669.97it/s]\n",
      "100%|██████████| 5/5 [00:00<00:00, 1670.37it/s]\n",
      "100%|██████████| 5/5 [00:00<00:00, 1243.05it/s]"
     ]
    },
    {
     "name": "stdout",
     "output_type": "stream",
     "text": [
      "{'max_geracoes': 500, 'capacidade': 5, 'vertices': 90, 'npacotes': 500, 'n_individuos': 5, 'n_caminhoes': 120, 'min_variacao': 0.005, 'strikes': 12}\n"
     ]
    },
    {
     "name": "stderr",
     "output_type": "stream",
     "text": [
      "\n",
      "100%|██████████| 5/5 [00:00<00:00, 1003.42it/s]\n",
      "100%|██████████| 5/5 [00:00<00:00, 1676.78it/s]\n",
      "100%|██████████| 5/5 [00:00<00:00, 1688.26it/s]\n",
      "100%|██████████| 5/5 [00:00<00:00, 1255.85it/s]\n",
      "100%|██████████| 5/5 [00:00<00:00, 1248.83it/s]\n",
      "100%|██████████| 5/5 [00:00<00:00, 1671.30it/s]\n",
      "100%|██████████| 5/5 [00:00<00:00, 1671.44it/s]\n",
      "100%|██████████| 5/5 [00:00<00:00, 1671.44it/s]\n",
      "100%|██████████| 5/5 [00:00<00:00, 1002.75it/s]\n",
      "100%|██████████| 5/5 [00:00<00:00, 1707.92it/s]\n",
      "100%|██████████| 5/5 [00:00<00:00, 1252.48it/s]\n",
      "100%|██████████| 5/5 [00:00<00:00, 1253.30it/s]\n",
      "100%|██████████| 5/5 [00:00<00:00, 1253.30it/s]"
     ]
    },
    {
     "name": "stdout",
     "output_type": "stream",
     "text": [
      "{'max_geracoes': 500, 'capacidade': 5, 'vertices': 90, 'npacotes': 500, 'n_individuos': 5, 'n_caminhoes': 120, 'min_variacao': 0.01, 'strikes': 3}\n"
     ]
    },
    {
     "name": "stderr",
     "output_type": "stream",
     "text": [
      "\n",
      "100%|██████████| 5/5 [00:00<00:00, 1253.38it/s]\n",
      "100%|██████████| 5/5 [00:00<00:00, 1002.03it/s]"
     ]
    },
    {
     "name": "stdout",
     "output_type": "stream",
     "text": [
      "{'max_geracoes': 500, 'capacidade': 5, 'vertices': 90, 'npacotes': 500, 'n_individuos': 5, 'n_caminhoes': 120, 'min_variacao': 0.01, 'strikes': 9}\n"
     ]
    },
    {
     "name": "stderr",
     "output_type": "stream",
     "text": [
      "\n",
      "100%|██████████| 5/5 [00:00<00:00, 1671.44it/s]\n",
      "100%|██████████| 5/5 [00:00<00:00, 1675.44it/s]\n",
      "100%|██████████| 5/5 [00:00<00:00, 1262.36it/s]\n",
      "100%|██████████| 5/5 [00:00<00:00, 1680.68it/s]\n",
      "100%|██████████| 5/5 [00:00<00:00, 1671.17it/s]\n",
      "100%|██████████| 5/5 [00:00<00:00, 1671.44it/s]\n",
      "100%|██████████| 5/5 [00:00<00:00, 1670.90it/s]\n",
      "100%|██████████| 5/5 [00:00<00:00, 1003.95it/s]\n",
      "100%|██████████| 5/5 [00:00<00:00, 1676.11it/s]\n",
      "100%|██████████| 5/5 [00:00<00:00, 1655.47it/s]\n",
      "100%|██████████| 5/5 [00:00<00:00, 1008.59it/s]\n",
      "100%|██████████| 5/5 [00:00<00:00, 1655.34it/s]\n",
      "100%|██████████| 5/5 [00:00<00:00, 1665.20it/s]\n",
      "100%|██████████| 5/5 [00:00<00:00, 1262.13it/s]\n",
      "100%|██████████| 5/5 [00:00<00:00, 1253.45it/s]\n",
      "100%|██████████| 5/5 [00:00<00:00, 1671.30it/s]\n",
      "100%|██████████| 10/10 [00:00<00:00, 1387.37it/s]\n",
      "100%|██████████| 10/10 [00:00<00:00, 1351.13it/s]\n",
      "100%|██████████| 10/10 [00:00<00:00, 1660.91it/s]"
     ]
    },
    {
     "name": "stdout",
     "output_type": "stream",
     "text": [
      "{'max_geracoes': 500, 'capacidade': 5, 'vertices': 90, 'npacotes': 500, 'n_individuos': 10, 'n_caminhoes': 120, 'min_variacao': 0.001, 'strikes': 6}\n"
     ]
    },
    {
     "name": "stderr",
     "output_type": "stream",
     "text": [
      "\n",
      "100%|██████████| 10/10 [00:00<00:00, 1426.20it/s]"
     ]
    },
    {
     "name": "stdout",
     "output_type": "stream",
     "text": [
      "{'max_geracoes': 500, 'capacidade': 5, 'vertices': 90, 'npacotes': 500, 'n_individuos': 10, 'n_caminhoes': 120, 'min_variacao': 0.001, 'strikes': 9}\n"
     ]
    },
    {
     "name": "stderr",
     "output_type": "stream",
     "text": [
      "\n",
      "100%|██████████| 10/10 [00:00<00:00, 1679.67it/s]\n",
      "100%|██████████| 10/10 [00:00<00:00, 1671.37it/s]"
     ]
    },
    {
     "name": "stdout",
     "output_type": "stream",
     "text": [
      "{'max_geracoes': 500, 'capacidade': 5, 'vertices': 90, 'npacotes': 500, 'n_individuos': 10, 'n_caminhoes': 120, 'min_variacao': 0.001, 'strikes': 3}\n"
     ]
    },
    {
     "name": "stderr",
     "output_type": "stream",
     "text": [
      "\n",
      "100%|██████████| 10/10 [00:00<00:00, 1426.88it/s]\n",
      "100%|██████████| 10/10 [00:00<00:00, 1253.23it/s]"
     ]
    },
    {
     "name": "stdout",
     "output_type": "stream",
     "text": [
      "{'max_geracoes': 500, 'capacidade': 5, 'vertices': 90, 'npacotes': 500, 'n_individuos': 10, 'n_caminhoes': 120, 'min_variacao': 0.001, 'strikes': 9}\n"
     ]
    },
    {
     "name": "stderr",
     "output_type": "stream",
     "text": [
      "\n",
      "100%|██████████| 10/10 [00:00<00:00, 1431.85it/s]"
     ]
    },
    {
     "name": "stdout",
     "output_type": "stream",
     "text": [
      "{'max_geracoes': 500, 'capacidade': 5, 'vertices': 90, 'npacotes': 500, 'n_individuos': 10, 'n_caminhoes': 120, 'min_variacao': 0.001, 'strikes': 12}\n"
     ]
    },
    {
     "name": "stderr",
     "output_type": "stream",
     "text": [
      "\n",
      "100%|██████████| 10/10 [00:00<00:00, 1432.48it/s]\n",
      "100%|██████████| 10/10 [00:00<00:00, 1663.09it/s]\n",
      "100%|██████████| 10/10 [00:00<00:00, 1662.82it/s]"
     ]
    },
    {
     "name": "stdout",
     "output_type": "stream",
     "text": [
      "{'max_geracoes': 500, 'capacidade': 5, 'vertices': 90, 'npacotes': 500, 'n_individuos': 10, 'n_caminhoes': 120, 'min_variacao': 0.001, 'strikes': 9}\n"
     ]
    },
    {
     "name": "stderr",
     "output_type": "stream",
     "text": [
      "\n",
      "100%|██████████| 10/10 [00:00<00:00, 1671.37it/s]"
     ]
    },
    {
     "name": "stdout",
     "output_type": "stream",
     "text": [
      "{'max_geracoes': 500, 'capacidade': 5, 'vertices': 90, 'npacotes': 500, 'n_individuos': 10, 'n_caminhoes': 120, 'min_variacao': 0.001, 'strikes': 12}\n"
     ]
    },
    {
     "name": "stderr",
     "output_type": "stream",
     "text": [
      "\n",
      "100%|██████████| 10/10 [00:00<00:00, 1005.37it/s]\n",
      "100%|██████████| 10/10 [00:00<00:00, 1248.60it/s]\n",
      "100%|██████████| 10/10 [00:00<00:00, 1441.59it/s]\n",
      "100%|██████████| 10/10 [00:00<00:00, 1662.76it/s]\n",
      "100%|██████████| 10/10 [00:00<00:00, 1108.99it/s]\n",
      "100%|██████████| 10/10 [00:00<00:00, 1432.77it/s]\n",
      "100%|██████████| 10/10 [00:00<00:00, 1514.08it/s]\n",
      "100%|██████████| 10/10 [00:00<00:00, 1439.86it/s]"
     ]
    },
    {
     "name": "stdout",
     "output_type": "stream",
     "text": [
      "{'max_geracoes': 500, 'capacidade': 5, 'vertices': 90, 'npacotes': 500, 'n_individuos': 10, 'n_caminhoes': 120, 'min_variacao': 0.005, 'strikes': 12}\n"
     ]
    },
    {
     "name": "stderr",
     "output_type": "stream",
     "text": [
      "\n",
      "100%|██████████| 10/10 [00:00<00:00, 1417.95it/s]\n",
      "100%|██████████| 10/10 [00:00<00:00, 1418.34it/s]\n",
      "100%|██████████| 10/10 [00:00<00:00, 1358.61it/s]"
     ]
    },
    {
     "name": "stdout",
     "output_type": "stream",
     "text": [
      "{'max_geracoes': 500, 'capacidade': 5, 'vertices': 90, 'npacotes': 500, 'n_individuos': 10, 'n_caminhoes': 120, 'min_variacao': 0.005, 'strikes': 9}\n"
     ]
    },
    {
     "name": "stderr",
     "output_type": "stream",
     "text": [
      "\n",
      "100%|██████████| 10/10 [00:00<00:00, 1291.67it/s]\n",
      "100%|██████████| 10/10 [00:00<00:00, 1426.54it/s]\n",
      "100%|██████████| 10/10 [00:00<00:00, 1417.38it/s]\n",
      "100%|██████████| 10/10 [00:00<00:00, 1433.36it/s]\n",
      "100%|██████████| 10/10 [00:00<00:00, 1671.30it/s]\n",
      "100%|██████████| 10/10 [00:00<00:00, 1673.10it/s]\n",
      "100%|██████████| 10/10 [00:00<00:00, 1432.14it/s]\n",
      "100%|██████████| 10/10 [00:00<00:00, 1671.17it/s]\n",
      "100%|██████████| 10/10 [00:00<00:00, 1432.48it/s]\n",
      "100%|██████████| 10/10 [00:00<00:00, 1434.29it/s]\n",
      "100%|██████████| 10/10 [00:00<00:00, 1663.55it/s]\n",
      "100%|██████████| 10/10 [00:00<00:00, 1663.22it/s]\n",
      "100%|██████████| 10/10 [00:00<00:00, 1253.30it/s]\n",
      "100%|██████████| 10/10 [00:00<00:00, 1670.97it/s]\n",
      "100%|██████████| 10/10 [00:00<00:00, 1431.70it/s]\n",
      "100%|██████████| 10/10 [00:00<00:00, 1671.17it/s]\n",
      "100%|██████████| 10/10 [00:00<00:00, 1671.30it/s]\n",
      "100%|██████████| 10/10 [00:00<00:00, 1461.94it/s]\n",
      "100%|██████████| 10/10 [00:00<00:00, 1432.53it/s]\n",
      "100%|██████████| 10/10 [00:00<00:00, 1671.84it/s]\n",
      "100%|██████████| 10/10 [00:00<00:00, 1432.53it/s]\n",
      "100%|██████████| 10/10 [00:00<00:00, 1684.87it/s]\n",
      "100%|██████████| 10/10 [00:00<00:00, 1436.36it/s]\n",
      "100%|██████████| 10/10 [00:00<00:00, 1427.36it/s]\n",
      "100%|██████████| 15/15 [00:00<00:00, 1367.44it/s]\n",
      "100%|██████████| 15/15 [00:00<00:00, 1503.33it/s]"
     ]
    },
    {
     "name": "stdout",
     "output_type": "stream",
     "text": [
      "{'max_geracoes': 500, 'capacidade': 5, 'vertices': 90, 'npacotes': 500, 'n_individuos': 15, 'n_caminhoes': 120, 'min_variacao': 0.001, 'strikes': 3}\n"
     ]
    },
    {
     "name": "stderr",
     "output_type": "stream",
     "text": [
      "\n",
      "100%|██████████| 15/15 [00:00<00:00, 1503.98it/s]\n",
      "100%|██████████| 15/15 [00:00<00:00, 1670.59it/s]"
     ]
    },
    {
     "name": "stdout",
     "output_type": "stream",
     "text": [
      "{'max_geracoes': 500, 'capacidade': 5, 'vertices': 90, 'npacotes': 500, 'n_individuos': 15, 'n_caminhoes': 120, 'min_variacao': 0.001, 'strikes': 9}\n"
     ]
    },
    {
     "name": "stderr",
     "output_type": "stream",
     "text": [
      "\n",
      "100%|██████████| 15/15 [00:00<00:00, 1503.80it/s]"
     ]
    },
    {
     "name": "stdout",
     "output_type": "stream",
     "text": [
      "{'max_geracoes': 500, 'capacidade': 5, 'vertices': 90, 'npacotes': 500, 'n_individuos': 15, 'n_caminhoes': 120, 'min_variacao': 0.001, 'strikes': 12}\n"
     ]
    },
    {
     "name": "stderr",
     "output_type": "stream",
     "text": [
      "\n",
      "100%|██████████| 15/15 [00:00<00:00, 1665.77it/s]\n",
      "100%|██████████| 15/15 [00:00<00:00, 1495.15it/s]"
     ]
    },
    {
     "name": "stdout",
     "output_type": "stream",
     "text": [
      "{'max_geracoes': 500, 'capacidade': 5, 'vertices': 90, 'npacotes': 500, 'n_individuos': 15, 'n_caminhoes': 120, 'min_variacao': 0.001, 'strikes': 6}\n"
     ]
    },
    {
     "name": "stderr",
     "output_type": "stream",
     "text": [
      "\n",
      "100%|██████████| 15/15 [00:00<00:00, 1671.22it/s]\n",
      "100%|██████████| 15/15 [00:00<00:00, 1492.85it/s]"
     ]
    },
    {
     "name": "stdout",
     "output_type": "stream",
     "text": [
      "{'max_geracoes': 500, 'capacidade': 5, 'vertices': 90, 'npacotes': 500, 'n_individuos': 15, 'n_caminhoes': 120, 'min_variacao': 0.001, 'strikes': 12}\n"
     ]
    },
    {
     "name": "stderr",
     "output_type": "stream",
     "text": [
      "\n",
      "100%|██████████| 15/15 [00:00<00:00, 1366.76it/s]"
     ]
    },
    {
     "name": "stdout",
     "output_type": "stream",
     "text": [
      "{'max_geracoes': 500, 'capacidade': 5, 'vertices': 90, 'npacotes': 500, 'n_individuos': 15, 'n_caminhoes': 120, 'min_variacao': 0.001, 'strikes': 3}\n"
     ]
    },
    {
     "name": "stderr",
     "output_type": "stream",
     "text": [
      "\n",
      "100%|██████████| 15/15 [00:00<00:00, 1664.45it/s]"
     ]
    },
    {
     "name": "stdout",
     "output_type": "stream",
     "text": [
      "{'max_geracoes': 500, 'capacidade': 5, 'vertices': 90, 'npacotes': 500, 'n_individuos': 15, 'n_caminhoes': 120, 'min_variacao': 0.001, 'strikes': 6}\n"
     ]
    },
    {
     "name": "stderr",
     "output_type": "stream",
     "text": [
      "\n",
      "100%|██████████| 15/15 [00:00<00:00, 1499.97it/s]"
     ]
    },
    {
     "name": "stdout",
     "output_type": "stream",
     "text": [
      "{'max_geracoes': 500, 'capacidade': 5, 'vertices': 90, 'npacotes': 500, 'n_individuos': 15, 'n_caminhoes': 120, 'min_variacao': 0.001, 'strikes': 9}\n"
     ]
    },
    {
     "name": "stderr",
     "output_type": "stream",
     "text": [
      "\n",
      "100%|██████████| 15/15 [00:00<00:00, 1256.81it/s]"
     ]
    },
    {
     "name": "stdout",
     "output_type": "stream",
     "text": [
      "{'max_geracoes': 500, 'capacidade': 5, 'vertices': 90, 'npacotes': 500, 'n_individuos': 15, 'n_caminhoes': 120, 'min_variacao': 0.001, 'strikes': 12}\n"
     ]
    },
    {
     "name": "stderr",
     "output_type": "stream",
     "text": [
      "\n",
      "100%|██████████| 15/15 [00:00<00:00, 1507.62it/s]\n",
      "100%|██████████| 15/15 [00:00<00:00, 1669.84it/s]"
     ]
    },
    {
     "name": "stdout",
     "output_type": "stream",
     "text": [
      "{'max_geracoes': 500, 'capacidade': 5, 'vertices': 90, 'npacotes': 500, 'n_individuos': 15, 'n_caminhoes': 120, 'min_variacao': 0.005, 'strikes': 6}\n"
     ]
    },
    {
     "name": "stderr",
     "output_type": "stream",
     "text": [
      "\n",
      "100%|██████████| 15/15 [00:00<00:00, 1509.65it/s]"
     ]
    },
    {
     "name": "stdout",
     "output_type": "stream",
     "text": [
      "{'max_geracoes': 500, 'capacidade': 5, 'vertices': 90, 'npacotes': 500, 'n_individuos': 15, 'n_caminhoes': 120, 'min_variacao': 0.005, 'strikes': 9}\n"
     ]
    },
    {
     "name": "stderr",
     "output_type": "stream",
     "text": [
      "\n",
      "100%|██████████| 15/15 [00:00<00:00, 1496.83it/s]\n",
      "100%|██████████| 15/15 [00:00<00:00, 1504.02it/s]"
     ]
    },
    {
     "name": "stdout",
     "output_type": "stream",
     "text": [
      "{'max_geracoes': 500, 'capacidade': 5, 'vertices': 90, 'npacotes': 500, 'n_individuos': 15, 'n_caminhoes': 120, 'min_variacao': 0.005, 'strikes': 3}\n"
     ]
    },
    {
     "name": "stderr",
     "output_type": "stream",
     "text": [
      "\n",
      "100%|██████████| 15/15 [00:00<00:00, 1367.47it/s]\n",
      "100%|██████████| 15/15 [00:00<00:00, 1156.73it/s]\n",
      "100%|██████████| 15/15 [00:00<00:00, 751.97it/s]"
     ]
    },
    {
     "name": "stdout",
     "output_type": "stream",
     "text": [
      "{'max_geracoes': 500, 'capacidade': 5, 'vertices': 90, 'npacotes': 500, 'n_individuos': 15, 'n_caminhoes': 120, 'min_variacao': 0.005, 'strikes': 12}\n"
     ]
    },
    {
     "name": "stderr",
     "output_type": "stream",
     "text": [
      "\n",
      "100%|██████████| 15/15 [00:00<00:00, 1670.33it/s]\n",
      "100%|██████████| 15/15 [00:00<00:00, 1665.82it/s]"
     ]
    },
    {
     "name": "stdout",
     "output_type": "stream",
     "text": [
      "{'max_geracoes': 500, 'capacidade': 5, 'vertices': 90, 'npacotes': 500, 'n_individuos': 15, 'n_caminhoes': 120, 'min_variacao': 0.005, 'strikes': 6}\n"
     ]
    },
    {
     "name": "stderr",
     "output_type": "stream",
     "text": [
      "\n",
      "100%|██████████| 15/15 [00:00<00:00, 1508.27it/s]\n",
      "100%|██████████| 15/15 [00:00<00:00, 1495.22it/s]"
     ]
    },
    {
     "name": "stdout",
     "output_type": "stream",
     "text": [
      "{'max_geracoes': 500, 'capacidade': 5, 'vertices': 90, 'npacotes': 500, 'n_individuos': 15, 'n_caminhoes': 120, 'min_variacao': 0.005, 'strikes': 12}\n"
     ]
    },
    {
     "name": "stderr",
     "output_type": "stream",
     "text": [
      "\n",
      "100%|██████████| 15/15 [00:00<00:00, 1499.36it/s]\n",
      "100%|██████████| 15/15 [00:00<00:00, 1370.03it/s]\n",
      "100%|██████████| 15/15 [00:00<00:00, 1504.09it/s]\n",
      "100%|██████████| 15/15 [00:00<00:00, 1428.12it/s]\n",
      "100%|██████████| 15/15 [00:00<00:00, 1768.46it/s]\n",
      "100%|██████████| 15/15 [00:00<00:00, 1499.64it/s]"
     ]
    },
    {
     "name": "stdout",
     "output_type": "stream",
     "text": [
      "{'max_geracoes': 500, 'capacidade': 5, 'vertices': 90, 'npacotes': 500, 'n_individuos': 15, 'n_caminhoes': 120, 'min_variacao': 0.01, 'strikes': 6}\n"
     ]
    },
    {
     "name": "stderr",
     "output_type": "stream",
     "text": [
      "\n",
      "100%|██████████| 15/15 [00:00<00:00, 1495.26it/s]\n",
      "100%|██████████| 15/15 [00:00<00:00, 1500.54it/s]\n",
      "100%|██████████| 15/15 [00:00<00:00, 1503.80it/s]\n",
      "100%|██████████| 15/15 [00:00<00:00, 1508.56it/s]\n",
      "100%|██████████| 15/15 [00:00<00:00, 1366.96it/s]"
     ]
    },
    {
     "name": "stdout",
     "output_type": "stream",
     "text": [
      "{'max_geracoes': 500, 'capacidade': 5, 'vertices': 90, 'npacotes': 500, 'n_individuos': 15, 'n_caminhoes': 120, 'min_variacao': 0.01, 'strikes': 9}\n"
     ]
    },
    {
     "name": "stderr",
     "output_type": "stream",
     "text": [
      "\n",
      "100%|██████████| 15/15 [00:00<00:00, 1640.15it/s]\n",
      "100%|██████████| 15/15 [00:00<00:00, 1670.86it/s]\n",
      "100%|██████████| 15/15 [00:00<00:00, 1368.84it/s]\n",
      "100%|██████████| 15/15 [00:00<00:00, 1671.17it/s]\n",
      "100%|██████████| 15/15 [00:00<00:00, 1499.89it/s]\n",
      "100%|██████████| 15/15 [00:00<00:00, 1513.13it/s]\n",
      "100%|██████████| 15/15 [00:00<00:00, 1426.83it/s]\n",
      "100%|██████████| 15/15 [00:00<00:00, 1670.46it/s]\n",
      "100%|██████████| 15/15 [00:00<00:00, 1367.23it/s]\n",
      "100%|██████████| 15/15 [00:00<00:00, 1504.02it/s]\n",
      "100%|██████████| 15/15 [00:00<00:00, 54.50it/s]\n",
      "100%|██████████| 15/15 [00:00<00:00, 1660.15it/s]\n",
      "100%|██████████| 5/5 [00:00<00:00, 983.33it/s]\n",
      "100%|██████████| 5/5 [00:00<00:00, 1004.43it/s]\n",
      "100%|██████████| 5/5 [00:00<00:00, 998.93it/s]\n",
      "100%|██████████| 5/5 [00:00<00:00, 1244.82it/s]"
     ]
    },
    {
     "name": "stdout",
     "output_type": "stream",
     "text": [
      "{'max_geracoes': 500, 'capacidade': 5, 'vertices': 90, 'npacotes': 650, 'n_individuos': 5, 'n_caminhoes': 156, 'min_variacao': 0.001, 'strikes': 9}\n"
     ]
    },
    {
     "name": "stderr",
     "output_type": "stream",
     "text": [
      "\n",
      "100%|██████████| 5/5 [00:00<00:00, 1025.60it/s]\n",
      "100%|██████████| 5/5 [00:00<00:00, 1250.99it/s]\n",
      "100%|██████████| 5/5 [00:00<00:00, 996.75it/s]"
     ]
    },
    {
     "name": "stdout",
     "output_type": "stream",
     "text": [
      "{'max_geracoes': 500, 'capacidade': 5, 'vertices': 90, 'npacotes': 650, 'n_individuos': 5, 'n_caminhoes': 156, 'min_variacao': 0.001, 'strikes': 6}\n"
     ]
    },
    {
     "name": "stderr",
     "output_type": "stream",
     "text": [
      "\n",
      "100%|██████████| 5/5 [00:00<00:00, 1005.97it/s]\n",
      "100%|██████████| 5/5 [00:00<00:00, 1243.42it/s]\n",
      "100%|██████████| 5/5 [00:00<00:00, 1248.16it/s]\n",
      "100%|██████████| 5/5 [00:00<00:00, 1242.24it/s]"
     ]
    },
    {
     "name": "stdout",
     "output_type": "stream",
     "text": [
      "{'max_geracoes': 500, 'capacidade': 5, 'vertices': 90, 'npacotes': 650, 'n_individuos': 5, 'n_caminhoes': 156, 'min_variacao': 0.001, 'strikes': 6}\n"
     ]
    },
    {
     "name": "stderr",
     "output_type": "stream",
     "text": [
      "\n",
      "100%|██████████| 5/5 [00:00<00:00, 833.96it/s]\n",
      "100%|██████████| 5/5 [00:00<00:00, 1257.66it/s]"
     ]
    },
    {
     "name": "stdout",
     "output_type": "stream",
     "text": [
      "{'max_geracoes': 500, 'capacidade': 5, 'vertices': 90, 'npacotes': 650, 'n_individuos': 5, 'n_caminhoes': 156, 'min_variacao': 0.001, 'strikes': 12}\n"
     ]
    },
    {
     "name": "stderr",
     "output_type": "stream",
     "text": [
      "\n",
      "100%|██████████| 5/5 [00:00<00:00, 1253.45it/s]\n",
      "100%|██████████| 5/5 [00:00<00:00, 1111.78it/s]\n",
      "100%|██████████| 5/5 [00:00<00:00, 996.41it/s]\n",
      "100%|██████████| 5/5 [00:00<00:00, 1252.40it/s]\n",
      "100%|██████████| 5/5 [00:00<00:00, 1002.94it/s]\n",
      "100%|██████████| 5/5 [00:00<00:00, 1001.79it/s]\n",
      "100%|██████████| 5/5 [00:00<00:00, 1244.16it/s]\n",
      "100%|██████████| 5/5 [00:00<00:00, 1253.38it/s]\n",
      "100%|██████████| 5/5 [00:00<00:00, 997.03it/s]\n",
      "100%|██████████| 5/5 [00:00<00:00, 1002.85it/s]\n",
      "100%|██████████| 5/5 [00:00<00:00, 1229.50it/s]\n",
      "100%|██████████| 5/5 [00:00<00:00, 1002.70it/s]\n",
      "100%|██████████| 5/5 [00:00<00:00, 1002.37it/s]\n",
      "100%|██████████| 5/5 [00:00<00:00, 1262.36it/s]\n",
      "100%|██████████| 5/5 [00:00<00:00, 1244.53it/s]\n",
      "100%|██████████| 5/5 [00:00<00:00, 1244.01it/s]\n",
      "100%|██████████| 5/5 [00:00<00:00, 1244.31it/s]\n",
      "100%|██████████| 5/5 [00:00<00:00, 1253.53it/s]\n",
      "100%|██████████| 5/5 [00:00<00:00, 850.39it/s]\n",
      "100%|██████████| 5/5 [00:00<00:00, 1002.70it/s]\n",
      "100%|██████████| 5/5 [00:00<00:00, 1253.45it/s]\n",
      "100%|██████████| 5/5 [00:00<00:00, 990.44it/s]\n",
      "100%|██████████| 5/5 [00:00<00:00, 1241.51it/s]\n",
      "100%|██████████| 5/5 [00:00<00:00, 1002.65it/s]\n",
      "100%|██████████| 5/5 [00:00<00:00, 1022.80it/s]\n",
      "100%|██████████| 5/5 [00:00<00:00, 996.27it/s]\n",
      "100%|██████████| 5/5 [00:00<00:00, 1252.18it/s]\n",
      "100%|██████████| 5/5 [00:00<00:00, 1005.39it/s]\n",
      "100%|██████████| 5/5 [00:00<00:00, 1253.15it/s]\n",
      "100%|██████████| 5/5 [00:00<00:00, 1244.16it/s]\n",
      "100%|██████████| 5/5 [00:00<00:00, 1253.45it/s]\n",
      "100%|██████████| 5/5 [00:00<00:00, 835.55it/s]\n",
      "100%|██████████| 5/5 [00:00<00:00, 1253.75it/s]\n",
      "100%|██████████| 5/5 [00:00<00:00, 1253.38it/s]\n",
      "100%|██████████| 5/5 [00:00<00:00, 1253.30it/s]\n",
      "100%|██████████| 10/10 [00:00<00:00, 1110.25it/s]\n",
      "100%|██████████| 10/10 [00:00<00:00, 1107.61it/s]"
     ]
    },
    {
     "name": "stdout",
     "output_type": "stream",
     "text": [
      "{'max_geracoes': 500, 'capacidade': 5, 'vertices': 90, 'npacotes': 650, 'n_individuos': 10, 'n_caminhoes': 156, 'min_variacao': 0.001, 'strikes': 3}\n"
     ]
    },
    {
     "name": "stderr",
     "output_type": "stream",
     "text": [
      "\n",
      "100%|██████████| 10/10 [00:00<00:00, 1248.90it/s]"
     ]
    },
    {
     "name": "stdout",
     "output_type": "stream",
     "text": [
      "{'max_geracoes': 500, 'capacidade': 5, 'vertices': 90, 'npacotes': 650, 'n_individuos': 10, 'n_caminhoes': 156, 'min_variacao': 0.001, 'strikes': 6}\n"
     ]
    },
    {
     "name": "stderr",
     "output_type": "stream",
     "text": [
      "\n",
      "100%|██████████| 10/10 [00:00<00:00, 1248.90it/s]\n",
      "100%|██████████| 10/10 [00:00<00:00, 1244.12it/s]"
     ]
    },
    {
     "name": "stdout",
     "output_type": "stream",
     "text": [
      "{'max_geracoes': 500, 'capacidade': 5, 'vertices': 90, 'npacotes': 650, 'n_individuos': 10, 'n_caminhoes': 156, 'min_variacao': 0.001, 'strikes': 12}\n"
     ]
    },
    {
     "name": "stderr",
     "output_type": "stream",
     "text": [
      "\n",
      "100%|██████████| 10/10 [00:00<00:00, 1248.97it/s]"
     ]
    },
    {
     "name": "stdout",
     "output_type": "stream",
     "text": [
      "{'max_geracoes': 500, 'capacidade': 5, 'vertices': 90, 'npacotes': 650, 'n_individuos': 10, 'n_caminhoes': 156, 'min_variacao': 0.001, 'strikes': 3}\n"
     ]
    },
    {
     "name": "stderr",
     "output_type": "stream",
     "text": [
      "\n",
      "100%|██████████| 10/10 [00:00<00:00, 771.11it/s]"
     ]
    },
    {
     "name": "stdout",
     "output_type": "stream",
     "text": [
      "{'max_geracoes': 500, 'capacidade': 5, 'vertices': 90, 'npacotes': 650, 'n_individuos': 10, 'n_caminhoes': 156, 'min_variacao': 0.001, 'strikes': 6}\n"
     ]
    },
    {
     "name": "stderr",
     "output_type": "stream",
     "text": [
      "\n"
     ]
    },
    {
     "name": "stdout",
     "output_type": "stream",
     "text": [
      "{'max_geracoes': 500, 'capacidade': 5, 'vertices': 90, 'npacotes': 650, 'n_individuos': 10, 'n_caminhoes': 156, 'min_variacao': 0.001, 'strikes': 9}\n"
     ]
    },
    {
     "name": "stderr",
     "output_type": "stream",
     "text": [
      "100%|██████████| 10/10 [00:00<00:00, 1110.78it/s]\n",
      "100%|██████████| 10/10 [00:00<00:00, 1243.60it/s]"
     ]
    },
    {
     "name": "stdout",
     "output_type": "stream",
     "text": [
      "{'max_geracoes': 500, 'capacidade': 5, 'vertices': 90, 'npacotes': 650, 'n_individuos': 10, 'n_caminhoes': 156, 'min_variacao': 0.001, 'strikes': 12}\n"
     ]
    },
    {
     "name": "stderr",
     "output_type": "stream",
     "text": [
      "\n",
      "100%|██████████| 10/10 [00:00<00:00, 772.35it/s]\n",
      "100%|██████████| 10/10 [00:00<00:00, 772.63it/s]"
     ]
    },
    {
     "name": "stdout",
     "output_type": "stream",
     "text": [
      "{'max_geracoes': 500, 'capacidade': 5, 'vertices': 90, 'npacotes': 650, 'n_individuos': 10, 'n_caminhoes': 156, 'min_variacao': 0.001, 'strikes': 6}\n"
     ]
    },
    {
     "name": "stderr",
     "output_type": "stream",
     "text": [
      "\n",
      "100%|██████████| 10/10 [00:00<00:00, 1117.88it/s]"
     ]
    },
    {
     "name": "stdout",
     "output_type": "stream",
     "text": [
      "{'max_geracoes': 500, 'capacidade': 5, 'vertices': 90, 'npacotes': 650, 'n_individuos': 10, 'n_caminhoes': 156, 'min_variacao': 0.001, 'strikes': 9}\n"
     ]
    },
    {
     "name": "stderr",
     "output_type": "stream",
     "text": [
      "\n",
      "100%|██████████| 10/10 [00:00<00:00, 1253.34it/s]"
     ]
    },
    {
     "name": "stdout",
     "output_type": "stream",
     "text": [
      "{'max_geracoes': 500, 'capacidade': 5, 'vertices': 90, 'npacotes': 650, 'n_individuos': 10, 'n_caminhoes': 156, 'min_variacao': 0.001, 'strikes': 12}\n"
     ]
    },
    {
     "name": "stderr",
     "output_type": "stream",
     "text": [
      "\n",
      "100%|██████████| 10/10 [00:00<00:00, 1106.73it/s]\n",
      "100%|██████████| 10/10 [00:00<00:00, 1113.94it/s]\n",
      "100%|██████████| 10/10 [00:00<00:00, 1247.27it/s]\n",
      "100%|██████████| 10/10 [00:00<00:00, 1253.08it/s]\n",
      "100%|██████████| 10/10 [00:00<00:00, 1120.96it/s]\n",
      "100%|██████████| 10/10 [00:00<00:00, 1252.89it/s]\n",
      "100%|██████████| 10/10 [00:00<00:00, 1248.86it/s]\n",
      "100%|██████████| 10/10 [00:00<00:00, 1002.22it/s]\n",
      "100%|██████████| 10/10 [00:00<00:00, 1253.75it/s]\n",
      "100%|██████████| 10/10 [00:00<00:00, 1232.75it/s]\n",
      "100%|██████████| 10/10 [00:00<00:00, 835.25it/s]\n",
      "100%|██████████| 10/10 [00:00<00:00, 1001.82it/s]\n",
      "100%|██████████| 10/10 [00:00<00:00, 1435.18it/s]\n",
      "100%|██████████| 10/10 [00:00<00:00, 1246.19it/s]\n",
      "100%|██████████| 10/10 [00:00<00:00, 1253.23it/s]\n",
      "100%|██████████| 10/10 [00:00<00:00, 1110.51it/s]\n",
      "100%|██████████| 10/10 [00:00<00:00, 1110.37it/s]\n",
      "100%|██████████| 10/10 [00:00<00:00, 835.34it/s]\n",
      "100%|██████████| 10/10 [00:00<00:00, 1432.82it/s]\n",
      "100%|██████████| 10/10 [00:00<00:00, 1253.45it/s]\n",
      "100%|██████████| 10/10 [00:00<00:00, 1248.30it/s]\n",
      "100%|██████████| 10/10 [00:00<00:00, 1246.71it/s]\n",
      "100%|██████████| 10/10 [00:00<00:00, 1253.19it/s]\n",
      "100%|██████████| 10/10 [00:00<00:00, 1254.65it/s]\n",
      "100%|██████████| 10/10 [00:00<00:00, 1248.94it/s]\n",
      "100%|██████████| 10/10 [00:00<00:00, 1253.38it/s]\n",
      "100%|██████████| 10/10 [00:00<00:00, 1114.08it/s]\n",
      "100%|██████████| 10/10 [00:00<00:00, 1253.34it/s]\n",
      "100%|██████████| 10/10 [00:00<00:00, 1113.11it/s]\n",
      "100%|██████████| 10/10 [00:00<00:00, 1246.19it/s]\n",
      "100%|██████████| 10/10 [00:00<00:00, 1228.85it/s]\n",
      "100%|██████████| 10/10 [00:00<00:00, 1114.88it/s]\n",
      "100%|██████████| 10/10 [00:00<00:00, 1253.34it/s]\n",
      "100%|██████████| 10/10 [00:00<00:00, 1113.97it/s]\n",
      "100%|██████████| 10/10 [00:00<00:00, 1243.86it/s]\n",
      "100%|██████████| 15/15 [00:00<00:00, 1253.28it/s]\n",
      "100%|██████████| 15/15 [00:00<00:00, 1157.01it/s]\n",
      "100%|██████████| 15/15 [00:00<00:00, 1151.21it/s]"
     ]
    },
    {
     "name": "stdout",
     "output_type": "stream",
     "text": [
      "{'max_geracoes': 500, 'capacidade': 5, 'vertices': 90, 'npacotes': 650, 'n_individuos': 15, 'n_caminhoes': 156, 'min_variacao': 0.001, 'strikes': 6}\n"
     ]
    },
    {
     "name": "stderr",
     "output_type": "stream",
     "text": [
      "\n",
      "100%|██████████| 15/15 [00:00<00:00, 1150.68it/s]"
     ]
    },
    {
     "name": "stdout",
     "output_type": "stream",
     "text": [
      "{'max_geracoes': 500, 'capacidade': 5, 'vertices': 90, 'npacotes': 650, 'n_individuos': 15, 'n_caminhoes': 156, 'min_variacao': 0.001, 'strikes': 9}\n"
     ]
    },
    {
     "name": "stderr",
     "output_type": "stream",
     "text": [
      "\n",
      "100%|██████████| 15/15 [00:00<00:00, 1157.11it/s]"
     ]
    },
    {
     "name": "stdout",
     "output_type": "stream",
     "text": [
      "{'max_geracoes': 500, 'capacidade': 5, 'vertices': 90, 'npacotes': 650, 'n_individuos': 15, 'n_caminhoes': 156, 'min_variacao': 0.001, 'strikes': 12}\n"
     ]
    },
    {
     "name": "stderr",
     "output_type": "stream",
     "text": [
      "\n",
      "100%|██████████| 15/15 [00:00<00:00, 1247.09it/s]"
     ]
    },
    {
     "name": "stdout",
     "output_type": "stream",
     "text": [
      "{'max_geracoes': 500, 'capacidade': 5, 'vertices': 90, 'npacotes': 650, 'n_individuos': 15, 'n_caminhoes': 156, 'min_variacao': 0.001, 'strikes': 3}\n"
     ]
    },
    {
     "name": "stderr",
     "output_type": "stream",
     "text": [
      "\n",
      "100%|██████████| 15/15 [00:00<00:00, 1250.24it/s]\n",
      "100%|██████████| 15/15 [00:00<00:00, 1157.73it/s]"
     ]
    },
    {
     "name": "stdout",
     "output_type": "stream",
     "text": [
      "{'max_geracoes': 500, 'capacidade': 5, 'vertices': 90, 'npacotes': 650, 'n_individuos': 15, 'n_caminhoes': 156, 'min_variacao': 0.001, 'strikes': 9}\n"
     ]
    },
    {
     "name": "stderr",
     "output_type": "stream",
     "text": [
      "\n",
      "100%|██████████| 15/15 [00:00<00:00, 1156.52it/s]"
     ]
    },
    {
     "name": "stdout",
     "output_type": "stream",
     "text": [
      "{'max_geracoes': 500, 'capacidade': 5, 'vertices': 90, 'npacotes': 650, 'n_individuos': 15, 'n_caminhoes': 156, 'min_variacao': 0.001, 'strikes': 12}\n"
     ]
    },
    {
     "name": "stderr",
     "output_type": "stream",
     "text": [
      "\n",
      "100%|██████████| 15/15 [00:00<00:00, 1253.30it/s]\n",
      "100%|██████████| 15/15 [00:00<00:00, 1250.26it/s]\n",
      "100%|██████████| 15/15 [00:00<00:00, 1151.63it/s]"
     ]
    },
    {
     "name": "stdout",
     "output_type": "stream",
     "text": [
      "{'max_geracoes': 500, 'capacidade': 5, 'vertices': 90, 'npacotes': 650, 'n_individuos': 15, 'n_caminhoes': 156, 'min_variacao': 0.001, 'strikes': 9}\n"
     ]
    },
    {
     "name": "stderr",
     "output_type": "stream",
     "text": [
      "\n",
      "100%|██████████| 15/15 [00:00<00:00, 1076.40it/s]"
     ]
    },
    {
     "name": "stdout",
     "output_type": "stream",
     "text": [
      "{'max_geracoes': 500, 'capacidade': 5, 'vertices': 90, 'npacotes': 650, 'n_individuos': 15, 'n_caminhoes': 156, 'min_variacao': 0.001, 'strikes': 12}\n"
     ]
    },
    {
     "name": "stderr",
     "output_type": "stream",
     "text": [
      "\n",
      "100%|██████████| 15/15 [00:00<00:00, 1225.88it/s]\n",
      "100%|██████████| 15/15 [00:00<00:00, 1257.34it/s]\n",
      "100%|██████████| 15/15 [00:00<00:00, 1250.44it/s]\n",
      "100%|██████████| 15/15 [00:00<00:00, 1253.53it/s]\n",
      "100%|██████████| 15/15 [00:00<00:00, 1253.13it/s]\n",
      "100%|██████████| 15/15 [00:00<00:00, 1036.89it/s]"
     ]
    },
    {
     "name": "stdout",
     "output_type": "stream",
     "text": [
      "{'max_geracoes': 500, 'capacidade': 5, 'vertices': 90, 'npacotes': 650, 'n_individuos': 15, 'n_caminhoes': 156, 'min_variacao': 0.005, 'strikes': 6}\n"
     ]
    },
    {
     "name": "stderr",
     "output_type": "stream",
     "text": [
      "\n",
      "100%|██████████| 15/15 [00:00<00:00, 1158.46it/s]\n",
      "100%|██████████| 15/15 [00:00<00:00, 936.84it/s]\n",
      "100%|██████████| 15/15 [00:00<00:00, 1155.46it/s]\n",
      "100%|██████████| 15/15 [00:00<00:00, 1200.57it/s]\n",
      "100%|██████████| 15/15 [00:00<00:00, 1112.53it/s]"
     ]
    },
    {
     "name": "stdout",
     "output_type": "stream",
     "text": [
      "{'max_geracoes': 500, 'capacidade': 5, 'vertices': 90, 'npacotes': 650, 'n_individuos': 15, 'n_caminhoes': 156, 'min_variacao': 0.005, 'strikes': 9}\n"
     ]
    },
    {
     "name": "stderr",
     "output_type": "stream",
     "text": [
      "\n",
      "100%|██████████| 15/15 [00:00<00:00, 1157.03it/s]\n",
      "100%|██████████| 15/15 [00:00<00:00, 1155.16it/s]\n",
      "100%|██████████| 15/15 [00:00<00:00, 1156.96it/s]\n",
      "100%|██████████| 15/15 [00:00<00:00, 1154.12it/s]\n",
      "100%|██████████| 15/15 [00:00<00:00, 1152.79it/s]\n",
      "100%|██████████| 15/15 [00:00<00:00, 1157.09it/s]\n",
      "100%|██████████| 15/15 [00:00<00:00, 1119.83it/s]\n",
      "100%|██████████| 15/15 [00:00<00:00, 1156.90it/s]\n",
      "100%|██████████| 15/15 [00:00<00:00, 1258.82it/s]\n",
      "100%|██████████| 15/15 [00:00<00:00, 1157.01it/s]\n",
      "100%|██████████| 15/15 [00:00<00:00, 1002.51it/s]\n",
      "100%|██████████| 15/15 [00:00<00:00, 1156.94it/s]\n",
      "100%|██████████| 15/15 [00:00<00:00, 1253.05it/s]\n",
      "100%|██████████| 15/15 [00:00<00:00, 1254.70it/s]\n",
      "100%|██████████| 15/15 [00:00<00:00, 1249.92it/s]\n",
      "100%|██████████| 15/15 [00:00<00:00, 838.96it/s]\n",
      "100%|██████████| 15/15 [00:00<00:00, 1157.26it/s]\n",
      "100%|██████████| 15/15 [00:00<00:00, 1156.90it/s]\n",
      "100%|██████████| 15/15 [00:00<00:00, 1153.87it/s]\n",
      "100%|██████████| 15/15 [00:00<00:00, 1250.41it/s]\n",
      "100%|██████████| 15/15 [00:00<00:00, 834.54it/s]\n",
      "100%|██████████| 15/15 [00:00<00:00, 1256.28it/s]\n",
      "100%|██████████| 15/15 [00:00<00:00, 1157.01it/s]\n",
      "100%|██████████| 15/15 [00:00<00:00, 1155.46it/s]\n",
      "100%|██████████| 5/5 [00:00<00:00, 979.11it/s]\n",
      "100%|██████████| 5/5 [00:00<00:00, 996.13it/s]\n",
      "100%|██████████| 5/5 [00:00<00:00, 630.13it/s]\n",
      "100%|██████████| 5/5 [00:00<00:00, 708.45it/s]\n",
      "100%|██████████| 5/5 [00:00<00:00, 1004.14it/s]\n",
      "100%|██████████| 5/5 [00:00<00:00, 1002.56it/s]"
     ]
    },
    {
     "name": "stdout",
     "output_type": "stream",
     "text": [
      "{'max_geracoes': 500, 'capacidade': 5, 'vertices': 90, 'npacotes': 800, 'n_individuos': 5, 'n_caminhoes': 192, 'min_variacao': 0.001, 'strikes': 3}\n"
     ]
    },
    {
     "name": "stderr",
     "output_type": "stream",
     "text": [
      "\n",
      "100%|██████████| 5/5 [00:00<00:00, 994.76it/s]\n",
      "100%|██████████| 5/5 [00:00<00:00, 835.72it/s]\n",
      "100%|██████████| 5/5 [00:00<00:00, 830.82it/s]\n",
      "100%|██████████| 5/5 [00:00<00:00, 1002.70it/s]\n",
      "100%|██████████| 5/5 [00:00<00:00, 1002.70it/s]\n",
      "100%|██████████| 5/5 [00:00<00:00, 1002.80it/s]\n",
      "100%|██████████| 5/5 [00:00<00:00, 1002.65it/s]\n",
      "100%|██████████| 5/5 [00:00<00:00, 996.98it/s]\n",
      "100%|██████████| 5/5 [00:00<00:00, 1002.65it/s]\n",
      "100%|██████████| 5/5 [00:00<00:00, 835.62it/s]\n",
      "100%|██████████| 5/5 [00:00<00:00, 997.93it/s]\n",
      "100%|██████████| 5/5 [00:00<00:00, 716.24it/s]\n",
      "100%|██████████| 5/5 [00:00<00:00, 831.35it/s]\n",
      "100%|██████████| 5/5 [00:00<00:00, 1002.56it/s]\n",
      "100%|██████████| 5/5 [00:00<00:00, 835.72it/s]\n",
      "100%|██████████| 5/5 [00:00<00:00, 835.05it/s]\n",
      "100%|██████████| 5/5 [00:00<00:00, 979.11it/s]\n",
      "100%|██████████| 5/5 [00:00<00:00, 996.65it/s]\n",
      "100%|██████████| 5/5 [00:00<00:00, 996.08it/s]\n",
      "100%|██████████| 5/5 [00:00<00:00, 996.93it/s]\n",
      "100%|██████████| 5/5 [00:00<00:00, 831.05it/s]\n",
      "100%|██████████| 5/5 [00:00<00:00, 831.74it/s]\n",
      "100%|██████████| 5/5 [00:00<00:00, 715.68it/s]\n",
      "100%|██████████| 5/5 [00:00<00:00, 835.65it/s]\n",
      "100%|██████████| 5/5 [00:00<00:00, 626.39it/s]\n",
      "100%|██████████| 5/5 [00:00<00:00, 835.62it/s]\n",
      "100%|██████████| 5/5 [00:00<00:00, 996.84it/s]\n",
      "100%|██████████| 5/5 [00:00<00:00, 1002.75it/s]\n",
      "100%|██████████| 5/5 [00:00<00:00, 996.56it/s]\n",
      "100%|██████████| 5/5 [00:00<00:00, 836.72it/s]\n",
      "100%|██████████| 5/5 [00:00<00:00, 817.54it/s]\n",
      "100%|██████████| 5/5 [00:00<00:00, 831.54it/s]\n",
      "100%|██████████| 5/5 [00:00<00:00, 1002.32it/s]\n",
      "100%|██████████| 5/5 [00:00<00:00, 999.83it/s]\n",
      "100%|██████████| 5/5 [00:00<00:00, 1000.93it/s]\n",
      "100%|██████████| 5/5 [00:00<00:00, 1002.51it/s]\n",
      "100%|██████████| 5/5 [00:00<00:00, 18.37it/s]\n",
      "100%|██████████| 5/5 [00:00<00:00, 840.61it/s]\n",
      "100%|██████████| 5/5 [00:00<00:00, 837.39it/s]\n",
      "100%|██████████| 5/5 [00:00<00:00, 1239.45it/s]\n",
      "100%|██████████| 5/5 [00:00<00:00, 835.55it/s]\n",
      "100%|██████████| 5/5 [00:00<00:00, 1002.80it/s]\n",
      "100%|██████████| 10/10 [00:00<00:00, 1002.65it/s]\n",
      "100%|██████████| 10/10 [00:00<00:00, 1003.81it/s]"
     ]
    },
    {
     "name": "stdout",
     "output_type": "stream",
     "text": [
      "{'max_geracoes': 500, 'capacidade': 5, 'vertices': 90, 'npacotes': 800, 'n_individuos': 10, 'n_caminhoes': 192, 'min_variacao': 0.001, 'strikes': 3}\n"
     ]
    },
    {
     "name": "stderr",
     "output_type": "stream",
     "text": [
      "\n",
      "100%|██████████| 10/10 [00:00<00:00, 1005.54it/s]\n",
      "100%|██████████| 10/10 [00:00<00:00, 1004.00it/s]"
     ]
    },
    {
     "name": "stdout",
     "output_type": "stream",
     "text": [
      "{'max_geracoes': 500, 'capacidade': 5, 'vertices': 90, 'npacotes': 800, 'n_individuos': 10, 'n_caminhoes': 192, 'min_variacao': 0.001, 'strikes': 9}\n"
     ]
    },
    {
     "name": "stderr",
     "output_type": "stream",
     "text": [
      "\n",
      "100%|██████████| 10/10 [00:00<00:00, 908.74it/s]\n",
      "100%|██████████| 10/10 [00:00<00:00, 589.78it/s]\n",
      "100%|██████████| 10/10 [00:00<00:00, 716.77it/s]\n",
      "100%|██████████| 10/10 [00:00<00:00, 1002.34it/s]"
     ]
    },
    {
     "name": "stdout",
     "output_type": "stream",
     "text": [
      "{'max_geracoes': 500, 'capacidade': 5, 'vertices': 90, 'npacotes': 800, 'n_individuos': 10, 'n_caminhoes': 192, 'min_variacao': 0.001, 'strikes': 9}\n"
     ]
    },
    {
     "name": "stderr",
     "output_type": "stream",
     "text": [
      "\n",
      "100%|██████████| 10/10 [00:00<00:00, 911.55it/s]"
     ]
    },
    {
     "name": "stdout",
     "output_type": "stream",
     "text": [
      "{'max_geracoes': 500, 'capacidade': 5, 'vertices': 90, 'npacotes': 800, 'n_individuos': 10, 'n_caminhoes': 192, 'min_variacao': 0.001, 'strikes': 12}\n"
     ]
    },
    {
     "name": "stderr",
     "output_type": "stream",
     "text": [
      "\n",
      "100%|██████████| 10/10 [00:00<00:00, 908.98it/s]"
     ]
    },
    {
     "name": "stdout",
     "output_type": "stream",
     "text": [
      "{'max_geracoes': 500, 'capacidade': 5, 'vertices': 90, 'npacotes': 800, 'n_individuos': 10, 'n_caminhoes': 192, 'min_variacao': 0.001, 'strikes': 3}\n"
     ]
    },
    {
     "name": "stderr",
     "output_type": "stream",
     "text": [
      "\n",
      "100%|██████████| 10/10 [00:00<00:00, 35.78it/s]\n",
      "100%|██████████| 10/10 [00:00<00:00, 1001.24it/s]\n",
      "100%|██████████| 10/10 [00:00<00:00, 1002.73it/s]"
     ]
    },
    {
     "name": "stdout",
     "output_type": "stream",
     "text": [
      "{'max_geracoes': 500, 'capacidade': 5, 'vertices': 90, 'npacotes': 800, 'n_individuos': 10, 'n_caminhoes': 192, 'min_variacao': 0.001, 'strikes': 12}\n"
     ]
    },
    {
     "name": "stderr",
     "output_type": "stream",
     "text": [
      "\n",
      "100%|██████████| 10/10 [00:00<00:00, 911.31it/s]\n",
      "100%|██████████| 10/10 [00:00<00:00, 909.10it/s]\n",
      "100%|██████████| 10/10 [00:00<00:00, 911.59it/s]\n",
      "100%|██████████| 10/10 [00:00<00:00, 1002.73it/s]"
     ]
    },
    {
     "name": "stdout",
     "output_type": "stream",
     "text": [
      "{'max_geracoes': 500, 'capacidade': 5, 'vertices': 90, 'npacotes': 800, 'n_individuos': 10, 'n_caminhoes': 192, 'min_variacao': 0.005, 'strikes': 12}\n"
     ]
    },
    {
     "name": "stderr",
     "output_type": "stream",
     "text": [
      "\n",
      "100%|██████████| 10/10 [00:00<00:00, 1006.96it/s]\n",
      "100%|██████████| 10/10 [00:00<00:00, 996.75it/s]\n",
      "100%|██████████| 10/10 [00:00<00:00, 902.84it/s]\n",
      "100%|██████████| 10/10 [00:00<00:00, 911.49it/s]\n",
      "100%|██████████| 10/10 [00:00<00:00, 36.41it/s]\n",
      "100%|██████████| 10/10 [00:00<00:00, 909.12it/s]\n",
      "100%|██████████| 10/10 [00:00<00:00, 999.14it/s]\n",
      "100%|██████████| 10/10 [00:00<00:00, 692.82it/s]\n",
      "100%|██████████| 10/10 [00:00<00:00, 910.80it/s]\n",
      "100%|██████████| 10/10 [00:00<00:00, 999.81it/s]\n",
      "100%|██████████| 10/10 [00:00<00:00, 906.72it/s]\n",
      "100%|██████████| 10/10 [00:00<00:00, 911.90it/s]\n",
      "100%|██████████| 10/10 [00:00<00:00, 911.51it/s]\n",
      "100%|██████████| 10/10 [00:00<00:00, 999.19it/s]\n",
      "100%|██████████| 10/10 [00:00<00:00, 716.17it/s]\n",
      "100%|██████████| 10/10 [00:00<00:00, 909.16it/s]\n",
      "100%|██████████| 10/10 [00:00<00:00, 906.60it/s]\n",
      "100%|██████████| 10/10 [00:00<00:00, 951.02it/s]\n",
      "100%|██████████| 10/10 [00:00<00:00, 1110.63it/s]\n",
      "100%|██████████| 10/10 [00:00<00:00, 911.49it/s]\n",
      "100%|██████████| 10/10 [00:00<00:00, 835.65it/s]\n",
      "100%|██████████| 10/10 [00:00<00:00, 909.57it/s]\n",
      "100%|██████████| 10/10 [00:00<00:00, 1002.89it/s]\n",
      "100%|██████████| 10/10 [00:00<00:00, 911.61it/s]\n",
      "100%|██████████| 10/10 [00:00<00:00, 1047.48it/s]\n",
      "100%|██████████| 10/10 [00:00<00:00, 921.04it/s]\n",
      "100%|██████████| 10/10 [00:00<00:00, 905.88it/s]\n",
      "100%|██████████| 10/10 [00:00<00:00, 1109.31it/s]\n",
      "100%|██████████| 10/10 [00:00<00:00, 1002.65it/s]\n",
      "100%|██████████| 10/10 [00:00<00:00, 833.34it/s]\n",
      "100%|██████████| 10/10 [00:00<00:00, 911.53it/s]\n",
      "100%|██████████| 15/15 [00:00<00:00, 939.99it/s]\n",
      "100%|██████████| 15/15 [00:00<00:00, 1005.84it/s]\n",
      "100%|██████████| 15/15 [00:00<00:00, 1004.30it/s]"
     ]
    },
    {
     "name": "stdout",
     "output_type": "stream",
     "text": [
      "{'max_geracoes': 500, 'capacidade': 5, 'vertices': 90, 'npacotes': 800, 'n_individuos': 15, 'n_caminhoes': 192, 'min_variacao': 0.001, 'strikes': 6}\n"
     ]
    },
    {
     "name": "stderr",
     "output_type": "stream",
     "text": [
      "\n",
      "100%|██████████| 15/15 [00:00<00:00, 716.13it/s]"
     ]
    },
    {
     "name": "stdout",
     "output_type": "stream",
     "text": [
      "{'max_geracoes': 500, 'capacidade': 5, 'vertices': 90, 'npacotes': 800, 'n_individuos': 15, 'n_caminhoes': 192, 'min_variacao': 0.001, 'strikes': 9}\n"
     ]
    },
    {
     "name": "stderr",
     "output_type": "stream",
     "text": [
      "\n",
      "100%|██████████| 15/15 [00:00<00:00, 1002.67it/s]"
     ]
    },
    {
     "name": "stdout",
     "output_type": "stream",
     "text": [
      "{'max_geracoes': 500, 'capacidade': 5, 'vertices': 90, 'npacotes': 800, 'n_individuos': 15, 'n_caminhoes': 192, 'min_variacao': 0.001, 'strikes': 12}\n"
     ]
    },
    {
     "name": "stderr",
     "output_type": "stream",
     "text": [
      "\n",
      "100%|██████████| 15/15 [00:00<00:00, 666.74it/s]"
     ]
    },
    {
     "name": "stdout",
     "output_type": "stream",
     "text": [
      "{'max_geracoes': 500, 'capacidade': 5, 'vertices': 90, 'npacotes': 800, 'n_individuos': 15, 'n_caminhoes': 192, 'min_variacao': 0.001, 'strikes': 3}\n"
     ]
    },
    {
     "name": "stderr",
     "output_type": "stream",
     "text": [
      "\n",
      "100%|██████████| 15/15 [00:00<00:00, 968.10it/s]"
     ]
    },
    {
     "name": "stdout",
     "output_type": "stream",
     "text": [
      "{'max_geracoes': 500, 'capacidade': 5, 'vertices': 90, 'npacotes': 800, 'n_individuos': 15, 'n_caminhoes': 192, 'min_variacao': 0.001, 'strikes': 6}\n"
     ]
    },
    {
     "name": "stderr",
     "output_type": "stream",
     "text": [
      "\n",
      "100%|██████████| 15/15 [00:00<00:00, 940.10it/s]"
     ]
    },
    {
     "name": "stdout",
     "output_type": "stream",
     "text": [
      "{'max_geracoes': 500, 'capacidade': 5, 'vertices': 90, 'npacotes': 800, 'n_individuos': 15, 'n_caminhoes': 192, 'min_variacao': 0.001, 'strikes': 9}\n"
     ]
    },
    {
     "name": "stderr",
     "output_type": "stream",
     "text": [
      "\n",
      "100%|██████████| 15/15 [00:00<00:00, 1006.94it/s]"
     ]
    },
    {
     "name": "stdout",
     "output_type": "stream",
     "text": [
      "{'max_geracoes': 500, 'capacidade': 5, 'vertices': 90, 'npacotes': 800, 'n_individuos': 15, 'n_caminhoes': 192, 'min_variacao': 0.001, 'strikes': 12}\n"
     ]
    },
    {
     "name": "stderr",
     "output_type": "stream",
     "text": [
      "\n",
      "100%|██████████| 15/15 [00:00<00:00, 1002.70it/s]\n",
      "100%|██████████| 15/15 [00:00<00:00, 1004.64it/s]\n",
      "100%|██████████| 15/15 [00:00<00:00, 1002.70it/s]\n",
      "100%|██████████| 15/15 [00:00<00:00, 50.25it/s]\n",
      "100%|██████████| 15/15 [00:00<00:00, 1003.31it/s]\n",
      "100%|██████████| 15/15 [00:00<00:00, 943.54it/s]\n",
      "100%|██████████| 15/15 [00:00<00:00, 997.52it/s]"
     ]
    },
    {
     "name": "stdout",
     "output_type": "stream",
     "text": [
      "{'max_geracoes': 500, 'capacidade': 5, 'vertices': 90, 'npacotes': 800, 'n_individuos': 15, 'n_caminhoes': 192, 'min_variacao': 0.005, 'strikes': 9}\n"
     ]
    },
    {
     "name": "stderr",
     "output_type": "stream",
     "text": [
      "\n",
      "100%|██████████| 15/15 [00:00<00:00, 1000.82it/s]\n",
      "100%|██████████| 15/15 [00:00<00:00, 1002.70it/s]\n",
      "100%|██████████| 15/15 [00:00<00:00, 1071.94it/s]\n",
      "100%|██████████| 15/15 [00:00<00:00, 936.13it/s]\n",
      "100%|██████████| 15/15 [00:00<00:00, 858.93it/s]"
     ]
    },
    {
     "name": "stdout",
     "output_type": "stream",
     "text": [
      "{'max_geracoes': 500, 'capacidade': 5, 'vertices': 90, 'npacotes': 800, 'n_individuos': 15, 'n_caminhoes': 192, 'min_variacao': 0.005, 'strikes': 12}\n"
     ]
    },
    {
     "name": "stderr",
     "output_type": "stream",
     "text": [
      "\n",
      "100%|██████████| 15/15 [00:00<00:00, 1002.70it/s]\n",
      "100%|██████████| 15/15 [00:00<00:00, 1002.65it/s]\n",
      "100%|██████████| 15/15 [00:00<00:00, 1002.70it/s]\n",
      "100%|██████████| 15/15 [00:00<00:00, 1074.29it/s]\n",
      "100%|██████████| 15/15 [00:00<00:00, 935.25it/s]\n",
      "100%|██████████| 15/15 [00:00<00:00, 1002.62it/s]\n"
     ]
    },
    {
     "name": "stdout",
     "output_type": "stream",
     "text": [
      "{'max_geracoes': 500, 'capacidade': 5, 'vertices': 90, 'npacotes': 800, 'n_individuos': 15, 'n_caminhoes': 192, 'min_variacao': 0.01, 'strikes': 9}\n"
     ]
    },
    {
     "name": "stderr",
     "output_type": "stream",
     "text": [
      "100%|██████████| 15/15 [00:00<00:00, 940.02it/s]\n",
      "100%|██████████| 15/15 [00:00<00:00, 1002.75it/s]\n",
      "100%|██████████| 15/15 [00:00<00:00, 1030.66it/s]\n",
      "100%|██████████| 15/15 [00:00<00:00, 1002.56it/s]\n",
      "100%|██████████| 15/15 [00:00<00:00, 1003.39it/s]\n",
      "100%|██████████| 15/15 [00:00<00:00, 1002.51it/s]\n",
      "100%|██████████| 15/15 [00:00<00:00, 939.89it/s]\n",
      "100%|██████████| 15/15 [00:00<00:00, 1002.72it/s]\n",
      "100%|██████████| 15/15 [00:00<00:00, 1000.65it/s]\n",
      "100%|██████████| 15/15 [00:00<00:00, 1072.13it/s]\n",
      "100%|██████████| 15/15 [00:00<00:00, 1070.16it/s]\n",
      "100%|██████████| 15/15 [00:00<00:00, 940.24it/s]\n",
      "100%|██████████| 15/15 [00:00<00:00, 1025.75it/s]\n",
      "100%|██████████| 15/15 [00:00<00:00, 886.46it/s]\n",
      "100%|██████████| 15/15 [00:00<00:00, 997.49it/s]\n",
      "100%|██████████| 15/15 [00:00<00:00, 1002.45it/s]\n",
      "100%|██████████| 15/15 [00:00<00:00, 939.85it/s]\n",
      "100%|██████████| 15/15 [00:00<00:00, 939.85it/s]\n",
      "100%|██████████| 15/15 [00:00<00:00, 1001.20it/s]\n",
      "100%|██████████| 15/15 [00:00<00:00, 889.98it/s]\n",
      "100%|██████████| 15/15 [00:00<00:00, 1002.69it/s]\n",
      "100%|██████████| 5/5 [00:00<00:00, 716.26it/s]\n",
      "100%|██████████| 5/5 [00:00<00:00, 834.45it/s]\n",
      "100%|██████████| 5/5 [00:00<00:00, 716.26it/s]"
     ]
    },
    {
     "name": "stdout",
     "output_type": "stream",
     "text": [
      "{'max_geracoes': 500, 'capacidade': 5, 'vertices': 90, 'npacotes': 950, 'n_individuos': 5, 'n_caminhoes': 228, 'min_variacao': 0.001, 'strikes': 6}\n"
     ]
    },
    {
     "name": "stderr",
     "output_type": "stream",
     "text": [
      "\n",
      "100%|██████████| 5/5 [00:00<00:00, 628.40it/s]"
     ]
    },
    {
     "name": "stdout",
     "output_type": "stream",
     "text": [
      "{'max_geracoes': 500, 'capacidade': 5, 'vertices': 90, 'npacotes': 950, 'n_individuos': 5, 'n_caminhoes': 228, 'min_variacao': 0.001, 'strikes': 9}\n"
     ]
    },
    {
     "name": "stderr",
     "output_type": "stream",
     "text": [
      "\n",
      "100%|██████████| 5/5 [00:00<00:00, 835.09it/s]"
     ]
    },
    {
     "name": "stdout",
     "output_type": "stream",
     "text": [
      "{'max_geracoes': 500, 'capacidade': 5, 'vertices': 90, 'npacotes': 950, 'n_individuos': 5, 'n_caminhoes': 228, 'min_variacao': 0.001, 'strikes': 12}\n"
     ]
    },
    {
     "name": "stderr",
     "output_type": "stream",
     "text": [
      "\n",
      "100%|██████████| 5/5 [00:00<00:00, 716.17it/s]\n",
      "100%|██████████| 5/5 [00:00<00:00, 715.82it/s]\n",
      "100%|██████████| 5/5 [00:00<00:00, 724.38it/s]\n",
      "100%|██████████| 5/5 [00:00<00:00, 835.45it/s]\n",
      "100%|██████████| 5/5 [00:00<00:00, 832.60it/s]\n",
      "100%|██████████| 5/5 [00:00<00:00, 716.29it/s]\n",
      "100%|██████████| 5/5 [00:00<00:00, 716.17it/s]\n",
      "100%|██████████| 5/5 [00:00<00:00, 553.40it/s]\n",
      "100%|██████████| 5/5 [00:00<00:00, 835.69it/s]\n",
      "100%|██████████| 5/5 [00:00<00:00, 836.42it/s]\n",
      "100%|██████████| 5/5 [00:00<00:00, 835.59it/s]\n",
      "100%|██████████| 5/5 [00:00<00:00, 836.75it/s]\n",
      "100%|██████████| 5/5 [00:00<00:00, 995.56it/s]\n",
      "100%|██████████| 5/5 [00:00<00:00, 835.22it/s]\n",
      "100%|██████████| 5/5 [00:00<00:00, 835.25it/s]\n",
      "100%|██████████| 5/5 [00:00<00:00, 716.19it/s]\n",
      "100%|██████████| 5/5 [00:00<00:00, 715.75it/s]\n",
      "100%|██████████| 5/5 [00:00<00:00, 770.05it/s]\n",
      "100%|██████████| 5/5 [00:00<00:00, 626.35it/s]\n",
      "100%|██████████| 5/5 [00:00<00:00, 820.84it/s]\n",
      "100%|██████████| 5/5 [00:00<00:00, 836.55it/s]\n",
      "100%|██████████| 5/5 [00:00<00:00, 715.85it/s]\n",
      "100%|██████████| 5/5 [00:00<00:00, 1003.81it/s]\n",
      "100%|██████████| 5/5 [00:00<00:00, 996.79it/s]\n",
      "100%|██████████| 5/5 [00:00<00:00, 839.43it/s]\n",
      "100%|██████████| 5/5 [00:00<00:00, 833.43it/s]\n",
      "100%|██████████| 5/5 [00:00<00:00, 836.79it/s]\n",
      "100%|██████████| 5/5 [00:00<00:00, 1002.61it/s]\n",
      "100%|██████████| 5/5 [00:00<00:00, 716.90it/s]\n",
      "100%|██████████| 5/5 [00:00<00:00, 18.02it/s]\n",
      "100%|██████████| 5/5 [00:00<00:00, 835.19it/s]\n",
      "100%|██████████| 5/5 [00:00<00:00, 835.62it/s]\n",
      "100%|██████████| 5/5 [00:00<00:00, 831.58it/s]\n",
      "100%|██████████| 5/5 [00:00<00:00, 835.69it/s]\n",
      "100%|██████████| 5/5 [00:00<00:00, 774.31it/s]\n",
      "100%|██████████| 5/5 [00:00<00:00, 832.27it/s]\n",
      "100%|██████████| 5/5 [00:00<00:00, 831.35it/s]\n",
      "100%|██████████| 5/5 [00:00<00:00, 834.42it/s]\n",
      "100%|██████████| 5/5 [00:00<00:00, 715.87it/s]\n",
      "100%|██████████| 5/5 [00:00<00:00, 835.72it/s]\n",
      "100%|██████████| 5/5 [00:00<00:00, 835.25it/s]\n",
      "100%|██████████| 5/5 [00:00<00:00, 837.86it/s]\n",
      "100%|██████████| 5/5 [00:00<00:00, 831.74it/s]\n",
      "100%|██████████| 10/10 [00:00<00:00, 834.39it/s]\n",
      "100%|██████████| 10/10 [00:00<00:00, 833.01it/s]\n",
      "100%|██████████| 10/10 [00:00<00:00, 836.24it/s]\n",
      "100%|██████████| 10/10 [00:00<00:00, 833.59it/s]"
     ]
    },
    {
     "name": "stdout",
     "output_type": "stream",
     "text": [
      "{'max_geracoes': 500, 'capacidade': 5, 'vertices': 90, 'npacotes': 950, 'n_individuos': 10, 'n_caminhoes': 228, 'min_variacao': 0.001, 'strikes': 9}\n"
     ]
    },
    {
     "name": "stderr",
     "output_type": "stream",
     "text": [
      "\n",
      "100%|██████████| 10/10 [00:00<00:00, 909.16it/s]"
     ]
    },
    {
     "name": "stdout",
     "output_type": "stream",
     "text": [
      "{'max_geracoes': 500, 'capacidade': 5, 'vertices': 90, 'npacotes': 950, 'n_individuos': 10, 'n_caminhoes': 228, 'min_variacao': 0.001, 'strikes': 12}\n"
     ]
    },
    {
     "name": "stderr",
     "output_type": "stream",
     "text": [
      "\n",
      "100%|██████████| 10/10 [00:00<00:00, 800.82it/s]\n",
      "100%|██████████| 10/10 [00:00<00:00, 770.22it/s]"
     ]
    },
    {
     "name": "stdout",
     "output_type": "stream",
     "text": [
      "{'max_geracoes': 500, 'capacidade': 5, 'vertices': 90, 'npacotes': 950, 'n_individuos': 10, 'n_caminhoes': 228, 'min_variacao': 0.001, 'strikes': 6}\n"
     ]
    },
    {
     "name": "stderr",
     "output_type": "stream",
     "text": [
      "\n",
      "100%|██████████| 10/10 [00:00<00:00, 718.13it/s]\n",
      "100%|██████████| 10/10 [00:00<00:00, 769.60it/s]"
     ]
    },
    {
     "name": "stdout",
     "output_type": "stream",
     "text": [
      "{'max_geracoes': 500, 'capacidade': 5, 'vertices': 90, 'npacotes': 950, 'n_individuos': 10, 'n_caminhoes': 228, 'min_variacao': 0.001, 'strikes': 12}\n"
     ]
    },
    {
     "name": "stderr",
     "output_type": "stream",
     "text": [
      "\n",
      "100%|██████████| 10/10 [00:00<00:00, 753.69it/s]\n",
      "100%|██████████| 10/10 [00:00<00:00, 835.57it/s]\n",
      "100%|██████████| 10/10 [00:00<00:00, 833.54it/s]\n",
      "100%|██████████| 10/10 [00:00<00:00, 834.59it/s]\n",
      "100%|██████████| 10/10 [00:00<00:00, 834.95it/s]\n",
      "100%|██████████| 10/10 [00:00<00:00, 835.12it/s]\n",
      "100%|██████████| 10/10 [00:00<00:00, 909.12it/s]\n",
      "100%|██████████| 10/10 [00:00<00:00, 831.39it/s]\n",
      "100%|██████████| 10/10 [00:00<00:00, 835.92it/s]\n",
      "100%|██████████| 10/10 [00:00<00:00, 769.60it/s]\n",
      "100%|██████████| 10/10 [00:00<00:00, 835.54it/s]\n",
      "100%|██████████| 10/10 [00:00<00:00, 835.14it/s]\n",
      "100%|██████████| 10/10 [00:00<00:00, 825.52it/s]\n",
      "100%|██████████| 10/10 [00:00<00:00, 835.30it/s]"
     ]
    },
    {
     "name": "stdout",
     "output_type": "stream",
     "text": [
      "{'max_geracoes': 500, 'capacidade': 5, 'vertices': 90, 'npacotes': 950, 'n_individuos': 10, 'n_caminhoes': 228, 'min_variacao': 0.005, 'strikes': 6}\n"
     ]
    },
    {
     "name": "stderr",
     "output_type": "stream",
     "text": [
      "\n",
      "100%|██████████| 10/10 [00:00<00:00, 769.68it/s]\n",
      "100%|██████████| 10/10 [00:00<00:00, 806.66it/s]\n",
      "100%|██████████| 10/10 [00:00<00:00, 589.81it/s]\n",
      "100%|██████████| 10/10 [00:00<00:00, 771.21it/s]\n",
      "100%|██████████| 10/10 [00:00<00:00, 835.50it/s]\n",
      "100%|██████████| 10/10 [00:00<00:00, 776.23it/s]\n",
      "100%|██████████| 10/10 [00:00<00:00, 833.28it/s]\n",
      "100%|██████████| 10/10 [00:00<00:00, 835.57it/s]\n",
      "100%|██████████| 10/10 [00:00<00:00, 835.59it/s]\n",
      "100%|██████████| 10/10 [00:00<00:00, 835.59it/s]\n",
      "100%|██████████| 10/10 [00:00<00:00, 831.02it/s]\n",
      "100%|██████████| 10/10 [00:00<00:00, 772.28it/s]\n",
      "100%|██████████| 10/10 [00:00<00:00, 772.96it/s]\n",
      "100%|██████████| 10/10 [00:00<00:00, 835.47it/s]\n",
      "100%|██████████| 10/10 [00:00<00:00, 835.50it/s]\n",
      "100%|██████████| 10/10 [00:00<00:00, 771.30it/s]\n",
      "100%|██████████| 10/10 [00:00<00:00, 833.64it/s]\n",
      "100%|██████████| 10/10 [00:00<00:00, 835.49it/s]\n",
      "100%|██████████| 10/10 [00:00<00:00, 833.24it/s]\n",
      "100%|██████████| 10/10 [00:00<00:00, 771.31it/s]\n",
      "100%|██████████| 10/10 [00:00<00:00, 830.37it/s]\n",
      "100%|██████████| 10/10 [00:00<00:00, 835.57it/s]\n",
      "100%|██████████| 10/10 [00:00<00:00, 771.31it/s]\n",
      "100%|██████████| 10/10 [00:00<00:00, 835.44it/s]\n",
      "100%|██████████| 10/10 [00:00<00:00, 678.84it/s]\n",
      "100%|██████████| 15/15 [00:00<00:00, 791.59it/s]\n",
      "100%|██████████| 15/15 [00:00<00:00, 601.60it/s]"
     ]
    },
    {
     "name": "stdout",
     "output_type": "stream",
     "text": [
      "{'max_geracoes': 500, 'capacidade': 5, 'vertices': 90, 'npacotes': 950, 'n_individuos': 15, 'n_caminhoes': 228, 'min_variacao': 0.001, 'strikes': 3}\n"
     ]
    },
    {
     "name": "stderr",
     "output_type": "stream",
     "text": [
      "\n",
      "100%|██████████| 15/15 [00:00<00:00, 626.64it/s]"
     ]
    },
    {
     "name": "stdout",
     "output_type": "stream",
     "text": [
      "{'max_geracoes': 500, 'capacidade': 5, 'vertices': 90, 'npacotes': 950, 'n_individuos': 15, 'n_caminhoes': 228, 'min_variacao': 0.001, 'strikes': 6}\n"
     ]
    },
    {
     "name": "stderr",
     "output_type": "stream",
     "text": [
      "\n",
      "100%|██████████| 15/15 [00:00<00:00, 834.42it/s]"
     ]
    },
    {
     "name": "stdout",
     "output_type": "stream",
     "text": [
      "{'max_geracoes': 500, 'capacidade': 5, 'vertices': 90, 'npacotes': 950, 'n_individuos': 15, 'n_caminhoes': 228, 'min_variacao': 0.001, 'strikes': 9}\n"
     ]
    },
    {
     "name": "stderr",
     "output_type": "stream",
     "text": [
      "\n",
      "100%|██████████| 15/15 [00:00<00:00, 790.21it/s]"
     ]
    },
    {
     "name": "stdout",
     "output_type": "stream",
     "text": [
      "{'max_geracoes': 500, 'capacidade': 5, 'vertices': 90, 'npacotes': 950, 'n_individuos': 15, 'n_caminhoes': 228, 'min_variacao': 0.001, 'strikes': 12}\n"
     ]
    },
    {
     "name": "stderr",
     "output_type": "stream",
     "text": [
      "\n",
      "100%|██████████| 15/15 [00:00<00:00, 817.74it/s]\n",
      "100%|██████████| 15/15 [00:00<00:00, 790.05it/s]\n",
      "100%|██████████| 15/15 [00:00<00:00, 791.60it/s]"
     ]
    },
    {
     "name": "stdout",
     "output_type": "stream",
     "text": [
      "{'max_geracoes': 500, 'capacidade': 5, 'vertices': 90, 'npacotes': 950, 'n_individuos': 15, 'n_caminhoes': 228, 'min_variacao': 0.001, 'strikes': 9}\n"
     ]
    },
    {
     "name": "stderr",
     "output_type": "stream",
     "text": [
      "\n",
      "100%|██████████| 15/15 [00:00<00:00, 835.64it/s]\n",
      "100%|██████████| 15/15 [00:00<00:00, 835.53it/s]"
     ]
    },
    {
     "name": "stdout",
     "output_type": "stream",
     "text": [
      "{'max_geracoes': 500, 'capacidade': 5, 'vertices': 90, 'npacotes': 950, 'n_individuos': 15, 'n_caminhoes': 228, 'min_variacao': 0.001, 'strikes': 3}\n"
     ]
    },
    {
     "name": "stderr",
     "output_type": "stream",
     "text": [
      "\n",
      "100%|██████████| 15/15 [00:00<00:00, 835.27it/s]\n",
      "100%|██████████| 15/15 [00:00<00:00, 836.27it/s]\n",
      "  0%|          | 0/15 [00:00<?, ?it/s]"
     ]
    },
    {
     "name": "stdout",
     "output_type": "stream",
     "text": [
      "{'max_geracoes': 500, 'capacidade': 5, 'vertices': 90, 'npacotes': 950, 'n_individuos': 15, 'n_caminhoes': 228, 'min_variacao': 0.001, 'strikes': 12}\n"
     ]
    },
    {
     "name": "stderr",
     "output_type": "stream",
     "text": [
      "100%|██████████| 15/15 [00:00<00:00, 52.44it/s]\n",
      "100%|██████████| 15/15 [00:00<00:00, 791.29it/s]"
     ]
    },
    {
     "name": "stdout",
     "output_type": "stream",
     "text": [
      "{'max_geracoes': 500, 'capacidade': 5, 'vertices': 90, 'npacotes': 950, 'n_individuos': 15, 'n_caminhoes': 228, 'min_variacao': 0.005, 'strikes': 3}\n"
     ]
    },
    {
     "name": "stderr",
     "output_type": "stream",
     "text": [
      "\n",
      "100%|██████████| 15/15 [00:00<00:00, 835.59it/s]\n",
      "100%|██████████| 15/15 [00:00<00:00, 835.49it/s]\n",
      "100%|██████████| 15/15 [00:00<00:00, 881.23it/s]\n",
      "100%|██████████| 15/15 [00:00<00:00, 716.18it/s]\n",
      "100%|██████████| 15/15 [00:00<00:00, 835.44it/s]\n",
      "100%|██████████| 15/15 [00:00<00:00, 793.89it/s]"
     ]
    },
    {
     "name": "stdout",
     "output_type": "stream",
     "text": [
      "{'max_geracoes': 500, 'capacidade': 5, 'vertices': 90, 'npacotes': 950, 'n_individuos': 15, 'n_caminhoes': 228, 'min_variacao': 0.005, 'strikes': 9}\n"
     ]
    },
    {
     "name": "stderr",
     "output_type": "stream",
     "text": [
      "\n",
      "100%|██████████| 15/15 [00:00<00:00, 791.55it/s]\n",
      "100%|██████████| 15/15 [00:00<00:00, 834.08it/s]\n",
      "100%|██████████| 15/15 [00:00<00:00, 812.58it/s]\n",
      "100%|██████████| 15/15 [00:00<00:00, 812.72it/s]"
     ]
    },
    {
     "name": "stdout",
     "output_type": "stream",
     "text": [
      "{'max_geracoes': 500, 'capacidade': 5, 'vertices': 90, 'npacotes': 950, 'n_individuos': 15, 'n_caminhoes': 228, 'min_variacao': 0.005, 'strikes': 9}\n"
     ]
    },
    {
     "name": "stderr",
     "output_type": "stream",
     "text": [
      "\n",
      "100%|██████████| 15/15 [00:00<00:00, 793.89it/s]"
     ]
    },
    {
     "name": "stdout",
     "output_type": "stream",
     "text": [
      "{'max_geracoes': 500, 'capacidade': 5, 'vertices': 90, 'npacotes': 950, 'n_individuos': 15, 'n_caminhoes': 228, 'min_variacao': 0.005, 'strikes': 12}\n"
     ]
    },
    {
     "name": "stderr",
     "output_type": "stream",
     "text": [
      "\n",
      "100%|██████████| 15/15 [00:00<00:00, 884.77it/s]\n",
      "100%|██████████| 15/15 [00:00<00:00, 831.07it/s]\n",
      "100%|██████████| 15/15 [00:00<00:00, 834.24it/s]\n",
      "100%|██████████| 15/15 [00:00<00:00, 771.88it/s]\n",
      "100%|██████████| 15/15 [00:00<00:00, 53.41it/s]\n",
      "100%|██████████| 15/15 [00:00<00:00, 791.29it/s]\n",
      "100%|██████████| 15/15 [00:00<00:00, 47.43it/s]\n",
      "100%|██████████| 15/15 [00:00<00:00, 835.60it/s]\n",
      "100%|██████████| 15/15 [00:00<00:00, 791.42it/s]\n",
      "100%|██████████| 15/15 [00:00<00:00, 830.93it/s]\n",
      "100%|██████████| 15/15 [00:00<00:00, 785.01it/s]\n",
      "100%|██████████| 15/15 [00:00<00:00, 791.60it/s]\n",
      "100%|██████████| 15/15 [00:00<00:00, 791.33it/s]\n",
      "100%|██████████| 15/15 [00:00<00:00, 787.10it/s]\n",
      "100%|██████████| 15/15 [00:00<00:00, 51.09it/s]\n",
      "100%|██████████| 15/15 [00:00<00:00, 716.50it/s]\n",
      "100%|██████████| 15/15 [00:00<00:00, 752.90it/s]\n",
      "100%|██████████| 15/15 [00:00<00:00, 50.64it/s]\n",
      "100%|██████████| 15/15 [00:00<00:00, 835.30it/s]\n",
      "100%|██████████| 15/15 [00:00<00:00, 791.60it/s]\n",
      "100%|██████████| 15/15 [00:00<00:00, 835.23it/s]\n",
      "100%|██████████| 15/15 [00:00<00:00, 714.91it/s]\n",
      "100%|██████████| 15/15 [00:00<00:00, 668.18it/s]\n",
      "100%|██████████| 5/5 [00:00<?, ?it/s]\n",
      "100%|██████████| 5/5 [00:00<?, ?it/s]\n",
      "100%|██████████| 5/5 [00:00<?, ?it/s]\n",
      "100%|██████████| 5/5 [00:00<?, ?it/s]\n",
      "100%|██████████| 5/5 [00:00<?, ?it/s]\n",
      "100%|██████████| 5/5 [00:00<00:00, 5011.12it/s]\n",
      "100%|██████████| 5/5 [00:00<00:00, 5009.92it/s]\n",
      "100%|██████████| 5/5 [00:00<?, ?it/s]\n",
      "100%|██████████| 5/5 [00:00<00:00, 5203.85it/s]\n",
      "100%|██████████| 5/5 [00:00<00:00, 5012.31it/s]\n",
      "100%|██████████| 5/5 [00:00<00:00, 5012.31it/s]\n",
      "100%|██████████| 5/5 [00:00<00:00, 5015.91it/s]\n",
      "100%|██████████| 5/5 [00:00<00:00, 218453.33it/s]\n",
      "100%|██████████| 5/5 [00:00<?, ?it/s]\n",
      "100%|██████████| 5/5 [00:00<00:00, 5015.91it/s]\n",
      "100%|██████████| 5/5 [00:00<?, ?it/s]\n",
      "100%|██████████| 5/5 [00:00<?, ?it/s]\n",
      "100%|██████████| 5/5 [00:00<?, ?it/s]\n",
      "100%|██████████| 5/5 [00:00<?, ?it/s]\n",
      "100%|██████████| 5/5 [00:00<?, ?it/s]\n",
      "100%|██████████| 5/5 [00:00<?, ?it/s]\n",
      "100%|██████████| 5/5 [00:00<00:00, 5012.31it/s]\n",
      "100%|██████████| 5/5 [00:00<?, ?it/s]\n",
      "100%|██████████| 5/5 [00:00<?, ?it/s]\n",
      "100%|██████████| 5/5 [00:00<00:00, 5041.23it/s]\n",
      "100%|██████████| 5/5 [00:00<?, ?it/s]\n",
      "100%|██████████| 5/5 [00:00<00:00, 5013.51it/s]\n",
      "100%|██████████| 5/5 [00:00<00:00, 4872.57it/s]\n",
      "100%|██████████| 5/5 [00:00<?, ?it/s]\n",
      "100%|██████████| 5/5 [00:00<00:00, 5188.40it/s]\n",
      "100%|██████████| 5/5 [00:00<?, ?it/s]\n",
      "100%|██████████| 5/5 [00:00<00:00, 5120.00it/s]\n",
      "100%|██████████| 5/5 [00:00<?, ?it/s]\n",
      "100%|██████████| 5/5 [00:00<?, ?it/s]\n",
      "100%|██████████| 5/5 [00:00<?, ?it/s]\n",
      "100%|██████████| 5/5 [00:00<00:00, 5011.12it/s]\n",
      "100%|██████████| 5/5 [00:00<00:00, 5012.31it/s]\n",
      "100%|██████████| 5/5 [00:00<?, ?it/s]\n",
      "100%|██████████| 5/5 [00:00<00:00, 5013.51it/s]\n",
      "100%|██████████| 5/5 [00:00<?, ?it/s]\n",
      "100%|██████████| 5/5 [00:00<00:00, 5041.23it/s]\n",
      "100%|██████████| 5/5 [00:00<00:00, 5013.51it/s]\n",
      "100%|██████████| 5/5 [00:00<00:00, 5006.33it/s]\n",
      "100%|██████████| 5/5 [00:00<?, ?it/s]\n",
      "100%|██████████| 5/5 [00:00<?, ?it/s]\n",
      "100%|██████████| 5/5 [00:00<00:00, 5012.31it/s]\n",
      "100%|██████████| 5/5 [00:00<?, ?it/s]\n",
      "100%|██████████| 5/5 [00:00<?, ?it/s]\n",
      "100%|██████████| 10/10 [00:00<00:00, 9815.83it/s]\n",
      "100%|██████████| 10/10 [00:00<00:00, 9995.96it/s]\n",
      "100%|██████████| 10/10 [00:00<?, ?it/s]\n",
      "100%|██████████| 10/10 [00:00<00:00, 10101.89it/s]\n",
      "100%|██████████| 10/10 [00:00<?, ?it/s]\n",
      "100%|██████████| 10/10 [00:00<00:00, 9822.73it/s]\n",
      "100%|██████████| 10/10 [00:00<?, ?it/s]\n",
      "100%|██████████| 10/10 [00:00<00:00, 10027.02it/s]\n",
      "100%|██████████| 10/10 [00:00<?, ?it/s]\n",
      "100%|██████████| 10/10 [00:00<?, ?it/s]\n",
      "100%|██████████| 10/10 [00:00<00:00, 9648.73it/s]\n",
      "100%|██████████| 10/10 [00:00<00:00, 10015.05it/s]\n",
      "100%|██████████| 10/10 [00:00<00:00, 9700.06it/s]\n",
      "100%|██████████| 10/10 [00:00<?, ?it/s]\n",
      "100%|██████████| 10/10 [00:00<00:00, 4991.44it/s]\n",
      "100%|██████████| 10/10 [00:00<00:00, 10024.63it/s]\n",
      "100%|██████████| 10/10 [00:00<00:00, 10029.42it/s]\n",
      "100%|██████████| 10/10 [00:00<00:00, 10449.19it/s]\n",
      "100%|██████████| 10/10 [00:00<?, ?it/s]\n",
      "100%|██████████| 10/10 [00:00<?, ?it/s]\n",
      "100%|██████████| 10/10 [00:00<?, ?it/s]\n",
      "100%|██████████| 10/10 [00:00<?, ?it/s]\n",
      "100%|██████████| 10/10 [00:00<00:00, 10240.00it/s]\n",
      "100%|██████████| 10/10 [00:00<00:00, 10024.63it/s]\n",
      "100%|██████████| 10/10 [00:00<00:00, 10024.63it/s]\n",
      "100%|██████████| 10/10 [00:00<00:00, 10019.84it/s]\n",
      "100%|██████████| 10/10 [00:00<00:00, 5011.12it/s]\n",
      "100%|██████████| 10/10 [00:00<00:00, 10022.23it/s]\n",
      "100%|██████████| 10/10 [00:00<?, ?it/s]\n",
      "100%|██████████| 10/10 [00:00<00:00, 10104.32it/s]\n",
      "100%|██████████| 10/10 [00:00<00:00, 10029.42it/s]\n",
      "100%|██████████| 10/10 [00:00<00:00, 9811.24it/s]\n",
      "100%|██████████| 10/10 [00:00<00:00, 10024.63it/s]\n",
      "100%|██████████| 10/10 [00:00<00:00, 10024.63it/s]\n",
      "100%|██████████| 10/10 [00:00<00:00, 10022.23it/s]\n",
      "100%|██████████| 10/10 [00:00<00:00, 10109.19it/s]\n",
      "100%|██████████| 10/10 [00:00<00:00, 10024.63it/s]\n",
      "100%|██████████| 10/10 [00:00<?, ?it/s]\n",
      "100%|██████████| 10/10 [00:00<00:00, 10027.02it/s]\n",
      "100%|██████████| 10/10 [00:00<?, ?it/s]\n",
      "100%|██████████| 10/10 [00:00<00:00, 9936.75it/s]\n",
      "100%|██████████| 10/10 [00:00<00:00, 10031.82it/s]\n",
      "100%|██████████| 10/10 [00:00<00:00, 10300.35it/s]\n",
      "100%|██████████| 10/10 [00:00<00:00, 10036.62it/s]\n",
      "100%|██████████| 10/10 [00:00<?, ?it/s]\n",
      "100%|██████████| 10/10 [00:00<00:00, 10621.18it/s]\n",
      "100%|██████████| 10/10 [00:00<00:00, 10031.82it/s]\n",
      "100%|██████████| 10/10 [00:00<00:00, 10106.76it/s]\n",
      "100%|██████████| 15/15 [00:00<00:00, 15040.54it/s]\n",
      "100%|██████████| 15/15 [00:00<00:00, 14720.30it/s]\n",
      "100%|██████████| 15/15 [00:00<00:00, 15029.76it/s]\n",
      "100%|██████████| 15/15 [00:00<00:00, 7679.06it/s]\n",
      "100%|██████████| 15/15 [00:00<00:00, 15051.33it/s]\n",
      "100%|██████████| 15/15 [00:00<00:00, 15022.58it/s]\n",
      "100%|██████████| 15/15 [00:00<00:00, 7521.17it/s]\n",
      "100%|██████████| 15/15 [00:00<00:00, 7522.07it/s]\n",
      "100%|██████████| 15/15 [00:00<00:00, 7520.27it/s]\n",
      "100%|██████████| 15/15 [00:00<00:00, 14734.09it/s]\n",
      "100%|██████████| 15/15 [00:00<00:00, 14716.86it/s]\n",
      "100%|██████████| 15/15 [00:00<00:00, 15029.76it/s]\n",
      "100%|██████████| 15/15 [00:00<00:00, 15047.73it/s]\n"
     ]
    },
    {
     "name": "stdout",
     "output_type": "stream",
     "text": [
      "{'max_geracoes': 500, 'capacidade': 5, 'vertices': 140, 'npacotes': 50, 'n_individuos': 15, 'n_caminhoes': 12, 'min_variacao': 0.005, 'strikes': 3}\n"
     ]
    },
    {
     "name": "stderr",
     "output_type": "stream",
     "text": [
      "100%|██████████| 15/15 [00:00<00:00, 19364.28it/s]\n",
      "100%|██████████| 15/15 [00:00<00:00, 15047.73it/s]\n",
      "100%|██████████| 15/15 [00:00<00:00, 14817.37it/s]\n",
      "100%|██████████| 15/15 [00:00<00:00, 15029.76it/s]\n",
      "100%|██████████| 15/15 [00:00<00:00, 14734.09it/s]\n",
      "100%|██████████| 15/15 [00:00<00:00, 16781.69it/s]\n",
      "100%|██████████| 15/15 [00:00<00:00, 7519.37it/s]\n",
      "100%|██████████| 15/15 [00:00<00:00, 15029.76it/s]\n",
      "100%|██████████| 15/15 [00:00<00:00, 15333.79it/s]\n",
      "100%|██████████| 15/15 [00:00<00:00, 15040.54it/s]\n",
      "100%|██████████| 15/15 [00:00<00:00, 14723.74it/s]\n",
      "100%|██████████| 15/15 [00:00<00:00, 7624.16it/s]\n",
      "100%|██████████| 15/15 [00:00<00:00, 15040.54it/s]\n",
      "100%|██████████| 15/15 [00:00<00:00, 7474.70it/s]\n",
      "100%|██████████| 15/15 [00:00<00:00, 14607.51it/s]\n",
      "100%|██████████| 15/15 [00:00<00:00, 15054.93it/s]\n",
      "100%|██████████| 15/15 [00:00<00:00, 15051.33it/s]\n",
      "100%|██████████| 15/15 [00:00<00:00, 15040.54it/s]\n",
      "100%|██████████| 15/15 [00:00<00:00, 7620.47it/s]\n",
      "100%|██████████| 15/15 [00:00<00:00, 15427.80it/s]\n",
      "100%|██████████| 15/15 [00:00<00:00, 15036.94it/s]\n",
      "100%|██████████| 15/15 [00:00<00:00, 15065.75it/s]\n",
      "100%|██████████| 15/15 [00:00<00:00, 14841.84it/s]\n",
      "100%|██████████| 15/15 [00:00<00:00, 15022.58it/s]\n",
      "100%|██████████| 15/15 [00:00<00:00, 15047.73it/s]\n",
      "100%|██████████| 15/15 [00:00<00:00, 15051.33it/s]\n",
      "100%|██████████| 15/15 [00:00<00:00, 14744.45it/s]\n",
      "100%|██████████| 15/15 [00:00<00:00, 14617.70it/s]\n",
      "100%|██████████| 15/15 [00:00<00:00, 7520.27it/s]\n",
      "100%|██████████| 15/15 [00:00<00:00, 15044.13it/s]\n",
      "100%|██████████| 15/15 [00:00<00:00, 15015.41it/s]\n",
      "100%|██████████| 15/15 [00:00<00:00, 15036.94it/s]\n",
      "100%|██████████| 15/15 [00:00<00:00, 15033.35it/s]\n",
      "100%|██████████| 15/15 [00:00<00:00, 7515.78it/s]\n",
      "100%|██████████| 15/15 [00:00<00:00, 15218.81it/s]\n",
      "100%|██████████| 5/5 [00:00<00:00, 2570.67it/s]\n",
      "100%|██████████| 5/5 [00:00<00:00, 2506.76it/s]\n",
      "100%|██████████| 5/5 [00:00<00:00, 18.85it/s]\n"
     ]
    },
    {
     "name": "stdout",
     "output_type": "stream",
     "text": [
      "{'max_geracoes': 500, 'capacidade': 5, 'vertices': 140, 'npacotes': 200, 'n_individuos': 5, 'n_caminhoes': 48, 'min_variacao': 0.001, 'strikes': 9}\n"
     ]
    },
    {
     "name": "stderr",
     "output_type": "stream",
     "text": [
      "100%|██████████| 5/5 [00:00<00:00, 2507.36it/s]\n"
     ]
    },
    {
     "name": "stdout",
     "output_type": "stream",
     "text": [
      "{'max_geracoes': 500, 'capacidade': 5, 'vertices': 140, 'npacotes': 200, 'n_individuos': 5, 'n_caminhoes': 48, 'min_variacao': 0.001, 'strikes': 12}\n"
     ]
    },
    {
     "name": "stderr",
     "output_type": "stream",
     "text": [
      "100%|██████████| 5/5 [00:00<00:00, 5012.31it/s]\n",
      "100%|██████████| 5/5 [00:00<00:00, 5065.58it/s]\n",
      "100%|██████████| 5/5 [00:00<00:00, 5015.91it/s]\n",
      "100%|██████████| 5/5 [00:00<00:00, 2505.86it/s]\n",
      "100%|██████████| 5/5 [00:00<00:00, 4878.23it/s]\n",
      "100%|██████████| 5/5 [00:00<00:00, 2516.08it/s]\n",
      "100%|██████████| 5/5 [00:00<00:00, 2507.66it/s]\n"
     ]
    },
    {
     "name": "stdout",
     "output_type": "stream",
     "text": [
      "{'max_geracoes': 500, 'capacidade': 5, 'vertices': 140, 'npacotes': 200, 'n_individuos': 5, 'n_caminhoes': 48, 'min_variacao': 0.001, 'strikes': 9}\n"
     ]
    },
    {
     "name": "stderr",
     "output_type": "stream",
     "text": [
      "100%|██████████| 5/5 [00:00<00:00, 4882.78it/s]\n"
     ]
    },
    {
     "name": "stdout",
     "output_type": "stream",
     "text": [
      "{'max_geracoes': 500, 'capacidade': 5, 'vertices': 140, 'npacotes': 200, 'n_individuos': 5, 'n_caminhoes': 48, 'min_variacao': 0.001, 'strikes': 12}\n"
     ]
    },
    {
     "name": "stderr",
     "output_type": "stream",
     "text": [
      "100%|██████████| 5/5 [00:00<00:00, 2491.27it/s]\n",
      "100%|██████████| 5/5 [00:00<00:00, 2507.06it/s]\n",
      "100%|██████████| 5/5 [00:00<00:00, 5015.91it/s]\n",
      "100%|██████████| 5/5 [00:00<00:00, 5009.92it/s]\n",
      "100%|██████████| 5/5 [00:00<00:00, 2506.76it/s]\n",
      "100%|██████████| 5/5 [00:00<00:00, 5011.12it/s]\n",
      "100%|██████████| 5/5 [00:00<00:00, 2542.31it/s]\n",
      "100%|██████████| 5/5 [00:00<00:00, 2540.77it/s]\n",
      "100%|██████████| 5/5 [00:00<00:00, 2505.26it/s]\n",
      "100%|██████████| 5/5 [00:00<00:00, 2506.16it/s]\n",
      "100%|██████████| 5/5 [00:00<00:00, 5026.73it/s]\n",
      "100%|██████████| 5/5 [00:00<00:00, 2544.78it/s]\n",
      "100%|██████████| 5/5 [00:00<00:00, 5017.11it/s]\n",
      "100%|██████████| 5/5 [00:00<00:00, 2382.59it/s]\n",
      "100%|██████████| 5/5 [00:00<00:00, 2473.35it/s]\n",
      "100%|██████████| 5/5 [00:00<00:00, 2504.36it/s]\n",
      "100%|██████████| 5/5 [00:00<00:00, 2505.56it/s]\n",
      "100%|██████████| 5/5 [00:00<00:00, 5030.35it/s]\n",
      "100%|██████████| 5/5 [00:00<00:00, 2506.16it/s]\n",
      "100%|██████████| 5/5 [00:00<00:00, 1670.11it/s]\n",
      "100%|██████████| 5/5 [00:00<00:00, 1678.53it/s]\n",
      "100%|██████████| 5/5 [00:00<00:00, 2491.57it/s]\n",
      "100%|██████████| 5/5 [00:00<00:00, 4878.23it/s]\n",
      "100%|██████████| 5/5 [00:00<00:00, 4999.17it/s]\n",
      "100%|██████████| 5/5 [00:00<00:00, 5009.92it/s]\n",
      "100%|██████████| 5/5 [00:00<00:00, 5013.51it/s]\n",
      "100%|██████████| 5/5 [00:00<00:00, 2541.69it/s]\n",
      "100%|██████████| 5/5 [00:00<00:00, 4951.95it/s]\n",
      "100%|██████████| 5/5 [00:00<00:00, 2507.06it/s]\n",
      "100%|██████████| 5/5 [00:00<00:00, 4956.63it/s]\n",
      "100%|██████████| 5/5 [00:00<00:00, 2502.87it/s]\n",
      "100%|██████████| 5/5 [00:00<00:00, 5008.72it/s]\n",
      "100%|██████████| 5/5 [00:00<00:00, 2507.66it/s]\n",
      "100%|██████████| 5/5 [00:00<00:00, 4992.03it/s]\n",
      "100%|██████████| 5/5 [00:00<00:00, 5013.51it/s]\n",
      "100%|██████████| 5/5 [00:00<00:00, 4874.83it/s]\n",
      "100%|██████████| 10/10 [00:00<00:00, 3342.87it/s]\n"
     ]
    },
    {
     "name": "stdout",
     "output_type": "stream",
     "text": [
      "{'max_geracoes': 500, 'capacidade': 5, 'vertices': 140, 'npacotes': 200, 'n_individuos': 10, 'n_caminhoes': 48, 'min_variacao': 0.001, 'strikes': 3}\n"
     ]
    },
    {
     "name": "stderr",
     "output_type": "stream",
     "text": [
      "100%|██████████| 10/10 [00:00<00:00, 4808.88it/s]\n"
     ]
    },
    {
     "name": "stdout",
     "output_type": "stream",
     "text": [
      "{'max_geracoes': 500, 'capacidade': 5, 'vertices': 140, 'npacotes': 200, 'n_individuos': 10, 'n_caminhoes': 48, 'min_variacao': 0.001, 'strikes': 6}\n"
     ]
    },
    {
     "name": "stderr",
     "output_type": "stream",
     "text": [
      "100%|██████████| 10/10 [00:00<00:00, 3314.87it/s]\n"
     ]
    },
    {
     "name": "stdout",
     "output_type": "stream",
     "text": [
      "{'max_geracoes': 500, 'capacidade': 5, 'vertices': 140, 'npacotes': 200, 'n_individuos': 10, 'n_caminhoes': 48, 'min_variacao': 0.001, 'strikes': 9}\n"
     ]
    },
    {
     "name": "stderr",
     "output_type": "stream",
     "text": [
      "100%|██████████| 10/10 [00:00<00:00, 3342.34it/s]\n",
      "100%|██████████| 10/10 [00:00<00:00, 3373.53it/s]\n",
      "100%|██████████| 10/10 [00:00<00:00, 3311.21it/s]\n",
      "100%|██████████| 10/10 [00:00<00:00, 3380.32it/s]\n"
     ]
    },
    {
     "name": "stdout",
     "output_type": "stream",
     "text": [
      "{'max_geracoes': 500, 'capacidade': 5, 'vertices': 140, 'npacotes': 200, 'n_individuos': 10, 'n_caminhoes': 48, 'min_variacao': 0.001, 'strikes': 9}\n"
     ]
    },
    {
     "name": "stderr",
     "output_type": "stream",
     "text": [
      "100%|██████████| 10/10 [00:00<00:00, 2506.46it/s]\n",
      "100%|██████████| 10/10 [00:00<00:00, 3341.81it/s]\n",
      "100%|██████████| 10/10 [00:00<00:00, 3344.74it/s]\n"
     ]
    },
    {
     "name": "stdout",
     "output_type": "stream",
     "text": [
      "{'max_geracoes': 500, 'capacidade': 5, 'vertices': 140, 'npacotes': 200, 'n_individuos': 10, 'n_caminhoes': 48, 'min_variacao': 0.001, 'strikes': 6}\n"
     ]
    },
    {
     "name": "stderr",
     "output_type": "stream",
     "text": [
      "100%|██████████| 10/10 [00:00<00:00, 3342.61it/s]\n",
      "100%|██████████| 10/10 [00:00<00:00, 3301.82it/s]\n",
      "100%|██████████| 10/10 [00:00<00:00, 3314.87it/s]\n",
      "100%|██████████| 10/10 [00:00<00:00, 5012.31it/s]\n",
      "100%|██████████| 10/10 [00:00<00:00, 3143.92it/s]\n",
      "100%|██████████| 10/10 [00:00<00:00, 4943.20it/s]\n",
      "100%|██████████| 10/10 [00:00<00:00, 4002.20it/s]\n",
      "100%|██████████| 10/10 [00:00<00:00, 3365.40it/s]\n",
      "100%|██████████| 10/10 [00:00<00:00, 2506.91it/s]\n",
      "100%|██████████| 10/10 [00:00<00:00, 2507.21it/s]\n",
      "100%|██████████| 10/10 [00:00<00:00, 4941.45it/s]\n",
      "100%|██████████| 10/10 [00:00<00:00, 2464.19it/s]\n",
      "100%|██████████| 10/10 [00:00<00:00, 2506.76it/s]\n",
      "100%|██████████| 10/10 [00:00<00:00, 5012.91it/s]\n",
      "100%|██████████| 10/10 [00:00<00:00, 3374.61it/s]\n"
     ]
    },
    {
     "name": "stdout",
     "output_type": "stream",
     "text": [
      "{'max_geracoes': 500, 'capacidade': 5, 'vertices': 140, 'npacotes': 200, 'n_individuos': 10, 'n_caminhoes': 48, 'min_variacao': 0.01, 'strikes': 3}\n"
     ]
    },
    {
     "name": "stderr",
     "output_type": "stream",
     "text": [
      "100%|██████████| 10/10 [00:00<00:00, 5011.71it/s]\n",
      "100%|██████████| 10/10 [00:00<00:00, 3340.74it/s]\n",
      "100%|██████████| 10/10 [00:00<00:00, 3342.87it/s]\n",
      "100%|██████████| 10/10 [00:00<00:00, 3341.81it/s]\n",
      "100%|██████████| 10/10 [00:00<00:00, 2507.06it/s]\n",
      "100%|██████████| 10/10 [00:00<00:00, 2515.78it/s]\n",
      "100%|██████████| 10/10 [00:00<00:00, 3374.34it/s]\n",
      "100%|██████████| 10/10 [00:00<00:00, 4941.45it/s]\n",
      "100%|██████████| 10/10 [00:00<00:00, 3351.42it/s]\n",
      "100%|██████████| 10/10 [00:00<00:00, 4942.62it/s]\n"
     ]
    },
    {
     "name": "stdout",
     "output_type": "stream",
     "text": [
      "{'max_geracoes': 500, 'capacidade': 5, 'vertices': 140, 'npacotes': 200, 'n_individuos': 10, 'n_caminhoes': 48, 'min_variacao': 0.01, 'strikes': 9}\n"
     ]
    },
    {
     "name": "stderr",
     "output_type": "stream",
     "text": [
      "100%|██████████| 10/10 [00:00<00:00, 5013.51it/s]\n",
      "100%|██████████| 10/10 [00:00<00:00, 1991.79it/s]\n",
      "100%|██████████| 10/10 [00:00<00:00, 3340.21it/s]\n",
      "100%|██████████| 10/10 [00:00<00:00, 3342.07it/s]\n",
      "100%|██████████| 10/10 [00:00<00:00, 3342.34it/s]\n",
      "100%|██████████| 10/10 [00:00<00:00, 5009.92it/s]\n",
      "100%|██████████| 10/10 [00:00<00:00, 3357.32it/s]\n",
      "100%|██████████| 10/10 [00:00<00:00, 3246.37it/s]\n",
      "100%|██████████| 10/10 [00:00<00:00, 3060.42it/s]\n",
      "100%|██████████| 10/10 [00:00<00:00, 5014.11it/s]\n",
      "100%|██████████| 10/10 [00:00<00:00, 3339.95it/s]\n",
      "100%|██████████| 10/10 [00:00<00:00, 3391.25it/s]\n",
      "100%|██████████| 10/10 [00:00<00:00, 3339.15it/s]\n",
      "100%|██████████| 15/15 [00:00<00:00, 4107.77it/s]\n",
      "100%|██████████| 15/15 [00:00<00:00, 3759.46it/s]\n",
      "100%|██████████| 15/15 [00:00<00:00, 3744.25it/s]\n"
     ]
    },
    {
     "name": "stdout",
     "output_type": "stream",
     "text": [
      "{'max_geracoes': 500, 'capacidade': 5, 'vertices': 140, 'npacotes': 200, 'n_individuos': 15, 'n_caminhoes': 48, 'min_variacao': 0.001, 'strikes': 9}\n"
     ]
    },
    {
     "name": "stderr",
     "output_type": "stream",
     "text": [
      "100%|██████████| 15/15 [00:00<00:00, 3007.96it/s]\n",
      "100%|██████████| 15/15 [00:00<00:00, 2506.76it/s]\n"
     ]
    },
    {
     "name": "stdout",
     "output_type": "stream",
     "text": [
      "{'max_geracoes': 500, 'capacidade': 5, 'vertices': 140, 'npacotes': 200, 'n_individuos': 15, 'n_caminhoes': 48, 'min_variacao': 0.001, 'strikes': 3}\n"
     ]
    },
    {
     "name": "stderr",
     "output_type": "stream",
     "text": [
      "100%|██████████| 15/15 [00:00<00:00, 3734.02it/s]\n",
      "100%|██████████| 15/15 [00:00<00:00, 5013.51it/s]\n",
      "100%|██████████| 15/15 [00:00<00:00, 3768.69it/s]\n",
      "100%|██████████| 15/15 [00:00<00:00, 3756.99it/s]\n",
      "100%|██████████| 15/15 [00:00<00:00, 5012.71it/s]\n",
      "100%|██████████| 15/15 [00:00<00:00, 3024.88it/s]\n",
      "100%|██████████| 15/15 [00:00<00:00, 3750.27it/s]\n",
      "100%|██████████| 15/15 [00:00<00:00, 3758.79it/s]\n",
      "100%|██████████| 15/15 [00:00<00:00, 3819.25it/s]\n",
      "100%|██████████| 15/15 [00:00<00:00, 3734.47it/s]\n"
     ]
    },
    {
     "name": "stdout",
     "output_type": "stream",
     "text": [
      "{'max_geracoes': 500, 'capacidade': 5, 'vertices': 140, 'npacotes': 200, 'n_individuos': 15, 'n_caminhoes': 48, 'min_variacao': 0.005, 'strikes': 9}\n"
     ]
    },
    {
     "name": "stderr",
     "output_type": "stream",
     "text": [
      "100%|██████████| 15/15 [00:00<00:00, 3732.47it/s]\n",
      "100%|██████████| 15/15 [00:00<00:00, 2997.22it/s]\n",
      "100%|██████████| 15/15 [00:00<00:00, 3733.14it/s]\n",
      "100%|██████████| 15/15 [00:00<00:00, 3759.68it/s]\n",
      "100%|██████████| 15/15 [00:00<00:00, 3770.95it/s]\n",
      "100%|██████████| 15/15 [00:00<00:00, 3732.92it/s]\n",
      "100%|██████████| 15/15 [00:00<00:00, 3760.58it/s]\n",
      "100%|██████████| 15/15 [00:00<00:00, 3760.36it/s]\n",
      "100%|██████████| 15/15 [00:00<00:00, 3760.58it/s]\n",
      "100%|██████████| 15/15 [00:00<00:00, 3732.47it/s]\n",
      "100%|██████████| 15/15 [00:00<00:00, 3732.92it/s]\n",
      "100%|██████████| 15/15 [00:00<00:00, 3729.82it/s]\n",
      "100%|██████████| 15/15 [00:00<00:00, 5062.32it/s]\n",
      "100%|██████████| 15/15 [00:00<00:00, 3731.59it/s]\n",
      "100%|██████████| 15/15 [00:00<00:00, 3007.96it/s]\n",
      "100%|██████████| 15/15 [00:00<00:00, 3008.11it/s]\n",
      "100%|██████████| 15/15 [00:00<00:00, 3019.37it/s]\n"
     ]
    },
    {
     "name": "stdout",
     "output_type": "stream",
     "text": [
      "{'max_geracoes': 500, 'capacidade': 5, 'vertices': 140, 'npacotes': 200, 'n_individuos': 15, 'n_caminhoes': 48, 'min_variacao': 0.01, 'strikes': 12}\n"
     ]
    },
    {
     "name": "stderr",
     "output_type": "stream",
     "text": [
      "100%|██████████| 15/15 [00:00<00:00, 3011.71it/s]\n",
      "100%|██████████| 15/15 [00:00<00:00, 3733.80it/s]\n"
     ]
    },
    {
     "name": "stdout",
     "output_type": "stream",
     "text": [
      "{'max_geracoes': 500, 'capacidade': 5, 'vertices': 140, 'npacotes': 200, 'n_individuos': 15, 'n_caminhoes': 48, 'min_variacao': 0.01, 'strikes': 6}\n"
     ]
    },
    {
     "name": "stderr",
     "output_type": "stream",
     "text": [
      "100%|██████████| 15/15 [00:00<00:00, 3759.91it/s]\n",
      "100%|██████████| 15/15 [00:00<00:00, 3759.91it/s]\n",
      "100%|██████████| 15/15 [00:00<00:00, 3700.86it/s]\n",
      "100%|██████████| 15/15 [00:00<00:00, 3760.13it/s]\n",
      "100%|██████████| 15/15 [00:00<00:00, 3760.13it/s]\n",
      "100%|██████████| 15/15 [00:00<00:00, 3759.68it/s]\n",
      "100%|██████████| 15/15 [00:00<00:00, 3762.38it/s]\n",
      "100%|██████████| 15/15 [00:00<00:00, 3701.73it/s]\n",
      "100%|██████████| 15/15 [00:00<00:00, 3008.39it/s]\n",
      "100%|██████████| 15/15 [00:00<00:00, 3008.25it/s]\n",
      "100%|██████████| 15/15 [00:00<00:00, 3012.14it/s]\n",
      "100%|██████████| 15/15 [00:00<00:00, 3759.01it/s]\n",
      "100%|██████████| 15/15 [00:00<00:00, 3772.99it/s]\n",
      "100%|██████████| 15/15 [00:00<00:00, 3760.58it/s]\n",
      "100%|██████████| 5/5 [00:00<00:00, 2471.31it/s]\n",
      "100%|██████████| 5/5 [00:00<00:00, 2480.08it/s]\n"
     ]
    },
    {
     "name": "stdout",
     "output_type": "stream",
     "text": [
      "{'max_geracoes': 500, 'capacidade': 5, 'vertices': 140, 'npacotes': 350, 'n_individuos': 5, 'n_caminhoes': 84, 'min_variacao': 0.001, 'strikes': 6}\n"
     ]
    },
    {
     "name": "stderr",
     "output_type": "stream",
     "text": [
      "100%|██████████| 5/5 [00:00<00:00, 1670.90it/s]\n",
      "100%|██████████| 5/5 [00:00<00:00, 1671.70it/s]\n",
      "100%|██████████| 5/5 [00:00<00:00, 1667.18it/s]\n",
      "100%|██████████| 5/5 [00:00<00:00, 1682.70it/s]\n",
      "100%|██████████| 5/5 [00:00<00:00, 2501.67it/s]\n",
      "100%|██████████| 5/5 [00:00<00:00, 1670.90it/s]\n",
      "100%|██████████| 5/5 [00:00<00:00, 1671.17it/s]\n",
      "100%|██████████| 5/5 [00:00<00:00, 2470.43it/s]\n",
      "100%|██████████| 5/5 [00:00<00:00, 2289.97it/s]\n",
      "100%|██████████| 5/5 [00:00<00:00, 1659.14it/s]\n",
      "100%|██████████| 5/5 [00:00<00:00, 1263.57it/s]\n",
      "100%|██████████| 5/5 [00:00<00:00, 2455.97it/s]\n",
      "100%|██████████| 5/5 [00:00<00:00, 2507.06it/s]\n",
      "100%|██████████| 5/5 [00:00<00:00, 1255.78it/s]\n",
      "100%|██████████| 5/5 [00:00<00:00, 1671.04it/s]\n",
      "100%|██████████| 5/5 [00:00<00:00, 2505.56it/s]\n",
      "100%|██████████| 5/5 [00:00<00:00, 1687.17it/s]\n",
      "100%|██████████| 5/5 [00:00<00:00, 1671.57it/s]\n",
      "100%|██████████| 5/5 [00:00<00:00, 1671.30it/s]\n",
      "100%|██████████| 5/5 [00:00<00:00, 1671.44it/s]\n",
      "100%|██████████| 5/5 [00:00<00:00, 2479.78it/s]\n",
      "100%|██████████| 5/5 [00:00<00:00, 2469.27it/s]\n",
      "100%|██████████| 5/5 [00:00<00:00, 1654.82it/s]\n",
      "100%|██████████| 5/5 [00:00<00:00, 2506.46it/s]\n",
      "100%|██████████| 5/5 [00:00<00:00, 1253.38it/s]\n",
      "100%|██████████| 5/5 [00:00<00:00, 2471.60it/s]\n",
      "100%|██████████| 5/5 [00:00<00:00, 1267.85it/s]\n",
      "100%|██████████| 5/5 [00:00<00:00, 1701.68it/s]\n",
      "100%|██████████| 5/5 [00:00<00:00, 2471.31it/s]\n",
      "100%|██████████| 5/5 [00:00<00:00, 1682.57it/s]\n",
      "100%|██████████| 5/5 [00:00<00:00, 2506.76it/s]\n",
      "100%|██████████| 5/5 [00:00<00:00, 2479.49it/s]\n",
      "100%|██████████| 5/5 [00:00<00:00, 2470.43it/s]\n",
      "100%|██████████| 5/5 [00:00<00:00, 2504.66it/s]\n",
      "100%|██████████| 5/5 [00:00<00:00, 2471.31it/s]\n",
      "100%|██████████| 5/5 [00:00<00:00, 1671.30it/s]\n",
      "100%|██████████| 5/5 [00:00<00:00, 2505.26it/s]\n",
      "100%|██████████| 5/5 [00:00<00:00, 1671.04it/s]\n",
      "100%|██████████| 5/5 [00:00<00:00, 1672.77it/s]\n",
      "100%|██████████| 5/5 [00:00<00:00, 2507.06it/s]\n",
      "100%|██████████| 5/5 [00:00<00:00, 1686.90it/s]\n",
      "100%|██████████| 5/5 [00:00<00:00, 2524.56it/s]\n",
      "100%|██████████| 5/5 [00:00<00:00, 2478.90it/s]\n",
      "100%|██████████| 5/5 [00:00<00:00, 1671.57it/s]\n",
      "100%|██████████| 5/5 [00:00<00:00, 2465.50it/s]\n",
      "100%|██████████| 5/5 [00:00<00:00, 2506.46it/s]\n",
      "100%|██████████| 10/10 [00:00<00:00, 1671.17it/s]\n",
      "100%|██████████| 10/10 [00:00<00:00, 1890.18it/s]\n",
      "100%|██████████| 10/10 [00:00<00:00, 2005.40it/s]\n",
      "100%|██████████| 10/10 [00:00<00:00, 2005.50it/s]\n",
      "100%|██████████| 10/10 [00:00<00:00, 2000.14it/s]\n",
      "100%|██████████| 10/10 [00:00<00:00, 2005.50it/s]\n",
      "100%|██████████| 10/10 [00:00<00:00, 2005.69it/s]\n"
     ]
    },
    {
     "name": "stdout",
     "output_type": "stream",
     "text": [
      "{'max_geracoes': 500, 'capacidade': 5, 'vertices': 140, 'npacotes': 350, 'n_individuos': 10, 'n_caminhoes': 84, 'min_variacao': 0.001, 'strikes': 9}\n"
     ]
    },
    {
     "name": "stderr",
     "output_type": "stream",
     "text": [
      "100%|██████████| 10/10 [00:00<00:00, 2470.73it/s]\n",
      "100%|██████████| 10/10 [00:00<00:00, 1997.29it/s]\n",
      "100%|██████████| 10/10 [00:00<00:00, 2488.76it/s]\n",
      "100%|██████████| 10/10 [00:00<00:00, 2470.14it/s]\n",
      "100%|██████████| 10/10 [00:00<00:00, 2004.45it/s]\n",
      "100%|██████████| 10/10 [00:00<00:00, 2005.60it/s]\n"
     ]
    },
    {
     "name": "stdout",
     "output_type": "stream",
     "text": [
      "{'max_geracoes': 500, 'capacidade': 5, 'vertices': 140, 'npacotes': 350, 'n_individuos': 10, 'n_caminhoes': 84, 'min_variacao': 0.005, 'strikes': 3}\n"
     ]
    },
    {
     "name": "stderr",
     "output_type": "stream",
     "text": [
      "100%|██████████| 10/10 [00:00<00:00, 1996.15it/s]\n",
      "100%|██████████| 10/10 [00:00<00:00, 2499.73it/s]\n",
      "100%|██████████| 10/10 [00:00<00:00, 2005.31it/s]\n",
      "100%|██████████| 10/10 [00:00<00:00, 2505.26it/s]\n",
      "100%|██████████| 10/10 [00:00<00:00, 1519.51it/s]\n",
      "100%|██████████| 10/10 [00:00<00:00, 1671.50it/s]\n",
      "100%|██████████| 10/10 [00:00<00:00, 2005.69it/s]\n",
      "100%|██████████| 10/10 [00:00<00:00, 2003.97it/s]\n",
      "100%|██████████| 10/10 [00:00<00:00, 2507.06it/s]\n",
      "100%|██████████| 10/10 [00:00<00:00, 2489.05it/s]\n",
      "100%|██████████| 10/10 [00:00<00:00, 2504.06it/s]\n",
      "100%|██████████| 10/10 [00:00<00:00, 1671.17it/s]\n",
      "100%|██████████| 10/10 [00:00<00:00, 1670.97it/s]\n",
      "100%|██████████| 10/10 [00:00<00:00, 1671.17it/s]\n",
      "100%|██████████| 10/10 [00:00<00:00, 2450.80it/s]\n",
      "100%|██████████| 10/10 [00:00<00:00, 2575.40it/s]\n",
      "100%|██████████| 10/10 [00:00<00:00, 1252.97it/s]\n",
      "100%|██████████| 10/10 [00:00<00:00, 2003.78it/s]\n",
      "100%|██████████| 10/10 [00:00<00:00, 1969.25it/s]\n",
      "100%|██████████| 10/10 [00:00<00:00, 1990.75it/s]\n",
      "100%|██████████| 10/10 [00:00<00:00, 2005.31it/s]\n",
      "100%|██████████| 10/10 [00:00<00:00, 2488.91it/s]\n",
      "100%|██████████| 10/10 [00:00<00:00, 1677.05it/s]\n",
      "100%|██████████| 10/10 [00:00<00:00, 2016.78it/s]\n",
      "100%|██████████| 10/10 [00:00<00:00, 2010.11it/s]\n",
      "100%|██████████| 10/10 [00:00<00:00, 1671.30it/s]\n",
      "100%|██████████| 10/10 [00:00<00:00, 2166.37it/s]\n",
      "100%|██████████| 10/10 [00:00<00:00, 2506.61it/s]\n",
      "100%|██████████| 10/10 [00:00<00:00, 2005.50it/s]\n",
      "100%|██████████| 10/10 [00:00<00:00, 1695.22it/s]\n",
      "100%|██████████| 10/10 [00:00<00:00, 2489.50it/s]\n",
      "100%|██████████| 10/10 [00:00<00:00, 2506.91it/s]\n",
      "100%|██████████| 10/10 [00:00<00:00, 1671.04it/s]\n",
      "100%|██████████| 10/10 [00:00<00:00, 2005.60it/s]\n",
      "100%|██████████| 10/10 [00:00<00:00, 2005.69it/s]\n",
      "100%|██████████| 15/15 [00:00<00:00, 2518.19it/s]\n",
      "100%|██████████| 15/15 [00:00<00:00, 1882.09it/s]\n"
     ]
    },
    {
     "name": "stdout",
     "output_type": "stream",
     "text": [
      "{'max_geracoes': 500, 'capacidade': 5, 'vertices': 140, 'npacotes': 350, 'n_individuos': 15, 'n_caminhoes': 84, 'min_variacao': 0.001, 'strikes': 6}\n"
     ]
    },
    {
     "name": "stderr",
     "output_type": "stream",
     "text": [
      "100%|██████████| 15/15 [00:00<00:00, 2173.36it/s]\n",
      "100%|██████████| 15/15 [00:00<00:00, 2138.35it/s]\n",
      "100%|██████████| 15/15 [00:00<00:00, 2130.75it/s]\n"
     ]
    },
    {
     "name": "stdout",
     "output_type": "stream",
     "text": [
      "{'max_geracoes': 500, 'capacidade': 5, 'vertices': 140, 'npacotes': 350, 'n_individuos': 15, 'n_caminhoes': 84, 'min_variacao': 0.001, 'strikes': 3}\n"
     ]
    },
    {
     "name": "stderr",
     "output_type": "stream",
     "text": [
      "100%|██████████| 15/15 [00:00<00:00, 2148.50it/s]\n",
      "100%|██████████| 15/15 [00:00<00:00, 2157.12it/s]\n",
      "100%|██████████| 15/15 [00:00<00:00, 1879.90it/s]\n",
      "100%|██████████| 15/15 [00:00<00:00, 2148.43it/s]\n"
     ]
    },
    {
     "name": "stdout",
     "output_type": "stream",
     "text": [
      "{'max_geracoes': 500, 'capacidade': 5, 'vertices': 140, 'npacotes': 350, 'n_individuos': 15, 'n_caminhoes': 84, 'min_variacao': 0.001, 'strikes': 3}\n"
     ]
    },
    {
     "name": "stderr",
     "output_type": "stream",
     "text": [
      "100%|██████████| 15/15 [00:00<00:00, 2139.73it/s]\n",
      "100%|██████████| 15/15 [00:00<00:00, 1504.05it/s]\n"
     ]
    },
    {
     "name": "stdout",
     "output_type": "stream",
     "text": [
      "{'max_geracoes': 500, 'capacidade': 5, 'vertices': 140, 'npacotes': 350, 'n_individuos': 15, 'n_caminhoes': 84, 'min_variacao': 0.001, 'strikes': 9}\n"
     ]
    },
    {
     "name": "stderr",
     "output_type": "stream",
     "text": [
      "100%|██████████| 15/15 [00:00<00:00, 1887.00it/s]\n",
      "100%|██████████| 15/15 [00:00<00:00, 1880.18it/s]\n",
      "100%|██████████| 15/15 [00:00<00:00, 2501.97it/s]\n",
      "100%|██████████| 15/15 [00:00<00:00, 2494.53it/s]\n",
      "100%|██████████| 15/15 [00:00<00:00, 1879.11it/s]\n"
     ]
    },
    {
     "name": "stdout",
     "output_type": "stream",
     "text": [
      "{'max_geracoes': 500, 'capacidade': 5, 'vertices': 140, 'npacotes': 350, 'n_individuos': 15, 'n_caminhoes': 84, 'min_variacao': 0.005, 'strikes': 12}\n"
     ]
    },
    {
     "name": "stderr",
     "output_type": "stream",
     "text": [
      "100%|██████████| 15/15 [00:00<00:00, 2140.17it/s]\n",
      "100%|██████████| 15/15 [00:00<00:00, 2506.66it/s]\n",
      "100%|██████████| 15/15 [00:00<00:00, 2148.57it/s]\n",
      "100%|██████████| 15/15 [00:00<00:00, 2494.23it/s]\n",
      "100%|██████████| 15/15 [00:00<00:00, 2506.76it/s]\n",
      "100%|██████████| 15/15 [00:00<00:00, 2140.17it/s]\n",
      "100%|██████████| 15/15 [00:00<00:00, 2148.50it/s]\n",
      "100%|██████████| 15/15 [00:00<00:00, 2139.59it/s]\n",
      "100%|██████████| 15/15 [00:00<00:00, 2110.94it/s]\n",
      "100%|██████████| 15/15 [00:00<00:00, 2148.57it/s]\n",
      "100%|██████████| 15/15 [00:00<00:00, 2411.44it/s]\n",
      "100%|██████████| 15/15 [00:00<00:00, 2139.88it/s]\n",
      "100%|██████████| 15/15 [00:00<00:00, 1880.07it/s]\n",
      "100%|██████████| 15/15 [00:00<00:00, 2156.82it/s]\n",
      "100%|██████████| 15/15 [00:00<00:00, 2468.11it/s]\n",
      "100%|██████████| 15/15 [00:00<00:00, 1671.08it/s]\n",
      "100%|██████████| 15/15 [00:00<00:00, 2159.71it/s]\n",
      "100%|██████████| 15/15 [00:00<00:00, 1874.97it/s]\n",
      "100%|██████████| 15/15 [00:00<00:00, 2147.91it/s]\n",
      "100%|██████████| 15/15 [00:00<00:00, 1810.39it/s]\n",
      "100%|██████████| 15/15 [00:00<00:00, 1997.29it/s]\n",
      "100%|██████████| 15/15 [00:00<00:00, 2495.22it/s]\n",
      "100%|██████████| 15/15 [00:00<00:00, 1368.06it/s]\n",
      "100%|██████████| 15/15 [00:00<00:00, 2147.25it/s]\n",
      "100%|██████████| 15/15 [00:00<00:00, 2148.57it/s]\n",
      "100%|██████████| 15/15 [00:00<00:00, 2148.43it/s]\n",
      "100%|██████████| 15/15 [00:00<00:00, 2140.17it/s]\n",
      "100%|██████████| 15/15 [00:00<00:00, 2142.28it/s]\n",
      "100%|██████████| 15/15 [00:00<00:00, 1873.24it/s]\n",
      "100%|██████████| 15/15 [00:00<00:00, 2139.81it/s]\n",
      "100%|██████████| 15/15 [00:00<00:00, 2139.51it/s]\n",
      "100%|██████████| 15/15 [00:00<00:00, 2165.29it/s]\n",
      "100%|██████████| 5/5 [00:00<00:00, 1254.95it/s]\n",
      "100%|██████████| 5/5 [00:00<00:00, 1671.44it/s]\n",
      "100%|██████████| 5/5 [00:00<00:00, 1234.05it/s]\n",
      "100%|██████████| 5/5 [00:00<00:00, 1670.77it/s]\n",
      "100%|██████████| 5/5 [00:00<00:00, 1253.30it/s]\n",
      "100%|██████████| 5/5 [00:00<00:00, 1686.22it/s]\n",
      "100%|██████████| 5/5 [00:00<00:00, 1137.90it/s]\n",
      "100%|██████████| 5/5 [00:00<00:00, 1651.43it/s]\n"
     ]
    },
    {
     "name": "stdout",
     "output_type": "stream",
     "text": [
      "{'max_geracoes': 500, 'capacidade': 5, 'vertices': 140, 'npacotes': 500, 'n_individuos': 5, 'n_caminhoes': 120, 'min_variacao': 0.001, 'strikes': 12}\n"
     ]
    },
    {
     "name": "stderr",
     "output_type": "stream",
     "text": [
      "100%|██████████| 5/5 [00:00<00:00, 18.22it/s]\n",
      "100%|██████████| 5/5 [00:00<00:00, 1671.44it/s]\n",
      "100%|██████████| 5/5 [00:00<00:00, 1002.70it/s]\n",
      "100%|██████████| 5/5 [00:00<00:00, 1652.34it/s]\n",
      "100%|██████████| 5/5 [00:00<00:00, 1008.83it/s]\n",
      "100%|██████████| 5/5 [00:00<00:00, 1253.23it/s]\n",
      "100%|██████████| 5/5 [00:00<00:00, 1244.23it/s]\n",
      "100%|██████████| 5/5 [00:00<00:00, 1650.91it/s]\n",
      "100%|██████████| 5/5 [00:00<00:00, 1252.40it/s]\n",
      "100%|██████████| 5/5 [00:00<00:00, 1655.60it/s]\n",
      "100%|██████████| 5/5 [00:00<00:00, 1671.44it/s]\n",
      "100%|██████████| 5/5 [00:00<00:00, 1253.53it/s]\n",
      "100%|██████████| 5/5 [00:00<00:00, 1608.49it/s]\n",
      "100%|██████████| 5/5 [00:00<00:00, 1252.11it/s]\n",
      "100%|██████████| 5/5 [00:00<00:00, 1006.26it/s]\n",
      "100%|██████████| 5/5 [00:00<00:00, 1674.91it/s]\n",
      "100%|██████████| 5/5 [00:00<00:00, 1671.84it/s]\n",
      "100%|██████████| 5/5 [00:00<00:00, 1255.18it/s]\n",
      "100%|██████████| 5/5 [00:00<00:00, 1259.10it/s]\n",
      "100%|██████████| 5/5 [00:00<00:00, 1654.95it/s]\n",
      "100%|██████████| 5/5 [00:00<00:00, 1671.17it/s]\n",
      "100%|██████████| 5/5 [00:00<00:00, 1658.35it/s]\n",
      "100%|██████████| 5/5 [00:00<00:00, 1273.16it/s]\n",
      "100%|██████████| 5/5 [00:00<00:00, 1670.77it/s]\n",
      "100%|██████████| 5/5 [00:00<00:00, 1671.30it/s]\n",
      "100%|██████████| 5/5 [00:00<00:00, 1671.04it/s]\n",
      "100%|██████████| 5/5 [00:00<00:00, 1672.10it/s]\n",
      "100%|██████████| 5/5 [00:00<00:00, 1265.86it/s]\n",
      "100%|██████████| 5/5 [00:00<00:00, 1255.85it/s]\n",
      "100%|██████████| 5/5 [00:00<00:00, 1675.71it/s]\n",
      "100%|██████████| 5/5 [00:00<00:00, 1686.90it/s]\n",
      "100%|██████████| 5/5 [00:00<00:00, 1253.53it/s]\n",
      "100%|██████████| 5/5 [00:00<00:00, 1659.40it/s]\n",
      "100%|██████████| 5/5 [00:00<00:00, 1670.51it/s]\n",
      "100%|██████████| 5/5 [00:00<00:00, 1253.45it/s]\n",
      "100%|██████████| 5/5 [00:00<00:00, 1671.04it/s]\n",
      "100%|██████████| 5/5 [00:00<00:00, 1241.95it/s]\n",
      "100%|██████████| 5/5 [00:00<00:00, 1687.58it/s]\n",
      "100%|██████████| 5/5 [00:00<00:00, 1671.17it/s]\n",
      "100%|██████████| 5/5 [00:00<00:00, 1676.51it/s]\n",
      "100%|██████████| 10/10 [00:00<00:00, 1432.38it/s]\n",
      "100%|██████████| 10/10 [00:00<00:00, 1431.55it/s]\n",
      "100%|██████████| 10/10 [00:00<00:00, 1426.59it/s]\n"
     ]
    },
    {
     "name": "stdout",
     "output_type": "stream",
     "text": [
      "{'max_geracoes': 500, 'capacidade': 5, 'vertices': 140, 'npacotes': 500, 'n_individuos': 10, 'n_caminhoes': 120, 'min_variacao': 0.001, 'strikes': 9}\n"
     ]
    },
    {
     "name": "stderr",
     "output_type": "stream",
     "text": [
      "100%|██████████| 10/10 [00:00<00:00, 1427.07it/s]\n",
      "100%|██████████| 10/10 [00:00<00:00, 1250.02it/s]\n"
     ]
    },
    {
     "name": "stdout",
     "output_type": "stream",
     "text": [
      "{'max_geracoes': 500, 'capacidade': 5, 'vertices': 140, 'npacotes': 500, 'n_individuos': 10, 'n_caminhoes': 120, 'min_variacao': 0.001, 'strikes': 3}\n"
     ]
    },
    {
     "name": "stderr",
     "output_type": "stream",
     "text": [
      "100%|██████████| 10/10 [00:00<00:00, 1669.11it/s]\n"
     ]
    },
    {
     "name": "stdout",
     "output_type": "stream",
     "text": [
      "{'max_geracoes': 500, 'capacidade': 5, 'vertices': 140, 'npacotes': 500, 'n_individuos': 10, 'n_caminhoes': 120, 'min_variacao': 0.001, 'strikes': 6}\n"
     ]
    },
    {
     "name": "stderr",
     "output_type": "stream",
     "text": [
      "100%|██████████| 10/10 [00:00<00:00, 1670.77it/s]\n",
      "100%|██████████| 10/10 [00:00<00:00, 1431.89it/s]\n"
     ]
    },
    {
     "name": "stdout",
     "output_type": "stream",
     "text": [
      "{'max_geracoes': 500, 'capacidade': 5, 'vertices': 140, 'npacotes': 500, 'n_individuos': 10, 'n_caminhoes': 120, 'min_variacao': 0.001, 'strikes': 12}\n"
     ]
    },
    {
     "name": "stderr",
     "output_type": "stream",
     "text": [
      "100%|██████████| 10/10 [00:00<00:00, 1253.34it/s]\n",
      "100%|██████████| 10/10 [00:00<00:00, 1432.53it/s]\n"
     ]
    },
    {
     "name": "stdout",
     "output_type": "stream",
     "text": [
      "{'max_geracoes': 500, 'capacidade': 5, 'vertices': 140, 'npacotes': 500, 'n_individuos': 10, 'n_caminhoes': 120, 'min_variacao': 0.001, 'strikes': 6}\n"
     ]
    },
    {
     "name": "stderr",
     "output_type": "stream",
     "text": [
      "100%|██████████| 10/10 [00:00<00:00, 1002.65it/s]\n",
      "100%|██████████| 10/10 [00:00<00:00, 1432.38it/s]\n",
      "100%|██████████| 10/10 [00:00<00:00, 1432.33it/s]\n",
      "100%|██████████| 10/10 [00:00<00:00, 1432.48it/s]\n",
      "100%|██████████| 10/10 [00:00<00:00, 1675.71it/s]\n",
      "100%|██████████| 10/10 [00:00<00:00, 1425.91it/s]\n",
      "100%|██████████| 10/10 [00:00<00:00, 1429.45it/s]\n",
      "100%|██████████| 10/10 [00:00<00:00, 1431.60it/s]\n",
      "100%|██████████| 10/10 [00:00<00:00, 1439.26it/s]\n",
      "100%|██████████| 10/10 [00:00<00:00, 1422.09it/s]\n",
      "100%|██████████| 10/10 [00:00<00:00, 1404.37it/s]\n",
      "100%|██████████| 10/10 [00:00<00:00, 1658.29it/s]\n",
      "100%|██████████| 10/10 [00:00<00:00, 1663.09it/s]\n",
      "100%|██████████| 10/10 [00:00<00:00, 1665.00it/s]\n",
      "100%|██████████| 10/10 [00:00<00:00, 1662.95it/s]\n",
      "100%|██████████| 10/10 [00:00<00:00, 1407.86it/s]\n",
      "100%|██████████| 10/10 [00:00<00:00, 1002.68it/s]\n",
      "100%|██████████| 10/10 [00:00<00:00, 1429.36it/s]\n",
      "100%|██████████| 10/10 [00:00<00:00, 1415.89it/s]\n",
      "100%|██████████| 10/10 [00:00<00:00, 1433.17it/s]\n",
      "100%|██████████| 10/10 [00:00<00:00, 1766.32it/s]\n",
      "100%|██████████| 10/10 [00:00<00:00, 1431.41it/s]\n",
      "100%|██████████| 10/10 [00:00<00:00, 1663.28it/s]\n",
      "100%|██████████| 10/10 [00:00<00:00, 1113.88it/s]\n",
      "100%|██████████| 10/10 [00:00<00:00, 1425.62it/s]\n",
      "100%|██████████| 10/10 [00:00<00:00, 1438.38it/s]\n",
      "100%|██████████| 10/10 [00:00<00:00, 1662.30it/s]\n",
      "100%|██████████| 10/10 [00:00<00:00, 1114.08it/s]\n",
      "100%|██████████| 10/10 [00:00<00:00, 1335.34it/s]\n",
      "100%|██████████| 10/10 [00:00<00:00, 1432.43it/s]\n",
      "100%|██████████| 10/10 [00:00<00:00, 1432.43it/s]\n",
      "100%|██████████| 10/10 [00:00<00:00, 1393.32it/s]\n",
      "100%|██████████| 10/10 [00:00<00:00, 1431.75it/s]\n",
      "100%|██████████| 10/10 [00:00<00:00, 1421.12it/s]\n",
      "100%|██████████| 10/10 [00:00<00:00, 1673.24it/s]\n",
      "100%|██████████| 10/10 [00:00<00:00, 1683.58it/s]\n",
      "100%|██████████| 10/10 [00:00<00:00, 1253.42it/s]\n",
      "100%|██████████| 10/10 [00:00<00:00, 1658.61it/s]\n",
      "100%|██████████| 15/15 [00:00<00:00, 1366.76it/s]\n",
      "100%|██████████| 15/15 [00:00<00:00, 1495.90it/s]\n",
      "100%|██████████| 15/15 [00:00<00:00, 1500.22it/s]\n",
      "100%|██████████| 15/15 [00:00<00:00, 1504.02it/s]\n",
      "100%|██████████| 15/15 [00:00<00:00, 1665.77it/s]\n"
     ]
    },
    {
     "name": "stdout",
     "output_type": "stream",
     "text": [
      "{'max_geracoes': 500, 'capacidade': 5, 'vertices': 140, 'npacotes': 500, 'n_individuos': 15, 'n_caminhoes': 120, 'min_variacao': 0.001, 'strikes': 3}\n"
     ]
    },
    {
     "name": "stderr",
     "output_type": "stream",
     "text": [
      "100%|██████████| 15/15 [00:00<00:00, 1253.00it/s]\n",
      "100%|██████████| 15/15 [00:00<00:00, 1504.09it/s]\n",
      "100%|██████████| 15/15 [00:00<00:00, 1367.20it/s]\n",
      "100%|██████████| 15/15 [00:00<00:00, 1665.86it/s]\n",
      "100%|██████████| 15/15 [00:00<00:00, 1503.48it/s]\n",
      "100%|██████████| 15/15 [00:00<00:00, 1503.59it/s]\n",
      "100%|██████████| 15/15 [00:00<00:00, 1492.63it/s]\n",
      "100%|██████████| 15/15 [00:00<00:00, 1499.82it/s]\n",
      "100%|██████████| 15/15 [00:00<00:00, 1504.05it/s]\n"
     ]
    },
    {
     "name": "stdout",
     "output_type": "stream",
     "text": [
      "{'max_geracoes': 500, 'capacidade': 5, 'vertices': 140, 'npacotes': 500, 'n_individuos': 15, 'n_caminhoes': 120, 'min_variacao': 0.005, 'strikes': 6}\n"
     ]
    },
    {
     "name": "stderr",
     "output_type": "stream",
     "text": [
      "100%|██████████| 15/15 [00:00<00:00, 1499.72it/s]\n",
      "100%|██████████| 15/15 [00:00<00:00, 1503.33it/s]\n",
      "100%|██████████| 15/15 [00:00<00:00, 1660.23it/s]\n",
      "100%|██████████| 15/15 [00:00<00:00, 1504.09it/s]\n",
      "100%|██████████| 15/15 [00:00<00:00, 1502.69it/s]\n",
      "100%|██████████| 15/15 [00:00<00:00, 1500.68it/s]\n",
      "100%|██████████| 15/15 [00:00<00:00, 1073.81it/s]\n",
      "100%|██████████| 15/15 [00:00<00:00, 1368.96it/s]\n",
      "100%|██████████| 15/15 [00:00<00:00, 1364.45it/s]\n",
      "100%|██████████| 15/15 [00:00<00:00, 1503.48it/s]\n",
      "100%|██████████| 15/15 [00:00<00:00, 1547.68it/s]\n",
      "100%|██████████| 15/15 [00:00<00:00, 1368.15it/s]\n",
      "100%|██████████| 15/15 [00:00<00:00, 1581.24it/s]\n",
      "100%|██████████| 15/15 [00:00<00:00, 1660.10it/s]\n",
      "100%|██████████| 15/15 [00:00<00:00, 1664.89it/s]\n",
      "100%|██████████| 15/15 [00:00<00:00, 1498.54it/s]\n",
      "100%|██████████| 15/15 [00:00<00:00, 1669.97it/s]\n",
      "100%|██████████| 15/15 [00:00<00:00, 1671.22it/s]\n",
      "100%|██████████| 15/15 [00:00<00:00, 1504.34it/s]\n",
      "100%|██████████| 15/15 [00:00<00:00, 1673.26it/s]\n",
      "100%|██████████| 15/15 [00:00<00:00, 1504.09it/s]\n",
      "100%|██████████| 15/15 [00:00<00:00, 1567.61it/s]\n",
      "100%|██████████| 15/15 [00:00<00:00, 1504.05it/s]\n",
      "100%|██████████| 15/15 [00:00<00:00, 1367.29it/s]\n",
      "100%|██████████| 15/15 [00:00<00:00, 1160.61it/s]\n",
      "100%|██████████| 15/15 [00:00<00:00, 1495.26it/s]\n",
      "100%|██████████| 15/15 [00:00<00:00, 1504.16it/s]\n",
      "100%|██████████| 15/15 [00:00<00:00, 1504.05it/s]\n",
      "100%|██████████| 15/15 [00:00<00:00, 1074.31it/s]\n",
      "100%|██████████| 15/15 [00:00<00:00, 1511.13it/s]\n",
      "100%|██████████| 15/15 [00:00<00:00, 1504.02it/s]\n",
      "100%|██████████| 15/15 [00:00<00:00, 1665.73it/s]\n",
      "100%|██████████| 15/15 [00:00<00:00, 1299.97it/s]\n",
      "100%|██████████| 15/15 [00:00<00:00, 1493.77it/s]\n",
      "100%|██████████| 5/5 [00:00<00:00, 1253.38it/s]\n",
      "100%|██████████| 5/5 [00:00<00:00, 1004.53it/s]\n",
      "100%|██████████| 5/5 [00:00<00:00, 1253.53it/s]\n",
      "100%|██████████| 5/5 [00:00<00:00, 1244.53it/s]\n",
      "100%|██████████| 5/5 [00:00<00:00, 1255.63it/s]\n",
      "100%|██████████| 5/5 [00:00<00:00, 1255.63it/s]\n",
      "100%|██████████| 5/5 [00:00<00:00, 1244.45it/s]\n",
      "100%|██████████| 5/5 [00:00<00:00, 1002.61it/s]\n",
      "100%|██████████| 5/5 [00:00<00:00, 1253.38it/s]\n",
      "100%|██████████| 5/5 [00:00<00:00, 1009.41it/s]\n",
      "100%|██████████| 5/5 [00:00<00:00, 1008.49it/s]\n",
      "100%|██████████| 5/5 [00:00<00:00, 1251.81it/s]\n",
      "100%|██████████| 5/5 [00:00<00:00, 1253.45it/s]\n",
      "100%|██████████| 5/5 [00:00<00:00, 1258.34it/s]\n",
      "100%|██████████| 5/5 [00:00<00:00, 1002.70it/s]\n",
      "100%|██████████| 5/5 [00:00<00:00, 1243.64it/s]\n",
      "100%|██████████| 5/5 [00:00<00:00, 1255.03it/s]\n",
      "100%|██████████| 5/5 [00:00<00:00, 1253.30it/s]\n",
      "100%|██████████| 5/5 [00:00<00:00, 1002.61it/s]\n",
      "100%|██████████| 5/5 [00:00<00:00, 1253.53it/s]\n",
      "100%|██████████| 5/5 [00:00<00:00, 1250.39it/s]\n",
      "100%|██████████| 5/5 [00:00<00:00, 835.52it/s]\n",
      "100%|██████████| 5/5 [00:00<00:00, 1002.46it/s]\n",
      "100%|██████████| 5/5 [00:00<00:00, 1242.09it/s]\n",
      "100%|██████████| 5/5 [00:00<00:00, 1252.70it/s]\n",
      "100%|██████████| 5/5 [00:00<00:00, 1002.65it/s]\n",
      "100%|██████████| 5/5 [00:00<00:00, 1253.45it/s]\n",
      "100%|██████████| 5/5 [00:00<00:00, 1249.12it/s]\n",
      "100%|██████████| 5/5 [00:00<00:00, 1009.17it/s]\n",
      "100%|██████████| 5/5 [00:00<00:00, 1018.43it/s]\n",
      "100%|██████████| 5/5 [00:00<00:00, 826.89it/s]\n",
      "100%|██████████| 5/5 [00:00<00:00, 996.84it/s]\n",
      "100%|██████████| 5/5 [00:00<00:00, 1228.20it/s]\n",
      "100%|██████████| 5/5 [00:00<00:00, 1253.45it/s]\n",
      "100%|██████████| 5/5 [00:00<00:00, 1008.29it/s]\n",
      "100%|██████████| 5/5 [00:00<00:00, 1253.00it/s]\n",
      "100%|██████████| 5/5 [00:00<00:00, 1253.53it/s]\n",
      "100%|██████████| 5/5 [00:00<00:00, 1253.53it/s]\n",
      "100%|██████████| 5/5 [00:00<00:00, 1258.79it/s]\n",
      "100%|██████████| 5/5 [00:00<00:00, 1002.65it/s]\n",
      "100%|██████████| 5/5 [00:00<00:00, 937.90it/s]\n",
      "100%|██████████| 5/5 [00:00<00:00, 834.36it/s]\n",
      "100%|██████████| 5/5 [00:00<00:00, 833.33it/s]\n",
      "100%|██████████| 5/5 [00:00<00:00, 1244.45it/s]\n",
      "100%|██████████| 5/5 [00:00<00:00, 1002.56it/s]\n",
      "100%|██████████| 5/5 [00:00<00:00, 1001.31it/s]\n",
      "100%|██████████| 5/5 [00:00<00:00, 1253.23it/s]\n",
      "100%|██████████| 5/5 [00:00<00:00, 1051.10it/s]\n",
      "100%|██████████| 10/10 [00:00<00:00, 1113.94it/s]\n",
      "100%|██████████| 10/10 [00:00<00:00, 1113.58it/s]\n",
      "100%|██████████| 10/10 [00:00<00:00, 1253.34it/s]\n"
     ]
    },
    {
     "name": "stdout",
     "output_type": "stream",
     "text": [
      "{'max_geracoes': 500, 'capacidade': 5, 'vertices': 140, 'npacotes': 650, 'n_individuos': 10, 'n_caminhoes': 156, 'min_variacao': 0.001, 'strikes': 9}\n"
     ]
    },
    {
     "name": "stderr",
     "output_type": "stream",
     "text": [
      "100%|██████████| 10/10 [00:00<00:00, 999.48it/s]\n",
      "100%|██████████| 10/10 [00:00<00:00, 771.34it/s]\n",
      "100%|██████████| 10/10 [00:00<00:00, 1002.73it/s]\n",
      "100%|██████████| 10/10 [00:00<00:00, 1002.41it/s]\n",
      "100%|██████████| 10/10 [00:00<00:00, 1114.05it/s]\n",
      "100%|██████████| 10/10 [00:00<00:00, 1239.20it/s]\n",
      "100%|██████████| 10/10 [00:00<00:00, 838.51it/s]\n"
     ]
    },
    {
     "name": "stdout",
     "output_type": "stream",
     "text": [
      "{'max_geracoes': 500, 'capacidade': 5, 'vertices': 140, 'npacotes': 650, 'n_individuos': 10, 'n_caminhoes': 156, 'min_variacao': 0.001, 'strikes': 6}\n"
     ]
    },
    {
     "name": "stderr",
     "output_type": "stream",
     "text": [
      "100%|██████████| 10/10 [00:00<00:00, 1253.00it/s]\n"
     ]
    },
    {
     "name": "stdout",
     "output_type": "stream",
     "text": [
      "{'max_geracoes': 500, 'capacidade': 5, 'vertices': 140, 'npacotes': 650, 'n_individuos': 10, 'n_caminhoes': 156, 'min_variacao': 0.001, 'strikes': 9}\n"
     ]
    },
    {
     "name": "stderr",
     "output_type": "stream",
     "text": [
      "100%|██████████| 10/10 [00:00<00:00, 1248.97it/s]\n",
      "100%|██████████| 10/10 [00:00<00:00, 33.77it/s]\n",
      "100%|██████████| 10/10 [00:00<00:00, 1114.62it/s]\n",
      "100%|██████████| 10/10 [00:00<00:00, 1002.46it/s]\n",
      "100%|██████████| 10/10 [00:00<00:00, 1003.23it/s]\n",
      "100%|██████████| 10/10 [00:00<00:00, 1252.93it/s]\n",
      "100%|██████████| 10/10 [00:00<00:00, 1114.02it/s]\n",
      "100%|██████████| 10/10 [00:00<00:00, 1104.96it/s]\n",
      "100%|██████████| 10/10 [00:00<00:00, 1253.42it/s]\n",
      "100%|██████████| 10/10 [00:00<00:00, 1251.88it/s]\n",
      "100%|██████████| 10/10 [00:00<00:00, 1118.78it/s]\n",
      "100%|██████████| 10/10 [00:00<00:00, 1113.49it/s]\n",
      "100%|██████████| 10/10 [00:00<00:00, 1114.94it/s]\n",
      "100%|██████████| 10/10 [00:00<00:00, 1109.72it/s]\n",
      "100%|██████████| 10/10 [00:00<00:00, 1248.90it/s]\n",
      "100%|██████████| 10/10 [00:00<00:00, 1242.02it/s]\n",
      "100%|██████████| 10/10 [00:00<00:00, 1253.34it/s]\n",
      "100%|██████████| 10/10 [00:00<00:00, 1060.13it/s]\n",
      "100%|██████████| 10/10 [00:00<00:00, 1256.46it/s]\n",
      "100%|██████████| 10/10 [00:00<00:00, 1248.97it/s]\n",
      "100%|██████████| 10/10 [00:00<00:00, 1114.00it/s]\n",
      "100%|██████████| 10/10 [00:00<00:00, 1114.14it/s]\n",
      "100%|██████████| 10/10 [00:00<00:00, 1253.45it/s]\n",
      "100%|██████████| 10/10 [00:00<00:00, 1248.83it/s]\n",
      "100%|██████████| 10/10 [00:00<00:00, 908.82it/s]\n",
      "100%|██████████| 10/10 [00:00<00:00, 1243.09it/s]\n",
      "100%|██████████| 10/10 [00:00<00:00, 1253.38it/s]\n",
      "100%|██████████| 10/10 [00:00<00:00, 1236.64it/s]\n",
      "100%|██████████| 10/10 [00:00<00:00, 1002.70it/s]\n",
      "100%|██████████| 10/10 [00:00<00:00, 1279.57it/s]\n",
      "100%|██████████| 10/10 [00:00<00:00, 1253.42it/s]\n",
      "100%|██████████| 10/10 [00:00<00:00, 835.42it/s]\n",
      "100%|██████████| 10/10 [00:00<00:00, 1249.05it/s]\n",
      "100%|██████████| 10/10 [00:00<00:00, 1248.38it/s]\n",
      "100%|██████████| 10/10 [00:00<00:00, 1110.22it/s]\n",
      "100%|██████████| 10/10 [00:00<00:00, 1248.42it/s]\n",
      "100%|██████████| 10/10 [00:00<00:00, 1249.46it/s]\n",
      "100%|██████████| 15/15 [00:00<00:00, 1156.94it/s]\n",
      "100%|██████████| 15/15 [00:00<00:00, 1250.39it/s]\n"
     ]
    },
    {
     "name": "stdout",
     "output_type": "stream",
     "text": [
      "{'max_geracoes': 500, 'capacidade': 5, 'vertices': 140, 'npacotes': 650, 'n_individuos': 15, 'n_caminhoes': 156, 'min_variacao': 0.001, 'strikes': 6}\n"
     ]
    },
    {
     "name": "stderr",
     "output_type": "stream",
     "text": [
      "100%|██████████| 15/15 [00:00<00:00, 1156.99it/s]\n"
     ]
    },
    {
     "name": "stdout",
     "output_type": "stream",
     "text": [
      "{'max_geracoes': 500, 'capacidade': 5, 'vertices': 140, 'npacotes': 650, 'n_individuos': 15, 'n_caminhoes': 156, 'min_variacao': 0.001, 'strikes': 9}\n"
     ]
    },
    {
     "name": "stderr",
     "output_type": "stream",
     "text": [
      "100%|██████████| 15/15 [00:00<00:00, 1247.14it/s]\n"
     ]
    },
    {
     "name": "stdout",
     "output_type": "stream",
     "text": [
      "{'max_geracoes': 500, 'capacidade': 5, 'vertices': 140, 'npacotes': 650, 'n_individuos': 15, 'n_caminhoes': 156, 'min_variacao': 0.001, 'strikes': 12}\n"
     ]
    },
    {
     "name": "stderr",
     "output_type": "stream",
     "text": [
      "100%|██████████| 15/15 [00:00<00:00, 1256.28it/s]\n",
      "100%|██████████| 15/15 [00:00<00:00, 1156.82it/s]\n",
      "100%|██████████| 15/15 [00:00<00:00, 1128.49it/s]\n",
      "100%|██████████| 15/15 [00:00<00:00, 1256.93it/s]\n",
      "100%|██████████| 15/15 [00:00<00:00, 1202.33it/s]\n",
      "100%|██████████| 15/15 [00:00<00:00, 1155.05it/s]\n"
     ]
    },
    {
     "name": "stdout",
     "output_type": "stream",
     "text": [
      "{'max_geracoes': 500, 'capacidade': 5, 'vertices': 140, 'npacotes': 650, 'n_individuos': 15, 'n_caminhoes': 156, 'min_variacao': 0.001, 'strikes': 6}\n"
     ]
    },
    {
     "name": "stderr",
     "output_type": "stream",
     "text": [
      "100%|██████████| 15/15 [00:00<00:00, 54.94it/s]\n",
      "100%|██████████| 15/15 [00:00<00:00, 1156.39it/s]\n"
     ]
    },
    {
     "name": "stdout",
     "output_type": "stream",
     "text": [
      "{'max_geracoes': 500, 'capacidade': 5, 'vertices': 140, 'npacotes': 650, 'n_individuos': 15, 'n_caminhoes': 156, 'min_variacao': 0.001, 'strikes': 12}\n"
     ]
    },
    {
     "name": "stderr",
     "output_type": "stream",
     "text": [
      "100%|██████████| 15/15 [00:00<00:00, 1157.13it/s]\n",
      "100%|██████████| 15/15 [00:00<00:00, 1252.63it/s]\n",
      "100%|██████████| 15/15 [00:00<00:00, 1156.84it/s]\n"
     ]
    },
    {
     "name": "stdout",
     "output_type": "stream",
     "text": [
      "{'max_geracoes': 500, 'capacidade': 5, 'vertices': 140, 'npacotes': 650, 'n_individuos': 15, 'n_caminhoes': 156, 'min_variacao': 0.005, 'strikes': 9}\n"
     ]
    },
    {
     "name": "stderr",
     "output_type": "stream",
     "text": [
      "100%|██████████| 15/15 [00:00<00:00, 1250.36it/s]\n",
      "100%|██████████| 15/15 [00:00<00:00, 1122.65it/s]\n",
      "100%|██████████| 15/15 [00:00<00:00, 1257.16it/s]\n",
      "100%|██████████| 15/15 [00:00<00:00, 1156.96it/s]\n",
      "100%|██████████| 15/15 [00:00<00:00, 1209.31it/s]\n",
      "100%|██████████| 15/15 [00:00<00:00, 1156.94it/s]\n"
     ]
    },
    {
     "name": "stdout",
     "output_type": "stream",
     "text": [
      "{'max_geracoes': 500, 'capacidade': 5, 'vertices': 140, 'npacotes': 650, 'n_individuos': 15, 'n_caminhoes': 156, 'min_variacao': 0.005, 'strikes': 3}\n"
     ]
    },
    {
     "name": "stderr",
     "output_type": "stream",
     "text": [
      "100%|██████████| 15/15 [00:00<00:00, 1253.30it/s]\n",
      "100%|██████████| 15/15 [00:00<00:00, 1250.17it/s]\n",
      "100%|██████████| 15/15 [00:00<00:00, 1156.41it/s]\n",
      "100%|██████████| 15/15 [00:00<00:00, 1359.55it/s]\n",
      "100%|██████████| 15/15 [00:00<00:00, 1231.93it/s]\n",
      "100%|██████████| 15/15 [00:00<00:00, 1245.29it/s]\n",
      "100%|██████████| 15/15 [00:00<00:00, 1156.94it/s]\n"
     ]
    },
    {
     "name": "stdout",
     "output_type": "stream",
     "text": [
      "{'max_geracoes': 500, 'capacidade': 5, 'vertices': 140, 'npacotes': 650, 'n_individuos': 15, 'n_caminhoes': 156, 'min_variacao': 0.01, 'strikes': 12}\n"
     ]
    },
    {
     "name": "stderr",
     "output_type": "stream",
     "text": [
      "100%|██████████| 15/15 [00:00<00:00, 1156.71it/s]\n",
      "100%|██████████| 15/15 [00:00<00:00, 1131.98it/s]\n",
      "100%|██████████| 15/15 [00:00<00:00, 1148.77it/s]\n",
      "100%|██████████| 15/15 [00:00<00:00, 1253.38it/s]\n",
      "100%|██████████| 15/15 [00:00<00:00, 1253.58it/s]\n",
      "100%|██████████| 15/15 [00:00<00:00, 1237.43it/s]\n",
      "100%|██████████| 15/15 [00:00<00:00, 1156.92it/s]\n",
      "100%|██████████| 15/15 [00:00<00:00, 1253.28it/s]\n",
      "100%|██████████| 15/15 [00:00<00:00, 53.72it/s]\n",
      "100%|██████████| 15/15 [00:00<00:00, 1253.40it/s]\n",
      "100%|██████████| 15/15 [00:00<00:00, 1153.63it/s]\n",
      "100%|██████████| 15/15 [00:00<00:00, 1154.40it/s]\n",
      "100%|██████████| 15/15 [00:00<00:00, 1260.18it/s]\n",
      "100%|██████████| 15/15 [00:00<00:00, 1157.16it/s]\n",
      "100%|██████████| 15/15 [00:00<00:00, 1156.94it/s]\n",
      "100%|██████████| 15/15 [00:00<00:00, 1074.31it/s]\n",
      "100%|██████████| 15/15 [00:00<00:00, 1156.90it/s]\n",
      "100%|██████████| 15/15 [00:00<00:00, 860.32it/s]\n",
      "100%|██████████| 15/15 [00:00<00:00, 1156.58it/s]\n",
      "100%|██████████| 15/15 [00:00<00:00, 1253.00it/s]\n",
      "100%|██████████| 5/5 [00:00<00:00, 835.55it/s]\n",
      "100%|██████████| 5/5 [00:00<00:00, 835.65it/s]\n",
      "100%|██████████| 5/5 [00:00<00:00, 1002.41it/s]\n",
      "100%|██████████| 5/5 [00:00<00:00, 835.39it/s]\n",
      "100%|██████████| 5/5 [00:00<00:00, 1002.70it/s]\n",
      "100%|██████████| 5/5 [00:00<00:00, 841.35it/s]\n",
      "100%|██████████| 5/5 [00:00<00:00, 996.89it/s]\n",
      "100%|██████████| 5/5 [00:00<00:00, 1002.61it/s]\n",
      "100%|██████████| 5/5 [00:00<00:00, 835.52it/s]\n",
      "100%|██████████| 5/5 [00:00<00:00, 1014.93it/s]\n",
      "100%|██████████| 5/5 [00:00<00:00, 835.52it/s]\n",
      "100%|██████████| 5/5 [00:00<00:00, 853.82it/s]\n",
      "100%|██████████| 5/5 [00:00<00:00, 1002.85it/s]\n",
      "100%|██████████| 5/5 [00:00<00:00, 1012.19it/s]\n",
      "100%|██████████| 5/5 [00:00<00:00, 831.68it/s]\n",
      "100%|██████████| 5/5 [00:00<00:00, 996.84it/s]\n",
      "100%|██████████| 5/5 [00:00<00:00, 1002.75it/s]\n",
      "100%|██████████| 5/5 [00:00<00:00, 835.59it/s]\n",
      "100%|██████████| 5/5 [00:00<00:00, 996.46it/s]\n",
      "100%|██████████| 5/5 [00:00<00:00, 767.48it/s]\n",
      "100%|██████████| 5/5 [00:00<00:00, 719.36it/s]\n",
      "100%|██████████| 5/5 [00:00<00:00, 835.55it/s]\n",
      "100%|██████████| 5/5 [00:00<00:00, 835.45it/s]\n",
      "100%|██████████| 5/5 [00:00<00:00, 1002.80it/s]\n",
      "100%|██████████| 5/5 [00:00<00:00, 839.70it/s]\n",
      "100%|██████████| 5/5 [00:00<00:00, 626.33it/s]\n",
      "100%|██████████| 5/5 [00:00<00:00, 1004.24it/s]\n",
      "100%|██████████| 5/5 [00:00<00:00, 996.93it/s]\n",
      "100%|██████████| 5/5 [00:00<00:00, 991.05it/s]\n",
      "100%|██████████| 5/5 [00:00<00:00, 1002.80it/s]\n",
      "100%|██████████| 5/5 [00:00<00:00, 835.69it/s]\n",
      "100%|██████████| 5/5 [00:00<00:00, 1003.57it/s]\n",
      "100%|██████████| 5/5 [00:00<00:00, 1002.32it/s]\n",
      "100%|██████████| 5/5 [00:00<00:00, 839.47it/s]\n",
      "100%|██████████| 5/5 [00:00<00:00, 712.47it/s]\n",
      "100%|██████████| 5/5 [00:00<00:00, 828.72it/s]\n",
      "100%|██████████| 5/5 [00:00<00:00, 835.65it/s]\n",
      "100%|██████████| 5/5 [00:00<00:00, 839.84it/s]\n",
      "100%|██████████| 5/5 [00:00<00:00, 996.04it/s]\n",
      "100%|██████████| 5/5 [00:00<00:00, 715.82it/s]\n",
      "100%|██████████| 5/5 [00:00<00:00, 835.59it/s]\n",
      "100%|██████████| 5/5 [00:00<00:00, 627.40it/s]\n",
      "100%|██████████| 5/5 [00:00<00:00, 997.03it/s]\n",
      "100%|██████████| 5/5 [00:00<00:00, 835.59it/s]\n",
      "100%|██████████| 5/5 [00:00<00:00, 835.62it/s]\n",
      "100%|██████████| 5/5 [00:00<00:00, 888.36it/s]\n",
      "100%|██████████| 5/5 [00:00<00:00, 1002.70it/s]\n",
      "100%|██████████| 5/5 [00:00<00:00, 832.50it/s]\n",
      "100%|██████████| 10/10 [00:00<00:00, 1002.70it/s]\n",
      "100%|██████████| 10/10 [00:00<00:00, 911.49it/s]\n",
      "100%|██████████| 10/10 [00:00<00:00, 1002.87it/s]\n",
      "100%|██████████| 10/10 [00:00<00:00, 911.55it/s]\n",
      "100%|██████████| 10/10 [00:00<00:00, 996.41it/s]\n",
      "100%|██████████| 10/10 [00:00<00:00, 912.08it/s]\n",
      "100%|██████████| 10/10 [00:00<00:00, 1001.15it/s]\n",
      "100%|██████████| 10/10 [00:00<00:00, 916.15it/s]\n"
     ]
    },
    {
     "name": "stdout",
     "output_type": "stream",
     "text": [
      "{'max_geracoes': 500, 'capacidade': 5, 'vertices': 140, 'npacotes': 800, 'n_individuos': 10, 'n_caminhoes': 192, 'min_variacao': 0.001, 'strikes': 12}\n"
     ]
    },
    {
     "name": "stderr",
     "output_type": "stream",
     "text": [
      "100%|██████████| 10/10 [00:00<00:00, 999.00it/s]\n",
      "100%|██████████| 10/10 [00:00<00:00, 999.91it/s]\n",
      "100%|██████████| 10/10 [00:00<00:00, 1114.05it/s]\n",
      "100%|██████████| 10/10 [00:00<00:00, 1002.75it/s]\n",
      "100%|██████████| 10/10 [00:00<00:00, 1002.70it/s]\n",
      "100%|██████████| 10/10 [00:00<00:00, 909.12it/s]\n",
      "100%|██████████| 10/10 [00:00<00:00, 911.45it/s]\n",
      "100%|██████████| 10/10 [00:00<00:00, 999.79it/s]\n",
      "100%|██████████| 10/10 [00:00<00:00, 1007.54it/s]\n",
      "100%|██████████| 10/10 [00:00<00:00, 999.98it/s]\n",
      "100%|██████████| 10/10 [00:00<00:00, 909.22it/s]\n",
      "100%|██████████| 10/10 [00:00<00:00, 996.27it/s]\n",
      "100%|██████████| 10/10 [00:00<00:00, 875.64it/s]\n",
      "100%|██████████| 10/10 [00:00<00:00, 911.55it/s]\n",
      "100%|██████████| 10/10 [00:00<00:00, 911.39it/s]\n",
      "100%|██████████| 10/10 [00:00<00:00, 986.01it/s]\n",
      "100%|██████████| 10/10 [00:00<00:00, 911.53it/s]\n",
      "100%|██████████| 10/10 [00:00<00:00, 979.25it/s]\n",
      "100%|██████████| 10/10 [00:00<00:00, 911.61it/s]\n",
      "100%|██████████| 10/10 [00:00<00:00, 1002.32it/s]\n",
      "100%|██████████| 10/10 [00:00<00:00, 1110.19it/s]\n",
      "100%|██████████| 10/10 [00:00<00:00, 911.53it/s]\n",
      "100%|██████████| 10/10 [00:00<00:00, 902.99it/s]\n",
      "100%|██████████| 10/10 [00:00<00:00, 911.21it/s]\n",
      "100%|██████████| 10/10 [00:00<00:00, 998.22it/s]\n",
      "100%|██████████| 10/10 [00:00<00:00, 1002.39it/s]\n",
      "100%|██████████| 10/10 [00:00<00:00, 911.49it/s]\n",
      "100%|██████████| 10/10 [00:00<00:00, 835.57it/s]\n",
      "100%|██████████| 10/10 [00:00<00:00, 911.59it/s]\n",
      "100%|██████████| 10/10 [00:00<00:00, 946.07it/s]\n",
      "100%|██████████| 10/10 [00:00<00:00, 911.53it/s]\n",
      "100%|██████████| 10/10 [00:00<00:00, 1002.03it/s]\n",
      "100%|██████████| 10/10 [00:00<00:00, 1002.70it/s]\n",
      "100%|██████████| 10/10 [00:00<00:00, 1003.01it/s]\n",
      "100%|██████████| 10/10 [00:00<00:00, 1003.64it/s]\n",
      "100%|██████████| 10/10 [00:00<00:00, 909.06it/s]\n",
      "100%|██████████| 10/10 [00:00<00:00, 911.53it/s]\n",
      "100%|██████████| 10/10 [00:00<00:00, 1002.68it/s]\n",
      "100%|██████████| 10/10 [00:00<00:00, 906.33it/s]\n",
      "100%|██████████| 10/10 [00:00<00:00, 914.57it/s]\n",
      "100%|██████████| 15/15 [00:00<00:00, 1001.28it/s]\n",
      "100%|██████████| 15/15 [00:00<00:00, 940.05it/s]\n"
     ]
    },
    {
     "name": "stdout",
     "output_type": "stream",
     "text": [
      "{'max_geracoes': 500, 'capacidade': 5, 'vertices': 140, 'npacotes': 800, 'n_individuos': 15, 'n_caminhoes': 192, 'min_variacao': 0.001, 'strikes': 6}\n"
     ]
    },
    {
     "name": "stderr",
     "output_type": "stream",
     "text": [
      "100%|██████████| 15/15 [00:00<00:00, 1000.76it/s]\n"
     ]
    },
    {
     "name": "stdout",
     "output_type": "stream",
     "text": [
      "{'max_geracoes': 500, 'capacidade': 5, 'vertices': 140, 'npacotes': 800, 'n_individuos': 15, 'n_caminhoes': 192, 'min_variacao': 0.001, 'strikes': 9}\n"
     ]
    },
    {
     "name": "stderr",
     "output_type": "stream",
     "text": [
      "100%|██████████| 15/15 [00:00<00:00, 1003.05it/s]\n"
     ]
    },
    {
     "name": "stdout",
     "output_type": "stream",
     "text": [
      "{'max_geracoes': 500, 'capacidade': 5, 'vertices': 140, 'npacotes': 800, 'n_individuos': 15, 'n_caminhoes': 192, 'min_variacao': 0.001, 'strikes': 12}\n"
     ]
    },
    {
     "name": "stderr",
     "output_type": "stream",
     "text": [
      "100%|██████████| 15/15 [00:00<00:00, 1000.85it/s]\n",
      "100%|██████████| 15/15 [00:00<00:00, 600.93it/s]\n",
      "100%|██████████| 15/15 [00:00<00:00, 1002.75it/s]\n",
      "100%|██████████| 15/15 [00:00<00:00, 1002.70it/s]\n",
      "100%|██████████| 15/15 [00:00<00:00, 939.98it/s]\n",
      "100%|██████████| 15/15 [00:00<00:00, 1002.48it/s]\n",
      "100%|██████████| 15/15 [00:00<00:00, 1008.94it/s]\n",
      "100%|██████████| 15/15 [00:00<00:00, 940.01it/s]\n"
     ]
    },
    {
     "name": "stdout",
     "output_type": "stream",
     "text": [
      "{'max_geracoes': 500, 'capacidade': 5, 'vertices': 140, 'npacotes': 800, 'n_individuos': 15, 'n_caminhoes': 192, 'min_variacao': 0.001, 'strikes': 12}\n"
     ]
    },
    {
     "name": "stderr",
     "output_type": "stream",
     "text": [
      "100%|██████████| 15/15 [00:00<00:00, 998.52it/s]\n",
      "100%|██████████| 15/15 [00:00<00:00, 935.42it/s]\n",
      "100%|██████████| 15/15 [00:00<00:00, 940.44it/s]\n",
      "100%|██████████| 15/15 [00:00<00:00, 1002.67it/s]\n",
      "100%|██████████| 15/15 [00:00<00:00, 938.97it/s]\n",
      "100%|██████████| 15/15 [00:00<00:00, 882.52it/s]\n",
      "100%|██████████| 15/15 [00:00<00:00, 940.01it/s]\n",
      "100%|██████████| 15/15 [00:00<00:00, 1000.85it/s]\n",
      "100%|██████████| 15/15 [00:00<00:00, 884.71it/s]\n",
      "100%|██████████| 15/15 [00:00<00:00, 940.08it/s]\n",
      "100%|██████████| 15/15 [00:00<00:00, 940.02it/s]\n",
      "100%|██████████| 15/15 [00:00<00:00, 1000.50it/s]\n",
      "100%|██████████| 15/15 [00:00<00:00, 902.83it/s]\n",
      "100%|██████████| 15/15 [00:00<00:00, 909.21it/s]\n",
      "100%|██████████| 15/15 [00:00<00:00, 933.19it/s]\n",
      "100%|██████████| 15/15 [00:00<00:00, 928.35it/s]\n",
      "100%|██████████| 15/15 [00:00<00:00, 936.40it/s]\n",
      "100%|██████████| 15/15 [00:00<00:00, 1002.67it/s]\n",
      "100%|██████████| 15/15 [00:00<00:00, 1000.72it/s]\n",
      "100%|██████████| 15/15 [00:00<00:00, 1002.64it/s]\n",
      "100%|██████████| 15/15 [00:00<00:00, 939.99it/s]\n",
      "100%|██████████| 15/15 [00:00<00:00, 1002.69it/s]\n",
      "100%|██████████| 15/15 [00:00<00:00, 1000.15it/s]\n",
      "100%|██████████| 15/15 [00:00<00:00, 998.77it/s]\n",
      "100%|██████████| 15/15 [00:00<00:00, 601.58it/s]\n",
      "100%|██████████| 15/15 [00:00<00:00, 884.72it/s]\n",
      "100%|██████████| 15/15 [00:00<00:00, 1002.69it/s]\n",
      "100%|██████████| 15/15 [00:00<00:00, 1001.87it/s]\n",
      "100%|██████████| 15/15 [00:00<00:00, 1000.82it/s]\n",
      "100%|██████████| 15/15 [00:00<00:00, 884.34it/s]\n",
      "100%|██████████| 15/15 [00:00<00:00, 1002.70it/s]\n",
      "100%|██████████| 15/15 [00:00<00:00, 1002.61it/s]\n",
      "100%|██████████| 15/15 [00:00<00:00, 1032.10it/s]\n",
      "100%|██████████| 15/15 [00:00<00:00, 884.76it/s]\n",
      "100%|██████████| 15/15 [00:00<00:00, 884.63it/s]\n",
      "100%|██████████| 15/15 [00:00<00:00, 1002.64it/s]\n",
      "100%|██████████| 5/5 [00:00<00:00, 834.29it/s]\n",
      "100%|██████████| 5/5 [00:00<00:00, 831.61it/s]\n",
      "100%|██████████| 5/5 [00:00<00:00, 716.17it/s]\n",
      "100%|██████████| 5/5 [00:00<00:00, 835.49it/s]\n",
      "100%|██████████| 5/5 [00:00<00:00, 830.00it/s]\n",
      "100%|██████████| 5/5 [00:00<00:00, 832.57it/s]\n",
      "100%|██████████| 5/5 [00:00<00:00, 712.90it/s]\n",
      "100%|██████████| 5/5 [00:00<00:00, 715.97it/s]\n",
      "100%|██████████| 5/5 [00:00<00:00, 626.67it/s]\n",
      "100%|██████████| 5/5 [00:00<00:00, 837.89it/s]\n",
      "100%|██████████| 5/5 [00:00<00:00, 716.22it/s]\n",
      "100%|██████████| 5/5 [00:00<00:00, 839.70it/s]\n",
      "100%|██████████| 5/5 [00:00<00:00, 716.31it/s]\n",
      "100%|██████████| 5/5 [00:00<00:00, 835.72it/s]\n",
      "100%|██████████| 5/5 [00:00<00:00, 716.24it/s]\n",
      "100%|██████████| 5/5 [00:00<00:00, 557.71it/s]\n",
      "100%|██████████| 5/5 [00:00<00:00, 713.83it/s]\n",
      "100%|██████████| 5/5 [00:00<00:00, 831.18it/s]\n",
      "100%|██████████| 5/5 [00:00<00:00, 527.20it/s]\n",
      "100%|██████████| 5/5 [00:00<00:00, 716.51it/s]\n",
      "100%|██████████| 5/5 [00:00<00:00, 833.56it/s]\n",
      "100%|██████████| 5/5 [00:00<00:00, 835.75it/s]\n",
      "100%|██████████| 5/5 [00:00<00:00, 835.25it/s]\n",
      "100%|██████████| 5/5 [00:00<00:00, 713.07it/s]\n",
      "100%|██████████| 5/5 [00:00<00:00, 716.17it/s]\n",
      "100%|██████████| 5/5 [00:00<00:00, 709.89it/s]\n",
      "100%|██████████| 5/5 [00:00<00:00, 719.04it/s]\n",
      "100%|██████████| 5/5 [00:00<00:00, 711.12it/s]\n",
      "100%|██████████| 5/5 [00:00<00:00, 725.36it/s]\n",
      "100%|██████████| 5/5 [00:00<00:00, 837.42it/s]\n",
      "100%|██████████| 5/5 [00:00<00:00, 716.88it/s]\n",
      "100%|██████████| 5/5 [00:00<00:00, 716.07it/s]\n",
      "100%|██████████| 5/5 [00:00<00:00, 667.93it/s]\n",
      "100%|██████████| 5/5 [00:00<00:00, 628.94it/s]\n",
      "100%|██████████| 5/5 [00:00<00:00, 835.55it/s]\n",
      "100%|██████████| 5/5 [00:00<00:00, 835.69it/s]\n",
      "100%|██████████| 5/5 [00:00<00:00, 826.85it/s]\n",
      "100%|██████████| 5/5 [00:00<00:00, 835.15it/s]\n",
      "100%|██████████| 5/5 [00:00<00:00, 556.50it/s]\n",
      "100%|██████████| 5/5 [00:00<00:00, 831.64it/s]\n",
      "100%|██████████| 5/5 [00:00<00:00, 835.62it/s]\n",
      "100%|██████████| 5/5 [00:00<00:00, 716.24it/s]\n",
      "100%|██████████| 5/5 [00:00<00:00, 716.19it/s]\n",
      "100%|██████████| 5/5 [00:00<00:00, 716.24it/s]\n",
      "100%|██████████| 5/5 [00:00<00:00, 835.65it/s]\n",
      "100%|██████████| 5/5 [00:00<00:00, 715.60it/s]\n",
      "100%|██████████| 5/5 [00:00<00:00, 629.87it/s]\n",
      "100%|██████████| 5/5 [00:00<00:00, 716.22it/s]\n",
      "100%|██████████| 10/10 [00:00<00:00, 836.22it/s]\n",
      "100%|██████████| 10/10 [00:00<00:00, 769.61it/s]\n"
     ]
    },
    {
     "name": "stdout",
     "output_type": "stream",
     "text": [
      "{'max_geracoes': 500, 'capacidade': 5, 'vertices': 140, 'npacotes': 950, 'n_individuos': 10, 'n_caminhoes': 228, 'min_variacao': 0.001, 'strikes': 6}\n"
     ]
    },
    {
     "name": "stderr",
     "output_type": "stream",
     "text": [
      "100%|██████████| 10/10 [00:00<00:00, 667.15it/s]\n",
      "100%|██████████| 10/10 [00:00<00:00, 831.41it/s]\n",
      "100%|██████████| 10/10 [00:00<00:00, 771.18it/s]\n",
      "100%|██████████| 10/10 [00:00<00:00, 836.24it/s]\n",
      "100%|██████████| 10/10 [00:00<00:00, 835.62it/s]\n",
      "100%|██████████| 10/10 [00:00<00:00, 829.57it/s]\n",
      "100%|██████████| 10/10 [00:00<00:00, 790.02it/s]\n",
      "100%|██████████| 10/10 [00:00<00:00, 906.62it/s]\n",
      "100%|██████████| 10/10 [00:00<00:00, 833.86it/s]\n",
      "100%|██████████| 10/10 [00:00<00:00, 771.07it/s]\n",
      "100%|██████████| 10/10 [00:00<00:00, 771.24it/s]\n",
      "100%|██████████| 10/10 [00:00<00:00, 775.70it/s]\n",
      "100%|██████████| 10/10 [00:00<00:00, 835.60it/s]\n",
      "100%|██████████| 10/10 [00:00<00:00, 835.32it/s]\n",
      "100%|██████████| 10/10 [00:00<00:00, 835.34it/s]\n",
      "100%|██████████| 10/10 [00:00<00:00, 769.55it/s]\n",
      "100%|██████████| 10/10 [00:00<00:00, 799.72it/s]\n",
      "100%|██████████| 10/10 [00:00<00:00, 771.32it/s]\n",
      "100%|██████████| 10/10 [00:00<00:00, 771.25it/s]\n",
      "100%|██████████| 10/10 [00:00<00:00, 829.24it/s]\n",
      "100%|██████████| 10/10 [00:00<00:00, 771.28it/s]\n",
      "100%|██████████| 10/10 [00:00<00:00, 833.54it/s]\n",
      "100%|██████████| 10/10 [00:00<00:00, 770.86it/s]\n",
      "100%|██████████| 10/10 [00:00<00:00, 646.37it/s]\n",
      "100%|██████████| 10/10 [00:00<00:00, 835.57it/s]\n",
      "100%|██████████| 10/10 [00:00<00:00, 866.50it/s]\n",
      "100%|██████████| 10/10 [00:00<00:00, 771.28it/s]\n",
      "100%|██████████| 10/10 [00:00<00:00, 716.18it/s]\n",
      "100%|██████████| 10/10 [00:00<00:00, 769.36it/s]\n",
      "100%|██████████| 10/10 [00:00<00:00, 837.27it/s]\n",
      "100%|██████████| 10/10 [00:00<00:00, 833.56it/s]\n",
      "100%|██████████| 10/10 [00:00<00:00, 831.96it/s]\n",
      "100%|██████████| 10/10 [00:00<00:00, 833.53it/s]\n",
      "100%|██████████| 10/10 [00:00<00:00, 835.52it/s]\n",
      "100%|██████████| 10/10 [00:00<00:00, 835.50it/s]\n",
      "100%|██████████| 10/10 [00:00<00:00, 831.53it/s]\n",
      "100%|██████████| 10/10 [00:00<00:00, 835.10it/s]\n",
      "100%|██████████| 10/10 [00:00<00:00, 767.33it/s]\n",
      "100%|██████████| 10/10 [00:00<00:00, 765.37it/s]\n",
      "100%|██████████| 10/10 [00:00<00:00, 769.13it/s]\n",
      "100%|██████████| 10/10 [00:00<00:00, 835.62it/s]\n",
      "100%|██████████| 10/10 [00:00<00:00, 835.62it/s]\n",
      "100%|██████████| 10/10 [00:00<00:00, 831.41it/s]\n",
      "100%|██████████| 10/10 [00:00<00:00, 771.18it/s]\n",
      "100%|██████████| 10/10 [00:00<00:00, 858.85it/s]\n",
      "100%|██████████| 10/10 [00:00<00:00, 771.21it/s]\n",
      "100%|██████████| 15/15 [00:00<00:00, 792.64it/s]\n"
     ]
    },
    {
     "name": "stdout",
     "output_type": "stream",
     "text": [
      "{'max_geracoes': 500, 'capacidade': 5, 'vertices': 140, 'npacotes': 950, 'n_individuos': 15, 'n_caminhoes': 228, 'min_variacao': 0.001, 'strikes': 3}\n"
     ]
    },
    {
     "name": "stderr",
     "output_type": "stream",
     "text": [
      "100%|██████████| 15/15 [00:00<00:00, 791.62it/s]\n",
      "100%|██████████| 15/15 [00:00<00:00, 733.63it/s]\n",
      "100%|██████████| 15/15 [00:00<00:00, 50.81it/s]\n"
     ]
    },
    {
     "name": "stdout",
     "output_type": "stream",
     "text": [
      "{'max_geracoes': 500, 'capacidade': 5, 'vertices': 140, 'npacotes': 950, 'n_individuos': 15, 'n_caminhoes': 228, 'min_variacao': 0.001, 'strikes': 12}\n"
     ]
    },
    {
     "name": "stderr",
     "output_type": "stream",
     "text": [
      "100%|██████████| 15/15 [00:00<00:00, 537.14it/s]\n",
      "100%|██████████| 15/15 [00:00<00:00, 752.55it/s]\n",
      "100%|██████████| 15/15 [00:00<00:00, 883.21it/s]\n",
      "100%|██████████| 15/15 [00:00<00:00, 821.60it/s]\n",
      "100%|██████████| 15/15 [00:00<00:00, 882.16it/s]\n",
      "100%|██████████| 15/15 [00:00<00:00, 683.90it/s]\n",
      "100%|██████████| 15/15 [00:00<00:00, 835.64it/s]\n"
     ]
    },
    {
     "name": "stdout",
     "output_type": "stream",
     "text": [
      "{'max_geracoes': 500, 'capacidade': 5, 'vertices': 140, 'npacotes': 950, 'n_individuos': 15, 'n_caminhoes': 228, 'min_variacao': 0.001, 'strikes': 9}\n"
     ]
    },
    {
     "name": "stderr",
     "output_type": "stream",
     "text": [
      "100%|██████████| 15/15 [00:00<00:00, 885.32it/s]\n",
      "100%|██████████| 15/15 [00:00<00:00, 843.45it/s]\n",
      "100%|██████████| 15/15 [00:00<00:00, 808.14it/s]\n",
      "100%|██████████| 15/15 [00:00<00:00, 835.44it/s]\n",
      "100%|██████████| 15/15 [00:00<00:00, 790.43it/s]\n",
      "100%|██████████| 15/15 [00:00<00:00, 832.84it/s]\n",
      "100%|██████████| 15/15 [00:00<00:00, 841.18it/s]\n",
      "100%|██████████| 15/15 [00:00<00:00, 834.27it/s]\n",
      "100%|██████████| 15/15 [00:00<00:00, 776.88it/s]\n",
      "100%|██████████| 15/15 [00:00<00:00, 654.71it/s]\n",
      "100%|██████████| 15/15 [00:00<00:00, 828.06it/s]\n",
      "100%|██████████| 15/15 [00:00<00:00, 791.53it/s]\n",
      "100%|██████████| 15/15 [00:00<00:00, 825.91it/s]\n",
      "100%|██████████| 15/15 [00:00<00:00, 793.08it/s]\n",
      "100%|██████████| 15/15 [00:00<00:00, 791.61it/s]\n",
      "100%|██████████| 15/15 [00:00<00:00, 882.89it/s]\n",
      "100%|██████████| 15/15 [00:00<00:00, 832.26it/s]\n",
      "100%|██████████| 15/15 [00:00<00:00, 556.90it/s]\n",
      "100%|██████████| 15/15 [00:00<00:00, 834.16it/s]\n",
      "100%|██████████| 15/15 [00:00<00:00, 751.88it/s]\n",
      "100%|██████████| 15/15 [00:00<00:00, 752.89it/s]\n",
      "100%|██████████| 15/15 [00:00<00:00, 834.24it/s]\n",
      "100%|██████████| 15/15 [00:00<00:00, 834.12it/s]\n",
      "100%|██████████| 15/15 [00:00<00:00, 51.65it/s]\n",
      "100%|██████████| 15/15 [00:00<00:00, 626.90it/s]\n",
      "100%|██████████| 15/15 [00:00<00:00, 835.62it/s]\n",
      "100%|██████████| 15/15 [00:00<00:00, 831.13it/s]\n",
      "100%|██████████| 15/15 [00:00<00:00, 790.64it/s]\n",
      "100%|██████████| 15/15 [00:00<00:00, 790.62it/s]\n",
      "100%|██████████| 15/15 [00:00<00:00, 788.83it/s]\n",
      "100%|██████████| 15/15 [00:00<00:00, 790.39it/s]\n",
      "100%|██████████| 15/15 [00:00<00:00, 833.89it/s]\n",
      "100%|██████████| 15/15 [00:00<00:00, 751.99it/s]\n",
      "100%|██████████| 15/15 [00:00<00:00, 791.56it/s]\n",
      "100%|██████████| 15/15 [00:00<00:00, 808.69it/s]\n",
      "100%|██████████| 15/15 [00:00<00:00, 791.60it/s]\n",
      "100%|██████████| 15/15 [00:00<00:00, 835.57it/s]\n",
      "100%|██████████| 5/5 [00:00<?, ?it/s]\n",
      "100%|██████████| 5/5 [00:00<?, ?it/s]\n",
      "100%|██████████| 5/5 [00:00<?, ?it/s]\n",
      "100%|██████████| 5/5 [00:00<?, ?it/s]\n",
      "100%|██████████| 5/5 [00:00<00:00, 5162.86it/s]\n",
      "100%|██████████| 5/5 [00:00<00:00, 5017.11it/s]\n",
      "100%|██████████| 5/5 [00:00<?, ?it/s]\n",
      "100%|██████████| 5/5 [00:00<00:00, 5013.51it/s]\n",
      "100%|██████████| 5/5 [00:00<?, ?it/s]\n",
      "100%|██████████| 5/5 [00:00<00:00, 4911.36it/s]\n",
      "100%|██████████| 5/5 [00:00<?, ?it/s]\n",
      "100%|██████████| 5/5 [00:00<00:00, 5009.92it/s]\n",
      "100%|██████████| 5/5 [00:00<?, ?it/s]\n",
      "100%|██████████| 5/5 [00:00<00:00, 5017.11it/s]\n",
      "100%|██████████| 5/5 [00:00<?, ?it/s]\n",
      "100%|██████████| 5/5 [00:00<?, ?it/s]\n",
      "100%|██████████| 5/5 [00:00<00:00, 5009.92it/s]\n",
      "100%|██████████| 5/5 [00:00<00:00, 5013.51it/s]\n",
      "100%|██████████| 5/5 [00:00<00:00, 4962.50it/s]\n",
      "100%|██████████| 5/5 [00:00<?, ?it/s]\n",
      "100%|██████████| 5/5 [00:00<00:00, 5025.53it/s]\n",
      "100%|██████████| 5/5 [00:00<?, ?it/s]\n",
      "100%|██████████| 5/5 [00:00<?, ?it/s]\n",
      "100%|██████████| 5/5 [00:00<?, ?it/s]\n",
      "100%|██████████| 5/5 [00:00<?, ?it/s]\n",
      "100%|██████████| 5/5 [00:00<?, ?it/s]\n",
      "100%|██████████| 5/5 [00:00<00:00, 5021.92it/s]\n",
      "100%|██████████| 5/5 [00:00<00:00, 4850.03it/s]\n",
      "100%|██████████| 5/5 [00:00<?, ?it/s]\n",
      "100%|██████████| 5/5 [00:00<00:00, 5013.51it/s]\n",
      "100%|██████████| 5/5 [00:00<00:00, 5006.33it/s]\n",
      "100%|██████████| 5/5 [00:00<?, ?it/s]\n",
      "100%|██████████| 5/5 [00:00<00:00, 5041.23it/s]\n",
      "100%|██████████| 5/5 [00:00<00:00, 5014.71it/s]\n",
      "100%|██████████| 5/5 [00:00<00:00, 5014.71it/s]\n",
      "100%|██████████| 5/5 [00:00<?, ?it/s]\n",
      "100%|██████████| 5/5 [00:00<?, ?it/s]\n",
      "100%|██████████| 5/5 [00:00<?, ?it/s]\n",
      "100%|██████████| 5/5 [00:00<?, ?it/s]\n",
      "100%|██████████| 5/5 [00:00<?, ?it/s]\n",
      "100%|██████████| 5/5 [00:00<?, ?it/s]\n",
      "100%|██████████| 5/5 [00:00<?, ?it/s]\n",
      "100%|██████████| 5/5 [00:00<00:00, 5017.11it/s]\n",
      "100%|██████████| 5/5 [00:00<00:00, 5005.14it/s]\n",
      "100%|██████████| 5/5 [00:00<?, ?it/s]\n",
      "100%|██████████| 5/5 [00:00<?, ?it/s]\n",
      "100%|██████████| 5/5 [00:00<00:00, 5011.12it/s]\n",
      "100%|██████████| 5/5 [00:00<00:00, 5027.94it/s]\n",
      "100%|██████████| 10/10 [00:00<00:00, 10000.72it/s]\n",
      "100%|██████████| 10/10 [00:00<00:00, 10027.02it/s]\n",
      "100%|██████████| 10/10 [00:00<?, ?it/s]\n",
      "100%|██████████| 10/10 [00:00<00:00, 10024.63it/s]\n",
      "100%|██████████| 10/10 [00:00<00:00, 9913.27it/s]\n",
      "100%|██████████| 10/10 [00:00<00:00, 9754.20it/s]\n",
      "100%|██████████| 10/10 [00:00<00:00, 10019.84it/s]\n",
      "100%|██████████| 10/10 [00:00<?, ?it/s]\n",
      "100%|██████████| 10/10 [00:00<00:00, 10027.02it/s]\n",
      "100%|██████████| 10/10 [00:00<00:00, 10031.82it/s]\n",
      "100%|██████████| 10/10 [00:00<00:00, 16467.62it/s]\n",
      "100%|██████████| 10/10 [00:00<00:00, 10027.02it/s]\n",
      "100%|██████████| 10/10 [00:00<00:00, 9747.39it/s]\n",
      "100%|██████████| 10/10 [00:00<?, ?it/s]\n",
      "100%|██████████| 10/10 [00:00<00:00, 10036.62it/s]\n",
      "100%|██████████| 10/10 [00:00<00:00, 9901.57it/s]\n",
      "100%|██████████| 10/10 [00:00<?, ?it/s]\n",
      "100%|██████████| 10/10 [00:00<00:00, 9765.55it/s]\n",
      "100%|██████████| 10/10 [00:00<00:00, 10084.89it/s]\n",
      "100%|██████████| 10/10 [00:00<00:00, 9758.73it/s]\n",
      "100%|██████████| 10/10 [00:00<00:00, 10029.42it/s]\n",
      "100%|██████████| 10/10 [00:00<00:00, 10024.63it/s]\n",
      "100%|██████████| 10/10 [00:00<00:00, 10017.44it/s]\n",
      "100%|██████████| 10/10 [00:00<00:00, 10158.16it/s]\n",
      "100%|██████████| 10/10 [00:00<00:00, 10012.66it/s]\n",
      "100%|██████████| 10/10 [00:00<00:00, 9472.23it/s]\n",
      "100%|██████████| 10/10 [00:00<00:00, 10031.82it/s]\n",
      "100%|██████████| 10/10 [00:00<?, ?it/s]\n",
      "100%|██████████| 10/10 [00:00<00:00, 5014.11it/s]\n",
      "100%|██████████| 10/10 [00:00<00:00, 9808.94it/s]\n",
      "100%|██████████| 10/10 [00:00<00:00, 10065.52it/s]\n",
      "100%|██████████| 10/10 [00:00<?, ?it/s]\n",
      "100%|██████████| 10/10 [00:00<?, ?it/s]\n",
      "100%|██████████| 10/10 [00:00<00:00, 10027.02it/s]\n",
      "100%|██████████| 10/10 [00:00<00:00, 10027.02it/s]\n",
      "100%|██████████| 10/10 [00:00<00:00, 10029.42it/s]\n",
      "100%|██████████| 10/10 [00:00<00:00, 9804.36it/s]\n",
      "100%|██████████| 10/10 [00:00<?, ?it/s]\n",
      "100%|██████████| 10/10 [00:00<?, ?it/s]\n",
      "100%|██████████| 10/10 [00:00<00:00, 9706.79it/s]\n",
      "100%|██████████| 10/10 [00:00<00:00, 5086.47it/s]\n",
      "100%|██████████| 10/10 [00:00<00:00, 5014.71it/s]\n",
      "100%|██████████| 10/10 [00:00<00:00, 10310.48it/s]\n",
      "100%|██████████| 10/10 [00:00<00:00, 10260.04it/s]\n",
      "100%|██████████| 10/10 [00:00<00:00, 10027.02it/s]\n",
      "100%|██████████| 10/10 [00:00<00:00, 10525.23it/s]\n",
      "100%|██████████| 10/10 [00:00<00:00, 10046.24it/s]\n",
      "100%|██████████| 10/10 [00:00<00:00, 10067.94it/s]\n",
      "100%|██████████| 15/15 [00:00<00:00, 15033.35it/s]\n",
      "100%|██████████| 15/15 [00:00<00:00, 15065.75it/s]\n",
      "100%|██████████| 15/15 [00:00<00:00, 15051.33it/s]\n",
      "100%|██████████| 15/15 [00:00<00:00, 15607.68it/s]\n",
      "100%|██████████| 15/15 [00:00<00:00, 15044.13it/s]\n",
      "100%|██████████| 15/15 [00:00<00:00, 5013.51it/s]\n",
      "100%|██████████| 15/15 [00:00<00:00, 14607.51it/s]\n",
      "100%|██████████| 15/15 [00:00<00:00, 14621.09it/s]\n",
      "100%|██████████| 15/15 [00:00<00:00, 15044.13it/s]\n",
      "100%|██████████| 15/15 [00:00<00:00, 15431.58it/s]\n",
      "100%|██████████| 15/15 [00:00<00:00, 7511.29it/s]\n",
      "100%|██████████| 15/15 [00:00<00:00, 7519.37it/s]\n",
      "100%|██████████| 15/15 [00:00<00:00, 15040.54it/s]\n",
      "100%|██████████| 15/15 [00:00<00:00, 15051.33it/s]\n",
      "100%|██████████| 15/15 [00:00<00:00, 7516.67it/s]\n",
      "100%|██████████| 15/15 [00:00<00:00, 27752.34it/s]\n",
      "100%|██████████| 15/15 [00:00<00:00, 15036.94it/s]\n",
      "100%|██████████| 15/15 [00:00<00:00, 15080.19it/s]\n",
      "100%|██████████| 15/15 [00:00<00:00, 14926.35it/s]\n",
      "100%|██████████| 15/15 [00:00<00:00, 15036.94it/s]\n",
      "100%|██████████| 15/15 [00:00<00:00, 13715.84it/s]\n",
      "100%|██████████| 15/15 [00:00<00:00, 15036.94it/s]\n",
      "100%|██████████| 15/15 [00:00<00:00, 15033.35it/s]\n",
      "100%|██████████| 15/15 [00:00<00:00, 7500.54it/s]\n",
      "100%|██████████| 15/15 [00:00<00:00, 15047.73it/s]\n",
      "100%|██████████| 15/15 [00:00<00:00, 7520.27it/s]\n",
      "100%|██████████| 15/15 [00:00<00:00, 15259.41it/s]\n",
      "100%|██████████| 15/15 [00:00<00:00, 15040.54it/s]\n",
      "100%|██████████| 15/15 [00:00<00:00, 7520.27it/s]\n",
      "100%|██████████| 15/15 [00:00<00:00, 15094.66it/s]\n",
      "100%|██████████| 15/15 [00:00<00:00, 15065.75it/s]\n",
      "100%|██████████| 15/15 [00:00<00:00, 15167.44it/s]\n",
      "100%|██████████| 15/15 [00:00<00:00, 15036.94it/s]\n",
      "100%|██████████| 15/15 [00:00<00:00, 14675.66it/s]\n",
      "100%|██████████| 15/15 [00:00<00:00, 12699.75it/s]\n",
      "100%|██████████| 15/15 [00:00<00:00, 14573.68it/s]\n",
      "100%|██████████| 15/15 [00:00<00:00, 14607.51it/s]\n",
      "100%|██████████| 15/15 [00:00<00:00, 15033.35it/s]\n",
      "100%|██████████| 15/15 [00:00<00:00, 15047.73it/s]\n",
      "100%|██████████| 15/15 [00:00<00:00, 15138.25it/s]\n",
      "100%|██████████| 15/15 [00:00<00:00, 7517.57it/s]\n",
      "100%|██████████| 15/15 [00:00<00:00, 14597.35it/s]\n",
      "100%|██████████| 15/15 [00:00<00:00, 15259.41it/s]\n",
      "100%|██████████| 15/15 [00:00<00:00, 15015.41it/s]\n",
      "100%|██████████| 15/15 [00:00<00:00, 15036.94it/s]\n",
      "100%|██████████| 15/15 [00:00<00:00, 15044.13it/s]\n",
      "100%|██████████| 15/15 [00:00<00:00, 14350.95it/s]\n",
      "100%|██████████| 15/15 [00:00<00:00, 14716.86it/s]\n",
      "100%|██████████| 5/5 [00:00<00:00, 2471.60it/s]\n",
      "100%|██████████| 5/5 [00:00<00:00, 4865.78it/s]\n",
      "100%|██████████| 5/5 [00:00<00:00, 5013.51it/s]\n",
      "100%|██████████| 5/5 [00:00<00:00, 2516.68it/s]\n",
      "100%|██████████| 5/5 [00:00<00:00, 1670.37it/s]\n",
      "100%|██████████| 5/5 [00:00<00:00, 2479.20it/s]\n"
     ]
    },
    {
     "name": "stdout",
     "output_type": "stream",
     "text": [
      "{'max_geracoes': 500, 'capacidade': 5, 'vertices': 190, 'npacotes': 200, 'n_individuos': 5, 'n_caminhoes': 48, 'min_variacao': 0.001, 'strikes': 6}\n"
     ]
    },
    {
     "name": "stderr",
     "output_type": "stream",
     "text": [
      "100%|██████████| 5/5 [00:00<00:00, 2515.48it/s]\n",
      "100%|██████████| 5/5 [00:00<00:00, 2507.36it/s]\n",
      "100%|██████████| 5/5 [00:00<00:00, 2502.57it/s]\n",
      "100%|██████████| 5/5 [00:00<00:00, 4875.96it/s]\n",
      "100%|██████████| 5/5 [00:00<00:00, 2506.46it/s]\n",
      "100%|██████████| 5/5 [00:00<00:00, 2506.46it/s]\n",
      "100%|██████████| 5/5 [00:00<00:00, 5014.71it/s]\n",
      "100%|██████████| 5/5 [00:00<00:00, 2508.25it/s]\n",
      "100%|██████████| 5/5 [00:00<00:00, 2506.16it/s]\n",
      "100%|██████████| 5/5 [00:00<00:00, 2479.49it/s]\n",
      "100%|██████████| 5/5 [00:00<00:00, 1671.04it/s]\n",
      "100%|██████████| 5/5 [00:00<00:00, 2507.36it/s]\n",
      "100%|██████████| 5/5 [00:00<00:00, 5017.11it/s]\n",
      "100%|██████████| 5/5 [00:00<00:00, 2506.76it/s]\n",
      "100%|██████████| 5/5 [00:00<00:00, 2506.76it/s]\n",
      "100%|██████████| 5/5 [00:00<00:00, 1670.90it/s]\n",
      "100%|██████████| 5/5 [00:00<00:00, 5049.73it/s]\n",
      "100%|██████████| 5/5 [00:00<00:00, 2520.01it/s]\n",
      "100%|██████████| 5/5 [00:00<00:00, 2506.16it/s]\n",
      "100%|██████████| 5/5 [00:00<00:00, 2523.34it/s]\n",
      "100%|██████████| 5/5 [00:00<00:00, 5014.71it/s]\n",
      "100%|██████████| 5/5 [00:00<00:00, 2506.76it/s]\n",
      "100%|██████████| 5/5 [00:00<00:00, 2368.33it/s]\n",
      "100%|██████████| 5/5 [00:00<00:00, 4870.30it/s]\n",
      "100%|██████████| 5/5 [00:00<00:00, 2505.86it/s]\n",
      "100%|██████████| 5/5 [00:00<00:00, 4869.17it/s]\n",
      "100%|██████████| 5/5 [00:00<00:00, 2506.16it/s]\n",
      "100%|██████████| 5/5 [00:00<00:00, 2498.10it/s]\n",
      "100%|██████████| 5/5 [00:00<00:00, 2505.86it/s]\n",
      "100%|██████████| 5/5 [00:00<00:00, 2513.06it/s]\n",
      "100%|██████████| 5/5 [00:00<00:00, 5009.92it/s]\n",
      "100%|██████████| 5/5 [00:00<00:00, 2506.76it/s]\n",
      "100%|██████████| 5/5 [00:00<00:00, 2505.86it/s]\n",
      "100%|██████████| 5/5 [00:00<00:00, 2507.36it/s]\n",
      "100%|██████████| 5/5 [00:00<00:00, 5006.33it/s]\n",
      "100%|██████████| 5/5 [00:00<00:00, 5012.31it/s]\n",
      "100%|██████████| 5/5 [00:00<00:00, 5013.51it/s]\n",
      "100%|██████████| 5/5 [00:00<00:00, 2506.46it/s]\n",
      "100%|██████████| 5/5 [00:00<00:00, 2491.57it/s]\n",
      "100%|██████████| 5/5 [00:00<00:00, 2506.16it/s]\n",
      "100%|██████████| 5/5 [00:00<00:00, 2507.06it/s]\n",
      "100%|██████████| 5/5 [00:00<00:00, 4902.18it/s]\n",
      "100%|██████████| 10/10 [00:00<00:00, 5012.91it/s]\n",
      "100%|██████████| 10/10 [00:00<00:00, 5015.31it/s]\n",
      "100%|██████████| 10/10 [00:00<00:00, 3334.37it/s]\n",
      "100%|██████████| 10/10 [00:00<00:00, 2526.69it/s]\n",
      "100%|██████████| 10/10 [00:00<00:00, 2336.27it/s]\n",
      "100%|██████████| 10/10 [00:00<00:00, 3341.81it/s]\n"
     ]
    },
    {
     "name": "stdout",
     "output_type": "stream",
     "text": [
      "{'max_geracoes': 500, 'capacidade': 5, 'vertices': 190, 'npacotes': 200, 'n_individuos': 10, 'n_caminhoes': 48, 'min_variacao': 0.001, 'strikes': 6}\n"
     ]
    },
    {
     "name": "stderr",
     "output_type": "stream",
     "text": [
      "100%|██████████| 10/10 [00:00<00:00, 3342.87it/s]\n",
      "100%|██████████| 10/10 [00:00<00:00, 3342.07it/s]\n",
      "100%|██████████| 10/10 [00:00<00:00, 2518.19it/s]\n",
      "100%|██████████| 10/10 [00:00<00:00, 3336.76it/s]\n",
      "100%|██████████| 10/10 [00:00<00:00, 3341.81it/s]\n",
      "100%|██████████| 10/10 [00:00<00:00, 3341.54it/s]\n",
      "100%|██████████| 10/10 [00:00<00:00, 3274.75it/s]\n",
      "100%|██████████| 10/10 [00:00<00:00, 3341.54it/s]\n",
      "100%|██████████| 10/10 [00:00<00:00, 3342.87it/s]\n",
      "100%|██████████| 10/10 [00:00<00:00, 3341.81it/s]\n",
      "100%|██████████| 10/10 [00:00<00:00, 2506.46it/s]\n",
      "100%|██████████| 10/10 [00:00<00:00, 3342.87it/s]\n",
      "100%|██████████| 10/10 [00:00<00:00, 3343.41it/s]\n"
     ]
    },
    {
     "name": "stdout",
     "output_type": "stream",
     "text": [
      "{'max_geracoes': 500, 'capacidade': 5, 'vertices': 190, 'npacotes': 200, 'n_individuos': 10, 'n_caminhoes': 48, 'min_variacao': 0.005, 'strikes': 9}\n"
     ]
    },
    {
     "name": "stderr",
     "output_type": "stream",
     "text": [
      "100%|██████████| 10/10 [00:00<00:00, 3343.67it/s]\n",
      "100%|██████████| 10/10 [00:00<00:00, 3342.61it/s]\n",
      "100%|██████████| 10/10 [00:00<00:00, 3343.41it/s]\n",
      "100%|██████████| 10/10 [00:00<00:00, 4937.96it/s]\n",
      "100%|██████████| 10/10 [00:00<00:00, 3341.81it/s]\n",
      "100%|██████████| 10/10 [00:00<00:00, 3341.81it/s]\n",
      "100%|██████████| 10/10 [00:00<00:00, 4985.50it/s]\n",
      "100%|██████████| 10/10 [00:00<00:00, 3342.61it/s]\n",
      "100%|██████████| 10/10 [00:00<00:00, 3311.73it/s]\n",
      "100%|██████████| 10/10 [00:00<00:00, 3320.38it/s]\n",
      "100%|██████████| 10/10 [00:00<00:00, 3326.96it/s]\n",
      "100%|██████████| 10/10 [00:00<00:00, 4944.36it/s]\n",
      "100%|██████████| 10/10 [00:00<00:00, 3342.34it/s]\n",
      "100%|██████████| 10/10 [00:00<00:00, 3340.74it/s]\n",
      "100%|██████████| 10/10 [00:00<00:00, 2513.67it/s]\n",
      "100%|██████████| 10/10 [00:00<00:00, 3342.61it/s]\n",
      "100%|██████████| 10/10 [00:00<00:00, 3026.41it/s]\n",
      "100%|██████████| 10/10 [00:00<00:00, 4941.45it/s]\n",
      "100%|██████████| 10/10 [00:00<00:00, 3428.68it/s]\n",
      "100%|██████████| 10/10 [00:00<00:00, 5088.94it/s]\n",
      "100%|██████████| 10/10 [00:00<00:00, 3338.62it/s]\n",
      "100%|██████████| 10/10 [00:00<00:00, 3464.36it/s]\n",
      "100%|██████████| 10/10 [00:00<00:00, 3310.94it/s]\n",
      "100%|██████████| 10/10 [00:00<00:00, 3374.34it/s]\n",
      "100%|██████████| 10/10 [00:00<00:00, 3342.61it/s]\n",
      "100%|██████████| 10/10 [00:00<00:00, 2575.09it/s]\n",
      "100%|██████████| 10/10 [00:00<00:00, 2507.06it/s]\n",
      "100%|██████████| 10/10 [00:00<00:00, 4942.62it/s]\n",
      "100%|██████████| 10/10 [00:00<00:00, 2506.61it/s]\n",
      "100%|██████████| 15/15 [00:00<00:00, 3757.89it/s]\n",
      "100%|██████████| 15/15 [00:00<00:00, 3759.68it/s]\n"
     ]
    },
    {
     "name": "stdout",
     "output_type": "stream",
     "text": [
      "{'max_geracoes': 500, 'capacidade': 5, 'vertices': 190, 'npacotes': 200, 'n_individuos': 15, 'n_caminhoes': 48, 'min_variacao': 0.001, 'strikes': 6}\n"
     ]
    },
    {
     "name": "stderr",
     "output_type": "stream",
     "text": [
      "100%|██████████| 15/15 [00:00<00:00, 3008.25it/s]\n",
      "100%|██████████| 15/15 [00:00<00:00, 1670.55it/s]\n",
      "100%|██████████| 15/15 [00:00<00:00, 3760.58it/s]\n",
      "100%|██████████| 15/15 [00:00<00:00, 3755.42it/s]\n",
      "100%|██████████| 15/15 [00:00<00:00, 3005.23it/s]\n",
      "100%|██████████| 15/15 [00:00<00:00, 2994.22it/s]\n",
      "100%|██████████| 15/15 [00:00<00:00, 3771.86it/s]\n",
      "100%|██████████| 15/15 [00:00<00:00, 3025.03it/s]\n",
      "100%|██████████| 15/15 [00:00<00:00, 3008.25it/s]\n",
      "100%|██████████| 15/15 [00:00<00:00, 3738.91it/s]\n"
     ]
    },
    {
     "name": "stdout",
     "output_type": "stream",
     "text": [
      "{'max_geracoes': 500, 'capacidade': 5, 'vertices': 190, 'npacotes': 200, 'n_individuos': 15, 'n_caminhoes': 48, 'min_variacao': 0.001, 'strikes': 12}\n"
     ]
    },
    {
     "name": "stderr",
     "output_type": "stream",
     "text": [
      "100%|██████████| 15/15 [00:00<00:00, 3767.11it/s]\n",
      "100%|██████████| 15/15 [00:00<00:00, 3733.80it/s]\n",
      "100%|██████████| 15/15 [00:00<00:00, 3759.01it/s]\n",
      "100%|██████████| 15/15 [00:00<00:00, 3825.99it/s]\n",
      "100%|██████████| 15/15 [00:00<00:00, 3759.91it/s]\n",
      "100%|██████████| 15/15 [00:00<00:00, 3759.24it/s]\n",
      "100%|██████████| 15/15 [00:00<00:00, 3756.99it/s]\n",
      "100%|██████████| 15/15 [00:00<00:00, 3008.11it/s]\n",
      "100%|██████████| 15/15 [00:00<00:00, 3759.91it/s]\n",
      "100%|██████████| 15/15 [00:00<00:00, 2148.79it/s]\n",
      "100%|██████████| 15/15 [00:00<00:00, 3732.92it/s]\n",
      "100%|██████████| 15/15 [00:00<00:00, 3759.68it/s]\n",
      "100%|██████████| 15/15 [00:00<00:00, 3008.25it/s]\n",
      "100%|██████████| 15/15 [00:00<00:00, 3788.21it/s]\n",
      "100%|██████████| 15/15 [00:00<00:00, 2957.62it/s]\n",
      "100%|██████████| 15/15 [00:00<00:00, 3010.70it/s]\n",
      "100%|██████████| 15/15 [00:00<00:00, 3759.91it/s]\n",
      "100%|██████████| 15/15 [00:00<00:00, 2507.06it/s]\n",
      "100%|██████████| 15/15 [00:00<00:00, 3711.77it/s]\n",
      "100%|██████████| 15/15 [00:00<00:00, 3760.36it/s]\n",
      "100%|██████████| 15/15 [00:00<00:00, 3733.14it/s]\n",
      "100%|██████████| 15/15 [00:00<00:00, 2139.88it/s]\n",
      "100%|██████████| 15/15 [00:00<00:00, 3760.58it/s]\n",
      "100%|██████████| 15/15 [00:00<00:00, 5013.11it/s]\n",
      "100%|██████████| 15/15 [00:00<00:00, 3760.36it/s]\n",
      "100%|██████████| 15/15 [00:00<00:00, 2505.26it/s]\n",
      "100%|██████████| 15/15 [00:00<00:00, 4976.63it/s]\n",
      "100%|██████████| 15/15 [00:00<00:00, 3760.13it/s]\n",
      "100%|██████████| 15/15 [00:00<00:00, 3391.80it/s]\n",
      "100%|██████████| 15/15 [00:00<00:00, 3785.93it/s]\n",
      "100%|██████████| 15/15 [00:00<00:00, 2519.20it/s]\n",
      "100%|██████████| 15/15 [00:00<00:00, 3758.34it/s]\n",
      "100%|██████████| 15/15 [00:00<00:00, 3707.40it/s]\n",
      "100%|██████████| 15/15 [00:00<00:00, 3007.96it/s]\n",
      "100%|██████████| 15/15 [00:00<00:00, 3008.11it/s]\n",
      "100%|██████████| 15/15 [00:00<00:00, 1880.01it/s]\n",
      "100%|██████████| 5/5 [00:00<00:00, 2468.69it/s]\n",
      "100%|██████████| 5/5 [00:00<00:00, 1678.26it/s]\n",
      "100%|██████████| 5/5 [00:00<00:00, 1301.20it/s]\n",
      "100%|██████████| 5/5 [00:00<00:00, 1686.49it/s]\n",
      "100%|██████████| 5/5 [00:00<00:00, 1675.04it/s]\n",
      "100%|██████████| 5/5 [00:00<00:00, 1671.97it/s]\n",
      "100%|██████████| 5/5 [00:00<00:00, 1675.58it/s]\n",
      "100%|██████████| 5/5 [00:00<00:00, 2506.16it/s]\n",
      "100%|██████████| 5/5 [00:00<00:00, 1671.57it/s]\n",
      "100%|██████████| 5/5 [00:00<00:00, 1671.17it/s]\n",
      "100%|██████████| 5/5 [00:00<00:00, 2498.39it/s]\n",
      "100%|██████████| 5/5 [00:00<00:00, 1686.63it/s]\n",
      "100%|██████████| 5/5 [00:00<00:00, 2506.76it/s]\n",
      "100%|██████████| 5/5 [00:00<00:00, 1675.31it/s]\n",
      "100%|██████████| 5/5 [00:00<00:00, 1670.90it/s]\n",
      "100%|██████████| 5/5 [00:00<00:00, 2462.60it/s]\n",
      "100%|██████████| 5/5 [00:00<00:00, 1667.98it/s]\n",
      "100%|██████████| 5/5 [00:00<00:00, 2481.84it/s]\n",
      "100%|██████████| 5/5 [00:00<00:00, 1672.37it/s]\n",
      "100%|██████████| 5/5 [00:00<00:00, 1687.44it/s]\n",
      "100%|██████████| 5/5 [00:00<00:00, 1671.30it/s]\n",
      "100%|██████████| 5/5 [00:00<00:00, 1674.51it/s]\n",
      "100%|██████████| 5/5 [00:00<00:00, 1671.17it/s]\n",
      "100%|██████████| 5/5 [00:00<00:00, 1693.57it/s]\n",
      "100%|██████████| 5/5 [00:00<00:00, 1671.17it/s]\n",
      "100%|██████████| 5/5 [00:00<00:00, 2464.92it/s]\n",
      "100%|██████████| 5/5 [00:00<00:00, 1671.30it/s]\n",
      "100%|██████████| 5/5 [00:00<00:00, 1669.97it/s]\n",
      "100%|██████████| 5/5 [00:00<00:00, 1693.71it/s]\n",
      "100%|██████████| 5/5 [00:00<00:00, 1671.04it/s]\n",
      "100%|██████████| 5/5 [00:00<00:00, 1671.30it/s]\n",
      "100%|██████████| 5/5 [00:00<00:00, 2507.06it/s]\n",
      "100%|██████████| 5/5 [00:00<00:00, 1670.11it/s]\n",
      "100%|██████████| 5/5 [00:00<00:00, 1670.64it/s]\n",
      "100%|██████████| 5/5 [00:00<00:00, 1671.70it/s]\n",
      "100%|██████████| 5/5 [00:00<00:00, 1671.04it/s]\n",
      "100%|██████████| 5/5 [00:00<00:00, 1669.04it/s]\n",
      "100%|██████████| 5/5 [00:00<00:00, 1671.44it/s]\n",
      "100%|██████████| 5/5 [00:00<00:00, 1670.37it/s]\n",
      "100%|██████████| 5/5 [00:00<00:00, 2506.46it/s]\n",
      "100%|██████████| 5/5 [00:00<00:00, 1671.30it/s]\n",
      "100%|██████████| 5/5 [00:00<00:00, 2506.46it/s]\n",
      "100%|██████████| 5/5 [00:00<00:00, 1671.97it/s]\n",
      "100%|██████████| 5/5 [00:00<00:00, 1693.16it/s]\n",
      "100%|██████████| 5/5 [00:00<00:00, 1671.04it/s]\n",
      "100%|██████████| 5/5 [00:00<00:00, 1668.78it/s]\n",
      "100%|██████████| 5/5 [00:00<00:00, 2506.76it/s]\n",
      "100%|██████████| 5/5 [00:00<00:00, 1668.78it/s]\n",
      "100%|██████████| 10/10 [00:00<00:00, 1681.96it/s]\n",
      "100%|██████████| 10/10 [00:00<00:00, 2005.69it/s]\n",
      "100%|██████████| 10/10 [00:00<00:00, 2005.31it/s]\n",
      "100%|██████████| 10/10 [00:00<00:00, 2524.71it/s]\n"
     ]
    },
    {
     "name": "stdout",
     "output_type": "stream",
     "text": [
      "{'max_geracoes': 500, 'capacidade': 5, 'vertices': 190, 'npacotes': 350, 'n_individuos': 10, 'n_caminhoes': 84, 'min_variacao': 0.001, 'strikes': 12}\n"
     ]
    },
    {
     "name": "stderr",
     "output_type": "stream",
     "text": [
      "100%|██████████| 10/10 [00:00<00:00, 2005.40it/s]\n"
     ]
    },
    {
     "name": "stdout",
     "output_type": "stream",
     "text": [
      "{'max_geracoes': 500, 'capacidade': 5, 'vertices': 190, 'npacotes': 350, 'n_individuos': 10, 'n_caminhoes': 84, 'min_variacao': 0.001, 'strikes': 3}\n"
     ]
    },
    {
     "name": "stderr",
     "output_type": "stream",
     "text": [
      "100%|██████████| 10/10 [00:00<00:00, 2016.40it/s]\n",
      "100%|██████████| 10/10 [00:00<00:00, 2005.12it/s]\n",
      "100%|██████████| 10/10 [00:00<00:00, 1998.62it/s]\n",
      "100%|██████████| 10/10 [00:00<00:00, 2506.91it/s]\n",
      "100%|██████████| 10/10 [00:00<00:00, 2005.40it/s]\n",
      "100%|██████████| 10/10 [00:00<00:00, 1114.11it/s]\n",
      "100%|██████████| 10/10 [00:00<00:00, 2506.76it/s]\n"
     ]
    },
    {
     "name": "stdout",
     "output_type": "stream",
     "text": [
      "{'max_geracoes': 500, 'capacidade': 5, 'vertices': 190, 'npacotes': 350, 'n_individuos': 10, 'n_caminhoes': 84, 'min_variacao': 0.001, 'strikes': 12}\n"
     ]
    },
    {
     "name": "stderr",
     "output_type": "stream",
     "text": [
      "100%|██████████| 10/10 [00:00<00:00, 1435.37it/s]\n",
      "100%|██████████| 10/10 [00:00<00:00, 1997.19it/s]\n",
      "100%|██████████| 10/10 [00:00<00:00, 1994.25it/s]\n",
      "100%|██████████| 10/10 [00:00<00:00, 1674.11it/s]\n",
      "100%|██████████| 10/10 [00:00<00:00, 1991.98it/s]\n",
      "100%|██████████| 10/10 [00:00<00:00, 2493.05it/s]\n",
      "100%|██████████| 10/10 [00:00<00:00, 1744.94it/s]\n",
      "100%|██████████| 10/10 [00:00<00:00, 1994.15it/s]\n",
      "100%|██████████| 10/10 [00:00<00:00, 2005.50it/s]\n",
      "100%|██████████| 10/10 [00:00<00:00, 1679.67it/s]\n",
      "100%|██████████| 10/10 [00:00<00:00, 2005.50it/s]\n",
      "100%|██████████| 10/10 [00:00<00:00, 2506.76it/s]\n",
      "100%|██████████| 10/10 [00:00<00:00, 2003.58it/s]\n",
      "100%|██████████| 10/10 [00:00<00:00, 2506.91it/s]\n",
      "100%|██████████| 10/10 [00:00<00:00, 1993.11it/s]\n",
      "100%|██████████| 10/10 [00:00<00:00, 1996.24it/s]\n",
      "100%|██████████| 10/10 [00:00<00:00, 2533.86it/s]\n",
      "100%|██████████| 10/10 [00:00<00:00, 2004.16it/s]\n",
      "100%|██████████| 10/10 [00:00<00:00, 816.70it/s]\n",
      "100%|██████████| 10/10 [00:00<00:00, 2005.69it/s]\n",
      "100%|██████████| 10/10 [00:00<00:00, 2506.61it/s]\n",
      "100%|██████████| 10/10 [00:00<00:00, 1977.61it/s]\n",
      "100%|██████████| 10/10 [00:00<00:00, 2004.93it/s]\n",
      "100%|██████████| 10/10 [00:00<00:00, 1674.71it/s]\n",
      "100%|██████████| 10/10 [00:00<00:00, 2016.88it/s]\n",
      "100%|██████████| 10/10 [00:00<00:00, 1891.20it/s]\n",
      "100%|██████████| 10/10 [00:00<00:00, 2005.21it/s]\n",
      "100%|██████████| 10/10 [00:00<00:00, 2008.48it/s]\n",
      "100%|██████████| 10/10 [00:00<00:00, 1114.05it/s]\n",
      "100%|██████████| 10/10 [00:00<00:00, 716.25it/s]\n",
      "100%|██████████| 10/10 [00:00<00:00, 2004.93it/s]\n",
      "100%|██████████| 10/10 [00:00<00:00, 1990.75it/s]\n",
      "100%|██████████| 10/10 [00:00<00:00, 1299.87it/s]\n",
      "100%|██████████| 10/10 [00:00<00:00, 2005.50it/s]\n",
      "100%|██████████| 10/10 [00:00<00:00, 2007.42it/s]\n",
      "100%|██████████| 10/10 [00:00<00:00, 2005.40it/s]\n",
      "100%|██████████| 15/15 [00:00<00:00, 1486.71it/s]\n",
      "100%|██████████| 15/15 [00:00<00:00, 1885.14it/s]\n",
      "100%|██████████| 15/15 [00:00<00:00, 2150.63it/s]\n",
      "100%|██████████| 15/15 [00:00<00:00, 2150.78it/s]\n",
      "100%|██████████| 15/15 [00:00<00:00, 2148.72it/s]\n",
      "100%|██████████| 15/15 [00:00<00:00, 1880.29it/s]\n",
      "100%|██████████| 15/15 [00:00<00:00, 2147.84it/s]\n",
      "100%|██████████| 15/15 [00:00<00:00, 2510.46it/s]\n",
      "100%|██████████| 15/15 [00:00<00:00, 1879.95it/s]\n"
     ]
    },
    {
     "name": "stdout",
     "output_type": "stream",
     "text": [
      "{'max_geracoes': 500, 'capacidade': 5, 'vertices': 190, 'npacotes': 350, 'n_individuos': 15, 'n_caminhoes': 84, 'min_variacao': 0.001, 'strikes': 3}\n"
     ]
    },
    {
     "name": "stderr",
     "output_type": "stream",
     "text": [
      "100%|██████████| 15/15 [00:00<00:00, 2116.62it/s]\n",
      "100%|██████████| 15/15 [00:00<00:00, 2148.72it/s]\n",
      "100%|██████████| 15/15 [00:00<00:00, 1953.69it/s]\n"
     ]
    },
    {
     "name": "stdout",
     "output_type": "stream",
     "text": [
      "{'max_geracoes': 500, 'capacidade': 5, 'vertices': 190, 'npacotes': 350, 'n_individuos': 15, 'n_caminhoes': 84, 'min_variacao': 0.001, 'strikes': 12}\n"
     ]
    },
    {
     "name": "stderr",
     "output_type": "stream",
     "text": [
      "100%|██████████| 15/15 [00:00<00:00, 2148.57it/s]\n",
      "100%|██████████| 15/15 [00:00<00:00, 2146.52it/s]\n",
      "100%|██████████| 15/15 [00:00<00:00, 2148.87it/s]\n"
     ]
    },
    {
     "name": "stdout",
     "output_type": "stream",
     "text": [
      "{'max_geracoes': 500, 'capacidade': 5, 'vertices': 190, 'npacotes': 350, 'n_individuos': 15, 'n_caminhoes': 84, 'min_variacao': 0.005, 'strikes': 9}\n"
     ]
    },
    {
     "name": "stderr",
     "output_type": "stream",
     "text": [
      "100%|██████████| 15/15 [00:00<00:00, 1895.02it/s]\n"
     ]
    },
    {
     "name": "stdout",
     "output_type": "stream",
     "text": [
      "{'max_geracoes': 500, 'capacidade': 5, 'vertices': 190, 'npacotes': 350, 'n_individuos': 15, 'n_caminhoes': 84, 'min_variacao': 0.005, 'strikes': 12}\n"
     ]
    },
    {
     "name": "stderr",
     "output_type": "stream",
     "text": [
      "100%|██████████| 15/15 [00:00<00:00, 2148.57it/s]\n",
      "100%|██████████| 15/15 [00:00<00:00, 2066.36it/s]\n",
      "100%|██████████| 15/15 [00:00<00:00, 2148.72it/s]\n",
      "100%|██████████| 15/15 [00:00<00:00, 2148.50it/s]\n",
      "100%|██████████| 15/15 [00:00<00:00, 2140.68it/s]\n",
      "100%|██████████| 15/15 [00:00<00:00, 1880.97it/s]\n",
      "100%|██████████| 15/15 [00:00<00:00, 1880.07it/s]\n",
      "100%|██████████| 15/15 [00:00<00:00, 2153.35it/s]\n",
      "100%|██████████| 15/15 [00:00<00:00, 883.14it/s]\n",
      "100%|██████████| 15/15 [00:00<00:00, 1893.53it/s]\n",
      "100%|██████████| 15/15 [00:00<00:00, 2127.72it/s]\n",
      "100%|██████████| 15/15 [00:00<00:00, 2140.61it/s]\n"
     ]
    },
    {
     "name": "stdout",
     "output_type": "stream",
     "text": [
      "{'max_geracoes': 500, 'capacidade': 5, 'vertices': 190, 'npacotes': 350, 'n_individuos': 15, 'n_caminhoes': 84, 'min_variacao': 0.01, 'strikes': 12}\n"
     ]
    },
    {
     "name": "stderr",
     "output_type": "stream",
     "text": [
      "100%|██████████| 15/15 [00:00<00:00, 1413.43it/s]\n",
      "100%|██████████| 15/15 [00:00<00:00, 1880.07it/s]\n",
      "100%|██████████| 15/15 [00:00<00:00, 2148.57it/s]\n",
      "100%|██████████| 15/15 [00:00<00:00, 2139.81it/s]\n",
      "100%|██████████| 15/15 [00:00<00:00, 2147.69it/s]\n",
      "100%|██████████| 15/15 [00:00<00:00, 1879.00it/s]\n",
      "100%|██████████| 15/15 [00:00<00:00, 1877.09it/s]\n",
      "100%|██████████| 15/15 [00:00<00:00, 1767.11it/s]\n",
      "100%|██████████| 15/15 [00:00<00:00, 2148.65it/s]\n",
      "100%|██████████| 15/15 [00:00<00:00, 1886.32it/s]\n",
      "100%|██████████| 15/15 [00:00<00:00, 2142.94it/s]\n",
      "100%|██████████| 15/15 [00:00<00:00, 2027.74it/s]\n",
      "100%|██████████| 15/15 [00:00<00:00, 2506.66it/s]\n",
      "100%|██████████| 15/15 [00:00<00:00, 1759.21it/s]\n",
      "100%|██████████| 15/15 [00:00<00:00, 1879.73it/s]\n",
      "100%|██████████| 15/15 [00:00<00:00, 2506.76it/s]\n",
      "100%|██████████| 15/15 [00:00<00:00, 2148.65it/s]\n",
      "100%|██████████| 15/15 [00:00<00:00, 2148.72it/s]\n",
      "100%|██████████| 15/15 [00:00<00:00, 2148.57it/s]\n",
      "100%|██████████| 15/15 [00:00<00:00, 2148.50it/s]\n",
      "100%|██████████| 5/5 [00:00<00:00, 1248.45it/s]\n",
      "100%|██████████| 5/5 [00:00<00:00, 1250.39it/s]\n",
      "100%|██████████| 5/5 [00:00<00:00, 1253.30it/s]\n",
      "100%|██████████| 5/5 [00:00<00:00, 1677.72it/s]\n",
      "100%|██████████| 5/5 [00:00<00:00, 1225.04it/s]\n",
      "100%|██████████| 5/5 [00:00<00:00, 1253.68it/s]\n",
      "100%|██████████| 5/5 [00:00<00:00, 1253.30it/s]\n",
      "100%|██████████| 5/5 [00:00<00:00, 1671.17it/s]\n",
      "100%|██████████| 5/5 [00:00<00:00, 1253.38it/s]\n",
      "100%|██████████| 5/5 [00:00<00:00, 1614.81it/s]\n",
      "100%|██████████| 5/5 [00:00<00:00, 1655.34it/s]\n",
      "100%|██████████| 5/5 [00:00<00:00, 1002.75it/s]\n",
      "100%|██████████| 5/5 [00:00<00:00, 1253.45it/s]\n",
      "100%|██████████| 5/5 [00:00<00:00, 1671.17it/s]\n",
      "100%|██████████| 5/5 [00:00<00:00, 1250.69it/s]\n",
      "100%|██████████| 5/5 [00:00<00:00, 1265.56it/s]\n",
      "100%|██████████| 5/5 [00:00<00:00, 1651.56it/s]\n",
      "100%|██████████| 5/5 [00:00<00:00, 1655.08it/s]\n",
      "100%|██████████| 5/5 [00:00<00:00, 1253.08it/s]\n",
      "100%|██████████| 5/5 [00:00<00:00, 1671.17it/s]\n",
      "100%|██████████| 5/5 [00:00<00:00, 1256.01it/s]\n",
      "100%|██████████| 5/5 [00:00<00:00, 1253.60it/s]\n",
      "100%|██████████| 5/5 [00:00<00:00, 1103.76it/s]\n",
      "100%|██████████| 5/5 [00:00<00:00, 1309.08it/s]\n",
      "100%|██████████| 5/5 [00:00<00:00, 1671.17it/s]\n",
      "100%|██████████| 5/5 [00:00<00:00, 1655.34it/s]\n",
      "100%|██████████| 5/5 [00:00<00:00, 1670.90it/s]\n",
      "100%|██████████| 5/5 [00:00<00:00, 1253.38it/s]\n",
      "100%|██████████| 5/5 [00:00<00:00, 1655.47it/s]\n",
      "100%|██████████| 5/5 [00:00<00:00, 1253.53it/s]\n",
      "100%|██████████| 5/5 [00:00<00:00, 1264.87it/s]\n",
      "100%|██████████| 5/5 [00:00<00:00, 1253.30it/s]\n",
      "100%|██████████| 5/5 [00:00<00:00, 1008.10it/s]\n",
      "100%|██████████| 5/5 [00:00<00:00, 1244.75it/s]\n",
      "100%|██████████| 5/5 [00:00<00:00, 1243.49it/s]\n",
      "100%|██████████| 5/5 [00:00<00:00, 1001.79it/s]\n",
      "100%|██████████| 5/5 [00:00<00:00, 1249.05it/s]\n",
      "100%|██████████| 5/5 [00:00<00:00, 1253.60it/s]\n",
      "100%|██████████| 5/5 [00:00<00:00, 1253.38it/s]\n",
      "100%|██████████| 5/5 [00:00<00:00, 1252.48it/s]\n",
      "100%|██████████| 5/5 [00:00<00:00, 1629.24it/s]\n",
      "100%|██████████| 5/5 [00:00<00:00, 1654.04it/s]\n",
      "100%|██████████| 5/5 [00:00<00:00, 1655.34it/s]\n",
      "100%|██████████| 5/5 [00:00<00:00, 1253.38it/s]\n",
      "100%|██████████| 5/5 [00:00<00:00, 1253.00it/s]\n",
      "100%|██████████| 5/5 [00:00<00:00, 1253.38it/s]\n",
      "100%|██████████| 5/5 [00:00<00:00, 1671.04it/s]\n",
      "100%|██████████| 5/5 [00:00<00:00, 1670.64it/s]\n",
      "100%|██████████| 10/10 [00:00<00:00, 911.49it/s]\n",
      "100%|██████████| 10/10 [00:00<00:00, 1432.33it/s]\n",
      "100%|██████████| 10/10 [00:00<00:00, 1431.60it/s]\n",
      "100%|██████████| 10/10 [00:00<00:00, 1663.15it/s]\n",
      "100%|██████████| 10/10 [00:00<00:00, 1431.45it/s]\n",
      "100%|██████████| 10/10 [00:00<00:00, 1432.48it/s]\n",
      "100%|██████████| 10/10 [00:00<00:00, 1428.24it/s]\n",
      "100%|██████████| 10/10 [00:00<00:00, 1432.53it/s]\n",
      "100%|██████████| 10/10 [00:00<00:00, 1429.60it/s]\n",
      "100%|██████████| 10/10 [00:00<00:00, 1297.34it/s]\n",
      "100%|██████████| 10/10 [00:00<00:00, 1662.49it/s]\n",
      "100%|██████████| 10/10 [00:00<00:00, 1432.58it/s]\n",
      "100%|██████████| 10/10 [00:00<00:00, 1432.14it/s]\n",
      "100%|██████████| 10/10 [00:00<00:00, 1432.38it/s]\n",
      "100%|██████████| 10/10 [00:00<00:00, 1426.44it/s]\n",
      "100%|██████████| 10/10 [00:00<00:00, 1249.61it/s]\n",
      "100%|██████████| 10/10 [00:00<00:00, 1113.88it/s]\n",
      "100%|██████████| 10/10 [00:00<00:00, 1432.14it/s]\n",
      "100%|██████████| 10/10 [00:00<00:00, 1432.24it/s]\n",
      "100%|██████████| 10/10 [00:00<00:00, 1437.44it/s]\n",
      "100%|██████████| 10/10 [00:00<00:00, 1303.43it/s]\n",
      "100%|██████████| 10/10 [00:00<00:00, 1432.33it/s]\n",
      "100%|██████████| 10/10 [00:00<00:00, 1662.95it/s]\n",
      "100%|██████████| 10/10 [00:00<00:00, 1432.19it/s]\n",
      "100%|██████████| 10/10 [00:00<00:00, 771.21it/s]\n",
      "100%|██████████| 10/10 [00:00<00:00, 1253.30it/s]\n",
      "100%|██████████| 10/10 [00:00<00:00, 1663.28it/s]\n",
      "100%|██████████| 10/10 [00:00<00:00, 1660.45it/s]\n",
      "100%|██████████| 10/10 [00:00<00:00, 1252.85it/s]\n",
      "100%|██████████| 10/10 [00:00<00:00, 911.65it/s]\n",
      "100%|██████████| 10/10 [00:00<00:00, 1432.77it/s]\n",
      "100%|██████████| 10/10 [00:00<00:00, 1432.73it/s]\n",
      "100%|██████████| 10/10 [00:00<00:00, 1248.75it/s]\n",
      "100%|██████████| 10/10 [00:00<00:00, 1434.83it/s]\n",
      "100%|██████████| 10/10 [00:00<00:00, 1426.73it/s]\n",
      "100%|██████████| 10/10 [00:00<00:00, 1431.94it/s]\n",
      "100%|██████████| 10/10 [00:00<00:00, 1335.72it/s]\n",
      "100%|██████████| 10/10 [00:00<00:00, 1673.37it/s]\n",
      "100%|██████████| 10/10 [00:00<00:00, 1113.85it/s]\n",
      "100%|██████████| 10/10 [00:00<00:00, 1258.76it/s]\n",
      "100%|██████████| 10/10 [00:00<00:00, 1117.86it/s]\n",
      "100%|██████████| 10/10 [00:00<00:00, 1432.48it/s]\n",
      "100%|██████████| 10/10 [00:00<00:00, 1424.94it/s]\n",
      "100%|██████████| 10/10 [00:00<00:00, 1426.05it/s]\n",
      "100%|██████████| 10/10 [00:00<00:00, 1113.91it/s]\n",
      "100%|██████████| 10/10 [00:00<00:00, 1680.41it/s]\n",
      "100%|██████████| 10/10 [00:00<00:00, 1431.75it/s]\n",
      "100%|██████████| 10/10 [00:00<00:00, 1117.50it/s]\n",
      "100%|██████████| 15/15 [00:00<00:00, 1504.85it/s]\n",
      "100%|██████████| 15/15 [00:00<00:00, 1665.51it/s]\n",
      "100%|██████████| 15/15 [00:00<00:00, 1503.91it/s]\n",
      "100%|██████████| 15/15 [00:00<00:00, 1507.19it/s]\n",
      "100%|██████████| 15/15 [00:00<00:00, 1364.00it/s]\n",
      "100%|██████████| 15/15 [00:00<00:00, 1156.58it/s]\n",
      "100%|██████████| 15/15 [00:00<00:00, 1367.41it/s]\n",
      "100%|██████████| 15/15 [00:00<00:00, 1157.01it/s]\n"
     ]
    },
    {
     "name": "stdout",
     "output_type": "stream",
     "text": [
      "{'max_geracoes': 500, 'capacidade': 5, 'vertices': 190, 'npacotes': 500, 'n_individuos': 15, 'n_caminhoes': 120, 'min_variacao': 0.001, 'strikes': 12}\n"
     ]
    },
    {
     "name": "stderr",
     "output_type": "stream",
     "text": [
      "100%|██████████| 15/15 [00:00<00:00, 1003.28it/s]\n"
     ]
    },
    {
     "name": "stdout",
     "output_type": "stream",
     "text": [
      "{'max_geracoes': 500, 'capacidade': 5, 'vertices': 190, 'npacotes': 500, 'n_individuos': 15, 'n_caminhoes': 120, 'min_variacao': 0.001, 'strikes': 3}\n"
     ]
    },
    {
     "name": "stderr",
     "output_type": "stream",
     "text": [
      "100%|██████████| 15/15 [00:00<00:00, 1255.73it/s]\n",
      "100%|██████████| 15/15 [00:00<00:00, 1367.23it/s]\n",
      "100%|██████████| 15/15 [00:00<00:00, 1671.13it/s]\n",
      "100%|██████████| 15/15 [00:00<00:00, 1500.14it/s]\n",
      "100%|██████████| 15/15 [00:00<00:00, 1665.60it/s]\n",
      "100%|██████████| 15/15 [00:00<00:00, 1504.23it/s]\n",
      "100%|██████████| 15/15 [00:00<00:00, 1499.89it/s]\n",
      "100%|██████████| 15/15 [00:00<00:00, 835.34it/s]\n",
      "100%|██████████| 15/15 [00:00<00:00, 1253.40it/s]\n",
      "100%|██████████| 15/15 [00:00<00:00, 716.14it/s]\n",
      "100%|██████████| 15/15 [00:00<00:00, 1367.65it/s]\n",
      "100%|██████████| 15/15 [00:00<00:00, 1046.62it/s]\n",
      "100%|██████████| 15/15 [00:00<00:00, 1251.13it/s]\n",
      "100%|██████████| 15/15 [00:00<00:00, 1075.94it/s]\n",
      "100%|██████████| 15/15 [00:00<00:00, 1367.29it/s]\n",
      "100%|██████████| 15/15 [00:00<00:00, 751.37it/s]\n",
      "100%|██████████| 15/15 [00:00<00:00, 1120.55it/s]\n",
      "100%|██████████| 15/15 [00:00<00:00, 836.12it/s]\n",
      "100%|██████████| 15/15 [00:00<00:00, 1253.33it/s]\n",
      "100%|██████████| 15/15 [00:00<00:00, 1218.61it/s]\n",
      "100%|██████████| 15/15 [00:00<00:00, 716.17it/s]\n",
      "100%|██████████| 15/15 [00:00<00:00, 696.50it/s]\n",
      "100%|██████████| 15/15 [00:00<00:00, 760.52it/s]\n",
      "100%|██████████| 15/15 [00:00<00:00, 1250.91it/s]\n",
      "100%|██████████| 15/15 [00:00<00:00, 1365.24it/s]\n",
      "100%|██████████| 15/15 [00:00<00:00, 1157.75it/s]\n",
      "100%|██████████| 15/15 [00:00<00:00, 996.93it/s]\n",
      "100%|██████████| 15/15 [00:00<00:00, 1063.03it/s]\n",
      "100%|██████████| 15/15 [00:00<00:00, 1000.90it/s]\n",
      "100%|██████████| 15/15 [00:00<00:00, 40.19it/s]\n",
      "100%|██████████| 15/15 [00:00<00:00, 1122.97it/s]\n",
      "100%|██████████| 15/15 [00:00<00:00, 791.59it/s]\n",
      "100%|██████████| 15/15 [00:00<00:00, 949.04it/s]\n",
      "100%|██████████| 15/15 [00:00<00:00, 861.22it/s]\n",
      "100%|██████████| 15/15 [00:00<00:00, 1157.69it/s]\n",
      "100%|██████████| 15/15 [00:00<00:00, 939.99it/s]\n",
      "100%|██████████| 15/15 [00:00<00:00, 1110.27it/s]\n",
      "100%|██████████| 15/15 [00:00<00:00, 834.34it/s]\n",
      "100%|██████████| 15/15 [00:00<00:00, 1171.94it/s]\n",
      "100%|██████████| 5/5 [00:00<00:00, 586.90it/s]\n",
      "100%|██████████| 5/5 [00:00<00:00, 1004.77it/s]\n",
      "100%|██████████| 5/5 [00:00<00:00, 717.22it/s]\n"
     ]
    },
    {
     "name": "stdout",
     "output_type": "stream",
     "text": [
      "{'max_geracoes': 500, 'capacidade': 5, 'vertices': 190, 'npacotes': 650, 'n_individuos': 5, 'n_caminhoes': 156, 'min_variacao': 0.001, 'strikes': 9}\n"
     ]
    },
    {
     "name": "stderr",
     "output_type": "stream",
     "text": [
      "100%|██████████| 5/5 [00:00<00:00, 994.48it/s]\n",
      "100%|██████████| 5/5 [00:00<00:00, 538.88it/s]\n",
      "100%|██████████| 5/5 [00:00<00:00, 585.62it/s]\n",
      "100%|██████████| 5/5 [00:00<00:00, 654.19it/s]\n",
      "100%|██████████| 5/5 [00:00<00:00, 958.13it/s]\n",
      "100%|██████████| 5/5 [00:00<00:00, 455.72it/s]\n",
      "100%|██████████| 5/5 [00:00<00:00, 828.88it/s]\n",
      "100%|██████████| 5/5 [00:00<00:00, 834.62it/s]\n",
      "100%|██████████| 5/5 [00:00<00:00, 834.42it/s]\n",
      "100%|██████████| 5/5 [00:00<00:00, 624.77it/s]\n",
      "100%|██████████| 5/5 [00:00<00:00, 704.24it/s]\n",
      "100%|██████████| 5/5 [00:00<00:00, 713.41it/s]\n",
      "100%|██████████| 5/5 [00:00<00:00, 716.31it/s]\n",
      "100%|██████████| 5/5 [00:00<00:00, 557.06it/s]\n",
      "100%|██████████| 5/5 [00:00<00:00, 557.06it/s]\n",
      "100%|██████████| 5/5 [00:00<00:00, 716.12it/s]\n",
      "100%|██████████| 5/5 [00:00<00:00, 558.76it/s]\n",
      "100%|██████████| 5/5 [00:00<00:00, 766.70it/s]\n",
      "100%|██████████| 5/5 [00:00<00:00, 1250.02it/s]\n",
      "100%|██████████| 5/5 [00:00<00:00, 1000.45it/s]\n",
      "100%|██████████| 5/5 [00:00<00:00, 975.01it/s]\n",
      "100%|██████████| 5/5 [00:00<00:00, 918.76it/s]\n",
      "100%|██████████| 5/5 [00:00<00:00, 835.45it/s]\n",
      "100%|██████████| 5/5 [00:00<00:00, 835.82it/s]\n",
      "100%|██████████| 5/5 [00:00<00:00, 828.36it/s]\n",
      "100%|██████████| 5/5 [00:00<00:00, 620.94it/s]\n",
      "100%|██████████| 5/5 [00:00<00:00, 830.85it/s]\n",
      "100%|██████████| 5/5 [00:00<00:00, 713.12it/s]\n",
      "100%|██████████| 5/5 [00:00<00:00, 923.37it/s]\n",
      "100%|██████████| 5/5 [00:00<00:00, 715.51it/s]\n",
      "100%|██████████| 5/5 [00:00<00:00, 595.53it/s]\n",
      "100%|██████████| 5/5 [00:00<00:00, 804.52it/s]\n",
      "100%|██████████| 5/5 [00:00<00:00, 626.02it/s]\n",
      "100%|██████████| 5/5 [00:00<00:00, 682.38it/s]\n",
      "100%|██████████| 5/5 [00:00<00:00, 625.27it/s]\n",
      "100%|██████████| 5/5 [00:00<00:00, 834.75it/s]\n",
      "100%|██████████| 5/5 [00:00<00:00, 999.55it/s]\n",
      "100%|██████████| 5/5 [00:00<00:00, 837.82it/s]\n",
      "100%|██████████| 5/5 [00:00<00:00, 626.56it/s]\n",
      "100%|██████████| 5/5 [00:00<00:00, 829.87it/s]\n",
      "100%|██████████| 5/5 [00:00<00:00, 1003.18it/s]\n",
      "100%|██████████| 5/5 [00:00<00:00, 835.65it/s]\n",
      "100%|██████████| 5/5 [00:00<00:00, 941.57it/s]\n",
      "100%|██████████| 5/5 [00:00<00:00, 683.80it/s]\n",
      "100%|██████████| 5/5 [00:00<00:00, 971.80it/s]\n",
      "100%|██████████| 10/10 [00:00<00:00, 835.17it/s]\n",
      "100%|██████████| 10/10 [00:00<00:00, 949.11it/s]\n"
     ]
    },
    {
     "name": "stdout",
     "output_type": "stream",
     "text": [
      "{'max_geracoes': 500, 'capacidade': 5, 'vertices': 190, 'npacotes': 650, 'n_individuos': 10, 'n_caminhoes': 156, 'min_variacao': 0.001, 'strikes': 6}\n"
     ]
    },
    {
     "name": "stderr",
     "output_type": "stream",
     "text": [
      "100%|██████████| 10/10 [00:00<00:00, 822.69it/s]\n",
      "100%|██████████| 10/10 [00:00<00:00, 721.09it/s]\n",
      "100%|██████████| 10/10 [00:00<00:00, 667.80it/s]\n",
      "100%|██████████| 10/10 [00:00<00:00, 716.19it/s]\n",
      "100%|██████████| 10/10 [00:00<00:00, 589.81it/s]\n",
      "100%|██████████| 10/10 [00:00<00:00, 910.70it/s]\n",
      "100%|██████████| 10/10 [00:00<00:00, 811.95it/s]\n",
      "100%|██████████| 10/10 [00:00<00:00, 895.78it/s]\n",
      "100%|██████████| 10/10 [00:00<00:00, 626.13it/s]\n",
      "100%|██████████| 10/10 [00:00<00:00, 1002.75it/s]\n",
      "100%|██████████| 10/10 [00:00<00:00, 716.13it/s]\n",
      "100%|██████████| 10/10 [00:00<00:00, 1113.82it/s]\n",
      "100%|██████████| 10/10 [00:00<00:00, 1248.94it/s]\n",
      "100%|██████████| 10/10 [00:00<00:00, 1005.11it/s]\n"
     ]
    },
    {
     "name": "stdout",
     "output_type": "stream",
     "text": [
      "{'max_geracoes': 500, 'capacidade': 5, 'vertices': 190, 'npacotes': 650, 'n_individuos': 10, 'n_caminhoes': 156, 'min_variacao': 0.005, 'strikes': 12}\n"
     ]
    },
    {
     "name": "stderr",
     "output_type": "stream",
     "text": [
      "100%|██████████| 10/10 [00:00<00:00, 771.31it/s]\n",
      "100%|██████████| 10/10 [00:00<00:00, 1113.91it/s]\n",
      "100%|██████████| 10/10 [00:00<00:00, 1002.73it/s]\n",
      "100%|██████████| 10/10 [00:00<00:00, 716.18it/s]\n",
      "100%|██████████| 10/10 [00:00<00:00, 1110.69it/s]\n",
      "100%|██████████| 10/10 [00:00<00:00, 1115.00it/s]\n",
      "100%|██████████| 10/10 [00:00<00:00, 589.79it/s]\n",
      "100%|██████████| 10/10 [00:00<00:00, 1002.75it/s]\n",
      "100%|██████████| 10/10 [00:00<00:00, 1115.71it/s]\n",
      "100%|██████████| 10/10 [00:00<00:00, 1110.63it/s]\n",
      "100%|██████████| 10/10 [00:00<00:00, 931.36it/s]\n",
      "100%|██████████| 10/10 [00:00<00:00, 1115.09it/s]\n",
      "100%|██████████| 10/10 [00:00<00:00, 35.75it/s]\n",
      "100%|██████████| 10/10 [00:00<00:00, 1083.30it/s]\n",
      "100%|██████████| 10/10 [00:00<00:00, 1079.48it/s]\n",
      "100%|██████████| 10/10 [00:00<00:00, 1004.91it/s]\n",
      "100%|██████████| 10/10 [00:00<00:00, 1114.02it/s]\n",
      "100%|██████████| 10/10 [00:00<00:00, 1002.70it/s]\n",
      "100%|██████████| 10/10 [00:00<00:00, 1114.08it/s]\n",
      "100%|██████████| 10/10 [00:00<00:00, 1111.22it/s]\n",
      "100%|██████████| 10/10 [00:00<00:00, 836.15it/s]\n",
      "100%|██████████| 10/10 [00:00<00:00, 1110.49it/s]\n",
      "100%|██████████| 10/10 [00:00<00:00, 1110.87it/s]\n",
      "100%|██████████| 10/10 [00:00<00:00, 1107.96it/s]\n",
      "100%|██████████| 10/10 [00:00<00:00, 1114.05it/s]\n",
      "100%|██████████| 10/10 [00:00<00:00, 1002.70it/s]\n",
      "100%|██████████| 10/10 [00:00<00:00, 911.51it/s]\n",
      "100%|██████████| 10/10 [00:00<00:00, 1002.53it/s]\n",
      "100%|██████████| 10/10 [00:00<00:00, 1114.53it/s]\n",
      "100%|██████████| 10/10 [00:00<00:00, 911.43it/s]\n",
      "100%|██████████| 10/10 [00:00<00:00, 1110.60it/s]\n",
      "100%|██████████| 10/10 [00:00<00:00, 589.82it/s]\n",
      "100%|██████████| 15/15 [00:00<00:00, 1156.94it/s]\n",
      "100%|██████████| 15/15 [00:00<00:00, 1157.18it/s]\n",
      "100%|██████████| 15/15 [00:00<00:00, 1156.79it/s]\n",
      "100%|██████████| 15/15 [00:00<00:00, 1074.20it/s]\n",
      "100%|██████████| 15/15 [00:00<00:00, 1154.40it/s]\n",
      "100%|██████████| 15/15 [00:00<00:00, 831.40it/s]\n",
      "100%|██████████| 15/15 [00:00<00:00, 1074.64it/s]\n"
     ]
    },
    {
     "name": "stdout",
     "output_type": "stream",
     "text": [
      "{'max_geracoes': 500, 'capacidade': 5, 'vertices': 190, 'npacotes': 650, 'n_individuos': 15, 'n_caminhoes': 156, 'min_variacao': 0.001, 'strikes': 9}\n"
     ]
    },
    {
     "name": "stderr",
     "output_type": "stream",
     "text": [
      "100%|██████████| 15/15 [00:00<00:00, 1195.23it/s]\n",
      "100%|██████████| 15/15 [00:00<00:00, 1073.13it/s]\n",
      "100%|██████████| 15/15 [00:00<00:00, 1074.38it/s]\n",
      "100%|██████████| 15/15 [00:00<00:00, 749.76it/s]\n",
      "100%|██████████| 15/15 [00:00<00:00, 1074.32it/s]\n",
      "100%|██████████| 15/15 [00:00<00:00, 1156.60it/s]\n",
      "100%|██████████| 15/15 [00:00<00:00, 1250.04it/s]\n",
      "100%|██████████| 15/15 [00:00<00:00, 1078.10it/s]\n",
      "100%|██████████| 15/15 [00:00<00:00, 1002.65it/s]\n",
      "100%|██████████| 15/15 [00:00<00:00, 1157.58it/s]\n",
      "100%|██████████| 15/15 [00:00<00:00, 941.79it/s]\n",
      "100%|██████████| 15/15 [00:00<00:00, 1155.99it/s]\n",
      "100%|██████████| 15/15 [00:00<00:00, 1156.60it/s]\n",
      "100%|██████████| 15/15 [00:00<00:00, 1153.70it/s]\n",
      "100%|██████████| 15/15 [00:00<00:00, 1073.02it/s]\n",
      "100%|██████████| 15/15 [00:00<00:00, 1074.27it/s]\n",
      "100%|██████████| 15/15 [00:00<00:00, 940.02it/s]\n",
      "100%|██████████| 15/15 [00:00<00:00, 1156.92it/s]\n",
      "100%|██████████| 15/15 [00:00<00:00, 51.27it/s]\n",
      "100%|██████████| 15/15 [00:00<00:00, 1149.63it/s]\n",
      "100%|██████████| 15/15 [00:00<00:00, 1237.38it/s]\n",
      "100%|██████████| 15/15 [00:00<00:00, 1157.13it/s]\n",
      "100%|██████████| 15/15 [00:00<00:00, 1073.72it/s]\n",
      "100%|██████████| 15/15 [00:00<00:00, 1250.36it/s]\n",
      "100%|██████████| 15/15 [00:00<00:00, 1074.29it/s]\n",
      "100%|██████████| 15/15 [00:00<00:00, 1069.79it/s]\n",
      "100%|██████████| 15/15 [00:00<00:00, 1069.63it/s]\n",
      "100%|██████████| 15/15 [00:00<00:00, 1156.88it/s]\n",
      "100%|██████████| 15/15 [00:00<00:00, 1142.55it/s]\n",
      "100%|██████████| 15/15 [00:00<00:00, 1068.98it/s]\n",
      "100%|██████████| 15/15 [00:00<00:00, 1247.17it/s]\n",
      "100%|██████████| 15/15 [00:00<00:00, 1152.81it/s]\n",
      "100%|██████████| 15/15 [00:00<00:00, 884.50it/s]\n",
      "100%|██████████| 15/15 [00:00<00:00, 1156.90it/s]\n",
      "100%|██████████| 15/15 [00:00<00:00, 1074.23it/s]\n",
      "100%|██████████| 15/15 [00:00<00:00, 1257.61it/s]\n",
      "100%|██████████| 15/15 [00:00<00:00, 1157.03it/s]\n",
      "100%|██████████| 15/15 [00:00<00:00, 1274.84it/s]\n",
      "100%|██████████| 15/15 [00:00<00:00, 1074.31it/s]\n",
      "100%|██████████| 15/15 [00:00<00:00, 557.04it/s]\n",
      "100%|██████████| 15/15 [00:00<00:00, 1253.30it/s]\n",
      "100%|██████████| 5/5 [00:00<00:00, 996.93it/s]\n",
      "100%|██████████| 5/5 [00:00<00:00, 835.62it/s]\n",
      "100%|██████████| 5/5 [00:00<00:00, 846.96it/s]\n",
      "100%|██████████| 5/5 [00:00<00:00, 804.00it/s]\n",
      "100%|██████████| 5/5 [00:00<00:00, 715.73it/s]\n",
      "100%|██████████| 5/5 [00:00<00:00, 1002.51it/s]\n",
      "100%|██████████| 5/5 [00:00<00:00, 835.62it/s]\n",
      "100%|██████████| 5/5 [00:00<00:00, 1002.65it/s]\n",
      "100%|██████████| 5/5 [00:00<00:00, 723.51it/s]\n",
      "100%|██████████| 5/5 [00:00<00:00, 1000.60it/s]\n",
      "100%|██████████| 5/5 [00:00<00:00, 835.42it/s]\n",
      "100%|██████████| 5/5 [00:00<00:00, 629.02it/s]\n",
      "100%|██████████| 5/5 [00:00<00:00, 708.04it/s]\n",
      "100%|██████████| 5/5 [00:00<00:00, 455.78it/s]\n",
      "100%|██████████| 5/5 [00:00<00:00, 835.55it/s]\n",
      "100%|██████████| 5/5 [00:00<00:00, 770.50it/s]\n",
      "100%|██████████| 5/5 [00:00<00:00, 835.49it/s]\n",
      "100%|██████████| 5/5 [00:00<00:00, 996.89it/s]\n",
      "100%|██████████| 5/5 [00:00<00:00, 835.55it/s]\n",
      "100%|██████████| 5/5 [00:00<00:00, 835.25it/s]\n",
      "100%|██████████| 5/5 [00:00<00:00, 1002.75it/s]\n",
      "100%|██████████| 5/5 [00:00<00:00, 626.60it/s]\n",
      "100%|██████████| 5/5 [00:00<00:00, 1002.80it/s]\n",
      "100%|██████████| 5/5 [00:00<00:00, 831.38it/s]\n",
      "100%|██████████| 5/5 [00:00<00:00, 826.63it/s]\n",
      "100%|██████████| 5/5 [00:00<00:00, 835.52it/s]\n",
      "100%|██████████| 5/5 [00:00<00:00, 999.88it/s]\n",
      "100%|██████████| 5/5 [00:00<00:00, 835.65it/s]\n",
      "100%|██████████| 5/5 [00:00<00:00, 719.24it/s]\n",
      "100%|██████████| 5/5 [00:00<00:00, 839.57it/s]\n",
      "100%|██████████| 5/5 [00:00<00:00, 831.61it/s]\n",
      "100%|██████████| 5/5 [00:00<00:00, 455.76it/s]\n",
      "100%|██████████| 5/5 [00:00<00:00, 835.55it/s]\n",
      "100%|██████████| 5/5 [00:00<00:00, 1002.80it/s]\n",
      "100%|██████████| 5/5 [00:00<00:00, 835.55it/s]\n",
      "100%|██████████| 5/5 [00:00<00:00, 996.79it/s]\n",
      "100%|██████████| 5/5 [00:00<00:00, 622.54it/s]\n",
      "100%|██████████| 5/5 [00:00<00:00, 1016.41it/s]\n",
      "100%|██████████| 5/5 [00:00<00:00, 716.17it/s]\n",
      "100%|██████████| 5/5 [00:00<00:00, 831.44it/s]\n",
      "100%|██████████| 5/5 [00:00<00:00, 716.17it/s]\n",
      "100%|██████████| 5/5 [00:00<00:00, 907.23it/s]\n",
      "100%|██████████| 5/5 [00:00<00:00, 982.27it/s]\n",
      "100%|██████████| 5/5 [00:00<00:00, 835.55it/s]\n",
      "100%|██████████| 5/5 [00:00<00:00, 716.31it/s]\n",
      "100%|██████████| 5/5 [00:00<00:00, 812.47it/s]\n",
      "100%|██████████| 5/5 [00:00<00:00, 768.86it/s]\n",
      "100%|██████████| 5/5 [00:00<00:00, 835.55it/s]\n",
      "100%|██████████| 10/10 [00:00<00:00, 911.73it/s]\n",
      "100%|██████████| 10/10 [00:00<00:00, 827.69it/s]\n",
      "100%|██████████| 10/10 [00:00<00:00, 911.57it/s]\n",
      "100%|██████████| 10/10 [00:00<00:00, 999.81it/s]\n",
      "100%|██████████| 10/10 [00:00<00:00, 1002.73it/s]\n",
      "100%|██████████| 10/10 [00:00<00:00, 670.47it/s]\n",
      "100%|██████████| 10/10 [00:00<00:00, 908.94it/s]\n",
      "100%|██████████| 10/10 [00:00<00:00, 999.71it/s]\n",
      "100%|██████████| 10/10 [00:00<00:00, 911.55it/s]\n",
      "100%|██████████| 10/10 [00:00<00:00, 911.47it/s]\n",
      "100%|██████████| 10/10 [00:00<00:00, 911.57it/s]\n",
      "100%|██████████| 10/10 [00:00<00:00, 668.19it/s]\n",
      "100%|██████████| 10/10 [00:00<00:00, 626.63it/s]\n",
      "100%|██████████| 10/10 [00:00<00:00, 909.02it/s]\n",
      "100%|██████████| 10/10 [00:00<00:00, 825.99it/s]\n",
      "100%|██████████| 10/10 [00:00<00:00, 1004.21it/s]\n",
      "100%|██████████| 10/10 [00:00<00:00, 526.78it/s]\n",
      "100%|██████████| 10/10 [00:00<00:00, 999.50it/s]\n",
      "100%|██████████| 10/10 [00:00<00:00, 564.36it/s]\n",
      "100%|██████████| 10/10 [00:00<00:00, 911.01it/s]\n",
      "100%|██████████| 10/10 [00:00<00:00, 911.55it/s]\n",
      "100%|██████████| 10/10 [00:00<00:00, 911.21it/s]\n",
      "100%|██████████| 10/10 [00:00<00:00, 1003.69it/s]\n",
      "100%|██████████| 10/10 [00:00<00:00, 835.29it/s]\n",
      "100%|██████████| 10/10 [00:00<00:00, 501.36it/s]\n",
      "100%|██████████| 10/10 [00:00<00:00, 668.35it/s]\n",
      "100%|██████████| 10/10 [00:00<00:00, 911.57it/s]\n",
      "100%|██████████| 10/10 [00:00<00:00, 713.88it/s]\n",
      "100%|██████████| 10/10 [00:00<00:00, 1003.35it/s]\n",
      "100%|██████████| 10/10 [00:00<00:00, 911.45it/s]\n",
      "100%|██████████| 10/10 [00:00<00:00, 753.29it/s]\n",
      "100%|██████████| 10/10 [00:00<00:00, 996.34it/s]\n",
      "100%|██████████| 10/10 [00:00<00:00, 909.33it/s]\n",
      "100%|██████████| 10/10 [00:00<00:00, 835.55it/s]\n",
      "100%|██████████| 10/10 [00:00<00:00, 911.15it/s]\n",
      "100%|██████████| 10/10 [00:00<00:00, 836.02it/s]\n",
      "100%|██████████| 10/10 [00:00<00:00, 911.57it/s]\n",
      "100%|██████████| 10/10 [00:00<00:00, 911.31it/s]\n",
      "100%|██████████| 10/10 [00:00<00:00, 912.22it/s]\n",
      "100%|██████████| 10/10 [00:00<00:00, 835.44it/s]\n",
      "100%|██████████| 10/10 [00:00<00:00, 999.19it/s]\n",
      "100%|██████████| 10/10 [00:00<00:00, 833.91it/s]\n",
      "100%|██████████| 10/10 [00:00<00:00, 911.65it/s]\n",
      "100%|██████████| 10/10 [00:00<00:00, 1002.39it/s]\n",
      "100%|██████████| 10/10 [00:00<00:00, 996.41it/s]\n",
      "100%|██████████| 10/10 [00:00<00:00, 911.51it/s]\n",
      "100%|██████████| 10/10 [00:00<00:00, 911.49it/s]\n",
      "100%|██████████| 10/10 [00:00<00:00, 911.55it/s]\n",
      "100%|██████████| 15/15 [00:00<00:00, 935.77it/s]\n",
      "100%|██████████| 15/15 [00:00<00:00, 1002.38it/s]\n",
      "100%|██████████| 15/15 [00:00<00:00, 939.14it/s]\n",
      "100%|██████████| 15/15 [00:00<00:00, 938.21it/s]\n",
      "100%|██████████| 15/15 [00:00<00:00, 940.05it/s]\n",
      "100%|██████████| 15/15 [00:00<00:00, 834.21it/s]\n",
      "100%|██████████| 15/15 [00:00<00:00, 683.13it/s]\n",
      "100%|██████████| 15/15 [00:00<00:00, 884.72it/s]\n",
      "100%|██████████| 15/15 [00:00<00:00, 830.37it/s]\n",
      "100%|██████████| 15/15 [00:00<00:00, 939.95it/s]\n",
      "100%|██████████| 15/15 [00:00<00:00, 751.76it/s]\n",
      "100%|██████████| 15/15 [00:00<00:00, 835.51it/s]\n",
      "100%|██████████| 15/15 [00:00<00:00, 937.83it/s]\n",
      "100%|██████████| 15/15 [00:00<00:00, 940.05it/s]\n",
      "100%|██████████| 15/15 [00:00<00:00, 717.30it/s]\n",
      "100%|██████████| 15/15 [00:00<00:00, 938.25it/s]\n",
      "100%|██████████| 15/15 [00:00<00:00, 938.58it/s]\n",
      "100%|██████████| 15/15 [00:00<00:00, 881.34it/s]\n",
      "100%|██████████| 15/15 [00:00<00:00, 578.74it/s]\n",
      "100%|██████████| 15/15 [00:00<00:00, 939.86it/s]\n",
      "100%|██████████| 15/15 [00:00<00:00, 604.18it/s]\n",
      "100%|██████████| 15/15 [00:00<00:00, 940.16it/s]\n",
      "100%|██████████| 15/15 [00:00<00:00, 1002.48it/s]\n",
      "100%|██████████| 15/15 [00:00<00:00, 834.27it/s]\n",
      "100%|██████████| 15/15 [00:00<00:00, 1002.67it/s]\n",
      "100%|██████████| 15/15 [00:00<00:00, 937.05it/s]\n",
      "100%|██████████| 15/15 [00:00<00:00, 1002.75it/s]\n",
      "100%|██████████| 15/15 [00:00<00:00, 966.03it/s]\n",
      "100%|██████████| 15/15 [00:00<00:00, 939.07it/s]\n",
      "100%|██████████| 15/15 [00:00<00:00, 1002.41it/s]\n",
      "100%|██████████| 15/15 [00:00<00:00, 752.42it/s]\n",
      "100%|██████████| 15/15 [00:00<00:00, 940.03it/s]\n",
      "100%|██████████| 15/15 [00:00<00:00, 835.54it/s]\n",
      "100%|██████████| 15/15 [00:00<00:00, 1002.41it/s]\n",
      "100%|██████████| 15/15 [00:00<00:00, 884.72it/s]\n",
      "100%|██████████| 15/15 [00:00<00:00, 884.44it/s]\n",
      "100%|██████████| 15/15 [00:00<00:00, 1002.69it/s]\n",
      "100%|██████████| 15/15 [00:00<00:00, 1004.58it/s]\n",
      "100%|██████████| 15/15 [00:00<00:00, 884.72it/s]\n",
      "100%|██████████| 15/15 [00:00<00:00, 683.64it/s]\n",
      "100%|██████████| 15/15 [00:00<00:00, 940.05it/s]\n",
      "100%|██████████| 15/15 [00:00<00:00, 940.16it/s]\n",
      "100%|██████████| 15/15 [00:00<00:00, 936.45it/s]\n",
      "100%|██████████| 15/15 [00:00<00:00, 884.18it/s]\n",
      "100%|██████████| 15/15 [00:00<00:00, 940.06it/s]\n",
      "100%|██████████| 15/15 [00:00<00:00, 716.18it/s]\n",
      "100%|██████████| 15/15 [00:00<00:00, 860.73it/s]\n",
      "100%|██████████| 15/15 [00:00<00:00, 830.48it/s]\n",
      "100%|██████████| 5/5 [00:00<00:00, 716.73it/s]\n",
      "100%|██████████| 5/5 [00:00<00:00, 715.97it/s]\n",
      "100%|██████████| 5/5 [00:00<00:00, 457.01it/s]\n",
      "100%|██████████| 5/5 [00:00<00:00, 716.24it/s]\n",
      "100%|██████████| 5/5 [00:00<00:00, 831.61it/s]\n",
      "100%|██████████| 5/5 [00:00<00:00, 835.62it/s]\n",
      "100%|██████████| 5/5 [00:00<00:00, 500.54it/s]\n",
      "100%|██████████| 5/5 [00:00<00:00, 716.17it/s]\n",
      "100%|██████████| 5/5 [00:00<00:00, 716.19it/s]\n",
      "100%|██████████| 5/5 [00:00<00:00, 709.22it/s]\n",
      "100%|██████████| 5/5 [00:00<00:00, 831.58it/s]\n",
      "100%|██████████| 5/5 [00:00<00:00, 712.37it/s]\n",
      "100%|██████████| 5/5 [00:00<00:00, 719.73it/s]\n",
      "100%|██████████| 5/5 [00:00<00:00, 716.17it/s]\n",
      "100%|██████████| 5/5 [00:00<00:00, 713.17it/s]\n",
      "100%|██████████| 5/5 [00:00<00:00, 835.89it/s]\n",
      "100%|██████████| 5/5 [00:00<00:00, 716.14it/s]\n",
      "100%|██████████| 5/5 [00:00<00:00, 835.55it/s]\n",
      "100%|██████████| 5/5 [00:00<00:00, 716.22it/s]\n",
      "100%|██████████| 5/5 [00:00<00:00, 930.12it/s]\n",
      "100%|██████████| 5/5 [00:00<00:00, 713.15it/s]\n",
      "100%|██████████| 5/5 [00:00<00:00, 831.48it/s]\n",
      "100%|██████████| 5/5 [00:00<00:00, 716.22it/s]\n",
      "100%|██████████| 5/5 [00:00<00:00, 713.34it/s]\n",
      "100%|██████████| 5/5 [00:00<00:00, 831.51it/s]\n",
      "100%|██████████| 5/5 [00:00<00:00, 834.45it/s]\n",
      "100%|██████████| 5/5 [00:00<00:00, 716.26it/s]\n",
      "100%|██████████| 5/5 [00:00<00:00, 358.08it/s]\n",
      "100%|██████████| 5/5 [00:00<00:00, 835.15it/s]\n",
      "100%|██████████| 5/5 [00:00<00:00, 808.90it/s]\n",
      "100%|██████████| 5/5 [00:00<00:00, 715.80it/s]\n",
      "100%|██████████| 5/5 [00:00<00:00, 713.29it/s]\n",
      "100%|██████████| 5/5 [00:00<00:00, 831.51it/s]\n",
      "100%|██████████| 5/5 [00:00<00:00, 712.47it/s]\n",
      "100%|██████████| 5/5 [00:00<00:00, 716.19it/s]\n",
      "100%|██████████| 5/5 [00:00<00:00, 712.52it/s]\n",
      "100%|██████████| 5/5 [00:00<00:00, 714.07it/s]\n",
      "100%|██████████| 5/5 [00:00<00:00, 713.24it/s]\n",
      "100%|██████████| 5/5 [00:00<00:00, 716.19it/s]\n",
      "100%|██████████| 5/5 [00:00<00:00, 835.62it/s]\n",
      "100%|██████████| 5/5 [00:00<00:00, 835.42it/s]\n",
      "100%|██████████| 5/5 [00:00<00:00, 626.65it/s]\n",
      "100%|██████████| 5/5 [00:00<00:00, 710.18it/s]\n",
      "100%|██████████| 5/5 [00:00<00:00, 626.67it/s]\n",
      "100%|██████████| 5/5 [00:00<00:00, 630.42it/s]\n",
      "100%|██████████| 5/5 [00:00<00:00, 835.39it/s]\n",
      "100%|██████████| 5/5 [00:00<00:00, 712.83it/s]\n",
      "100%|██████████| 5/5 [00:00<00:00, 552.74it/s]\n",
      "100%|██████████| 10/10 [00:00<00:00, 864.56it/s]\n",
      "100%|██████████| 10/10 [00:00<00:00, 772.33it/s]\n",
      "100%|██████████| 10/10 [00:00<00:00, 769.65it/s]\n",
      "100%|██████████| 10/10 [00:00<00:00, 771.31it/s]\n",
      "100%|██████████| 10/10 [00:00<00:00, 834.80it/s]\n",
      "100%|██████████| 10/10 [00:00<00:00, 716.18it/s]\n",
      "100%|██████████| 10/10 [00:00<00:00, 714.65it/s]\n",
      "100%|██████████| 10/10 [00:00<00:00, 716.58it/s]\n",
      "100%|██████████| 10/10 [00:00<00:00, 771.35it/s]\n",
      "100%|██████████| 10/10 [00:00<00:00, 833.29it/s]\n",
      "100%|██████████| 10/10 [00:00<00:00, 771.31it/s]\n",
      "100%|██████████| 10/10 [00:00<00:00, 834.11it/s]\n",
      "100%|██████████| 10/10 [00:00<00:00, 833.51it/s]\n",
      "100%|██████████| 10/10 [00:00<00:00, 771.32it/s]\n",
      "100%|██████████| 10/10 [00:00<00:00, 557.68it/s]\n",
      "100%|██████████| 10/10 [00:00<00:00, 831.43it/s]\n",
      "100%|██████████| 10/10 [00:00<00:00, 769.57it/s]\n",
      "100%|██████████| 10/10 [00:00<00:00, 771.27it/s]\n",
      "100%|██████████| 10/10 [00:00<00:00, 747.14it/s]\n",
      "100%|██████████| 10/10 [00:00<00:00, 770.09it/s]\n",
      "100%|██████████| 10/10 [00:00<00:00, 833.38it/s]\n",
      "100%|██████████| 10/10 [00:00<00:00, 771.25it/s]\n",
      "100%|██████████| 10/10 [00:00<00:00, 835.60it/s]\n",
      "100%|██████████| 10/10 [00:00<00:00, 835.39it/s]\n",
      "100%|██████████| 10/10 [00:00<00:00, 669.67it/s]\n",
      "100%|██████████| 10/10 [00:00<00:00, 831.44it/s]\n",
      "100%|██████████| 10/10 [00:00<00:00, 590.88it/s]\n",
      "100%|██████████| 10/10 [00:00<00:00, 772.99it/s]\n",
      "100%|██████████| 10/10 [00:00<00:00, 473.07it/s]\n",
      "100%|██████████| 10/10 [00:00<00:00, 668.49it/s]\n",
      "100%|██████████| 10/10 [00:00<00:00, 768.20it/s]\n",
      "100%|██████████| 10/10 [00:00<00:00, 833.48it/s]\n",
      "100%|██████████| 10/10 [00:00<00:00, 771.30it/s]\n",
      "100%|██████████| 10/10 [00:00<00:00, 807.17it/s]\n",
      "100%|██████████| 10/10 [00:00<00:00, 739.67it/s]\n",
      "100%|██████████| 10/10 [00:00<00:00, 716.01it/s]\n",
      "100%|██████████| 10/10 [00:00<00:00, 771.05it/s]\n",
      "100%|██████████| 10/10 [00:00<00:00, 831.44it/s]\n",
      "100%|██████████| 10/10 [00:00<00:00, 830.56it/s]\n",
      "100%|██████████| 10/10 [00:00<00:00, 771.25it/s]\n",
      "100%|██████████| 10/10 [00:00<00:00, 772.02it/s]\n",
      "100%|██████████| 10/10 [00:00<00:00, 835.90it/s]\n",
      "100%|██████████| 10/10 [00:00<00:00, 669.21it/s]\n",
      "100%|██████████| 10/10 [00:00<00:00, 572.63it/s]\n",
      "100%|██████████| 10/10 [00:00<00:00, 835.57it/s]\n",
      "100%|██████████| 10/10 [00:00<00:00, 832.43it/s]\n",
      "100%|██████████| 10/10 [00:00<00:00, 771.48it/s]\n",
      "100%|██████████| 10/10 [00:00<00:00, 501.33it/s]\n",
      "100%|██████████| 15/15 [00:00<00:00, 795.03it/s]\n",
      "100%|██████████| 15/15 [00:00<00:00, 538.38it/s]\n",
      "100%|██████████| 15/15 [00:00<00:00, 835.56it/s]\n",
      "100%|██████████| 15/15 [00:00<00:00, 770.43it/s]\n",
      "100%|██████████| 15/15 [00:00<00:00, 838.32it/s]\n",
      "100%|██████████| 15/15 [00:00<00:00, 835.57it/s]\n",
      "100%|██████████| 15/15 [00:00<00:00, 790.41it/s]\n",
      "100%|██████████| 15/15 [00:00<00:00, 791.55it/s]\n",
      "100%|██████████| 15/15 [00:00<00:00, 417.78it/s]\n",
      "100%|██████████| 15/15 [00:00<00:00, 791.58it/s]\n",
      "100%|██████████| 15/15 [00:00<00:00, 766.18it/s]\n",
      "100%|██████████| 15/15 [00:00<00:00, 831.86it/s]\n",
      "100%|██████████| 15/15 [00:00<00:00, 835.51it/s]\n",
      "100%|██████████| 15/15 [00:00<00:00, 792.75it/s]\n",
      "100%|██████████| 15/15 [00:00<00:00, 750.65it/s]\n",
      "100%|██████████| 15/15 [00:00<00:00, 752.17it/s]\n",
      "100%|██████████| 15/15 [00:00<00:00, 791.60it/s]\n",
      "100%|██████████| 15/15 [00:00<00:00, 834.28it/s]\n",
      "100%|██████████| 15/15 [00:00<00:00, 501.34it/s]\n",
      "100%|██████████| 15/15 [00:00<00:00, 751.89it/s]\n",
      "100%|██████████| 15/15 [00:00<00:00, 683.59it/s]\n",
      "100%|██████████| 15/15 [00:00<00:00, 416.13it/s]\n",
      "100%|██████████| 15/15 [00:00<00:00, 668.16it/s]\n",
      "100%|██████████| 15/15 [00:00<00:00, 753.09it/s]\n",
      "100%|██████████| 15/15 [00:00<00:00, 716.43it/s]\n",
      "100%|██████████| 15/15 [00:00<00:00, 884.55it/s]\n",
      "100%|██████████| 15/15 [00:00<00:00, 792.84it/s]\n",
      "100%|██████████| 15/15 [00:00<00:00, 578.94it/s]\n",
      "100%|██████████| 15/15 [00:00<00:00, 835.57it/s]\n",
      "100%|██████████| 15/15 [00:00<00:00, 790.38it/s]\n",
      "100%|██████████| 15/15 [00:00<00:00, 791.04it/s]\n",
      "100%|██████████| 15/15 [00:00<00:00, 743.49it/s]\n",
      "100%|██████████| 15/15 [00:00<00:00, 790.65it/s]\n",
      "100%|██████████| 15/15 [00:00<00:00, 834.09it/s]\n",
      "100%|██████████| 15/15 [00:00<00:00, 577.93it/s]\n",
      "100%|██████████| 15/15 [00:00<00:00, 752.04it/s]\n",
      "100%|██████████| 15/15 [00:00<00:00, 791.56it/s]\n",
      "100%|██████████| 15/15 [00:00<00:00, 836.22it/s]\n",
      "100%|██████████| 15/15 [00:00<00:00, 789.79it/s]\n",
      "100%|██████████| 15/15 [00:00<00:00, 791.59it/s]\n",
      "100%|██████████| 15/15 [00:00<00:00, 411.95it/s]\n",
      "100%|██████████| 15/15 [00:00<00:00, 835.61it/s]\n",
      "100%|██████████| 15/15 [00:00<00:00, 793.01it/s]\n",
      "100%|██████████| 15/15 [00:00<00:00, 791.61it/s]\n",
      "100%|██████████| 15/15 [00:00<00:00, 752.03it/s]\n",
      "100%|██████████| 15/15 [00:00<00:00, 787.67it/s]\n",
      "100%|██████████| 15/15 [00:00<00:00, 790.67it/s]\n",
      "100%|██████████| 15/15 [00:00<00:00, 834.30it/s]\n",
      "100%|██████████| 5/5 [00:00<?, ?it/s]\n",
      "100%|██████████| 5/5 [00:00<00:00, 5014.71it/s]\n",
      "100%|██████████| 5/5 [00:00<?, ?it/s]\n",
      "100%|██████████| 5/5 [00:00<00:00, 5011.12it/s]\n",
      "100%|██████████| 5/5 [00:00<00:00, 5395.30it/s]\n",
      "100%|██████████| 5/5 [00:00<?, ?it/s]\n",
      "100%|██████████| 5/5 [00:00<00:00, 5091.41it/s]\n",
      "100%|██████████| 5/5 [00:00<?, ?it/s]\n",
      "100%|██████████| 5/5 [00:00<00:00, 5011.12it/s]\n",
      "100%|██████████| 5/5 [00:00<?, ?it/s]\n",
      "100%|██████████| 5/5 [00:00<00:00, 4999.17it/s]\n",
      "100%|██████████| 5/5 [00:00<00:00, 4878.23it/s]\n",
      "100%|██████████| 5/5 [00:00<00:00, 5198.69it/s]\n",
      "100%|██████████| 5/5 [00:00<?, ?it/s]\n",
      "100%|██████████| 5/5 [00:00<?, ?it/s]\n",
      "100%|██████████| 5/5 [00:00<00:00, 4879.37it/s]\n",
      "100%|██████████| 5/5 [00:00<?, ?it/s]\n",
      "100%|██████████| 5/5 [00:00<?, ?it/s]\n",
      "100%|██████████| 5/5 [00:00<?, ?it/s]\n",
      "100%|██████████| 5/5 [00:00<00:00, 5008.72it/s]\n",
      "100%|██████████| 5/5 [00:00<00:00, 5391.14it/s]\n",
      "100%|██████████| 5/5 [00:00<?, ?it/s]\n",
      "100%|██████████| 5/5 [00:00<00:00, 5048.51it/s]\n",
      "100%|██████████| 5/5 [00:00<00:00, 5011.12it/s]\n",
      "100%|██████████| 5/5 [00:00<00:00, 3965.87it/s]\n",
      "100%|██████████| 5/5 [00:00<?, ?it/s]\n",
      "100%|██████████| 5/5 [00:00<00:00, 4824.37it/s]\n",
      "100%|██████████| 5/5 [00:00<?, ?it/s]\n",
      "100%|██████████| 5/5 [00:00<00:00, 5011.12it/s]\n",
      "100%|██████████| 5/5 [00:00<00:00, 5201.27it/s]\n",
      "100%|██████████| 5/5 [00:00<00:00, 5033.97it/s]\n",
      "100%|██████████| 5/5 [00:00<00:00, 5001.55it/s]\n",
      "100%|██████████| 5/5 [00:00<00:00, 4514.86it/s]\n",
      "100%|██████████| 5/5 [00:00<?, ?it/s]\n",
      "100%|██████████| 5/5 [00:00<00:00, 4817.72it/s]\n",
      "100%|██████████| 5/5 [00:00<?, ?it/s]\n",
      "100%|██████████| 5/5 [00:00<00:00, 5013.51it/s]\n",
      "100%|██████████| 5/5 [00:00<00:00, 5148.91it/s]\n",
      "100%|██████████| 5/5 [00:00<00:00, 5011.12it/s]\n",
      "100%|██████████| 5/5 [00:00<00:00, 5011.12it/s]\n",
      "100%|██████████| 5/5 [00:00<00:00, 4999.17it/s]\n",
      "100%|██████████| 5/5 [00:00<?, ?it/s]\n",
      "100%|██████████| 5/5 [00:00<?, ?it/s]\n",
      "100%|██████████| 5/5 [00:00<00:00, 5018.31it/s]\n",
      "100%|██████████| 5/5 [00:00<?, ?it/s]\n",
      "100%|██████████| 5/5 [00:00<00:00, 5011.12it/s]\n",
      "100%|██████████| 5/5 [00:00<00:00, 4973.09it/s]\n",
      "100%|██████████| 5/5 [00:00<?, ?it/s]\n",
      "100%|██████████| 10/10 [00:00<?, ?it/s]\n",
      "100%|██████████| 10/10 [00:00<00:00, 10024.63it/s]\n",
      "100%|██████████| 10/10 [00:00<00:00, 10027.02it/s]\n",
      "100%|██████████| 10/10 [00:00<00:00, 10027.02it/s]\n",
      "100%|██████████| 10/10 [00:00<?, ?it/s]\n",
      "100%|██████████| 10/10 [00:00<00:00, 10017.44it/s]\n",
      "100%|██████████| 10/10 [00:00<00:00, 10024.63it/s]\n",
      "100%|██████████| 10/10 [00:00<?, ?it/s]\n",
      "100%|██████████| 10/10 [00:00<00:00, 20390.39it/s]\n",
      "100%|██████████| 10/10 [00:00<00:00, 10328.25it/s]\n",
      "100%|██████████| 10/10 [00:00<00:00, 10034.22it/s]\n",
      "100%|██████████| 10/10 [00:00<00:00, 10039.02it/s]\n",
      "100%|██████████| 10/10 [00:00<00:00, 10019.84it/s]\n",
      "100%|██████████| 10/10 [00:00<00:00, 9986.44it/s]\n",
      "100%|██████████| 10/10 [00:00<00:00, 10072.78it/s]\n",
      "100%|██████████| 10/10 [00:00<00:00, 10089.74it/s]\n",
      "100%|██████████| 10/10 [00:00<00:00, 4055.21it/s]\n",
      "100%|██████████| 10/10 [00:00<00:00, 10031.82it/s]\n",
      "100%|██████████| 10/10 [00:00<00:00, 10027.02it/s]\n",
      "100%|██████████| 10/10 [00:00<00:00, 10024.63it/s]\n",
      "100%|██████████| 10/10 [00:00<00:00, 10402.54it/s]\n",
      "100%|██████████| 10/10 [00:00<00:00, 10405.12it/s]\n",
      "100%|██████████| 10/10 [00:00<?, ?it/s]\n",
      "100%|██████████| 10/10 [00:00<?, ?it/s]\n",
      "100%|██████████| 10/10 [00:00<00:00, 9751.93it/s]\n",
      "100%|██████████| 10/10 [00:00<00:00, 10148.33it/s]\n",
      "100%|██████████| 10/10 [00:00<00:00, 10024.63it/s]\n",
      "100%|██████████| 10/10 [00:00<00:00, 10024.63it/s]\n",
      "100%|██████████| 10/10 [00:00<00:00, 10012.66it/s]\n",
      "100%|██████████| 10/10 [00:00<00:00, 10019.84it/s]\n",
      "100%|██████████| 10/10 [00:00<00:00, 10138.52it/s]\n",
      "100%|██████████| 10/10 [00:00<?, ?it/s]\n",
      "100%|██████████| 10/10 [00:00<00:00, 10024.63it/s]\n",
      "100%|██████████| 10/10 [00:00<00:00, 10022.23it/s]\n",
      "100%|██████████| 10/10 [00:00<00:00, 10328.25it/s]\n",
      "100%|██████████| 10/10 [00:00<00:00, 10145.87it/s]\n",
      "100%|██████████| 10/10 [00:00<00:00, 9790.63it/s]\n",
      "100%|██████████| 10/10 [00:00<00:00, 10029.42it/s]\n",
      "100%|██████████| 10/10 [00:00<00:00, 10031.82it/s]\n",
      "100%|██████████| 10/10 [00:00<?, ?it/s]\n",
      "100%|██████████| 10/10 [00:00<00:00, 10123.83it/s]\n",
      "100%|██████████| 10/10 [00:00<?, ?it/s]\n",
      "100%|██████████| 10/10 [00:00<00:00, 9806.65it/s]\n",
      "100%|██████████| 10/10 [00:00<?, ?it/s]\n",
      "100%|██████████| 10/10 [00:00<00:00, 10019.84it/s]\n",
      "100%|██████████| 10/10 [00:00<00:00, 9670.98it/s]\n",
      "100%|██████████| 10/10 [00:00<?, ?it/s]\n",
      "100%|██████████| 10/10 [00:00<00:00, 10046.24it/s]\n",
      "100%|██████████| 15/15 [00:00<00:00, 16037.36it/s]\n",
      "100%|██████████| 15/15 [00:00<00:00, 15296.51it/s]\n",
      "100%|██████████| 15/15 [00:00<00:00, 15072.97it/s]\n",
      "100%|██████████| 15/15 [00:00<00:00, 7480.92it/s]\n",
      "100%|██████████| 15/15 [00:00<00:00, 15248.32it/s]\n",
      "100%|██████████| 15/15 [00:00<00:00, 15163.79it/s]\n",
      "100%|██████████| 15/15 [00:00<00:00, 15029.76it/s]\n",
      "100%|██████████| 15/15 [00:00<00:00, 14915.73it/s]\n",
      "100%|██████████| 15/15 [00:00<00:00, 7496.97it/s]\n",
      "100%|██████████| 15/15 [00:00<00:00, 15026.17it/s]\n",
      "100%|██████████| 15/15 [00:00<00:00, 15026.17it/s]\n",
      "100%|██████████| 15/15 [00:00<00:00, 15044.13it/s]\n",
      "100%|██████████| 15/15 [00:00<00:00, 15233.55it/s]\n",
      "100%|██████████| 15/15 [00:00<00:00, 14887.50it/s]\n",
      "100%|██████████| 15/15 [00:00<00:00, 15036.94it/s]\n",
      "100%|██████████| 15/15 [00:00<00:00, 7621.39it/s]\n",
      "100%|██████████| 15/15 [00:00<00:00, 7518.47it/s]\n",
      "100%|██████████| 15/15 [00:00<00:00, 15044.13it/s]\n",
      "100%|██████████| 15/15 [00:00<00:00, 7609.40it/s]\n",
      "100%|██████████| 15/15 [00:00<00:00, 15044.13it/s]\n",
      "100%|██████████| 15/15 [00:00<00:00, 14634.70it/s]\n",
      "100%|██████████| 15/15 [00:00<00:00, 15029.76it/s]\n",
      "100%|██████████| 15/15 [00:00<00:00, 14624.49it/s]\n",
      "100%|██████████| 15/15 [00:00<00:00, 15473.33it/s]\n",
      "100%|██████████| 15/15 [00:00<00:00, 7631.56it/s]\n",
      "100%|██████████| 15/15 [00:00<00:00, 15033.35it/s]\n",
      "100%|██████████| 15/15 [00:00<00:00, 15029.76it/s]\n",
      "100%|██████████| 15/15 [00:00<00:00, 15054.93it/s]\n",
      "100%|██████████| 15/15 [00:00<00:00, 15040.54it/s]\n",
      "100%|██████████| 15/15 [00:00<00:00, 10470.05it/s]\n",
      "100%|██████████| 15/15 [00:00<00:00, 14617.70it/s]\n",
      "100%|██████████| 15/15 [00:00<00:00, 14713.41it/s]\n",
      "100%|██████████| 15/15 [00:00<00:00, 7549.14it/s]\n",
      "100%|██████████| 15/15 [00:00<00:00, 7926.74it/s]\n",
      "100%|██████████| 15/15 [00:00<00:00, 14665.40it/s]\n",
      "100%|██████████| 15/15 [00:00<00:00, 7415.67it/s]\n",
      "100%|██████████| 15/15 [00:00<00:00, 15033.35it/s]\n",
      "100%|██████████| 15/15 [00:00<00:00, 7522.07it/s]\n",
      "100%|██████████| 15/15 [00:00<00:00, 7622.31it/s]\n",
      "100%|██████████| 15/15 [00:00<00:00, 14607.51it/s]\n",
      "100%|██████████| 15/15 [00:00<00:00, 15488.57it/s]\n",
      "100%|██████████| 15/15 [00:00<00:00, 14720.30it/s]\n",
      "100%|██████████| 15/15 [00:00<00:00, 14550.08it/s]\n",
      "100%|██████████| 15/15 [00:00<00:00, 15040.54it/s]\n",
      "100%|██████████| 15/15 [00:00<00:00, 7520.27it/s]\n",
      "100%|██████████| 15/15 [00:00<00:00, 15036.94it/s]\n",
      "100%|██████████| 15/15 [00:00<00:00, 15015.41it/s]\n",
      "100%|██████████| 15/15 [00:00<00:00, 15040.54it/s]\n",
      "100%|██████████| 5/5 [00:00<00:00, 2181.13it/s]\n",
      "100%|██████████| 5/5 [00:00<00:00, 4877.10it/s]\n",
      "100%|██████████| 5/5 [00:00<00:00, 4871.43it/s]\n",
      "100%|██████████| 5/5 [00:00<00:00, 2506.16it/s]\n",
      "100%|██████████| 5/5 [00:00<00:00, 2506.16it/s]\n",
      "100%|██████████| 5/5 [00:00<00:00, 4862.40it/s]\n",
      "100%|██████████| 5/5 [00:00<00:00, 2505.86it/s]\n",
      "100%|██████████| 5/5 [00:00<00:00, 1670.77it/s]\n",
      "100%|██████████| 5/5 [00:00<00:00, 4878.23it/s]\n",
      "100%|██████████| 5/5 [00:00<00:00, 4871.43it/s]\n",
      "100%|██████████| 5/5 [00:00<00:00, 4866.91it/s]\n",
      "100%|██████████| 5/5 [00:00<00:00, 5153.97it/s]\n",
      "100%|██████████| 5/5 [00:00<00:00, 2508.25it/s]\n",
      "100%|██████████| 5/5 [00:00<00:00, 5015.91it/s]\n",
      "100%|██████████| 5/5 [00:00<00:00, 2363.52it/s]\n",
      "100%|██████████| 5/5 [00:00<00:00, 3297.93it/s]\n",
      "100%|██████████| 5/5 [00:00<00:00, 4875.96it/s]\n",
      "100%|██████████| 5/5 [00:00<00:00, 4875.96it/s]\n",
      "100%|██████████| 5/5 [00:00<00:00, 2505.56it/s]\n",
      "100%|██████████| 5/5 [00:00<00:00, 4853.40it/s]\n",
      "100%|██████████| 5/5 [00:00<00:00, 5009.92it/s]\n",
      "100%|██████████| 5/5 [00:00<00:00, 5013.51it/s]\n",
      "100%|██████████| 5/5 [00:00<00:00, 4881.64it/s]\n",
      "100%|██████████| 5/5 [00:00<00:00, 2473.35it/s]\n",
      "100%|██████████| 5/5 [00:00<00:00, 4873.70it/s]\n",
      "100%|██████████| 5/5 [00:00<00:00, 4897.60it/s]\n",
      "100%|██████████| 5/5 [00:00<00:00, 4863.53it/s]\n",
      "100%|██████████| 5/5 [00:00<00:00, 2512.16it/s]\n",
      "100%|██████████| 5/5 [00:00<00:00, 2390.19it/s]\n",
      "100%|██████████| 5/5 [00:00<00:00, 5014.71it/s]\n",
      "100%|██████████| 5/5 [00:00<00:00, 5012.31it/s]\n",
      "100%|██████████| 5/5 [00:00<00:00, 2343.19it/s]\n",
      "100%|██████████| 5/5 [00:00<00:00, 4906.77it/s]\n",
      "100%|██████████| 5/5 [00:00<00:00, 2668.47it/s]\n",
      "100%|██████████| 5/5 [00:00<00:00, 2506.46it/s]\n",
      "100%|██████████| 5/5 [00:00<00:00, 2507.36it/s]\n",
      "100%|██████████| 5/5 [00:00<00:00, 2507.06it/s]\n",
      "100%|██████████| 5/5 [00:00<00:00, 2506.46it/s]\n",
      "100%|██████████| 5/5 [00:00<00:00, 2446.23it/s]\n",
      "100%|██████████| 5/5 [00:00<00:00, 2497.20it/s]\n",
      "100%|██████████| 5/5 [00:00<00:00, 2490.38it/s]\n",
      "100%|██████████| 5/5 [00:00<00:00, 4875.96it/s]\n",
      "100%|██████████| 5/5 [00:00<00:00, 4872.57it/s]\n",
      "100%|██████████| 5/5 [00:00<00:00, 5015.91it/s]\n",
      "100%|██████████| 5/5 [00:00<00:00, 4871.43it/s]\n",
      "100%|██████████| 5/5 [00:00<00:00, 4984.91it/s]\n",
      "100%|██████████| 5/5 [00:00<00:00, 5014.71it/s]\n",
      "100%|██████████| 5/5 [00:00<00:00, 5014.71it/s]\n",
      "100%|██████████| 10/10 [00:00<00:00, 1671.17it/s]\n",
      "100%|██████████| 10/10 [00:00<00:00, 2506.16it/s]\n",
      "100%|██████████| 10/10 [00:00<00:00, 3379.51it/s]\n",
      "100%|██████████| 10/10 [00:00<00:00, 3344.47it/s]\n",
      "100%|██████████| 10/10 [00:00<00:00, 3278.85it/s]\n",
      "100%|██████████| 10/10 [00:00<00:00, 3337.02it/s]\n",
      "100%|██████████| 10/10 [00:00<00:00, 5021.31it/s]\n",
      "100%|██████████| 10/10 [00:00<00:00, 3311.73it/s]\n",
      "100%|██████████| 10/10 [00:00<00:00, 4942.62it/s]\n",
      "100%|██████████| 10/10 [00:00<00:00, 3342.07it/s]\n",
      "100%|██████████| 10/10 [00:00<00:00, 3344.47it/s]\n",
      "100%|██████████| 10/10 [00:00<00:00, 2546.17it/s]\n",
      "100%|██████████| 10/10 [00:00<00:00, 3342.34it/s]\n",
      "100%|██████████| 10/10 [00:00<00:00, 3342.61it/s]\n",
      "100%|██████████| 10/10 [00:00<00:00, 3342.34it/s]\n",
      "100%|██████████| 10/10 [00:00<00:00, 2506.16it/s]\n",
      "100%|██████████| 10/10 [00:00<00:00, 3342.34it/s]\n",
      "100%|██████████| 10/10 [00:00<00:00, 3341.54it/s]\n",
      "100%|██████████| 10/10 [00:00<00:00, 3309.64it/s]\n",
      "100%|██████████| 10/10 [00:00<00:00, 3342.34it/s]\n",
      "100%|██████████| 10/10 [00:00<00:00, 3340.48it/s]\n",
      "100%|██████████| 10/10 [00:00<00:00, 3342.34it/s]\n",
      "100%|██████████| 10/10 [00:00<00:00, 3341.01it/s]\n",
      "100%|██████████| 10/10 [00:00<00:00, 3312.25it/s]\n",
      "100%|██████████| 10/10 [00:00<00:00, 4943.20it/s]\n",
      "100%|██████████| 10/10 [00:00<00:00, 4978.40it/s]\n",
      "100%|██████████| 10/10 [00:00<00:00, 3342.87it/s]\n",
      "100%|██████████| 10/10 [00:00<00:00, 3310.94it/s]\n",
      "100%|██████████| 10/10 [00:00<00:00, 3366.22it/s]\n",
      "100%|██████████| 10/10 [00:00<00:00, 3317.75it/s]\n",
      "100%|██████████| 10/10 [00:00<00:00, 3342.07it/s]\n",
      "100%|██████████| 10/10 [00:00<00:00, 3341.81it/s]\n",
      "100%|██████████| 10/10 [00:00<00:00, 3385.23it/s]\n",
      "100%|██████████| 10/10 [00:00<00:00, 3288.62it/s]\n",
      "100%|██████████| 10/10 [00:00<00:00, 3338.09it/s]\n",
      "100%|██████████| 10/10 [00:00<00:00, 3341.28it/s]\n",
      "100%|██████████| 10/10 [00:00<00:00, 3317.23it/s]\n",
      "100%|██████████| 10/10 [00:00<00:00, 3341.81it/s]\n",
      "100%|██████████| 10/10 [00:00<00:00, 3316.44it/s]\n",
      "100%|██████████| 10/10 [00:00<00:00, 1677.32it/s]\n",
      "100%|██████████| 10/10 [00:00<00:00, 2471.02it/s]\n",
      "100%|██████████| 10/10 [00:00<00:00, 3316.18it/s]\n",
      "100%|██████████| 10/10 [00:00<00:00, 5009.92it/s]\n",
      "100%|██████████| 10/10 [00:00<00:00, 3343.94it/s]\n",
      "100%|██████████| 10/10 [00:00<00:00, 3341.54it/s]\n",
      "100%|██████████| 10/10 [00:00<00:00, 3353.03it/s]\n",
      "100%|██████████| 10/10 [00:00<00:00, 3341.54it/s]\n",
      "100%|██████████| 10/10 [00:00<00:00, 3340.48it/s]\n",
      "100%|██████████| 15/15 [00:00<00:00, 3006.09it/s]\n",
      "100%|██████████| 15/15 [00:00<00:00, 3726.72it/s]\n",
      "100%|██████████| 15/15 [00:00<00:00, 3008.11it/s]\n",
      "100%|██████████| 15/15 [00:00<00:00, 3025.61it/s]\n",
      "100%|██████████| 15/15 [00:00<00:00, 3766.44it/s]\n",
      "100%|██████████| 15/15 [00:00<00:00, 2984.99it/s]\n",
      "100%|██████████| 15/15 [00:00<00:00, 3732.47it/s]\n",
      "100%|██████████| 15/15 [00:00<00:00, 54.70it/s]\n",
      "100%|██████████| 15/15 [00:00<00:00, 3337.47it/s]\n",
      "100%|██████████| 15/15 [00:00<00:00, 2506.76it/s]\n",
      "100%|██████████| 15/15 [00:00<00:00, 3007.82it/s]\n",
      "100%|██████████| 15/15 [00:00<00:00, 3760.13it/s]\n",
      "100%|██████████| 15/15 [00:00<00:00, 3760.13it/s]\n",
      "100%|██████████| 15/15 [00:00<00:00, 3760.13it/s]\n",
      "100%|██████████| 15/15 [00:00<00:00, 3707.62it/s]\n",
      "100%|██████████| 15/15 [00:00<00:00, 1880.07it/s]\n",
      "100%|██████████| 15/15 [00:00<00:00, 3005.09it/s]\n",
      "100%|██████████| 15/15 [00:00<00:00, 3008.25it/s]\n",
      "100%|██████████| 15/15 [00:00<00:00, 3007.96it/s]\n",
      "100%|██████████| 15/15 [00:00<00:00, 3008.11it/s]\n",
      "100%|██████████| 15/15 [00:00<00:00, 3744.02it/s]\n",
      "100%|██████████| 15/15 [00:00<00:00, 3762.83it/s]\n",
      "100%|██████████| 15/15 [00:00<00:00, 3773.67it/s]\n",
      "100%|██████████| 15/15 [00:00<00:00, 3759.68it/s]\n",
      "100%|██████████| 15/15 [00:00<00:00, 3757.44it/s]\n",
      "100%|██████████| 15/15 [00:00<00:00, 3759.46it/s]\n",
      "100%|██████████| 15/15 [00:00<00:00, 5004.34it/s]\n",
      "100%|██████████| 15/15 [00:00<00:00, 3024.16it/s]\n",
      "100%|██████████| 15/15 [00:00<00:00, 3025.32it/s]\n",
      "100%|██████████| 15/15 [00:00<00:00, 3743.58it/s]\n",
      "100%|██████████| 15/15 [00:00<00:00, 2506.56it/s]\n",
      "100%|██████████| 15/15 [00:00<00:00, 3759.91it/s]\n",
      "100%|██████████| 15/15 [00:00<00:00, 3001.51it/s]\n",
      "100%|██████████| 15/15 [00:00<00:00, 2507.76it/s]\n",
      "100%|██████████| 15/15 [00:00<00:00, 3008.11it/s]\n",
      "100%|██████████| 15/15 [00:00<00:00, 3760.13it/s]\n",
      "100%|██████████| 15/15 [00:00<00:00, 3770.73it/s]\n",
      "100%|██████████| 15/15 [00:00<00:00, 3824.83it/s]\n",
      "100%|██████████| 15/15 [00:00<00:00, 3759.46it/s]\n",
      "100%|██████████| 15/15 [00:00<00:00, 3761.03it/s]\n",
      "100%|██████████| 15/15 [00:00<00:00, 3761.26it/s]\n",
      "100%|██████████| 15/15 [00:00<00:00, 4960.15it/s]\n",
      "100%|██████████| 15/15 [00:00<00:00, 3008.54it/s]\n",
      "100%|██████████| 15/15 [00:00<00:00, 2462.99it/s]\n",
      "100%|██████████| 15/15 [00:00<00:00, 3759.68it/s]\n",
      "100%|██████████| 15/15 [00:00<00:00, 3007.10it/s]\n",
      "100%|██████████| 15/15 [00:00<00:00, 3761.48it/s]\n",
      "100%|██████████| 15/15 [00:00<00:00, 3035.39it/s]\n",
      "100%|██████████| 5/5 [00:00<00:00, 1690.30it/s]\n",
      "100%|██████████| 5/5 [00:00<00:00, 1255.25it/s]\n",
      "100%|██████████| 5/5 [00:00<00:00, 1671.30it/s]\n",
      "100%|██████████| 5/5 [00:00<00:00, 1002.56it/s]\n",
      "100%|██████████| 5/5 [00:00<00:00, 1672.90it/s]\n",
      "100%|██████████| 5/5 [00:00<00:00, 2507.06it/s]\n",
      "100%|██████████| 5/5 [00:00<00:00, 1668.25it/s]\n",
      "100%|██████████| 5/5 [00:00<00:00, 2471.89it/s]\n",
      "100%|██████████| 5/5 [00:00<00:00, 1670.90it/s]\n",
      "100%|██████████| 5/5 [00:00<00:00, 1651.30it/s]\n",
      "100%|██████████| 5/5 [00:00<00:00, 1675.18it/s]\n",
      "100%|██████████| 5/5 [00:00<00:00, 1671.30it/s]\n",
      "100%|██████████| 5/5 [00:00<00:00, 1252.18it/s]\n",
      "100%|██████████| 5/5 [00:00<00:00, 1688.80it/s]\n",
      "100%|██████████| 5/5 [00:00<00:00, 2507.66it/s]\n",
      "100%|██████████| 5/5 [00:00<00:00, 1651.69it/s]\n",
      "100%|██████████| 5/5 [00:00<00:00, 1677.86it/s]\n",
      "100%|██████████| 5/5 [00:00<00:00, 2479.49it/s]\n",
      "100%|██████████| 5/5 [00:00<00:00, 1671.30it/s]\n",
      "100%|██████████| 5/5 [00:00<00:00, 2509.16it/s]\n",
      "100%|██████████| 5/5 [00:00<00:00, 1671.30it/s]\n",
      "100%|██████████| 5/5 [00:00<00:00, 1253.08it/s]\n",
      "100%|██████████| 5/5 [00:00<00:00, 2518.19it/s]\n",
      "100%|██████████| 5/5 [00:00<00:00, 1655.86it/s]\n",
      "100%|██████████| 5/5 [00:00<00:00, 715.58it/s]\n",
      "100%|██████████| 5/5 [00:00<00:00, 1671.17it/s]\n",
      "100%|██████████| 5/5 [00:00<00:00, 2506.76it/s]\n",
      "100%|██████████| 5/5 [00:00<00:00, 1655.73it/s]\n",
      "100%|██████████| 5/5 [00:00<00:00, 1657.96it/s]\n",
      "100%|██████████| 5/5 [00:00<00:00, 1671.17it/s]\n",
      "100%|██████████| 5/5 [00:00<00:00, 1262.05it/s]\n",
      "100%|██████████| 5/5 [00:00<00:00, 1236.38it/s]\n",
      "100%|██████████| 5/5 [00:00<00:00, 1241.29it/s]\n",
      "100%|██████████| 5/5 [00:00<00:00, 1671.17it/s]\n",
      "100%|██████████| 5/5 [00:00<00:00, 2506.16it/s]\n",
      "100%|██████████| 5/5 [00:00<00:00, 2498.69it/s]\n",
      "100%|██████████| 5/5 [00:00<00:00, 2507.66it/s]\n",
      "100%|██████████| 5/5 [00:00<00:00, 1253.15it/s]\n",
      "100%|██████████| 5/5 [00:00<00:00, 1690.98it/s]\n",
      "100%|██████████| 5/5 [00:00<00:00, 1670.51it/s]\n",
      "100%|██████████| 5/5 [00:00<00:00, 1251.96it/s]\n",
      "100%|██████████| 5/5 [00:00<00:00, 1253.23it/s]\n",
      "100%|██████████| 5/5 [00:00<00:00, 2550.66it/s]\n",
      "100%|██████████| 5/5 [00:00<00:00, 2507.66it/s]\n",
      "100%|██████████| 5/5 [00:00<00:00, 1008.25it/s]\n",
      "100%|██████████| 5/5 [00:00<00:00, 1655.08it/s]\n",
      "100%|██████████| 5/5 [00:00<00:00, 2471.31it/s]\n",
      "100%|██████████| 5/5 [00:00<00:00, 1670.24it/s]\n",
      "100%|██████████| 10/10 [00:00<00:00, 1656.98it/s]\n",
      "100%|██████████| 10/10 [00:00<00:00, 1911.11it/s]\n"
     ]
    },
    {
     "name": "stdout",
     "output_type": "stream",
     "text": [
      "{'max_geracoes': 500, 'capacidade': 5, 'vertices': 240, 'npacotes': 350, 'n_individuos': 10, 'n_caminhoes': 84, 'min_variacao': 0.001, 'strikes': 6}\n"
     ]
    },
    {
     "name": "stderr",
     "output_type": "stream",
     "text": [
      "100%|██████████| 10/10 [00:00<00:00, 2506.76it/s]\n",
      "100%|██████████| 10/10 [00:00<00:00, 1995.20it/s]\n",
      "100%|██████████| 10/10 [00:00<00:00, 2005.21it/s]\n",
      "100%|██████████| 10/10 [00:00<00:00, 1679.67it/s]\n",
      "100%|██████████| 10/10 [00:00<00:00, 1666.66it/s]\n",
      "100%|██████████| 10/10 [00:00<00:00, 1670.57it/s]\n",
      "100%|██████████| 10/10 [00:00<00:00, 2005.21it/s]\n",
      "100%|██████████| 10/10 [00:00<00:00, 2506.61it/s]\n",
      "100%|██████████| 10/10 [00:00<00:00, 2005.40it/s]\n",
      "100%|██████████| 10/10 [00:00<00:00, 2005.12it/s]\n",
      "100%|██████████| 10/10 [00:00<00:00, 1669.18it/s]\n",
      "100%|██████████| 10/10 [00:00<00:00, 2488.61it/s]\n",
      "100%|██████████| 10/10 [00:00<00:00, 2005.69it/s]\n",
      "100%|██████████| 10/10 [00:00<00:00, 2005.31it/s]\n",
      "100%|██████████| 10/10 [00:00<00:00, 1671.17it/s]\n",
      "100%|██████████| 10/10 [00:00<00:00, 1671.70it/s]\n",
      "100%|██████████| 10/10 [00:00<00:00, 2005.31it/s]\n",
      "100%|██████████| 10/10 [00:00<00:00, 2488.32it/s]\n",
      "100%|██████████| 10/10 [00:00<00:00, 2005.40it/s]\n",
      "100%|██████████| 10/10 [00:00<00:00, 1659.20it/s]\n",
      "100%|██████████| 10/10 [00:00<00:00, 1670.97it/s]\n",
      "100%|██████████| 10/10 [00:00<00:00, 1993.49it/s]\n",
      "100%|██████████| 10/10 [00:00<00:00, 2488.91it/s]\n",
      "100%|██████████| 10/10 [00:00<00:00, 1432.58it/s]\n",
      "100%|██████████| 10/10 [00:00<00:00, 1256.87it/s]\n",
      "100%|██████████| 10/10 [00:00<00:00, 1999.10it/s]\n",
      "100%|██████████| 10/10 [00:00<00:00, 1671.10it/s]\n",
      "100%|██████████| 10/10 [00:00<00:00, 1431.94it/s]\n",
      "100%|██████████| 10/10 [00:00<00:00, 2005.21it/s]\n",
      "100%|██████████| 10/10 [00:00<00:00, 1671.04it/s]\n",
      "100%|██████████| 10/10 [00:00<00:00, 2506.01it/s]\n",
      "100%|██████████| 10/10 [00:00<00:00, 2005.02it/s]\n",
      "100%|██████████| 10/10 [00:00<00:00, 2489.20it/s]\n",
      "100%|██████████| 10/10 [00:00<00:00, 2193.67it/s]\n",
      "100%|██████████| 10/10 [00:00<00:00, 1114.11it/s]\n",
      "100%|██████████| 10/10 [00:00<00:00, 2489.35it/s]\n",
      "100%|██████████| 10/10 [00:00<00:00, 2005.12it/s]\n",
      "100%|██████████| 10/10 [00:00<00:00, 1671.04it/s]\n",
      "100%|██████████| 10/10 [00:00<00:00, 2591.00it/s]\n",
      "100%|██████████| 10/10 [00:00<00:00, 1671.17it/s]\n",
      "100%|██████████| 10/10 [00:00<00:00, 2024.47it/s]\n",
      "100%|██████████| 10/10 [00:00<00:00, 2005.50it/s]\n",
      "100%|██████████| 10/10 [00:00<00:00, 2225.09it/s]\n",
      "100%|██████████| 10/10 [00:00<00:00, 2488.46it/s]\n",
      "100%|██████████| 10/10 [00:00<00:00, 2003.97it/s]\n",
      "100%|██████████| 10/10 [00:00<00:00, 2522.43it/s]\n",
      "100%|██████████| 15/15 [00:00<00:00, 2139.95it/s]\n",
      "100%|██████████| 15/15 [00:00<00:00, 2149.24it/s]\n"
     ]
    },
    {
     "name": "stdout",
     "output_type": "stream",
     "text": [
      "{'max_geracoes': 500, 'capacidade': 5, 'vertices': 240, 'npacotes': 350, 'n_individuos': 15, 'n_caminhoes': 84, 'min_variacao': 0.001, 'strikes': 6}\n"
     ]
    },
    {
     "name": "stderr",
     "output_type": "stream",
     "text": [
      "100%|██████████| 15/15 [00:00<00:00, 2143.01it/s]\n"
     ]
    },
    {
     "name": "stdout",
     "output_type": "stream",
     "text": [
      "{'max_geracoes': 500, 'capacidade': 5, 'vertices': 240, 'npacotes': 350, 'n_individuos': 15, 'n_caminhoes': 84, 'min_variacao': 0.001, 'strikes': 9}\n"
     ]
    },
    {
     "name": "stderr",
     "output_type": "stream",
     "text": [
      "100%|██████████| 15/15 [00:00<00:00, 2145.42it/s]\n",
      "100%|██████████| 15/15 [00:00<00:00, 2159.93it/s]\n",
      "100%|██████████| 15/15 [00:00<00:00, 2506.76it/s]\n",
      "100%|██████████| 15/15 [00:00<00:00, 1986.63it/s]\n",
      "100%|██████████| 15/15 [00:00<00:00, 1878.94it/s]\n",
      "100%|██████████| 15/15 [00:00<00:00, 2136.46it/s]\n",
      "100%|██████████| 15/15 [00:00<00:00, 2148.57it/s]\n",
      "100%|██████████| 15/15 [00:00<00:00, 1886.61it/s]\n",
      "100%|██████████| 15/15 [00:00<00:00, 2146.89it/s]\n",
      "100%|██████████| 15/15 [00:00<00:00, 2148.87it/s]\n",
      "100%|██████████| 15/15 [00:00<00:00, 2116.34it/s]\n",
      "100%|██████████| 15/15 [00:00<00:00, 1882.99it/s]\n",
      "100%|██████████| 15/15 [00:00<00:00, 1767.86it/s]\n",
      "100%|██████████| 15/15 [00:00<00:00, 2148.43it/s]\n",
      "100%|██████████| 15/15 [00:00<00:00, 2148.65it/s]\n",
      "100%|██████████| 15/15 [00:00<00:00, 2139.95it/s]\n",
      "100%|██████████| 15/15 [00:00<00:00, 2148.50it/s]\n",
      "100%|██████████| 15/15 [00:00<00:00, 1873.46it/s]\n",
      "100%|██████████| 15/15 [00:00<00:00, 1880.01it/s]\n",
      "100%|██████████| 15/15 [00:00<00:00, 1880.07it/s]\n",
      "100%|██████████| 15/15 [00:00<00:00, 2147.62it/s]\n",
      "100%|██████████| 15/15 [00:00<00:00, 1676.34it/s]\n",
      "100%|██████████| 15/15 [00:00<00:00, 1719.73it/s]\n",
      "100%|██████████| 15/15 [00:00<00:00, 2494.53it/s]\n",
      "100%|██████████| 15/15 [00:00<00:00, 2148.87it/s]\n",
      "100%|██████████| 15/15 [00:00<00:00, 2148.50it/s]\n",
      "100%|██████████| 15/15 [00:00<00:00, 1879.84it/s]\n",
      "100%|██████████| 15/15 [00:00<00:00, 1893.53it/s]\n",
      "100%|██████████| 15/15 [00:00<00:00, 1071.98it/s]\n",
      "100%|██████████| 15/15 [00:00<00:00, 2148.65it/s]\n",
      "100%|██████████| 15/15 [00:00<00:00, 2143.96it/s]\n",
      "100%|██████████| 15/15 [00:00<00:00, 2148.94it/s]\n",
      "100%|██████████| 15/15 [00:00<00:00, 1876.59it/s]\n",
      "100%|██████████| 15/15 [00:00<00:00, 2148.72it/s]\n",
      "100%|██████████| 15/15 [00:00<00:00, 1880.01it/s]\n",
      "100%|██████████| 15/15 [00:00<00:00, 1880.01it/s]\n",
      "100%|██████████| 15/15 [00:00<00:00, 2121.19it/s]\n",
      "100%|██████████| 15/15 [00:00<00:00, 1879.62it/s]\n",
      "100%|██████████| 15/15 [00:00<00:00, 2082.64it/s]\n",
      "100%|██████████| 15/15 [00:00<00:00, 2148.43it/s]\n",
      "100%|██████████| 15/15 [00:00<00:00, 2148.65it/s]\n",
      "100%|██████████| 15/15 [00:00<00:00, 2148.43it/s]\n",
      "100%|██████████| 15/15 [00:00<00:00, 2148.35it/s]\n",
      "100%|██████████| 15/15 [00:00<00:00, 2148.50it/s]\n",
      "100%|██████████| 15/15 [00:00<00:00, 1865.35it/s]\n",
      "100%|██████████| 5/5 [00:00<00:00, 1253.38it/s]\n",
      "100%|██████████| 5/5 [00:00<00:00, 1257.51it/s]\n",
      "100%|██████████| 5/5 [00:00<00:00, 1670.11it/s]\n",
      "100%|██████████| 5/5 [00:00<00:00, 1253.53it/s]\n",
      "100%|██████████| 5/5 [00:00<00:00, 1052.63it/s]\n",
      "100%|██████████| 5/5 [00:00<00:00, 1658.35it/s]\n",
      "100%|██████████| 5/5 [00:00<00:00, 1253.98it/s]\n",
      "100%|██████████| 5/5 [00:00<00:00, 1244.60it/s]\n",
      "100%|██████████| 5/5 [00:00<00:00, 1671.44it/s]\n",
      "100%|██████████| 5/5 [00:00<00:00, 1655.34it/s]\n",
      "100%|██████████| 5/5 [00:00<00:00, 995.33it/s]\n",
      "100%|██████████| 5/5 [00:00<00:00, 1247.78it/s]\n",
      "100%|██████████| 5/5 [00:00<00:00, 1671.30it/s]\n",
      "100%|██████████| 5/5 [00:00<00:00, 1671.30it/s]\n",
      "100%|██████████| 5/5 [00:00<00:00, 1002.70it/s]\n",
      "100%|██████████| 5/5 [00:00<00:00, 1253.23it/s]\n",
      "100%|██████████| 5/5 [00:00<00:00, 1253.45it/s]\n",
      "100%|██████████| 5/5 [00:00<00:00, 1244.38it/s]\n",
      "100%|██████████| 5/5 [00:00<00:00, 1255.48it/s]\n",
      "100%|██████████| 5/5 [00:00<00:00, 1253.15it/s]\n",
      "100%|██████████| 5/5 [00:00<00:00, 1671.30it/s]\n",
      "100%|██████████| 5/5 [00:00<00:00, 1253.30it/s]\n",
      "100%|██████████| 5/5 [00:00<00:00, 1253.15it/s]\n",
      "100%|██████████| 5/5 [00:00<00:00, 1001.98it/s]\n",
      "100%|██████████| 5/5 [00:00<00:00, 1642.76it/s]\n",
      "100%|██████████| 5/5 [00:00<00:00, 1253.30it/s]\n",
      "100%|██████████| 5/5 [00:00<00:00, 1253.38it/s]\n",
      "100%|██████████| 5/5 [00:00<00:00, 1253.38it/s]\n",
      "100%|██████████| 5/5 [00:00<00:00, 1253.23it/s]\n",
      "100%|██████████| 5/5 [00:00<00:00, 1674.91it/s]\n",
      "100%|██████████| 5/5 [00:00<00:00, 835.59it/s]\n",
      "100%|██████████| 5/5 [00:00<00:00, 1253.45it/s]\n",
      "100%|██████████| 5/5 [00:00<00:00, 1253.23it/s]\n",
      "100%|██████████| 5/5 [00:00<00:00, 1267.08it/s]\n",
      "100%|██████████| 5/5 [00:00<00:00, 1246.52it/s]\n",
      "100%|██████████| 5/5 [00:00<00:00, 1671.04it/s]\n",
      "100%|██████████| 5/5 [00:00<00:00, 1671.17it/s]\n",
      "100%|██████████| 5/5 [00:00<00:00, 1671.30it/s]\n",
      "100%|██████████| 5/5 [00:00<00:00, 1253.38it/s]\n",
      "100%|██████████| 5/5 [00:00<00:00, 1402.03it/s]\n",
      "100%|██████████| 5/5 [00:00<00:00, 1253.30it/s]\n",
      "100%|██████████| 5/5 [00:00<00:00, 1671.44it/s]\n",
      "100%|██████████| 5/5 [00:00<00:00, 1670.90it/s]\n",
      "100%|██████████| 5/5 [00:00<00:00, 1253.45it/s]\n",
      "100%|██████████| 5/5 [00:00<00:00, 998.45it/s]\n",
      "100%|██████████| 5/5 [00:00<00:00, 1671.30it/s]\n",
      "100%|██████████| 5/5 [00:00<00:00, 1253.23it/s]\n",
      "100%|██████████| 5/5 [00:00<00:00, 1253.15it/s]\n",
      "100%|██████████| 10/10 [00:00<00:00, 1249.01it/s]\n",
      "100%|██████████| 10/10 [00:00<00:00, 1407.34it/s]\n",
      "100%|██████████| 10/10 [00:00<00:00, 1431.80it/s]\n",
      "100%|██████████| 10/10 [00:00<00:00, 1427.61it/s]\n"
     ]
    },
    {
     "name": "stdout",
     "output_type": "stream",
     "text": [
      "{'max_geracoes': 500, 'capacidade': 5, 'vertices': 240, 'npacotes': 500, 'n_individuos': 10, 'n_caminhoes': 120, 'min_variacao': 0.001, 'strikes': 12}\n"
     ]
    },
    {
     "name": "stderr",
     "output_type": "stream",
     "text": [
      "100%|██████████| 10/10 [00:00<00:00, 1253.30it/s]\n",
      "100%|██████████| 10/10 [00:00<00:00, 1670.84it/s]\n",
      "100%|██████████| 10/10 [00:00<00:00, 1432.29it/s]\n",
      "100%|██████████| 10/10 [00:00<00:00, 1431.75it/s]\n",
      "100%|██████████| 10/10 [00:00<00:00, 1663.15it/s]\n",
      "100%|██████████| 10/10 [00:00<00:00, 1663.09it/s]\n",
      "100%|██████████| 10/10 [00:00<00:00, 1176.75it/s]\n",
      "100%|██████████| 10/10 [00:00<00:00, 1430.77it/s]\n",
      "100%|██████████| 10/10 [00:00<00:00, 801.59it/s]\n",
      "100%|██████████| 10/10 [00:00<00:00, 1114.94it/s]\n",
      "100%|██████████| 10/10 [00:00<00:00, 1671.17it/s]\n",
      "100%|██████████| 10/10 [00:00<00:00, 1663.28it/s]\n",
      "100%|██████████| 10/10 [00:00<00:00, 1526.42it/s]\n",
      "100%|██████████| 10/10 [00:00<00:00, 1431.70it/s]\n",
      "100%|██████████| 10/10 [00:00<00:00, 1432.63it/s]\n",
      "100%|██████████| 10/10 [00:00<00:00, 1432.48it/s]\n",
      "100%|██████████| 10/10 [00:00<00:00, 1671.57it/s]\n",
      "100%|██████████| 10/10 [00:00<00:00, 1431.60it/s]\n",
      "100%|██████████| 10/10 [00:00<00:00, 1663.15it/s]\n",
      "100%|██████████| 10/10 [00:00<00:00, 1621.93it/s]\n",
      "100%|██████████| 10/10 [00:00<00:00, 1432.43it/s]\n",
      "100%|██████████| 10/10 [00:00<00:00, 1432.63it/s]\n",
      "100%|██████████| 10/10 [00:00<00:00, 1654.82it/s]\n",
      "100%|██████████| 10/10 [00:00<00:00, 1253.45it/s]\n",
      "100%|██████████| 10/10 [00:00<00:00, 1432.58it/s]\n",
      "100%|██████████| 10/10 [00:00<00:00, 1670.97it/s]\n",
      "100%|██████████| 10/10 [00:00<00:00, 1372.66it/s]\n",
      "100%|██████████| 10/10 [00:00<00:00, 1253.94it/s]\n",
      "100%|██████████| 10/10 [00:00<00:00, 911.55it/s]\n",
      "100%|██████████| 10/10 [00:00<00:00, 1434.44it/s]\n",
      "100%|██████████| 10/10 [00:00<00:00, 1432.38it/s]\n",
      "100%|██████████| 10/10 [00:00<00:00, 1430.23it/s]\n",
      "100%|██████████| 10/10 [00:00<00:00, 1429.45it/s]\n",
      "100%|██████████| 10/10 [00:00<00:00, 1424.99it/s]\n",
      "100%|██████████| 10/10 [00:00<00:00, 1002.58it/s]\n",
      "100%|██████████| 10/10 [00:00<00:00, 1425.86it/s]\n",
      "100%|██████████| 10/10 [00:00<00:00, 1433.46it/s]\n",
      "100%|██████████| 10/10 [00:00<00:00, 1253.12it/s]\n",
      "100%|██████████| 10/10 [00:00<00:00, 1431.70it/s]\n",
      "100%|██████████| 10/10 [00:00<00:00, 35.78it/s]\n",
      "100%|██████████| 10/10 [00:00<00:00, 1432.43it/s]\n",
      "100%|██████████| 10/10 [00:00<00:00, 1427.41it/s]\n",
      "100%|██████████| 10/10 [00:00<00:00, 1437.00it/s]\n",
      "100%|██████████| 10/10 [00:00<00:00, 1113.61it/s]\n",
      "100%|██████████| 15/15 [00:00<00:00, 1072.02it/s]\n",
      "100%|██████████| 15/15 [00:00<00:00, 1367.41it/s]\n",
      "100%|██████████| 15/15 [00:00<00:00, 938.52it/s]\n",
      "100%|██████████| 15/15 [00:00<00:00, 938.20it/s]\n",
      "100%|██████████| 15/15 [00:00<00:00, 1002.59it/s]\n",
      "100%|██████████| 15/15 [00:00<00:00, 1504.45it/s]\n",
      "100%|██████████| 15/15 [00:00<00:00, 1074.34it/s]\n",
      "100%|██████████| 15/15 [00:00<00:00, 1503.30it/s]\n",
      "100%|██████████| 15/15 [00:00<00:00, 1504.02it/s]\n",
      "100%|██████████| 15/15 [00:00<00:00, 1503.98it/s]\n",
      "100%|██████████| 15/15 [00:00<00:00, 1499.82it/s]\n",
      "100%|██████████| 15/15 [00:00<00:00, 1498.57it/s]\n",
      "100%|██████████| 15/15 [00:00<00:00, 1363.65it/s]\n",
      "100%|██████████| 15/15 [00:00<00:00, 1505.06it/s]\n",
      "100%|██████████| 15/15 [00:00<00:00, 1367.29it/s]\n",
      "100%|██████████| 15/15 [00:00<00:00, 1504.09it/s]\n",
      "100%|██████████| 15/15 [00:00<00:00, 1364.27it/s]\n",
      "100%|██████████| 15/15 [00:00<00:00, 1509.25it/s]\n",
      "100%|██████████| 15/15 [00:00<00:00, 1375.09it/s]\n",
      "100%|██████████| 15/15 [00:00<00:00, 1503.08it/s]\n",
      "100%|██████████| 15/15 [00:00<00:00, 1503.05it/s]\n",
      "100%|██████████| 15/15 [00:00<00:00, 1504.16it/s]\n",
      "100%|██████████| 15/15 [00:00<00:00, 1503.87it/s]\n",
      "100%|██████████| 15/15 [00:00<00:00, 1503.62it/s]\n",
      "100%|██████████| 15/15 [00:00<00:00, 1363.74it/s]\n",
      "100%|██████████| 15/15 [00:00<00:00, 1505.31it/s]\n",
      "100%|██████████| 15/15 [00:00<00:00, 1471.03it/s]\n",
      "100%|██████████| 15/15 [00:00<00:00, 1500.32it/s]\n",
      "100%|██████████| 15/15 [00:00<00:00, 1499.93it/s]\n",
      "100%|██████████| 15/15 [00:00<00:00, 1504.27it/s]\n",
      "100%|██████████| 15/15 [00:00<00:00, 1504.13it/s]\n",
      "100%|██████████| 15/15 [00:00<00:00, 1242.98it/s]\n",
      "100%|██████████| 15/15 [00:00<00:00, 1505.21it/s]\n",
      "100%|██████████| 15/15 [00:00<00:00, 1362.73it/s]\n",
      "100%|██████████| 15/15 [00:00<00:00, 1367.26it/s]\n",
      "100%|██████████| 15/15 [00:00<00:00, 1367.44it/s]\n",
      "100%|██████████| 15/15 [00:00<00:00, 52.05it/s]\n",
      "100%|██████████| 15/15 [00:00<00:00, 1507.30it/s]\n",
      "100%|██████████| 15/15 [00:00<00:00, 1367.29it/s]\n",
      "100%|██████████| 15/15 [00:00<00:00, 1508.16it/s]\n",
      "100%|██████████| 15/15 [00:00<00:00, 1503.41it/s]\n",
      "100%|██████████| 15/15 [00:00<00:00, 1488.71it/s]\n",
      "100%|██████████| 15/15 [00:00<00:00, 1504.16it/s]\n",
      "100%|██████████| 15/15 [00:00<00:00, 1367.35it/s]\n",
      "100%|██████████| 15/15 [00:00<00:00, 1494.80it/s]\n",
      "100%|██████████| 15/15 [00:00<00:00, 1665.82it/s]\n",
      "100%|██████████| 15/15 [00:00<00:00, 1367.11it/s]\n",
      "100%|██████████| 15/15 [00:00<00:00, 1368.84it/s]\n",
      "100%|██████████| 5/5 [00:00<00:00, 1255.33it/s]\n",
      "100%|██████████| 5/5 [00:00<00:00, 1228.27it/s]\n",
      "100%|██████████| 5/5 [00:00<00:00, 1003.04it/s]\n",
      "100%|██████████| 5/5 [00:00<00:00, 1250.61it/s]\n",
      "100%|██████████| 5/5 [00:00<00:00, 646.09it/s]\n",
      "100%|██████████| 5/5 [00:00<00:00, 1253.08it/s]\n",
      "100%|██████████| 5/5 [00:00<00:00, 1001.89it/s]\n",
      "100%|██████████| 5/5 [00:00<00:00, 1002.75it/s]\n",
      "100%|██████████| 5/5 [00:00<00:00, 1240.26it/s]\n",
      "100%|██████████| 5/5 [00:00<00:00, 1241.87it/s]\n",
      "100%|██████████| 5/5 [00:00<00:00, 979.66it/s]\n",
      "100%|██████████| 5/5 [00:00<00:00, 1253.00it/s]\n",
      "100%|██████████| 5/5 [00:00<00:00, 996.08it/s]\n",
      "100%|██████████| 5/5 [00:00<00:00, 1002.51it/s]\n",
      "100%|██████████| 5/5 [00:00<00:00, 1002.75it/s]\n",
      "100%|██████████| 5/5 [00:00<00:00, 1002.61it/s]\n",
      "100%|██████████| 5/5 [00:00<00:00, 1253.75it/s]\n",
      "100%|██████████| 5/5 [00:00<00:00, 1002.89it/s]\n",
      "100%|██████████| 5/5 [00:00<00:00, 557.06it/s]\n",
      "100%|██████████| 5/5 [00:00<00:00, 1253.08it/s]\n",
      "100%|██████████| 5/5 [00:00<00:00, 1253.23it/s]\n",
      "100%|██████████| 5/5 [00:00<00:00, 991.51it/s]\n",
      "100%|██████████| 5/5 [00:00<00:00, 835.52it/s]\n",
      "100%|██████████| 5/5 [00:00<00:00, 1003.09it/s]\n",
      "100%|██████████| 5/5 [00:00<00:00, 1002.65it/s]\n",
      "100%|██████████| 5/5 [00:00<00:00, 1242.02it/s]\n",
      "100%|██████████| 5/5 [00:00<00:00, 1009.12it/s]\n",
      "100%|██████████| 5/5 [00:00<00:00, 1002.46it/s]\n",
      "100%|██████████| 5/5 [00:00<00:00, 835.35it/s]\n",
      "100%|██████████| 5/5 [00:00<00:00, 1002.85it/s]\n",
      "100%|██████████| 5/5 [00:00<00:00, 995.14it/s]\n",
      "100%|██████████| 5/5 [00:00<00:00, 1253.00it/s]\n",
      "100%|██████████| 5/5 [00:00<00:00, 955.38it/s]\n",
      "100%|██████████| 5/5 [00:00<00:00, 1002.56it/s]\n",
      "100%|██████████| 5/5 [00:00<00:00, 995.47it/s]\n",
      "100%|██████████| 5/5 [00:00<00:00, 1002.18it/s]\n",
      "100%|██████████| 5/5 [00:00<00:00, 1002.65it/s]\n",
      "100%|██████████| 5/5 [00:00<00:00, 1002.89it/s]\n",
      "100%|██████████| 5/5 [00:00<00:00, 1245.78it/s]\n",
      "100%|██████████| 5/5 [00:00<00:00, 1002.70it/s]\n",
      "100%|██████████| 5/5 [00:00<00:00, 835.49it/s]\n",
      "100%|██████████| 5/5 [00:00<00:00, 998.17it/s]\n",
      "100%|██████████| 5/5 [00:00<00:00, 798.73it/s]\n",
      "100%|██████████| 5/5 [00:00<00:00, 1002.99it/s]\n",
      "100%|██████████| 5/5 [00:00<00:00, 1240.48it/s]\n",
      "100%|██████████| 5/5 [00:00<00:00, 1253.08it/s]\n",
      "100%|██████████| 5/5 [00:00<00:00, 1261.98it/s]\n",
      "100%|██████████| 5/5 [00:00<00:00, 994.52it/s]\n",
      "100%|██████████| 10/10 [00:00<00:00, 1109.55it/s]\n",
      "100%|██████████| 10/10 [00:00<00:00, 1054.53it/s]\n",
      "100%|██████████| 10/10 [00:00<00:00, 1118.06it/s]\n",
      "100%|██████████| 10/10 [00:00<00:00, 1100.66it/s]\n",
      "100%|██████████| 10/10 [00:00<00:00, 836.25it/s]\n",
      "100%|██████████| 10/10 [00:00<00:00, 835.50it/s]\n",
      "100%|██████████| 10/10 [00:00<00:00, 1254.09it/s]\n",
      "100%|██████████| 10/10 [00:00<00:00, 1113.91it/s]\n",
      "100%|██████████| 10/10 [00:00<00:00, 1253.42it/s]\n",
      "100%|██████████| 10/10 [00:00<00:00, 1114.97it/s]\n"
     ]
    },
    {
     "name": "stdout",
     "output_type": "stream",
     "text": [
      "{'max_geracoes': 500, 'capacidade': 5, 'vertices': 240, 'npacotes': 650, 'n_individuos': 10, 'n_caminhoes': 156, 'min_variacao': 0.001, 'strikes': 6}\n"
     ]
    },
    {
     "name": "stderr",
     "output_type": "stream",
     "text": [
      "100%|██████████| 10/10 [00:00<00:00, 1113.79it/s]\n",
      "100%|██████████| 10/10 [00:00<00:00, 1113.70it/s]\n",
      "100%|██████████| 10/10 [00:00<00:00, 1114.20it/s]\n",
      "100%|██████████| 10/10 [00:00<00:00, 1136.02it/s]\n",
      "100%|██████████| 10/10 [00:00<00:00, 1113.85it/s]\n",
      "100%|██████████| 10/10 [00:00<00:00, 1114.14it/s]\n",
      "100%|██████████| 10/10 [00:00<00:00, 1114.02it/s]\n",
      "100%|██████████| 10/10 [00:00<00:00, 1114.17it/s]\n",
      "100%|██████████| 10/10 [00:00<00:00, 1249.01it/s]\n",
      "100%|██████████| 10/10 [00:00<00:00, 1252.97it/s]\n",
      "100%|██████████| 10/10 [00:00<00:00, 1000.26it/s]\n",
      "100%|██████████| 10/10 [00:00<00:00, 1070.74it/s]\n",
      "100%|██████████| 10/10 [00:00<00:00, 1253.45it/s]\n",
      "100%|██████████| 10/10 [00:00<00:00, 1253.04it/s]\n",
      "100%|██████████| 10/10 [00:00<00:00, 1002.68it/s]\n",
      "100%|██████████| 10/10 [00:00<00:00, 1114.08it/s]\n",
      "100%|██████████| 10/10 [00:00<00:00, 1115.33it/s]\n",
      "100%|██████████| 10/10 [00:00<00:00, 1105.48it/s]\n",
      "100%|██████████| 10/10 [00:00<00:00, 1114.17it/s]\n",
      "100%|██████████| 10/10 [00:00<00:00, 1005.30it/s]\n",
      "100%|██████████| 10/10 [00:00<00:00, 1110.54it/s]\n",
      "100%|██████████| 10/10 [00:00<00:00, 1114.77it/s]\n",
      "100%|██████████| 10/10 [00:00<00:00, 1109.52it/s]\n",
      "100%|██████████| 10/10 [00:00<00:00, 1114.29it/s]\n",
      "100%|██████████| 10/10 [00:00<00:00, 1252.40it/s]\n",
      "100%|██████████| 10/10 [00:00<00:00, 1113.94it/s]\n",
      "100%|██████████| 10/10 [00:00<00:00, 1110.51it/s]\n",
      "100%|██████████| 10/10 [00:00<00:00, 1257.78it/s]\n",
      "100%|██████████| 10/10 [00:00<00:00, 1003.42it/s]\n",
      "100%|██████████| 10/10 [00:00<00:00, 1253.38it/s]\n",
      "100%|██████████| 10/10 [00:00<00:00, 1250.84it/s]\n",
      "100%|██████████| 10/10 [00:00<00:00, 1005.47it/s]\n",
      "100%|██████████| 10/10 [00:00<00:00, 1114.41it/s]\n",
      "100%|██████████| 10/10 [00:00<00:00, 1196.59it/s]\n",
      "100%|██████████| 10/10 [00:00<00:00, 1002.39it/s]\n",
      "100%|██████████| 10/10 [00:00<00:00, 1001.82it/s]\n",
      "100%|██████████| 10/10 [00:00<00:00, 1111.52it/s]\n",
      "100%|██████████| 10/10 [00:00<00:00, 1113.67it/s]\n",
      "100%|██████████| 15/15 [00:00<00:00, 1159.42it/s]\n",
      "100%|██████████| 15/15 [00:00<00:00, 1073.66it/s]\n",
      "100%|██████████| 15/15 [00:00<00:00, 1150.34it/s]\n",
      "100%|██████████| 15/15 [00:00<00:00, 1074.29it/s]\n",
      "100%|██████████| 15/15 [00:00<00:00, 1151.75it/s]\n",
      "100%|██████████| 15/15 [00:00<00:00, 1156.90it/s]\n",
      "100%|██████████| 15/15 [00:00<00:00, 1156.26it/s]\n",
      "100%|██████████| 15/15 [00:00<00:00, 1074.89it/s]\n",
      "100%|██████████| 15/15 [00:00<00:00, 1156.92it/s]\n",
      "100%|██████████| 15/15 [00:00<00:00, 1246.92it/s]\n",
      "100%|██████████| 15/15 [00:00<00:00, 1153.82it/s]\n",
      "100%|██████████| 15/15 [00:00<00:00, 1105.76it/s]\n",
      "100%|██████████| 15/15 [00:00<00:00, 1164.93it/s]\n",
      "100%|██████████| 15/15 [00:00<00:00, 836.62it/s]\n",
      "100%|██████████| 15/15 [00:00<00:00, 1156.96it/s]\n",
      "100%|██████████| 15/15 [00:00<00:00, 1154.40it/s]\n",
      "100%|██████████| 15/15 [00:00<00:00, 1156.90it/s]\n",
      "100%|██████████| 15/15 [00:00<00:00, 780.50it/s]\n",
      "100%|██████████| 15/15 [00:00<00:00, 1153.55it/s]\n",
      "100%|██████████| 15/15 [00:00<00:00, 1074.36it/s]\n",
      "100%|██████████| 15/15 [00:00<00:00, 1155.39it/s]\n",
      "100%|██████████| 15/15 [00:00<00:00, 1250.49it/s]\n",
      "100%|██████████| 15/15 [00:00<00:00, 1249.97it/s]\n",
      "100%|██████████| 15/15 [00:00<00:00, 1159.35it/s]\n",
      "100%|██████████| 15/15 [00:00<00:00, 1157.01it/s]\n",
      "100%|██████████| 15/15 [00:00<00:00, 1156.99it/s]\n",
      "100%|██████████| 15/15 [00:00<00:00, 1156.56it/s]\n",
      "100%|██████████| 15/15 [00:00<00:00, 1069.61it/s]\n",
      "100%|██████████| 15/15 [00:00<00:00, 1005.12it/s]\n",
      "100%|██████████| 15/15 [00:00<00:00, 1153.76it/s]\n",
      "100%|██████████| 15/15 [00:00<00:00, 1074.20it/s]\n",
      "100%|██████████| 15/15 [00:00<00:00, 1002.65it/s]\n",
      "100%|██████████| 15/15 [00:00<00:00, 1157.94it/s]\n",
      "100%|██████████| 15/15 [00:00<00:00, 1110.56it/s]\n",
      "100%|██████████| 15/15 [00:00<00:00, 1002.86it/s]\n",
      "100%|██████████| 15/15 [00:00<00:00, 1253.20it/s]\n",
      "100%|██████████| 15/15 [00:00<00:00, 1155.88it/s]\n",
      "100%|██████████| 15/15 [00:00<00:00, 1160.66it/s]\n",
      "100%|██████████| 15/15 [00:00<00:00, 1151.69it/s]\n",
      "100%|██████████| 15/15 [00:00<00:00, 837.21it/s]\n",
      "100%|██████████| 15/15 [00:00<00:00, 1157.65it/s]\n",
      "100%|██████████| 15/15 [00:00<00:00, 1157.52it/s]\n",
      "100%|██████████| 15/15 [00:00<00:00, 1155.94it/s]\n",
      "100%|██████████| 15/15 [00:00<00:00, 1147.59it/s]\n",
      "100%|██████████| 15/15 [00:00<00:00, 1157.71it/s]\n",
      "100%|██████████| 15/15 [00:00<00:00, 1149.23it/s]\n",
      "100%|██████████| 15/15 [00:00<00:00, 1253.85it/s]\n",
      "100%|██████████| 15/15 [00:00<00:00, 1253.43it/s]\n",
      "100%|██████████| 5/5 [00:00<00:00, 833.39it/s]\n",
      "100%|██████████| 5/5 [00:00<00:00, 1004.24it/s]\n",
      "100%|██████████| 5/5 [00:00<00:00, 827.28it/s]\n",
      "100%|██████████| 5/5 [00:00<00:00, 1002.37it/s]\n",
      "100%|██████████| 5/5 [00:00<00:00, 715.65it/s]\n",
      "100%|██████████| 5/5 [00:00<00:00, 1008.44it/s]\n",
      "100%|██████████| 5/5 [00:00<00:00, 1002.75it/s]\n",
      "100%|██████████| 5/5 [00:00<00:00, 834.89it/s]\n",
      "100%|██████████| 5/5 [00:00<00:00, 835.55it/s]\n",
      "100%|██████████| 5/5 [00:00<00:00, 996.93it/s]\n",
      "100%|██████████| 5/5 [00:00<00:00, 1002.70it/s]\n",
      "100%|██████████| 5/5 [00:00<00:00, 1001.36it/s]\n",
      "100%|██████████| 5/5 [00:00<00:00, 834.92it/s]\n",
      "100%|██████████| 5/5 [00:00<00:00, 831.97it/s]\n",
      "100%|██████████| 5/5 [00:00<00:00, 836.08it/s]\n",
      "100%|██████████| 5/5 [00:00<00:00, 825.98it/s]\n",
      "100%|██████████| 5/5 [00:00<00:00, 1005.20it/s]\n",
      "100%|██████████| 5/5 [00:00<00:00, 1002.56it/s]\n",
      "100%|██████████| 5/5 [00:00<00:00, 1001.46it/s]\n",
      "100%|██████████| 5/5 [00:00<00:00, 501.32it/s]\n",
      "100%|██████████| 5/5 [00:00<00:00, 838.26it/s]\n",
      "100%|██████████| 5/5 [00:00<00:00, 716.34it/s]\n",
      "100%|██████████| 5/5 [00:00<00:00, 831.51it/s]\n",
      "100%|██████████| 5/5 [00:00<00:00, 1001.98it/s]\n",
      "100%|██████████| 5/5 [00:00<00:00, 717.02it/s]\n",
      "100%|██████████| 5/5 [00:00<00:00, 834.39it/s]\n",
      "100%|██████████| 5/5 [00:00<00:00, 833.92it/s]\n",
      "100%|██████████| 5/5 [00:00<00:00, 837.72it/s]\n",
      "100%|██████████| 5/5 [00:00<00:00, 831.58it/s]\n",
      "100%|██████████| 5/5 [00:00<00:00, 770.36it/s]\n",
      "100%|██████████| 5/5 [00:00<00:00, 760.66it/s]\n",
      "100%|██████████| 5/5 [00:00<00:00, 835.55it/s]\n",
      "100%|██████████| 5/5 [00:00<00:00, 1004.43it/s]\n",
      "100%|██████████| 5/5 [00:00<00:00, 996.27it/s]\n",
      "100%|██████████| 5/5 [00:00<00:00, 717.56it/s]\n",
      "100%|██████████| 5/5 [00:00<00:00, 1002.75it/s]\n",
      "100%|██████████| 5/5 [00:00<00:00, 830.46it/s]\n",
      "100%|██████████| 5/5 [00:00<00:00, 834.26it/s]\n",
      "100%|██████████| 5/5 [00:00<00:00, 835.29it/s]\n",
      "100%|██████████| 5/5 [00:00<00:00, 1003.47it/s]\n",
      "100%|██████████| 5/5 [00:00<00:00, 837.12it/s]\n",
      "100%|██████████| 5/5 [00:00<00:00, 839.60it/s]\n",
      "100%|██████████| 5/5 [00:00<00:00, 834.82it/s]\n",
      "100%|██████████| 5/5 [00:00<00:00, 1002.65it/s]\n",
      "100%|██████████| 5/5 [00:00<00:00, 1001.60it/s]\n",
      "100%|██████████| 5/5 [00:00<00:00, 1002.13it/s]\n",
      "100%|██████████| 5/5 [00:00<00:00, 835.62it/s]\n",
      "100%|██████████| 5/5 [00:00<00:00, 834.85it/s]\n",
      "100%|██████████| 10/10 [00:00<00:00, 911.53it/s]\n",
      "100%|██████████| 10/10 [00:00<00:00, 900.88it/s]\n",
      "100%|██████████| 10/10 [00:00<00:00, 771.25it/s]\n",
      "100%|██████████| 10/10 [00:00<00:00, 716.20it/s]\n",
      "100%|██████████| 10/10 [00:00<00:00, 910.89it/s]\n",
      "100%|██████████| 10/10 [00:00<00:00, 913.97it/s]\n",
      "100%|██████████| 10/10 [00:00<00:00, 1002.18it/s]\n",
      "100%|██████████| 10/10 [00:00<00:00, 909.18it/s]\n",
      "100%|██████████| 10/10 [00:00<00:00, 911.55it/s]\n",
      "100%|██████████| 10/10 [00:00<00:00, 844.04it/s]\n",
      "100%|██████████| 10/10 [00:00<00:00, 908.49it/s]\n",
      "100%|██████████| 10/10 [00:00<00:00, 35.86it/s]\n",
      "100%|██████████| 10/10 [00:00<00:00, 835.89it/s]\n",
      "100%|██████████| 10/10 [00:00<00:00, 836.13it/s]\n",
      "100%|██████████| 10/10 [00:00<00:00, 915.49it/s]\n",
      "100%|██████████| 10/10 [00:00<00:00, 1001.41it/s]\n",
      "100%|██████████| 10/10 [00:00<00:00, 1003.64it/s]\n",
      "100%|██████████| 10/10 [00:00<00:00, 908.47it/s]\n",
      "100%|██████████| 10/10 [00:00<00:00, 833.96it/s]\n",
      "100%|██████████| 10/10 [00:00<00:00, 588.62it/s]\n",
      "100%|██████████| 10/10 [00:00<00:00, 666.71it/s]\n",
      "100%|██████████| 10/10 [00:00<00:00, 911.47it/s]\n",
      "100%|██████████| 10/10 [00:00<00:00, 874.16it/s]\n",
      "100%|██████████| 10/10 [00:00<00:00, 911.86it/s]\n",
      "100%|██████████| 10/10 [00:00<00:00, 1005.49it/s]\n",
      "100%|██████████| 10/10 [00:00<00:00, 1005.54it/s]\n",
      "100%|██████████| 10/10 [00:00<00:00, 914.69it/s]\n",
      "100%|██████████| 10/10 [00:00<00:00, 912.28it/s]\n",
      "100%|██████████| 10/10 [00:00<00:00, 1000.10it/s]\n",
      "100%|██████████| 10/10 [00:00<00:00, 668.47it/s]\n",
      "100%|██████████| 10/10 [00:00<00:00, 902.21it/s]\n",
      "100%|██████████| 10/10 [00:00<00:00, 833.58it/s]\n",
      "100%|██████████| 10/10 [00:00<00:00, 835.54it/s]\n",
      "100%|██████████| 10/10 [00:00<00:00, 717.56it/s]\n",
      "100%|██████████| 10/10 [00:00<00:00, 1002.61it/s]\n",
      "100%|██████████| 10/10 [00:00<00:00, 909.29it/s]\n",
      "100%|██████████| 10/10 [00:00<00:00, 912.00it/s]\n",
      "100%|██████████| 10/10 [00:00<00:00, 1003.57it/s]\n",
      "100%|██████████| 10/10 [00:00<00:00, 911.61it/s]\n",
      "100%|██████████| 10/10 [00:00<00:00, 912.10it/s]\n",
      "100%|██████████| 10/10 [00:00<00:00, 835.60it/s]\n",
      "100%|██████████| 10/10 [00:00<00:00, 906.58it/s]\n",
      "100%|██████████| 10/10 [00:00<00:00, 913.08it/s]\n",
      "100%|██████████| 10/10 [00:00<00:00, 910.08it/s]\n",
      "100%|██████████| 10/10 [00:00<00:00, 912.28it/s]\n",
      "100%|██████████| 10/10 [00:00<00:00, 835.75it/s]\n",
      "100%|██████████| 10/10 [00:00<00:00, 912.22it/s]\n",
      "100%|██████████| 10/10 [00:00<00:00, 909.67it/s]\n",
      "100%|██████████| 15/15 [00:00<00:00, 842.52it/s]\n",
      "100%|██████████| 15/15 [00:00<00:00, 935.63it/s]\n",
      "100%|██████████| 15/15 [00:00<00:00, 930.40it/s]\n",
      "100%|██████████| 15/15 [00:00<00:00, 938.66it/s]\n",
      "100%|██████████| 15/15 [00:00<00:00, 1002.73it/s]\n",
      "100%|██████████| 15/15 [00:00<00:00, 999.48it/s]\n",
      "100%|██████████| 15/15 [00:00<00:00, 683.62it/s]\n",
      "100%|██████████| 15/15 [00:00<00:00, 791.19it/s]\n",
      "100%|██████████| 15/15 [00:00<00:00, 52.22it/s]\n",
      "100%|██████████| 15/15 [00:00<00:00, 938.41it/s]\n",
      "100%|██████████| 15/15 [00:00<00:00, 813.66it/s]\n",
      "100%|██████████| 15/15 [00:00<00:00, 938.28it/s]\n",
      "100%|██████████| 15/15 [00:00<00:00, 940.01it/s]\n",
      "100%|██████████| 15/15 [00:00<00:00, 884.76it/s]\n",
      "100%|██████████| 15/15 [00:00<00:00, 942.29it/s]\n",
      "100%|██████████| 15/15 [00:00<00:00, 1002.24it/s]\n",
      "100%|██████████| 15/15 [00:00<00:00, 1001.38it/s]\n",
      "100%|██████████| 15/15 [00:00<00:00, 1002.70it/s]\n",
      "100%|██████████| 15/15 [00:00<00:00, 940.05it/s]\n",
      "100%|██████████| 15/15 [00:00<00:00, 831.50it/s]\n",
      "100%|██████████| 15/15 [00:00<00:00, 1002.77it/s]\n",
      "100%|██████████| 15/15 [00:00<00:00, 1002.81it/s]\n",
      "100%|██████████| 15/15 [00:00<00:00, 970.96it/s]\n",
      "100%|██████████| 15/15 [00:00<00:00, 938.27it/s]\n",
      "100%|██████████| 15/15 [00:00<00:00, 1031.88it/s]\n",
      "100%|██████████| 15/15 [00:00<00:00, 820.61it/s]\n",
      "100%|██████████| 15/15 [00:00<00:00, 790.26it/s]\n",
      "100%|██████████| 15/15 [00:00<00:00, 884.74it/s]\n",
      "100%|██████████| 15/15 [00:00<00:00, 940.53it/s]\n",
      "100%|██████████| 15/15 [00:00<00:00, 942.79it/s]\n",
      "100%|██████████| 15/15 [00:00<00:00, 1031.35it/s]\n",
      "100%|██████████| 15/15 [00:00<00:00, 940.03it/s]\n",
      "100%|██████████| 15/15 [00:00<00:00, 939.14it/s]\n",
      "100%|██████████| 15/15 [00:00<00:00, 999.79it/s]\n",
      "100%|██████████| 15/15 [00:00<00:00, 936.45it/s]\n",
      "100%|██████████| 15/15 [00:00<00:00, 935.73it/s]\n",
      "100%|██████████| 15/15 [00:00<00:00, 939.37it/s]\n",
      "100%|██████████| 15/15 [00:00<00:00, 939.92it/s]\n",
      "100%|██████████| 15/15 [00:00<00:00, 940.05it/s]\n",
      "100%|██████████| 15/15 [00:00<00:00, 940.03it/s]\n",
      "100%|██████████| 15/15 [00:00<00:00, 1001.01it/s]\n",
      "100%|██████████| 15/15 [00:00<00:00, 936.09it/s]\n",
      "100%|██████████| 15/15 [00:00<00:00, 936.81it/s]\n",
      "100%|██████████| 15/15 [00:00<00:00, 743.21it/s]\n",
      "100%|██████████| 15/15 [00:00<00:00, 1000.53it/s]\n",
      "100%|██████████| 15/15 [00:00<00:00, 939.79it/s]\n",
      "100%|██████████| 15/15 [00:00<00:00, 939.64it/s]\n",
      "100%|██████████| 15/15 [00:00<00:00, 938.03it/s]\n",
      "100%|██████████| 5/5 [00:00<00:00, 716.19it/s]\n",
      "100%|██████████| 5/5 [00:00<00:00, 832.70it/s]\n",
      "100%|██████████| 5/5 [00:00<00:00, 716.63it/s]\n",
      "100%|██████████| 5/5 [00:00<00:00, 656.76it/s]\n",
      "100%|██████████| 5/5 [00:00<00:00, 716.17it/s]\n",
      "100%|██████████| 5/5 [00:00<00:00, 834.45it/s]\n",
      "100%|██████████| 5/5 [00:00<00:00, 455.78it/s]\n",
      "100%|██████████| 5/5 [00:00<00:00, 455.76it/s]\n",
      "100%|██████████| 5/5 [00:00<00:00, 839.67it/s]\n",
      "100%|██████████| 5/5 [00:00<00:00, 716.04it/s]\n",
      "100%|██████████| 5/5 [00:00<00:00, 704.85it/s]\n",
      "100%|██████████| 5/5 [00:00<00:00, 716.12it/s]\n",
      "100%|██████████| 5/5 [00:00<00:00, 719.19it/s]\n",
      "100%|██████████| 5/5 [00:00<00:00, 716.09it/s]\n",
      "100%|██████████| 5/5 [00:00<00:00, 830.56it/s]\n",
      "100%|██████████| 5/5 [00:00<00:00, 716.09it/s]\n",
      "100%|██████████| 5/5 [00:00<00:00, 725.21it/s]\n",
      "100%|██████████| 5/5 [00:00<00:00, 717.05it/s]\n",
      "100%|██████████| 5/5 [00:00<00:00, 713.27it/s]\n",
      "100%|██████████| 5/5 [00:00<00:00, 831.02it/s]\n",
      "100%|██████████| 5/5 [00:00<00:00, 845.66it/s]\n",
      "100%|██████████| 5/5 [00:00<00:00, 716.09it/s]\n",
      "100%|██████████| 5/5 [00:00<00:00, 835.35it/s]\n",
      "100%|██████████| 5/5 [00:00<00:00, 718.97it/s]\n",
      "100%|██████████| 5/5 [00:00<00:00, 835.65it/s]\n",
      "100%|██████████| 5/5 [00:00<00:00, 717.47it/s]\n",
      "100%|██████████| 5/5 [00:00<00:00, 625.98it/s]\n",
      "100%|██████████| 5/5 [00:00<00:00, 835.12it/s]\n",
      "100%|██████████| 5/5 [00:00<00:00, 830.39it/s]\n",
      "100%|██████████| 5/5 [00:00<00:00, 714.56it/s]\n",
      "100%|██████████| 5/5 [00:00<00:00, 831.74it/s]\n",
      "100%|██████████| 5/5 [00:00<00:00, 830.52it/s]\n",
      "100%|██████████| 5/5 [00:00<00:00, 626.75it/s]\n",
      "100%|██████████| 5/5 [00:00<00:00, 623.87it/s]\n",
      "100%|██████████| 5/5 [00:00<00:00, 834.65it/s]\n",
      "100%|██████████| 5/5 [00:00<00:00, 719.14it/s]\n",
      "100%|██████████| 5/5 [00:00<00:00, 716.29it/s]\n",
      "100%|██████████| 5/5 [00:00<00:00, 713.32it/s]\n",
      "100%|██████████| 5/5 [00:00<00:00, 716.29it/s]\n",
      "100%|██████████| 5/5 [00:00<00:00, 719.04it/s]\n",
      "100%|██████████| 5/5 [00:00<00:00, 717.17it/s]\n",
      "100%|██████████| 5/5 [00:00<00:00, 715.95it/s]\n",
      "100%|██████████| 5/5 [00:00<00:00, 751.88it/s]\n",
      "100%|██████████| 5/5 [00:00<00:00, 713.32it/s]\n",
      "100%|██████████| 5/5 [00:00<00:00, 831.44it/s]\n",
      "100%|██████████| 5/5 [00:00<00:00, 626.76it/s]\n",
      "100%|██████████| 5/5 [00:00<00:00, 716.12it/s]\n",
      "100%|██████████| 5/5 [00:00<00:00, 713.07it/s]\n",
      "100%|██████████| 10/10 [00:00<00:00, 477.46it/s]\n",
      "100%|██████████| 10/10 [00:00<00:00, 793.34it/s]\n",
      "100%|██████████| 10/10 [00:00<00:00, 769.60it/s]\n",
      "100%|██████████| 10/10 [00:00<00:00, 771.69it/s]\n",
      "100%|██████████| 10/10 [00:00<00:00, 833.59it/s]\n",
      "100%|██████████| 10/10 [00:00<00:00, 771.24it/s]\n",
      "100%|██████████| 10/10 [00:00<00:00, 769.12it/s]\n",
      "100%|██████████| 10/10 [00:00<00:00, 767.86it/s]\n",
      "100%|██████████| 10/10 [00:00<00:00, 771.31it/s]\n",
      "100%|██████████| 10/10 [00:00<00:00, 715.28it/s]\n",
      "100%|██████████| 10/10 [00:00<00:00, 716.20it/s]\n",
      "100%|██████████| 10/10 [00:00<00:00, 771.07it/s]\n",
      "100%|██████████| 10/10 [00:00<00:00, 831.43it/s]\n",
      "100%|██████████| 10/10 [00:00<00:00, 769.64it/s]\n",
      "100%|██████████| 10/10 [00:00<00:00, 734.48it/s]\n",
      "100%|██████████| 10/10 [00:00<00:00, 767.89it/s]\n",
      "100%|██████████| 10/10 [00:00<00:00, 771.27it/s]\n",
      "100%|██████████| 10/10 [00:00<00:00, 771.72it/s]\n",
      "100%|██████████| 10/10 [00:00<00:00, 768.40it/s]\n",
      "100%|██████████| 10/10 [00:00<00:00, 718.60it/s]\n",
      "100%|██████████| 10/10 [00:00<00:00, 835.60it/s]\n",
      "100%|██████████| 10/10 [00:00<00:00, 801.79it/s]\n",
      "100%|██████████| 10/10 [00:00<00:00, 835.57it/s]\n",
      "100%|██████████| 10/10 [00:00<00:00, 773.50it/s]\n",
      "100%|██████████| 10/10 [00:00<00:00, 718.10it/s]\n",
      "100%|██████████| 10/10 [00:00<00:00, 773.16it/s]\n",
      "100%|██████████| 10/10 [00:00<00:00, 717.66it/s]\n",
      "100%|██████████| 10/10 [00:00<00:00, 768.40it/s]\n",
      "100%|██████████| 10/10 [00:00<00:00, 716.13it/s]\n",
      "100%|██████████| 10/10 [00:00<00:00, 772.08it/s]\n",
      "100%|██████████| 10/10 [00:00<00:00, 718.13it/s]\n",
      "100%|██████████| 10/10 [00:00<00:00, 773.07it/s]\n",
      "100%|██████████| 10/10 [00:00<00:00, 717.69it/s]\n",
      "100%|██████████| 10/10 [00:00<00:00, 771.31it/s]\n",
      "100%|██████████| 10/10 [00:00<00:00, 836.32it/s]\n",
      "100%|██████████| 10/10 [00:00<00:00, 767.65it/s]\n",
      "100%|██████████| 10/10 [00:00<00:00, 715.56it/s]\n",
      "100%|██████████| 10/10 [00:00<00:00, 835.64it/s]\n",
      "100%|██████████| 10/10 [00:00<00:00, 715.51it/s]\n",
      "100%|██████████| 10/10 [00:00<00:00, 716.23it/s]\n",
      "100%|██████████| 10/10 [00:00<00:00, 773.51it/s]\n",
      "100%|██████████| 10/10 [00:00<00:00, 772.02it/s]\n",
      "100%|██████████| 10/10 [00:00<00:00, 838.09it/s]\n",
      "100%|██████████| 10/10 [00:00<00:00, 837.75it/s]\n",
      "100%|██████████| 10/10 [00:00<00:00, 772.99it/s]\n",
      "100%|██████████| 10/10 [00:00<00:00, 835.59it/s]\n",
      "100%|██████████| 10/10 [00:00<00:00, 771.28it/s]\n",
      "100%|██████████| 10/10 [00:00<00:00, 771.28it/s]\n",
      "100%|██████████| 15/15 [00:00<00:00, 791.57it/s]\n",
      "100%|██████████| 15/15 [00:00<00:00, 714.63it/s]\n",
      "100%|██████████| 15/15 [00:00<00:00, 835.57it/s]\n",
      "100%|██████████| 15/15 [00:00<00:00, 51.02it/s]\n",
      "100%|██████████| 15/15 [00:00<00:00, 792.86it/s]\n",
      "100%|██████████| 15/15 [00:00<00:00, 792.21it/s]\n",
      "100%|██████████| 15/15 [00:00<00:00, 835.44it/s]\n",
      "100%|██████████| 15/15 [00:00<00:00, 835.70it/s]\n",
      "100%|██████████| 15/15 [00:00<00:00, 752.02it/s]\n",
      "100%|██████████| 15/15 [00:00<00:00, 52.14it/s]\n",
      "100%|██████████| 15/15 [00:00<00:00, 684.58it/s]\n",
      "100%|██████████| 15/15 [00:00<00:00, 753.07it/s]\n",
      "100%|██████████| 15/15 [00:00<00:00, 683.76it/s]\n",
      "100%|██████████| 15/15 [00:00<00:00, 792.83it/s]\n",
      "100%|██████████| 15/15 [00:00<00:00, 836.91it/s]\n",
      "100%|██████████| 15/15 [00:00<00:00, 792.76it/s]\n",
      "100%|██████████| 15/15 [00:00<00:00, 752.96it/s]\n",
      "100%|██████████| 15/15 [00:00<00:00, 717.64it/s]\n",
      "100%|██████████| 15/15 [00:00<00:00, 51.57it/s]\n",
      "100%|██████████| 15/15 [00:00<00:00, 835.04it/s]\n",
      "100%|██████████| 15/15 [00:00<00:00, 792.76it/s]\n",
      "100%|██████████| 15/15 [00:00<00:00, 789.86it/s]\n",
      "100%|██████████| 15/15 [00:00<00:00, 791.65it/s]\n",
      "100%|██████████| 15/15 [00:00<00:00, 835.57it/s]\n",
      "100%|██████████| 15/15 [00:00<00:00, 752.08it/s]\n",
      "100%|██████████| 15/15 [00:00<00:00, 835.55it/s]\n",
      "100%|██████████| 15/15 [00:00<00:00, 839.06it/s]\n",
      "100%|██████████| 15/15 [00:00<00:00, 791.59it/s]\n",
      "100%|██████████| 15/15 [00:00<00:00, 793.14it/s]\n",
      "100%|██████████| 15/15 [00:00<00:00, 753.07it/s]\n",
      "100%|██████████| 15/15 [00:00<00:00, 792.80it/s]\n",
      "100%|██████████| 15/15 [00:00<00:00, 790.52it/s]\n",
      "100%|██████████| 15/15 [00:00<00:00, 717.16it/s]\n",
      "100%|██████████| 15/15 [00:00<00:00, 837.32it/s]\n",
      "100%|██████████| 15/15 [00:00<00:00, 835.63it/s]\n",
      "100%|██████████| 15/15 [00:00<00:00, 753.10it/s]\n",
      "100%|██████████| 15/15 [00:00<00:00, 791.62it/s]\n",
      "100%|██████████| 15/15 [00:00<00:00, 884.77it/s]\n",
      "100%|██████████| 15/15 [00:00<00:00, 751.91it/s]\n",
      "100%|██████████| 15/15 [00:00<00:00, 791.02it/s]\n",
      "100%|██████████| 15/15 [00:00<00:00, 751.93it/s]\n",
      "100%|██████████| 15/15 [00:00<00:00, 791.57it/s]\n",
      "100%|██████████| 15/15 [00:00<00:00, 794.79it/s]\n",
      "100%|██████████| 15/15 [00:00<00:00, 790.38it/s]\n",
      "100%|██████████| 15/15 [00:00<00:00, 791.69it/s]\n",
      "100%|██████████| 15/15 [00:00<00:00, 51.89it/s]\n",
      "100%|██████████| 15/15 [00:00<00:00, 792.75it/s]\n",
      "100%|██████████| 15/15 [00:00<00:00, 835.56it/s]\n",
      "100%|██████████| 5/5 [00:00<00:00, 5171.77it/s]\n",
      "100%|██████████| 5/5 [00:00<?, ?it/s]\n",
      "100%|██████████| 5/5 [00:00<00:00, 5156.51it/s]\n",
      "100%|██████████| 5/5 [00:00<00:00, 5156.51it/s]\n",
      "100%|██████████| 5/5 [00:00<?, ?it/s]\n",
      "100%|██████████| 5/5 [00:00<?, ?it/s]\n",
      "100%|██████████| 5/5 [00:00<00:00, 5159.05it/s]\n",
      "100%|██████████| 5/5 [00:00<?, ?it/s]\n",
      "100%|██████████| 5/5 [00:00<00:00, 5161.59it/s]\n",
      "100%|██████████| 5/5 [00:00<?, ?it/s]\n",
      "100%|██████████| 5/5 [00:00<00:00, 5206.43it/s]\n",
      "100%|██████████| 5/5 [00:00<?, ?it/s]\n",
      "100%|██████████| 5/5 [00:00<00:00, 5441.49it/s]\n",
      "100%|██████████| 5/5 [00:00<00:00, 5254.70it/s]\n",
      "100%|██████████| 5/5 [00:00<?, ?it/s]\n",
      "100%|██████████| 5/5 [00:00<?, ?it/s]\n",
      "100%|██████████| 5/5 [00:00<00:00, 5156.51it/s]\n",
      "100%|██████████| 5/5 [00:00<00:00, 5159.05it/s]\n",
      "100%|██████████| 5/5 [00:00<?, ?it/s]\n",
      "100%|██████████| 5/5 [00:00<00:00, 5013.51it/s]\n",
      "100%|██████████| 5/5 [00:00<?, ?it/s]\n",
      "100%|██████████| 5/5 [00:00<?, ?it/s]\n",
      "100%|██████████| 5/5 [00:00<?, ?it/s]\n",
      "100%|██████████| 5/5 [00:00<00:00, 5210.32it/s]\n",
      "100%|██████████| 5/5 [00:00<?, ?it/s]\n",
      "100%|██████████| 5/5 [00:00<?, ?it/s]\n",
      "100%|██████████| 5/5 [00:00<?, ?it/s]\n",
      "100%|██████████| 5/5 [00:00<00:00, 5160.31it/s]\n",
      "100%|██████████| 5/5 [00:00<?, ?it/s]\n",
      "100%|██████████| 5/5 [00:00<00:00, 5015.91it/s]\n",
      "100%|██████████| 5/5 [00:00<?, ?it/s]\n",
      "100%|██████████| 5/5 [00:00<?, ?it/s]\n",
      "100%|██████████| 5/5 [00:00<00:00, 5157.78it/s]\n",
      "100%|██████████| 5/5 [00:00<00:00, 5258.66it/s]\n",
      "100%|██████████| 5/5 [00:00<00:00, 5018.31it/s]\n",
      "100%|██████████| 5/5 [00:00<00:00, 5161.59it/s]\n",
      "100%|██████████| 5/5 [00:00<00:00, 5137.56it/s]\n",
      "100%|██████████| 5/5 [00:00<?, ?it/s]\n",
      "100%|██████████| 5/5 [00:00<?, ?it/s]\n",
      "100%|██████████| 5/5 [00:00<?, ?it/s]\n",
      "100%|██████████| 5/5 [00:00<?, ?it/s]\n",
      "100%|██████████| 5/5 [00:00<00:00, 5159.05it/s]\n",
      "100%|██████████| 5/5 [00:00<?, ?it/s]\n",
      "100%|██████████| 5/5 [00:00<?, ?it/s]\n",
      "100%|██████████| 5/5 [00:00<00:00, 5205.14it/s]\n",
      "100%|██████████| 5/5 [00:00<?, ?it/s]\n",
      "100%|██████████| 5/5 [00:00<?, ?it/s]\n",
      "100%|██████████| 5/5 [00:00<?, ?it/s]\n",
      "100%|██████████| 10/10 [00:00<00:00, 10412.87it/s]\n",
      "100%|██████████| 10/10 [00:00<00:00, 10031.82it/s]\n",
      "100%|██████████| 10/10 [00:00<00:00, 11043.45it/s]\n",
      "100%|██████████| 10/10 [00:00<00:00, 10029.42it/s]\n",
      "100%|██████████| 10/10 [00:00<00:00, 10320.63it/s]\n",
      "100%|██████████| 10/10 [00:00<00:00, 5014.11it/s]\n",
      "100%|██████████| 10/10 [00:00<00:00, 10036.62it/s]\n",
      "100%|██████████| 10/10 [00:00<00:00, 10374.24it/s]\n",
      "100%|██████████| 10/10 [00:00<00:00, 17886.16it/s]\n",
      "100%|██████████| 10/10 [00:00<00:00, 10027.02it/s]\n",
      "100%|██████████| 10/10 [00:00<00:00, 9094.33it/s]\n",
      "100%|██████████| 10/10 [00:00<00:00, 10477.90it/s]\n",
      "100%|██████████| 10/10 [00:00<00:00, 10034.22it/s]\n",
      "100%|██████████| 10/10 [00:00<00:00, 10315.55it/s]\n",
      "100%|██████████| 10/10 [00:00<00:00, 10019.84it/s]\n",
      "100%|██████████| 10/10 [00:00<00:00, 10325.71it/s]\n",
      "100%|██████████| 10/10 [00:00<00:00, 10024.63it/s]\n",
      "100%|██████████| 10/10 [00:00<00:00, 10034.22it/s]\n",
      "100%|██████████| 10/10 [00:00<00:00, 10027.02it/s]\n",
      "100%|██████████| 10/10 [00:00<00:00, 10446.59it/s]\n",
      "100%|██████████| 10/10 [00:00<00:00, 10029.42it/s]\n",
      "100%|██████████| 10/10 [00:00<?, ?it/s]\n",
      "100%|██████████| 10/10 [00:00<00:00, 10315.55it/s]\n",
      "100%|██████████| 10/10 [00:00<00:00, 10315.55it/s]\n",
      "100%|██████████| 10/10 [00:00<00:00, 10024.63it/s]\n",
      "100%|██████████| 10/10 [00:00<00:00, 10036.62it/s]\n",
      "100%|██████████| 10/10 [00:00<00:00, 10036.62it/s]\n",
      "100%|██████████| 10/10 [00:00<00:00, 10315.55it/s]\n",
      "100%|██████████| 10/10 [00:00<00:00, 10443.98it/s]\n",
      "100%|██████████| 10/10 [00:00<00:00, 7476.48it/s]\n",
      "100%|██████████| 10/10 [00:00<00:00, 10626.56it/s]\n",
      "100%|██████████| 10/10 [00:00<00:00, 10527.87it/s]\n",
      "100%|██████████| 10/10 [00:00<00:00, 10252.52it/s]\n",
      "100%|██████████| 10/10 [00:00<00:00, 10782.27it/s]\n",
      "100%|██████████| 10/10 [00:00<00:00, 18534.26it/s]\n",
      "100%|██████████| 10/10 [00:00<00:00, 10410.29it/s]\n",
      "100%|██████████| 10/10 [00:00<?, ?it/s]\n",
      "100%|██████████| 10/10 [00:00<00:00, 10410.29it/s]\n",
      "100%|██████████| 10/10 [00:00<00:00, 10402.54it/s]\n",
      "100%|██████████| 10/10 [00:00<00:00, 10318.09it/s]\n",
      "100%|██████████| 10/10 [00:00<00:00, 10412.87it/s]\n",
      "100%|██████████| 10/10 [00:00<00:00, 10029.42it/s]\n",
      "100%|██████████| 10/10 [00:00<00:00, 10307.95it/s]\n",
      "100%|██████████| 10/10 [00:00<00:00, 10335.89it/s]\n",
      "100%|██████████| 10/10 [00:00<00:00, 10247.51it/s]\n",
      "100%|██████████| 10/10 [00:00<00:00, 8109.64it/s]\n",
      "100%|██████████| 10/10 [00:00<00:00, 9986.44it/s]\n",
      "100%|██████████| 10/10 [00:00<?, ?it/s]\n",
      "100%|██████████| 15/15 [00:00<00:00, 15473.33it/s]\n",
      "100%|██████████| 15/15 [00:00<00:00, 7521.17it/s]\n",
      "100%|██████████| 15/15 [00:00<00:00, 7524.76it/s]\n",
      "100%|██████████| 15/15 [00:00<00:00, 15036.94it/s]\n",
      "100%|██████████| 15/15 [00:00<00:00, 15473.33it/s]\n",
      "100%|██████████| 15/15 [00:00<00:00, 15044.13it/s]\n",
      "100%|██████████| 15/15 [00:00<00:00, 15484.76it/s]\n",
      "100%|██████████| 15/15 [00:00<00:00, 7660.36it/s]\n",
      "100%|██████████| 15/15 [00:00<00:00, 7602.05it/s]\n",
      "100%|██████████| 15/15 [00:00<00:00, 15040.54it/s]\n",
      "100%|██████████| 15/15 [00:00<00:00, 15469.53it/s]\n",
      "100%|██████████| 15/15 [00:00<00:00, 6026.30it/s]\n",
      "100%|██████████| 15/15 [00:00<00:00, 15480.94it/s]\n",
      "100%|██████████| 15/15 [00:00<00:00, 15511.48it/s]\n",
      "100%|██████████| 15/15 [00:00<00:00, 7522.07it/s]\n",
      "100%|██████████| 15/15 [00:00<00:00, 7458.75it/s]\n",
      "100%|██████████| 15/15 [00:00<00:00, 15511.48it/s]\n",
      "100%|██████████| 15/15 [00:00<00:00, 15149.18it/s]\n",
      "100%|██████████| 15/15 [00:00<00:00, 15044.13it/s]\n",
      "100%|██████████| 15/15 [00:00<00:00, 15469.53it/s]\n",
      "100%|██████████| 15/15 [00:00<00:00, 15044.13it/s]\n",
      "100%|██████████| 15/15 [00:00<00:00, 14968.97it/s]\n",
      "100%|██████████| 15/15 [00:00<00:00, 15044.13it/s]\n",
      "100%|██████████| 15/15 [00:00<00:00, 8304.46it/s]\n",
      "100%|██████████| 15/15 [00:00<00:00, 14621.09it/s]\n",
      "100%|██████████| 15/15 [00:00<00:00, 15484.76it/s]\n",
      "100%|██████████| 15/15 [00:00<00:00, 14443.20it/s]\n",
      "100%|██████████| 15/15 [00:00<00:00, 15572.91it/s]\n",
      "100%|██████████| 15/15 [00:00<00:00, 15040.54it/s]\n",
      "100%|██████████| 15/15 [00:00<00:00, 15058.54it/s]\n",
      "100%|██████████| 15/15 [00:00<00:00, 15728.64it/s]\n",
      "100%|██████████| 15/15 [00:00<00:00, 15044.13it/s]\n",
      "100%|██████████| 15/15 [00:00<00:00, 15473.33it/s]\n",
      "100%|██████████| 15/15 [00:00<00:00, 15044.13it/s]\n",
      "100%|██████████| 15/15 [00:00<00:00, 15051.33it/s]\n",
      "100%|██████████| 15/15 [00:00<00:00, 15435.37it/s]\n",
      "100%|██████████| 15/15 [00:00<00:00, 15040.54it/s]\n",
      "100%|██████████| 15/15 [00:00<00:00, 15477.14it/s]\n",
      "100%|██████████| 15/15 [00:00<00:00, 15871.48it/s]\n",
      "100%|██████████| 15/15 [00:00<00:00, 15044.13it/s]\n",
      "100%|██████████| 15/15 [00:00<00:00, 15488.57it/s]\n",
      "100%|██████████| 15/15 [00:00<00:00, 15615.43it/s]\n",
      "100%|██████████| 15/15 [00:00<00:00, 7522.07it/s]\n",
      "100%|██████████| 15/15 [00:00<00:00, 7663.16it/s]\n",
      "100%|██████████| 15/15 [00:00<00:00, 7627.86it/s]\n",
      "100%|██████████| 15/15 [00:00<00:00, 15047.73it/s]\n",
      "100%|██████████| 15/15 [00:00<00:00, 7611.25it/s]\n",
      "100%|██████████| 15/15 [00:00<00:00, 15412.68it/s]\n",
      "100%|██████████| 5/5 [00:00<00:00, 5012.31it/s]\n",
      "100%|██████████| 5/5 [00:00<00:00, 2556.26it/s]\n",
      "100%|██████████| 5/5 [00:00<00:00, 2506.76it/s]\n"
     ]
    },
    {
     "name": "stdout",
     "output_type": "stream",
     "text": [
      "{'max_geracoes': 500, 'capacidade': 5, 'vertices': 290, 'npacotes': 200, 'n_individuos': 5, 'n_caminhoes': 48, 'min_variacao': 0.001, 'strikes': 9}\n"
     ]
    },
    {
     "name": "stderr",
     "output_type": "stream",
     "text": [
      "100%|██████████| 5/5 [00:00<00:00, 5013.51it/s]\n",
      "100%|██████████| 5/5 [00:00<00:00, 4962.50it/s]\n",
      "100%|██████████| 5/5 [00:00<00:00, 2550.04it/s]\n",
      "100%|██████████| 5/5 [00:00<00:00, 3089.95it/s]\n",
      "100%|██████████| 5/5 [00:00<00:00, 5161.59it/s]\n",
      "100%|██████████| 5/5 [00:00<00:00, 5174.32it/s]\n",
      "100%|██████████| 5/5 [00:00<00:00, 5017.11it/s]\n",
      "100%|██████████| 5/5 [00:00<00:00, 5015.91it/s]\n",
      "100%|██████████| 5/5 [00:00<00:00, 5017.11it/s]\n",
      "100%|██████████| 5/5 [00:00<00:00, 2543.24it/s]\n",
      "100%|██████████| 5/5 [00:00<00:00, 1671.84it/s]\n",
      "100%|██████████| 5/5 [00:00<00:00, 2546.32it/s]\n",
      "100%|██████████| 5/5 [00:00<00:00, 1681.22it/s]\n",
      "100%|██████████| 5/5 [00:00<00:00, 2220.85it/s]\n",
      "100%|██████████| 5/5 [00:00<00:00, 5017.11it/s]\n",
      "100%|██████████| 5/5 [00:00<00:00, 2506.16it/s]\n",
      "100%|██████████| 5/5 [00:00<00:00, 2542.62it/s]\n",
      "100%|██████████| 5/5 [00:00<00:00, 2507.06it/s]\n",
      "100%|██████████| 5/5 [00:00<00:00, 2550.04it/s]\n",
      "100%|██████████| 5/5 [00:00<00:00, 5040.02it/s]\n",
      "100%|██████████| 5/5 [00:00<00:00, 2507.36it/s]\n",
      "100%|██████████| 5/5 [00:00<00:00, 5077.85it/s]\n",
      "100%|██████████| 5/5 [00:00<00:00, 2519.40it/s]\n",
      "100%|██████████| 5/5 [00:00<00:00, 2554.39it/s]\n",
      "100%|██████████| 5/5 [00:00<00:00, 1686.76it/s]\n",
      "100%|██████████| 5/5 [00:00<00:00, 2546.63it/s]\n",
      "100%|██████████| 5/5 [00:00<00:00, 1685.81it/s]\n",
      "100%|██████████| 5/5 [00:00<00:00, 2513.37it/s]\n",
      "100%|██████████| 5/5 [00:00<00:00, 2557.19it/s]\n",
      "100%|██████████| 5/5 [00:00<00:00, 5164.13it/s]\n",
      "100%|██████████| 5/5 [00:00<00:00, 2612.95it/s]\n",
      "100%|██████████| 5/5 [00:00<00:00, 2507.06it/s]\n",
      "100%|██████████| 5/5 [00:00<00:00, 5017.11it/s]\n",
      "100%|██████████| 5/5 [00:00<00:00, 5156.51it/s]\n",
      "100%|██████████| 5/5 [00:00<00:00, 2551.28it/s]\n",
      "100%|██████████| 5/5 [00:00<00:00, 1686.90it/s]\n",
      "100%|██████████| 5/5 [00:00<00:00, 2543.85it/s]\n",
      "100%|██████████| 5/5 [00:00<00:00, 3279.87it/s]\n",
      "100%|██████████| 5/5 [00:00<00:00, 5156.51it/s]\n",
      "100%|██████████| 5/5 [00:00<00:00, 2586.52it/s]\n",
      "100%|██████████| 5/5 [00:00<00:00, 2510.06it/s]\n",
      "100%|██████████| 5/5 [00:00<00:00, 5157.78it/s]\n",
      "100%|██████████| 5/5 [00:00<00:00, 5212.91it/s]\n",
      "100%|██████████| 5/5 [00:00<00:00, 2508.56it/s]\n",
      "100%|██████████| 5/5 [00:00<00:00, 5224.59it/s]\n",
      "100%|██████████| 10/10 [00:00<00:00, 2506.46it/s]\n",
      "100%|██████████| 10/10 [00:00<00:00, 2526.23it/s]\n",
      "100%|██████████| 10/10 [00:00<00:00, 3452.10it/s]\n",
      "100%|██████████| 10/10 [00:00<00:00, 3342.87it/s]\n",
      "100%|██████████| 10/10 [00:00<00:00, 2506.91it/s]\n",
      "100%|██████████| 10/10 [00:00<00:00, 3384.69it/s]\n",
      "100%|██████████| 10/10 [00:00<00:00, 3342.34it/s]\n",
      "100%|██████████| 10/10 [00:00<00:00, 5015.91it/s]\n",
      "100%|██████████| 10/10 [00:00<00:00, 5012.91it/s]\n",
      "100%|██████████| 10/10 [00:00<00:00, 2525.47it/s]\n",
      "100%|██████████| 10/10 [00:00<00:00, 2569.41it/s]\n",
      "100%|██████████| 10/10 [00:00<00:00, 2018.04it/s]\n",
      "100%|██████████| 10/10 [00:00<00:00, 3341.81it/s]\n",
      "100%|██████████| 10/10 [00:00<00:00, 3373.80it/s]\n",
      "100%|██████████| 10/10 [00:00<00:00, 3342.87it/s]\n",
      "100%|██████████| 10/10 [00:00<00:00, 3343.67it/s]\n",
      "100%|██████████| 10/10 [00:00<00:00, 3389.34it/s]\n",
      "100%|██████████| 10/10 [00:00<00:00, 3374.34it/s]\n",
      "100%|██████████| 10/10 [00:00<00:00, 3374.34it/s]\n",
      "100%|██████████| 10/10 [00:00<00:00, 3447.56it/s]\n",
      "100%|██████████| 10/10 [00:00<00:00, 3438.24it/s]\n",
      "100%|██████████| 10/10 [00:00<00:00, 2506.76it/s]\n",
      "100%|██████████| 10/10 [00:00<00:00, 3375.15it/s]\n",
      "100%|██████████| 10/10 [00:00<00:00, 3342.61it/s]\n",
      "100%|██████████| 10/10 [00:00<00:00, 3342.61it/s]\n",
      "100%|██████████| 10/10 [00:00<00:00, 3341.81it/s]\n",
      "100%|██████████| 10/10 [00:00<00:00, 3343.41it/s]\n",
      "100%|██████████| 10/10 [00:00<00:00, 3449.26it/s]\n",
      "100%|██████████| 10/10 [00:00<00:00, 3375.15it/s]\n",
      "100%|██████████| 10/10 [00:00<00:00, 3373.80it/s]\n",
      "100%|██████████| 10/10 [00:00<00:00, 3377.60it/s]\n",
      "100%|██████████| 10/10 [00:00<00:00, 3369.46it/s]\n",
      "100%|██████████| 10/10 [00:00<00:00, 5085.85it/s]\n",
      "100%|██████████| 10/10 [00:00<00:00, 5015.31it/s]\n",
      "100%|██████████| 10/10 [00:00<00:00, 5085.85it/s]\n",
      "100%|██████████| 10/10 [00:00<00:00, 3376.51it/s]\n",
      "100%|██████████| 10/10 [00:00<00:00, 3373.80it/s]\n",
      "100%|██████████| 10/10 [00:00<00:00, 3342.34it/s]\n",
      "100%|██████████| 10/10 [00:00<00:00, 3342.61it/s]\n",
      "100%|██████████| 10/10 [00:00<00:00, 3342.87it/s]\n",
      "100%|██████████| 10/10 [00:00<00:00, 3388.24it/s]\n",
      "100%|██████████| 10/10 [00:00<00:00, 3355.71it/s]\n",
      "100%|██████████| 10/10 [00:00<00:00, 3342.87it/s]\n",
      "100%|██████████| 10/10 [00:00<00:00, 2239.35it/s]\n",
      "100%|██████████| 10/10 [00:00<00:00, 5015.91it/s]\n",
      "100%|██████████| 10/10 [00:00<00:00, 3376.24it/s]\n",
      "100%|██████████| 10/10 [00:00<00:00, 3362.71it/s]\n",
      "100%|██████████| 10/10 [00:00<00:00, 3342.07it/s]\n",
      "100%|██████████| 15/15 [00:00<00:00, 3032.61it/s]\n",
      "100%|██████████| 15/15 [00:00<00:00, 3008.68it/s]\n",
      "100%|██████████| 15/15 [00:00<00:00, 3799.19it/s]\n",
      "100%|██████████| 15/15 [00:00<00:00, 3760.58it/s]\n",
      "100%|██████████| 15/15 [00:00<00:00, 3007.96it/s]\n",
      "100%|██████████| 15/15 [00:00<00:00, 3760.58it/s]\n",
      "100%|██████████| 15/15 [00:00<00:00, 3025.47it/s]\n"
     ]
    },
    {
     "name": "stdout",
     "output_type": "stream",
     "text": [
      "{'max_geracoes': 500, 'capacidade': 5, 'vertices': 290, 'npacotes': 200, 'n_individuos': 15, 'n_caminhoes': 48, 'min_variacao': 0.001, 'strikes': 9}\n"
     ]
    },
    {
     "name": "stderr",
     "output_type": "stream",
     "text": [
      "100%|██████████| 15/15 [00:00<00:00, 3760.36it/s]\n",
      "100%|██████████| 15/15 [00:00<00:00, 5014.71it/s]\n",
      "100%|██████████| 15/15 [00:00<00:00, 3813.00it/s]\n"
     ]
    },
    {
     "name": "stdout",
     "output_type": "stream",
     "text": [
      "{'max_geracoes': 500, 'capacidade': 5, 'vertices': 290, 'npacotes': 200, 'n_individuos': 15, 'n_caminhoes': 48, 'min_variacao': 0.001, 'strikes': 6}\n"
     ]
    },
    {
     "name": "stderr",
     "output_type": "stream",
     "text": [
      "100%|██████████| 15/15 [00:00<00:00, 3759.91it/s]\n",
      "100%|██████████| 15/15 [00:00<00:00, 3008.83it/s]\n",
      "100%|██████████| 15/15 [00:00<00:00, 3761.26it/s]\n",
      "100%|██████████| 15/15 [00:00<00:00, 3796.90it/s]\n",
      "100%|██████████| 15/15 [00:00<00:00, 5012.71it/s]\n",
      "100%|██████████| 15/15 [00:00<00:00, 3761.26it/s]\n",
      "100%|██████████| 15/15 [00:00<00:00, 3787.98it/s]\n",
      "100%|██████████| 15/15 [00:00<00:00, 3008.39it/s]\n",
      "100%|██████████| 15/15 [00:00<00:00, 3760.58it/s]\n",
      "100%|██████████| 15/15 [00:00<00:00, 3007.96it/s]\n",
      "100%|██████████| 15/15 [00:00<00:00, 3790.03it/s]\n",
      "100%|██████████| 15/15 [00:00<00:00, 3787.30it/s]\n",
      "100%|██████████| 15/15 [00:00<00:00, 3760.13it/s]\n",
      "100%|██████████| 15/15 [00:00<00:00, 3761.48it/s]\n",
      "100%|██████████| 15/15 [00:00<00:00, 3898.05it/s]\n",
      "100%|██████████| 15/15 [00:00<00:00, 3031.44it/s]\n",
      "100%|██████████| 15/15 [00:00<00:00, 3760.36it/s]\n",
      "100%|██████████| 15/15 [00:00<00:00, 2507.86it/s]\n",
      "100%|██████████| 15/15 [00:00<00:00, 3007.96it/s]\n",
      "100%|██████████| 15/15 [00:00<00:00, 3704.34it/s]\n",
      "100%|██████████| 15/15 [00:00<00:00, 3786.84it/s]\n",
      "100%|██████████| 15/15 [00:00<00:00, 3765.31it/s]\n",
      "100%|██████████| 15/15 [00:00<00:00, 3854.59it/s]\n",
      "100%|██████████| 15/15 [00:00<00:00, 3008.39it/s]\n",
      "100%|██████████| 15/15 [00:00<00:00, 3760.58it/s]\n",
      "100%|██████████| 15/15 [00:00<00:00, 3760.36it/s]\n",
      "100%|██████████| 15/15 [00:00<00:00, 2519.91it/s]\n",
      "100%|██████████| 15/15 [00:00<00:00, 5015.11it/s]\n",
      "100%|██████████| 15/15 [00:00<00:00, 3791.40it/s]\n",
      "100%|██████████| 15/15 [00:00<00:00, 3760.58it/s]\n",
      "100%|██████████| 15/15 [00:00<00:00, 3760.81it/s]\n",
      "100%|██████████| 15/15 [00:00<00:00, 3761.03it/s]\n",
      "100%|██████████| 15/15 [00:00<00:00, 3788.21it/s]\n",
      "100%|██████████| 15/15 [00:00<00:00, 3008.11it/s]\n",
      "100%|██████████| 15/15 [00:00<00:00, 3025.76it/s]\n",
      "100%|██████████| 15/15 [00:00<00:00, 3030.42it/s]\n",
      "100%|██████████| 15/15 [00:00<00:00, 3759.91it/s]\n",
      "100%|██████████| 15/15 [00:00<00:00, 3008.54it/s]\n",
      "100%|██████████| 5/5 [00:00<00:00, 2542.62it/s]\n",
      "100%|██████████| 5/5 [00:00<00:00, 1265.25it/s]\n",
      "100%|██████████| 5/5 [00:00<00:00, 1672.10it/s]\n",
      "100%|██████████| 5/5 [00:00<00:00, 1671.04it/s]\n",
      "100%|██████████| 5/5 [00:00<00:00, 1687.31it/s]\n",
      "100%|██████████| 5/5 [00:00<00:00, 1671.30it/s]\n",
      "100%|██████████| 5/5 [00:00<00:00, 1671.70it/s]\n",
      "100%|██████████| 5/5 [00:00<00:00, 1688.39it/s]\n",
      "100%|██████████| 5/5 [00:00<00:00, 1687.03it/s]\n",
      "100%|██████████| 5/5 [00:00<00:00, 1687.31it/s]\n",
      "100%|██████████| 5/5 [00:00<00:00, 2507.06it/s]\n",
      "100%|██████████| 5/5 [00:00<00:00, 1730.61it/s]\n",
      "100%|██████████| 5/5 [00:00<00:00, 1687.31it/s]\n",
      "100%|██████████| 5/5 [00:00<00:00, 1687.44it/s]\n",
      "100%|██████████| 5/5 [00:00<00:00, 1671.17it/s]\n",
      "100%|██████████| 5/5 [00:00<00:00, 1695.63it/s]\n",
      "100%|██████████| 5/5 [00:00<00:00, 2544.47it/s]\n",
      "100%|██████████| 5/5 [00:00<00:00, 1671.30it/s]\n",
      "100%|██████████| 5/5 [00:00<00:00, 1687.31it/s]\n",
      "100%|██████████| 5/5 [00:00<00:00, 1687.58it/s]\n",
      "100%|██████████| 5/5 [00:00<00:00, 2507.36it/s]\n",
      "100%|██████████| 5/5 [00:00<00:00, 1686.90it/s]\n",
      "100%|██████████| 5/5 [00:00<00:00, 2543.85it/s]\n",
      "100%|██████████| 5/5 [00:00<00:00, 1671.04it/s]\n",
      "100%|██████████| 5/5 [00:00<00:00, 1687.31it/s]\n",
      "100%|██████████| 5/5 [00:00<00:00, 1677.86it/s]\n",
      "100%|██████████| 5/5 [00:00<00:00, 1692.48it/s]\n",
      "100%|██████████| 5/5 [00:00<00:00, 2542.93it/s]\n",
      "100%|██████████| 5/5 [00:00<00:00, 2507.06it/s]\n",
      "100%|██████████| 5/5 [00:00<00:00, 2507.06it/s]\n",
      "100%|██████████| 5/5 [00:00<00:00, 2551.28it/s]\n",
      "100%|██████████| 5/5 [00:00<00:00, 1671.17it/s]\n",
      "100%|██████████| 5/5 [00:00<00:00, 1671.04it/s]\n",
      "100%|██████████| 5/5 [00:00<00:00, 2506.76it/s]\n",
      "100%|██████████| 5/5 [00:00<00:00, 2542.62it/s]\n",
      "100%|██████████| 5/5 [00:00<00:00, 1671.30it/s]\n",
      "100%|██████████| 5/5 [00:00<00:00, 1707.78it/s]\n",
      "100%|██████████| 5/5 [00:00<00:00, 2519.71it/s]\n",
      "100%|██████████| 5/5 [00:00<00:00, 2461.16it/s]\n",
      "100%|██████████| 5/5 [00:00<00:00, 2508.86it/s]\n",
      "100%|██████████| 5/5 [00:00<00:00, 1671.04it/s]\n",
      "100%|██████████| 5/5 [00:00<00:00, 2507.06it/s]\n",
      "100%|██████████| 5/5 [00:00<00:00, 2507.36it/s]\n",
      "100%|██████████| 5/5 [00:00<00:00, 1623.81it/s]\n",
      "100%|██████████| 5/5 [00:00<00:00, 2507.96it/s]\n",
      "100%|██████████| 5/5 [00:00<00:00, 1687.03it/s]\n",
      "100%|██████████| 5/5 [00:00<00:00, 2506.76it/s]\n",
      "100%|██████████| 5/5 [00:00<00:00, 1671.30it/s]\n",
      "100%|██████████| 10/10 [00:00<00:00, 2005.31it/s]\n",
      "100%|██████████| 10/10 [00:00<00:00, 1671.30it/s]\n",
      "100%|██████████| 10/10 [00:00<00:00, 2016.98it/s]\n",
      "100%|██████████| 10/10 [00:00<00:00, 2510.06it/s]\n",
      "100%|██████████| 10/10 [00:00<00:00, 2014.46it/s]\n",
      "100%|██████████| 10/10 [00:00<00:00, 2021.94it/s]\n",
      "100%|██████████| 10/10 [00:00<00:00, 2540.00it/s]\n",
      "100%|██████████| 10/10 [00:00<00:00, 35.43it/s]\n",
      "100%|██████████| 10/10 [00:00<00:00, 2016.78it/s]\n",
      "100%|██████████| 10/10 [00:00<00:00, 2218.86it/s]\n",
      "100%|██████████| 10/10 [00:00<00:00, 2442.38it/s]\n",
      "100%|██████████| 10/10 [00:00<00:00, 2016.78it/s]\n",
      "100%|██████████| 10/10 [00:00<00:00, 2527.60it/s]\n",
      "100%|██████████| 10/10 [00:00<00:00, 2005.60it/s]\n",
      "100%|██████████| 10/10 [00:00<00:00, 2018.14it/s]\n",
      "100%|██████████| 10/10 [00:00<00:00, 2019.21it/s]\n",
      "100%|██████████| 10/10 [00:00<00:00, 2032.81it/s]\n",
      "100%|██████████| 10/10 [00:00<00:00, 1679.27it/s]\n",
      "100%|██████████| 10/10 [00:00<00:00, 1821.23it/s]\n",
      "100%|██████████| 10/10 [00:00<00:00, 2509.76it/s]\n",
      "100%|██████████| 10/10 [00:00<00:00, 1671.37it/s]\n",
      "100%|██████████| 10/10 [00:00<00:00, 2005.69it/s]\n",
      "100%|██████████| 10/10 [00:00<00:00, 2506.76it/s]\n",
      "100%|██████████| 10/10 [00:00<00:00, 2004.35it/s]\n",
      "100%|██████████| 10/10 [00:00<00:00, 2005.31it/s]\n",
      "100%|██████████| 10/10 [00:00<00:00, 2020.38it/s]\n",
      "100%|██████████| 10/10 [00:00<00:00, 2018.92it/s]\n",
      "100%|██████████| 10/10 [00:00<00:00, 2005.40it/s]\n",
      "100%|██████████| 10/10 [00:00<00:00, 2018.14it/s]\n",
      "100%|██████████| 10/10 [00:00<00:00, 2017.95it/s]\n",
      "100%|██████████| 10/10 [00:00<00:00, 1680.41it/s]\n",
      "100%|██████████| 10/10 [00:00<00:00, 2014.94it/s]\n",
      "100%|██████████| 10/10 [00:00<00:00, 2020.86it/s]\n",
      "100%|██████████| 10/10 [00:00<00:00, 2005.60it/s]\n",
      "100%|██████████| 10/10 [00:00<00:00, 2005.79it/s]\n",
      "100%|██████████| 10/10 [00:00<00:00, 2012.82it/s]\n",
      "100%|██████████| 10/10 [00:00<00:00, 2016.88it/s]\n",
      "100%|██████████| 10/10 [00:00<00:00, 2526.23it/s]\n",
      "100%|██████████| 10/10 [00:00<00:00, 2489.35it/s]\n",
      "100%|██████████| 10/10 [00:00<00:00, 2524.56it/s]\n",
      "100%|██████████| 10/10 [00:00<00:00, 2017.46it/s]\n",
      "100%|██████████| 10/10 [00:00<00:00, 1394.89it/s]\n",
      "100%|██████████| 10/10 [00:00<00:00, 2005.40it/s]\n",
      "100%|██████████| 10/10 [00:00<00:00, 1697.00it/s]\n",
      "100%|██████████| 10/10 [00:00<00:00, 2005.60it/s]\n",
      "100%|██████████| 10/10 [00:00<00:00, 2019.40it/s]\n",
      "100%|██████████| 10/10 [00:00<00:00, 2016.78it/s]\n",
      "100%|██████████| 10/10 [00:00<00:00, 2528.06it/s]\n",
      "100%|██████████| 15/15 [00:00<00:00, 2148.65it/s]\n",
      "100%|██████████| 15/15 [00:00<00:00, 2181.13it/s]\n",
      "100%|██████████| 15/15 [00:00<00:00, 1889.16it/s]\n",
      "100%|██████████| 15/15 [00:00<00:00, 2494.14it/s]\n",
      "100%|██████████| 15/15 [00:00<00:00, 2207.61it/s]\n",
      "100%|██████████| 15/15 [00:00<00:00, 1886.83it/s]\n",
      "100%|██████████| 15/15 [00:00<00:00, 2149.16it/s]\n",
      "100%|██████████| 15/15 [00:00<00:00, 1881.36it/s]\n",
      "100%|██████████| 15/15 [00:00<00:00, 2148.87it/s]\n",
      "100%|██████████| 15/15 [00:00<00:00, 1889.16it/s]\n",
      "100%|██████████| 15/15 [00:00<00:00, 1880.18it/s]\n",
      "100%|██████████| 15/15 [00:00<00:00, 2157.64it/s]\n",
      "100%|██████████| 15/15 [00:00<00:00, 1880.29it/s]\n",
      "100%|██████████| 15/15 [00:00<00:00, 1880.29it/s]\n",
      "100%|██████████| 15/15 [00:00<00:00, 1890.97it/s]\n",
      "100%|██████████| 15/15 [00:00<00:00, 2157.27it/s]\n",
      "100%|██████████| 15/15 [00:00<00:00, 2148.94it/s]\n",
      "100%|██████████| 15/15 [00:00<00:00, 1767.51it/s]\n",
      "100%|██████████| 15/15 [00:00<00:00, 1881.64it/s]\n",
      "100%|██████████| 15/15 [00:00<00:00, 2506.96it/s]\n",
      "100%|██████████| 15/15 [00:00<00:00, 2506.86it/s]\n",
      "100%|██████████| 15/15 [00:00<00:00, 2149.82it/s]\n",
      "100%|██████████| 15/15 [00:00<00:00, 2141.63it/s]\n",
      "100%|██████████| 15/15 [00:00<00:00, 1887.12it/s]\n",
      "100%|██████████| 15/15 [00:00<00:00, 2148.65it/s]\n",
      "100%|██████████| 15/15 [00:00<00:00, 2507.26it/s]\n",
      "100%|██████████| 15/15 [00:00<00:00, 2148.65it/s]\n",
      "100%|██████████| 15/15 [00:00<00:00, 1880.07it/s]\n",
      "100%|██████████| 15/15 [00:00<00:00, 2148.87it/s]\n",
      "100%|██████████| 15/15 [00:00<00:00, 1886.72it/s]\n",
      "100%|██████████| 15/15 [00:00<00:00, 2148.65it/s]\n",
      "100%|██████████| 15/15 [00:00<00:00, 1888.99it/s]\n",
      "100%|██████████| 15/15 [00:00<00:00, 2157.42it/s]\n",
      "100%|██████████| 15/15 [00:00<00:00, 1887.00it/s]\n",
      "100%|██████████| 15/15 [00:00<00:00, 2157.71it/s]\n",
      "100%|██████████| 15/15 [00:00<00:00, 1886.83it/s]\n",
      "100%|██████████| 15/15 [00:00<00:00, 1885.36it/s]\n",
      "100%|██████████| 15/15 [00:00<00:00, 1886.83it/s]\n",
      "100%|██████████| 15/15 [00:00<00:00, 1776.04it/s]\n",
      "100%|██████████| 15/15 [00:00<00:00, 1677.81it/s]\n",
      "100%|██████████| 15/15 [00:00<00:00, 1880.40it/s]\n",
      "100%|██████████| 15/15 [00:00<00:00, 1887.23it/s]\n",
      "100%|██████████| 15/15 [00:00<00:00, 2132.26it/s]\n",
      "100%|██████████| 15/15 [00:00<00:00, 2158.01it/s]\n",
      "100%|██████████| 15/15 [00:00<00:00, 1882.32it/s]\n",
      "100%|██████████| 15/15 [00:00<00:00, 2157.27it/s]\n",
      "100%|██████████| 15/15 [00:00<00:00, 2148.87it/s]\n",
      "100%|██████████| 15/15 [00:00<00:00, 2148.57it/s]\n",
      "100%|██████████| 5/5 [00:00<00:00, 1001.70it/s]\n",
      "100%|██████████| 5/5 [00:00<00:00, 1008.44it/s]\n",
      "100%|██████████| 5/5 [00:00<00:00, 1671.04it/s]\n",
      "100%|██████████| 5/5 [00:00<00:00, 841.89it/s]\n",
      "100%|██████████| 5/5 [00:00<00:00, 1019.17it/s]\n",
      "100%|██████████| 5/5 [00:00<00:00, 1262.43it/s]\n",
      "100%|██████████| 5/5 [00:00<00:00, 1002.70it/s]\n"
     ]
    },
    {
     "name": "stdout",
     "output_type": "stream",
     "text": [
      "{'max_geracoes': 500, 'capacidade': 5, 'vertices': 290, 'npacotes': 500, 'n_individuos': 5, 'n_caminhoes': 120, 'min_variacao': 0.001, 'strikes': 9}\n"
     ]
    },
    {
     "name": "stderr",
     "output_type": "stream",
     "text": [
      "100%|██████████| 5/5 [00:00<00:00, 1690.43it/s]\n",
      "100%|██████████| 5/5 [00:00<00:00, 1259.10it/s]\n",
      "100%|██████████| 5/5 [00:00<00:00, 1262.89it/s]\n",
      "100%|██████████| 5/5 [00:00<00:00, 1417.47it/s]\n",
      "100%|██████████| 5/5 [00:00<00:00, 1264.79it/s]\n",
      "100%|██████████| 5/5 [00:00<00:00, 1671.57it/s]\n",
      "100%|██████████| 5/5 [00:00<00:00, 1683.78it/s]\n",
      "100%|██████████| 5/5 [00:00<00:00, 1253.30it/s]\n",
      "100%|██████████| 5/5 [00:00<00:00, 1754.06it/s]\n",
      "100%|██████████| 5/5 [00:00<00:00, 1253.75it/s]\n",
      "100%|██████████| 5/5 [00:00<00:00, 1427.61it/s]\n",
      "100%|██████████| 5/5 [00:00<00:00, 1262.20it/s]\n",
      "100%|██████████| 5/5 [00:00<00:00, 1262.43it/s]\n",
      "100%|██████████| 5/5 [00:00<00:00, 1671.17it/s]\n",
      "100%|██████████| 5/5 [00:00<00:00, 1671.17it/s]\n",
      "100%|██████████| 5/5 [00:00<00:00, 1671.30it/s]\n",
      "100%|██████████| 5/5 [00:00<00:00, 1690.57it/s]\n",
      "100%|██████████| 5/5 [00:00<00:00, 1253.30it/s]\n",
      "100%|██████████| 5/5 [00:00<00:00, 1671.84it/s]\n",
      "100%|██████████| 5/5 [00:00<00:00, 1253.30it/s]\n",
      "100%|██████████| 5/5 [00:00<00:00, 1265.10it/s]\n",
      "100%|██████████| 5/5 [00:00<00:00, 1262.51it/s]\n",
      "100%|██████████| 5/5 [00:00<00:00, 1687.17it/s]\n",
      "100%|██████████| 5/5 [00:00<00:00, 1262.96it/s]\n",
      "100%|██████████| 5/5 [00:00<00:00, 1671.57it/s]\n",
      "100%|██████████| 5/5 [00:00<00:00, 1008.73it/s]\n",
      "100%|██████████| 5/5 [00:00<00:00, 1261.82it/s]\n",
      "100%|██████████| 5/5 [00:00<00:00, 1671.30it/s]\n",
      "100%|██████████| 5/5 [00:00<00:00, 1110.49it/s]\n",
      "100%|██████████| 5/5 [00:00<00:00, 1672.50it/s]\n",
      "100%|██████████| 5/5 [00:00<00:00, 1671.57it/s]\n",
      "100%|██████████| 5/5 [00:00<00:00, 1671.17it/s]\n",
      "100%|██████████| 5/5 [00:00<00:00, 1253.08it/s]\n",
      "100%|██████████| 5/5 [00:00<00:00, 1253.53it/s]\n",
      "100%|██████████| 5/5 [00:00<00:00, 1002.70it/s]\n",
      "100%|██████████| 5/5 [00:00<00:00, 1263.34it/s]\n",
      "100%|██████████| 5/5 [00:00<00:00, 1253.30it/s]\n",
      "100%|██████████| 5/5 [00:00<00:00, 1008.44it/s]\n",
      "100%|██████████| 5/5 [00:00<00:00, 1257.21it/s]\n",
      "100%|██████████| 5/5 [00:00<00:00, 1271.31it/s]\n",
      "100%|██████████| 5/5 [00:00<00:00, 1253.53it/s]\n",
      "100%|██████████| 10/10 [00:00<00:00, 1671.24it/s]\n",
      "100%|██████████| 10/10 [00:00<00:00, 1265.02it/s]\n",
      "100%|██████████| 10/10 [00:00<00:00, 1432.38it/s]\n",
      "100%|██████████| 10/10 [00:00<00:00, 1671.24it/s]\n",
      "100%|██████████| 10/10 [00:00<00:00, 1382.02it/s]\n",
      "100%|██████████| 10/10 [00:00<00:00, 1432.38it/s]\n",
      "100%|██████████| 10/10 [00:00<00:00, 1432.82it/s]\n",
      "100%|██████████| 10/10 [00:00<00:00, 1432.38it/s]\n",
      "100%|██████████| 10/10 [00:00<00:00, 1438.18it/s]\n",
      "100%|██████████| 10/10 [00:00<00:00, 1671.17it/s]\n",
      "100%|██████████| 10/10 [00:00<00:00, 1437.64it/s]\n",
      "100%|██████████| 10/10 [00:00<00:00, 1440.05it/s]\n",
      "100%|██████████| 10/10 [00:00<00:00, 1335.81it/s]\n",
      "100%|██████████| 10/10 [00:00<00:00, 1432.53it/s]\n",
      "100%|██████████| 10/10 [00:00<00:00, 1409.28it/s]\n",
      "100%|██████████| 10/10 [00:00<00:00, 1444.17it/s]\n",
      "100%|██████████| 10/10 [00:00<00:00, 1439.17it/s]\n",
      "100%|██████████| 10/10 [00:00<00:00, 1257.66it/s]\n",
      "100%|██████████| 10/10 [00:00<00:00, 1426.73it/s]\n",
      "100%|██████████| 10/10 [00:00<00:00, 1671.57it/s]\n",
      "100%|██████████| 10/10 [00:00<00:00, 1432.63it/s]\n",
      "100%|██████████| 10/10 [00:00<00:00, 1435.52it/s]\n",
      "100%|██████████| 10/10 [00:00<00:00, 1671.30it/s]\n",
      "100%|██████████| 10/10 [00:00<00:00, 1259.29it/s]\n",
      "100%|██████████| 10/10 [00:00<00:00, 1432.43it/s]\n",
      "100%|██████████| 10/10 [00:00<00:00, 1440.25it/s]\n",
      "100%|██████████| 10/10 [00:00<00:00, 1255.10it/s]\n",
      "100%|██████████| 10/10 [00:00<00:00, 1432.38it/s]\n",
      "100%|██████████| 10/10 [00:00<00:00, 1253.49it/s]\n",
      "100%|██████████| 10/10 [00:00<00:00, 1671.30it/s]\n",
      "100%|██████████| 10/10 [00:00<00:00, 1432.53it/s]\n",
      "100%|██████████| 10/10 [00:00<00:00, 1446.21it/s]\n",
      "100%|██████████| 10/10 [00:00<00:00, 1259.13it/s]\n",
      "100%|██████████| 10/10 [00:00<00:00, 1257.02it/s]\n",
      "100%|██████████| 10/10 [00:00<00:00, 1438.23it/s]\n",
      "100%|██████████| 10/10 [00:00<00:00, 1432.33it/s]\n",
      "100%|██████████| 10/10 [00:00<00:00, 1438.28it/s]\n",
      "100%|██████████| 10/10 [00:00<00:00, 1432.38it/s]\n",
      "100%|██████████| 10/10 [00:00<00:00, 1432.33it/s]\n",
      "100%|██████████| 10/10 [00:00<00:00, 1446.11it/s]\n",
      "100%|██████████| 10/10 [00:00<00:00, 1257.81it/s]\n",
      "100%|██████████| 10/10 [00:00<00:00, 1679.06it/s]\n",
      "100%|██████████| 10/10 [00:00<00:00, 1682.84it/s]\n",
      "100%|██████████| 10/10 [00:00<00:00, 1432.58it/s]\n",
      "100%|██████████| 10/10 [00:00<00:00, 1257.85it/s]\n",
      "100%|██████████| 10/10 [00:00<00:00, 1432.43it/s]\n",
      "100%|██████████| 10/10 [00:00<00:00, 1257.85it/s]\n",
      "100%|██████████| 10/10 [00:00<00:00, 1671.30it/s]\n",
      "100%|██████████| 15/15 [00:00<00:00, 1504.05it/s]\n",
      "100%|██████████| 15/15 [00:00<00:00, 1504.05it/s]\n",
      "100%|██████████| 15/15 [00:00<00:00, 1508.31it/s]\n",
      "100%|██████████| 15/15 [00:00<00:00, 1367.29it/s]\n",
      "100%|██████████| 15/15 [00:00<00:00, 1370.96it/s]\n",
      "100%|██████████| 15/15 [00:00<00:00, 1509.58it/s]\n",
      "100%|██████████| 15/15 [00:00<00:00, 1509.65it/s]\n",
      "100%|██████████| 15/15 [00:00<00:00, 1497.43it/s]\n",
      "100%|██████████| 15/15 [00:00<00:00, 1507.01it/s]\n",
      "100%|██████████| 15/15 [00:00<00:00, 1367.35it/s]\n",
      "100%|██████████| 15/15 [00:00<00:00, 1671.22it/s]\n",
      "100%|██████████| 15/15 [00:00<00:00, 1504.09it/s]\n",
      "100%|██████████| 15/15 [00:00<00:00, 1370.81it/s]\n",
      "100%|██████████| 15/15 [00:00<00:00, 1370.96it/s]\n",
      "100%|██████████| 15/15 [00:00<00:00, 1367.41it/s]\n",
      "100%|██████████| 15/15 [00:00<00:00, 1671.22it/s]\n",
      "100%|██████████| 15/15 [00:00<00:00, 1368.18it/s]\n",
      "100%|██████████| 15/15 [00:00<00:00, 1504.13it/s]\n",
      "100%|██████████| 15/15 [00:00<00:00, 1504.09it/s]\n",
      "100%|██████████| 15/15 [00:00<00:00, 1367.17it/s]\n",
      "100%|██████████| 15/15 [00:00<00:00, 1508.34it/s]\n",
      "100%|██████████| 15/15 [00:00<00:00, 1367.32it/s]\n",
      "100%|██████████| 15/15 [00:00<00:00, 1496.97it/s]\n",
      "100%|██████████| 15/15 [00:00<00:00, 1671.08it/s]\n",
      "100%|██████████| 15/15 [00:00<00:00, 1456.83it/s]\n",
      "100%|██████████| 15/15 [00:00<00:00, 1504.05it/s]\n",
      "100%|██████████| 15/15 [00:00<00:00, 1370.84it/s]\n",
      "100%|██████████| 15/15 [00:00<00:00, 1504.13it/s]\n",
      "100%|██████████| 15/15 [00:00<00:00, 1500.47it/s]\n",
      "100%|██████████| 15/15 [00:00<00:00, 1504.13it/s]\n",
      "100%|██████████| 15/15 [00:00<00:00, 1514.48it/s]\n",
      "100%|██████████| 15/15 [00:00<00:00, 1509.61it/s]\n",
      "100%|██████████| 15/15 [00:00<00:00, 1370.99it/s]\n",
      "100%|██████████| 15/15 [00:00<00:00, 1370.87it/s]\n",
      "100%|██████████| 15/15 [00:00<00:00, 1504.02it/s]\n",
      "100%|██████████| 15/15 [00:00<00:00, 1504.20it/s]\n",
      "100%|██████████| 15/15 [00:00<00:00, 1363.38it/s]\n",
      "100%|██████████| 15/15 [00:00<00:00, 1370.78it/s]\n",
      "100%|██████████| 15/15 [00:00<00:00, 1582.24it/s]\n",
      "100%|██████████| 15/15 [00:00<00:00, 1370.84it/s]\n",
      "100%|██████████| 15/15 [00:00<00:00, 1367.47it/s]\n",
      "100%|██████████| 15/15 [00:00<00:00, 1509.68it/s]\n",
      "100%|██████████| 15/15 [00:00<00:00, 1504.13it/s]\n",
      "100%|██████████| 15/15 [00:00<00:00, 1514.77it/s]\n",
      "100%|██████████| 15/15 [00:00<00:00, 1504.02it/s]\n",
      "100%|██████████| 15/15 [00:00<00:00, 1504.16it/s]\n",
      "100%|██████████| 15/15 [00:00<00:00, 1677.99it/s]\n",
      "100%|██████████| 15/15 [00:00<00:00, 1497.82it/s]\n",
      "100%|██████████| 5/5 [00:00<00:00, 1253.30it/s]\n",
      "100%|██████████| 5/5 [00:00<00:00, 1262.58it/s]\n",
      "100%|██████████| 5/5 [00:00<00:00, 1008.34it/s]\n",
      "100%|██████████| 5/5 [00:00<00:00, 1057.14it/s]\n",
      "100%|██████████| 5/5 [00:00<00:00, 1002.89it/s]\n",
      "100%|██████████| 5/5 [00:00<00:00, 837.96it/s]\n",
      "100%|██████████| 5/5 [00:00<00:00, 1119.91it/s]\n",
      "100%|██████████| 5/5 [00:00<00:00, 1008.34it/s]\n",
      "100%|██████████| 5/5 [00:00<00:00, 1244.16it/s]\n",
      "100%|██████████| 5/5 [00:00<00:00, 1007.91it/s]\n",
      "100%|██████████| 5/5 [00:00<00:00, 1002.75it/s]\n",
      "100%|██████████| 5/5 [00:00<00:00, 1112.43it/s]\n",
      "100%|██████████| 5/5 [00:00<00:00, 835.69it/s]\n",
      "100%|██████████| 5/5 [00:00<00:00, 1008.49it/s]\n",
      "100%|██████████| 5/5 [00:00<00:00, 839.63it/s]\n",
      "100%|██████████| 5/5 [00:00<00:00, 1259.10it/s]\n",
      "100%|██████████| 5/5 [00:00<00:00, 1010.24it/s]\n",
      "100%|██████████| 5/5 [00:00<00:00, 845.15it/s]\n",
      "100%|██████████| 5/5 [00:00<00:00, 839.67it/s]\n",
      "100%|██████████| 5/5 [00:00<00:00, 1007.13it/s]\n",
      "100%|██████████| 5/5 [00:00<00:00, 1259.85it/s]\n",
      "100%|██████████| 5/5 [00:00<00:00, 835.62it/s]\n",
      "100%|██████████| 5/5 [00:00<00:00, 1002.61it/s]\n",
      "100%|██████████| 5/5 [00:00<00:00, 1254.35it/s]\n",
      "100%|██████████| 5/5 [00:00<00:00, 1008.59it/s]\n",
      "100%|██████████| 5/5 [00:00<00:00, 1015.91it/s]\n",
      "100%|██████████| 5/5 [00:00<00:00, 995.37it/s]\n",
      "100%|██████████| 5/5 [00:00<00:00, 844.57it/s]\n",
      "100%|██████████| 5/5 [00:00<00:00, 839.47it/s]\n",
      "100%|██████████| 5/5 [00:00<00:00, 1008.49it/s]\n",
      "100%|██████████| 5/5 [00:00<00:00, 1002.99it/s]\n",
      "100%|██████████| 5/5 [00:00<00:00, 1011.60it/s]\n",
      "100%|██████████| 5/5 [00:00<00:00, 1245.78it/s]\n",
      "100%|██████████| 5/5 [00:00<00:00, 835.89it/s]\n",
      "100%|██████████| 5/5 [00:00<00:00, 1262.74it/s]\n",
      "100%|██████████| 5/5 [00:00<00:00, 1253.53it/s]\n",
      "100%|██████████| 5/5 [00:00<00:00, 1010.24it/s]\n",
      "100%|██████████| 5/5 [00:00<00:00, 1253.68it/s]\n",
      "100%|██████████| 5/5 [00:00<00:00, 1253.30it/s]\n",
      "100%|██████████| 5/5 [00:00<00:00, 1010.33it/s]\n",
      "100%|██████████| 5/5 [00:00<00:00, 1003.47it/s]\n",
      "100%|██████████| 5/5 [00:00<00:00, 1002.70it/s]\n",
      "100%|██████████| 5/5 [00:00<00:00, 1008.54it/s]\n",
      "100%|██████████| 5/5 [00:00<00:00, 1253.30it/s]\n",
      "100%|██████████| 5/5 [00:00<00:00, 1002.65it/s]\n",
      "100%|██████████| 5/5 [00:00<00:00, 1008.54it/s]\n",
      "100%|██████████| 5/5 [00:00<00:00, 1253.45it/s]\n",
      "100%|██████████| 5/5 [00:00<00:00, 1002.70it/s]\n",
      "100%|██████████| 10/10 [00:00<00:00, 1233.47it/s]\n",
      "100%|██████████| 10/10 [00:00<00:00, 1114.05it/s]\n",
      "100%|██████████| 10/10 [00:00<00:00, 1114.17it/s]\n",
      "100%|██████████| 10/10 [00:00<00:00, 35.37it/s]\n",
      "100%|██████████| 10/10 [00:00<00:00, 1253.42it/s]\n",
      "100%|██████████| 10/10 [00:00<00:00, 1002.75it/s]\n",
      "100%|██████████| 10/10 [00:00<00:00, 1117.65it/s]\n",
      "100%|██████████| 10/10 [00:00<00:00, 716.24it/s]\n",
      "100%|██████████| 10/10 [00:00<00:00, 1003.66it/s]\n",
      "100%|██████████| 10/10 [00:00<00:00, 1058.05it/s]\n",
      "100%|██████████| 10/10 [00:00<00:00, 911.77it/s]\n",
      "100%|██████████| 10/10 [00:00<00:00, 1005.54it/s]\n",
      "100%|██████████| 10/10 [00:00<00:00, 1114.08it/s]\n",
      "100%|██████████| 10/10 [00:00<00:00, 1118.78it/s]\n",
      "100%|██████████| 10/10 [00:00<00:00, 1114.53it/s]\n",
      "100%|██████████| 10/10 [00:00<00:00, 1118.72it/s]\n",
      "100%|██████████| 10/10 [00:00<00:00, 1114.17it/s]\n",
      "100%|██████████| 10/10 [00:00<00:00, 1114.05it/s]\n",
      "100%|██████████| 10/10 [00:00<00:00, 1183.96it/s]\n",
      "100%|██████████| 10/10 [00:00<00:00, 1117.29it/s]\n",
      "100%|██████████| 10/10 [00:00<00:00, 1005.68it/s]\n",
      "100%|██████████| 10/10 [00:00<00:00, 765.65it/s]\n",
      "100%|██████████| 10/10 [00:00<00:00, 1002.85it/s]\n",
      "100%|██████████| 10/10 [00:00<00:00, 911.55it/s]\n",
      "100%|██████████| 10/10 [00:00<00:00, 1114.08it/s]\n",
      "100%|██████████| 10/10 [00:00<00:00, 1110.66it/s]\n",
      "100%|██████████| 10/10 [00:00<00:00, 1005.68it/s]\n",
      "100%|██████████| 10/10 [00:00<00:00, 1114.23it/s]\n",
      "100%|██████████| 10/10 [00:00<00:00, 1002.77it/s]\n",
      "100%|██████████| 10/10 [00:00<00:00, 1115.71it/s]\n",
      "100%|██████████| 10/10 [00:00<00:00, 1110.25it/s]\n",
      "100%|██████████| 10/10 [00:00<00:00, 1111.57it/s]\n",
      "100%|██████████| 10/10 [00:00<00:00, 912.34it/s]\n",
      "100%|██████████| 10/10 [00:00<00:00, 1002.63it/s]\n",
      "100%|██████████| 10/10 [00:00<00:00, 1006.41it/s]\n",
      "100%|██████████| 10/10 [00:00<00:00, 1004.65it/s]\n",
      "100%|██████████| 10/10 [00:00<00:00, 911.51it/s]\n",
      "100%|██████████| 10/10 [00:00<00:00, 1006.07it/s]\n",
      "100%|██████████| 10/10 [00:00<00:00, 1114.11it/s]\n",
      "100%|██████████| 10/10 [00:00<00:00, 1002.85it/s]\n",
      "100%|██████████| 10/10 [00:00<00:00, 911.55it/s]\n",
      "100%|██████████| 10/10 [00:00<00:00, 1110.60it/s]\n",
      "100%|██████████| 10/10 [00:00<00:00, 1002.63it/s]\n",
      "100%|██████████| 10/10 [00:00<00:00, 1114.17it/s]\n",
      "100%|██████████| 10/10 [00:00<00:00, 906.27it/s]\n",
      "100%|██████████| 10/10 [00:00<00:00, 1114.71it/s]\n",
      "100%|██████████| 10/10 [00:00<00:00, 1252.82it/s]\n",
      "100%|██████████| 10/10 [00:00<00:00, 1005.39it/s]\n",
      "100%|██████████| 15/15 [00:00<00:00, 1073.98it/s]\n",
      "100%|██████████| 15/15 [00:00<00:00, 1076.55it/s]\n",
      "100%|██████████| 15/15 [00:00<00:00, 1157.79it/s]\n",
      "100%|██████████| 15/15 [00:00<00:00, 1077.16it/s]\n"
     ]
    },
    {
     "name": "stdout",
     "output_type": "stream",
     "text": [
      "{'max_geracoes': 500, 'capacidade': 5, 'vertices': 290, 'npacotes': 650, 'n_individuos': 15, 'n_caminhoes': 156, 'min_variacao': 0.001, 'strikes': 12}\n"
     ]
    },
    {
     "name": "stderr",
     "output_type": "stream",
     "text": [
      "100%|██████████| 15/15 [00:00<00:00, 1003.47it/s]\n"
     ]
    },
    {
     "name": "stdout",
     "output_type": "stream",
     "text": [
      "{'max_geracoes': 500, 'capacidade': 5, 'vertices': 290, 'npacotes': 650, 'n_individuos': 15, 'n_caminhoes': 156, 'min_variacao': 0.001, 'strikes': 3}\n"
     ]
    },
    {
     "name": "stderr",
     "output_type": "stream",
     "text": [
      "100%|██████████| 15/15 [00:00<00:00, 1074.31it/s]\n",
      "100%|██████████| 15/15 [00:00<00:00, 1156.99it/s]\n",
      "100%|██████████| 15/15 [00:00<00:00, 1159.25it/s]\n",
      "100%|██████████| 15/15 [00:00<00:00, 1156.92it/s]\n",
      "100%|██████████| 15/15 [00:00<00:00, 1074.86it/s]\n",
      "100%|██████████| 15/15 [00:00<00:00, 1156.90it/s]\n",
      "100%|██████████| 15/15 [00:00<00:00, 1157.39it/s]\n",
      "100%|██████████| 15/15 [00:00<00:00, 1075.11it/s]\n",
      "100%|██████████| 15/15 [00:00<00:00, 1079.84it/s]\n",
      "100%|██████████| 15/15 [00:00<00:00, 1075.63it/s]\n",
      "100%|██████████| 15/15 [00:00<00:00, 1076.46it/s]\n",
      "100%|██████████| 15/15 [00:00<00:00, 1074.29it/s]\n",
      "100%|██████████| 15/15 [00:00<00:00, 1001.03it/s]\n",
      "100%|██████████| 15/15 [00:00<00:00, 1160.27it/s]\n",
      "100%|██████████| 15/15 [00:00<00:00, 1076.47it/s]\n",
      "100%|██████████| 15/15 [00:00<00:00, 1074.31it/s]\n",
      "100%|██████████| 15/15 [00:00<00:00, 1154.16it/s]\n",
      "100%|██████████| 15/15 [00:00<00:00, 1157.03it/s]\n",
      "100%|██████████| 15/15 [00:00<00:00, 1003.15it/s]\n",
      "100%|██████████| 15/15 [00:00<00:00, 1076.46it/s]\n",
      "100%|██████████| 15/15 [00:00<00:00, 1202.66it/s]\n",
      "100%|██████████| 15/15 [00:00<00:00, 1253.40it/s]\n",
      "100%|██████████| 15/15 [00:00<00:00, 1160.21it/s]\n",
      "100%|██████████| 15/15 [00:00<00:00, 1113.69it/s]\n",
      "100%|██████████| 15/15 [00:00<00:00, 1074.64it/s]\n",
      "100%|██████████| 15/15 [00:00<00:00, 1156.99it/s]\n",
      "100%|██████████| 15/15 [00:00<00:00, 1250.56it/s]\n",
      "100%|██████████| 15/15 [00:00<00:00, 1076.90it/s]\n",
      "100%|██████████| 15/15 [00:00<00:00, 1077.14it/s]\n",
      "100%|██████████| 15/15 [00:00<00:00, 1157.05it/s]\n",
      "100%|██████████| 15/15 [00:00<00:00, 1156.92it/s]\n",
      "100%|██████████| 15/15 [00:00<00:00, 1159.54it/s]\n",
      "100%|██████████| 15/15 [00:00<00:00, 1157.05it/s]\n",
      "100%|██████████| 15/15 [00:00<00:00, 1151.00it/s]\n",
      "100%|██████████| 15/15 [00:00<00:00, 1074.34it/s]\n",
      "100%|██████████| 15/15 [00:00<00:00, 1156.94it/s]\n",
      "100%|██████████| 15/15 [00:00<00:00, 1004.98it/s]\n",
      "100%|██████████| 15/15 [00:00<00:00, 1253.40it/s]\n",
      "100%|██████████| 15/15 [00:00<00:00, 1075.39it/s]\n",
      "100%|██████████| 15/15 [00:00<00:00, 1155.54it/s]\n",
      "100%|██████████| 15/15 [00:00<00:00, 1159.48it/s]\n",
      "100%|██████████| 15/15 [00:00<00:00, 969.96it/s]\n",
      "100%|██████████| 15/15 [00:00<00:00, 1157.60it/s]\n",
      "100%|██████████| 5/5 [00:00<00:00, 1008.59it/s]\n",
      "100%|██████████| 5/5 [00:00<00:00, 835.59it/s]\n",
      "100%|██████████| 5/5 [00:00<00:00, 840.98it/s]\n",
      "100%|██████████| 5/5 [00:00<00:00, 1008.49it/s]\n",
      "100%|██████████| 5/5 [00:00<00:00, 822.06it/s]\n",
      "100%|██████████| 5/5 [00:00<00:00, 839.63it/s]\n",
      "100%|██████████| 5/5 [00:00<00:00, 839.63it/s]\n",
      "100%|██████████| 5/5 [00:00<00:00, 1002.70it/s]\n",
      "100%|██████████| 5/5 [00:00<00:00, 839.50it/s]\n",
      "100%|██████████| 5/5 [00:00<00:00, 846.82it/s]\n",
      "100%|██████████| 5/5 [00:00<00:00, 835.65it/s]\n",
      "100%|██████████| 5/5 [00:00<00:00, 996.79it/s]\n",
      "100%|██████████| 5/5 [00:00<00:00, 841.11it/s]\n",
      "100%|██████████| 5/5 [00:00<00:00, 835.85it/s]\n",
      "100%|██████████| 5/5 [00:00<00:00, 835.72it/s]\n",
      "100%|██████████| 5/5 [00:00<00:00, 839.63it/s]\n",
      "100%|██████████| 5/5 [00:00<00:00, 1002.80it/s]\n",
      "100%|██████████| 5/5 [00:00<00:00, 1002.70it/s]\n",
      "100%|██████████| 5/5 [00:00<00:00, 1002.65it/s]\n",
      "100%|██████████| 5/5 [00:00<00:00, 835.09it/s]\n",
      "100%|██████████| 5/5 [00:00<00:00, 839.43it/s]\n",
      "100%|██████████| 5/5 [00:00<00:00, 1002.85it/s]\n",
      "100%|██████████| 5/5 [00:00<00:00, 839.53it/s]\n",
      "100%|██████████| 5/5 [00:00<00:00, 1008.59it/s]\n",
      "100%|██████████| 5/5 [00:00<00:00, 835.65it/s]\n",
      "100%|██████████| 5/5 [00:00<00:00, 1002.85it/s]\n",
      "100%|██████████| 5/5 [00:00<00:00, 1003.04it/s]\n",
      "100%|██████████| 5/5 [00:00<00:00, 835.95it/s]\n",
      "100%|██████████| 5/5 [00:00<00:00, 831.77it/s]\n",
      "100%|██████████| 5/5 [00:00<00:00, 835.62it/s]\n",
      "100%|██████████| 5/5 [00:00<00:00, 1002.89it/s]\n",
      "100%|██████████| 5/5 [00:00<00:00, 1008.93it/s]\n",
      "100%|██████████| 5/5 [00:00<00:00, 1002.89it/s]\n",
      "100%|██████████| 5/5 [00:00<00:00, 835.75it/s]\n",
      "100%|██████████| 5/5 [00:00<00:00, 835.55it/s]\n",
      "100%|██████████| 5/5 [00:00<00:00, 835.82it/s]\n",
      "100%|██████████| 5/5 [00:00<00:00, 1008.88it/s]\n",
      "100%|██████████| 5/5 [00:00<00:00, 1002.70it/s]\n",
      "100%|██████████| 5/5 [00:00<00:00, 834.22it/s]\n",
      "100%|██████████| 5/5 [00:00<00:00, 1002.75it/s]\n",
      "100%|██████████| 5/5 [00:00<00:00, 841.52it/s]\n",
      "100%|██████████| 5/5 [00:00<00:00, 766.31it/s]\n",
      "100%|██████████| 5/5 [00:00<00:00, 835.72it/s]\n",
      "100%|██████████| 5/5 [00:00<00:00, 835.59it/s]\n",
      "100%|██████████| 5/5 [00:00<00:00, 847.61it/s]\n",
      "100%|██████████| 5/5 [00:00<00:00, 846.65it/s]\n",
      "100%|██████████| 5/5 [00:00<00:00, 839.50it/s]\n",
      "100%|██████████| 5/5 [00:00<00:00, 1002.65it/s]\n",
      "100%|██████████| 10/10 [00:00<00:00, 873.90it/s]\n",
      "100%|██████████| 10/10 [00:00<00:00, 913.97it/s]\n",
      "100%|██████████| 10/10 [00:00<00:00, 833.81it/s]\n",
      "100%|██████████| 10/10 [00:00<00:00, 1002.68it/s]\n",
      "100%|██████████| 10/10 [00:00<00:00, 1002.75it/s]\n",
      "100%|██████████| 10/10 [00:00<00:00, 850.34it/s]\n",
      "100%|██████████| 10/10 [00:00<00:00, 912.26it/s]\n",
      "100%|██████████| 10/10 [00:00<00:00, 913.39it/s]\n",
      "100%|██████████| 10/10 [00:00<00:00, 837.55it/s]\n",
      "100%|██████████| 10/10 [00:00<00:00, 835.37it/s]\n",
      "100%|██████████| 10/10 [00:00<00:00, 1002.68it/s]\n",
      "100%|██████████| 10/10 [00:00<00:00, 913.61it/s]\n",
      "100%|██████████| 10/10 [00:00<00:00, 1002.75it/s]\n",
      "100%|██████████| 10/10 [00:00<00:00, 912.30it/s]\n",
      "100%|██████████| 10/10 [00:00<00:00, 831.33it/s]\n",
      "100%|██████████| 10/10 [00:00<00:00, 804.09it/s]\n",
      "100%|██████████| 10/10 [00:00<00:00, 838.11it/s]\n",
      "100%|██████████| 10/10 [00:00<00:00, 911.59it/s]\n",
      "100%|██████████| 10/10 [00:00<00:00, 914.17it/s]\n",
      "100%|██████████| 10/10 [00:00<00:00, 836.12it/s]\n",
      "100%|██████████| 10/10 [00:00<00:00, 913.25it/s]\n",
      "100%|██████████| 10/10 [00:00<00:00, 1002.73it/s]\n",
      "100%|██████████| 10/10 [00:00<00:00, 906.03it/s]\n",
      "100%|██████████| 10/10 [00:00<00:00, 949.60it/s]\n",
      "100%|██████████| 10/10 [00:00<00:00, 1002.73it/s]\n",
      "100%|██████████| 10/10 [00:00<00:00, 911.45it/s]\n",
      "100%|██████████| 10/10 [00:00<00:00, 914.89it/s]\n",
      "100%|██████████| 10/10 [00:00<00:00, 996.82it/s]\n",
      "100%|██████████| 10/10 [00:00<00:00, 911.37it/s]\n",
      "100%|██████████| 10/10 [00:00<00:00, 913.93it/s]\n",
      "100%|██████████| 10/10 [00:00<00:00, 871.44it/s]\n",
      "100%|██████████| 10/10 [00:00<00:00, 914.57it/s]\n",
      "100%|██████████| 10/10 [00:00<00:00, 914.45it/s]\n",
      "100%|██████████| 10/10 [00:00<00:00, 1114.08it/s]\n",
      "100%|██████████| 10/10 [00:00<00:00, 911.53it/s]\n",
      "100%|██████████| 10/10 [00:00<00:00, 835.32it/s]\n",
      "100%|██████████| 10/10 [00:00<00:00, 1005.64it/s]\n",
      "100%|██████████| 10/10 [00:00<00:00, 835.55it/s]\n",
      "100%|██████████| 10/10 [00:00<00:00, 912.08it/s]\n",
      "100%|██████████| 10/10 [00:00<00:00, 836.79it/s]\n",
      "100%|██████████| 10/10 [00:00<00:00, 911.57it/s]\n",
      "100%|██████████| 10/10 [00:00<00:00, 918.29it/s]\n",
      "100%|██████████| 10/10 [00:00<00:00, 841.45it/s]\n",
      "100%|██████████| 10/10 [00:00<00:00, 773.36it/s]\n",
      "100%|██████████| 10/10 [00:00<00:00, 914.09it/s]\n",
      "100%|██████████| 10/10 [00:00<00:00, 913.91it/s]\n",
      "100%|██████████| 10/10 [00:00<00:00, 1010.82it/s]\n",
      "100%|██████████| 10/10 [00:00<00:00, 871.49it/s]\n",
      "100%|██████████| 15/15 [00:00<00:00, 939.99it/s]\n",
      "100%|██████████| 15/15 [00:00<00:00, 884.70it/s]\n",
      "100%|██████████| 15/15 [00:00<00:00, 989.00it/s]\n"
     ]
    },
    {
     "name": "stdout",
     "output_type": "stream",
     "text": [
      "{'max_geracoes': 500, 'capacidade': 5, 'vertices': 290, 'npacotes': 800, 'n_individuos': 15, 'n_caminhoes': 192, 'min_variacao': 0.001, 'strikes': 9}\n"
     ]
    },
    {
     "name": "stderr",
     "output_type": "stream",
     "text": [
      "100%|██████████| 15/15 [00:00<00:00, 941.69it/s]\n",
      "100%|██████████| 15/15 [00:00<00:00, 940.01it/s]\n",
      "100%|██████████| 15/15 [00:00<00:00, 940.02it/s]\n",
      "100%|██████████| 15/15 [00:00<00:00, 792.89it/s]\n",
      "100%|██████████| 15/15 [00:00<00:00, 940.43it/s]\n",
      "100%|██████████| 15/15 [00:00<00:00, 992.89it/s]\n",
      "100%|██████████| 15/15 [00:00<00:00, 940.06it/s]\n",
      "100%|██████████| 15/15 [00:00<00:00, 958.84it/s]\n",
      "100%|██████████| 15/15 [00:00<00:00, 941.57it/s]\n",
      "100%|██████████| 15/15 [00:00<00:00, 940.02it/s]\n",
      "100%|██████████| 15/15 [00:00<00:00, 939.89it/s]\n",
      "100%|██████████| 15/15 [00:00<00:00, 869.73it/s]\n",
      "100%|██████████| 15/15 [00:00<00:00, 882.94it/s]\n",
      "100%|██████████| 15/15 [00:00<00:00, 938.80it/s]\n",
      "100%|██████████| 15/15 [00:00<00:00, 1002.69it/s]\n",
      "100%|██████████| 15/15 [00:00<00:00, 937.78it/s]\n",
      "100%|██████████| 15/15 [00:00<00:00, 884.74it/s]\n",
      "100%|██████████| 15/15 [00:00<00:00, 967.05it/s]\n",
      "100%|██████████| 15/15 [00:00<00:00, 883.06it/s]\n",
      "100%|██████████| 15/15 [00:00<00:00, 883.25it/s]\n",
      "100%|██████████| 15/15 [00:00<00:00, 883.48it/s]\n",
      "100%|██████████| 15/15 [00:00<00:00, 938.21it/s]\n",
      "100%|██████████| 15/15 [00:00<00:00, 834.94it/s]\n",
      "100%|██████████| 15/15 [00:00<00:00, 883.46it/s]\n",
      "100%|██████████| 15/15 [00:00<00:00, 836.89it/s]\n",
      "100%|██████████| 15/15 [00:00<00:00, 717.00it/s]\n",
      "100%|██████████| 15/15 [00:00<00:00, 792.71it/s]\n",
      "100%|██████████| 15/15 [00:00<00:00, 885.10it/s]\n",
      "100%|██████████| 15/15 [00:00<00:00, 834.95it/s]\n",
      "100%|██████████| 15/15 [00:00<00:00, 884.65it/s]\n",
      "100%|██████████| 15/15 [00:00<00:00, 811.11it/s]\n",
      "100%|██████████| 15/15 [00:00<00:00, 939.86it/s]\n",
      "100%|██████████| 15/15 [00:00<00:00, 836.24it/s]\n",
      "100%|██████████| 15/15 [00:00<00:00, 886.17it/s]\n",
      "100%|██████████| 15/15 [00:00<00:00, 941.60it/s]\n",
      "100%|██████████| 15/15 [00:00<00:00, 835.59it/s]\n",
      "100%|██████████| 15/15 [00:00<00:00, 791.28it/s]\n",
      "100%|██████████| 15/15 [00:00<00:00, 835.53it/s]\n",
      "100%|██████████| 15/15 [00:00<00:00, 791.08it/s]\n",
      "100%|██████████| 15/15 [00:00<00:00, 939.74it/s]\n",
      "100%|██████████| 15/15 [00:00<00:00, 835.57it/s]\n",
      "100%|██████████| 15/15 [00:00<00:00, 653.94it/s]\n",
      "100%|██████████| 15/15 [00:00<00:00, 940.02it/s]\n",
      "100%|██████████| 15/15 [00:00<00:00, 908.29it/s]\n",
      "100%|██████████| 15/15 [00:00<00:00, 940.03it/s]\n",
      "100%|██████████| 5/5 [00:00<00:00, 715.14it/s]\n",
      "100%|██████████| 5/5 [00:00<00:00, 716.53it/s]\n",
      "100%|██████████| 5/5 [00:00<00:00, 716.26it/s]\n",
      "100%|██████████| 5/5 [00:00<00:00, 836.79it/s]\n",
      "100%|██████████| 5/5 [00:00<00:00, 657.81it/s]\n",
      "100%|██████████| 5/5 [00:00<00:00, 827.77it/s]\n",
      "100%|██████████| 5/5 [00:00<00:00, 719.39it/s]\n",
      "100%|██████████| 5/5 [00:00<00:00, 555.27it/s]\n",
      "100%|██████████| 5/5 [00:00<00:00, 764.88it/s]\n",
      "100%|██████████| 5/5 [00:00<00:00, 626.18it/s]\n",
      "100%|██████████| 5/5 [00:00<00:00, 716.22it/s]\n",
      "100%|██████████| 5/5 [00:00<00:00, 500.79it/s]\n",
      "100%|██████████| 5/5 [00:00<00:00, 716.19it/s]\n",
      "100%|██████████| 5/5 [00:00<00:00, 782.67it/s]\n",
      "100%|██████████| 5/5 [00:00<00:00, 716.26it/s]\n",
      "100%|██████████| 5/5 [00:00<00:00, 626.54it/s]\n",
      "100%|██████████| 5/5 [00:00<00:00, 716.22it/s]\n",
      "100%|██████████| 5/5 [00:00<00:00, 624.26it/s]\n",
      "100%|██████████| 5/5 [00:00<00:00, 713.05it/s]\n",
      "100%|██████████| 5/5 [00:00<00:00, 623.63it/s]\n",
      "100%|██████████| 5/5 [00:00<00:00, 717.05it/s]\n",
      "100%|██████████| 5/5 [00:00<00:00, 716.68it/s]\n",
      "100%|██████████| 5/5 [00:00<00:00, 712.95it/s]\n",
      "100%|██████████| 5/5 [00:00<00:00, 696.03it/s]\n",
      "100%|██████████| 5/5 [00:00<00:00, 716.12it/s]\n",
      "100%|██████████| 5/5 [00:00<00:00, 834.85it/s]\n",
      "100%|██████████| 5/5 [00:00<00:00, 713.15it/s]\n",
      "100%|██████████| 5/5 [00:00<00:00, 502.78it/s]\n",
      "100%|██████████| 5/5 [00:00<00:00, 716.19it/s]\n",
      "100%|██████████| 5/5 [00:00<00:00, 501.35it/s]\n",
      "100%|██████████| 5/5 [00:00<00:00, 656.45it/s]\n",
      "100%|██████████| 5/5 [00:00<00:00, 835.59it/s]\n",
      "100%|██████████| 5/5 [00:00<00:00, 627.70it/s]\n",
      "100%|██████████| 5/5 [00:00<00:00, 835.25it/s]\n",
      "100%|██████████| 5/5 [00:00<00:00, 716.17it/s]\n",
      "100%|██████████| 5/5 [00:00<00:00, 417.82it/s]\n",
      "100%|██████████| 5/5 [00:00<00:00, 716.24it/s]\n",
      "100%|██████████| 5/5 [00:00<00:00, 747.19it/s]\n",
      "100%|██████████| 5/5 [00:00<00:00, 715.24it/s]\n",
      "100%|██████████| 5/5 [00:00<00:00, 710.27it/s]\n",
      "100%|██████████| 5/5 [00:00<00:00, 626.67it/s]\n",
      "100%|██████████| 5/5 [00:00<00:00, 835.65it/s]\n",
      "100%|██████████| 5/5 [00:00<00:00, 836.15it/s]\n",
      "100%|██████████| 5/5 [00:00<00:00, 835.62it/s]\n",
      "100%|██████████| 5/5 [00:00<00:00, 830.79it/s]\n",
      "100%|██████████| 5/5 [00:00<00:00, 715.78it/s]\n",
      "100%|██████████| 5/5 [00:00<00:00, 624.12it/s]\n",
      "100%|██████████| 5/5 [00:00<00:00, 626.75it/s]\n",
      "100%|██████████| 10/10 [00:00<00:00, 713.26it/s]\n",
      "100%|██████████| 10/10 [00:00<00:00, 716.19it/s]\n",
      "100%|██████████| 10/10 [00:00<00:00, 839.23it/s]\n",
      "100%|██████████| 10/10 [00:00<00:00, 716.22it/s]\n",
      "100%|██████████| 10/10 [00:00<00:00, 716.23it/s]\n",
      "100%|██████████| 10/10 [00:00<00:00, 742.05it/s]\n",
      "100%|██████████| 10/10 [00:00<00:00, 668.41it/s]\n",
      "100%|██████████| 10/10 [00:00<00:00, 714.16it/s]\n",
      "100%|██████████| 10/10 [00:00<00:00, 716.20it/s]\n",
      "100%|██████████| 10/10 [00:00<00:00, 669.78it/s]\n",
      "100%|██████████| 10/10 [00:00<00:00, 716.23it/s]\n",
      "100%|██████████| 10/10 [00:00<00:00, 770.97it/s]\n",
      "100%|██████████| 10/10 [00:00<00:00, 769.85it/s]\n",
      "100%|██████████| 10/10 [00:00<00:00, 769.15it/s]\n",
      "100%|██████████| 10/10 [00:00<00:00, 717.65it/s]\n",
      "100%|██████████| 10/10 [00:00<00:00, 770.26it/s]\n",
      "100%|██████████| 10/10 [00:00<00:00, 771.27it/s]\n",
      "100%|██████████| 10/10 [00:00<00:00, 716.19it/s]\n",
      "100%|██████████| 10/10 [00:00<00:00, 715.81it/s]\n",
      "100%|██████████| 10/10 [00:00<00:00, 775.37it/s]\n",
      "100%|██████████| 10/10 [00:00<00:00, 847.87it/s]\n",
      "100%|██████████| 10/10 [00:00<00:00, 716.12it/s]\n",
      "100%|██████████| 10/10 [00:00<00:00, 716.20it/s]\n",
      "100%|██████████| 10/10 [00:00<00:00, 716.12it/s]\n",
      "100%|██████████| 10/10 [00:00<00:00, 717.05it/s]\n",
      "100%|██████████| 10/10 [00:00<00:00, 771.31it/s]\n",
      "100%|██████████| 10/10 [00:00<00:00, 723.42it/s]\n",
      "100%|██████████| 10/10 [00:00<00:00, 744.62it/s]\n",
      "100%|██████████| 10/10 [00:00<00:00, 587.05it/s]\n",
      "100%|██████████| 10/10 [00:00<00:00, 669.78it/s]\n",
      "100%|██████████| 10/10 [00:00<00:00, 711.80it/s]\n",
      "100%|██████████| 10/10 [00:00<00:00, 668.79it/s]\n",
      "100%|██████████| 10/10 [00:00<00:00, 833.68it/s]\n",
      "100%|██████████| 10/10 [00:00<00:00, 769.10it/s]\n",
      "100%|██████████| 10/10 [00:00<00:00, 771.31it/s]\n",
      "100%|██████████| 10/10 [00:00<00:00, 769.36it/s]\n",
      "100%|██████████| 10/10 [00:00<00:00, 770.83it/s]\n",
      "100%|██████████| 10/10 [00:00<00:00, 771.32it/s]\n",
      "100%|██████████| 10/10 [00:00<00:00, 835.59it/s]\n",
      "100%|██████████| 10/10 [00:00<00:00, 716.18it/s]\n",
      "100%|██████████| 10/10 [00:00<00:00, 771.31it/s]\n",
      "100%|██████████| 10/10 [00:00<00:00, 771.61it/s]\n",
      "100%|██████████| 10/10 [00:00<00:00, 714.59it/s]\n",
      "100%|██████████| 10/10 [00:00<00:00, 771.89it/s]\n",
      "100%|██████████| 10/10 [00:00<00:00, 716.18it/s]\n",
      "100%|██████████| 10/10 [00:00<00:00, 668.41it/s]\n",
      "100%|██████████| 10/10 [00:00<00:00, 717.49it/s]\n",
      "100%|██████████| 10/10 [00:00<00:00, 835.64it/s]\n",
      "100%|██████████| 15/15 [00:00<00:00, 751.95it/s]\n",
      "100%|██████████| 15/15 [00:00<00:00, 653.95it/s]\n",
      "100%|██████████| 15/15 [00:00<00:00, 783.29it/s]\n",
      "100%|██████████| 15/15 [00:00<00:00, 48.58it/s]\n",
      "100%|██████████| 15/15 [00:00<00:00, 833.85it/s]\n",
      "100%|██████████| 15/15 [00:00<00:00, 835.51it/s]\n",
      "100%|██████████| 15/15 [00:00<00:00, 752.58it/s]\n",
      "100%|██████████| 15/15 [00:00<00:00, 716.47it/s]\n",
      "100%|██████████| 15/15 [00:00<00:00, 751.99it/s]\n",
      "100%|██████████| 15/15 [00:00<00:00, 653.89it/s]\n",
      "100%|██████████| 15/15 [00:00<00:00, 756.48it/s]\n",
      "100%|██████████| 15/15 [00:00<00:00, 751.08it/s]\n",
      "100%|██████████| 15/15 [00:00<00:00, 790.51it/s]\n",
      "100%|██████████| 15/15 [00:00<00:00, 716.21it/s]\n",
      "100%|██████████| 15/15 [00:00<00:00, 753.54it/s]\n",
      "100%|██████████| 15/15 [00:00<00:00, 791.58it/s]\n",
      "100%|██████████| 15/15 [00:00<00:00, 790.43it/s]\n",
      "100%|██████████| 15/15 [00:00<00:00, 791.61it/s]\n",
      "100%|██████████| 15/15 [00:00<00:00, 683.58it/s]\n",
      "100%|██████████| 15/15 [00:00<00:00, 751.86it/s]\n",
      "100%|██████████| 15/15 [00:00<00:00, 731.63it/s]\n",
      "100%|██████████| 15/15 [00:00<00:00, 731.02it/s]\n",
      "100%|██████████| 15/15 [00:00<00:00, 789.83it/s]\n",
      "100%|██████████| 15/15 [00:00<00:00, 752.93it/s]\n",
      "100%|██████████| 15/15 [00:00<00:00, 626.75it/s]\n",
      "100%|██████████| 15/15 [00:00<00:00, 715.45it/s]\n",
      "100%|██████████| 15/15 [00:00<00:00, 751.47it/s]\n",
      "100%|██████████| 15/15 [00:00<00:00, 636.54it/s]\n",
      "100%|██████████| 15/15 [00:00<00:00, 684.01it/s]\n",
      "100%|██████████| 15/15 [00:00<00:00, 578.15it/s]\n",
      "100%|██████████| 15/15 [00:00<00:00, 698.19it/s]\n",
      "100%|██████████| 15/15 [00:00<00:00, 716.20it/s]\n",
      "100%|██████████| 15/15 [00:00<00:00, 626.02it/s]\n",
      "100%|██████████| 15/15 [00:00<00:00, 654.71it/s]\n",
      "100%|██████████| 15/15 [00:00<00:00, 653.93it/s]\n",
      "100%|██████████| 15/15 [00:00<00:00, 578.49it/s]\n",
      "100%|██████████| 15/15 [00:00<00:00, 677.33it/s]\n",
      "100%|██████████| 15/15 [00:00<00:00, 789.02it/s]\n",
      "100%|██████████| 15/15 [00:00<00:00, 752.13it/s]\n",
      "100%|██████████| 15/15 [00:00<00:00, 716.23it/s]\n",
      "100%|██████████| 15/15 [00:00<00:00, 752.01it/s]\n",
      "100%|██████████| 15/15 [00:00<00:00, 791.61it/s]\n",
      "100%|██████████| 15/15 [00:00<00:00, 752.17it/s]\n",
      "100%|██████████| 15/15 [00:00<00:00, 696.91it/s]\n",
      "100%|██████████| 15/15 [00:00<00:00, 706.10it/s]\n",
      "100%|██████████| 15/15 [00:00<00:00, 790.11it/s]\n",
      "100%|██████████| 15/15 [00:00<00:00, 716.08it/s]\n",
      "100%|██████████| 15/15 [00:00<00:00, 750.79it/s]\n",
      "100%|██████████| 5/5 [00:00<?, ?it/s]\n",
      "100%|██████████| 5/5 [00:00<00:00, 5007.53it/s]\n",
      "100%|██████████| 5/5 [00:00<?, ?it/s]\n",
      "100%|██████████| 5/5 [00:00<?, ?it/s]\n",
      "100%|██████████| 5/5 [00:00<00:00, 5074.16it/s]\n",
      "100%|██████████| 5/5 [00:00<00:00, 5046.08it/s]\n",
      "100%|██████████| 5/5 [00:00<?, ?it/s]\n",
      "100%|██████████| 5/5 [00:00<?, ?it/s]\n",
      "100%|██████████| 5/5 [00:00<?, ?it/s]\n",
      "100%|██████████| 5/5 [00:00<00:00, 5014.71it/s]\n",
      "100%|██████████| 5/5 [00:00<00:00, 5013.51it/s]\n",
      "100%|██████████| 5/5 [00:00<00:00, 5017.11it/s]\n",
      "100%|██████████| 5/5 [00:00<00:00, 5014.71it/s]\n",
      "100%|██████████| 5/5 [00:00<00:00, 5014.71it/s]\n",
      "100%|██████████| 5/5 [00:00<00:00, 4897.60it/s]\n",
      "100%|██████████| 5/5 [00:00<?, ?it/s]\n",
      "100%|██████████| 5/5 [00:00<00:00, 5012.31it/s]\n",
      "100%|██████████| 5/5 [00:00<00:00, 4977.81it/s]\n",
      "100%|██████████| 5/5 [00:00<?, ?it/s]\n",
      "100%|██████████| 5/5 [00:00<?, ?it/s]\n",
      "100%|██████████| 5/5 [00:00<?, ?it/s]\n",
      "100%|██████████| 5/5 [00:00<?, ?it/s]\n",
      "100%|██████████| 5/5 [00:00<?, ?it/s]\n",
      "100%|██████████| 5/5 [00:00<00:00, 5013.51it/s]\n",
      "100%|██████████| 5/5 [00:00<00:00, 5013.51it/s]\n",
      "100%|██████████| 5/5 [00:00<?, ?it/s]\n",
      "100%|██████████| 5/5 [00:00<00:00, 5014.71it/s]\n",
      "100%|██████████| 5/5 [00:00<00:00, 5095.12it/s]\n",
      "100%|██████████| 5/5 [00:00<?, ?it/s]\n",
      "100%|██████████| 5/5 [00:00<?, ?it/s]\n",
      "100%|██████████| 5/5 [00:00<?, ?it/s]\n",
      "100%|██████████| 5/5 [00:00<00:00, 5006.33it/s]\n",
      "100%|██████████| 5/5 [00:00<?, ?it/s]\n",
      "100%|██████████| 5/5 [00:00<?, ?it/s]\n",
      "100%|██████████| 5/5 [00:00<?, ?it/s]\n",
      "100%|██████████| 5/5 [00:00<00:00, 5011.12it/s]\n",
      "100%|██████████| 5/5 [00:00<?, ?it/s]\n",
      "100%|██████████| 5/5 [00:00<?, ?it/s]\n",
      "100%|██████████| 5/5 [00:00<00:00, 5009.92it/s]\n",
      "100%|██████████| 5/5 [00:00<00:00, 5011.12it/s]\n",
      "100%|██████████| 5/5 [00:00<?, ?it/s]\n",
      "100%|██████████| 5/5 [00:00<00:00, 5011.12it/s]\n",
      "100%|██████████| 5/5 [00:00<?, ?it/s]\n",
      "100%|██████████| 5/5 [00:00<?, ?it/s]\n",
      "100%|██████████| 5/5 [00:00<00:00, 5017.11it/s]\n",
      "100%|██████████| 5/5 [00:00<?, ?it/s]\n",
      "100%|██████████| 5/5 [00:00<?, ?it/s]\n",
      "100%|██████████| 5/5 [00:00<?, ?it/s]\n",
      "100%|██████████| 10/10 [00:00<00:00, 10318.09it/s]\n",
      "100%|██████████| 10/10 [00:00<00:00, 10099.46it/s]\n",
      "100%|██████████| 10/10 [00:00<00:00, 10402.54it/s]\n",
      "100%|██████████| 10/10 [00:00<?, ?it/s]\n",
      "100%|██████████| 10/10 [00:00<00:00, 10029.42it/s]\n",
      "100%|██████████| 10/10 [00:00<00:00, 10106.76it/s]\n",
      "100%|██████████| 10/10 [00:00<?, ?it/s]\n",
      "100%|██████████| 10/10 [00:00<00:00, 10031.82it/s]\n",
      "100%|██████████| 10/10 [00:00<00:00, 10027.02it/s]\n",
      "100%|██████████| 10/10 [00:00<00:00, 9749.66it/s]\n",
      "100%|██████████| 10/10 [00:00<00:00, 10121.39it/s]\n",
      "100%|██████████| 10/10 [00:00<00:00, 10019.84it/s]\n",
      "100%|██████████| 10/10 [00:00<00:00, 10019.84it/s]\n",
      "100%|██████████| 10/10 [00:00<00:00, 10027.02it/s]\n",
      "100%|██████████| 10/10 [00:00<00:00, 10029.42it/s]\n",
      "100%|██████████| 10/10 [00:00<?, ?it/s]\n",
      "100%|██████████| 10/10 [00:00<00:00, 10405.12it/s]\n",
      "100%|██████████| 10/10 [00:00<00:00, 9628.80it/s]\n",
      "100%|██████████| 10/10 [00:00<00:00, 10109.19it/s]\n",
      "100%|██████████| 10/10 [00:00<00:00, 10109.19it/s]\n",
      "100%|██████████| 10/10 [00:00<00:00, 10449.19it/s]\n",
      "100%|██████████| 10/10 [00:00<00:00, 10017.44it/s]\n",
      "100%|██████████| 10/10 [00:00<00:00, 10031.82it/s]\n",
      "100%|██████████| 10/10 [00:00<00:00, 9917.96it/s]\n",
      "100%|██████████| 10/10 [00:00<00:00, 10506.77it/s]\n",
      "100%|██████████| 10/10 [00:00<?, ?it/s]\n",
      "100%|██████████| 10/10 [00:00<00:00, 9039.45it/s]\n",
      "100%|██████████| 10/10 [00:00<00:00, 10024.63it/s]\n",
      "100%|██████████| 10/10 [00:00<00:00, 4961.32it/s]\n",
      "100%|██████████| 10/10 [00:00<00:00, 10087.31it/s]\n",
      "100%|██████████| 10/10 [00:00<?, ?it/s]\n",
      "100%|██████████| 10/10 [00:00<00:00, 9927.35it/s]\n",
      "100%|██████████| 10/10 [00:00<00:00, 10031.82it/s]\n",
      "100%|██████████| 10/10 [00:00<?, ?it/s]\n",
      "100%|██████████| 10/10 [00:00<00:00, 9948.54it/s]\n",
      "100%|██████████| 10/10 [00:00<00:00, 10029.42it/s]\n",
      "100%|██████████| 10/10 [00:00<00:00, 9673.21it/s]\n",
      "100%|██████████| 10/10 [00:00<00:00, 10022.23it/s]\n",
      "100%|██████████| 10/10 [00:00<00:00, 10343.54it/s]\n",
      "100%|██████████| 10/10 [00:00<00:00, 10451.79it/s]\n",
      "100%|██████████| 10/10 [00:00<00:00, 10024.63it/s]\n",
      "100%|██████████| 10/10 [00:00<00:00, 10094.59it/s]\n",
      "100%|██████████| 10/10 [00:00<00:00, 10022.23it/s]\n",
      "100%|██████████| 10/10 [00:00<00:00, 9991.20it/s]\n",
      "100%|██████████| 10/10 [00:00<00:00, 9631.01it/s]\n",
      "100%|██████████| 10/10 [00:00<00:00, 9722.54it/s]\n",
      "100%|██████████| 10/10 [00:00<00:00, 6680.96it/s]\n",
      "100%|██████████| 10/10 [00:00<00:00, 10082.46it/s]\n",
      "100%|██████████| 15/15 [00:00<00:00, 7520.27it/s]\n",
      "100%|██████████| 15/15 [00:00<00:00, 7522.97it/s]\n",
      "100%|██████████| 15/15 [00:00<00:00, 15638.72it/s]\n",
      "100%|██████████| 15/15 [00:00<00:00, 15044.13it/s]\n",
      "100%|██████████| 15/15 [00:00<00:00, 15036.94it/s]\n",
      "100%|██████████| 15/15 [00:00<00:00, 15109.16it/s]\n",
      "100%|██████████| 15/15 [00:00<00:00, 7522.97it/s]\n",
      "100%|██████████| 15/15 [00:00<00:00, 7515.78it/s]\n"
     ]
    }
   ],
   "source": [
    "import pickle\n",
    "resultados = []\n",
    "for capacidade in range(5,41,5): #8\n",
    "    for vertices in range(40,600,50): # 12\n",
    "        for npacotes in range(50,1000,150): # 7\n",
    "            for n_individuos in range(5,20,5): # 3\n",
    "                for min_variacao in [0.001,0.005,0.01,0.05]: # 4\n",
    "                    for arestas in [0.3,0.5,0.8]: # 3\n",
    "                        for strikes in range(3,13,3): #4\n",
    "                            try:\n",
    "                                origem = 0\n",
    "                                paiDeTodos = AGPI3()\n",
    "                                paiDeTodos.gerarGrafo(vertices=vertices,arestas=arestas)\n",
    "                                pacotes = paiDeTodos.gerarPacotes(npacotes,origem)\n",
    "                                max_geracoes = 500\n",
    "                                n_caminhoes = ceil(1.2*(npacotes/capacidade))\n",
    "                                resDict = {\n",
    "                                    'max_geracoes':max_geracoes,\n",
    "                                    'capacidade':capacidade,\n",
    "                                'vertices':vertices,\n",
    "                                'npacotes':npacotes,\n",
    "                                'n_individuos':n_individuos,\n",
    "                                'n_caminhoes':n_caminhoes,\n",
    "                                'min_variacao':min_variacao,\n",
    "                                'strikes':strikes}\n",
    "                                start = time.now()\n",
    "                                paiDeTodos.gerarPopulacao(n_individuos=n_individuos,n_caminhoes=n_caminhoes,pacotes=pacotes, capacidade = capacidade)\n",
    "                                resDict['pop'] = [cjDeRotas.copy() for cjDeRotas in paiDeTodos.pop]\n",
    "                                paiDeTodos.Evoluir(max_geracoes=max_geracoes, min_variacao=min_variacao, strikes = strikes, origem = origem)\n",
    "                                end = time.now()\n",
    "                                resDict['delta'] = end-start\n",
    "                                resDict['fitnessGeracoes'] = paiDeTodos.fitnessGeracoes.copy()\n",
    "                                resDict['grafo'] = paiDeTodos.grafo\n",
    "                                timestamp = str(time.now()).split('.')[0].replace('-','').replace(':','').replace(' ','')\n",
    "                                with open(f'resultados/{timestamp}.pkl','wb') as f:\n",
    "                                    pickle.dump(resDict,f)\n",
    "                            except:\n",
    "                                resDict = {\n",
    "                                    'max_geracoes':max_geracoes,\n",
    "                                    'capacidade':capacidade,\n",
    "                                'vertices':vertices,\n",
    "                                'npacotes':npacotes,\n",
    "                                'n_individuos':n_individuos,\n",
    "                                'n_caminhoes':n_caminhoes,\n",
    "                                'min_variacao':min_variacao,\n",
    "                                'strikes':strikes}\n",
    "                                print(resDict)\n",
    "\n",
    "                            \n",
    "                            \n"
   ]
  },
  {
   "cell_type": "code",
   "execution_count": 137,
   "id": "7f82f75d",
   "metadata": {},
   "outputs": [],
   "source": [
    "with open('resultados/t1.txt','w') as f:\n",
    "    pickle.dump()"
   ]
  },
  {
   "cell_type": "code",
   "execution_count": 129,
   "id": "2522b57d",
   "metadata": {},
   "outputs": [
    {
     "name": "stderr",
     "output_type": "stream",
     "text": [
      "100%|██████████| 5/5 [00:00<00:00, 5080.31it/s]\n"
     ]
    },
    {
     "name": "stdout",
     "output_type": "stream",
     "text": [
      "Var:  1\n",
      "Strike: 0\n",
      "Var:  1\n",
      "Strike: 0\n",
      "Var:  1\n",
      "Strike: 0\n",
      "Var:  1\n",
      "Strike: 0\n",
      "Var:  1\n",
      "Strike: 0\n",
      "Var:  1\n",
      "Strike: 0\n",
      "Var:  1\n",
      "Strike: 0\n",
      "Var:  1\n",
      "Strike: 0\n",
      "Var:  1\n",
      "Strike: 0\n",
      "valorAnterior: 665.0429824561403; valorAtual: 627.0626315789475\n",
      "Var:  0.05710961829402894\n",
      "Strike: 0\n",
      "valorAnterior: 659.2808771929824; valorAtual: 622.547456140351\n",
      "Var:  0.055717407137654607\n",
      "Strike: 0\n",
      "valorAnterior: 652.7985087719297; valorAtual: 621.3470175438596\n",
      "Var:  0.04817947774917242\n",
      "Strike: 0\n",
      "valorAnterior: 644.3954385964912; valorAtual: 623.9879824561403\n",
      "Var:  0.03166915052160946\n",
      "Strike: 0\n",
      "valorAnterior: 641.9945614035087; valorAtual: 619.666403508772\n",
      "Var:  0.03477935676888533\n",
      "Strike: 0\n",
      "valorAnterior: 635.5766140350877; valorAtual: 611.983596491228\n",
      "Var:  0.037120650796250376\n",
      "Strike: 0\n",
      "valorAnterior: 629.5744210526316; valorAtual: 610.7831578947367\n",
      "Var:  0.029847564528552972\n",
      "Strike: 0\n",
      "valorAnterior: 630.5347719298245; valorAtual: 607.1232631578947\n",
      "Var:  0.03712960777765861\n",
      "Strike: 0\n",
      "valorAnterior: 629.9460175438596; valorAtual: 607.3651286549708\n",
      "Var:  0.03584575227085485\n",
      "Strike: 0\n",
      "valorAnterior: 627.0626315789475; valorAtual: 604.8146218323587\n",
      "Var:  0.03547972503251895\n",
      "Strike: 0\n",
      "valorAnterior: 622.547456140351; valorAtual: 600.8280331384016\n",
      "Var:  0.03488797968367707\n",
      "Strike: 0\n",
      "valorAnterior: 621.3470175438596; valorAtual: 599.4785575048734\n",
      "Var:  0.035195244237963275\n",
      "Strike: 0\n",
      "valorAnterior: 623.9879824561403; valorAtual: 598.9989746588695\n",
      "Var:  0.04004725812011489\n",
      "Strike: 0\n",
      "valorAnterior: 619.666403508772; valorAtual: 601.8764717348929\n",
      "Var:  0.028708885415033247\n",
      "Strike: 0\n",
      "valorAnterior: 611.983596491228; valorAtual: 600.7526393762183\n",
      "Var:  0.018351728999603467\n",
      "Strike: 0\n",
      "valorAnterior: 610.7831578947367; valorAtual: 598.9989746588695\n",
      "Var:  0.01929356283576189\n",
      "Strike: 0\n",
      "valorAnterior: 607.1232631578947; valorAtual: 598.7591832358676\n",
      "Var:  0.013776576240090321\n",
      "Strike: 0\n",
      "valorAnterior: 607.3651286549708; valorAtual: 597.3204346978558\n",
      "Var:  0.016538147291003114\n",
      "Strike: 0\n",
      "valorAnterior: 604.8146218323587; valorAtual: 591.9581481481482\n",
      "Var:  0.021256883051637088\n",
      "Strike: 0\n",
      "valorAnterior: 600.8280331384016; valorAtual: 590.1146081871345\n",
      "Var:  0.01783110034880675\n",
      "Strike: 0\n",
      "valorAnterior: 599.4785575048734; valorAtual: 589.9512748538012\n",
      "Var:  0.015892616227553225\n",
      "Strike: 0\n",
      "valorAnterior: 598.9989746588695; valorAtual: 589.8764834307992\n",
      "Var:  0.015229560673731712\n",
      "Strike: 0\n",
      "valorAnterior: 601.8764717348929; valorAtual: 589.7849415204679\n",
      "Var:  0.020089720702275438\n",
      "Strike: 0\n",
      "valorAnterior: 600.7526393762183; valorAtual: 586.7527777777777\n",
      "Var:  0.02330387031337411\n",
      "Strike: 0\n",
      "valorAnterior: 598.9989746588695; valorAtual: 588.5201929824561\n",
      "Var:  0.017493822393237157\n",
      "Strike: 0\n",
      "valorAnterior: 598.7591832358676; valorAtual: 579.6916293511556\n",
      "Var:  0.031845113058083574\n",
      "Strike: 0\n",
      "valorAnterior: 597.3204346978558; valorAtual: 584.234999721526\n",
      "Var:  0.021906893212097822\n",
      "Strike: 0\n",
      "valorAnterior: 591.9581481481482; valorAtual: 578.079216374269\n",
      "Var:  0.0234457990270045\n",
      "Strike: 0\n",
      "valorAnterior: 590.1146081871345; valorAtual: 577.4169668615984\n",
      "Var:  0.0215172462253459\n",
      "Strike: 0\n",
      "valorAnterior: 589.9512748538012; valorAtual: 577.7146101364523\n",
      "Var:  0.02074182265371216\n",
      "Strike: 0\n",
      "valorAnterior: 589.8764834307992; valorAtual: 581.2996666666666\n",
      "Var:  0.014540021521537438\n",
      "Strike: 0\n",
      "valorAnterior: 589.7849415204679; valorAtual: 577.8269571150098\n",
      "Var:  0.020275160594352193\n",
      "Strike: 0\n",
      "valorAnterior: 586.7527777777777; valorAtual: 579.7523118908382\n",
      "Var:  0.011930861091876799\n",
      "Strike: 0\n",
      "valorAnterior: 588.5201929824561; valorAtual: 577.1219395711502\n",
      "Var:  0.0193676505024285\n",
      "Strike: 0\n",
      "valorAnterior: 579.6916293511556; valorAtual: 574.9698167641325\n",
      "Var:  0.008145386871133864\n",
      "Strike: 0\n",
      "valorAnterior: 584.234999721526; valorAtual: 574.9698167641325\n",
      "Var:  0.015858657837701906\n",
      "Strike: 1\n",
      "valorAnterior: 578.079216374269; valorAtual: 573.1820409356726\n",
      "Var:  0.008471460830769217\n",
      "Strike: 0\n",
      "valorAnterior: 577.4169668615984; valorAtual: 566.4865477582847\n",
      "Var:  0.018929854387070066\n",
      "Strike: 1\n",
      "valorAnterior: 577.7146101364523; valorAtual: 567.682171539961\n",
      "Var:  0.01736573460401436\n",
      "Strike: 0\n",
      "valorAnterior: 581.2996666666666; valorAtual: 566.7256725146199\n",
      "Var:  0.025071396024735404\n",
      "Strike: 0\n",
      "valorAnterior: 577.8269571150098; valorAtual: 565.7691734892787\n",
      "Var:  0.020867464692082782\n",
      "Strike: 0\n",
      "valorAnterior: 579.7523118908382; valorAtual: 562.4214269005847\n",
      "Var:  0.029893602207000325\n",
      "Strike: 0\n",
      "valorAnterior: 577.1219395711502; valorAtual: 559.0736803118908\n",
      "Var:  0.03127286977284338\n",
      "Strike: 0\n",
      "valorAnterior: 574.9698167641325; valorAtual: 559.5519298245614\n",
      "Var:  0.026815124011798197\n",
      "Strike: 0\n",
      "valorAnterior: 574.9698167641325; valorAtual: 557.1606822612085\n",
      "Var:  0.03097403373824348\n",
      "Strike: 0\n",
      "valorAnterior: 573.1820409356726; valorAtual: 559.5519298245615\n",
      "Var:  0.02377972465581979\n",
      "Strike: 0\n",
      "valorAnterior: 566.4865477582847; valorAtual: 557.3998070175438\n",
      "Var:  0.016040523427606868\n",
      "Strike: 0\n",
      "valorAnterior: 567.682171539961; valorAtual: 556.9215575048734\n",
      "Var:  0.018955349620892847\n",
      "Strike: 0\n",
      "valorAnterior: 566.7256725146199; valorAtual: 555.9650584795322\n",
      "Var:  0.018987341772151778\n",
      "Strike: 0\n",
      "valorAnterior: 565.7691734892787; valorAtual: 555.7259337231969\n",
      "Var:  0.017751479289940697\n",
      "Strike: 0\n",
      "valorAnterior: 562.4214269005847; valorAtual: 555.9650584795322\n",
      "Var:  0.011479591836734415\n",
      "Strike: 0\n",
      "valorAnterior: 559.0736803118908; valorAtual: 557.7569824561403\n",
      "Var:  0.00235514191084063\n",
      "Strike: 0\n",
      "valorAnterior: 559.5519298245614; valorAtual: 563.9752631578948\n",
      "Var:  0.00790513462212572\n",
      "Strike: 1\n",
      "valorAnterior: 557.1606822612085; valorAtual: 556.6814834307993\n",
      "Var:  0.0008600729478334124\n",
      "Strike: 2\n",
      "valorAnterior: 559.5519298245615; valorAtual: 556.7972007797271\n",
      "Var:  0.004923098104045787\n",
      "Strike: 3\n",
      "valorAnterior: 557.3998070175438; valorAtual: 553.9290877192982\n",
      "Var:  0.006226624506413536\n",
      "Strike: 4\n",
      "valorAnterior: 556.9215575048734; valorAtual: 555.8400116959065\n",
      "Var:  0.0019420074414293609\n",
      "Strike: 5\n",
      "valorAnterior: 555.9650584795322; valorAtual: 553.4513567251463\n",
      "Var:  0.004521330461415118\n",
      "Strike: 6\n",
      "valorAnterior: 555.7259337231969; valorAtual: 555.1234152046784\n",
      "Var:  0.0010842008298620476\n",
      "Strike: 7\n",
      "valorAnterior: 555.9650584795322; valorAtual: 549.8784302422724\n",
      "Var:  0.010947861101029743\n",
      "Strike: 8\n",
      "valorAnterior: 557.7569824561403; valorAtual: 550.82383625731\n",
      "Var:  0.012430406820367446\n",
      "Strike: 0\n",
      "valorAnterior: 563.9752631578948; valorAtual: 552.0296959064328\n",
      "Var:  0.02118101277097606\n",
      "Strike: 0\n",
      "valorAnterior: 556.6814834307993; valorAtual: 551.3246315789474\n",
      "Var:  0.00962283102868422\n",
      "Strike: 0\n",
      "valorAnterior: 556.7972007797271; valorAtual: 550.5965029239767\n",
      "Var:  0.011136366790398866\n",
      "Strike: 1\n",
      "valorAnterior: 553.9290877192982; valorAtual: 551.0852740183793\n",
      "Var:  0.005133894868434741\n",
      "Strike: 0\n",
      "valorAnterior: 555.8400116959065; valorAtual: 548.9259206349209\n",
      "Var:  0.012438994882520649\n",
      "Strike: 1\n",
      "valorAnterior: 553.4513567251463; valorAtual: 546.5242573099416\n",
      "Var:  0.012516184721622747\n",
      "Strike: 0\n",
      "valorAnterior: 555.1234152046784; valorAtual: 546.2853918128656\n",
      "Var:  0.015920826161790025\n",
      "Strike: 0\n",
      "valorAnterior: 549.8784302422724; valorAtual: 549.1517777777779\n",
      "Var:  0.0013214783932775642\n",
      "Strike: 0\n",
      "valorAnterior: 550.82383625731; valorAtual: 549.1517777777779\n",
      "Var:  0.0030355594102340344\n",
      "Strike: 1\n",
      "valorAnterior: 552.0296959064328; valorAtual: 543.8967368421053\n",
      "Var:  0.014732828912352725\n",
      "Strike: 2\n",
      "valorAnterior: 551.3246315789474; valorAtual: 541.030350877193\n",
      "Var:  0.018671904196031486\n",
      "Strike: 0\n",
      "valorAnterior: 550.5965029239767; valorAtual: 541.746947368421\n",
      "Var:  0.016072669384130767\n",
      "Strike: 0\n",
      "valorAnterior: 551.0852740183793; valorAtual: 543.4190058479533\n",
      "Var:  0.013911219428030641\n",
      "Strike: 0\n",
      "valorAnterior: 548.9259206349209; valorAtual: 545.0910643274854\n",
      "Var:  0.006986108987165118\n",
      "Strike: 0\n",
      "valorAnterior: 546.5242573099416; valorAtual: 546.2853918128656\n",
      "Var:  0.00043706293706302635\n",
      "Strike: 1\n",
      "valorAnterior: 546.2853918128656; valorAtual: 547.2408538011698\n",
      "Var:  0.0017490161783999536\n",
      "Strike: 2\n",
      "valorAnterior: 549.1517777777779; valorAtual: 549.868374269006\n",
      "Var:  0.0013049151805135661\n",
      "Strike: 3\n",
      "valorAnterior: 549.1517777777779; valorAtual: 546.5242573099416\n",
      "Var:  0.004784688995215225\n",
      "Strike: 4\n",
      "valorAnterior: 543.8967368421053; valorAtual: 542.2246783625732\n",
      "Var:  0.0030742204655247463\n",
      "Strike: 5\n",
      "valorAnterior: 541.030350877193; valorAtual: 542.3440253411306\n",
      "Var:  0.0024280975398289772\n",
      "Strike: 6\n",
      "valorAnterior: 541.746947368421; valorAtual: 543.4190058479533\n",
      "Var:  0.0030864197530864335\n",
      "Strike: 7\n",
      "valorAnterior: 543.4190058479533; valorAtual: 543.4814903926484\n",
      "Var:  0.00011498409886789851\n",
      "Strike: 8\n",
      "valorAnterior: 545.0910643274854; valorAtual: 538.8805614035089\n",
      "Var:  0.0113935144609989\n",
      "Strike: 9\n",
      "valorAnterior: 546.2853918128656; valorAtual: 541.5080818713451\n",
      "Var:  0.008745080891998214\n",
      "Strike: 0\n",
      "valorAnterior: 547.2408538011698; valorAtual: 545.5687953216375\n",
      "Var:  0.0030554343081626856\n",
      "Strike: 1\n",
      "valorAnterior: 549.868374269006; valorAtual: 541.2692163742691\n",
      "Var:  0.01563857515204181\n",
      "Strike: 2\n",
      "valorAnterior: 546.5242573099416; valorAtual: 538.6416959064329\n",
      "Var:  0.01442307692307676\n",
      "Strike: 0\n",
      "valorAnterior: 542.2246783625732; valorAtual: 542.9412748538014\n",
      "Var:  0.001321585903083955\n",
      "Strike: 0\n",
      "valorAnterior: 542.3440253411306; valorAtual: 540.552619883041\n",
      "Var:  0.003303079548010013\n",
      "Strike: 1\n",
      "valorAnterior: 543.4190058479533; valorAtual: 540.074888888889\n",
      "Var:  0.006153846153846065\n",
      "Strike: 2\n",
      "valorAnterior: 543.4814903926484; valorAtual: 536.9696374269008\n",
      "Var:  0.011981738257623054\n",
      "Strike: 3\n",
      "valorAnterior: 538.8805614035089; valorAtual: 542.2246783625732\n",
      "Var:  0.00620567375886516\n",
      "Strike: 0\n",
      "valorAnterior: 541.5080818713451; valorAtual: 543.4190058479533\n",
      "Var:  0.0035288928098808903\n",
      "Strike: 1\n",
      "valorAnterior: 545.5687953216375; valorAtual: 538.4028304093569\n",
      "Var:  0.013134851138353665\n",
      "Strike: 2\n",
      "valorAnterior: 541.2692163742691; valorAtual: 538.1639649122808\n",
      "Var:  0.005736981465136903\n",
      "Strike: 0\n",
      "valorAnterior: 538.6416959064329; valorAtual: 538.5155243664718\n",
      "Var:  0.00023424020256879174\n",
      "Strike: 1\n",
      "valorAnterior: 542.9412748538014; valorAtual: 544.1878752436647\n",
      "Var:  0.0022960133030944796\n",
      "Strike: 2\n",
      "valorAnterior: 540.552619883041; valorAtual: 542.4635438596491\n",
      "Var:  0.0035351303579318483\n",
      "Strike: 3\n",
      "valorAnterior: 540.074888888889; valorAtual: 545.3299298245614\n",
      "Var:  0.009730207872622687\n",
      "Strike: 4\n",
      "valorAnterior: 536.9696374269008; valorAtual: 545.5687953216375\n",
      "Var:  0.0160142348754444\n",
      "Strike: 5\n",
      "valorAnterior: 542.2246783625732; valorAtual: 541.269216374269\n",
      "Var:  0.0017621145374450142\n",
      "Strike: 0\n",
      "valorAnterior: 543.4190058479533; valorAtual: 541.0303508771931\n",
      "Var:  0.004395604395604269\n",
      "Strike: 1\n",
      "valorAnterior: 538.4028304093569; valorAtual: 544.6133333333335\n",
      "Var:  0.011535048802129522\n",
      "Strike: 2\n",
      "valorAnterior: 538.1639649122808; valorAtual: 544.3744678362574\n",
      "Var:  0.011540168664003536\n",
      "Strike: 0\n",
      "valorAnterior: 538.5155243664718; valorAtual: 545.1554536340852\n",
      "Var:  0.012330061005065396\n",
      "Strike: 0\n",
      "valorAnterior: 544.1878752436647; valorAtual: 547.3056240601504\n",
      "Var:  0.005729177290269005\n",
      "Strike: 0\n",
      "valorAnterior: 542.4635438596491; valorAtual: 551.2482506265666\n",
      "Var:  0.016194096112734035\n",
      "Strike: 1\n",
      "valorAnterior: 545.3299298245614; valorAtual: 551.2482506265666\n",
      "Var:  0.01085273424091926\n",
      "Strike: 0\n",
      "valorAnterior: 545.5687953216375; valorAtual: 543.7858880534671\n",
      "Var:  0.0032679788203781035\n",
      "Strike: 0\n",
      "valorAnterior: 541.269216374269; valorAtual: 540.0748888888891\n",
      "Var:  0.002206531332744621\n",
      "Strike: 1\n",
      "valorAnterior: 541.0303508771931; valorAtual: 541.5080818713451\n",
      "Var:  0.0008830022075054789\n",
      "Strike: 2\n",
      "valorAnterior: 544.6133333333335; valorAtual: 540.313754385965\n",
      "Var:  0.007894736842105288\n",
      "Strike: 3\n",
      "valorAnterior: 544.3744678362574; valorAtual: 540.0748888888891\n",
      "Var:  0.007898200965335556\n",
      "Strike: 4\n",
      "valorAnterior: 545.1554536340852; valorAtual: 538.1639649122808\n",
      "Var:  0.012824761589007583\n",
      "Strike: 5\n",
      "valorAnterior: 547.3056240601504; valorAtual: 535.2975789473686\n",
      "Var:  0.02194029183128232\n",
      "Strike: 0\n",
      "valorAnterior: 551.2482506265666; valorAtual: 536.9696374269008\n",
      "Var:  0.02590232836736661\n",
      "Strike: 0\n",
      "valorAnterior: 551.2482506265666; valorAtual: 536.9696374269006\n",
      "Var:  0.025902328367367056\n",
      "Strike: 0\n",
      "valorAnterior: 543.7858880534671; valorAtual: 532.9089239766083\n",
      "Var:  0.020002291923745807\n",
      "Strike: 0\n",
      "valorAnterior: 540.0748888888891; valorAtual: 529.0870760233919\n",
      "Var:  0.020344980097302234\n",
      "Strike: 0\n",
      "valorAnterior: 541.5080818713451; valorAtual: 531.2368654970761\n",
      "Var:  0.01896779885310984\n",
      "Strike: 0\n",
      "valorAnterior: 540.313754385965; valorAtual: 531.4936599832916\n",
      "Var:  0.016324023460585146\n",
      "Strike: 0\n",
      "valorAnterior: 540.0748888888891; valorAtual: 533.6255204678364\n",
      "Var:  0.011941618752764338\n",
      "Strike: 0\n",
      "valorAnterior: 538.1639649122808; valorAtual: 534.4099348370928\n",
      "Var:  0.006975625125327567\n",
      "Strike: 0\n",
      "valorAnterior: 535.2975789473686; valorAtual: 533.4563776106935\n",
      "Var:  0.003439584651766414\n",
      "Strike: 1\n",
      "valorAnterior: 536.9696374269008; valorAtual: 537.0393600668339\n",
      "Var:  0.0001298446598716474\n",
      "Strike: 2\n",
      "valorAnterior: 536.9696374269006; valorAtual: 542.2902105263158\n",
      "Var:  0.00990851759311906\n",
      "Strike: 3\n",
      "valorAnterior: 532.9089239766083; valorAtual: 541.0347485380119\n",
      "Var:  0.01524805495987569\n",
      "Strike: 4\n",
      "valorAnterior: 529.0870760233919; valorAtual: 537.6298304093568\n",
      "Var:  0.016146216328268848\n",
      "Strike: 0\n",
      "valorAnterior: 531.2368654970761; valorAtual: 538.4042923976609\n",
      "Var:  0.01349196067911862\n",
      "Strike: 0\n",
      "valorAnterior: 531.4936599832916; valorAtual: 540.5842807017544\n",
      "Var:  0.017103911867450305\n",
      "Strike: 0\n",
      "valorAnterior: 533.6255204678364; valorAtual: 536.494701754386\n",
      "Var:  0.0053767692445334525\n",
      "Strike: 0\n",
      "valorAnterior: 534.4099348370928; valorAtual: 531.6881929824561\n",
      "Var:  0.005092985135963679\n",
      "Strike: 1\n",
      "valorAnterior: 533.4563776106935; valorAtual: 530.257\n",
      "Var:  0.005997449360383156\n",
      "Strike: 2\n",
      "valorAnterior: 537.0393600668339; valorAtual: 531.4496608187135\n",
      "Var:  0.010408360473662004\n",
      "Strike: 3\n",
      "valorAnterior: 542.2902105263158; valorAtual: 529.5414035087721\n",
      "Var:  0.023509196312377578\n",
      "Strike: 0\n",
      "valorAnterior: 541.0347485380119; valorAtual: 531.6881929824561\n",
      "Var:  0.017275333203296217\n",
      "Strike: 0\n",
      "valorAnterior: 537.6298304093568; valorAtual: 532.2029005847953\n",
      "Var:  0.01009417543001545\n",
      "Strike: 0\n",
      "valorAnterior: 538.4042923976609; valorAtual: 532.2060116959065\n",
      "Var:  0.011512316653628174\n",
      "Strike: 0\n",
      "valorAnterior: 540.5842807017544; valorAtual: 536.6022982456141\n",
      "Var:  0.007366071486524128\n",
      "Strike: 0\n",
      "valorAnterior: 536.494701754386; valorAtual: 542.732403508772\n",
      "Var:  0.011626772331559065\n",
      "Strike: 1\n",
      "valorAnterior: 531.6881929824561; valorAtual: 538.5838752436647\n",
      "Var:  0.012969410177284368\n",
      "Strike: 0\n",
      "valorAnterior: 530.257; valorAtual: 532.7149415204678\n",
      "Var:  0.004635377789388828\n",
      "Strike: 0\n",
      "valorAnterior: 531.4496608187135; valorAtual: 535.3387953216373\n",
      "Var:  0.007317973440668979\n",
      "Strike: 1\n",
      "valorAnterior: 529.5414035087721; valorAtual: 527.6331461988304\n",
      "Var:  0.003603603603603789\n",
      "Strike: 2\n",
      "valorAnterior: 531.6881929824561; valorAtual: 529.3028713450293\n",
      "Var:  0.004486316733961271\n",
      "Strike: 3\n",
      "valorAnterior: 532.2029005847953; valorAtual: 528.5872748538012\n",
      "Var:  0.006793697905481566\n",
      "Strike: 4\n",
      "valorAnterior: 532.2060116959065; valorAtual: 528.5872748538012\n",
      "Var:  0.006799503881164237\n",
      "Strike: 5\n",
      "valorAnterior: 536.6022982456141; valorAtual: 520.7157134502925\n",
      "Var:  0.029605882880602175\n",
      "Strike: 6\n",
      "valorAnterior: 542.732403508772; valorAtual: 520.4771812865498\n",
      "Var:  0.04100588444386566\n",
      "Strike: 0\n",
      "valorAnterior: 538.5838752436647; valorAtual: 526.6790175438597\n",
      "Var:  0.02210399948275288\n",
      "Strike: 0\n",
      "valorAnterior: 532.7149415204678; valorAtual: 523.5780994152047\n",
      "Var:  0.01715146580868343\n",
      "Strike: 0\n",
      "valorAnterior: 535.3387953216373; valorAtual: 532.9713859649122\n",
      "Var:  0.0044222637653278385\n",
      "Strike: 0\n",
      "valorAnterior: 527.6331461988304; valorAtual: 528.0527426900586\n",
      "Var:  0.0007952428581317061\n",
      "Strike: 1\n",
      "valorAnterior: 529.3028713450293; valorAtual: 527.7246783625731\n",
      "Var:  0.002981644475961054\n",
      "Strike: 2\n",
      "valorAnterior: 528.5872748538012; valorAtual: 525.9082865497077\n",
      "Var:  0.00506820430899424\n",
      "Strike: 3\n",
      "valorAnterior: 528.5872748538012; valorAtual: 527.0090818713451\n",
      "Var:  0.002985680998265905\n",
      "Strike: 4\n",
      "valorAnterior: 520.7157134502925; valorAtual: 524.770760233918\n",
      "Var:  0.007787448465414348\n",
      "Strike: 5\n",
      "valorAnterior: 520.4771812865498; valorAtual: 525.7248888888889\n",
      "Var:  0.010082493125572745\n",
      "Strike: 6\n",
      "valorAnterior: 526.6790175438597; valorAtual: 525.4863567251463\n",
      "Var:  0.0022644927536231707\n",
      "Strike: 0\n",
      "valorAnterior: 523.5780994152047; valorAtual: 526.9175497076023\n",
      "Var:  0.006378132118450841\n",
      "Strike: 1\n",
      "valorAnterior: 532.9713859649122; valorAtual: 527.8716783625731\n",
      "Var:  0.009568445392441394\n",
      "Strike: 2\n",
      "valorAnterior: 528.0527426900586; valorAtual: 536.6973684210527\n",
      "Var:  0.01637076191850806\n",
      "Strike: 3\n",
      "valorAnterior: 527.7246783625731; valorAtual: 535.743239766082\n",
      "Var:  0.015194592431017062\n",
      "Strike: 0\n",
      "valorAnterior: 525.9082865497077; valorAtual: 536.8407005847954\n",
      "Var:  0.020787681644667266\n",
      "Strike: 0\n",
      "valorAnterior: 527.0090818713451; valorAtual: 536.6973684210527\n",
      "Var:  0.018383528639213775\n",
      "Strike: 0\n",
      "valorAnterior: 524.770760233918; valorAtual: 535.7432397660818\n",
      "Var:  0.020909090909090988\n",
      "Strike: 0\n",
      "valorAnterior: 525.7248888888889; valorAtual: 532.8808538011697\n",
      "Var:  0.013611615245009201\n",
      "Strike: 0\n",
      "valorAnterior: 525.4863567251463; valorAtual: 530.4955321637427\n",
      "Var:  0.009532455742169654\n",
      "Strike: 0\n",
      "valorAnterior: 526.9175497076023; valorAtual: 528.8258070175439\n",
      "Var:  0.00362154821186067\n",
      "Strike: 1\n",
      "valorAnterior: 527.8716783625731; valorAtual: 530.7340643274854\n",
      "Var:  0.005422503389064692\n",
      "Strike: 2\n",
      "valorAnterior: 536.6973684210527; valorAtual: 531.4496608187135\n",
      "Var:  0.009777777777777885\n",
      "Strike: 3\n",
      "valorAnterior: 535.743239766082; valorAtual: 526.9175497076023\n",
      "Var:  0.016473731077471188\n",
      "Strike: 4\n",
      "valorAnterior: 536.8407005847954; valorAtual: 526.9175497076023\n",
      "Var:  0.018484349018961233\n",
      "Strike: 0\n",
      "valorAnterior: 536.6973684210527; valorAtual: 528.3487426900585\n",
      "Var:  0.015555555555555545\n",
      "Strike: 0\n",
      "valorAnterior: 535.7432397660818; valorAtual: 528.5872748538011\n",
      "Var:  0.01335707925200369\n",
      "Strike: 0\n",
      "valorAnterior: 532.8808538011697; valorAtual: 528.5872748538011\n",
      "Var:  0.008057296329454178\n",
      "Strike: 0\n",
      "valorAnterior: 530.4955321637427; valorAtual: 527.8716783625731\n",
      "Var:  0.004946043165467651\n",
      "Strike: 1\n",
      "valorAnterior: 528.8258070175439; valorAtual: 529.3028713450293\n",
      "Var:  0.0009021199819576609\n",
      "Strike: 2\n",
      "valorAnterior: 530.7340643274854; valorAtual: 530.8803001949318\n",
      "Var:  0.000275535107458591\n",
      "Strike: 3\n",
      "valorAnterior: 531.4496608187135; valorAtual: 525.1555282651073\n",
      "Var:  0.011843327821321692\n",
      "Strike: 4\n",
      "valorAnterior: 526.9175497076023; valorAtual: 522.7702066276804\n",
      "Var:  0.007870952641876094\n",
      "Strike: 0\n",
      "valorAnterior: 526.9175497076023; valorAtual: 526.5867212475634\n",
      "Var:  0.0006278562181549763\n",
      "Strike: 1\n",
      "valorAnterior: 528.3487426900585; valorAtual: 524.2936959064328\n",
      "Var:  0.0076749435665913746\n",
      "Strike: 2\n",
      "valorAnterior: 528.5872748538011; valorAtual: 522.8625029239766\n",
      "Var:  0.010830324909747113\n",
      "Strike: 3\n",
      "valorAnterior: 528.5872748538011; valorAtual: 524.0551637426901\n",
      "Var:  0.008574007220216395\n",
      "Strike: 0\n",
      "valorAnterior: 527.8716783625731; valorAtual: 528.8688713450292\n",
      "Var:  0.0018890821829073978\n",
      "Strike: 1\n",
      "valorAnterior: 529.3028713450293; valorAtual: 531.4711929824562\n",
      "Var:  0.004096561259750775\n",
      "Strike: 2\n",
      "valorAnterior: 530.8803001949318; valorAtual: 531.7131695906434\n",
      "Var:  0.0015688459251657072\n",
      "Strike: 3\n",
      "valorAnterior: 525.1555282651073; valorAtual: 522.6489473684212\n",
      "Var:  0.004773025821449006\n",
      "Strike: 4\n",
      "valorAnterior: 522.7702066276804; valorAtual: 521.4807710944028\n",
      "Var:  0.002466543649446984\n",
      "Strike: 5\n",
      "valorAnterior: 526.5867212475634; valorAtual: 525.5363099415206\n",
      "Var:  0.001994754640896157\n",
      "Strike: 6\n",
      "valorAnterior: 524.2936959064328; valorAtual: 519.3795062656642\n",
      "Var:  0.009372971064000035\n",
      "Strike: 7\n",
      "valorAnterior: 522.8625029239766; valorAtual: 514.8567443609023\n",
      "Var:  0.015311403128555057\n",
      "Strike: 8\n",
      "valorAnterior: 524.0551637426901; valorAtual: 514.1666165413534\n",
      "Var:  0.018869286833689047\n",
      "Strike: 0\n",
      "valorAnterior: 528.8688713450292; valorAtual: 513.6905363408522\n",
      "Var:  0.028699618802625282\n",
      "Strike: 0\n",
      "valorAnterior: 531.4711929824562; valorAtual: 515.3568170426065\n",
      "Var:  0.030320318678836777\n",
      "Strike: 0\n",
      "valorAnterior: 531.7131695906434; valorAtual: 513.4524962406015\n",
      "Var:  0.03434309021177806\n",
      "Strike: 0\n",
      "valorAnterior: 522.6489473684212; valorAtual: 509.6438546365915\n",
      "Var:  0.024883036304409245\n",
      "Strike: 0\n",
      "valorAnterior: 521.4807710944028; valorAtual: 513.4524962406015\n",
      "Var:  0.015395150308136651\n",
      "Strike: 0\n",
      "valorAnterior: 525.5363099415206; valorAtual: 514.8807368421052\n",
      "Var:  0.020275617303400217\n",
      "Strike: 0\n",
      "valorAnterior: 519.3795062656642; valorAtual: 512.2622957393485\n",
      "Var:  0.013703294874856331\n",
      "Strike: 0\n",
      "valorAnterior: 514.8567443609023; valorAtual: 507.5014937343359\n",
      "Var:  0.014286013939074582\n",
      "Strike: 0\n",
      "valorAnterior: 514.1666165413534; valorAtual: 508.45365413533835\n",
      "Var:  0.011111111111111072\n",
      "Strike: 0\n",
      "valorAnterior: 513.6905363408522; valorAtual: 511.54817543859645\n",
      "Var:  0.004170528266913998\n",
      "Strike: 0\n",
      "valorAnterior: 515.3568170426065; valorAtual: 510.59601503759404\n",
      "Var:  0.009237875288683473\n",
      "Strike: 1\n",
      "valorAnterior: 513.4524962406015; valorAtual: 510.35797493734344\n",
      "Var:  0.006026889197959906\n",
      "Strike: 2\n",
      "valorAnterior: 509.6438546365915; valorAtual: 514.1666165413534\n",
      "Var:  0.008874357776739838\n",
      "Strike: 3\n",
      "valorAnterior: 513.4524962406015; valorAtual: 514.8807368421053\n",
      "Var:  0.002781641168289495\n",
      "Strike: 4\n",
      "valorAnterior: 514.8807368421052; valorAtual: 512.5003358395991\n",
      "Var:  0.004623208506703391\n",
      "Strike: 5\n",
      "valorAnterior: 512.2622957393485; valorAtual: 517.7372180451127\n",
      "Var:  0.01068773234200715\n",
      "Strike: 6\n",
      "valorAnterior: 507.5014937343359; valorAtual: 514.404656641604\n",
      "Var:  0.013602251407129229\n",
      "Strike: 0\n",
      "valorAnterior: 508.45365413533835; valorAtual: 511.54817543859656\n",
      "Var:  0.006086142322097476\n",
      "Strike: 0\n",
      "valorAnterior: 511.54817543859645; valorAtual: 511.07209523809524\n",
      "Var:  0.0009306654257793534\n",
      "Strike: 1\n",
      "valorAnterior: 510.59601503759404; valorAtual: 515.3568170426066\n",
      "Var:  0.009324009324009452\n",
      "Strike: 2\n",
      "valorAnterior: 510.35797493734344; valorAtual: 512.0242556390978\n",
      "Var:  0.0032649253731342753\n",
      "Strike: 3\n",
      "valorAnterior: 514.1666165413534; valorAtual: 515.3568170426066\n",
      "Var:  0.0023148148148151027\n",
      "Strike: 4\n",
      "valorAnterior: 514.8807368421053; valorAtual: 515.3568170426066\n",
      "Var:  0.0009246417013408781\n",
      "Strike: 5\n",
      "valorAnterior: 512.5003358395991; valorAtual: 516.8430236702868\n",
      "Var:  0.0084735316779323\n",
      "Strike: 6\n",
      "valorAnterior: 517.7372180451127; valorAtual: 518.9274185463659\n",
      "Var:  0.0022988505747125743\n",
      "Strike: 7\n",
      "valorAnterior: 514.404656641604; valorAtual: 526.7827418546366\n",
      "Var:  0.02406293382693203\n",
      "Strike: 8\n",
      "valorAnterior: 511.54817543859656; valorAtual: 527.2588220551378\n",
      "Var:  0.030711959050720994\n",
      "Strike: 0\n",
      "valorAnterior: 511.07209523809524; valorAtual: 524.640380952381\n",
      "Var:  0.026548672566371723\n",
      "Strike: 0\n",
      "valorAnterior: 515.3568170426066; valorAtual: 524.4023408521304\n",
      "Var:  0.017551963048498598\n",
      "Strike: 0\n",
      "valorAnterior: 512.0242556390978; valorAtual: 524.8784210526317\n",
      "Var:  0.025104602510460428\n",
      "Strike: 0\n",
      "valorAnterior: 515.3568170426066; valorAtual: 523.6882205513784\n",
      "Var:  0.016166281755195966\n",
      "Strike: 0\n",
      "valorAnterior: 515.3568170426066; valorAtual: 523.6882205513784\n",
      "Var:  0.016166281755195966\n",
      "Strike: 0\n",
      "valorAnterior: 516.8430236702868; valorAtual: 523.6882205513784\n",
      "Var:  0.013244247416713595\n",
      "Strike: 0\n",
      "valorAnterior: 518.9274185463659; valorAtual: 525.5925413533835\n",
      "Var:  0.012844036697247763\n",
      "Strike: 0\n",
      "valorAnterior: 526.7827418546366; valorAtual: 530.3533433583962\n",
      "Var:  0.006778129236331143\n",
      "Strike: 0\n",
      "valorAnterior: 527.2588220551378; valorAtual: 529.8772631578947\n",
      "Var:  0.004966139954853288\n",
      "Strike: 1\n",
      "valorAnterior: 524.640380952381; valorAtual: 532.2576641604011\n",
      "Var:  0.014519056261343088\n",
      "Strike: 2\n",
      "valorAnterior: 524.4023408521304; valorAtual: 532.4957042606517\n",
      "Var:  0.015433499773036763\n",
      "Strike: 0\n",
      "valorAnterior: 524.8784210526317; valorAtual: 527.2588220551379\n",
      "Var:  0.0045351473922901064\n",
      "Strike: 0\n",
      "valorAnterior: 523.6882205513784; valorAtual: 527.7349022556391\n",
      "Var:  0.007727272727272805\n",
      "Strike: 1\n",
      "valorAnterior: 523.6882205513784; valorAtual: 531.9248388749653\n",
      "Var:  0.01572809545900178\n",
      "Strike: 2\n",
      "valorAnterior: 523.6882205513784; valorAtual: 527.7349022556391\n",
      "Var:  0.007727272727272805\n",
      "Strike: 0\n",
      "valorAnterior: 525.5925413533835; valorAtual: 523.6882205513784\n",
      "Var:  0.0036231884057971175\n",
      "Strike: 1\n",
      "valorAnterior: 530.3533433583962; valorAtual: 528.6870626566416\n",
      "Var:  0.0031418312387794245\n",
      "Strike: 2\n",
      "valorAnterior: 529.8772631578947; valorAtual: 531.0674636591478\n",
      "Var:  0.002246181491464494\n",
      "Strike: 3\n",
      "valorAnterior: 532.2576641604011; valorAtual: 531.5435438596492\n",
      "Var:  0.0013416815742397503\n",
      "Strike: 4\n",
      "valorAnterior: 532.4957042606517; valorAtual: 527.2588220551378\n",
      "Var:  0.009834599910594766\n",
      "Strike: 5\n",
      "valorAnterior: 527.2588220551379; valorAtual: 525.3545012531329\n",
      "Var:  0.0036117381489841893\n",
      "Strike: 6\n",
      "valorAnterior: 527.7349022556391; valorAtual: 528.2494670008355\n",
      "Var:  0.0009750439908313702\n",
      "Strike: 7\n",
      "valorAnterior: 531.9248388749653; valorAtual: 523.9262606516291\n",
      "Var:  0.015037045910947455\n",
      "Strike: 8\n",
      "valorAnterior: 527.7349022556391; valorAtual: 525.5925413533836\n",
      "Var:  0.004059539918808919\n",
      "Strike: 0\n",
      "valorAnterior: 523.6882205513784; valorAtual: 526.3066616541354\n",
      "Var:  0.0050000000000001155\n",
      "Strike: 1\n",
      "valorAnterior: 528.6870626566416; valorAtual: 527.4968621553886\n",
      "Var:  0.00225123818099926\n",
      "Strike: 2\n",
      "valorAnterior: 531.0674636591478; valorAtual: 528.2109824561403\n",
      "Var:  0.00537875392200815\n",
      "Strike: 3\n",
      "valorAnterior: 531.5435438596492; valorAtual: 530.3533433583959\n",
      "Var:  0.0022391401701747915\n",
      "Strike: 4\n",
      "valorAnterior: 527.2588220551378; valorAtual: 527.4968621553885\n",
      "Var:  0.00045146726862310693\n",
      "Strike: 5\n",
      "valorAnterior: 525.3545012531329; valorAtual: 525.5925413533836\n",
      "Var:  0.00045310376076135306\n",
      "Strike: 6\n",
      "valorAnterior: 528.2494670008355; valorAtual: 532.257664160401\n",
      "Var:  0.00758769749891508\n",
      "Strike: 7\n",
      "valorAnterior: 523.9262606516291; valorAtual: 535.5902255639097\n",
      "Var:  0.022262607905497278\n",
      "Strike: 8\n",
      "valorAnterior: 525.5925413533836; valorAtual: 533.9239448621554\n",
      "Var:  0.015851449275362084\n",
      "Strike: 0\n",
      "valorAnterior: 526.3066616541354; valorAtual: 533.2098245614036\n",
      "Var:  0.013116236996834063\n",
      "Strike: 0\n",
      "valorAnterior: 527.4968621553886; valorAtual: 530.5745664160402\n",
      "Var:  0.005834545153644788\n",
      "Strike: 0\n",
      "valorAnterior: 528.2109824561403; valorAtual: 531.7624812030075\n",
      "Var:  0.006723636699776714\n",
      "Strike: 1\n",
      "valorAnterior: 530.3533433583959; valorAtual: 528.9082857142857\n",
      "Var:  0.0027247073337174355\n",
      "Strike: 2\n",
      "valorAnterior: 527.4968621553885; valorAtual: 529.4011829573935\n",
      "Var:  0.0036101083032491488\n",
      "Strike: 3\n",
      "valorAnterior: 525.5925413533836; valorAtual: 529.8772631578947\n",
      "Var:  0.008152173913043237\n",
      "Strike: 4\n",
      "valorAnterior: 532.257664160401; valorAtual: 525.5925413533835\n",
      "Var:  0.012522361359570522\n",
      "Strike: 5\n",
      "valorAnterior: 535.5902255639097; valorAtual: 530.5913834586466\n",
      "Var:  0.009333333333333194\n",
      "Strike: 0\n",
      "valorAnterior: 533.9239448621554; valorAtual: 533.2098245614036\n",
      "Var:  0.0013374944271064004\n",
      "Strike: 1\n",
      "valorAnterior: 533.2098245614036; valorAtual: 529.1631428571429\n",
      "Var:  0.007589285714285743\n",
      "Strike: 2\n",
      "valorAnterior: 530.5745664160402; valorAtual: 527.4968621553885\n",
      "Var:  0.0058007007034678315\n",
      "Strike: 3\n",
      "valorAnterior: 531.7624812030075; valorAtual: 528.9251027568923\n",
      "Var:  0.005335800374062005\n",
      "Strike: 4\n",
      "valorAnterior: 528.9082857142857; valorAtual: 529.6392230576441\n",
      "Var:  0.001381973705273376\n",
      "Strike: 5\n",
      "valorAnterior: 529.4011829573935; valorAtual: 534.6939941520467\n",
      "Var:  0.009997732088708133\n",
      "Strike: 6\n",
      "valorAnterior: 529.8772631578947; valorAtual: 531.1776920077973\n",
      "Var:  0.0024542076822704484\n",
      "Strike: 7\n",
      "valorAnterior: 525.5925413533835; valorAtual: 531.2903648008911\n",
      "Var:  0.010840761615140027\n",
      "Strike: 8\n",
      "valorAnterior: 530.5913834586466; valorAtual: 531.5843338902812\n",
      "Var:  0.0018714032353146504\n",
      "Strike: 0\n",
      "valorAnterior: 533.2098245614036; valorAtual: 532.0595992759677\n",
      "Var:  0.002157171965805449\n",
      "Strike: 1\n",
      "valorAnterior: 529.1631428571429; valorAtual: 531.1090685045948\n",
      "Var:  0.0036773642943934703\n",
      "Strike: 2\n",
      "valorAnterior: 527.4968621553885; valorAtual: 536.5746204399888\n",
      "Var:  0.01720912281356135\n",
      "Strike: 3\n",
      "valorAnterior: 528.9251027568923; valorAtual: 533.9606608187134\n",
      "Var:  0.009520361267738142\n",
      "Strike: 0\n",
      "valorAnterior: 529.6392230576441; valorAtual: 533.2477627401838\n",
      "Var:  0.006813203262604484\n",
      "Strike: 1\n",
      "valorAnterior: 534.6939941520467; valorAtual: 527.06931272626\n",
      "Var:  0.014259897266806543\n",
      "Strike: 2\n",
      "valorAnterior: 531.1776920077973; valorAtual: 529.9209050403787\n",
      "Var:  0.0023660386840947956\n",
      "Strike: 0\n",
      "valorAnterior: 531.2903648008911; valorAtual: 528.4951088833194\n",
      "Var:  0.005261258443147621\n",
      "Strike: 1\n",
      "valorAnterior: 531.5843338902812; valorAtual: 533.0101300473405\n",
      "Var:  0.0026821636119802594\n",
      "Strike: 2\n",
      "valorAnterior: 532.0595992759677; valorAtual: 537.762783904205\n",
      "Var:  0.010719071013845616\n",
      "Strike: 3\n",
      "valorAnterior: 531.1090685045948; valorAtual: 537.1207067669174\n",
      "Var:  0.011319027707903828\n",
      "Strike: 0\n",
      "valorAnterior: 536.5746204399888; valorAtual: 538.3580924533557\n",
      "Var:  0.003323809858737592\n",
      "Strike: 0\n",
      "valorAnterior: 533.9606608187134; valorAtual: 537.609783904205\n",
      "Var:  0.006834067288583379\n",
      "Strike: 1\n",
      "valorAnterior: 533.2477627401838; valorAtual: 536.3369877471457\n",
      "Var:  0.005793226381461736\n",
      "Strike: 2\n",
      "valorAnterior: 527.06931272626; valorAtual: 535.3864569757727\n",
      "Var:  0.015779981965734935\n",
      "Strike: 3\n",
      "valorAnterior: 529.9209050403787; valorAtual: 539.1885800612642\n",
      "Var:  0.01748878923766828\n",
      "Strike: 0\n",
      "valorAnterior: 528.4951088833194; valorAtual: 534.109545252019\n",
      "Var:  0.010623440547184115\n",
      "Strike: 0\n",
      "valorAnterior: 533.0101300473405; valorAtual: 534.1821620718463\n",
      "Var:  0.002198892588404888\n",
      "Strike: 0\n",
      "valorAnterior: 537.762783904205; valorAtual: 532.9030598719021\n",
      "Var:  0.00903692887972063\n",
      "Strike: 1\n",
      "valorAnterior: 537.1207067669174; valorAtual: 534.8012007797272\n",
      "Var:  0.004318407311369454\n",
      "Strike: 2\n",
      "valorAnterior: 538.3580924533557; valorAtual: 537.6484121414649\n",
      "Var:  0.001318230972727985\n",
      "Strike: 3\n",
      "valorAnterior: 537.609783904205; valorAtual: 536.224806460596\n",
      "Var:  0.002576176038968314\n",
      "Strike: 4\n",
      "valorAnterior: 536.3369877471457; valorAtual: 535.2757360066835\n",
      "Var:  0.001978703249462588\n",
      "Strike: 5\n",
      "valorAnterior: 535.3864569757727; valorAtual: 529.3440456697299\n",
      "Var:  0.011286074250317246\n",
      "Strike: 6\n",
      "valorAnterior: 539.1885800612642; valorAtual: 522.7005524923421\n",
      "Var:  0.0305793337964404\n",
      "Strike: 0\n",
      "valorAnterior: 534.109545252019; valorAtual: 521.2769468114732\n",
      "Var:  0.024026154474529604\n",
      "Strike: 0\n",
      "valorAnterior: 534.1821620718463; valorAtual: 525.0732286271234\n",
      "Var:  0.01705211085558067\n",
      "Strike: 0\n",
      "valorAnterior: 532.9030598719021; valorAtual: 521.5142144249513\n",
      "Var:  0.021371326803205748\n",
      "Strike: 0\n",
      "valorAnterior: 534.8012007797272; valorAtual: 524.5986934001671\n",
      "Var:  0.019077196095829696\n",
      "Strike: 0\n",
      "valorAnterior: 537.6484121414649; valorAtual: 522.2260172653857\n",
      "Var:  0.028684907325684073\n",
      "Strike: 0\n",
      "valorAnterior: 536.224806460596; valorAtual: 522.9378201058202\n",
      "Var:  0.024778761061946986\n",
      "Strike: 0\n",
      "valorAnterior: 535.2757360066835; valorAtual: 520.5651439710389\n",
      "Var:  0.02748226950354593\n",
      "Strike: 0\n",
      "valorAnterior: 529.3440456697299; valorAtual: 516.5315945419104\n",
      "Var:  0.024204392649036177\n",
      "Strike: 0\n",
      "valorAnterior: 522.7005524923421; valorAtual: 517.0061297688668\n",
      "Var:  0.010894235133908303\n",
      "Strike: 0\n",
      "valorAnterior: 521.2769468114732; valorAtual: 517.9552002227792\n",
      "Var:  0.006372325898953091\n",
      "Strike: 0\n",
      "valorAnterior: 525.0732286271234; valorAtual: 520.0906087440824\n",
      "Var:  0.009489380930863267\n",
      "Strike: 1\n",
      "valorAnterior: 521.5142144249513; valorAtual: 521.039679197995\n",
      "Var:  0.0009099181073702889\n",
      "Strike: 2\n",
      "valorAnterior: 524.5986934001671; valorAtual: 521.2769468114732\n",
      "Var:  0.006331976481230184\n",
      "Strike: 3\n",
      "valorAnterior: 522.2260172653857; valorAtual: 519.1415382901699\n",
      "Var:  0.005906406179009505\n",
      "Strike: 4\n",
      "valorAnterior: 522.9378201058202; valorAtual: 518.9042706766917\n",
      "Var:  0.007713248638838599\n",
      "Strike: 5\n",
      "valorAnterior: 520.5651439710389; valorAtual: 514.6334536340853\n",
      "Var:  0.011394712853236233\n",
      "Strike: 6\n",
      "valorAnterior: 516.5315945419104; valorAtual: 520.0906087440824\n",
      "Var:  0.006890215893430973\n",
      "Strike: 0\n",
      "valorAnterior: 517.0061297688668; valorAtual: 518.9042706766918\n",
      "Var:  0.0036714089031664177\n",
      "Strike: 1\n",
      "valorAnterior: 517.9552002227792; valorAtual: 518.6670030632137\n",
      "Var:  0.0013742556115436955\n",
      "Strike: 2\n",
      "valorAnterior: 520.0906087440824; valorAtual: 516.7688621553885\n",
      "Var:  0.006386861313868342\n",
      "Strike: 3\n",
      "valorAnterior: 521.039679197995; valorAtual: 515.1079888610416\n",
      "Var:  0.011384335154826952\n",
      "Strike: 4\n",
      "valorAnterior: 521.2769468114732; valorAtual: 519.1415382901699\n",
      "Var:  0.004096495220755503\n",
      "Strike: 0\n",
      "valorAnterior: 519.1415382901699; valorAtual: 523.1750877192983\n",
      "Var:  0.007769652650822634\n",
      "Strike: 1\n",
      "valorAnterior: 518.9042706766917; valorAtual: 520.3278763575606\n",
      "Var:  0.002743484224965842\n",
      "Strike: 2\n",
      "valorAnterior: 514.6334536340853; valorAtual: 516.2943269284323\n",
      "Var:  0.0032272936837252075\n",
      "Strike: 3\n",
      "valorAnterior: 520.0906087440824; valorAtual: 515.5825240879979\n",
      "Var:  0.008667883211678551\n",
      "Strike: 4\n",
      "valorAnterior: 518.9042706766918; valorAtual: 518.4297354497355\n",
      "Var:  0.0009144947416552807\n",
      "Strike: 5\n",
      "valorAnterior: 518.6670030632137; valorAtual: 519.1415382901699\n",
      "Var:  0.0009149130832570851\n",
      "Strike: 6\n",
      "valorAnterior: 516.7688621553885; valorAtual: 521.9887496519075\n",
      "Var:  0.010101010101009722\n",
      "Strike: 7\n",
      "valorAnterior: 515.1079888610416; valorAtual: 520.8024115845168\n",
      "Var:  0.011054813450022793\n",
      "Strike: 0\n",
      "valorAnterior: 519.1415382901699; valorAtual: 523.4123553327763\n",
      "Var:  0.008226691042047207\n",
      "Strike: 0\n",
      "valorAnterior: 523.1750877192983; valorAtual: 525.0732286271234\n",
      "Var:  0.0036281179138322184\n",
      "Strike: 1\n",
      "valorAnterior: 520.3278763575606; valorAtual: 522.7005524923421\n",
      "Var:  0.004559963520291976\n",
      "Strike: 2\n",
      "valorAnterior: 516.2943269284323; valorAtual: 517.480664995823\n",
      "Var:  0.0022977941176469674\n",
      "Strike: 3\n",
      "valorAnterior: 515.5825240879979; valorAtual: 520.0906087440824\n",
      "Var:  0.00874367234238349\n",
      "Strike: 4\n",
      "valorAnterior: 518.4297354497355; valorAtual: 518.9042706766917\n",
      "Var:  0.0009153318077801398\n",
      "Strike: 5\n",
      "valorAnterior: 519.1415382901699; valorAtual: 519.3788059036481\n",
      "Var:  0.0004570383912247955\n",
      "Strike: 6\n",
      "valorAnterior: 521.9887496519075; valorAtual: 516.2943269284322\n",
      "Var:  0.010909090909090868\n",
      "Strike: 7\n",
      "valorAnterior: 520.8024115845168; valorAtual: 518.4297354497355\n",
      "Var:  0.00455580865603622\n",
      "Strike: 0\n",
      "valorAnterior: 523.4123553327763; valorAtual: 518.9042706766918\n",
      "Var:  0.00861287398005417\n",
      "Strike: 1\n",
      "valorAnterior: 525.0732286271234; valorAtual: 517.0061297688667\n",
      "Var:  0.015363759602349703\n",
      "Strike: 2\n",
      "valorAnterior: 522.7005524923421; valorAtual: 514.158918407129\n",
      "Var:  0.016341352700862566\n",
      "Strike: 0\n",
      "valorAnterior: 517.480664995823; valorAtual: 510.5999042049569\n",
      "Var:  0.0132966529115085\n",
      "Strike: 0\n",
      "valorAnterior: 520.0906087440824; valorAtual: 510.12536897800055\n",
      "Var:  0.019160583941605802\n",
      "Strike: 0\n",
      "valorAnterior: 518.9042706766917; valorAtual: 511.54897465886944\n",
      "Var:  0.014174668495655962\n",
      "Strike: 0\n",
      "valorAnterior: 519.3788059036481; valorAtual: 511.5489746588695\n",
      "Var:  0.015075376884422065\n",
      "Strike: 0\n",
      "valorAnterior: 516.2943269284322; valorAtual: 514.158918407129\n",
      "Var:  0.004136029411764497\n",
      "Strike: 0\n",
      "valorAnterior: 518.4297354497355; valorAtual: 512.2607774993039\n",
      "Var:  0.011899313501144149\n",
      "Strike: 1\n",
      "valorAnterior: 518.9042706766918; valorAtual: 509.65083375104433\n",
      "Var:  0.017832647462277085\n",
      "Strike: 0\n",
      "valorAnterior: 517.0061297688667; valorAtual: 508.4644956836536\n",
      "Var:  0.016521340064249768\n",
      "Strike: 0\n",
      "valorAnterior: 514.158918407129; valorAtual: 515.819791701476\n",
      "Var:  0.0032302722658053007\n",
      "Strike: 0\n",
      "valorAnterior: 510.5999042049569; valorAtual: 510.837171818435\n",
      "Var:  0.0004646840148698761\n",
      "Strike: 1\n",
      "valorAnterior: 510.12536897800055; valorAtual: 510.837171818435\n",
      "Var:  0.0013953488372093759\n",
      "Strike: 2\n",
      "valorAnterior: 511.54897465886944; valorAtual: 512.9725803397382\n",
      "Var:  0.0027829313543596967\n",
      "Strike: 3\n",
      "valorAnterior: 511.5489746588695; valorAtual: 515.1079888610416\n",
      "Var:  0.006957328385899686\n",
      "Strike: 4\n",
      "valorAnterior: 514.158918407129; valorAtual: 511.54897465886944\n",
      "Var:  0.005076142131979822\n",
      "Strike: 5\n",
      "valorAnterior: 512.2607774993039; valorAtual: 509.65083375104433\n",
      "Var:  0.00509495136637339\n",
      "Strike: 6\n",
      "valorAnterior: 509.65083375104433; valorAtual: 510.3626365914788\n",
      "Var:  0.0013966480446927498\n",
      "Strike: 7\n",
      "valorAnterior: 508.4644956836536; valorAtual: 511.31170704539124\n",
      "Var:  0.005599626691553894\n",
      "Strike: 8\n",
      "valorAnterior: 515.819791701476; valorAtual: 514.8707212475634\n",
      "Var:  0.0018399264029438367\n",
      "Strike: 9\n",
      "valorAnterior: 510.837171818435; valorAtual: 515.5825240879979\n",
      "Var:  0.009289363678588014\n",
      "Strike: 10\n"
     ]
    }
   ],
   "source": [
    "paiDeTodos.gerarPopulacao(n_individuos=n_individuos,n_caminhoes=n_caminhoes,pacotes=pacotes, capacidade = capacidade)\n",
    "paiDeTodos.Evoluir(max_geracoes=max_geracoes, min_variacao=0.01, strikes = 10, origem = origem)"
   ]
  },
  {
   "cell_type": "code",
   "execution_count": 104,
   "id": "0a440b85",
   "metadata": {},
   "outputs": [],
   "source": [
    "%matplotlib inline\n",
    "import pandas as pd\n",
    "import matplotlib.pyplot as plt\n",
    "plt.rcParams['figure.figsize'] = [25, 10]"
   ]
  },
  {
   "cell_type": "code",
   "execution_count": 130,
   "id": "8e5a0790",
   "metadata": {},
   "outputs": [],
   "source": [
    "df = pd.DataFrame(paiDeTodos.fitnessGeracoes)\n",
    "df = df.melt()"
   ]
  },
  {
   "cell_type": "code",
   "execution_count": 131,
   "id": "776a02fa",
   "metadata": {},
   "outputs": [
    {
     "data": {
      "text/plain": [
       "<AxesSubplot:title={'center':'value'}, xlabel='[variable]'>"
      ]
     },
     "execution_count": 131,
     "metadata": {},
     "output_type": "execute_result"
    },
    {
     "data": {
      "image/png": "[encoded data removed]",
      "text/plain": [
       "<Figure size 1800x720 with 1 Axes>"
      ]
     },
     "metadata": {
      "needs_background": "light"
     },
     "output_type": "display_data"
    }
   ],
   "source": [
    "df.loc[((df['variable'] >= 0)&(df['variable'] <= 1000))].boxplot(by='variable')"
   ]
  }
 ],
 "metadata": {
  "kernelspec": {
   "display_name": "Python 3",
   "language": "python",
   "name": "python3"
  },
  "language_info": {
   "codemirror_mode": {
    "name": "ipython",
    "version": 3
   },
   "file_extension": ".py",
   "mimetype": "text/x-python",
   "name": "python",
   "nbconvert_exporter": "python",
   "pygments_lexer": "ipython3",
   "version": "3.9.5"
  }
 },
 "nbformat": 4,
 "nbformat_minor": 5
}
